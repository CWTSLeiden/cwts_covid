{
 "cells": [
  {
   "cell_type": "markdown",
   "metadata": {},
   "source": [
    "# CORD-19 citation network analysis\n",
    "\n",
    "In this notebook, we build a bibliographic coupling citation network of CORD-19 publications, using Dimensions data, and perform clustering using the Leiden algorithm."
   ]
  },
  {
   "cell_type": "code",
   "execution_count": 3,
   "metadata": {},
   "outputs": [],
   "source": [
    "%matplotlib inline\n",
    "import matplotlib.pyplot as plt\n",
    "\n",
    "# magics and warnings\n",
    "%load_ext autoreload\n",
    "%autoreload 2\n",
    "import warnings; warnings.simplefilter('ignore')\n",
    "\n",
    "import os, random, codecs, time, pickle\n",
    "import ujson as json\n",
    "from tqdm.notebook import tqdm\n",
    "import pandas as pd\n",
    "import numpy as np\n",
    "\n",
    "seed = 99\n",
    "random.seed(seed)\n",
    "np.random.seed(seed)\n",
    "\n",
    "import nltk, sklearn\n",
    "import matplotlib.pyplot as plt\n",
    "import seaborn as sns\n",
    "sns.set(style=\"white\")\n",
    "sns.set_context(\"notebook\", font_scale=1.2, rc={\"lines.linewidth\": 2.5})"
   ]
  },
  {
   "cell_type": "code",
   "execution_count": 4,
   "metadata": {},
   "outputs": [],
   "source": [
    "# dataset Dimensions: source of citation data\n",
    "\n",
    "json_sources = \"datasets_output/json_dimensions_cwts\""
   ]
  },
  {
   "cell_type": "code",
   "execution_count": 5,
   "metadata": {},
   "outputs": [],
   "source": [
    "# get the list of DOIs to filter papers in CORD-19\n",
    "\n",
    "cord_19_dois = pickle.load(open(\"datasets_output/networks/cord-19-dois.pk\",\"rb\"))"
   ]
  },
  {
   "cell_type": "code",
   "execution_count": 204,
   "metadata": {
    "scrolled": false
   },
   "outputs": [
    {
     "name": "stdout",
     "output_type": "stream",
     "text": [
      "Could not convert data.\n"
     ]
    }
   ],
   "source": [
    "# build networks and node metadata\n",
    "from collections import OrderedDict\n",
    "import sys\n",
    "\n",
    "metadata = list()\n",
    "metadata_dict = dict()\n",
    "citations = OrderedDict()\n",
    "total_publications = 0\n",
    "\n",
    "for root, dirs, files in os.walk(json_sources):\n",
    "    for f in files:\n",
    "        all_data = codecs.open(os.path.join(root,f),encoding='latin1').read()\n",
    "        for line in all_data.split(\"\\n\"):\n",
    "            total_publications += 1\n",
    "            if line:\n",
    "                try:\n",
    "                    data = json.loads(line)\n",
    "                    if \"doi\" in data.keys() and data[\"doi\"] in cord_19_dois: # filter by DOIs in CORD-19\n",
    "                        if \"references\" in data.keys() and len(data[\"references\"])>0: # filter out papers without outbound citations\n",
    "                            title = \"\"\n",
    "                            year = \"\"\n",
    "                            doi = \"\"\n",
    "                            times_cited = \"\"\n",
    "                            journal = \"\"\n",
    "                            if \"title\" in data.keys() and data[\"title\"]:\n",
    "                                title = data[\"title\"].replace('\"',\"\")\n",
    "                            if \"journal\" in data.keys() and \"title\" in data[\"journal\"].keys() and data[\"journal\"][\"title\"]:\n",
    "                                jorunal = data[\"journal\"][\"title\"]\n",
    "                            if \"year\" in data.keys() and data[\"year\"]:\n",
    "                                year = str(data[\"year\"])\n",
    "                            if \"doi\" in data.keys() and data[\"doi\"]:\n",
    "                                doi = data[\"doi\"]\n",
    "                            if \"times_cited\" in data.keys():\n",
    "                                times_cited = str(data[\"times_cited\"])\n",
    "                            metadata.append((data[\"id\"],'\"'+title+'\"',year,'\"'+doi+'\"','\"'+journal+'\"',times_cited))\n",
    "                            metadata_dict[data[\"id\"]] = {\"title\":title,\"year\":year,\"doi\":doi,\"journal\":journal,\"times_cited\":times_cited}\n",
    "                            citations[data[\"id\"]] = data[\"references\"]\n",
    "                except ValueError:\n",
    "                    print(\"Could not convert data.\")\n",
    "                except:\n",
    "                    print(line)\n",
    "                    continue"
   ]
  },
  {
   "cell_type": "code",
   "execution_count": 205,
   "metadata": {},
   "outputs": [
    {
     "data": {
      "text/plain": [
       "38754"
      ]
     },
     "execution_count": 205,
     "metadata": {},
     "output_type": "execute_result"
    }
   ],
   "source": [
    "len(citations)"
   ]
  },
  {
   "cell_type": "code",
   "execution_count": 6,
   "metadata": {},
   "outputs": [
    {
     "data": {
      "text/plain": [
       "43956"
      ]
     },
     "execution_count": 6,
     "metadata": {},
     "output_type": "execute_result"
    }
   ],
   "source": [
    "len(cord_19_dois)"
   ]
  },
  {
   "cell_type": "code",
   "execution_count": 206,
   "metadata": {},
   "outputs": [
    {
     "data": {
      "text/plain": [
       "50033"
      ]
     },
     "execution_count": 206,
     "metadata": {},
     "output_type": "execute_result"
    }
   ],
   "source": [
    "total_publications"
   ]
  },
  {
   "cell_type": "code",
   "execution_count": null,
   "metadata": {},
   "outputs": [],
   "source": [
    "# therefore:\n",
    "print(\"Not in CORD-19 \"+str(total_publications-len(cord_19_dois)))\n",
    "print(\"Without citations \"+str(len(cord_19_dois)-len(citations)))"
   ]
  },
  {
   "cell_type": "code",
   "execution_count": 207,
   "metadata": {},
   "outputs": [],
   "source": [
    "# create directed network"
   ]
  },
  {
   "cell_type": "code",
   "execution_count": 208,
   "metadata": {},
   "outputs": [
    {
     "data": {
      "application/vnd.jupyter.widget-view+json": {
       "model_id": "e89d1c5cc57544539bf13f731383b33c",
       "version_major": 2,
       "version_minor": 0
      },
      "text/plain": [
       "HBox(children=(FloatProgress(value=1.0, bar_style='info', max=1.0), HTML(value='')))"
      ]
     },
     "metadata": {},
     "output_type": "display_data"
    },
    {
     "name": "stdout",
     "output_type": "stream",
     "text": [
      "\n"
     ]
    }
   ],
   "source": [
    "# create bibc network\n",
    "# this is a super naive method, and takes a while\n",
    "\n",
    "bibc_edge_list = list()\n",
    "items = [(k,v) for k,v in citations.items()]\n",
    "\n",
    "for n,(k1,v1) in tqdm(enumerate(items)):\n",
    "    for k2,v2 in items[n+1:]:\n",
    "        edge_weight = len(set(v2).intersection(set(v1))) / len(set(v2).union(set(v1))) # fractional edge weight\n",
    "        if edge_weight > 0:\n",
    "            bibc_edge_list.append((k1,k2,str(edge_weight)))"
   ]
  },
  {
   "cell_type": "code",
   "execution_count": 209,
   "metadata": {},
   "outputs": [],
   "source": [
    "# export csv\n",
    "\n",
    "with open(\"datasets_output/networks/bib_coupling_sources_cord19_doi_edgelist_norm.csv\",\"w\") as f:\n",
    "    f.write(\"Source,Target,Weight\\n\")\n",
    "    for edge in bibc_edge_list:\n",
    "        #if float(edge[2])>1:\n",
    "        f.write(\",\".join(edge)+\"\\n\")"
   ]
  },
  {
   "cell_type": "code",
   "execution_count": 210,
   "metadata": {},
   "outputs": [],
   "source": [
    "with open(\"datasets_output/networks/bib_coupling_sources_cord19_doi_nodelist.csv\",\"w\") as f:\n",
    "    f.write(\"Id,Title,Year,DOI,Journal,Times_cited\\n\")\n",
    "    for node in metadata:\n",
    "        f.write(\",\".join(node)+\"\\n\")"
   ]
  },
  {
   "cell_type": "code",
   "execution_count": 211,
   "metadata": {},
   "outputs": [
    {
     "data": {
      "text/plain": [
       "11781927"
      ]
     },
     "execution_count": 211,
     "metadata": {},
     "output_type": "execute_result"
    }
   ],
   "source": [
    "len(bibc_edge_list)"
   ]
  },
  {
   "cell_type": "code",
   "execution_count": 212,
   "metadata": {},
   "outputs": [],
   "source": [
    "weight_list = [float(x[2]) for x in bibc_edge_list if float(x[2])>0]"
   ]
  },
  {
   "cell_type": "code",
   "execution_count": 213,
   "metadata": {},
   "outputs": [
    {
     "data": {
      "text/plain": [
       "0.0136986301369863"
      ]
     },
     "execution_count": 213,
     "metadata": {},
     "output_type": "execute_result"
    }
   ],
   "source": [
    "np.median(weight_list)"
   ]
  },
  {
   "cell_type": "code",
   "execution_count": 214,
   "metadata": {},
   "outputs": [
    {
     "data": {
      "text/plain": [
       "<matplotlib.axes._subplots.AxesSubplot at 0x1ab1029690>"
      ]
     },
     "execution_count": 214,
     "metadata": {},
     "output_type": "execute_result"
    },
    {
     "data": {
      "image/png": "[encoded data removed]",
      "text/plain": [
       "<Figure size 432x288 with 1 Axes>"
      ]
     },
     "metadata": {},
     "output_type": "display_data"
    }
   ],
   "source": [
    "sns.distplot(weight_list)"
   ]
  },
  {
   "cell_type": "code",
   "execution_count": 215,
   "metadata": {},
   "outputs": [],
   "source": [
    "import igraph as ig"
   ]
  },
  {
   "cell_type": "code",
   "execution_count": 216,
   "metadata": {},
   "outputs": [],
   "source": [
    "g = ig.Graph()"
   ]
  },
  {
   "cell_type": "code",
   "execution_count": 217,
   "metadata": {},
   "outputs": [],
   "source": [
    "edges = [(int(k[0].replace(\"pub.\",\"\")),int(k[1].replace(\"pub.\",\"\"))) for k in bibc_edge_list]\n",
    "nodes = list(set([k[0] for k in edges]).union(set([k[1] for k in edges])))\n",
    "weights = [float(k[2]) for k in bibc_edge_list]"
   ]
  },
  {
   "cell_type": "code",
   "execution_count": 218,
   "metadata": {},
   "outputs": [],
   "source": [
    "# mapping of nodes to identifiers for this stupud igraph to work\n",
    "\n",
    "node_map = {k:n for n,k in enumerate(nodes)}\n",
    "edges_int = [(node_map[k[0]],node_map[k[1]]) for k in edges]\n",
    "nodes_int = [node_map[k] for k in nodes]"
   ]
  },
  {
   "cell_type": "code",
   "execution_count": 219,
   "metadata": {},
   "outputs": [
    {
     "data": {
      "text/plain": [
       "38290"
      ]
     },
     "execution_count": 219,
     "metadata": {},
     "output_type": "execute_result"
    }
   ],
   "source": [
    "len(node_map)"
   ]
  },
  {
   "cell_type": "code",
   "execution_count": 220,
   "metadata": {},
   "outputs": [
    {
     "data": {
      "text/plain": [
       "'There are 464 disconnected publications (with references)'"
      ]
     },
     "execution_count": 220,
     "metadata": {},
     "output_type": "execute_result"
    }
   ],
   "source": [
    "\"There are \"+str(len(citations)-len(node_map))+\" disconnected publications (with references)\""
   ]
  },
  {
   "cell_type": "code",
   "execution_count": 221,
   "metadata": {},
   "outputs": [],
   "source": [
    "inverse_node_map = {n:k for k,n in node_map.items()}"
   ]
  },
  {
   "cell_type": "code",
   "execution_count": 222,
   "metadata": {},
   "outputs": [],
   "source": [
    "g.add_vertices(nodes_int)\n",
    "g.add_edges(edges_int)\n",
    "g.es[\"weight\"] = weights"
   ]
  },
  {
   "cell_type": "code",
   "execution_count": 223,
   "metadata": {},
   "outputs": [],
   "source": [
    "import leidenalg as la"
   ]
  },
  {
   "cell_type": "code",
   "execution_count": 224,
   "metadata": {},
   "outputs": [],
   "source": [
    "# 0.05 seems to find a relatively high modularity and reasonable sized clusters. Lowering it brings up one or two large clusters.\n",
    "\n",
    "partition = la.find_partition(g, la.CPMVertexPartition, resolution_parameter = 0.05)"
   ]
  },
  {
   "cell_type": "code",
   "execution_count": 225,
   "metadata": {},
   "outputs": [
    {
     "data": {
      "text/plain": [
       "11581408.800000027"
      ]
     },
     "execution_count": 225,
     "metadata": {},
     "output_type": "execute_result"
    }
   ],
   "source": [
    "partition.quality()"
   ]
  },
  {
   "cell_type": "code",
   "execution_count": 226,
   "metadata": {},
   "outputs": [
    {
     "data": {
      "text/plain": [
       "0.29706581071277316"
      ]
     },
     "execution_count": 226,
     "metadata": {},
     "output_type": "execute_result"
    }
   ],
   "source": [
    "partition.q"
   ]
  },
  {
   "cell_type": "code",
   "execution_count": 227,
   "metadata": {},
   "outputs": [
    {
     "data": {
      "text/plain": [
       "<matplotlib.axes._subplots.AxesSubplot at 0x1ace5ffad0>"
      ]
     },
     "execution_count": 227,
     "metadata": {},
     "output_type": "execute_result"
    },
    {
     "data": {
      "image/png": "[encoded data removed]",
      "text/plain": [
       "<Figure size 432x288 with 1 Axes>"
      ]
     },
     "metadata": {},
     "output_type": "display_data"
    }
   ],
   "source": [
    "sns.distplot([x for x in partition.membership if x<100], norm_hist=False, kde=False, bins=100)"
   ]
  },
  {
   "cell_type": "code",
   "execution_count": 228,
   "metadata": {},
   "outputs": [],
   "source": [
    "from collections import Counter\n",
    "\n",
    "c = Counter(partition.membership)"
   ]
  },
  {
   "cell_type": "code",
   "execution_count": 229,
   "metadata": {},
   "outputs": [
    {
     "data": {
      "text/plain": [
       "1601"
      ]
     },
     "execution_count": 229,
     "metadata": {},
     "output_type": "execute_result"
    }
   ],
   "source": [
    "len(c)"
   ]
  },
  {
   "cell_type": "code",
   "execution_count": 230,
   "metadata": {},
   "outputs": [
    {
     "data": {
      "text/plain": [
       "[(0, 6434),\n",
       " (1, 1995),\n",
       " (2, 1475),\n",
       " (3, 1127),\n",
       " (4, 999),\n",
       " (5, 987),\n",
       " (6, 879),\n",
       " (7, 877),\n",
       " (8, 807),\n",
       " (9, 714)]"
      ]
     },
     "execution_count": 230,
     "metadata": {},
     "output_type": "execute_result"
    }
   ],
   "source": [
    "c.most_common(10)"
   ]
  },
  {
   "cell_type": "code",
   "execution_count": 271,
   "metadata": {},
   "outputs": [],
   "source": [
    "which_cluster = 0\n",
    "pubs_zero = [\"pub.\"+str(inverse_node_map[n]) for n,x in enumerate(partition.membership) if x==which_cluster]"
   ]
  },
  {
   "cell_type": "code",
   "execution_count": 272,
   "metadata": {},
   "outputs": [
    {
     "data": {
      "text/plain": [
       "<matplotlib.axes._subplots.AxesSubplot at 0x1bab321d90>"
      ]
     },
     "execution_count": 272,
     "metadata": {},
     "output_type": "execute_result"
    },
    {
     "data": {
      "image/png": "[encoded data removed]",
      "text/plain": [
       "<Figure size 432x288 with 1 Axes>"
      ]
     },
     "metadata": {},
     "output_type": "display_data"
    }
   ],
   "source": [
    "sns.distplot([int(metadata_dict[p][\"year\"]) for p in pubs_zero], kde=False)"
   ]
  },
  {
   "cell_type": "code",
   "execution_count": 234,
   "metadata": {},
   "outputs": [],
   "source": [
    "clusters = dict()\n",
    "\n",
    "for m in range(len(c)):\n",
    "    clusters[m] = [metadata_dict[\"pub.\"+str(inverse_node_map[n])][\"doi\"] for n,x in enumerate(partition.membership) if x==m]"
   ]
  },
  {
   "cell_type": "code",
   "execution_count": 235,
   "metadata": {},
   "outputs": [],
   "source": [
    "import pickle\n",
    "pickle.dump(clusters,open(\"datasets_output/networks/clusters_doi.pk\",\"wb\"))"
   ]
  },
  {
   "cell_type": "code",
   "execution_count": 241,
   "metadata": {},
   "outputs": [],
   "source": [
    "# create network of clusters\n",
    "from collections import defaultdict\n",
    "\n",
    "cluster_size_limit = 99\n",
    "\n",
    "node_to_cluster_map = {n:cl for n,cl in enumerate(partition.membership) if c[cl]>cluster_size_limit} #focus only on clusters with 100+ papers\n",
    "\n",
    "edges_clusters_int = defaultdict(float)\n",
    "edges_clusters_count = defaultdict(float) # this is used to average\n",
    "\n",
    "for e,w in zip(edges_int,weights):\n",
    "    if e[0] in node_to_cluster_map.keys() and e[1] in node_to_cluster_map.keys():\n",
    "        if node_to_cluster_map[e[0]] != node_to_cluster_map[e[1]]: #only consider weights across clusters\n",
    "            edges_clusters_int[tuple(sorted([node_to_cluster_map[e[0]],node_to_cluster_map[e[1]]]))] += w\n",
    "            edges_clusters_count[tuple(sorted([node_to_cluster_map[e[0]],node_to_cluster_map[e[1]]]))] += 1"
   ]
  },
  {
   "cell_type": "code",
   "execution_count": 242,
   "metadata": {},
   "outputs": [
    {
     "data": {
      "text/plain": [
       "38290"
      ]
     },
     "execution_count": 242,
     "metadata": {},
     "output_type": "execute_result"
    }
   ],
   "source": [
    "len(node_map)"
   ]
  },
  {
   "cell_type": "code",
   "execution_count": 243,
   "metadata": {},
   "outputs": [
    {
     "data": {
      "text/plain": [
       "26510"
      ]
     },
     "execution_count": 243,
     "metadata": {},
     "output_type": "execute_result"
    }
   ],
   "source": [
    "len(node_to_cluster_map)"
   ]
  },
  {
   "cell_type": "code",
   "execution_count": 244,
   "metadata": {},
   "outputs": [
    {
     "data": {
      "text/plain": [
       "1072"
      ]
     },
     "execution_count": 244,
     "metadata": {},
     "output_type": "execute_result"
    }
   ],
   "source": [
    "len(edges_clusters_int.keys())"
   ]
  },
  {
   "cell_type": "code",
   "execution_count": 245,
   "metadata": {},
   "outputs": [],
   "source": [
    "# export edges and nodes for the cluster network\n",
    "\n",
    "with open(\"datasets_output/networks/cluster_bibc_nodes.csv\",\"w\") as f:\n",
    "    f.write(\"Id,Size\\n\")\n",
    "    for nc,s in c.items():\n",
    "        if s>cluster_size_limit:\n",
    "            f.write(\",\".join([str(nc),str(s)])+\"\\n\")\n",
    "        \n",
    "with open(\"datasets_output/networks/cluster_bibc_edges.csv\",\"w\") as f:\n",
    "    f.write(\"Source,Target,Weight\\n\")\n",
    "    for nc,w in edges_clusters_int.items():\n",
    "        f.write(\",\".join([str(nc[0]),str(nc[1]),str(w/edges_clusters_count[nc])])+\"\\n\") # relative edge weights\n",
    "        #f.write(\",\".join([str(nc[0]),str(nc[1]),str(w)])+\"\\n\") # absolute edge weights"
   ]
  },
  {
   "cell_type": "code",
   "execution_count": null,
   "metadata": {},
   "outputs": [],
   "source": []
  }
 ],
 "metadata": {
  "kernelspec": {
   "display_name": "Python 3",
   "language": "python",
   "name": "python3"
  },
  "language_info": {
   "codemirror_mode": {
    "name": "ipython",
    "version": 3
   },
   "file_extension": ".py",
   "mimetype": "text/x-python",
   "name": "python",
   "nbconvert_exporter": "python",
   "pygments_lexer": "ipython3",
   "version": "3.7.6"
  }
 },
 "nbformat": 4,
 "nbformat_minor": 4
}
