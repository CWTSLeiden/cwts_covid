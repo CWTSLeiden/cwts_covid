{
 "cells": [
  {
   "cell_type": "markdown",
   "metadata": {},
   "source": [
    "# COVID19-related literature SQL database\n",
    "\n",
    "In this notebook, we create a relational database dump of a set of COVID19-related publication datasets. These include:\n",
    "\n",
    "* CORD19: https://pages.semanticscholar.org/coronavirus-research\n",
    "* Dimensions: https://docs.google.com/spreadsheets/d/1-kTZJZ1GAhJ2m4GAIhw1ZdlgO46JpvX0ZQa232VWRmw/edit#gid=2034285255"
   ]
  },
  {
   "cell_type": "code",
   "execution_count": 1,
   "metadata": {},
   "outputs": [],
   "source": [
    "# magics, warnings and imports\n",
    "\n",
    "%load_ext autoreload\n",
    "%autoreload 2\n",
    "import warnings; warnings.simplefilter('ignore')\n",
    "\n",
    "import os, random, codecs, json, math, re\n",
    "import pandas as pd\n",
    "import numpy as np\n",
    "from tqdm.notebook import tqdm\n",
    "import pymysql\n",
    "from sqlalchemy import create_engine\n",
    "from sqlalchemy import Integer,String,Boolean,DateTime\n",
    "\n",
    "seed = 99\n",
    "random.seed(seed)\n",
    "np.random.seed(seed)\n",
    "\n",
    "import nltk, sklearn\n",
    "import matplotlib.pyplot as plt\n",
    "import seaborn as sns\n",
    "sns.set(style=\"white\")\n",
    "sns.set_context(\"notebook\", font_scale=1.2, rc={\"lines.linewidth\": 2.5})"
   ]
  },
  {
   "cell_type": "markdown",
   "metadata": {},
   "source": [
    "#### Load datasets"
   ]
  },
  {
   "cell_type": "code",
   "execution_count": 3,
   "metadata": {},
   "outputs": [],
   "source": [
    "# point here to the versions of the datasets you want to use\n",
    "dimensions_filename = \"datasets_input/Dimensions_01_07_2020.csv\"\n",
    "cord19_folder = \"datasets_input/CORD19_01_07_2020\"\n",
    "\n",
    "df_dimensions = pd.read_csv(dimensions_filename, dtype=str, sep=\";\")\n",
    "df_cord = pd.read_csv(os.path.join(cord19_folder,\"metadata.csv\"), dtype=str)"
   ]
  },
  {
   "cell_type": "code",
   "execution_count": 5,
   "metadata": {},
   "outputs": [
    {
     "data": {
      "text/plain": [
       "(169821, 19)"
      ]
     },
     "execution_count": 5,
     "metadata": {},
     "output_type": "execute_result"
    }
   ],
   "source": [
    "df_cord.shape"
   ]
  },
  {
   "cell_type": "code",
   "execution_count": 4,
   "metadata": {},
   "outputs": [
    {
     "data": {
      "text/plain": [
       "(61563, 31)"
      ]
     },
     "execution_count": 4,
     "metadata": {},
     "output_type": "execute_result"
    }
   ],
   "source": [
    "df_dimensions.shape"
   ]
  },
  {
   "cell_type": "markdown",
   "metadata": {},
   "source": [
    "### Prepare dataframes for ingestion"
   ]
  },
  {
   "cell_type": "markdown",
   "metadata": {},
   "source": [
    "#### Clean-up data frames"
   ]
  },
  {
   "cell_type": "markdown",
   "metadata": {},
   "source": [
    "##### Dimensions"
   ]
  },
  {
   "cell_type": "code",
   "execution_count": 6,
   "metadata": {},
   "outputs": [
    {
     "data": {
      "text/html": [
       "<div>\n",
       "<style scoped>\n",
       "    .dataframe tbody tr th:only-of-type {\n",
       "        vertical-align: middle;\n",
       "    }\n",
       "\n",
       "    .dataframe tbody tr th {\n",
       "        vertical-align: top;\n",
       "    }\n",
       "\n",
       "    .dataframe thead th {\n",
       "        text-align: right;\n",
       "    }\n",
       "</style>\n",
       "<table border=\"1\" class=\"dataframe\">\n",
       "  <thead>\n",
       "    <tr style=\"text-align: right;\">\n",
       "      <th></th>\n",
       "      <th>Date added</th>\n",
       "      <th>Publication ID</th>\n",
       "      <th>DOI</th>\n",
       "      <th>PMID</th>\n",
       "      <th>PMCID</th>\n",
       "      <th>Title</th>\n",
       "      <th>Abstract</th>\n",
       "      <th>Source title</th>\n",
       "      <th>Source UID</th>\n",
       "      <th>Publisher</th>\n",
       "      <th>...</th>\n",
       "      <th>Research Organizations - standardized</th>\n",
       "      <th>GRID IDs</th>\n",
       "      <th>City of Research organization</th>\n",
       "      <th>Country of Research organization</th>\n",
       "      <th>Funder</th>\n",
       "      <th>UIDs of supporting grants</th>\n",
       "      <th>Times cited</th>\n",
       "      <th>Altmetric</th>\n",
       "      <th>Source Linkout</th>\n",
       "      <th>Dimensions URL</th>\n",
       "    </tr>\n",
       "  </thead>\n",
       "  <tbody>\n",
       "    <tr>\n",
       "      <th>0</th>\n",
       "      <td>2020-06-24</td>\n",
       "      <td>pub.1128710293</td>\n",
       "      <td>10.4267/2042/70788</td>\n",
       "      <td>NaN</td>\n",
       "      <td>NaN</td>\n",
       "      <td>L’association hydroxychloroquine-azythromycine...</td>\n",
       "      <td>NaN</td>\n",
       "      <td>Bulletin de l Académie vétérinaire de France</td>\n",
       "      <td>jour.1082072</td>\n",
       "      <td>INIST-CNRS</td>\n",
       "      <td>...</td>\n",
       "      <td>NaN</td>\n",
       "      <td>NaN</td>\n",
       "      <td>NaN</td>\n",
       "      <td>NaN</td>\n",
       "      <td>NaN</td>\n",
       "      <td>NaN</td>\n",
       "      <td>0</td>\n",
       "      <td>NaN</td>\n",
       "      <td>http://documents.irevues.inist.fr/bitstream/20...</td>\n",
       "      <td>https://app.dimensions.ai/details/publication/...</td>\n",
       "    </tr>\n",
       "    <tr>\n",
       "      <th>1</th>\n",
       "      <td>2020-06-24</td>\n",
       "      <td>pub.1128679859</td>\n",
       "      <td>10.1038/s41590-020-0729-y</td>\n",
       "      <td>NaN</td>\n",
       "      <td>NaN</td>\n",
       "      <td>Nature Immunology turns 20</td>\n",
       "      <td>Twenty years ago, a new immunology journal was...</td>\n",
       "      <td>Nature Immunology</td>\n",
       "      <td>jour.1022778</td>\n",
       "      <td>NaN</td>\n",
       "      <td>...</td>\n",
       "      <td>NaN</td>\n",
       "      <td>NaN</td>\n",
       "      <td>NaN</td>\n",
       "      <td>NaN</td>\n",
       "      <td>NaN</td>\n",
       "      <td>NaN</td>\n",
       "      <td>0</td>\n",
       "      <td>NaN</td>\n",
       "      <td>https://www.nature.com/articles/s41590-020-072...</td>\n",
       "      <td>https://app.dimensions.ai/details/publication/...</td>\n",
       "    </tr>\n",
       "    <tr>\n",
       "      <th>2</th>\n",
       "      <td>2020-06-24</td>\n",
       "      <td>pub.1128683930</td>\n",
       "      <td>10.1002/alr.22646</td>\n",
       "      <td>32573106</td>\n",
       "      <td>NaN</td>\n",
       "      <td>Management of chronic rhinosinusitis with ster...</td>\n",
       "      <td>BACKGROUND: High-dose, high-volume steroid nas...</td>\n",
       "      <td>International Forum of Allergy &amp; Rhinology</td>\n",
       "      <td>jour.1044553</td>\n",
       "      <td>NaN</td>\n",
       "      <td>...</td>\n",
       "      <td>Temple University; University of Minnesota; Un...</td>\n",
       "      <td>grid.264727.2; grid.17635.36; grid.25879.31</td>\n",
       "      <td>Philadelphia; Minneapolis; Philadelphia</td>\n",
       "      <td>United States; United States; United States</td>\n",
       "      <td>NaN</td>\n",
       "      <td>NaN</td>\n",
       "      <td>0</td>\n",
       "      <td>1</td>\n",
       "      <td>NaN</td>\n",
       "      <td>https://app.dimensions.ai/details/publication/...</td>\n",
       "    </tr>\n",
       "    <tr>\n",
       "      <th>3</th>\n",
       "      <td>2020-06-24</td>\n",
       "      <td>pub.1128676970</td>\n",
       "      <td>10.1111/ejh.13475</td>\n",
       "      <td>NaN</td>\n",
       "      <td>NaN</td>\n",
       "      <td>COVID‐19 complicated by parainfluenza co‐infec...</td>\n",
       "      <td>The number of people suffering from the new co...</td>\n",
       "      <td>European Journal Of Haematology</td>\n",
       "      <td>jour.1018712</td>\n",
       "      <td>NaN</td>\n",
       "      <td>...</td>\n",
       "      <td>University Hospital Cologne</td>\n",
       "      <td>grid.411097.a</td>\n",
       "      <td>Cologne</td>\n",
       "      <td>Germany</td>\n",
       "      <td>NaN</td>\n",
       "      <td>NaN</td>\n",
       "      <td>0</td>\n",
       "      <td>2</td>\n",
       "      <td>NaN</td>\n",
       "      <td>https://app.dimensions.ai/details/publication/...</td>\n",
       "    </tr>\n",
       "    <tr>\n",
       "      <th>4</th>\n",
       "      <td>2020-06-24</td>\n",
       "      <td>pub.1128677370</td>\n",
       "      <td>10.1002/jcp.29870</td>\n",
       "      <td>32572955</td>\n",
       "      <td>NaN</td>\n",
       "      <td>Expression of NF‐κB, IL‐6, and IL‐10 genes, bo...</td>\n",
       "      <td>Nonalcoholic fatty liver disease (NAFLD) is on...</td>\n",
       "      <td>Journal of Cellular Physiology</td>\n",
       "      <td>jour.1005966</td>\n",
       "      <td>NaN</td>\n",
       "      <td>...</td>\n",
       "      <td>Tabriz University of Medical Sciences</td>\n",
       "      <td>grid.412888.f</td>\n",
       "      <td>Tabriz</td>\n",
       "      <td>Iran</td>\n",
       "      <td>Iran National Science Foundation</td>\n",
       "      <td>NaN</td>\n",
       "      <td>0</td>\n",
       "      <td>1</td>\n",
       "      <td>NaN</td>\n",
       "      <td>https://app.dimensions.ai/details/publication/...</td>\n",
       "    </tr>\n",
       "  </tbody>\n",
       "</table>\n",
       "<p>5 rows × 31 columns</p>\n",
       "</div>"
      ],
      "text/plain": [
       "   Date added  Publication ID                        DOI      PMID PMCID  \\\n",
       "0  2020-06-24  pub.1128710293         10.4267/2042/70788       NaN   NaN   \n",
       "1  2020-06-24  pub.1128679859  10.1038/s41590-020-0729-y       NaN   NaN   \n",
       "2  2020-06-24  pub.1128683930          10.1002/alr.22646  32573106   NaN   \n",
       "3  2020-06-24  pub.1128676970          10.1111/ejh.13475       NaN   NaN   \n",
       "4  2020-06-24  pub.1128677370          10.1002/jcp.29870  32572955   NaN   \n",
       "\n",
       "                                               Title  \\\n",
       "0  L’association hydroxychloroquine-azythromycine...   \n",
       "1                         Nature Immunology turns 20   \n",
       "2  Management of chronic rhinosinusitis with ster...   \n",
       "3  COVID‐19 complicated by parainfluenza co‐infec...   \n",
       "4  Expression of NF‐κB, IL‐6, and IL‐10 genes, bo...   \n",
       "\n",
       "                                            Abstract  \\\n",
       "0                                                NaN   \n",
       "1  Twenty years ago, a new immunology journal was...   \n",
       "2  BACKGROUND: High-dose, high-volume steroid nas...   \n",
       "3  The number of people suffering from the new co...   \n",
       "4  Nonalcoholic fatty liver disease (NAFLD) is on...   \n",
       "\n",
       "                                   Source title    Source UID   Publisher  \\\n",
       "0  Bulletin de l Académie vétérinaire de France  jour.1082072  INIST-CNRS   \n",
       "1                             Nature Immunology  jour.1022778         NaN   \n",
       "2    International Forum of Allergy & Rhinology  jour.1044553         NaN   \n",
       "3               European Journal Of Haematology  jour.1018712         NaN   \n",
       "4                Journal of Cellular Physiology  jour.1005966         NaN   \n",
       "\n",
       "   ...              Research Organizations - standardized  \\\n",
       "0  ...                                                NaN   \n",
       "1  ...                                                NaN   \n",
       "2  ...  Temple University; University of Minnesota; Un...   \n",
       "3  ...                        University Hospital Cologne   \n",
       "4  ...              Tabriz University of Medical Sciences   \n",
       "\n",
       "                                      GRID IDs  \\\n",
       "0                                          NaN   \n",
       "1                                          NaN   \n",
       "2  grid.264727.2; grid.17635.36; grid.25879.31   \n",
       "3                                grid.411097.a   \n",
       "4                                grid.412888.f   \n",
       "\n",
       "             City of Research organization  \\\n",
       "0                                      NaN   \n",
       "1                                      NaN   \n",
       "2  Philadelphia; Minneapolis; Philadelphia   \n",
       "3                                  Cologne   \n",
       "4                                   Tabriz   \n",
       "\n",
       "              Country of Research organization  \\\n",
       "0                                          NaN   \n",
       "1                                          NaN   \n",
       "2  United States; United States; United States   \n",
       "3                                      Germany   \n",
       "4                                         Iran   \n",
       "\n",
       "                             Funder UIDs of supporting grants Times cited  \\\n",
       "0                               NaN                       NaN           0   \n",
       "1                               NaN                       NaN           0   \n",
       "2                               NaN                       NaN           0   \n",
       "3                               NaN                       NaN           0   \n",
       "4  Iran National Science Foundation                       NaN           0   \n",
       "\n",
       "  Altmetric                                     Source Linkout  \\\n",
       "0       NaN  http://documents.irevues.inist.fr/bitstream/20...   \n",
       "1       NaN  https://www.nature.com/articles/s41590-020-072...   \n",
       "2         1                                                NaN   \n",
       "3         2                                                NaN   \n",
       "4         1                                                NaN   \n",
       "\n",
       "                                      Dimensions URL  \n",
       "0  https://app.dimensions.ai/details/publication/...  \n",
       "1  https://app.dimensions.ai/details/publication/...  \n",
       "2  https://app.dimensions.ai/details/publication/...  \n",
       "3  https://app.dimensions.ai/details/publication/...  \n",
       "4  https://app.dimensions.ai/details/publication/...  \n",
       "\n",
       "[5 rows x 31 columns]"
      ]
     },
     "execution_count": 6,
     "metadata": {},
     "output_type": "execute_result"
    }
   ],
   "source": [
    "df_dimensions.head()"
   ]
  },
  {
   "cell_type": "code",
   "execution_count": 7,
   "metadata": {},
   "outputs": [
    {
     "data": {
      "text/plain": [
       "Index(['Date added', 'Publication ID', 'DOI', 'PMID', 'PMCID', 'Title',\n",
       "       'Abstract', 'Source title', 'Source UID', 'Publisher', 'MeSH terms',\n",
       "       'Publication Date', 'PubYear', 'Volume', 'Issue', 'Pagination',\n",
       "       'Open Access', 'Publication Type', 'Authors', 'Corresponding Authors',\n",
       "       'Authors Affiliations', 'Research Organizations - standardized',\n",
       "       'GRID IDs', 'City of Research organization',\n",
       "       'Country of Research organization', 'Funder',\n",
       "       'UIDs of supporting grants', 'Times cited', 'Altmetric',\n",
       "       'Source Linkout', 'Dimensions URL'],\n",
       "      dtype='object')"
      ]
     },
     "execution_count": 7,
     "metadata": {},
     "output_type": "execute_result"
    }
   ],
   "source": [
    "df_dimensions.columns"
   ]
  },
  {
   "cell_type": "code",
   "execution_count": 8,
   "metadata": {},
   "outputs": [],
   "source": [
    "df_dimensions.drop(columns=['Date added', 'Publisher', 'Authors', 'Corresponding Authors',\n",
    "       'Authors Affiliations', 'Research Organizations - standardized',\n",
    "       'GRID IDs', 'City of Research organization',\n",
    "       'Country of Research organization', 'Funder',\n",
    "       'UIDs of supporting grants', 'Times cited', 'Altmetric',\n",
    "       'Source Linkout'], inplace=True)"
   ]
  },
  {
   "cell_type": "code",
   "execution_count": 9,
   "metadata": {},
   "outputs": [
    {
     "data": {
      "text/plain": [
       "Index(['Publication ID', 'DOI', 'PMID', 'PMCID', 'Title', 'Abstract',\n",
       "       'Source title', 'Source UID', 'MeSH terms', 'Publication Date',\n",
       "       'PubYear', 'Volume', 'Issue', 'Pagination', 'Open Access',\n",
       "       'Publication Type', 'Dimensions URL'],\n",
       "      dtype='object')"
      ]
     },
     "execution_count": 9,
     "metadata": {},
     "output_type": "execute_result"
    }
   ],
   "source": [
    "df_dimensions.columns"
   ]
  },
  {
   "cell_type": "code",
   "execution_count": 10,
   "metadata": {},
   "outputs": [],
   "source": [
    "df_dimensions.rename(columns={'Publication ID':'dimensions_id', 'DOI':'doi', 'PMID':'pmid', 'PMCID':'pmcid', 'Title':'title', 'Abstract':'abstract',\n",
    "       'Source title':'journal', 'Source UID':'source_uid', 'MeSH terms':'mesh_terms', 'Publication Date':'publication_date',\n",
    "       'PubYear':'publication_year', 'Volume':'volume', 'Issue':'issue', 'Pagination':'pages', 'Open Access':'open_access',\n",
    "       'Publication Type':'publication_type', 'Dimensions URL':'dimensions_url'}, inplace=True)"
   ]
  },
  {
   "cell_type": "code",
   "execution_count": 11,
   "metadata": {},
   "outputs": [
    {
     "data": {
      "text/plain": [
       "(23749, 17)"
      ]
     },
     "execution_count": 11,
     "metadata": {},
     "output_type": "execute_result"
    }
   ],
   "source": [
    "df_dimensions[pd.isnull(df_dimensions.abstract)].shape"
   ]
  },
  {
   "cell_type": "code",
   "execution_count": 12,
   "metadata": {},
   "outputs": [],
   "source": [
    "def get_year(date):\n",
    "    if isinstance(date,str) and len(date)>3 and date[:4].isdigit():\n",
    "        return date[:4]\n",
    "    return \"\"\n",
    "\n",
    "month_to_number = {\"Jan\":\"1\",\"Feb\":\"2\",\"Mar\":\"3\",\"Apr\":\"4\",\"May\":\"5\",\"Jun\":\"6\",\"Jul\":\"7\",\"Aug\":\"8\",\"Sep\":\"9\",\"Oct\":\"10\",\"Nov\":\"11\",\"Dec\":\"12\"}\n",
    "\n",
    "def get_month(date):\n",
    "    if isinstance(date,str) and len(date)>6:\n",
    "        if \"-\" in date and date.split(\"-\")[1].isdigit():\n",
    "            return str(int(date.split(\"-\")[1]))\n",
    "        else:\n",
    "            try:\n",
    "                return month_to_number[date.split()[1]]\n",
    "            except:\n",
    "                return \"\"\n",
    "    return \"\"\n",
    "\n",
    "def sanitize_string(s):\n",
    "    return \" \".join(s.split())"
   ]
  },
  {
   "cell_type": "code",
   "execution_count": 13,
   "metadata": {},
   "outputs": [],
   "source": [
    "df_dimensions[\"publication_year\"] = df_dimensions[\"publication_year\"].apply(get_year)\n",
    "df_dimensions[\"publication_month\"] = df_dimensions[\"publication_date\"].apply(get_month)\n",
    "df_dimensions[\"arxiv_id\"] = \"\""
   ]
  },
  {
   "cell_type": "code",
   "execution_count": 14,
   "metadata": {},
   "outputs": [],
   "source": [
    "df_dimensions.drop(columns=\"publication_date\", inplace=True)\n",
    "df_dimensions = df_dimensions.fillna('')"
   ]
  },
  {
   "cell_type": "markdown",
   "metadata": {},
   "source": [
    "Retrieve arXiv ID for Dimensions papers"
   ]
  },
  {
   "cell_type": "code",
   "execution_count": 15,
   "metadata": {},
   "outputs": [
    {
     "data": {
      "text/plain": [
       "'\\nimport requests, re\\n\\nfor index, row in df_dimensions[df_dimensions.journal==\"arXiv\"].iterrows():\\n    r = requests.get(row[\"dimensions_url\"])\\n    if r.status_code == 200:\\n        arxiv_url = re.search(\"https://arxiv.org/pdf/arXiv:[0-9]+.[0-9]+\",r.text).group()\\n        arxiv_id = arxiv_url.split(\":\")[-1]\\n        row[\"arxiv_id\"] = arxiv_id\\n'"
      ]
     },
     "execution_count": 15,
     "metadata": {},
     "output_type": "execute_result"
    }
   ],
   "source": [
    "# Sync option, quite slow\n",
    "\n",
    "\"\"\"\n",
    "import requests, re\n",
    "\n",
    "for index, row in df_dimensions[df_dimensions.journal==\"arXiv\"].iterrows():\n",
    "    r = requests.get(row[\"dimensions_url\"])\n",
    "    if r.status_code == 200:\n",
    "        arxiv_url = re.search(\"https://arxiv.org/pdf/arXiv:[0-9]+.[0-9]+\",r.text).group()\n",
    "        arxiv_id = arxiv_url.split(\":\")[-1]\n",
    "        row[\"arxiv_id\"] = arxiv_id\n",
    "\"\"\""
   ]
  },
  {
   "cell_type": "code",
   "execution_count": 16,
   "metadata": {
    "scrolled": false
   },
   "outputs": [],
   "source": [
    "# from https://towardsdatascience.com/fast-and-async-in-python-accelerate-your-requests-using-asyncio-62dafca83c33\n",
    "# aSync option, fast\n",
    "\n",
    "import aiohttp\n",
    "import requests\n",
    "import asyncio\n",
    "\n",
    "from aiohttp import ClientSession\n",
    "\n",
    "def extract_fields_from_response(response):\n",
    "    \"\"\"Extract arxiv id from API's response\"\"\"\n",
    "    search_res = re.search(\"arXiv:[0-9]+.[0-9]+\",response)\n",
    "    if search_res:\n",
    "        arxiv_url = search_res.group()\n",
    "        arxiv_id = arxiv_url.split(\":\")[-1]\n",
    "        return arxiv_id\n",
    "    return \"\"\n",
    "\n",
    "async def get_details_async(session, payload):   \n",
    "    response = await session.request(method='GET', url=payload[1][\"dimensions_url\"])\n",
    "    if response.status != 200:\n",
    "        print(payload[0], response.status)\n",
    "        pass\n",
    "    return await response.text()\n",
    "\n",
    "async def run_program(session, payload):\n",
    "    \"\"\"Wrapper for running program in an asynchronous manner\"\"\"\n",
    "    response = await get_details_async(session, payload)\n",
    "    arxiv_id = extract_fields_from_response(response)\n",
    "    return (arxiv_id,payload[1][\"dimensions_url\"])\n",
    "\n",
    "payloads = df_dimensions[df_dimensions.journal==\"arXiv\"]\n",
    "connector = aiohttp.TCPConnector(limit=5)\n",
    "async with aiohttp.ClientSession(connector=connector) as session:\n",
    "    results = await asyncio.gather(*[run_program(session, payload) for payload in payloads.iterrows()])"
   ]
  },
  {
   "cell_type": "code",
   "execution_count": 17,
   "metadata": {},
   "outputs": [],
   "source": [
    "df_tmp = pd.DataFrame.from_dict({\"arxiv_id\":[x[0] for x in results],\"dimensions_url\":[x[1] for x in results]})"
   ]
  },
  {
   "cell_type": "code",
   "execution_count": 18,
   "metadata": {},
   "outputs": [
    {
     "data": {
      "text/plain": [
       "(1349, 2)"
      ]
     },
     "execution_count": 18,
     "metadata": {},
     "output_type": "execute_result"
    }
   ],
   "source": [
    "df_tmp.shape"
   ]
  },
  {
   "cell_type": "code",
   "execution_count": 19,
   "metadata": {},
   "outputs": [],
   "source": [
    "df_dimensions = df_dimensions.merge(df_tmp, how=\"left\", left_on=\"dimensions_url\", right_on=\"dimensions_url\")\n",
    "df_dimensions.drop(columns=\"arxiv_id_x\", inplace=True)\n",
    "df_dimensions.rename(columns={\"arxiv_id_y\":\"arxiv_id\"}, inplace=True)\n",
    "df_dimensions = df_dimensions.fillna('')"
   ]
  },
  {
   "cell_type": "code",
   "execution_count": 20,
   "metadata": {},
   "outputs": [
    {
     "data": {
      "text/plain": [
       "(61563, 18)"
      ]
     },
     "execution_count": 20,
     "metadata": {},
     "output_type": "execute_result"
    }
   ],
   "source": [
    "df_dimensions.shape"
   ]
  },
  {
   "cell_type": "code",
   "execution_count": 21,
   "metadata": {},
   "outputs": [
    {
     "data": {
      "text/plain": [
       "(1349, 18)"
      ]
     },
     "execution_count": 21,
     "metadata": {},
     "output_type": "execute_result"
    }
   ],
   "source": [
    "df_dimensions[df_dimensions.journal==\"arXiv\"].shape"
   ]
  },
  {
   "cell_type": "code",
   "execution_count": 22,
   "metadata": {},
   "outputs": [
    {
     "data": {
      "text/html": [
       "<div>\n",
       "<style scoped>\n",
       "    .dataframe tbody tr th:only-of-type {\n",
       "        vertical-align: middle;\n",
       "    }\n",
       "\n",
       "    .dataframe tbody tr th {\n",
       "        vertical-align: top;\n",
       "    }\n",
       "\n",
       "    .dataframe thead th {\n",
       "        text-align: right;\n",
       "    }\n",
       "</style>\n",
       "<table border=\"1\" class=\"dataframe\">\n",
       "  <thead>\n",
       "    <tr style=\"text-align: right;\">\n",
       "      <th></th>\n",
       "      <th>dimensions_id</th>\n",
       "      <th>doi</th>\n",
       "      <th>pmid</th>\n",
       "      <th>pmcid</th>\n",
       "      <th>title</th>\n",
       "      <th>abstract</th>\n",
       "      <th>journal</th>\n",
       "      <th>source_uid</th>\n",
       "      <th>mesh_terms</th>\n",
       "      <th>publication_year</th>\n",
       "      <th>volume</th>\n",
       "      <th>issue</th>\n",
       "      <th>pages</th>\n",
       "      <th>open_access</th>\n",
       "      <th>publication_type</th>\n",
       "      <th>dimensions_url</th>\n",
       "      <th>publication_month</th>\n",
       "      <th>arxiv_id</th>\n",
       "    </tr>\n",
       "  </thead>\n",
       "  <tbody>\n",
       "    <tr>\n",
       "      <th>0</th>\n",
       "      <td>pub.1128710293</td>\n",
       "      <td>10.4267/2042/70788</td>\n",
       "      <td></td>\n",
       "      <td></td>\n",
       "      <td>L’association hydroxychloroquine-azythromycine...</td>\n",
       "      <td></td>\n",
       "      <td>Bulletin de l Académie vétérinaire de France</td>\n",
       "      <td>jour.1082072</td>\n",
       "      <td></td>\n",
       "      <td>2020</td>\n",
       "      <td></td>\n",
       "      <td>2</td>\n",
       "      <td></td>\n",
       "      <td>All OA; Hybrid</td>\n",
       "      <td>article</td>\n",
       "      <td>https://app.dimensions.ai/details/publication/...</td>\n",
       "      <td>1</td>\n",
       "      <td></td>\n",
       "    </tr>\n",
       "    <tr>\n",
       "      <th>1</th>\n",
       "      <td>pub.1128679859</td>\n",
       "      <td>10.1038/s41590-020-0729-y</td>\n",
       "      <td></td>\n",
       "      <td></td>\n",
       "      <td>Nature Immunology turns 20</td>\n",
       "      <td>Twenty years ago, a new immunology journal was...</td>\n",
       "      <td>Nature Immunology</td>\n",
       "      <td>jour.1022778</td>\n",
       "      <td></td>\n",
       "      <td>2020</td>\n",
       "      <td>21</td>\n",
       "      <td>7</td>\n",
       "      <td>697-697</td>\n",
       "      <td>All OA; Bronze</td>\n",
       "      <td>article</td>\n",
       "      <td>https://app.dimensions.ai/details/publication/...</td>\n",
       "      <td>7</td>\n",
       "      <td></td>\n",
       "    </tr>\n",
       "    <tr>\n",
       "      <th>2</th>\n",
       "      <td>pub.1128683930</td>\n",
       "      <td>10.1002/alr.22646</td>\n",
       "      <td>32573106</td>\n",
       "      <td></td>\n",
       "      <td>Management of chronic rhinosinusitis with ster...</td>\n",
       "      <td>BACKGROUND: High-dose, high-volume steroid nas...</td>\n",
       "      <td>International Forum of Allergy &amp; Rhinology</td>\n",
       "      <td>jour.1044553</td>\n",
       "      <td></td>\n",
       "      <td>2020</td>\n",
       "      <td></td>\n",
       "      <td></td>\n",
       "      <td></td>\n",
       "      <td>Closed</td>\n",
       "      <td>article</td>\n",
       "      <td>https://app.dimensions.ai/details/publication/...</td>\n",
       "      <td>6</td>\n",
       "      <td></td>\n",
       "    </tr>\n",
       "    <tr>\n",
       "      <th>3</th>\n",
       "      <td>pub.1128676970</td>\n",
       "      <td>10.1111/ejh.13475</td>\n",
       "      <td></td>\n",
       "      <td></td>\n",
       "      <td>COVID‐19 complicated by parainfluenza co‐infec...</td>\n",
       "      <td>The number of people suffering from the new co...</td>\n",
       "      <td>European Journal Of Haematology</td>\n",
       "      <td>jour.1018712</td>\n",
       "      <td></td>\n",
       "      <td>2020</td>\n",
       "      <td></td>\n",
       "      <td></td>\n",
       "      <td></td>\n",
       "      <td>Closed</td>\n",
       "      <td>article</td>\n",
       "      <td>https://app.dimensions.ai/details/publication/...</td>\n",
       "      <td>6</td>\n",
       "      <td></td>\n",
       "    </tr>\n",
       "    <tr>\n",
       "      <th>4</th>\n",
       "      <td>pub.1128677370</td>\n",
       "      <td>10.1002/jcp.29870</td>\n",
       "      <td>32572955</td>\n",
       "      <td></td>\n",
       "      <td>Expression of NF‐κB, IL‐6, and IL‐10 genes, bo...</td>\n",
       "      <td>Nonalcoholic fatty liver disease (NAFLD) is on...</td>\n",
       "      <td>Journal of Cellular Physiology</td>\n",
       "      <td>jour.1005966</td>\n",
       "      <td></td>\n",
       "      <td>2020</td>\n",
       "      <td></td>\n",
       "      <td></td>\n",
       "      <td></td>\n",
       "      <td>Closed</td>\n",
       "      <td>article</td>\n",
       "      <td>https://app.dimensions.ai/details/publication/...</td>\n",
       "      <td>6</td>\n",
       "      <td></td>\n",
       "    </tr>\n",
       "  </tbody>\n",
       "</table>\n",
       "</div>"
      ],
      "text/plain": [
       "    dimensions_id                        doi      pmid pmcid  \\\n",
       "0  pub.1128710293         10.4267/2042/70788                   \n",
       "1  pub.1128679859  10.1038/s41590-020-0729-y                   \n",
       "2  pub.1128683930          10.1002/alr.22646  32573106         \n",
       "3  pub.1128676970          10.1111/ejh.13475                   \n",
       "4  pub.1128677370          10.1002/jcp.29870  32572955         \n",
       "\n",
       "                                               title  \\\n",
       "0  L’association hydroxychloroquine-azythromycine...   \n",
       "1                         Nature Immunology turns 20   \n",
       "2  Management of chronic rhinosinusitis with ster...   \n",
       "3  COVID‐19 complicated by parainfluenza co‐infec...   \n",
       "4  Expression of NF‐κB, IL‐6, and IL‐10 genes, bo...   \n",
       "\n",
       "                                            abstract  \\\n",
       "0                                                      \n",
       "1  Twenty years ago, a new immunology journal was...   \n",
       "2  BACKGROUND: High-dose, high-volume steroid nas...   \n",
       "3  The number of people suffering from the new co...   \n",
       "4  Nonalcoholic fatty liver disease (NAFLD) is on...   \n",
       "\n",
       "                                        journal    source_uid mesh_terms  \\\n",
       "0  Bulletin de l Académie vétérinaire de France  jour.1082072              \n",
       "1                             Nature Immunology  jour.1022778              \n",
       "2    International Forum of Allergy & Rhinology  jour.1044553              \n",
       "3               European Journal Of Haematology  jour.1018712              \n",
       "4                Journal of Cellular Physiology  jour.1005966              \n",
       "\n",
       "  publication_year volume issue    pages     open_access publication_type  \\\n",
       "0             2020            2           All OA; Hybrid          article   \n",
       "1             2020     21     7  697-697  All OA; Bronze          article   \n",
       "2             2020                                Closed          article   \n",
       "3             2020                                Closed          article   \n",
       "4             2020                                Closed          article   \n",
       "\n",
       "                                      dimensions_url publication_month  \\\n",
       "0  https://app.dimensions.ai/details/publication/...                 1   \n",
       "1  https://app.dimensions.ai/details/publication/...                 7   \n",
       "2  https://app.dimensions.ai/details/publication/...                 6   \n",
       "3  https://app.dimensions.ai/details/publication/...                 6   \n",
       "4  https://app.dimensions.ai/details/publication/...                 6   \n",
       "\n",
       "  arxiv_id  \n",
       "0           \n",
       "1           \n",
       "2           \n",
       "3           \n",
       "4           "
      ]
     },
     "execution_count": 22,
     "metadata": {},
     "output_type": "execute_result"
    }
   ],
   "source": [
    "df_dimensions.head()"
   ]
  },
  {
   "cell_type": "code",
   "execution_count": 23,
   "metadata": {},
   "outputs": [
    {
     "data": {
      "text/plain": [
       "(1890, 18)"
      ]
     },
     "execution_count": 23,
     "metadata": {},
     "output_type": "execute_result"
    }
   ],
   "source": [
    "df_dimensions[df_dimensions.doi==\"\"].shape"
   ]
  },
  {
   "cell_type": "markdown",
   "metadata": {},
   "source": [
    "##### CORD19"
   ]
  },
  {
   "cell_type": "code",
   "execution_count": 24,
   "metadata": {},
   "outputs": [
    {
     "data": {
      "text/html": [
       "<div>\n",
       "<style scoped>\n",
       "    .dataframe tbody tr th:only-of-type {\n",
       "        vertical-align: middle;\n",
       "    }\n",
       "\n",
       "    .dataframe tbody tr th {\n",
       "        vertical-align: top;\n",
       "    }\n",
       "\n",
       "    .dataframe thead th {\n",
       "        text-align: right;\n",
       "    }\n",
       "</style>\n",
       "<table border=\"1\" class=\"dataframe\">\n",
       "  <thead>\n",
       "    <tr style=\"text-align: right;\">\n",
       "      <th></th>\n",
       "      <th>cord_uid</th>\n",
       "      <th>sha</th>\n",
       "      <th>source_x</th>\n",
       "      <th>title</th>\n",
       "      <th>doi</th>\n",
       "      <th>pmcid</th>\n",
       "      <th>pubmed_id</th>\n",
       "      <th>license</th>\n",
       "      <th>abstract</th>\n",
       "      <th>publish_time</th>\n",
       "      <th>authors</th>\n",
       "      <th>journal</th>\n",
       "      <th>mag_id</th>\n",
       "      <th>who_covidence_id</th>\n",
       "      <th>arxiv_id</th>\n",
       "      <th>pdf_json_files</th>\n",
       "      <th>pmc_json_files</th>\n",
       "      <th>url</th>\n",
       "      <th>s2_id</th>\n",
       "    </tr>\n",
       "  </thead>\n",
       "  <tbody>\n",
       "    <tr>\n",
       "      <th>0</th>\n",
       "      <td>ug7v899j</td>\n",
       "      <td>d1aafb70c066a2068b02786f8929fd9c900897fb</td>\n",
       "      <td>PMC</td>\n",
       "      <td>Clinical features of culture-proven Mycoplasma...</td>\n",
       "      <td>10.1186/1471-2334-1-6</td>\n",
       "      <td>PMC35282</td>\n",
       "      <td>11472636</td>\n",
       "      <td>no-cc</td>\n",
       "      <td>OBJECTIVE: This retrospective chart review des...</td>\n",
       "      <td>2001-07-04</td>\n",
       "      <td>Madani, Tariq A; Al-Ghamdi, Aisha A</td>\n",
       "      <td>BMC Infect Dis</td>\n",
       "      <td>NaN</td>\n",
       "      <td>NaN</td>\n",
       "      <td>NaN</td>\n",
       "      <td>document_parses/pdf_json/d1aafb70c066a2068b027...</td>\n",
       "      <td>document_parses/pmc_json/PMC35282.xml.json</td>\n",
       "      <td>https://www.ncbi.nlm.nih.gov/pmc/articles/PMC3...</td>\n",
       "      <td>NaN</td>\n",
       "    </tr>\n",
       "    <tr>\n",
       "      <th>1</th>\n",
       "      <td>02tnwd4m</td>\n",
       "      <td>6b0567729c2143a66d737eb0a2f63f2dce2e5a7d</td>\n",
       "      <td>PMC</td>\n",
       "      <td>Nitric oxide: a pro-inflammatory mediator in l...</td>\n",
       "      <td>10.1186/rr14</td>\n",
       "      <td>PMC59543</td>\n",
       "      <td>11667967</td>\n",
       "      <td>no-cc</td>\n",
       "      <td>Inflammatory diseases of the respiratory tract...</td>\n",
       "      <td>2000-08-15</td>\n",
       "      <td>Vliet, Albert van der; Eiserich, Jason P; Cros...</td>\n",
       "      <td>Respir Res</td>\n",
       "      <td>NaN</td>\n",
       "      <td>NaN</td>\n",
       "      <td>NaN</td>\n",
       "      <td>document_parses/pdf_json/6b0567729c2143a66d737...</td>\n",
       "      <td>document_parses/pmc_json/PMC59543.xml.json</td>\n",
       "      <td>https://www.ncbi.nlm.nih.gov/pmc/articles/PMC5...</td>\n",
       "      <td>NaN</td>\n",
       "    </tr>\n",
       "    <tr>\n",
       "      <th>2</th>\n",
       "      <td>ejv2xln0</td>\n",
       "      <td>06ced00a5fc04215949aa72528f2eeaae1d58927</td>\n",
       "      <td>PMC</td>\n",
       "      <td>Surfactant protein-D and pulmonary host defense</td>\n",
       "      <td>10.1186/rr19</td>\n",
       "      <td>PMC59549</td>\n",
       "      <td>11667972</td>\n",
       "      <td>no-cc</td>\n",
       "      <td>Surfactant protein-D (SP-D) participates in th...</td>\n",
       "      <td>2000-08-25</td>\n",
       "      <td>Crouch, Erika C</td>\n",
       "      <td>Respir Res</td>\n",
       "      <td>NaN</td>\n",
       "      <td>NaN</td>\n",
       "      <td>NaN</td>\n",
       "      <td>document_parses/pdf_json/06ced00a5fc04215949aa...</td>\n",
       "      <td>document_parses/pmc_json/PMC59549.xml.json</td>\n",
       "      <td>https://www.ncbi.nlm.nih.gov/pmc/articles/PMC5...</td>\n",
       "      <td>NaN</td>\n",
       "    </tr>\n",
       "    <tr>\n",
       "      <th>3</th>\n",
       "      <td>2b73a28n</td>\n",
       "      <td>348055649b6b8cf2b9a376498df9bf41f7123605</td>\n",
       "      <td>PMC</td>\n",
       "      <td>Role of endothelin-1 in lung disease</td>\n",
       "      <td>10.1186/rr44</td>\n",
       "      <td>PMC59574</td>\n",
       "      <td>11686871</td>\n",
       "      <td>no-cc</td>\n",
       "      <td>Endothelin-1 (ET-1) is a 21 amino acid peptide...</td>\n",
       "      <td>2001-02-22</td>\n",
       "      <td>Fagan, Karen A; McMurtry, Ivan F; Rodman, David M</td>\n",
       "      <td>Respir Res</td>\n",
       "      <td>NaN</td>\n",
       "      <td>NaN</td>\n",
       "      <td>NaN</td>\n",
       "      <td>document_parses/pdf_json/348055649b6b8cf2b9a37...</td>\n",
       "      <td>document_parses/pmc_json/PMC59574.xml.json</td>\n",
       "      <td>https://www.ncbi.nlm.nih.gov/pmc/articles/PMC5...</td>\n",
       "      <td>NaN</td>\n",
       "    </tr>\n",
       "    <tr>\n",
       "      <th>4</th>\n",
       "      <td>9785vg6d</td>\n",
       "      <td>5f48792a5fa08bed9f56016f4981ae2ca6031b32</td>\n",
       "      <td>PMC</td>\n",
       "      <td>Gene expression in epithelial cells in respons...</td>\n",
       "      <td>10.1186/rr61</td>\n",
       "      <td>PMC59580</td>\n",
       "      <td>11686888</td>\n",
       "      <td>no-cc</td>\n",
       "      <td>Respiratory syncytial virus (RSV) and pneumoni...</td>\n",
       "      <td>2001-05-11</td>\n",
       "      <td>Domachowske, Joseph B; Bonville, Cynthia A; Ro...</td>\n",
       "      <td>Respir Res</td>\n",
       "      <td>NaN</td>\n",
       "      <td>NaN</td>\n",
       "      <td>NaN</td>\n",
       "      <td>document_parses/pdf_json/5f48792a5fa08bed9f560...</td>\n",
       "      <td>document_parses/pmc_json/PMC59580.xml.json</td>\n",
       "      <td>https://www.ncbi.nlm.nih.gov/pmc/articles/PMC5...</td>\n",
       "      <td>NaN</td>\n",
       "    </tr>\n",
       "  </tbody>\n",
       "</table>\n",
       "</div>"
      ],
      "text/plain": [
       "   cord_uid                                       sha source_x  \\\n",
       "0  ug7v899j  d1aafb70c066a2068b02786f8929fd9c900897fb      PMC   \n",
       "1  02tnwd4m  6b0567729c2143a66d737eb0a2f63f2dce2e5a7d      PMC   \n",
       "2  ejv2xln0  06ced00a5fc04215949aa72528f2eeaae1d58927      PMC   \n",
       "3  2b73a28n  348055649b6b8cf2b9a376498df9bf41f7123605      PMC   \n",
       "4  9785vg6d  5f48792a5fa08bed9f56016f4981ae2ca6031b32      PMC   \n",
       "\n",
       "                                               title                    doi  \\\n",
       "0  Clinical features of culture-proven Mycoplasma...  10.1186/1471-2334-1-6   \n",
       "1  Nitric oxide: a pro-inflammatory mediator in l...           10.1186/rr14   \n",
       "2    Surfactant protein-D and pulmonary host defense           10.1186/rr19   \n",
       "3               Role of endothelin-1 in lung disease           10.1186/rr44   \n",
       "4  Gene expression in epithelial cells in respons...           10.1186/rr61   \n",
       "\n",
       "      pmcid pubmed_id license  \\\n",
       "0  PMC35282  11472636   no-cc   \n",
       "1  PMC59543  11667967   no-cc   \n",
       "2  PMC59549  11667972   no-cc   \n",
       "3  PMC59574  11686871   no-cc   \n",
       "4  PMC59580  11686888   no-cc   \n",
       "\n",
       "                                            abstract publish_time  \\\n",
       "0  OBJECTIVE: This retrospective chart review des...   2001-07-04   \n",
       "1  Inflammatory diseases of the respiratory tract...   2000-08-15   \n",
       "2  Surfactant protein-D (SP-D) participates in th...   2000-08-25   \n",
       "3  Endothelin-1 (ET-1) is a 21 amino acid peptide...   2001-02-22   \n",
       "4  Respiratory syncytial virus (RSV) and pneumoni...   2001-05-11   \n",
       "\n",
       "                                             authors         journal mag_id  \\\n",
       "0                Madani, Tariq A; Al-Ghamdi, Aisha A  BMC Infect Dis    NaN   \n",
       "1  Vliet, Albert van der; Eiserich, Jason P; Cros...      Respir Res    NaN   \n",
       "2                                    Crouch, Erika C      Respir Res    NaN   \n",
       "3  Fagan, Karen A; McMurtry, Ivan F; Rodman, David M      Respir Res    NaN   \n",
       "4  Domachowske, Joseph B; Bonville, Cynthia A; Ro...      Respir Res    NaN   \n",
       "\n",
       "  who_covidence_id arxiv_id  \\\n",
       "0              NaN      NaN   \n",
       "1              NaN      NaN   \n",
       "2              NaN      NaN   \n",
       "3              NaN      NaN   \n",
       "4              NaN      NaN   \n",
       "\n",
       "                                      pdf_json_files  \\\n",
       "0  document_parses/pdf_json/d1aafb70c066a2068b027...   \n",
       "1  document_parses/pdf_json/6b0567729c2143a66d737...   \n",
       "2  document_parses/pdf_json/06ced00a5fc04215949aa...   \n",
       "3  document_parses/pdf_json/348055649b6b8cf2b9a37...   \n",
       "4  document_parses/pdf_json/5f48792a5fa08bed9f560...   \n",
       "\n",
       "                               pmc_json_files  \\\n",
       "0  document_parses/pmc_json/PMC35282.xml.json   \n",
       "1  document_parses/pmc_json/PMC59543.xml.json   \n",
       "2  document_parses/pmc_json/PMC59549.xml.json   \n",
       "3  document_parses/pmc_json/PMC59574.xml.json   \n",
       "4  document_parses/pmc_json/PMC59580.xml.json   \n",
       "\n",
       "                                                 url s2_id  \n",
       "0  https://www.ncbi.nlm.nih.gov/pmc/articles/PMC3...   NaN  \n",
       "1  https://www.ncbi.nlm.nih.gov/pmc/articles/PMC5...   NaN  \n",
       "2  https://www.ncbi.nlm.nih.gov/pmc/articles/PMC5...   NaN  \n",
       "3  https://www.ncbi.nlm.nih.gov/pmc/articles/PMC5...   NaN  \n",
       "4  https://www.ncbi.nlm.nih.gov/pmc/articles/PMC5...   NaN  "
      ]
     },
     "execution_count": 24,
     "metadata": {},
     "output_type": "execute_result"
    }
   ],
   "source": [
    "df_cord.head()"
   ]
  },
  {
   "cell_type": "code",
   "execution_count": 25,
   "metadata": {},
   "outputs": [
    {
     "data": {
      "text/plain": [
       "unk            81125\n",
       "no-cc          44301\n",
       "cc-by          15105\n",
       "els-covid      14973\n",
       "medrxiv         4703\n",
       "cc-by-nc        2097\n",
       "arxiv           2072\n",
       "cc-by-nc-nd     1464\n",
       "biorxiv         1399\n",
       "green-oa         876\n",
       "cc-by-nc-sa      635\n",
       "bronze-oa        580\n",
       "cc0              282\n",
       "hybrid-oa        134\n",
       "gold-oa           40\n",
       "cc-by-nd          33\n",
       "cc-by-sa           2\n",
       "Name: license, dtype: int64"
      ]
     },
     "execution_count": 25,
     "metadata": {},
     "output_type": "execute_result"
    }
   ],
   "source": [
    "df_cord[\"license\"].value_counts()"
   ]
  },
  {
   "cell_type": "code",
   "execution_count": 26,
   "metadata": {},
   "outputs": [
    {
     "data": {
      "text/plain": [
       "Medline                               49413\n",
       "WHO                                   30923\n",
       "Medline; PMC                          26653\n",
       "PMC                                   26563\n",
       "Elsevier; Medline; PMC                19370\n",
       "MedRxiv                                4397\n",
       "Elsevier; PMC                          2971\n",
       "ArXiv                                  2044\n",
       "Elsevier; PMC; WHO                     1590\n",
       "Medline; PMC; WHO                      1407\n",
       "BioRxiv                                1158\n",
       "PMC; WHO                               1084\n",
       "Medline; WHO                            661\n",
       "Elsevier; Medline; PMC; WHO             409\n",
       "BioRxiv; MedRxiv                        321\n",
       "Elsevier                                255\n",
       "MedRxiv; Medline; PMC                   176\n",
       "MedRxiv; Medline                        131\n",
       "BioRxiv; Medline; PMC                    69\n",
       "BioRxiv; Medline                         60\n",
       "ArXiv; Medline; PMC                      31\n",
       "BioRxiv; Medline; PMC; WHO               24\n",
       "ArXiv; Elsevier; Medline; PMC            22\n",
       "ArXiv; Medline                           19\n",
       "BioRxiv; Medline; WHO                    12\n",
       "BioRxiv; MedRxiv; Medline                10\n",
       "BioRxiv; MedRxiv; Medline; PMC            7\n",
       "BioRxiv; WHO                              6\n",
       "Elsevier; WHO                             6\n",
       "Elsevier; Medline                         5\n",
       "ArXiv; Elsevier; Medline; PMC; WHO        4\n",
       "ArXiv; Elsevier; PMC; WHO                 4\n",
       "ArXiv; WHO                                4\n",
       "ArXiv; Elsevier                           3\n",
       "MedRxiv; WHO                              2\n",
       "ArXiv; Medline; PMC; WHO                  2\n",
       "ArXiv; PMC                                2\n",
       "ArXiv; MedRxiv                            1\n",
       "ArXiv; PMC; WHO                           1\n",
       "ArXiv; Elsevier; PMC                      1\n",
       "Name: source_x, dtype: int64"
      ]
     },
     "execution_count": 26,
     "metadata": {},
     "output_type": "execute_result"
    }
   ],
   "source": [
    "df_cord[\"source_x\"].value_counts()"
   ]
  },
  {
   "cell_type": "code",
   "execution_count": 27,
   "metadata": {},
   "outputs": [
    {
     "data": {
      "text/plain": [
       "(77777, 19)"
      ]
     },
     "execution_count": 27,
     "metadata": {},
     "output_type": "execute_result"
    }
   ],
   "source": [
    "# how many full text files\n",
    "df_cord[(pd.notnull(df_cord.pdf_json_files))|(pd.notnull(df_cord.pmc_json_files))].shape"
   ]
  },
  {
   "cell_type": "code",
   "execution_count": 28,
   "metadata": {},
   "outputs": [
    {
     "data": {
      "text/plain": [
       "0.4579940054528003"
      ]
     },
     "execution_count": 28,
     "metadata": {},
     "output_type": "execute_result"
    }
   ],
   "source": [
    "df_cord[(pd.notnull(df_cord.pdf_json_files))|(pd.notnull(df_cord.pmc_json_files))].shape[0]/df_cord.shape[0]"
   ]
  },
  {
   "cell_type": "code",
   "execution_count": 29,
   "metadata": {},
   "outputs": [
    {
     "data": {
      "text/plain": [
       "0.0"
      ]
     },
     "execution_count": 29,
     "metadata": {},
     "output_type": "execute_result"
    }
   ],
   "source": [
    "# check Medline\n",
    "df_cord[(df_cord.source_x==\"Medline\")&((pd.notnull(df_cord.pdf_json_files))|(pd.notnull(df_cord.pmc_json_files)))].shape[0]/df_cord[(df_cord.source_x==\"Medline\")].shape[0]"
   ]
  },
  {
   "cell_type": "code",
   "execution_count": 30,
   "metadata": {},
   "outputs": [
    {
     "data": {
      "text/plain": [
       "49413"
      ]
     },
     "execution_count": 30,
     "metadata": {},
     "output_type": "execute_result"
    }
   ],
   "source": [
    "df_cord[(df_cord.source_x==\"Medline\")].shape[0]"
   ]
  },
  {
   "cell_type": "code",
   "execution_count": 31,
   "metadata": {},
   "outputs": [
    {
     "data": {
      "text/plain": [
       "0.6459454521294267"
      ]
     },
     "execution_count": 31,
     "metadata": {},
     "output_type": "execute_result"
    }
   ],
   "source": [
    "# check NOT Medline\n",
    "df_cord[(df_cord.source_x!=\"Medline\")&((pd.notnull(df_cord.pdf_json_files))|(pd.notnull(df_cord.pmc_json_files)))].shape[0]/df_cord[(df_cord.source_x!=\"Medline\")].shape[0]"
   ]
  },
  {
   "cell_type": "code",
   "execution_count": 32,
   "metadata": {},
   "outputs": [
    {
     "data": {
      "text/plain": [
       "120408"
      ]
     },
     "execution_count": 32,
     "metadata": {},
     "output_type": "execute_result"
    }
   ],
   "source": [
    "df_cord[(df_cord.source_x!=\"Medline\")].shape[0]"
   ]
  },
  {
   "cell_type": "code",
   "execution_count": 33,
   "metadata": {},
   "outputs": [],
   "source": [
    "# NEW columns (for now, we drop)\n",
    "df_cord.drop(columns=[\"cord_uid\",\"url\",\"pdf_json_files\",\"pmc_json_files\",\"s2_id\"],inplace=True)"
   ]
  },
  {
   "cell_type": "code",
   "execution_count": 34,
   "metadata": {},
   "outputs": [
    {
     "data": {
      "text/plain": [
       "Index(['sha', 'source_x', 'title', 'doi', 'pmcid', 'pubmed_id', 'license',\n",
       "       'abstract', 'publish_time', 'authors', 'journal', 'mag_id',\n",
       "       'who_covidence_id', 'arxiv_id'],\n",
       "      dtype='object')"
      ]
     },
     "execution_count": 34,
     "metadata": {},
     "output_type": "execute_result"
    }
   ],
   "source": [
    "df_cord.columns"
   ]
  },
  {
   "cell_type": "code",
   "execution_count": 35,
   "metadata": {},
   "outputs": [],
   "source": [
    "df_cord.drop(columns='authors', inplace=True)\n",
    "df_cord = df_cord.fillna('')"
   ]
  },
  {
   "cell_type": "code",
   "execution_count": 36,
   "metadata": {},
   "outputs": [],
   "source": [
    "df_cord.rename(columns={'source_x':'source', 'pubmed_id': 'pmid',\n",
    "       'mag_id': 'ms_academic_id', 'who_covidence_id': 'who_covidence'}, inplace=True)"
   ]
  },
  {
   "cell_type": "code",
   "execution_count": 37,
   "metadata": {},
   "outputs": [],
   "source": [
    "df_cord[\"publication_year\"] = df_cord[\"publish_time\"].apply(get_year)\n",
    "df_cord[\"publication_month\"] = df_cord[\"publish_time\"].apply(get_month)"
   ]
  },
  {
   "cell_type": "code",
   "execution_count": 38,
   "metadata": {},
   "outputs": [],
   "source": [
    "df_cord.drop(columns='publish_time', inplace=True)"
   ]
  },
  {
   "cell_type": "code",
   "execution_count": 39,
   "metadata": {},
   "outputs": [],
   "source": [
    "df_cord['pages'] = \"\"\n",
    "df_cord['volume'] = \"\"\n",
    "df_cord['issue'] = \"\"\n",
    "df_cord[\"dimensions_id\"] = \"\""
   ]
  },
  {
   "cell_type": "code",
   "execution_count": 40,
   "metadata": {},
   "outputs": [
    {
     "data": {
      "text/html": [
       "<div>\n",
       "<style scoped>\n",
       "    .dataframe tbody tr th:only-of-type {\n",
       "        vertical-align: middle;\n",
       "    }\n",
       "\n",
       "    .dataframe tbody tr th {\n",
       "        vertical-align: top;\n",
       "    }\n",
       "\n",
       "    .dataframe thead th {\n",
       "        text-align: right;\n",
       "    }\n",
       "</style>\n",
       "<table border=\"1\" class=\"dataframe\">\n",
       "  <thead>\n",
       "    <tr style=\"text-align: right;\">\n",
       "      <th></th>\n",
       "      <th>sha</th>\n",
       "      <th>source</th>\n",
       "      <th>title</th>\n",
       "      <th>doi</th>\n",
       "      <th>pmcid</th>\n",
       "      <th>pmid</th>\n",
       "      <th>license</th>\n",
       "      <th>abstract</th>\n",
       "      <th>journal</th>\n",
       "      <th>ms_academic_id</th>\n",
       "      <th>who_covidence</th>\n",
       "      <th>arxiv_id</th>\n",
       "      <th>publication_year</th>\n",
       "      <th>publication_month</th>\n",
       "      <th>pages</th>\n",
       "      <th>volume</th>\n",
       "      <th>issue</th>\n",
       "      <th>dimensions_id</th>\n",
       "    </tr>\n",
       "  </thead>\n",
       "  <tbody>\n",
       "    <tr>\n",
       "      <th>0</th>\n",
       "      <td>d1aafb70c066a2068b02786f8929fd9c900897fb</td>\n",
       "      <td>PMC</td>\n",
       "      <td>Clinical features of culture-proven Mycoplasma...</td>\n",
       "      <td>10.1186/1471-2334-1-6</td>\n",
       "      <td>PMC35282</td>\n",
       "      <td>11472636</td>\n",
       "      <td>no-cc</td>\n",
       "      <td>OBJECTIVE: This retrospective chart review des...</td>\n",
       "      <td>BMC Infect Dis</td>\n",
       "      <td></td>\n",
       "      <td></td>\n",
       "      <td></td>\n",
       "      <td>2001</td>\n",
       "      <td>7</td>\n",
       "      <td></td>\n",
       "      <td></td>\n",
       "      <td></td>\n",
       "      <td></td>\n",
       "    </tr>\n",
       "    <tr>\n",
       "      <th>1</th>\n",
       "      <td>6b0567729c2143a66d737eb0a2f63f2dce2e5a7d</td>\n",
       "      <td>PMC</td>\n",
       "      <td>Nitric oxide: a pro-inflammatory mediator in l...</td>\n",
       "      <td>10.1186/rr14</td>\n",
       "      <td>PMC59543</td>\n",
       "      <td>11667967</td>\n",
       "      <td>no-cc</td>\n",
       "      <td>Inflammatory diseases of the respiratory tract...</td>\n",
       "      <td>Respir Res</td>\n",
       "      <td></td>\n",
       "      <td></td>\n",
       "      <td></td>\n",
       "      <td>2000</td>\n",
       "      <td>8</td>\n",
       "      <td></td>\n",
       "      <td></td>\n",
       "      <td></td>\n",
       "      <td></td>\n",
       "    </tr>\n",
       "    <tr>\n",
       "      <th>2</th>\n",
       "      <td>06ced00a5fc04215949aa72528f2eeaae1d58927</td>\n",
       "      <td>PMC</td>\n",
       "      <td>Surfactant protein-D and pulmonary host defense</td>\n",
       "      <td>10.1186/rr19</td>\n",
       "      <td>PMC59549</td>\n",
       "      <td>11667972</td>\n",
       "      <td>no-cc</td>\n",
       "      <td>Surfactant protein-D (SP-D) participates in th...</td>\n",
       "      <td>Respir Res</td>\n",
       "      <td></td>\n",
       "      <td></td>\n",
       "      <td></td>\n",
       "      <td>2000</td>\n",
       "      <td>8</td>\n",
       "      <td></td>\n",
       "      <td></td>\n",
       "      <td></td>\n",
       "      <td></td>\n",
       "    </tr>\n",
       "    <tr>\n",
       "      <th>3</th>\n",
       "      <td>348055649b6b8cf2b9a376498df9bf41f7123605</td>\n",
       "      <td>PMC</td>\n",
       "      <td>Role of endothelin-1 in lung disease</td>\n",
       "      <td>10.1186/rr44</td>\n",
       "      <td>PMC59574</td>\n",
       "      <td>11686871</td>\n",
       "      <td>no-cc</td>\n",
       "      <td>Endothelin-1 (ET-1) is a 21 amino acid peptide...</td>\n",
       "      <td>Respir Res</td>\n",
       "      <td></td>\n",
       "      <td></td>\n",
       "      <td></td>\n",
       "      <td>2001</td>\n",
       "      <td>2</td>\n",
       "      <td></td>\n",
       "      <td></td>\n",
       "      <td></td>\n",
       "      <td></td>\n",
       "    </tr>\n",
       "    <tr>\n",
       "      <th>4</th>\n",
       "      <td>5f48792a5fa08bed9f56016f4981ae2ca6031b32</td>\n",
       "      <td>PMC</td>\n",
       "      <td>Gene expression in epithelial cells in respons...</td>\n",
       "      <td>10.1186/rr61</td>\n",
       "      <td>PMC59580</td>\n",
       "      <td>11686888</td>\n",
       "      <td>no-cc</td>\n",
       "      <td>Respiratory syncytial virus (RSV) and pneumoni...</td>\n",
       "      <td>Respir Res</td>\n",
       "      <td></td>\n",
       "      <td></td>\n",
       "      <td></td>\n",
       "      <td>2001</td>\n",
       "      <td>5</td>\n",
       "      <td></td>\n",
       "      <td></td>\n",
       "      <td></td>\n",
       "      <td></td>\n",
       "    </tr>\n",
       "  </tbody>\n",
       "</table>\n",
       "</div>"
      ],
      "text/plain": [
       "                                        sha source  \\\n",
       "0  d1aafb70c066a2068b02786f8929fd9c900897fb    PMC   \n",
       "1  6b0567729c2143a66d737eb0a2f63f2dce2e5a7d    PMC   \n",
       "2  06ced00a5fc04215949aa72528f2eeaae1d58927    PMC   \n",
       "3  348055649b6b8cf2b9a376498df9bf41f7123605    PMC   \n",
       "4  5f48792a5fa08bed9f56016f4981ae2ca6031b32    PMC   \n",
       "\n",
       "                                               title                    doi  \\\n",
       "0  Clinical features of culture-proven Mycoplasma...  10.1186/1471-2334-1-6   \n",
       "1  Nitric oxide: a pro-inflammatory mediator in l...           10.1186/rr14   \n",
       "2    Surfactant protein-D and pulmonary host defense           10.1186/rr19   \n",
       "3               Role of endothelin-1 in lung disease           10.1186/rr44   \n",
       "4  Gene expression in epithelial cells in respons...           10.1186/rr61   \n",
       "\n",
       "      pmcid      pmid license  \\\n",
       "0  PMC35282  11472636   no-cc   \n",
       "1  PMC59543  11667967   no-cc   \n",
       "2  PMC59549  11667972   no-cc   \n",
       "3  PMC59574  11686871   no-cc   \n",
       "4  PMC59580  11686888   no-cc   \n",
       "\n",
       "                                            abstract         journal  \\\n",
       "0  OBJECTIVE: This retrospective chart review des...  BMC Infect Dis   \n",
       "1  Inflammatory diseases of the respiratory tract...      Respir Res   \n",
       "2  Surfactant protein-D (SP-D) participates in th...      Respir Res   \n",
       "3  Endothelin-1 (ET-1) is a 21 amino acid peptide...      Respir Res   \n",
       "4  Respiratory syncytial virus (RSV) and pneumoni...      Respir Res   \n",
       "\n",
       "  ms_academic_id who_covidence arxiv_id publication_year publication_month  \\\n",
       "0                                                   2001                 7   \n",
       "1                                                   2000                 8   \n",
       "2                                                   2000                 8   \n",
       "3                                                   2001                 2   \n",
       "4                                                   2001                 5   \n",
       "\n",
       "  pages volume issue dimensions_id  \n",
       "0                                   \n",
       "1                                   \n",
       "2                                   \n",
       "3                                   \n",
       "4                                   "
      ]
     },
     "execution_count": 40,
     "metadata": {},
     "output_type": "execute_result"
    }
   ],
   "source": [
    "df_cord.head()"
   ]
  },
  {
   "cell_type": "code",
   "execution_count": 41,
   "metadata": {},
   "outputs": [
    {
     "data": {
      "text/plain": [
       "(42268, 18)"
      ]
     },
     "execution_count": 41,
     "metadata": {},
     "output_type": "execute_result"
    }
   ],
   "source": [
    "df_cord[(df_cord.doi==\"\") & ((df_cord.sha!=\"\") | (df_cord.pmid!=\"\") | (df_cord.pmcid!=\"\") | df_cord.arxiv_id!=\"\")].shape"
   ]
  },
  {
   "cell_type": "code",
   "execution_count": 42,
   "metadata": {},
   "outputs": [
    {
     "data": {
      "text/plain": [
       "(30947, 18)"
      ]
     },
     "execution_count": 42,
     "metadata": {},
     "output_type": "execute_result"
    }
   ],
   "source": [
    "df_cord[(df_cord.doi==\"\") & (df_cord.pmid==\"\") & (df_cord.pmcid==\"\")].shape"
   ]
  },
  {
   "cell_type": "code",
   "execution_count": 43,
   "metadata": {},
   "outputs": [
    {
     "data": {
      "text/plain": [
       "(1953, 18)"
      ]
     },
     "execution_count": 43,
     "metadata": {},
     "output_type": "execute_result"
    }
   ],
   "source": [
    "df_cord[((df_cord.doi==\"\") & (df_cord.pmid==\"\") & (df_cord.pmcid==\"\"))&(df_cord.arxiv_id!=\"\")].shape"
   ]
  },
  {
   "cell_type": "code",
   "execution_count": 44,
   "metadata": {},
   "outputs": [
    {
     "data": {
      "text/plain": [
       "(61563, 18)"
      ]
     },
     "execution_count": 44,
     "metadata": {},
     "output_type": "execute_result"
    }
   ],
   "source": [
    "df_dimensions.shape"
   ]
  },
  {
   "cell_type": "code",
   "execution_count": 45,
   "metadata": {},
   "outputs": [
    {
     "data": {
      "text/plain": [
       "(169821, 18)"
      ]
     },
     "execution_count": 45,
     "metadata": {},
     "output_type": "execute_result"
    }
   ],
   "source": [
    "df_cord.shape"
   ]
  },
  {
   "cell_type": "code",
   "execution_count": 46,
   "metadata": {},
   "outputs": [
    {
     "data": {
      "text/plain": [
       "(1336, 18)"
      ]
     },
     "execution_count": 46,
     "metadata": {},
     "output_type": "execute_result"
    }
   ],
   "source": [
    "df_dimensions[((df_dimensions.doi==\"\") & (df_dimensions.pmid==\"\") & (df_dimensions.pmcid==\"\"))&(df_dimensions.journal==\"arXiv\")].shape"
   ]
  },
  {
   "cell_type": "code",
   "execution_count": 47,
   "metadata": {},
   "outputs": [
    {
     "data": {
      "text/plain": [
       "(1349, 18)"
      ]
     },
     "execution_count": 47,
     "metadata": {},
     "output_type": "execute_result"
    }
   ],
   "source": [
    "df_dimensions[df_dimensions.journal==\"arXiv\"].shape"
   ]
  },
  {
   "cell_type": "code",
   "execution_count": 48,
   "metadata": {},
   "outputs": [
    {
     "data": {
      "text/plain": [
       "(2138, 18)"
      ]
     },
     "execution_count": 48,
     "metadata": {},
     "output_type": "execute_result"
    }
   ],
   "source": [
    "df_cord[df_cord.arxiv_id!=\"\"].shape"
   ]
  },
  {
   "cell_type": "code",
   "execution_count": 49,
   "metadata": {},
   "outputs": [
    {
     "data": {
      "text/html": [
       "<div>\n",
       "<style scoped>\n",
       "    .dataframe tbody tr th:only-of-type {\n",
       "        vertical-align: middle;\n",
       "    }\n",
       "\n",
       "    .dataframe tbody tr th {\n",
       "        vertical-align: top;\n",
       "    }\n",
       "\n",
       "    .dataframe thead th {\n",
       "        text-align: right;\n",
       "    }\n",
       "</style>\n",
       "<table border=\"1\" class=\"dataframe\">\n",
       "  <thead>\n",
       "    <tr style=\"text-align: right;\">\n",
       "      <th></th>\n",
       "      <th>sha</th>\n",
       "      <th>source</th>\n",
       "      <th>title</th>\n",
       "      <th>doi</th>\n",
       "      <th>pmcid</th>\n",
       "      <th>pmid</th>\n",
       "      <th>license</th>\n",
       "      <th>abstract</th>\n",
       "      <th>journal</th>\n",
       "      <th>ms_academic_id</th>\n",
       "      <th>who_covidence</th>\n",
       "      <th>arxiv_id</th>\n",
       "      <th>publication_year</th>\n",
       "      <th>publication_month</th>\n",
       "      <th>pages</th>\n",
       "      <th>volume</th>\n",
       "      <th>issue</th>\n",
       "      <th>dimensions_id</th>\n",
       "    </tr>\n",
       "  </thead>\n",
       "  <tbody>\n",
       "    <tr>\n",
       "      <th>92679</th>\n",
       "      <td>bc411487f305e451d7485e53202ec241fcc97d3b</td>\n",
       "      <td>ArXiv</td>\n",
       "      <td>CORD-19: The Covid-19 Open Research Dataset</td>\n",
       "      <td></td>\n",
       "      <td></td>\n",
       "      <td></td>\n",
       "      <td>arxiv</td>\n",
       "      <td>The Covid-19 Open Research Dataset (CORD-19) i...</td>\n",
       "      <td></td>\n",
       "      <td></td>\n",
       "      <td></td>\n",
       "      <td>2004.10706</td>\n",
       "      <td>2020</td>\n",
       "      <td>4</td>\n",
       "      <td></td>\n",
       "      <td></td>\n",
       "      <td></td>\n",
       "      <td></td>\n",
       "    </tr>\n",
       "  </tbody>\n",
       "</table>\n",
       "</div>"
      ],
      "text/plain": [
       "                                            sha source  \\\n",
       "92679  bc411487f305e451d7485e53202ec241fcc97d3b  ArXiv   \n",
       "\n",
       "                                             title doi pmcid pmid license  \\\n",
       "92679  CORD-19: The Covid-19 Open Research Dataset                  arxiv   \n",
       "\n",
       "                                                abstract journal  \\\n",
       "92679  The Covid-19 Open Research Dataset (CORD-19) i...           \n",
       "\n",
       "      ms_academic_id who_covidence    arxiv_id publication_year  \\\n",
       "92679                               2004.10706             2020   \n",
       "\n",
       "      publication_month pages volume issue dimensions_id  \n",
       "92679                 4                                   "
      ]
     },
     "execution_count": 49,
     "metadata": {},
     "output_type": "execute_result"
    }
   ],
   "source": [
    "df_cord[df_cord.title==\"CORD-19: The Covid-19 Open Research Dataset\"]"
   ]
  },
  {
   "cell_type": "code",
   "execution_count": 50,
   "metadata": {},
   "outputs": [
    {
     "data": {
      "text/html": [
       "<div>\n",
       "<style scoped>\n",
       "    .dataframe tbody tr th:only-of-type {\n",
       "        vertical-align: middle;\n",
       "    }\n",
       "\n",
       "    .dataframe tbody tr th {\n",
       "        vertical-align: top;\n",
       "    }\n",
       "\n",
       "    .dataframe thead th {\n",
       "        text-align: right;\n",
       "    }\n",
       "</style>\n",
       "<table border=\"1\" class=\"dataframe\">\n",
       "  <thead>\n",
       "    <tr style=\"text-align: right;\">\n",
       "      <th></th>\n",
       "      <th>dimensions_id</th>\n",
       "      <th>doi</th>\n",
       "      <th>pmid</th>\n",
       "      <th>pmcid</th>\n",
       "      <th>title</th>\n",
       "      <th>abstract</th>\n",
       "      <th>journal</th>\n",
       "      <th>source_uid</th>\n",
       "      <th>mesh_terms</th>\n",
       "      <th>publication_year</th>\n",
       "      <th>volume</th>\n",
       "      <th>issue</th>\n",
       "      <th>pages</th>\n",
       "      <th>open_access</th>\n",
       "      <th>publication_type</th>\n",
       "      <th>dimensions_url</th>\n",
       "      <th>publication_month</th>\n",
       "      <th>arxiv_id</th>\n",
       "    </tr>\n",
       "  </thead>\n",
       "  <tbody>\n",
       "    <tr>\n",
       "      <th>42642</th>\n",
       "      <td>pub.1126924428</td>\n",
       "      <td></td>\n",
       "      <td></td>\n",
       "      <td></td>\n",
       "      <td>CORD-19: The Covid-19 Open Research Dataset</td>\n",
       "      <td>The Covid-19 Open Research Dataset (CORD-19) i...</td>\n",
       "      <td>arXiv</td>\n",
       "      <td>jour.1371339</td>\n",
       "      <td></td>\n",
       "      <td>2020</td>\n",
       "      <td></td>\n",
       "      <td></td>\n",
       "      <td></td>\n",
       "      <td>All OA; Green, Submitted</td>\n",
       "      <td>preprint</td>\n",
       "      <td>https://app.dimensions.ai/details/publication/...</td>\n",
       "      <td>4</td>\n",
       "      <td>2004.10706</td>\n",
       "    </tr>\n",
       "  </tbody>\n",
       "</table>\n",
       "</div>"
      ],
      "text/plain": [
       "        dimensions_id doi pmid pmcid  \\\n",
       "42642  pub.1126924428                  \n",
       "\n",
       "                                             title  \\\n",
       "42642  CORD-19: The Covid-19 Open Research Dataset   \n",
       "\n",
       "                                                abstract journal  \\\n",
       "42642  The Covid-19 Open Research Dataset (CORD-19) i...   arXiv   \n",
       "\n",
       "         source_uid mesh_terms publication_year volume issue pages  \\\n",
       "42642  jour.1371339                        2020                      \n",
       "\n",
       "                    open_access publication_type  \\\n",
       "42642  All OA; Green, Submitted         preprint   \n",
       "\n",
       "                                          dimensions_url publication_month  \\\n",
       "42642  https://app.dimensions.ai/details/publication/...                 4   \n",
       "\n",
       "         arxiv_id  \n",
       "42642  2004.10706  "
      ]
     },
     "execution_count": 50,
     "metadata": {},
     "output_type": "execute_result"
    }
   ],
   "source": [
    "df_dimensions[df_dimensions.title==\"CORD-19: The Covid-19 Open Research Dataset\"]"
   ]
  },
  {
   "cell_type": "code",
   "execution_count": 51,
   "metadata": {},
   "outputs": [
    {
     "data": {
      "image/png": "[encoded data removed]",
      "text/plain": [
       "<Figure size 432x288 with 1 Axes>"
      ]
     },
     "metadata": {},
     "output_type": "display_data"
    }
   ],
   "source": [
    "# license\n",
    "df_sub = df_cord[df_cord.license.isin(df_cord.license.value_counts()[:30].index.tolist())]\n",
    "b = sns.countplot(y=\"license\", data=df_sub, order=df_sub['license'].value_counts().index)\n",
    "#b.axes.set_title(\"Title\",fontsize=50)\n",
    "b.set_xlabel(\"Count\",fontsize=15)\n",
    "b.set_ylabel(\"License\",fontsize=15)\n",
    "b.tick_params(labelsize=15)"
   ]
  },
  {
   "cell_type": "markdown",
   "metadata": {},
   "source": [
    "### Prepare tables"
   ]
  },
  {
   "cell_type": "code",
   "execution_count": 52,
   "metadata": {},
   "outputs": [],
   "source": [
    "# the main table: pub"
   ]
  },
  {
   "cell_type": "code",
   "execution_count": 53,
   "metadata": {},
   "outputs": [],
   "source": [
    "pub_table_columns = ['title','abstract','publication_year','publication_month','journal','volume','issue','pages','doi','pmid','pmcid','dimensions_id','arxiv_id']\n",
    "\n",
    "df_pub = df_dimensions[pub_table_columns].append(df_cord[pub_table_columns], ignore_index=True)"
   ]
  },
  {
   "cell_type": "code",
   "execution_count": 54,
   "metadata": {},
   "outputs": [],
   "source": [
    "df_pub[\"title\"] = df_pub[\"title\"].apply(sanitize_string)\n",
    "df_pub[\"abstract\"] = df_pub[\"abstract\"].apply(sanitize_string)\n",
    "df_pub[\"doi\"] = df_pub[\"doi\"].apply(str.lower)\n",
    "df_pub[\"pmid\"] = df_pub[\"pmid\"].apply(str.lower)\n",
    "df_pub[\"pmcid\"] = df_pub[\"pmcid\"].apply(str.lower)\n",
    "df_pub[\"dimensions_id\"] = df_pub[\"dimensions_id\"].apply(str.lower)\n",
    "df_pub[\"arxiv_id\"] = df_pub[\"arxiv_id\"].apply(str.lower)"
   ]
  },
  {
   "cell_type": "code",
   "execution_count": 55,
   "metadata": {},
   "outputs": [
    {
     "data": {
      "text/plain": [
       "(231384, 13)"
      ]
     },
     "execution_count": 55,
     "metadata": {},
     "output_type": "execute_result"
    }
   ],
   "source": [
    "df_pub.shape"
   ]
  },
  {
   "cell_type": "code",
   "execution_count": 56,
   "metadata": {},
   "outputs": [
    {
     "data": {
      "text/plain": [
       "(28994, 13)"
      ]
     },
     "execution_count": 56,
     "metadata": {},
     "output_type": "execute_result"
    }
   ],
   "source": [
    "df_pub[(df_pub.doi==\"\") & (df_pub.pmid==\"\") & (df_pub.pmcid==\"\") & (df_pub.dimensions_id==\"\") & (df_pub.arxiv_id==\"\")].shape"
   ]
  },
  {
   "cell_type": "code",
   "execution_count": 57,
   "metadata": {},
   "outputs": [],
   "source": [
    "# check to have at least one valid identifier per publication\n",
    "# we drop publications which do not: hopefully, they will be equipped with an identifier in future releases\n",
    "\n",
    "df_pub = df_pub[~((df_pub.doi==\"\") & (df_pub.pmid==\"\") & (df_pub.pmcid==\"\") & (df_pub.dimensions_id==\"\") & (df_pub.arxiv_id==\"\"))]"
   ]
  },
  {
   "cell_type": "code",
   "execution_count": 58,
   "metadata": {},
   "outputs": [
    {
     "data": {
      "text/html": [
       "<div>\n",
       "<style scoped>\n",
       "    .dataframe tbody tr th:only-of-type {\n",
       "        vertical-align: middle;\n",
       "    }\n",
       "\n",
       "    .dataframe tbody tr th {\n",
       "        vertical-align: top;\n",
       "    }\n",
       "\n",
       "    .dataframe thead th {\n",
       "        text-align: right;\n",
       "    }\n",
       "</style>\n",
       "<table border=\"1\" class=\"dataframe\">\n",
       "  <thead>\n",
       "    <tr style=\"text-align: right;\">\n",
       "      <th></th>\n",
       "      <th>title</th>\n",
       "      <th>abstract</th>\n",
       "      <th>publication_year</th>\n",
       "      <th>publication_month</th>\n",
       "      <th>journal</th>\n",
       "      <th>volume</th>\n",
       "      <th>issue</th>\n",
       "      <th>pages</th>\n",
       "      <th>doi</th>\n",
       "      <th>pmid</th>\n",
       "      <th>pmcid</th>\n",
       "      <th>dimensions_id</th>\n",
       "      <th>arxiv_id</th>\n",
       "    </tr>\n",
       "  </thead>\n",
       "  <tbody>\n",
       "  </tbody>\n",
       "</table>\n",
       "</div>"
      ],
      "text/plain": [
       "Empty DataFrame\n",
       "Columns: [title, abstract, publication_year, publication_month, journal, volume, issue, pages, doi, pmid, pmcid, dimensions_id, arxiv_id]\n",
       "Index: []"
      ]
     },
     "execution_count": 58,
     "metadata": {},
     "output_type": "execute_result"
    }
   ],
   "source": [
    "df_pub[df_pub.doi==\"0.1126/science.abb7331\"]"
   ]
  },
  {
   "cell_type": "code",
   "execution_count": 59,
   "metadata": {},
   "outputs": [],
   "source": [
    "# drop duplicates, first on dois then pmids then pmcids. We need this to keep empty values!\n",
    "df_tmp = df_pub[df_pub.doi==\"\"]\n",
    "df_pub1 = df_pub[df_pub.doi!=\"\"].groupby('doi').first()\n",
    "df_pub1.reset_index(inplace=True)\n",
    "df_tmp2 = df_tmp[df_tmp.pmid==\"\"]\n",
    "df_pub2 = df_tmp[df_tmp.pmid!=\"\"].groupby('pmid').first()\n",
    "df_pub2.reset_index(inplace=True)\n",
    "df_tmp3 = df_tmp2[df_tmp2.pmcid==\"\"]\n",
    "df_pub3 = df_tmp2[df_tmp2.pmcid!=\"\"].groupby('pmcid').first()\n",
    "df_pub3.reset_index(inplace=True)\n",
    "df_tmp4 = df_tmp3[df_tmp3.arxiv_id==\"\"]\n",
    "df_pub4 = df_tmp3[df_tmp3.arxiv_id!=\"\"].groupby('arxiv_id').first()\n",
    "df_pub4.reset_index(inplace=True)\n",
    "df_pub5 = df_tmp4[df_tmp4.dimensions_id!=\"\"].groupby('dimensions_id').first()\n",
    "df_pub5.reset_index(inplace=True)"
   ]
  },
  {
   "cell_type": "code",
   "execution_count": 60,
   "metadata": {},
   "outputs": [
    {
     "data": {
      "text/html": [
       "<div>\n",
       "<style scoped>\n",
       "    .dataframe tbody tr th:only-of-type {\n",
       "        vertical-align: middle;\n",
       "    }\n",
       "\n",
       "    .dataframe tbody tr th {\n",
       "        vertical-align: top;\n",
       "    }\n",
       "\n",
       "    .dataframe thead th {\n",
       "        text-align: right;\n",
       "    }\n",
       "</style>\n",
       "<table border=\"1\" class=\"dataframe\">\n",
       "  <thead>\n",
       "    <tr style=\"text-align: right;\">\n",
       "      <th></th>\n",
       "      <th>doi</th>\n",
       "      <th>title</th>\n",
       "      <th>abstract</th>\n",
       "      <th>publication_year</th>\n",
       "      <th>publication_month</th>\n",
       "      <th>journal</th>\n",
       "      <th>volume</th>\n",
       "      <th>issue</th>\n",
       "      <th>pages</th>\n",
       "      <th>pmid</th>\n",
       "      <th>pmcid</th>\n",
       "      <th>dimensions_id</th>\n",
       "      <th>arxiv_id</th>\n",
       "    </tr>\n",
       "  </thead>\n",
       "  <tbody>\n",
       "  </tbody>\n",
       "</table>\n",
       "</div>"
      ],
      "text/plain": [
       "Empty DataFrame\n",
       "Columns: [doi, title, abstract, publication_year, publication_month, journal, volume, issue, pages, pmid, pmcid, dimensions_id, arxiv_id]\n",
       "Index: []"
      ]
     },
     "execution_count": 60,
     "metadata": {},
     "output_type": "execute_result"
    }
   ],
   "source": [
    "df_pub1[df_pub1.doi==\"0.1126/science.abb7331\"]"
   ]
  },
  {
   "cell_type": "code",
   "execution_count": 61,
   "metadata": {},
   "outputs": [],
   "source": [
    "df_pub = pd.concat([df_pub1,df_pub2,df_pub3,df_pub4,df_pub5])"
   ]
  },
  {
   "cell_type": "code",
   "execution_count": 62,
   "metadata": {},
   "outputs": [],
   "source": [
    "# add PK and reset index\n",
    "df_pub.reset_index(drop=True,inplace=True)\n",
    "df_pub[\"pub_id\"] = df_pub.index.values"
   ]
  },
  {
   "cell_type": "code",
   "execution_count": 63,
   "metadata": {},
   "outputs": [
    {
     "data": {
      "text/plain": [
       "(160656, 14)"
      ]
     },
     "execution_count": 63,
     "metadata": {},
     "output_type": "execute_result"
    }
   ],
   "source": [
    "df_pub.shape"
   ]
  },
  {
   "cell_type": "code",
   "execution_count": 64,
   "metadata": {},
   "outputs": [
    {
     "data": {
      "text/html": [
       "<div>\n",
       "<style scoped>\n",
       "    .dataframe tbody tr th:only-of-type {\n",
       "        vertical-align: middle;\n",
       "    }\n",
       "\n",
       "    .dataframe tbody tr th {\n",
       "        vertical-align: top;\n",
       "    }\n",
       "\n",
       "    .dataframe thead th {\n",
       "        text-align: right;\n",
       "    }\n",
       "</style>\n",
       "<table border=\"1\" class=\"dataframe\">\n",
       "  <thead>\n",
       "    <tr style=\"text-align: right;\">\n",
       "      <th></th>\n",
       "      <th>doi</th>\n",
       "      <th>title</th>\n",
       "      <th>abstract</th>\n",
       "      <th>publication_year</th>\n",
       "      <th>publication_month</th>\n",
       "      <th>journal</th>\n",
       "      <th>volume</th>\n",
       "      <th>issue</th>\n",
       "      <th>pages</th>\n",
       "      <th>pmid</th>\n",
       "      <th>pmcid</th>\n",
       "      <th>dimensions_id</th>\n",
       "      <th>arxiv_id</th>\n",
       "      <th>pub_id</th>\n",
       "    </tr>\n",
       "  </thead>\n",
       "  <tbody>\n",
       "    <tr>\n",
       "      <th>140612</th>\n",
       "      <td>10.3934/mine.2021013</td>\n",
       "      <td>A simple SIR model with a large set of asympto...</td>\n",
       "      <td>There is increasing evidence that one of the m...</td>\n",
       "      <td>2020</td>\n",
       "      <td>3</td>\n",
       "      <td></td>\n",
       "      <td></td>\n",
       "      <td></td>\n",
       "      <td></td>\n",
       "      <td></td>\n",
       "      <td></td>\n",
       "      <td></td>\n",
       "      <td>2003.08720</td>\n",
       "      <td>140612</td>\n",
       "    </tr>\n",
       "    <tr>\n",
       "      <th>158867</th>\n",
       "      <td></td>\n",
       "      <td>Predicting the evolution of the COVID-19 epide...</td>\n",
       "      <td>The presence of a large number of infected ind...</td>\n",
       "      <td>2020</td>\n",
       "      <td>5</td>\n",
       "      <td>arXiv</td>\n",
       "      <td></td>\n",
       "      <td></td>\n",
       "      <td></td>\n",
       "      <td></td>\n",
       "      <td></td>\n",
       "      <td>pub.1127904057</td>\n",
       "      <td>2003.08720</td>\n",
       "      <td>158867</td>\n",
       "    </tr>\n",
       "  </tbody>\n",
       "</table>\n",
       "</div>"
      ],
      "text/plain": [
       "                         doi  \\\n",
       "140612  10.3934/mine.2021013   \n",
       "158867                         \n",
       "\n",
       "                                                    title  \\\n",
       "140612  A simple SIR model with a large set of asympto...   \n",
       "158867  Predicting the evolution of the COVID-19 epide...   \n",
       "\n",
       "                                                 abstract publication_year  \\\n",
       "140612  There is increasing evidence that one of the m...             2020   \n",
       "158867  The presence of a large number of infected ind...             2020   \n",
       "\n",
       "       publication_month journal volume issue pages pmid pmcid  \\\n",
       "140612                 3                                         \n",
       "158867                 5   arXiv                                 \n",
       "\n",
       "         dimensions_id    arxiv_id  pub_id  \n",
       "140612                  2003.08720  140612  \n",
       "158867  pub.1127904057  2003.08720  158867  "
      ]
     },
     "execution_count": 64,
     "metadata": {},
     "output_type": "execute_result"
    }
   ],
   "source": [
    "df_pub[df_pub.arxiv_id==\"2003.08720\"]"
   ]
  },
  {
   "cell_type": "code",
   "execution_count": 68,
   "metadata": {},
   "outputs": [],
   "source": [
    "# create other tables via joins\n",
    "\n",
    "df_datasource = pd.DataFrame.from_dict({\"source\":[\"CORD19\",\"Dimensions\"],\"url\":[\"https://pages.semanticscholar.org/coronavirus-research\",\"https://docs.google.com/spreadsheets/d/1-kTZJZ1GAhJ2m4GAIhw1ZdlgO46JpvX0ZQa232VWRmw/edit#gid=2034285255\"]})\n",
    "df_cord_metadata = df_cord[['source','license','ms_academic_id','who_covidence','doi','pmid','pmcid','sha','arxiv_id']]\n",
    "df_dimensions_metadata = df_dimensions[['dimensions_id', 'doi', 'pmid', 'pmcid','arxiv_id', 'source_uid', 'mesh_terms',\n",
    "       'open_access', 'publication_type', 'dimensions_url']]"
   ]
  },
  {
   "cell_type": "code",
   "execution_count": 69,
   "metadata": {},
   "outputs": [],
   "source": [
    "df_cord_metadata[\"doi\"] = df_cord_metadata[\"doi\"].apply(str.lower)\n",
    "df_cord_metadata[\"pmid\"] = df_cord_metadata[\"pmid\"].apply(str.lower)\n",
    "df_cord_metadata[\"pmcid\"] = df_cord_metadata[\"pmcid\"].apply(str.lower)\n",
    "df_dimensions_metadata[\"doi\"] = df_dimensions_metadata[\"doi\"].apply(str.lower)\n",
    "df_dimensions_metadata[\"pmid\"] = df_dimensions_metadata[\"pmid\"].apply(str.lower)\n",
    "df_dimensions_metadata[\"pmcid\"] = df_dimensions_metadata[\"pmcid\"].apply(str.lower)"
   ]
  },
  {
   "cell_type": "code",
   "execution_count": 70,
   "metadata": {},
   "outputs": [
    {
     "data": {
      "text/html": [
       "<div>\n",
       "<style scoped>\n",
       "    .dataframe tbody tr th:only-of-type {\n",
       "        vertical-align: middle;\n",
       "    }\n",
       "\n",
       "    .dataframe tbody tr th {\n",
       "        vertical-align: top;\n",
       "    }\n",
       "\n",
       "    .dataframe thead th {\n",
       "        text-align: right;\n",
       "    }\n",
       "</style>\n",
       "<table border=\"1\" class=\"dataframe\">\n",
       "  <thead>\n",
       "    <tr style=\"text-align: right;\">\n",
       "      <th></th>\n",
       "      <th>source</th>\n",
       "      <th>url</th>\n",
       "    </tr>\n",
       "  </thead>\n",
       "  <tbody>\n",
       "    <tr>\n",
       "      <th>0</th>\n",
       "      <td>CORD19</td>\n",
       "      <td>https://pages.semanticscholar.org/coronavirus-...</td>\n",
       "    </tr>\n",
       "    <tr>\n",
       "      <th>1</th>\n",
       "      <td>Dimensions</td>\n",
       "      <td>https://docs.google.com/spreadsheets/d/1-kTZJZ...</td>\n",
       "    </tr>\n",
       "  </tbody>\n",
       "</table>\n",
       "</div>"
      ],
      "text/plain": [
       "       source                                                url\n",
       "0      CORD19  https://pages.semanticscholar.org/coronavirus-...\n",
       "1  Dimensions  https://docs.google.com/spreadsheets/d/1-kTZJZ..."
      ]
     },
     "execution_count": 70,
     "metadata": {},
     "output_type": "execute_result"
    }
   ],
   "source": [
    "df_datasource.head()"
   ]
  },
  {
   "cell_type": "code",
   "execution_count": 71,
   "metadata": {},
   "outputs": [],
   "source": [
    "# CORD19 metadata"
   ]
  },
  {
   "cell_type": "code",
   "execution_count": 72,
   "metadata": {},
   "outputs": [
    {
     "data": {
      "text/plain": [
       "(169821, 9)"
      ]
     },
     "execution_count": 72,
     "metadata": {},
     "output_type": "execute_result"
    }
   ],
   "source": [
    "df_cord_metadata.shape"
   ]
  },
  {
   "cell_type": "code",
   "execution_count": 73,
   "metadata": {},
   "outputs": [
    {
     "data": {
      "text/html": [
       "<div>\n",
       "<style scoped>\n",
       "    .dataframe tbody tr th:only-of-type {\n",
       "        vertical-align: middle;\n",
       "    }\n",
       "\n",
       "    .dataframe tbody tr th {\n",
       "        vertical-align: top;\n",
       "    }\n",
       "\n",
       "    .dataframe thead th {\n",
       "        text-align: right;\n",
       "    }\n",
       "</style>\n",
       "<table border=\"1\" class=\"dataframe\">\n",
       "  <thead>\n",
       "    <tr style=\"text-align: right;\">\n",
       "      <th></th>\n",
       "      <th>doi</th>\n",
       "      <th>title</th>\n",
       "      <th>abstract</th>\n",
       "      <th>publication_year</th>\n",
       "      <th>publication_month</th>\n",
       "      <th>journal</th>\n",
       "      <th>volume</th>\n",
       "      <th>issue</th>\n",
       "      <th>pages</th>\n",
       "      <th>pmid</th>\n",
       "      <th>pmcid</th>\n",
       "      <th>dimensions_id</th>\n",
       "      <th>arxiv_id</th>\n",
       "      <th>pub_id</th>\n",
       "    </tr>\n",
       "  </thead>\n",
       "  <tbody>\n",
       "  </tbody>\n",
       "</table>\n",
       "</div>"
      ],
      "text/plain": [
       "Empty DataFrame\n",
       "Columns: [doi, title, abstract, publication_year, publication_month, journal, volume, issue, pages, pmid, pmcid, dimensions_id, arxiv_id, pub_id]\n",
       "Index: []"
      ]
     },
     "execution_count": 73,
     "metadata": {},
     "output_type": "execute_result"
    }
   ],
   "source": [
    "df_pub[df_pub.doi==\"0.1126/science.abb7331\"]"
   ]
  },
  {
   "cell_type": "code",
   "execution_count": 74,
   "metadata": {},
   "outputs": [],
   "source": [
    "#We need this to keep empty values!\n",
    "\n",
    "df_tmp = df_cord_metadata[df_cord_metadata.doi==\"\"]\n",
    "df_cord_metadata1 = pd.merge(df_cord_metadata[df_cord_metadata.doi!=\"\"], df_pub[['pub_id','doi']],  how='inner', left_on=['doi'], right_on=['doi'])\n",
    "df_tmp2 = df_tmp[df_tmp.pmid==\"\"]\n",
    "df_cord_metadata2 = pd.merge(df_tmp[df_tmp.pmid!=\"\"], df_pub[['pub_id','pmid']],  how='inner', left_on=['pmid'], right_on=['pmid'])\n",
    "df_tmp3 = df_tmp2[df_tmp2.pmcid==\"\"]\n",
    "df_cord_metadata3 = pd.merge(df_tmp2[df_tmp2.pmcid!=\"\"], df_pub[['pub_id','pmcid']],  how='inner', left_on=['pmcid'], right_on=['pmcid'])\n",
    "df_cord_metadata4 = pd.merge(df_tmp3[df_tmp3.arxiv_id!=\"\"], df_pub[['pub_id','arxiv_id']],  how='inner', left_on=['arxiv_id'], right_on=['arxiv_id'])"
   ]
  },
  {
   "cell_type": "code",
   "execution_count": 75,
   "metadata": {},
   "outputs": [],
   "source": [
    "df_cord_metadata1 = df_cord_metadata1.groupby(\"doi\").first()\n",
    "df_cord_metadata1.reset_index(inplace=True)\n",
    "df_cord_metadata2 = df_cord_metadata2.groupby(\"pmid\").first()\n",
    "df_cord_metadata2.reset_index(inplace=True)\n",
    "df_cord_metadata3 = df_cord_metadata3.groupby(\"pmcid\").first()\n",
    "df_cord_metadata3.reset_index(inplace=True)\n",
    "df_cord_metadata4 = df_cord_metadata4.groupby(\"arxiv_id\").first()\n",
    "df_cord_metadata4.reset_index(inplace=True)"
   ]
  },
  {
   "cell_type": "code",
   "execution_count": 76,
   "metadata": {},
   "outputs": [],
   "source": [
    "df_cord_metadata = pd.concat([df_cord_metadata1,df_cord_metadata2,df_cord_metadata3,df_cord_metadata4])"
   ]
  },
  {
   "cell_type": "code",
   "execution_count": 77,
   "metadata": {},
   "outputs": [
    {
     "data": {
      "text/plain": [
       "(140351, 10)"
      ]
     },
     "execution_count": 77,
     "metadata": {},
     "output_type": "execute_result"
    }
   ],
   "source": [
    "df_cord_metadata.shape"
   ]
  },
  {
   "cell_type": "code",
   "execution_count": 78,
   "metadata": {},
   "outputs": [
    {
     "data": {
      "application/vnd.jupyter.widget-view+json": {
       "model_id": "b2de4375e1b84e7ca074eb3c60279e03",
       "version_major": 2,
       "version_minor": 0
      },
      "text/plain": [
       "HBox(children=(FloatProgress(value=0.0, max=78741.0), HTML(value='')))"
      ]
     },
     "metadata": {},
     "output_type": "display_data"
    },
    {
     "name": "stdout",
     "output_type": "stream",
     "text": [
      "\n"
     ]
    }
   ],
   "source": [
    "# read full texts in\n",
    "folders = ['document_parses/pdf_json']\n",
    "shas = list()\n",
    "full_texts = list()\n",
    "\n",
    "for folder in folders:\n",
    "    for root, dirs, files in os.walk(os.path.join(cord19_folder,folder)):\n",
    "        for file in tqdm(files):\n",
    "            if \".json\" in file: # read\n",
    "                data = json.loads(codecs.open(os.path.join(root,file)).read())\n",
    "                sha = data[\"paper_id\"]\n",
    "                full_text = \" \".join(sanitize_string(section[\"text\"]) for section in data[\"body_text\"])\n",
    "                shas.append(sha)\n",
    "                full_texts.append(full_text)"
   ]
  },
  {
   "cell_type": "code",
   "execution_count": 79,
   "metadata": {},
   "outputs": [],
   "source": [
    "df_cord_fulltext = pd.DataFrame.from_dict({\"sha\":shas,\"full_text\":full_texts})"
   ]
  },
  {
   "cell_type": "code",
   "execution_count": 80,
   "metadata": {},
   "outputs": [
    {
     "data": {
      "text/plain": [
       "(78741, 2)"
      ]
     },
     "execution_count": 80,
     "metadata": {},
     "output_type": "execute_result"
    }
   ],
   "source": [
    "df_cord_fulltext.shape"
   ]
  },
  {
   "cell_type": "code",
   "execution_count": 81,
   "metadata": {},
   "outputs": [],
   "source": [
    "df_cord_metadata = pd.merge(df_cord_metadata, df_cord_fulltext,  how='left', left_on=['sha'], right_on=['sha'])\n",
    "df_cord_metadata = df_cord_metadata.fillna('')\n",
    "df_cord_metadata.rename(columns={\"id\":\"pub_id\"},inplace=True)"
   ]
  },
  {
   "cell_type": "code",
   "execution_count": 82,
   "metadata": {},
   "outputs": [
    {
     "data": {
      "text/html": [
       "<div>\n",
       "<style scoped>\n",
       "    .dataframe tbody tr th:only-of-type {\n",
       "        vertical-align: middle;\n",
       "    }\n",
       "\n",
       "    .dataframe tbody tr th {\n",
       "        vertical-align: top;\n",
       "    }\n",
       "\n",
       "    .dataframe thead th {\n",
       "        text-align: right;\n",
       "    }\n",
       "</style>\n",
       "<table border=\"1\" class=\"dataframe\">\n",
       "  <thead>\n",
       "    <tr style=\"text-align: right;\">\n",
       "      <th></th>\n",
       "      <th>doi</th>\n",
       "      <th>source</th>\n",
       "      <th>license</th>\n",
       "      <th>ms_academic_id</th>\n",
       "      <th>who_covidence</th>\n",
       "      <th>pmid</th>\n",
       "      <th>pmcid</th>\n",
       "      <th>sha</th>\n",
       "      <th>arxiv_id</th>\n",
       "      <th>pub_id</th>\n",
       "      <th>full_text</th>\n",
       "    </tr>\n",
       "  </thead>\n",
       "  <tbody>\n",
       "    <tr>\n",
       "      <th>0</th>\n",
       "      <td>10.0376/cma.j.issn.0376-2491.2020.0002</td>\n",
       "      <td>Medline; WHO</td>\n",
       "      <td>unk</td>\n",
       "      <td></td>\n",
       "      <td>#615</td>\n",
       "      <td>32036640</td>\n",
       "      <td></td>\n",
       "      <td></td>\n",
       "      <td></td>\n",
       "      <td>1</td>\n",
       "      <td></td>\n",
       "    </tr>\n",
       "    <tr>\n",
       "      <th>1</th>\n",
       "      <td>10.1001/amajethics.2020.344</td>\n",
       "      <td>Medline</td>\n",
       "      <td>unk</td>\n",
       "      <td></td>\n",
       "      <td></td>\n",
       "      <td>32345430</td>\n",
       "      <td></td>\n",
       "      <td></td>\n",
       "      <td></td>\n",
       "      <td>2</td>\n",
       "      <td></td>\n",
       "    </tr>\n",
       "    <tr>\n",
       "      <th>2</th>\n",
       "      <td>10.1001/amajethics.2020.441</td>\n",
       "      <td>Medline</td>\n",
       "      <td>unk</td>\n",
       "      <td></td>\n",
       "      <td></td>\n",
       "      <td>32449663</td>\n",
       "      <td></td>\n",
       "      <td></td>\n",
       "      <td></td>\n",
       "      <td>3</td>\n",
       "      <td></td>\n",
       "    </tr>\n",
       "    <tr>\n",
       "      <th>3</th>\n",
       "      <td>10.1001/amajethics.2020.55</td>\n",
       "      <td>Medline</td>\n",
       "      <td>unk</td>\n",
       "      <td></td>\n",
       "      <td></td>\n",
       "      <td>31958392</td>\n",
       "      <td></td>\n",
       "      <td></td>\n",
       "      <td></td>\n",
       "      <td>4</td>\n",
       "      <td></td>\n",
       "    </tr>\n",
       "    <tr>\n",
       "      <th>4</th>\n",
       "      <td>10.1001/archdermatol.2010.96</td>\n",
       "      <td>Medline</td>\n",
       "      <td>unk</td>\n",
       "      <td></td>\n",
       "      <td></td>\n",
       "      <td>20566928</td>\n",
       "      <td></td>\n",
       "      <td></td>\n",
       "      <td></td>\n",
       "      <td>5</td>\n",
       "      <td></td>\n",
       "    </tr>\n",
       "  </tbody>\n",
       "</table>\n",
       "</div>"
      ],
      "text/plain": [
       "                                      doi        source license  \\\n",
       "0  10.0376/cma.j.issn.0376-2491.2020.0002  Medline; WHO     unk   \n",
       "1             10.1001/amajethics.2020.344       Medline     unk   \n",
       "2             10.1001/amajethics.2020.441       Medline     unk   \n",
       "3              10.1001/amajethics.2020.55       Medline     unk   \n",
       "4            10.1001/archdermatol.2010.96       Medline     unk   \n",
       "\n",
       "  ms_academic_id who_covidence      pmid pmcid sha arxiv_id  pub_id full_text  \n",
       "0                         #615  32036640                          1            \n",
       "1                               32345430                          2            \n",
       "2                               32449663                          3            \n",
       "3                               31958392                          4            \n",
       "4                               20566928                          5            "
      ]
     },
     "execution_count": 82,
     "metadata": {},
     "output_type": "execute_result"
    }
   ],
   "source": [
    "df_cord_metadata.head()"
   ]
  },
  {
   "cell_type": "code",
   "execution_count": 83,
   "metadata": {},
   "outputs": [
    {
     "data": {
      "text/html": [
       "<div>\n",
       "<style scoped>\n",
       "    .dataframe tbody tr th:only-of-type {\n",
       "        vertical-align: middle;\n",
       "    }\n",
       "\n",
       "    .dataframe tbody tr th {\n",
       "        vertical-align: top;\n",
       "    }\n",
       "\n",
       "    .dataframe thead th {\n",
       "        text-align: right;\n",
       "    }\n",
       "</style>\n",
       "<table border=\"1\" class=\"dataframe\">\n",
       "  <thead>\n",
       "    <tr style=\"text-align: right;\">\n",
       "      <th></th>\n",
       "      <th>doi</th>\n",
       "      <th>source</th>\n",
       "      <th>license</th>\n",
       "      <th>ms_academic_id</th>\n",
       "      <th>who_covidence</th>\n",
       "      <th>pmid</th>\n",
       "      <th>pmcid</th>\n",
       "      <th>sha</th>\n",
       "      <th>arxiv_id</th>\n",
       "      <th>pub_id</th>\n",
       "      <th>full_text</th>\n",
       "    </tr>\n",
       "  </thead>\n",
       "  <tbody>\n",
       "    <tr>\n",
       "      <th>3260</th>\n",
       "      <td>10.1002/jmv.25885</td>\n",
       "      <td>ArXiv; Medline; PMC</td>\n",
       "      <td>no-cc</td>\n",
       "      <td></td>\n",
       "      <td></td>\n",
       "      <td>32329522</td>\n",
       "      <td>pmc7264574</td>\n",
       "      <td>19bc551f5c9f522311412afff47f9569173de02f</td>\n",
       "      <td>2003.06933</td>\n",
       "      <td>3756</td>\n",
       "      <td>. 3, 4 The name originates from the morphology...</td>\n",
       "    </tr>\n",
       "    <tr>\n",
       "      <th>18442</th>\n",
       "      <td>10.1007/s10494-011-9345-0</td>\n",
       "      <td>ArXiv</td>\n",
       "      <td>arxiv</td>\n",
       "      <td></td>\n",
       "      <td></td>\n",
       "      <td></td>\n",
       "      <td></td>\n",
       "      <td></td>\n",
       "      <td>1305.2885</td>\n",
       "      <td>19690</td>\n",
       "      <td></td>\n",
       "    </tr>\n",
       "    <tr>\n",
       "      <th>19233</th>\n",
       "      <td>10.1007/s10955-013-0690-3</td>\n",
       "      <td>ArXiv</td>\n",
       "      <td>arxiv</td>\n",
       "      <td></td>\n",
       "      <td></td>\n",
       "      <td></td>\n",
       "      <td></td>\n",
       "      <td>67326b132f0b8258c4cd41a517b2d65404d58901</td>\n",
       "      <td>1211.2163</td>\n",
       "      <td>20490</td>\n",
       "      <td>that the population within a single subpopulat...</td>\n",
       "    </tr>\n",
       "    <tr>\n",
       "      <th>19234</th>\n",
       "      <td>10.1007/s10955-014-1024-9</td>\n",
       "      <td>ArXiv; Medline; PMC</td>\n",
       "      <td>no-cc</td>\n",
       "      <td></td>\n",
       "      <td></td>\n",
       "      <td>26074625</td>\n",
       "      <td>pmc4457089</td>\n",
       "      <td>2305deb2b01f516b57b37719a3c62804637a9139; 5354...</td>\n",
       "      <td>1402.7011</td>\n",
       "      <td>20491</td>\n",
       "      <td></td>\n",
       "    </tr>\n",
       "    <tr>\n",
       "      <th>19579</th>\n",
       "      <td>10.1007/s11192-020-03525-2</td>\n",
       "      <td>ArXiv; PMC; WHO</td>\n",
       "      <td>no-cc</td>\n",
       "      <td></td>\n",
       "      <td>#361454</td>\n",
       "      <td></td>\n",
       "      <td>pmc7246301</td>\n",
       "      <td>f760dc111aa33ab7a50d3944737d78f0bb4eb08e; b317...</td>\n",
       "      <td>2005.09433</td>\n",
       "      <td>20840</td>\n",
       "      <td></td>\n",
       "    </tr>\n",
       "  </tbody>\n",
       "</table>\n",
       "</div>"
      ],
      "text/plain": [
       "                              doi               source license ms_academic_id  \\\n",
       "3260            10.1002/jmv.25885  ArXiv; Medline; PMC   no-cc                  \n",
       "18442   10.1007/s10494-011-9345-0                ArXiv   arxiv                  \n",
       "19233   10.1007/s10955-013-0690-3                ArXiv   arxiv                  \n",
       "19234   10.1007/s10955-014-1024-9  ArXiv; Medline; PMC   no-cc                  \n",
       "19579  10.1007/s11192-020-03525-2      ArXiv; PMC; WHO   no-cc                  \n",
       "\n",
       "      who_covidence      pmid       pmcid  \\\n",
       "3260                 32329522  pmc7264574   \n",
       "18442                                       \n",
       "19233                                       \n",
       "19234                26074625  pmc4457089   \n",
       "19579       #361454            pmc7246301   \n",
       "\n",
       "                                                     sha    arxiv_id  pub_id  \\\n",
       "3260            19bc551f5c9f522311412afff47f9569173de02f  2003.06933    3756   \n",
       "18442                                                      1305.2885   19690   \n",
       "19233           67326b132f0b8258c4cd41a517b2d65404d58901   1211.2163   20490   \n",
       "19234  2305deb2b01f516b57b37719a3c62804637a9139; 5354...   1402.7011   20491   \n",
       "19579  f760dc111aa33ab7a50d3944737d78f0bb4eb08e; b317...  2005.09433   20840   \n",
       "\n",
       "                                               full_text  \n",
       "3260   . 3, 4 The name originates from the morphology...  \n",
       "18442                                                     \n",
       "19233  that the population within a single subpopulat...  \n",
       "19234                                                     \n",
       "19579                                                     "
      ]
     },
     "execution_count": 83,
     "metadata": {},
     "output_type": "execute_result"
    }
   ],
   "source": [
    "df_cord_metadata[df_cord_metadata.arxiv_id!=\"\"].head()"
   ]
  },
  {
   "cell_type": "code",
   "execution_count": 84,
   "metadata": {},
   "outputs": [],
   "source": [
    "# Dimensions metadata"
   ]
  },
  {
   "cell_type": "code",
   "execution_count": 85,
   "metadata": {},
   "outputs": [],
   "source": [
    "df_tmp = df_dimensions_metadata[df_dimensions_metadata.dimensions_id==\"\"]\n",
    "df_dimensions_metadata1 = pd.merge(df_dimensions_metadata[df_dimensions_metadata.dimensions_id!=\"\"], df_pub[['pub_id','dimensions_id']],  how='inner', left_on=['dimensions_id'], right_on=['dimensions_id'])"
   ]
  },
  {
   "cell_type": "code",
   "execution_count": 86,
   "metadata": {},
   "outputs": [],
   "source": [
    "df_dimensions_metadata1 = df_dimensions_metadata1.groupby(\"dimensions_id\").first()\n",
    "df_dimensions_metadata1.reset_index(inplace=True)"
   ]
  },
  {
   "cell_type": "code",
   "execution_count": 87,
   "metadata": {},
   "outputs": [],
   "source": [
    "df_dimensions_metadata = pd.concat([df_dimensions_metadata1])"
   ]
  },
  {
   "cell_type": "code",
   "execution_count": 88,
   "metadata": {},
   "outputs": [
    {
     "data": {
      "text/plain": [
       "(61297, 11)"
      ]
     },
     "execution_count": 88,
     "metadata": {},
     "output_type": "execute_result"
    }
   ],
   "source": [
    "df_dimensions_metadata.shape"
   ]
  },
  {
   "cell_type": "code",
   "execution_count": 89,
   "metadata": {},
   "outputs": [],
   "source": [
    "df_dimensions_metadata.rename(columns={\"id\":\"pub_id\"},inplace=True)"
   ]
  },
  {
   "cell_type": "code",
   "execution_count": 232,
   "metadata": {},
   "outputs": [],
   "source": [
    "# Create datasource tables"
   ]
  },
  {
   "cell_type": "code",
   "execution_count": 90,
   "metadata": {},
   "outputs": [],
   "source": [
    "cord_source_id = df_datasource[df_datasource.source==\"CORD19\"].index.values[0]\n",
    "dimensions_source_id = df_datasource[df_datasource.source==\"Dimensions\"].index.values[0]"
   ]
  },
  {
   "cell_type": "code",
   "execution_count": 91,
   "metadata": {},
   "outputs": [],
   "source": [
    "df_cord_metadata[\"source_id\"] = cord_source_id\n",
    "df_dimensions_metadata[\"source_id\"] = dimensions_source_id"
   ]
  },
  {
   "cell_type": "code",
   "execution_count": 92,
   "metadata": {},
   "outputs": [],
   "source": [
    "df_pub_to_datasource = df_cord_metadata[[\"pub_id\",\"source_id\"]]\n",
    "df_pub_to_datasource = df_pub_to_datasource.append(df_dimensions_metadata[[\"pub_id\",\"source_id\"]],ignore_index=True)"
   ]
  },
  {
   "cell_type": "code",
   "execution_count": 93,
   "metadata": {},
   "outputs": [],
   "source": [
    "df_pub_to_datasource.drop_duplicates(inplace=True)\n",
    "df_pub_to_datasource.rename(columns={\"source_id\":\"datasource_id\"},inplace=True)"
   ]
  },
  {
   "cell_type": "code",
   "execution_count": 94,
   "metadata": {},
   "outputs": [
    {
     "data": {
      "text/plain": [
       "(201599, 2)"
      ]
     },
     "execution_count": 94,
     "metadata": {},
     "output_type": "execute_result"
    }
   ],
   "source": [
    "df_pub_to_datasource.shape"
   ]
  },
  {
   "cell_type": "code",
   "execution_count": 95,
   "metadata": {},
   "outputs": [
    {
     "data": {
      "text/html": [
       "<div>\n",
       "<style scoped>\n",
       "    .dataframe tbody tr th:only-of-type {\n",
       "        vertical-align: middle;\n",
       "    }\n",
       "\n",
       "    .dataframe tbody tr th {\n",
       "        vertical-align: top;\n",
       "    }\n",
       "\n",
       "    .dataframe thead th {\n",
       "        text-align: right;\n",
       "    }\n",
       "</style>\n",
       "<table border=\"1\" class=\"dataframe\">\n",
       "  <thead>\n",
       "    <tr style=\"text-align: right;\">\n",
       "      <th></th>\n",
       "      <th>pub_id</th>\n",
       "      <th>datasource_id</th>\n",
       "    </tr>\n",
       "  </thead>\n",
       "  <tbody>\n",
       "    <tr>\n",
       "      <th>21495</th>\n",
       "      <td>22787</td>\n",
       "      <td>0</td>\n",
       "    </tr>\n",
       "  </tbody>\n",
       "</table>\n",
       "</div>"
      ],
      "text/plain": [
       "       pub_id  datasource_id\n",
       "21495   22787              0"
      ]
     },
     "execution_count": 95,
     "metadata": {},
     "output_type": "execute_result"
    }
   ],
   "source": [
    "df_pub_to_datasource[df_pub_to_datasource.pub_id==22787]"
   ]
  },
  {
   "cell_type": "code",
   "execution_count": 96,
   "metadata": {},
   "outputs": [],
   "source": [
    "# remove unnecessary columns\n",
    "df_cord_metadata.drop(columns=['doi','pmid','pmcid','arxiv_id','source_id'],inplace=True)\n",
    "df_dimensions_metadata.drop(columns=['doi','pmid','pmcid','arxiv_id','source_id'],inplace=True)"
   ]
  },
  {
   "cell_type": "code",
   "execution_count": 97,
   "metadata": {},
   "outputs": [],
   "source": [
    "# reset all indexes which will become PKs\n",
    "df_cord_metadata.reset_index(drop=True,inplace=True)\n",
    "df_dimensions_metadata.reset_index(drop=True,inplace=True)\n",
    "df_datasource.reset_index(drop=True,inplace=True)\n",
    "df_cord_metadata[\"cord19_metadata_id\"] = df_cord_metadata.index.values\n",
    "df_dimensions_metadata[\"dimensions_metadata_id\"] = df_dimensions_metadata.index.values\n",
    "df_datasource[\"datasource_metadata_id\"] = df_datasource.index.values"
   ]
  },
  {
   "cell_type": "code",
   "execution_count": 98,
   "metadata": {},
   "outputs": [],
   "source": [
    "# make numeric where needed\n",
    "df_pub[\"publication_year\"] = pd.to_numeric(df_pub[\"publication_year\"])\n",
    "df_pub[\"publication_month\"] = pd.to_numeric(df_pub[\"publication_month\"])\n",
    "df_pub[\"pmid\"] = pd.to_numeric(df_pub[\"pmid\"])"
   ]
  },
  {
   "cell_type": "code",
   "execution_count": 99,
   "metadata": {},
   "outputs": [],
   "source": [
    "# add timestamp\n",
    "df_pub[\"timestamp\"] = pd.Timestamp.now()"
   ]
  },
  {
   "cell_type": "code",
   "execution_count": 100,
   "metadata": {},
   "outputs": [],
   "source": [
    "# clean-up text (optional)\n",
    "replaces = [\"\"]\n",
    "\n",
    "def clean_up(txt):\n",
    "    for r in replaces:\n",
    "        txt = txt.replace(r,\"\")\n",
    "    return txt.encode('utf8', 'ignore').decode('utf8')\n",
    "df_pub[\"abstract\"] = [clean_up(a) for a in df_pub[\"abstract\"].values]"
   ]
  },
  {
   "cell_type": "code",
   "execution_count": 101,
   "metadata": {},
   "outputs": [
    {
     "data": {
      "text/html": [
       "<div>\n",
       "<style scoped>\n",
       "    .dataframe tbody tr th:only-of-type {\n",
       "        vertical-align: middle;\n",
       "    }\n",
       "\n",
       "    .dataframe tbody tr th {\n",
       "        vertical-align: top;\n",
       "    }\n",
       "\n",
       "    .dataframe thead th {\n",
       "        text-align: right;\n",
       "    }\n",
       "</style>\n",
       "<table border=\"1\" class=\"dataframe\">\n",
       "  <thead>\n",
       "    <tr style=\"text-align: right;\">\n",
       "      <th></th>\n",
       "      <th>doi</th>\n",
       "      <th>title</th>\n",
       "      <th>abstract</th>\n",
       "      <th>publication_year</th>\n",
       "      <th>publication_month</th>\n",
       "      <th>journal</th>\n",
       "      <th>volume</th>\n",
       "      <th>issue</th>\n",
       "      <th>pages</th>\n",
       "      <th>pmid</th>\n",
       "      <th>pmcid</th>\n",
       "      <th>dimensions_id</th>\n",
       "      <th>arxiv_id</th>\n",
       "      <th>pub_id</th>\n",
       "      <th>timestamp</th>\n",
       "    </tr>\n",
       "  </thead>\n",
       "  <tbody>\n",
       "    <tr>\n",
       "      <th>0</th>\n",
       "      <td>10-5830-cvja-2020-016</td>\n",
       "      <td>Coronavirus disease 2019 (COVID-19) and simult...</td>\n",
       "      <td>Coronavirus disease 2019 (COVID-19) is a recen...</td>\n",
       "      <td>2020.0</td>\n",
       "      <td>5.0</td>\n",
       "      <td>CardioVascular Journal of Africa</td>\n",
       "      <td>31</td>\n",
       "      <td></td>\n",
       "      <td>1-4</td>\n",
       "      <td>32490506.0</td>\n",
       "      <td></td>\n",
       "      <td>pub.1128171889</td>\n",
       "      <td></td>\n",
       "      <td>0</td>\n",
       "      <td>2020-07-02 10:54:27.347501</td>\n",
       "    </tr>\n",
       "    <tr>\n",
       "      <th>1</th>\n",
       "      <td>10.0376/cma.j.issn.0376-2491.2020.0002</td>\n",
       "      <td>[Ten hot issues of breast cancer under the nov...</td>\n",
       "      <td></td>\n",
       "      <td>2020.0</td>\n",
       "      <td>2.0</td>\n",
       "      <td>Chinese medical journal</td>\n",
       "      <td>100</td>\n",
       "      <td>0</td>\n",
       "      <td>e002</td>\n",
       "      <td>32036640.0</td>\n",
       "      <td></td>\n",
       "      <td>pub.1124777091</td>\n",
       "      <td></td>\n",
       "      <td>1</td>\n",
       "      <td>2020-07-02 10:54:27.347501</td>\n",
       "    </tr>\n",
       "    <tr>\n",
       "      <th>2</th>\n",
       "      <td>10.1001/amajethics.2020.344</td>\n",
       "      <td>Cohesion in Distancing.</td>\n",
       "      <td>In isolation, we are physically apart; in soli...</td>\n",
       "      <td>2020.0</td>\n",
       "      <td>4.0</td>\n",
       "      <td>The AMA Journal of Ethic</td>\n",
       "      <td>22</td>\n",
       "      <td>4</td>\n",
       "      <td>e344-345</td>\n",
       "      <td>32345430.0</td>\n",
       "      <td></td>\n",
       "      <td>pub.1127182341</td>\n",
       "      <td></td>\n",
       "      <td>2</td>\n",
       "      <td>2020-07-02 10:54:27.347501</td>\n",
       "    </tr>\n",
       "    <tr>\n",
       "      <th>3</th>\n",
       "      <td>10.1001/amajethics.2020.441</td>\n",
       "      <td>Salvation in a Time of Plague.</td>\n",
       "      <td>Health workers offer their skills and care to ...</td>\n",
       "      <td>2020.0</td>\n",
       "      <td>5.0</td>\n",
       "      <td>The AMA Journal of Ethic</td>\n",
       "      <td>22</td>\n",
       "      <td>5</td>\n",
       "      <td>e441-445</td>\n",
       "      <td>32449663.0</td>\n",
       "      <td></td>\n",
       "      <td>pub.1127905371</td>\n",
       "      <td></td>\n",
       "      <td>3</td>\n",
       "      <td>2020-07-02 10:54:27.347501</td>\n",
       "    </tr>\n",
       "    <tr>\n",
       "      <th>4</th>\n",
       "      <td>10.1001/amajethics.2020.55</td>\n",
       "      <td>What Should Health Science Journalists Do in E...</td>\n",
       "      <td>Journalists have long covered outbreaks of inf...</td>\n",
       "      <td>2020.0</td>\n",
       "      <td>1.0</td>\n",
       "      <td>AMA journal of ethics</td>\n",
       "      <td></td>\n",
       "      <td></td>\n",
       "      <td></td>\n",
       "      <td>31958392.0</td>\n",
       "      <td></td>\n",
       "      <td></td>\n",
       "      <td></td>\n",
       "      <td>4</td>\n",
       "      <td>2020-07-02 10:54:27.347501</td>\n",
       "    </tr>\n",
       "  </tbody>\n",
       "</table>\n",
       "</div>"
      ],
      "text/plain": [
       "                                      doi  \\\n",
       "0                   10-5830-cvja-2020-016   \n",
       "1  10.0376/cma.j.issn.0376-2491.2020.0002   \n",
       "2             10.1001/amajethics.2020.344   \n",
       "3             10.1001/amajethics.2020.441   \n",
       "4              10.1001/amajethics.2020.55   \n",
       "\n",
       "                                               title  \\\n",
       "0  Coronavirus disease 2019 (COVID-19) and simult...   \n",
       "1  [Ten hot issues of breast cancer under the nov...   \n",
       "2                            Cohesion in Distancing.   \n",
       "3                     Salvation in a Time of Plague.   \n",
       "4  What Should Health Science Journalists Do in E...   \n",
       "\n",
       "                                            abstract  publication_year  \\\n",
       "0  Coronavirus disease 2019 (COVID-19) is a recen...            2020.0   \n",
       "1                                                               2020.0   \n",
       "2  In isolation, we are physically apart; in soli...            2020.0   \n",
       "3  Health workers offer their skills and care to ...            2020.0   \n",
       "4  Journalists have long covered outbreaks of inf...            2020.0   \n",
       "\n",
       "   publication_month                           journal volume issue     pages  \\\n",
       "0                5.0  CardioVascular Journal of Africa     31             1-4   \n",
       "1                2.0           Chinese medical journal    100     0      e002   \n",
       "2                4.0          The AMA Journal of Ethic     22     4  e344-345   \n",
       "3                5.0          The AMA Journal of Ethic     22     5  e441-445   \n",
       "4                1.0             AMA journal of ethics                          \n",
       "\n",
       "         pmid pmcid   dimensions_id arxiv_id  pub_id  \\\n",
       "0  32490506.0        pub.1128171889                0   \n",
       "1  32036640.0        pub.1124777091                1   \n",
       "2  32345430.0        pub.1127182341                2   \n",
       "3  32449663.0        pub.1127905371                3   \n",
       "4  31958392.0                                      4   \n",
       "\n",
       "                   timestamp  \n",
       "0 2020-07-02 10:54:27.347501  \n",
       "1 2020-07-02 10:54:27.347501  \n",
       "2 2020-07-02 10:54:27.347501  \n",
       "3 2020-07-02 10:54:27.347501  \n",
       "4 2020-07-02 10:54:27.347501  "
      ]
     },
     "execution_count": 101,
     "metadata": {},
     "output_type": "execute_result"
    }
   ],
   "source": [
    "df_pub.head()"
   ]
  },
  {
   "cell_type": "code",
   "execution_count": 102,
   "metadata": {},
   "outputs": [
    {
     "data": {
      "text/plain": [
       "Index(['source', 'url', 'datasource_metadata_id'], dtype='object')"
      ]
     },
     "execution_count": 102,
     "metadata": {},
     "output_type": "execute_result"
    }
   ],
   "source": [
    "# reorder the columns to match the SQL schema\n",
    "\n",
    "df_datasource.columns"
   ]
  },
  {
   "cell_type": "code",
   "execution_count": 103,
   "metadata": {},
   "outputs": [],
   "source": [
    "df_pub = df_pub[['pub_id', 'title', 'abstract', 'publication_year', 'publication_month', 'journal',\n",
    "       'volume', 'issue', 'pages', 'doi', 'pmid', 'pmcid', 'dimensions_id', 'arxiv_id',\n",
    "       'timestamp']]\n",
    "df_dimensions_metadata = df_dimensions_metadata[['dimensions_metadata_id', 'dimensions_id', 'source_uid', 'open_access',\n",
    "       'publication_type', 'dimensions_url', 'mesh_terms', 'pub_id']]\n",
    "df_cord_metadata = df_cord_metadata[[ 'cord19_metadata_id', 'source', 'license', 'ms_academic_id',\n",
    "       'who_covidence', 'sha', 'full_text', 'pub_id']]\n",
    "df_datasource = df_datasource[['datasource_metadata_id', 'source', 'url']]"
   ]
  },
  {
   "cell_type": "code",
   "execution_count": 104,
   "metadata": {},
   "outputs": [
    {
     "data": {
      "text/plain": [
       "                                 13400\n",
       "10.1111/medu.14217                   1\n",
       "10.1101/2020.04.16.20068312          1\n",
       "10.1136/bmj.m1975                    1\n",
       "10.1007/s00467-020-04585-5           1\n",
       "                                 ...  \n",
       "10.1080/0163660x.2020.1770959        1\n",
       "10.3201/eid1205.051424               1\n",
       "10.1016/s0165-2427(99)00100-2        1\n",
       "10.1371/journal.pone.0157820         1\n",
       "10.1186/s12938-016-0205-y            1\n",
       "Name: doi, Length: 147257, dtype: int64"
      ]
     },
     "execution_count": 104,
     "metadata": {},
     "output_type": "execute_result"
    }
   ],
   "source": [
    "df_pub.doi.value_counts()"
   ]
  },
  {
   "cell_type": "code",
   "execution_count": 105,
   "metadata": {},
   "outputs": [
    {
     "data": {
      "text/plain": [
       "              158498\n",
       "2004.01714         2\n",
       "2006.08365         2\n",
       "2005.08922         2\n",
       "2005.14585         2\n",
       "               ...  \n",
       "2006.10488         1\n",
       "2005.12881         1\n",
       "2006.00765         1\n",
       "2004.10305         1\n",
       "2004.07742         1\n",
       "Name: arxiv_id, Length: 2134, dtype: int64"
      ]
     },
     "execution_count": 105,
     "metadata": {},
     "output_type": "execute_result"
    }
   ],
   "source": [
    "df_pub.arxiv_id.value_counts()"
   ]
  },
  {
   "cell_type": "code",
   "execution_count": 106,
   "metadata": {},
   "outputs": [
    {
     "data": {
      "text/plain": [
       "'57258    10.1016/s0140-6736(20)30607-3'"
      ]
     },
     "execution_count": 106,
     "metadata": {},
     "output_type": "execute_result"
    }
   ],
   "source": [
    "df_pub[df_pub.doi == \"10.1016/s0140-6736(20)30607-3\"].doi.to_string()"
   ]
  },
  {
   "cell_type": "code",
   "execution_count": 107,
   "metadata": {},
   "outputs": [
    {
     "data": {
      "text/plain": [
       "Index(['cord19_metadata_id', 'source', 'license', 'ms_academic_id',\n",
       "       'who_covidence', 'sha', 'full_text', 'pub_id'],\n",
       "      dtype='object')"
      ]
     },
     "execution_count": 107,
     "metadata": {},
     "output_type": "execute_result"
    }
   ],
   "source": [
    "df_cord_metadata.columns"
   ]
  },
  {
   "cell_type": "markdown",
   "metadata": {},
   "source": [
    "### Dump to CSV"
   ]
  },
  {
   "cell_type": "code",
   "execution_count": 108,
   "metadata": {},
   "outputs": [],
   "source": [
    "### Export the df_pub dataframe for further use\n",
    "\n",
    "df_pub.to_csv(\"datasets_output/df_pub.csv\", compression=\"gzip\", index=False)"
   ]
  },
  {
   "cell_type": "code",
   "execution_count": 109,
   "metadata": {},
   "outputs": [],
   "source": [
    "# export TSV for ingestion\n",
    "\n",
    "df_pub.to_csv(\"datasets_output/sql_tables/pub.csv\",index=False,sep=\"\\t\",header=False)\n",
    "df_cord_metadata.to_csv(\"datasets_output/sql_tables/cord19_metadata.csv\",index=False,sep=\"\\t\",header=False)\n",
    "df_dimensions_metadata.to_csv(\"datasets_output/sql_tables/dimensions_metadata.csv\",index=False,sep=\"\\t\",header=False)\n",
    "df_datasource.to_csv(\"datasets_output/sql_tables/datasource.csv\",index=False,sep=\"\\t\",header=False)\n",
    "df_pub_to_datasource.to_csv(\"datasets_output/sql_tables/pub_datasource.csv\",index=False,sep=\"\\t\",header=False)"
   ]
  },
  {
   "cell_type": "markdown",
   "metadata": {},
   "source": [
    "### Dump to MySQL\n",
    "\n",
    "Use this if you want to create a MySQL db."
   ]
  },
  {
   "cell_type": "code",
   "execution_count": null,
   "metadata": {},
   "outputs": [],
   "source": [
    "dtype_dict = {'pub_id':Integer, 'title':String, 'abstract':String, 'publication_year':Integer, 'publication_month':Integer, 'journal':String,\n",
    "       'volume':String, 'issue':String, 'pages':String, 'doi':String, 'pmid':Integer, 'pmcid':String, 'timestamp':DateTime}"
   ]
  },
  {
   "cell_type": "code",
   "execution_count": null,
   "metadata": {},
   "outputs": [],
   "source": [
    "# get API key\n",
    "import configparser\n",
    "config = configparser.ConfigParser()\n",
    "config.read(\"credentials/conf.ini\")\n",
    "mysql_username = config[\"MYSQL\"][\"username\"]\n",
    "mysql_password = config[\"MYSQL\"][\"password\"]\n",
    "mysql_database = config[\"MYSQL\"][\"database\"]"
   ]
  },
  {
   "cell_type": "code",
   "execution_count": null,
   "metadata": {},
   "outputs": [],
   "source": [
    "sqlEngine = create_engine('mysql+pymysql://%s:%s@127.0.0.1/%s'%(mysql_username,mysql_password,mysql_database), pool_recycle=3600)\n",
    "dbConnection = sqlEngine.connect()"
   ]
  },
  {
   "cell_type": "code",
   "execution_count": null,
   "metadata": {},
   "outputs": [],
   "source": [
    "# main table\n",
    "table_name = \"pub\"\n",
    "try:\n",
    "    frame = df_pub.to_sql(table_name, dbConnection, if_exists='append', index=False, index_label=\"pub_id\", dtype=dtype_dict);\n",
    "except ValueError as vx:\n",
    "    print(vx)\n",
    "except Exception as ex:   \n",
    "    print(ex)\n",
    "else:\n",
    "    print(\"Table %s created successfully.\"%table_name);   \n",
    "finally:\n",
    "    dbConnection.close()"
   ]
  },
  {
   "cell_type": "code",
   "execution_count": null,
   "metadata": {},
   "outputs": [],
   "source": [
    "sqlEngine = create_engine('mysql+pymysql://%s:%s@127.0.0.1/%s'%(mysql_username,mysql_password,mysql_database), pool_recycle=3600)\n",
    "dbConnection = sqlEngine.connect()"
   ]
  },
  {
   "cell_type": "code",
   "execution_count": null,
   "metadata": {},
   "outputs": [],
   "source": [
    "# other tables\n",
    "try:\n",
    "    frame = df_cord_metadata.to_sql(\"cord19_metadata\", dbConnection, if_exists='append', index=True, index_label=\"cord19_metadata_id\")\n",
    "    frame = df_who_metadata.to_sql(\"who_metadata\", dbConnection, if_exists='append', index=True, index_label=\"who_metadata_id\")\n",
    "    frame = df_dimensions_metadata.to_sql(\"dimensions_metadata\", dbConnection, if_exists='append', index=True, index_label=\"dimensions_metadata_id\")\n",
    "    frame = df_datasource.to_sql(\"datasource\", dbConnection, if_exists='append', index=True, index_label=\"datasource_id\")\n",
    "except ValueError as vx:\n",
    "    print(vx)\n",
    "except Exception as ex:   \n",
    "    print(ex)\n",
    "else:\n",
    "    print(\"Tables created successfully.\");   \n",
    "finally:\n",
    "    dbConnection.close()"
   ]
  },
  {
   "cell_type": "code",
   "execution_count": null,
   "metadata": {},
   "outputs": [],
   "source": [
    "sqlEngine = create_engine('mysql+pymysql://%s:%s@127.0.0.1/%s'%(mysql_username,mysql_password,mysql_database), pool_recycle=3600)\n",
    "dbConnection = sqlEngine.connect()"
   ]
  },
  {
   "cell_type": "code",
   "execution_count": null,
   "metadata": {},
   "outputs": [],
   "source": [
    "# last table\n",
    "try:\n",
    "    frame = df_pub_to_datasource.to_sql(\"pub_datasource\", dbConnection, if_exists='append', index=False, index_label=[\"pub_id\",\"datasource_id\"])\n",
    "except ValueError as vx:\n",
    "    print(vx)\n",
    "except Exception as ex:   \n",
    "    print(ex)\n",
    "else:\n",
    "    print(\"Table created successfully.\");   \n",
    "finally:\n",
    "    dbConnection.close()"
   ]
  },
  {
   "cell_type": "code",
   "execution_count": null,
   "metadata": {},
   "outputs": [],
   "source": []
  }
 ],
 "metadata": {
  "kernelspec": {
   "display_name": "covid",
   "language": "python",
   "name": "covid"
  },
  "language_info": {
   "codemirror_mode": {
    "name": "ipython",
    "version": 3
   },
   "file_extension": ".py",
   "mimetype": "text/x-python",
   "name": "python",
   "nbconvert_exporter": "python",
   "pygments_lexer": "ipython3",
   "version": "3.7.6"
  }
 },
 "nbformat": 4,
 "nbformat_minor": 4
}
