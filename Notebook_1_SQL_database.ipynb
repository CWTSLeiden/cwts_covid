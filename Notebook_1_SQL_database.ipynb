{
 "cells": [
  {
   "cell_type": "markdown",
   "metadata": {},
   "source": [
    "# COVID19-related literature SQL database\n",
    "\n",
    "In this notebook, we create a relational database dump of a set of COVID19-related publication datasets. These include:\n",
    "\n",
    "* CORD19: https://pages.semanticscholar.org/coronavirus-research\n",
    "* Dimensions: https://docs.google.com/spreadsheets/d/1-kTZJZ1GAhJ2m4GAIhw1ZdlgO46JpvX0ZQa232VWRmw/edit#gid=2034285255\n",
    "* WHO: https://www.who.int/emergencies/diseases/novel-coronavirus-2019/global-research-on-novel-coronavirus-2019-ncov"
   ]
  },
  {
   "cell_type": "code",
   "execution_count": 1,
   "metadata": {},
   "outputs": [],
   "source": [
    "# magics, warnings and imports\n",
    "\n",
    "%load_ext autoreload\n",
    "%autoreload 2\n",
    "import warnings; warnings.simplefilter('ignore')\n",
    "\n",
    "import os, random, codecs, json\n",
    "import pandas as pd\n",
    "import numpy as np\n",
    "from tqdm.notebook import tqdm\n",
    "import pymysql\n",
    "from sqlalchemy import create_engine\n",
    "from sqlalchemy import Integer,String,Boolean,DateTime"
   ]
  },
  {
   "cell_type": "markdown",
   "metadata": {},
   "source": [
    "#### Load datasets"
   ]
  },
  {
   "cell_type": "code",
   "execution_count": 2,
   "metadata": {},
   "outputs": [],
   "source": [
    "# point here to the versions of the datasets you want to use\n",
    "dimensions_filename = \"datasets_input/Dimensions_24_04_2020.csv\"\n",
    "who_filename = \"datasets_input/WHO_24_04_2020.csv\"\n",
    "cord19_folder = \"datasets_input/CORD19_2020_04_24\"\n",
    "\n",
    "df_dimensions = pd.read_csv(dimensions_filename, dtype=str)\n",
    "df_who = pd.read_csv(who_filename, dtype=str)\n",
    "df_cord = pd.read_csv(os.path.join(cord19_folder,\"metadata.csv\"), dtype=str)"
   ]
  },
  {
   "cell_type": "code",
   "execution_count": 3,
   "metadata": {},
   "outputs": [
    {
     "data": {
      "text/plain": [
       "(57366, 18)"
      ]
     },
     "execution_count": 3,
     "metadata": {},
     "output_type": "execute_result"
    }
   ],
   "source": [
    "df_cord.shape"
   ]
  },
  {
   "cell_type": "markdown",
   "metadata": {},
   "source": [
    "### Prepare dataframes for ingestion"
   ]
  },
  {
   "cell_type": "markdown",
   "metadata": {},
   "source": [
    "#### Clean-up data frames"
   ]
  },
  {
   "cell_type": "markdown",
   "metadata": {},
   "source": [
    "##### Dimensions"
   ]
  },
  {
   "cell_type": "code",
   "execution_count": 4,
   "metadata": {},
   "outputs": [
    {
     "data": {
      "text/html": [
       "<div>\n",
       "<style scoped>\n",
       "    .dataframe tbody tr th:only-of-type {\n",
       "        vertical-align: middle;\n",
       "    }\n",
       "\n",
       "    .dataframe tbody tr th {\n",
       "        vertical-align: top;\n",
       "    }\n",
       "\n",
       "    .dataframe thead th {\n",
       "        text-align: right;\n",
       "    }\n",
       "</style>\n",
       "<table border=\"1\" class=\"dataframe\">\n",
       "  <thead>\n",
       "    <tr style=\"text-align: right;\">\n",
       "      <th></th>\n",
       "      <th>Date added</th>\n",
       "      <th>Publication ID</th>\n",
       "      <th>DOI</th>\n",
       "      <th>PMID</th>\n",
       "      <th>PMCID</th>\n",
       "      <th>Title</th>\n",
       "      <th>Abstract</th>\n",
       "      <th>Source title</th>\n",
       "      <th>Source UID</th>\n",
       "      <th>Publisher</th>\n",
       "      <th>...</th>\n",
       "      <th>Research Organizations - standardized</th>\n",
       "      <th>GRID IDs</th>\n",
       "      <th>City of Research organization</th>\n",
       "      <th>Country of Research organization</th>\n",
       "      <th>Funder</th>\n",
       "      <th>UIDs of supporting grants</th>\n",
       "      <th>Times cited</th>\n",
       "      <th>Altmetric</th>\n",
       "      <th>Source Linkout</th>\n",
       "      <th>Dimensions URL</th>\n",
       "    </tr>\n",
       "  </thead>\n",
       "  <tbody>\n",
       "    <tr>\n",
       "      <th>0</th>\n",
       "      <td>2020-04-23</td>\n",
       "      <td>pub.1126872409</td>\n",
       "      <td>10.2139/ssrn.3572849</td>\n",
       "      <td>NaN</td>\n",
       "      <td>NaN</td>\n",
       "      <td>Digestive Symptoms of COVID-19 and High Expres...</td>\n",
       "      <td>NaN</td>\n",
       "      <td>SSRN Electronic Journal</td>\n",
       "      <td>jour.1276748</td>\n",
       "      <td>Elsevier</td>\n",
       "      <td>...</td>\n",
       "      <td>NaN</td>\n",
       "      <td>NaN</td>\n",
       "      <td>NaN</td>\n",
       "      <td>NaN</td>\n",
       "      <td>NaN</td>\n",
       "      <td>NaN</td>\n",
       "      <td>0</td>\n",
       "      <td>NaN</td>\n",
       "      <td>NaN</td>\n",
       "      <td>https://app.dimensions.ai/details/publication/...</td>\n",
       "    </tr>\n",
       "    <tr>\n",
       "      <th>1</th>\n",
       "      <td>2020-04-23</td>\n",
       "      <td>pub.1126872857</td>\n",
       "      <td>10.2196/preprints.19433</td>\n",
       "      <td>NaN</td>\n",
       "      <td>NaN</td>\n",
       "      <td>Developing a mobile application (iGAM) to prom...</td>\n",
       "      <td>&lt;sec xmlns=\"http://www.ncbi.nlm.nih.gov/JATS1\"...</td>\n",
       "      <td>JMIR Preprints</td>\n",
       "      <td>jour.1345647</td>\n",
       "      <td>JMIR Publications</td>\n",
       "      <td>...</td>\n",
       "      <td>NaN</td>\n",
       "      <td>NaN</td>\n",
       "      <td>NaN</td>\n",
       "      <td>NaN</td>\n",
       "      <td>NaN</td>\n",
       "      <td>NaN</td>\n",
       "      <td>0</td>\n",
       "      <td>NaN</td>\n",
       "      <td>http://dx.doi.org/10.2196/preprints.19433</td>\n",
       "      <td>https://app.dimensions.ai/details/publication/...</td>\n",
       "    </tr>\n",
       "    <tr>\n",
       "      <th>2</th>\n",
       "      <td>2020-04-23</td>\n",
       "      <td>pub.1126870571</td>\n",
       "      <td>10.14744/ejmi.2020.38479</td>\n",
       "      <td>NaN</td>\n",
       "      <td>NaN</td>\n",
       "      <td>Novel Coronavirus Disease ( COVID-19) Pandemic...</td>\n",
       "      <td>NaN</td>\n",
       "      <td>Eurasian Journal of Medical Investigation</td>\n",
       "      <td>jour.1300430</td>\n",
       "      <td>Kare Publishing</td>\n",
       "      <td>...</td>\n",
       "      <td>NaN</td>\n",
       "      <td>NaN</td>\n",
       "      <td>NaN</td>\n",
       "      <td>NaN</td>\n",
       "      <td>NaN</td>\n",
       "      <td>NaN</td>\n",
       "      <td>0</td>\n",
       "      <td>NaN</td>\n",
       "      <td>NaN</td>\n",
       "      <td>https://app.dimensions.ai/details/publication/...</td>\n",
       "    </tr>\n",
       "    <tr>\n",
       "      <th>3</th>\n",
       "      <td>2020-04-23</td>\n",
       "      <td>pub.1126870635</td>\n",
       "      <td>10.1503/cmaj.200609</td>\n",
       "      <td>NaN</td>\n",
       "      <td>NaN</td>\n",
       "      <td>SARS-CoV-2 infection associated with spontaneo...</td>\n",
       "      <td>NaN</td>\n",
       "      <td>Canadian Medical Association Journal</td>\n",
       "      <td>jour.1019308</td>\n",
       "      <td>Joule</td>\n",
       "      <td>...</td>\n",
       "      <td>NaN</td>\n",
       "      <td>NaN</td>\n",
       "      <td>NaN</td>\n",
       "      <td>NaN</td>\n",
       "      <td>NaN</td>\n",
       "      <td>NaN</td>\n",
       "      <td>0</td>\n",
       "      <td>9</td>\n",
       "      <td>https://www.cmaj.ca/content/cmaj/early/2020/04...</td>\n",
       "      <td>https://app.dimensions.ai/details/publication/...</td>\n",
       "    </tr>\n",
       "    <tr>\n",
       "      <th>4</th>\n",
       "      <td>2020-04-23</td>\n",
       "      <td>pub.1126862773</td>\n",
       "      <td>10.1007/s00259-020-04780-4</td>\n",
       "      <td>NaN</td>\n",
       "      <td>NaN</td>\n",
       "      <td>Key elements of preparedness for pandemic coro...</td>\n",
       "      <td>NaN</td>\n",
       "      <td>European Journal of Nuclear Medicine and Molec...</td>\n",
       "      <td>jour.1297401</td>\n",
       "      <td>Springer Nature</td>\n",
       "      <td>...</td>\n",
       "      <td>NaN</td>\n",
       "      <td>NaN</td>\n",
       "      <td>NaN</td>\n",
       "      <td>NaN</td>\n",
       "      <td>NaN</td>\n",
       "      <td>NaN</td>\n",
       "      <td>0</td>\n",
       "      <td>1</td>\n",
       "      <td>https://link.springer.com/content/pdf/10.1007/...</td>\n",
       "      <td>https://app.dimensions.ai/details/publication/...</td>\n",
       "    </tr>\n",
       "  </tbody>\n",
       "</table>\n",
       "<p>5 rows × 31 columns</p>\n",
       "</div>"
      ],
      "text/plain": [
       "   Date added  Publication ID                         DOI PMID PMCID  \\\n",
       "0  2020-04-23  pub.1126872409        10.2139/ssrn.3572849  NaN   NaN   \n",
       "1  2020-04-23  pub.1126872857     10.2196/preprints.19433  NaN   NaN   \n",
       "2  2020-04-23  pub.1126870571    10.14744/ejmi.2020.38479  NaN   NaN   \n",
       "3  2020-04-23  pub.1126870635         10.1503/cmaj.200609  NaN   NaN   \n",
       "4  2020-04-23  pub.1126862773  10.1007/s00259-020-04780-4  NaN   NaN   \n",
       "\n",
       "                                               Title  \\\n",
       "0  Digestive Symptoms of COVID-19 and High Expres...   \n",
       "1  Developing a mobile application (iGAM) to prom...   \n",
       "2  Novel Coronavirus Disease ( COVID-19) Pandemic...   \n",
       "3  SARS-CoV-2 infection associated with spontaneo...   \n",
       "4  Key elements of preparedness for pandemic coro...   \n",
       "\n",
       "                                            Abstract  \\\n",
       "0                                                NaN   \n",
       "1  <sec xmlns=\"http://www.ncbi.nlm.nih.gov/JATS1\"...   \n",
       "2                                                NaN   \n",
       "3                                                NaN   \n",
       "4                                                NaN   \n",
       "\n",
       "                                        Source title    Source UID  \\\n",
       "0                            SSRN Electronic Journal  jour.1276748   \n",
       "1                                     JMIR Preprints  jour.1345647   \n",
       "2          Eurasian Journal of Medical Investigation  jour.1300430   \n",
       "3               Canadian Medical Association Journal  jour.1019308   \n",
       "4  European Journal of Nuclear Medicine and Molec...  jour.1297401   \n",
       "\n",
       "           Publisher  ... Research Organizations - standardized GRID IDs  \\\n",
       "0           Elsevier  ...                                   NaN      NaN   \n",
       "1  JMIR Publications  ...                                   NaN      NaN   \n",
       "2    Kare Publishing  ...                                   NaN      NaN   \n",
       "3              Joule  ...                                   NaN      NaN   \n",
       "4    Springer Nature  ...                                   NaN      NaN   \n",
       "\n",
       "  City of Research organization Country of Research organization Funder  \\\n",
       "0                           NaN                              NaN    NaN   \n",
       "1                           NaN                              NaN    NaN   \n",
       "2                           NaN                              NaN    NaN   \n",
       "3                           NaN                              NaN    NaN   \n",
       "4                           NaN                              NaN    NaN   \n",
       "\n",
       "  UIDs of supporting grants Times cited Altmetric  \\\n",
       "0                       NaN           0       NaN   \n",
       "1                       NaN           0       NaN   \n",
       "2                       NaN           0       NaN   \n",
       "3                       NaN           0         9   \n",
       "4                       NaN           0         1   \n",
       "\n",
       "                                      Source Linkout  \\\n",
       "0                                                NaN   \n",
       "1          http://dx.doi.org/10.2196/preprints.19433   \n",
       "2                                                NaN   \n",
       "3  https://www.cmaj.ca/content/cmaj/early/2020/04...   \n",
       "4  https://link.springer.com/content/pdf/10.1007/...   \n",
       "\n",
       "                                      Dimensions URL  \n",
       "0  https://app.dimensions.ai/details/publication/...  \n",
       "1  https://app.dimensions.ai/details/publication/...  \n",
       "2  https://app.dimensions.ai/details/publication/...  \n",
       "3  https://app.dimensions.ai/details/publication/...  \n",
       "4  https://app.dimensions.ai/details/publication/...  \n",
       "\n",
       "[5 rows x 31 columns]"
      ]
     },
     "execution_count": 4,
     "metadata": {},
     "output_type": "execute_result"
    }
   ],
   "source": [
    "df_dimensions.head()"
   ]
  },
  {
   "cell_type": "code",
   "execution_count": 5,
   "metadata": {},
   "outputs": [
    {
     "data": {
      "text/plain": [
       "Index(['Date added', 'Publication ID', 'DOI', 'PMID', 'PMCID', 'Title',\n",
       "       'Abstract', 'Source title', 'Source UID', 'Publisher', 'MeSH terms',\n",
       "       'Publication Date', 'PubYear', 'Volume', 'Issue', 'Pagination',\n",
       "       'Open Access', 'Publication Type', 'Authors', 'Corresponding Authors',\n",
       "       'Authors Affiliations', 'Research Organizations - standardized',\n",
       "       'GRID IDs', 'City of Research organization',\n",
       "       'Country of Research organization', 'Funder',\n",
       "       'UIDs of supporting grants', 'Times cited', 'Altmetric',\n",
       "       'Source Linkout', 'Dimensions URL'],\n",
       "      dtype='object')"
      ]
     },
     "execution_count": 5,
     "metadata": {},
     "output_type": "execute_result"
    }
   ],
   "source": [
    "df_dimensions.columns"
   ]
  },
  {
   "cell_type": "code",
   "execution_count": 6,
   "metadata": {},
   "outputs": [],
   "source": [
    "df_dimensions.drop(columns=['Date added', 'Publisher', 'Authors', 'Corresponding Authors',\n",
    "       'Authors Affiliations', 'Research Organizations - standardized',\n",
    "       'GRID IDs', 'City of Research organization',\n",
    "       'Country of Research organization', 'Funder',\n",
    "       'UIDs of supporting grants', 'Times cited', 'Altmetric',\n",
    "       'Source Linkout'], inplace=True)"
   ]
  },
  {
   "cell_type": "code",
   "execution_count": 7,
   "metadata": {},
   "outputs": [
    {
     "data": {
      "text/plain": [
       "Index(['Publication ID', 'DOI', 'PMID', 'PMCID', 'Title', 'Abstract',\n",
       "       'Source title', 'Source UID', 'MeSH terms', 'Publication Date',\n",
       "       'PubYear', 'Volume', 'Issue', 'Pagination', 'Open Access',\n",
       "       'Publication Type', 'Dimensions URL'],\n",
       "      dtype='object')"
      ]
     },
     "execution_count": 7,
     "metadata": {},
     "output_type": "execute_result"
    }
   ],
   "source": [
    "df_dimensions.columns"
   ]
  },
  {
   "cell_type": "code",
   "execution_count": 8,
   "metadata": {},
   "outputs": [],
   "source": [
    "df_dimensions.rename(columns={'Publication ID':'dimensions_id', 'DOI':'doi', 'PMID':'pmid', 'PMCID':'pmcid', 'Title':'title', 'Abstract':'abstract',\n",
    "       'Source title':'journal', 'Source UID':'source_uid', 'MeSH terms':'mesh_terms', 'Publication Date':'publication_date',\n",
    "       'PubYear':'publication_year', 'Volume':'volume', 'Issue':'issue', 'Pagination':'pages', 'Open Access':'open_access',\n",
    "       'Publication Type':'publication_type', 'Dimensions URL':'dimensions_url'}, inplace=True)"
   ]
  },
  {
   "cell_type": "code",
   "execution_count": 9,
   "metadata": {},
   "outputs": [],
   "source": [
    "def get_year(date):\n",
    "    if len(date)>3 and date[:4].isdigit():\n",
    "        return date[:4]\n",
    "    return \"\"\n",
    "\n",
    "month_to_number = {\"Jan\":\"1\",\"Feb\":\"2\",\"Mar\":\"3\",\"Apr\":\"4\",\"May\":\"5\",\"Jun\":\"6\",\"Jul\":\"7\",\"Aug\":\"8\",\"Sep\":\"9\",\"Oct\":\"10\",\"Nov\":\"11\",\"Dec\":\"12\"}\n",
    "\n",
    "def get_month(date):\n",
    "    if len(date)>6:\n",
    "        if \"-\" in date and date.split(\"-\")[1].isdigit():\n",
    "            return str(int(date.split(\"-\")[1]))\n",
    "        else:\n",
    "            try:\n",
    "                return month_to_number[date.split()[1]]\n",
    "            except:\n",
    "                return \"\"\n",
    "    return \"\"\n",
    "\n",
    "def sanitize_string(s):\n",
    "    return \" \".join(s.split())"
   ]
  },
  {
   "cell_type": "code",
   "execution_count": 10,
   "metadata": {},
   "outputs": [],
   "source": [
    "df_dimensions[\"publication_year\"] = df_dimensions[\"publication_year\"].apply(get_year)\n",
    "df_dimensions[\"publication_month\"] = df_dimensions[\"publication_date\"].apply(get_month)"
   ]
  },
  {
   "cell_type": "code",
   "execution_count": 11,
   "metadata": {},
   "outputs": [],
   "source": [
    "df_dimensions.drop(columns=\"publication_date\", inplace=True)\n",
    "df_dimensions = df_dimensions.fillna('')"
   ]
  },
  {
   "cell_type": "code",
   "execution_count": 12,
   "metadata": {},
   "outputs": [
    {
     "data": {
      "text/html": [
       "<div>\n",
       "<style scoped>\n",
       "    .dataframe tbody tr th:only-of-type {\n",
       "        vertical-align: middle;\n",
       "    }\n",
       "\n",
       "    .dataframe tbody tr th {\n",
       "        vertical-align: top;\n",
       "    }\n",
       "\n",
       "    .dataframe thead th {\n",
       "        text-align: right;\n",
       "    }\n",
       "</style>\n",
       "<table border=\"1\" class=\"dataframe\">\n",
       "  <thead>\n",
       "    <tr style=\"text-align: right;\">\n",
       "      <th></th>\n",
       "      <th>dimensions_id</th>\n",
       "      <th>doi</th>\n",
       "      <th>pmid</th>\n",
       "      <th>pmcid</th>\n",
       "      <th>title</th>\n",
       "      <th>abstract</th>\n",
       "      <th>journal</th>\n",
       "      <th>source_uid</th>\n",
       "      <th>mesh_terms</th>\n",
       "      <th>publication_year</th>\n",
       "      <th>volume</th>\n",
       "      <th>issue</th>\n",
       "      <th>pages</th>\n",
       "      <th>open_access</th>\n",
       "      <th>publication_type</th>\n",
       "      <th>dimensions_url</th>\n",
       "      <th>publication_month</th>\n",
       "    </tr>\n",
       "  </thead>\n",
       "  <tbody>\n",
       "    <tr>\n",
       "      <th>0</th>\n",
       "      <td>pub.1126872409</td>\n",
       "      <td>10.2139/ssrn.3572849</td>\n",
       "      <td></td>\n",
       "      <td></td>\n",
       "      <td>Digestive Symptoms of COVID-19 and High Expres...</td>\n",
       "      <td></td>\n",
       "      <td>SSRN Electronic Journal</td>\n",
       "      <td>jour.1276748</td>\n",
       "      <td></td>\n",
       "      <td>2020</td>\n",
       "      <td></td>\n",
       "      <td></td>\n",
       "      <td></td>\n",
       "      <td>All OA; Green, Submitted</td>\n",
       "      <td>preprint</td>\n",
       "      <td>https://app.dimensions.ai/details/publication/...</td>\n",
       "      <td>1</td>\n",
       "    </tr>\n",
       "    <tr>\n",
       "      <th>1</th>\n",
       "      <td>pub.1126872857</td>\n",
       "      <td>10.2196/preprints.19433</td>\n",
       "      <td></td>\n",
       "      <td></td>\n",
       "      <td>Developing a mobile application (iGAM) to prom...</td>\n",
       "      <td>&lt;sec xmlns=\"http://www.ncbi.nlm.nih.gov/JATS1\"...</td>\n",
       "      <td>JMIR Preprints</td>\n",
       "      <td>jour.1345647</td>\n",
       "      <td></td>\n",
       "      <td>2020</td>\n",
       "      <td></td>\n",
       "      <td></td>\n",
       "      <td></td>\n",
       "      <td>All OA; Green, Submitted</td>\n",
       "      <td>preprint</td>\n",
       "      <td>https://app.dimensions.ai/details/publication/...</td>\n",
       "      <td>4</td>\n",
       "    </tr>\n",
       "    <tr>\n",
       "      <th>2</th>\n",
       "      <td>pub.1126870571</td>\n",
       "      <td>10.14744/ejmi.2020.38479</td>\n",
       "      <td></td>\n",
       "      <td></td>\n",
       "      <td>Novel Coronavirus Disease ( COVID-19) Pandemic...</td>\n",
       "      <td></td>\n",
       "      <td>Eurasian Journal of Medical Investigation</td>\n",
       "      <td>jour.1300430</td>\n",
       "      <td></td>\n",
       "      <td>2020</td>\n",
       "      <td></td>\n",
       "      <td></td>\n",
       "      <td></td>\n",
       "      <td>Closed</td>\n",
       "      <td>article</td>\n",
       "      <td>https://app.dimensions.ai/details/publication/...</td>\n",
       "      <td>1</td>\n",
       "    </tr>\n",
       "    <tr>\n",
       "      <th>3</th>\n",
       "      <td>pub.1126870635</td>\n",
       "      <td>10.1503/cmaj.200609</td>\n",
       "      <td></td>\n",
       "      <td></td>\n",
       "      <td>SARS-CoV-2 infection associated with spontaneo...</td>\n",
       "      <td></td>\n",
       "      <td>Canadian Medical Association Journal</td>\n",
       "      <td>jour.1019308</td>\n",
       "      <td></td>\n",
       "      <td>2020</td>\n",
       "      <td></td>\n",
       "      <td></td>\n",
       "      <td>cmaj.200609</td>\n",
       "      <td>All OA; Bronze</td>\n",
       "      <td>article</td>\n",
       "      <td>https://app.dimensions.ai/details/publication/...</td>\n",
       "      <td>4</td>\n",
       "    </tr>\n",
       "    <tr>\n",
       "      <th>4</th>\n",
       "      <td>pub.1126862773</td>\n",
       "      <td>10.1007/s00259-020-04780-4</td>\n",
       "      <td></td>\n",
       "      <td></td>\n",
       "      <td>Key elements of preparedness for pandemic coro...</td>\n",
       "      <td></td>\n",
       "      <td>European Journal of Nuclear Medicine and Molec...</td>\n",
       "      <td>jour.1297401</td>\n",
       "      <td></td>\n",
       "      <td>2020</td>\n",
       "      <td></td>\n",
       "      <td></td>\n",
       "      <td></td>\n",
       "      <td>All OA; Bronze</td>\n",
       "      <td>article</td>\n",
       "      <td>https://app.dimensions.ai/details/publication/...</td>\n",
       "      <td>4</td>\n",
       "    </tr>\n",
       "  </tbody>\n",
       "</table>\n",
       "</div>"
      ],
      "text/plain": [
       "    dimensions_id                         doi pmid pmcid  \\\n",
       "0  pub.1126872409        10.2139/ssrn.3572849              \n",
       "1  pub.1126872857     10.2196/preprints.19433              \n",
       "2  pub.1126870571    10.14744/ejmi.2020.38479              \n",
       "3  pub.1126870635         10.1503/cmaj.200609              \n",
       "4  pub.1126862773  10.1007/s00259-020-04780-4              \n",
       "\n",
       "                                               title  \\\n",
       "0  Digestive Symptoms of COVID-19 and High Expres...   \n",
       "1  Developing a mobile application (iGAM) to prom...   \n",
       "2  Novel Coronavirus Disease ( COVID-19) Pandemic...   \n",
       "3  SARS-CoV-2 infection associated with spontaneo...   \n",
       "4  Key elements of preparedness for pandemic coro...   \n",
       "\n",
       "                                            abstract  \\\n",
       "0                                                      \n",
       "1  <sec xmlns=\"http://www.ncbi.nlm.nih.gov/JATS1\"...   \n",
       "2                                                      \n",
       "3                                                      \n",
       "4                                                      \n",
       "\n",
       "                                             journal    source_uid mesh_terms  \\\n",
       "0                            SSRN Electronic Journal  jour.1276748              \n",
       "1                                     JMIR Preprints  jour.1345647              \n",
       "2          Eurasian Journal of Medical Investigation  jour.1300430              \n",
       "3               Canadian Medical Association Journal  jour.1019308              \n",
       "4  European Journal of Nuclear Medicine and Molec...  jour.1297401              \n",
       "\n",
       "  publication_year volume issue        pages               open_access  \\\n",
       "0             2020                            All OA; Green, Submitted   \n",
       "1             2020                            All OA; Green, Submitted   \n",
       "2             2020                                              Closed   \n",
       "3             2020               cmaj.200609            All OA; Bronze   \n",
       "4             2020                                      All OA; Bronze   \n",
       "\n",
       "  publication_type                                     dimensions_url  \\\n",
       "0         preprint  https://app.dimensions.ai/details/publication/...   \n",
       "1         preprint  https://app.dimensions.ai/details/publication/...   \n",
       "2          article  https://app.dimensions.ai/details/publication/...   \n",
       "3          article  https://app.dimensions.ai/details/publication/...   \n",
       "4          article  https://app.dimensions.ai/details/publication/...   \n",
       "\n",
       "  publication_month  \n",
       "0                 1  \n",
       "1                 4  \n",
       "2                 1  \n",
       "3                 4  \n",
       "4                 4  "
      ]
     },
     "execution_count": 12,
     "metadata": {},
     "output_type": "execute_result"
    }
   ],
   "source": [
    "df_dimensions.head()"
   ]
  },
  {
   "cell_type": "code",
   "execution_count": 13,
   "metadata": {},
   "outputs": [
    {
     "data": {
      "text/plain": [
       "(710, 17)"
      ]
     },
     "execution_count": 13,
     "metadata": {},
     "output_type": "execute_result"
    }
   ],
   "source": [
    "df_dimensions[df_dimensions.doi==\"\"].shape"
   ]
  },
  {
   "cell_type": "markdown",
   "metadata": {},
   "source": [
    "##### WHO"
   ]
  },
  {
   "cell_type": "code",
   "execution_count": 14,
   "metadata": {},
   "outputs": [
    {
     "data": {
      "text/html": [
       "<div>\n",
       "<style scoped>\n",
       "    .dataframe tbody tr th:only-of-type {\n",
       "        vertical-align: middle;\n",
       "    }\n",
       "\n",
       "    .dataframe tbody tr th {\n",
       "        vertical-align: top;\n",
       "    }\n",
       "\n",
       "    .dataframe thead th {\n",
       "        text-align: right;\n",
       "    }\n",
       "</style>\n",
       "<table border=\"1\" class=\"dataframe\">\n",
       "  <thead>\n",
       "    <tr style=\"text-align: right;\">\n",
       "      <th></th>\n",
       "      <th>Title</th>\n",
       "      <th>Authors</th>\n",
       "      <th>Abstract</th>\n",
       "      <th>Published Year</th>\n",
       "      <th>Published Month</th>\n",
       "      <th>Journal</th>\n",
       "      <th>Volume</th>\n",
       "      <th>Issue</th>\n",
       "      <th>Pages</th>\n",
       "      <th>Accession Number</th>\n",
       "      <th>DOI</th>\n",
       "      <th>Ref</th>\n",
       "      <th>Covidence #</th>\n",
       "      <th>Study</th>\n",
       "      <th>Notes</th>\n",
       "      <th>Tags</th>\n",
       "    </tr>\n",
       "  </thead>\n",
       "  <tbody>\n",
       "    <tr>\n",
       "      <th>0</th>\n",
       "      <td>Analysis of the susceptibility to COVID-19 in ...</td>\n",
       "      <td>Zhao, Xiaoxuan; Jiang, Yuepeng; Zhao, Yang; Xi...</td>\n",
       "      <td>To analyze the susceptibility of SARS-CoV-2 in...</td>\n",
       "      <td>2020</td>\n",
       "      <td>NaN</td>\n",
       "      <td>European Journal of Clinical Microbiology &amp; In...</td>\n",
       "      <td>NaN</td>\n",
       "      <td>NaN</td>\n",
       "      <td>1-12</td>\n",
       "      <td>NaN</td>\n",
       "      <td>10.1007/S10096-020-03897-6</td>\n",
       "      <td>46248</td>\n",
       "      <td>#109007</td>\n",
       "      <td>Zhao 2020</td>\n",
       "      <td>NaN</td>\n",
       "      <td>NaN</td>\n",
       "    </tr>\n",
       "    <tr>\n",
       "      <th>1</th>\n",
       "      <td>[Clinical Characteristics and Coping Strategie...</td>\n",
       "      <td>Zhao, Nannan; Shi, Jie; Zeng, Lizhong; Yang, S...</td>\n",
       "      <td>Since mid-December 2019, severe acute respirat...</td>\n",
       "      <td>2020</td>\n",
       "      <td>NaN</td>\n",
       "      <td>Zhongguo Fei Ai Za Zhi</td>\n",
       "      <td>NaN</td>\n",
       "      <td>NaN</td>\n",
       "      <td>NaN</td>\n",
       "      <td>32316713</td>\n",
       "      <td>10.3779/j.issn.1009-3419.2020.102.15</td>\n",
       "      <td>46703</td>\n",
       "      <td>#109649</td>\n",
       "      <td>Zhao 2020</td>\n",
       "      <td>NaN</td>\n",
       "      <td>NaN</td>\n",
       "    </tr>\n",
       "    <tr>\n",
       "      <th>2</th>\n",
       "      <td>Anti-SARS-CoV-2 virus antibody levels in conva...</td>\n",
       "      <td>Zhang, Libo; Pang, Rongrong; Xue, Xiang; Bao, ...</td>\n",
       "      <td>BACKGROUND: Anti-SARS-CoV-2 virus antibody lev...</td>\n",
       "      <td>2020</td>\n",
       "      <td>NaN</td>\n",
       "      <td>Aging</td>\n",
       "      <td>12</td>\n",
       "      <td>NaN</td>\n",
       "      <td>NaN</td>\n",
       "      <td>NaN</td>\n",
       "      <td>10.18632/aging.103102</td>\n",
       "      <td>46245</td>\n",
       "      <td>#109004</td>\n",
       "      <td>Zhang 2020</td>\n",
       "      <td>NaN</td>\n",
       "      <td>NaN</td>\n",
       "    </tr>\n",
       "    <tr>\n",
       "      <th>3</th>\n",
       "      <td>Positive rectal swabs in young patients recove...</td>\n",
       "      <td>Zhang, Bin; Liu, Shuyi; Dong, Yuhao; Zhang, Lu...</td>\n",
       "      <td>ObjectivesTo investigate the widely concerned ...</td>\n",
       "      <td>NaN</td>\n",
       "      <td>NaN</td>\n",
       "      <td>Journal of Infection</td>\n",
       "      <td>NaN</td>\n",
       "      <td>NaN</td>\n",
       "      <td>NaN</td>\n",
       "      <td>NaN</td>\n",
       "      <td>10.1016/j.jinf.2020.04.023</td>\n",
       "      <td>46454</td>\n",
       "      <td>#108733</td>\n",
       "      <td>NaN</td>\n",
       "      <td>NaN</td>\n",
       "      <td>NaN</td>\n",
       "    </tr>\n",
       "    <tr>\n",
       "      <th>4</th>\n",
       "      <td>Does high cardiorespiratory fitness confer som...</td>\n",
       "      <td>Zbinden-Foncea, Hermann; Francaux, Marc; Deldi...</td>\n",
       "      <td>Abstract Severe acute respiratory syndrome cor...</td>\n",
       "      <td>2020</td>\n",
       "      <td>NaN</td>\n",
       "      <td>Obesity</td>\n",
       "      <td>NaN</td>\n",
       "      <td>NaN</td>\n",
       "      <td>NaN</td>\n",
       "      <td>NaN</td>\n",
       "      <td>10.1002/oby.22849</td>\n",
       "      <td>46243</td>\n",
       "      <td>#109002</td>\n",
       "      <td>Zbinden-Foncea 2020</td>\n",
       "      <td>NaN</td>\n",
       "      <td>NaN</td>\n",
       "    </tr>\n",
       "  </tbody>\n",
       "</table>\n",
       "</div>"
      ],
      "text/plain": [
       "                                               Title  \\\n",
       "0  Analysis of the susceptibility to COVID-19 in ...   \n",
       "1  [Clinical Characteristics and Coping Strategie...   \n",
       "2  Anti-SARS-CoV-2 virus antibody levels in conva...   \n",
       "3  Positive rectal swabs in young patients recove...   \n",
       "4  Does high cardiorespiratory fitness confer som...   \n",
       "\n",
       "                                             Authors  \\\n",
       "0  Zhao, Xiaoxuan; Jiang, Yuepeng; Zhao, Yang; Xi...   \n",
       "1  Zhao, Nannan; Shi, Jie; Zeng, Lizhong; Yang, S...   \n",
       "2  Zhang, Libo; Pang, Rongrong; Xue, Xiang; Bao, ...   \n",
       "3  Zhang, Bin; Liu, Shuyi; Dong, Yuhao; Zhang, Lu...   \n",
       "4  Zbinden-Foncea, Hermann; Francaux, Marc; Deldi...   \n",
       "\n",
       "                                            Abstract Published Year  \\\n",
       "0  To analyze the susceptibility of SARS-CoV-2 in...           2020   \n",
       "1  Since mid-December 2019, severe acute respirat...           2020   \n",
       "2  BACKGROUND: Anti-SARS-CoV-2 virus antibody lev...           2020   \n",
       "3  ObjectivesTo investigate the widely concerned ...            NaN   \n",
       "4  Abstract Severe acute respiratory syndrome cor...           2020   \n",
       "\n",
       "  Published Month                                            Journal Volume  \\\n",
       "0             NaN  European Journal of Clinical Microbiology & In...    NaN   \n",
       "1             NaN                             Zhongguo Fei Ai Za Zhi    NaN   \n",
       "2             NaN                                              Aging     12   \n",
       "3             NaN                               Journal of Infection    NaN   \n",
       "4             NaN                                            Obesity    NaN   \n",
       "\n",
       "  Issue Pages Accession Number                                   DOI    Ref  \\\n",
       "0   NaN  1-12              NaN            10.1007/S10096-020-03897-6  46248   \n",
       "1   NaN   NaN         32316713  10.3779/j.issn.1009-3419.2020.102.15  46703   \n",
       "2   NaN   NaN              NaN                 10.18632/aging.103102  46245   \n",
       "3   NaN   NaN              NaN            10.1016/j.jinf.2020.04.023  46454   \n",
       "4   NaN   NaN              NaN                     10.1002/oby.22849  46243   \n",
       "\n",
       "  Covidence #                Study Notes Tags  \n",
       "0     #109007            Zhao 2020   NaN  NaN  \n",
       "1     #109649            Zhao 2020   NaN  NaN  \n",
       "2     #109004           Zhang 2020   NaN  NaN  \n",
       "3     #108733                  NaN   NaN  NaN  \n",
       "4     #109002  Zbinden-Foncea 2020   NaN  NaN  "
      ]
     },
     "execution_count": 14,
     "metadata": {},
     "output_type": "execute_result"
    }
   ],
   "source": [
    "df_who.head()"
   ]
  },
  {
   "cell_type": "code",
   "execution_count": 15,
   "metadata": {},
   "outputs": [
    {
     "data": {
      "text/plain": [
       "Index(['Title', 'Authors', 'Abstract', 'Published Year', 'Published Month',\n",
       "       'Journal', 'Volume', 'Issue', 'Pages', 'Accession Number', 'DOI', 'Ref',\n",
       "       'Covidence #', 'Study', 'Notes', 'Tags'],\n",
       "      dtype='object')"
      ]
     },
     "execution_count": 15,
     "metadata": {},
     "output_type": "execute_result"
    }
   ],
   "source": [
    "df_who.columns"
   ]
  },
  {
   "cell_type": "code",
   "execution_count": 16,
   "metadata": {},
   "outputs": [],
   "source": [
    "df_who.drop(columns=\"Authors\", inplace=True)"
   ]
  },
  {
   "cell_type": "code",
   "execution_count": 17,
   "metadata": {},
   "outputs": [],
   "source": [
    "df_who.rename(columns={'Title':'title', 'Abstract':'abstract', 'Published Year':'publication_year', 'Published Month':'publication_month',\n",
    "       'Journal':'journal', 'Volume':'volume', 'Issue':'issue', 'Pages':'pages', 'Accession Number':'accession_number', 'DOI':'doi', 'Ref':'ref',\n",
    "       'Covidence #':'covidence', 'Study':'study', 'Notes':'notes', 'Tags':'tags'}, inplace=True)"
   ]
  },
  {
   "cell_type": "code",
   "execution_count": 18,
   "metadata": {},
   "outputs": [],
   "source": [
    "df_who[\"pmid\"] = \"\"\n",
    "df_who[\"pmcid\"] = \"\"\n",
    "df_who[\"dimensions_id\"] = \"\"\n",
    "df_who = df_who.fillna('')"
   ]
  },
  {
   "cell_type": "code",
   "execution_count": 19,
   "metadata": {},
   "outputs": [
    {
     "data": {
      "text/html": [
       "<div>\n",
       "<style scoped>\n",
       "    .dataframe tbody tr th:only-of-type {\n",
       "        vertical-align: middle;\n",
       "    }\n",
       "\n",
       "    .dataframe tbody tr th {\n",
       "        vertical-align: top;\n",
       "    }\n",
       "\n",
       "    .dataframe thead th {\n",
       "        text-align: right;\n",
       "    }\n",
       "</style>\n",
       "<table border=\"1\" class=\"dataframe\">\n",
       "  <thead>\n",
       "    <tr style=\"text-align: right;\">\n",
       "      <th></th>\n",
       "      <th>title</th>\n",
       "      <th>abstract</th>\n",
       "      <th>publication_year</th>\n",
       "      <th>publication_month</th>\n",
       "      <th>journal</th>\n",
       "      <th>volume</th>\n",
       "      <th>issue</th>\n",
       "      <th>pages</th>\n",
       "      <th>accession_number</th>\n",
       "      <th>doi</th>\n",
       "      <th>ref</th>\n",
       "      <th>covidence</th>\n",
       "      <th>study</th>\n",
       "      <th>notes</th>\n",
       "      <th>tags</th>\n",
       "      <th>pmid</th>\n",
       "      <th>pmcid</th>\n",
       "      <th>dimensions_id</th>\n",
       "    </tr>\n",
       "  </thead>\n",
       "  <tbody>\n",
       "    <tr>\n",
       "      <th>0</th>\n",
       "      <td>Analysis of the susceptibility to COVID-19 in ...</td>\n",
       "      <td>To analyze the susceptibility of SARS-CoV-2 in...</td>\n",
       "      <td>2020</td>\n",
       "      <td></td>\n",
       "      <td>European Journal of Clinical Microbiology &amp; In...</td>\n",
       "      <td></td>\n",
       "      <td></td>\n",
       "      <td>1-12</td>\n",
       "      <td></td>\n",
       "      <td>10.1007/S10096-020-03897-6</td>\n",
       "      <td>46248</td>\n",
       "      <td>#109007</td>\n",
       "      <td>Zhao 2020</td>\n",
       "      <td></td>\n",
       "      <td></td>\n",
       "      <td></td>\n",
       "      <td></td>\n",
       "      <td></td>\n",
       "    </tr>\n",
       "    <tr>\n",
       "      <th>1</th>\n",
       "      <td>[Clinical Characteristics and Coping Strategie...</td>\n",
       "      <td>Since mid-December 2019, severe acute respirat...</td>\n",
       "      <td>2020</td>\n",
       "      <td></td>\n",
       "      <td>Zhongguo Fei Ai Za Zhi</td>\n",
       "      <td></td>\n",
       "      <td></td>\n",
       "      <td></td>\n",
       "      <td>32316713</td>\n",
       "      <td>10.3779/j.issn.1009-3419.2020.102.15</td>\n",
       "      <td>46703</td>\n",
       "      <td>#109649</td>\n",
       "      <td>Zhao 2020</td>\n",
       "      <td></td>\n",
       "      <td></td>\n",
       "      <td></td>\n",
       "      <td></td>\n",
       "      <td></td>\n",
       "    </tr>\n",
       "    <tr>\n",
       "      <th>2</th>\n",
       "      <td>Anti-SARS-CoV-2 virus antibody levels in conva...</td>\n",
       "      <td>BACKGROUND: Anti-SARS-CoV-2 virus antibody lev...</td>\n",
       "      <td>2020</td>\n",
       "      <td></td>\n",
       "      <td>Aging</td>\n",
       "      <td>12</td>\n",
       "      <td></td>\n",
       "      <td></td>\n",
       "      <td></td>\n",
       "      <td>10.18632/aging.103102</td>\n",
       "      <td>46245</td>\n",
       "      <td>#109004</td>\n",
       "      <td>Zhang 2020</td>\n",
       "      <td></td>\n",
       "      <td></td>\n",
       "      <td></td>\n",
       "      <td></td>\n",
       "      <td></td>\n",
       "    </tr>\n",
       "    <tr>\n",
       "      <th>3</th>\n",
       "      <td>Positive rectal swabs in young patients recove...</td>\n",
       "      <td>ObjectivesTo investigate the widely concerned ...</td>\n",
       "      <td></td>\n",
       "      <td></td>\n",
       "      <td>Journal of Infection</td>\n",
       "      <td></td>\n",
       "      <td></td>\n",
       "      <td></td>\n",
       "      <td></td>\n",
       "      <td>10.1016/j.jinf.2020.04.023</td>\n",
       "      <td>46454</td>\n",
       "      <td>#108733</td>\n",
       "      <td></td>\n",
       "      <td></td>\n",
       "      <td></td>\n",
       "      <td></td>\n",
       "      <td></td>\n",
       "      <td></td>\n",
       "    </tr>\n",
       "    <tr>\n",
       "      <th>4</th>\n",
       "      <td>Does high cardiorespiratory fitness confer som...</td>\n",
       "      <td>Abstract Severe acute respiratory syndrome cor...</td>\n",
       "      <td>2020</td>\n",
       "      <td></td>\n",
       "      <td>Obesity</td>\n",
       "      <td></td>\n",
       "      <td></td>\n",
       "      <td></td>\n",
       "      <td></td>\n",
       "      <td>10.1002/oby.22849</td>\n",
       "      <td>46243</td>\n",
       "      <td>#109002</td>\n",
       "      <td>Zbinden-Foncea 2020</td>\n",
       "      <td></td>\n",
       "      <td></td>\n",
       "      <td></td>\n",
       "      <td></td>\n",
       "      <td></td>\n",
       "    </tr>\n",
       "  </tbody>\n",
       "</table>\n",
       "</div>"
      ],
      "text/plain": [
       "                                               title  \\\n",
       "0  Analysis of the susceptibility to COVID-19 in ...   \n",
       "1  [Clinical Characteristics and Coping Strategie...   \n",
       "2  Anti-SARS-CoV-2 virus antibody levels in conva...   \n",
       "3  Positive rectal swabs in young patients recove...   \n",
       "4  Does high cardiorespiratory fitness confer som...   \n",
       "\n",
       "                                            abstract publication_year  \\\n",
       "0  To analyze the susceptibility of SARS-CoV-2 in...             2020   \n",
       "1  Since mid-December 2019, severe acute respirat...             2020   \n",
       "2  BACKGROUND: Anti-SARS-CoV-2 virus antibody lev...             2020   \n",
       "3  ObjectivesTo investigate the widely concerned ...                    \n",
       "4  Abstract Severe acute respiratory syndrome cor...             2020   \n",
       "\n",
       "  publication_month                                            journal volume  \\\n",
       "0                    European Journal of Clinical Microbiology & In...          \n",
       "1                                               Zhongguo Fei Ai Za Zhi          \n",
       "2                                                                Aging     12   \n",
       "3                                                 Journal of Infection          \n",
       "4                                                              Obesity          \n",
       "\n",
       "  issue pages accession_number                                   doi    ref  \\\n",
       "0        1-12                             10.1007/S10096-020-03897-6  46248   \n",
       "1                     32316713  10.3779/j.issn.1009-3419.2020.102.15  46703   \n",
       "2                                              10.18632/aging.103102  46245   \n",
       "3                                         10.1016/j.jinf.2020.04.023  46454   \n",
       "4                                                  10.1002/oby.22849  46243   \n",
       "\n",
       "  covidence                study notes tags pmid pmcid dimensions_id  \n",
       "0   #109007            Zhao 2020                                      \n",
       "1   #109649            Zhao 2020                                      \n",
       "2   #109004           Zhang 2020                                      \n",
       "3   #108733                                                           \n",
       "4   #109002  Zbinden-Foncea 2020                                      "
      ]
     },
     "execution_count": 19,
     "metadata": {},
     "output_type": "execute_result"
    }
   ],
   "source": [
    "df_who.head()"
   ]
  },
  {
   "cell_type": "code",
   "execution_count": 20,
   "metadata": {},
   "outputs": [
    {
     "data": {
      "text/plain": [
       "(929, 18)"
      ]
     },
     "execution_count": 20,
     "metadata": {},
     "output_type": "execute_result"
    }
   ],
   "source": [
    "df_who[df_who.doi==\"\"].shape"
   ]
  },
  {
   "cell_type": "markdown",
   "metadata": {},
   "source": [
    "##### CORD19"
   ]
  },
  {
   "cell_type": "code",
   "execution_count": 21,
   "metadata": {},
   "outputs": [
    {
     "data": {
      "text/html": [
       "<div>\n",
       "<style scoped>\n",
       "    .dataframe tbody tr th:only-of-type {\n",
       "        vertical-align: middle;\n",
       "    }\n",
       "\n",
       "    .dataframe tbody tr th {\n",
       "        vertical-align: top;\n",
       "    }\n",
       "\n",
       "    .dataframe thead th {\n",
       "        text-align: right;\n",
       "    }\n",
       "</style>\n",
       "<table border=\"1\" class=\"dataframe\">\n",
       "  <thead>\n",
       "    <tr style=\"text-align: right;\">\n",
       "      <th></th>\n",
       "      <th>cord_uid</th>\n",
       "      <th>sha</th>\n",
       "      <th>source_x</th>\n",
       "      <th>title</th>\n",
       "      <th>doi</th>\n",
       "      <th>pmcid</th>\n",
       "      <th>pubmed_id</th>\n",
       "      <th>license</th>\n",
       "      <th>abstract</th>\n",
       "      <th>publish_time</th>\n",
       "      <th>authors</th>\n",
       "      <th>journal</th>\n",
       "      <th>Microsoft Academic Paper ID</th>\n",
       "      <th>WHO #Covidence</th>\n",
       "      <th>has_pdf_parse</th>\n",
       "      <th>has_pmc_xml_parse</th>\n",
       "      <th>full_text_file</th>\n",
       "      <th>url</th>\n",
       "    </tr>\n",
       "  </thead>\n",
       "  <tbody>\n",
       "    <tr>\n",
       "      <th>0</th>\n",
       "      <td>zjufx4fo</td>\n",
       "      <td>b2897e1277f56641193a6db73825f707eed3e4c9</td>\n",
       "      <td>PMC</td>\n",
       "      <td>Sequence requirements for RNA strand transfer ...</td>\n",
       "      <td>10.1093/emboj/20.24.7220</td>\n",
       "      <td>PMC125340</td>\n",
       "      <td>11742998</td>\n",
       "      <td>unk</td>\n",
       "      <td>Nidovirus subgenomic mRNAs contain a leader se...</td>\n",
       "      <td>2001-12-17</td>\n",
       "      <td>Pasternak, Alexander O.; van den Born, Erwin; ...</td>\n",
       "      <td>The EMBO Journal</td>\n",
       "      <td>NaN</td>\n",
       "      <td>NaN</td>\n",
       "      <td>True</td>\n",
       "      <td>True</td>\n",
       "      <td>custom_license</td>\n",
       "      <td>http://europepmc.org/articles/pmc125340?pdf=re...</td>\n",
       "    </tr>\n",
       "    <tr>\n",
       "      <th>1</th>\n",
       "      <td>ymceytj3</td>\n",
       "      <td>e3d0d482ebd9a8ba81c254cc433f314142e72174</td>\n",
       "      <td>PMC</td>\n",
       "      <td>Crystal structure of murine sCEACAM1a[1,4]: a ...</td>\n",
       "      <td>10.1093/emboj/21.9.2076</td>\n",
       "      <td>PMC125375</td>\n",
       "      <td>11980704</td>\n",
       "      <td>unk</td>\n",
       "      <td>CEACAM1 is a member of the carcinoembryonic an...</td>\n",
       "      <td>2002-05-01</td>\n",
       "      <td>Tan, Kemin; Zelus, Bruce D.; Meijers, Rob; Liu...</td>\n",
       "      <td>The EMBO Journal</td>\n",
       "      <td>NaN</td>\n",
       "      <td>NaN</td>\n",
       "      <td>True</td>\n",
       "      <td>True</td>\n",
       "      <td>custom_license</td>\n",
       "      <td>http://europepmc.org/articles/pmc125375?pdf=re...</td>\n",
       "    </tr>\n",
       "    <tr>\n",
       "      <th>2</th>\n",
       "      <td>wzj2glte</td>\n",
       "      <td>00b1d99e70f779eb4ede50059db469c65e8c1469</td>\n",
       "      <td>PMC</td>\n",
       "      <td>Synthesis of a novel hepatitis C virus protein...</td>\n",
       "      <td>10.1093/emboj/20.14.3840</td>\n",
       "      <td>PMC125543</td>\n",
       "      <td>11447125</td>\n",
       "      <td>no-cc</td>\n",
       "      <td>Hepatitis C virus (HCV) is an important human ...</td>\n",
       "      <td>2001-07-16</td>\n",
       "      <td>Xu, Zhenming; Choi, Jinah; Yen, T.S.Benedict; ...</td>\n",
       "      <td>EMBO J</td>\n",
       "      <td>NaN</td>\n",
       "      <td>NaN</td>\n",
       "      <td>True</td>\n",
       "      <td>True</td>\n",
       "      <td>custom_license</td>\n",
       "      <td>https://www.ncbi.nlm.nih.gov/pmc/articles/PMC1...</td>\n",
       "    </tr>\n",
       "    <tr>\n",
       "      <th>3</th>\n",
       "      <td>2sfqsfm1</td>\n",
       "      <td>cf584e00f637cbd8f1bb35f3f09f5ed07b71aeb0</td>\n",
       "      <td>PMC</td>\n",
       "      <td>Structure of coronavirus main proteinase revea...</td>\n",
       "      <td>10.1093/emboj/cdf327</td>\n",
       "      <td>PMC126080</td>\n",
       "      <td>12093723</td>\n",
       "      <td>unk</td>\n",
       "      <td>The key enzyme in coronavirus polyprotein proc...</td>\n",
       "      <td>2002-07-01</td>\n",
       "      <td>Anand, Kanchan; Palm, Gottfried J.; Mesters, J...</td>\n",
       "      <td>The EMBO Journal</td>\n",
       "      <td>NaN</td>\n",
       "      <td>NaN</td>\n",
       "      <td>True</td>\n",
       "      <td>True</td>\n",
       "      <td>custom_license</td>\n",
       "      <td>http://europepmc.org/articles/pmc126080?pdf=re...</td>\n",
       "    </tr>\n",
       "    <tr>\n",
       "      <th>4</th>\n",
       "      <td>i0zym7iq</td>\n",
       "      <td>dde02f11923815e6a16a31dd6298c46b109c5dfa</td>\n",
       "      <td>PMC</td>\n",
       "      <td>Discontinuous and non-discontinuous subgenomic...</td>\n",
       "      <td>10.1093/emboj/cdf635</td>\n",
       "      <td>PMC136939</td>\n",
       "      <td>12456663</td>\n",
       "      <td>unk</td>\n",
       "      <td>Arteri-, corona-, toro- and roniviruses are ev...</td>\n",
       "      <td>2002-12-01</td>\n",
       "      <td>van Vliet, A.L.W.; Smits, S.L.; Rottier, P.J.M...</td>\n",
       "      <td>The EMBO Journal</td>\n",
       "      <td>NaN</td>\n",
       "      <td>NaN</td>\n",
       "      <td>True</td>\n",
       "      <td>True</td>\n",
       "      <td>custom_license</td>\n",
       "      <td>http://europepmc.org/articles/pmc136939?pdf=re...</td>\n",
       "    </tr>\n",
       "  </tbody>\n",
       "</table>\n",
       "</div>"
      ],
      "text/plain": [
       "   cord_uid                                       sha source_x  \\\n",
       "0  zjufx4fo  b2897e1277f56641193a6db73825f707eed3e4c9      PMC   \n",
       "1  ymceytj3  e3d0d482ebd9a8ba81c254cc433f314142e72174      PMC   \n",
       "2  wzj2glte  00b1d99e70f779eb4ede50059db469c65e8c1469      PMC   \n",
       "3  2sfqsfm1  cf584e00f637cbd8f1bb35f3f09f5ed07b71aeb0      PMC   \n",
       "4  i0zym7iq  dde02f11923815e6a16a31dd6298c46b109c5dfa      PMC   \n",
       "\n",
       "                                               title  \\\n",
       "0  Sequence requirements for RNA strand transfer ...   \n",
       "1  Crystal structure of murine sCEACAM1a[1,4]: a ...   \n",
       "2  Synthesis of a novel hepatitis C virus protein...   \n",
       "3  Structure of coronavirus main proteinase revea...   \n",
       "4  Discontinuous and non-discontinuous subgenomic...   \n",
       "\n",
       "                        doi      pmcid pubmed_id license  \\\n",
       "0  10.1093/emboj/20.24.7220  PMC125340  11742998     unk   \n",
       "1   10.1093/emboj/21.9.2076  PMC125375  11980704     unk   \n",
       "2  10.1093/emboj/20.14.3840  PMC125543  11447125   no-cc   \n",
       "3      10.1093/emboj/cdf327  PMC126080  12093723     unk   \n",
       "4      10.1093/emboj/cdf635  PMC136939  12456663     unk   \n",
       "\n",
       "                                            abstract publish_time  \\\n",
       "0  Nidovirus subgenomic mRNAs contain a leader se...   2001-12-17   \n",
       "1  CEACAM1 is a member of the carcinoembryonic an...   2002-05-01   \n",
       "2  Hepatitis C virus (HCV) is an important human ...   2001-07-16   \n",
       "3  The key enzyme in coronavirus polyprotein proc...   2002-07-01   \n",
       "4  Arteri-, corona-, toro- and roniviruses are ev...   2002-12-01   \n",
       "\n",
       "                                             authors           journal  \\\n",
       "0  Pasternak, Alexander O.; van den Born, Erwin; ...  The EMBO Journal   \n",
       "1  Tan, Kemin; Zelus, Bruce D.; Meijers, Rob; Liu...  The EMBO Journal   \n",
       "2  Xu, Zhenming; Choi, Jinah; Yen, T.S.Benedict; ...            EMBO J   \n",
       "3  Anand, Kanchan; Palm, Gottfried J.; Mesters, J...  The EMBO Journal   \n",
       "4  van Vliet, A.L.W.; Smits, S.L.; Rottier, P.J.M...  The EMBO Journal   \n",
       "\n",
       "  Microsoft Academic Paper ID WHO #Covidence has_pdf_parse has_pmc_xml_parse  \\\n",
       "0                         NaN            NaN          True              True   \n",
       "1                         NaN            NaN          True              True   \n",
       "2                         NaN            NaN          True              True   \n",
       "3                         NaN            NaN          True              True   \n",
       "4                         NaN            NaN          True              True   \n",
       "\n",
       "   full_text_file                                                url  \n",
       "0  custom_license  http://europepmc.org/articles/pmc125340?pdf=re...  \n",
       "1  custom_license  http://europepmc.org/articles/pmc125375?pdf=re...  \n",
       "2  custom_license  https://www.ncbi.nlm.nih.gov/pmc/articles/PMC1...  \n",
       "3  custom_license  http://europepmc.org/articles/pmc126080?pdf=re...  \n",
       "4  custom_license  http://europepmc.org/articles/pmc136939?pdf=re...  "
      ]
     },
     "execution_count": 21,
     "metadata": {},
     "output_type": "execute_result"
    }
   ],
   "source": [
    "df_cord.head()"
   ]
  },
  {
   "cell_type": "code",
   "execution_count": 22,
   "metadata": {},
   "outputs": [],
   "source": [
    "# NEW columns (for now, we drop)\n",
    "df_cord.drop(columns=[\"cord_uid\",\"url\",\"has_pmc_xml_parse\"],inplace=True)"
   ]
  },
  {
   "cell_type": "code",
   "execution_count": 23,
   "metadata": {},
   "outputs": [
    {
     "data": {
      "text/plain": [
       "Index(['sha', 'source_x', 'title', 'doi', 'pmcid', 'pubmed_id', 'license',\n",
       "       'abstract', 'publish_time', 'authors', 'journal',\n",
       "       'Microsoft Academic Paper ID', 'WHO #Covidence', 'has_pdf_parse',\n",
       "       'full_text_file'],\n",
       "      dtype='object')"
      ]
     },
     "execution_count": 23,
     "metadata": {},
     "output_type": "execute_result"
    }
   ],
   "source": [
    "df_cord.columns"
   ]
  },
  {
   "cell_type": "code",
   "execution_count": 24,
   "metadata": {},
   "outputs": [],
   "source": [
    "df_cord.drop(columns='authors', inplace=True)\n",
    "df_cord = df_cord.fillna('')"
   ]
  },
  {
   "cell_type": "code",
   "execution_count": 25,
   "metadata": {},
   "outputs": [],
   "source": [
    "df_cord.rename(columns={'source_x':'source', 'pubmed_id': 'pmid',\n",
    "       'Microsoft Academic Paper ID': 'ms_academic_id', 'WHO #Covidence': 'who_covidence', 'has_pdf_parse':'has_full_text'}, inplace=True)"
   ]
  },
  {
   "cell_type": "code",
   "execution_count": 26,
   "metadata": {},
   "outputs": [],
   "source": [
    "df_cord[\"publication_year\"] = df_cord[\"publish_time\"].apply(get_year)\n",
    "df_cord[\"publication_month\"] = df_cord[\"publish_time\"].apply(get_month)"
   ]
  },
  {
   "cell_type": "code",
   "execution_count": 27,
   "metadata": {},
   "outputs": [],
   "source": [
    "df_cord.drop(columns='publish_time', inplace=True)"
   ]
  },
  {
   "cell_type": "code",
   "execution_count": 28,
   "metadata": {},
   "outputs": [],
   "source": [
    "df_cord['pages'] = \"\"\n",
    "df_cord['volume'] = \"\"\n",
    "df_cord['issue'] = \"\"\n",
    "df_cord[\"dimensions_id\"] = \"\""
   ]
  },
  {
   "cell_type": "code",
   "execution_count": 29,
   "metadata": {},
   "outputs": [
    {
     "data": {
      "text/html": [
       "<div>\n",
       "<style scoped>\n",
       "    .dataframe tbody tr th:only-of-type {\n",
       "        vertical-align: middle;\n",
       "    }\n",
       "\n",
       "    .dataframe tbody tr th {\n",
       "        vertical-align: top;\n",
       "    }\n",
       "\n",
       "    .dataframe thead th {\n",
       "        text-align: right;\n",
       "    }\n",
       "</style>\n",
       "<table border=\"1\" class=\"dataframe\">\n",
       "  <thead>\n",
       "    <tr style=\"text-align: right;\">\n",
       "      <th></th>\n",
       "      <th>sha</th>\n",
       "      <th>source</th>\n",
       "      <th>title</th>\n",
       "      <th>doi</th>\n",
       "      <th>pmcid</th>\n",
       "      <th>pmid</th>\n",
       "      <th>license</th>\n",
       "      <th>abstract</th>\n",
       "      <th>journal</th>\n",
       "      <th>ms_academic_id</th>\n",
       "      <th>who_covidence</th>\n",
       "      <th>has_full_text</th>\n",
       "      <th>full_text_file</th>\n",
       "      <th>publication_year</th>\n",
       "      <th>publication_month</th>\n",
       "      <th>pages</th>\n",
       "      <th>volume</th>\n",
       "      <th>issue</th>\n",
       "      <th>dimensions_id</th>\n",
       "    </tr>\n",
       "  </thead>\n",
       "  <tbody>\n",
       "    <tr>\n",
       "      <th>0</th>\n",
       "      <td>b2897e1277f56641193a6db73825f707eed3e4c9</td>\n",
       "      <td>PMC</td>\n",
       "      <td>Sequence requirements for RNA strand transfer ...</td>\n",
       "      <td>10.1093/emboj/20.24.7220</td>\n",
       "      <td>PMC125340</td>\n",
       "      <td>11742998</td>\n",
       "      <td>unk</td>\n",
       "      <td>Nidovirus subgenomic mRNAs contain a leader se...</td>\n",
       "      <td>The EMBO Journal</td>\n",
       "      <td></td>\n",
       "      <td></td>\n",
       "      <td>True</td>\n",
       "      <td>custom_license</td>\n",
       "      <td>2001</td>\n",
       "      <td>12</td>\n",
       "      <td></td>\n",
       "      <td></td>\n",
       "      <td></td>\n",
       "      <td></td>\n",
       "    </tr>\n",
       "    <tr>\n",
       "      <th>1</th>\n",
       "      <td>e3d0d482ebd9a8ba81c254cc433f314142e72174</td>\n",
       "      <td>PMC</td>\n",
       "      <td>Crystal structure of murine sCEACAM1a[1,4]: a ...</td>\n",
       "      <td>10.1093/emboj/21.9.2076</td>\n",
       "      <td>PMC125375</td>\n",
       "      <td>11980704</td>\n",
       "      <td>unk</td>\n",
       "      <td>CEACAM1 is a member of the carcinoembryonic an...</td>\n",
       "      <td>The EMBO Journal</td>\n",
       "      <td></td>\n",
       "      <td></td>\n",
       "      <td>True</td>\n",
       "      <td>custom_license</td>\n",
       "      <td>2002</td>\n",
       "      <td>5</td>\n",
       "      <td></td>\n",
       "      <td></td>\n",
       "      <td></td>\n",
       "      <td></td>\n",
       "    </tr>\n",
       "    <tr>\n",
       "      <th>2</th>\n",
       "      <td>00b1d99e70f779eb4ede50059db469c65e8c1469</td>\n",
       "      <td>PMC</td>\n",
       "      <td>Synthesis of a novel hepatitis C virus protein...</td>\n",
       "      <td>10.1093/emboj/20.14.3840</td>\n",
       "      <td>PMC125543</td>\n",
       "      <td>11447125</td>\n",
       "      <td>no-cc</td>\n",
       "      <td>Hepatitis C virus (HCV) is an important human ...</td>\n",
       "      <td>EMBO J</td>\n",
       "      <td></td>\n",
       "      <td></td>\n",
       "      <td>True</td>\n",
       "      <td>custom_license</td>\n",
       "      <td>2001</td>\n",
       "      <td>7</td>\n",
       "      <td></td>\n",
       "      <td></td>\n",
       "      <td></td>\n",
       "      <td></td>\n",
       "    </tr>\n",
       "    <tr>\n",
       "      <th>3</th>\n",
       "      <td>cf584e00f637cbd8f1bb35f3f09f5ed07b71aeb0</td>\n",
       "      <td>PMC</td>\n",
       "      <td>Structure of coronavirus main proteinase revea...</td>\n",
       "      <td>10.1093/emboj/cdf327</td>\n",
       "      <td>PMC126080</td>\n",
       "      <td>12093723</td>\n",
       "      <td>unk</td>\n",
       "      <td>The key enzyme in coronavirus polyprotein proc...</td>\n",
       "      <td>The EMBO Journal</td>\n",
       "      <td></td>\n",
       "      <td></td>\n",
       "      <td>True</td>\n",
       "      <td>custom_license</td>\n",
       "      <td>2002</td>\n",
       "      <td>7</td>\n",
       "      <td></td>\n",
       "      <td></td>\n",
       "      <td></td>\n",
       "      <td></td>\n",
       "    </tr>\n",
       "    <tr>\n",
       "      <th>4</th>\n",
       "      <td>dde02f11923815e6a16a31dd6298c46b109c5dfa</td>\n",
       "      <td>PMC</td>\n",
       "      <td>Discontinuous and non-discontinuous subgenomic...</td>\n",
       "      <td>10.1093/emboj/cdf635</td>\n",
       "      <td>PMC136939</td>\n",
       "      <td>12456663</td>\n",
       "      <td>unk</td>\n",
       "      <td>Arteri-, corona-, toro- and roniviruses are ev...</td>\n",
       "      <td>The EMBO Journal</td>\n",
       "      <td></td>\n",
       "      <td></td>\n",
       "      <td>True</td>\n",
       "      <td>custom_license</td>\n",
       "      <td>2002</td>\n",
       "      <td>12</td>\n",
       "      <td></td>\n",
       "      <td></td>\n",
       "      <td></td>\n",
       "      <td></td>\n",
       "    </tr>\n",
       "  </tbody>\n",
       "</table>\n",
       "</div>"
      ],
      "text/plain": [
       "                                        sha source  \\\n",
       "0  b2897e1277f56641193a6db73825f707eed3e4c9    PMC   \n",
       "1  e3d0d482ebd9a8ba81c254cc433f314142e72174    PMC   \n",
       "2  00b1d99e70f779eb4ede50059db469c65e8c1469    PMC   \n",
       "3  cf584e00f637cbd8f1bb35f3f09f5ed07b71aeb0    PMC   \n",
       "4  dde02f11923815e6a16a31dd6298c46b109c5dfa    PMC   \n",
       "\n",
       "                                               title  \\\n",
       "0  Sequence requirements for RNA strand transfer ...   \n",
       "1  Crystal structure of murine sCEACAM1a[1,4]: a ...   \n",
       "2  Synthesis of a novel hepatitis C virus protein...   \n",
       "3  Structure of coronavirus main proteinase revea...   \n",
       "4  Discontinuous and non-discontinuous subgenomic...   \n",
       "\n",
       "                        doi      pmcid      pmid license  \\\n",
       "0  10.1093/emboj/20.24.7220  PMC125340  11742998     unk   \n",
       "1   10.1093/emboj/21.9.2076  PMC125375  11980704     unk   \n",
       "2  10.1093/emboj/20.14.3840  PMC125543  11447125   no-cc   \n",
       "3      10.1093/emboj/cdf327  PMC126080  12093723     unk   \n",
       "4      10.1093/emboj/cdf635  PMC136939  12456663     unk   \n",
       "\n",
       "                                            abstract           journal  \\\n",
       "0  Nidovirus subgenomic mRNAs contain a leader se...  The EMBO Journal   \n",
       "1  CEACAM1 is a member of the carcinoembryonic an...  The EMBO Journal   \n",
       "2  Hepatitis C virus (HCV) is an important human ...            EMBO J   \n",
       "3  The key enzyme in coronavirus polyprotein proc...  The EMBO Journal   \n",
       "4  Arteri-, corona-, toro- and roniviruses are ev...  The EMBO Journal   \n",
       "\n",
       "  ms_academic_id who_covidence has_full_text  full_text_file publication_year  \\\n",
       "0                                       True  custom_license             2001   \n",
       "1                                       True  custom_license             2002   \n",
       "2                                       True  custom_license             2001   \n",
       "3                                       True  custom_license             2002   \n",
       "4                                       True  custom_license             2002   \n",
       "\n",
       "  publication_month pages volume issue dimensions_id  \n",
       "0                12                                   \n",
       "1                 5                                   \n",
       "2                 7                                   \n",
       "3                 7                                   \n",
       "4                12                                   "
      ]
     },
     "execution_count": 29,
     "metadata": {},
     "output_type": "execute_result"
    }
   ],
   "source": [
    "df_cord.head()"
   ]
  },
  {
   "cell_type": "code",
   "execution_count": 30,
   "metadata": {},
   "outputs": [
    {
     "data": {
      "text/plain": [
       "(3043, 19)"
      ]
     },
     "execution_count": 30,
     "metadata": {},
     "output_type": "execute_result"
    }
   ],
   "source": [
    "df_cord[(df_cord.doi==\"\") & ((df_cord.sha!=\"\") | (df_cord.pmid!=\"\") | (df_cord.pmcid!=\"\"))].shape"
   ]
  },
  {
   "cell_type": "code",
   "execution_count": 31,
   "metadata": {},
   "outputs": [
    {
     "data": {
      "text/plain": [
       "(306, 19)"
      ]
     },
     "execution_count": 31,
     "metadata": {},
     "output_type": "execute_result"
    }
   ],
   "source": [
    "df_cord[(df_cord.doi==\"\") & (df_cord.pmid==\"\") & (df_cord.pmcid==\"\")].shape"
   ]
  },
  {
   "cell_type": "code",
   "execution_count": 32,
   "metadata": {},
   "outputs": [
    {
     "data": {
      "text/plain": [
       "(17208, 17)"
      ]
     },
     "execution_count": 32,
     "metadata": {},
     "output_type": "execute_result"
    }
   ],
   "source": [
    "df_dimensions.shape"
   ]
  },
  {
   "cell_type": "code",
   "execution_count": 33,
   "metadata": {},
   "outputs": [
    {
     "data": {
      "text/plain": [
       "(9940, 18)"
      ]
     },
     "execution_count": 33,
     "metadata": {},
     "output_type": "execute_result"
    }
   ],
   "source": [
    "df_who.shape"
   ]
  },
  {
   "cell_type": "code",
   "execution_count": 34,
   "metadata": {},
   "outputs": [
    {
     "data": {
      "text/plain": [
       "(57366, 19)"
      ]
     },
     "execution_count": 34,
     "metadata": {},
     "output_type": "execute_result"
    }
   ],
   "source": [
    "df_cord.shape"
   ]
  },
  {
   "cell_type": "code",
   "execution_count": 35,
   "metadata": {},
   "outputs": [
    {
     "data": {
      "text/html": [
       "<div>\n",
       "<style scoped>\n",
       "    .dataframe tbody tr th:only-of-type {\n",
       "        vertical-align: middle;\n",
       "    }\n",
       "\n",
       "    .dataframe tbody tr th {\n",
       "        vertical-align: top;\n",
       "    }\n",
       "\n",
       "    .dataframe thead th {\n",
       "        text-align: right;\n",
       "    }\n",
       "</style>\n",
       "<table border=\"1\" class=\"dataframe\">\n",
       "  <thead>\n",
       "    <tr style=\"text-align: right;\">\n",
       "      <th></th>\n",
       "      <th>sha</th>\n",
       "      <th>source</th>\n",
       "      <th>title</th>\n",
       "      <th>doi</th>\n",
       "      <th>pmcid</th>\n",
       "      <th>pmid</th>\n",
       "      <th>license</th>\n",
       "      <th>abstract</th>\n",
       "      <th>journal</th>\n",
       "      <th>ms_academic_id</th>\n",
       "      <th>who_covidence</th>\n",
       "      <th>has_full_text</th>\n",
       "      <th>full_text_file</th>\n",
       "      <th>publication_year</th>\n",
       "      <th>publication_month</th>\n",
       "      <th>pages</th>\n",
       "      <th>volume</th>\n",
       "      <th>issue</th>\n",
       "      <th>dimensions_id</th>\n",
       "    </tr>\n",
       "  </thead>\n",
       "  <tbody>\n",
       "    <tr>\n",
       "      <th>37774</th>\n",
       "      <td></td>\n",
       "      <td>WHO</td>\n",
       "      <td>‘A ticking time bomb’: Scientists worry about ...</td>\n",
       "      <td>0.1126/science.abb7331</td>\n",
       "      <td></td>\n",
       "      <td></td>\n",
       "      <td>unk</td>\n",
       "      <td>CAPE TOWN, SOUTH AFRICA—Late on Sunday evening...</td>\n",
       "      <td>Science</td>\n",
       "      <td></td>\n",
       "      <td>#8463</td>\n",
       "      <td>False</td>\n",
       "      <td></td>\n",
       "      <td>2020</td>\n",
       "      <td></td>\n",
       "      <td></td>\n",
       "      <td></td>\n",
       "      <td></td>\n",
       "      <td></td>\n",
       "    </tr>\n",
       "  </tbody>\n",
       "</table>\n",
       "</div>"
      ],
      "text/plain": [
       "      sha source                                              title  \\\n",
       "37774        WHO  ‘A ticking time bomb’: Scientists worry about ...   \n",
       "\n",
       "                          doi pmcid pmid license  \\\n",
       "37774  0.1126/science.abb7331                unk   \n",
       "\n",
       "                                                abstract  journal  \\\n",
       "37774  CAPE TOWN, SOUTH AFRICA—Late on Sunday evening...  Science   \n",
       "\n",
       "      ms_academic_id who_covidence has_full_text full_text_file  \\\n",
       "37774                        #8463         False                  \n",
       "\n",
       "      publication_year publication_month pages volume issue dimensions_id  \n",
       "37774             2020                                                     "
      ]
     },
     "execution_count": 35,
     "metadata": {},
     "output_type": "execute_result"
    }
   ],
   "source": [
    "df_cord[df_cord.doi==\"0.1126/science.abb7331\"]"
   ]
  },
  {
   "cell_type": "markdown",
   "metadata": {},
   "source": [
    "### Prepare tables"
   ]
  },
  {
   "cell_type": "code",
   "execution_count": 36,
   "metadata": {},
   "outputs": [],
   "source": [
    "# the main table: pub"
   ]
  },
  {
   "cell_type": "code",
   "execution_count": 37,
   "metadata": {},
   "outputs": [],
   "source": [
    "pub_table_columns = ['title','abstract','publication_year','publication_month','journal','volume','issue','pages','doi','pmid','pmcid','dimensions_id']\n",
    "\n",
    "df_pub = df_dimensions[pub_table_columns].append(df_who[pub_table_columns], ignore_index = True)"
   ]
  },
  {
   "cell_type": "code",
   "execution_count": 38,
   "metadata": {},
   "outputs": [],
   "source": [
    "df_pub = df_pub[pub_table_columns].append(df_cord[pub_table_columns], ignore_index=True)"
   ]
  },
  {
   "cell_type": "code",
   "execution_count": 39,
   "metadata": {},
   "outputs": [],
   "source": [
    "df_pub[\"title\"] = df_pub[\"title\"].apply(sanitize_string)\n",
    "df_pub[\"abstract\"] = df_pub[\"abstract\"].apply(sanitize_string)\n",
    "df_pub[\"doi\"] = df_pub[\"doi\"].apply(str.lower)\n",
    "df_pub[\"pmid\"] = df_pub[\"pmid\"].apply(str.lower)\n",
    "df_pub[\"pmcid\"] = df_pub[\"pmcid\"].apply(str.lower)\n",
    "df_pub[\"dimensions_id\"] = df_pub[\"dimensions_id\"].apply(str.lower)"
   ]
  },
  {
   "cell_type": "code",
   "execution_count": 40,
   "metadata": {},
   "outputs": [
    {
     "data": {
      "text/plain": [
       "(84514, 12)"
      ]
     },
     "execution_count": 40,
     "metadata": {},
     "output_type": "execute_result"
    }
   ],
   "source": [
    "df_pub.shape"
   ]
  },
  {
   "cell_type": "code",
   "execution_count": 41,
   "metadata": {},
   "outputs": [
    {
     "data": {
      "text/plain": [
       "(1235, 12)"
      ]
     },
     "execution_count": 41,
     "metadata": {},
     "output_type": "execute_result"
    }
   ],
   "source": [
    "df_pub[(df_pub.doi==\"\") & (df_pub.pmid==\"\") & (df_pub.pmcid==\"\") & (df_pub.dimensions_id==\"\")].shape"
   ]
  },
  {
   "cell_type": "code",
   "execution_count": 42,
   "metadata": {},
   "outputs": [],
   "source": [
    "# check to have at least one valid identifier per publication\n",
    "# we drop publications which do not: hopefully, they will be equipped with an identifier in future releases\n",
    "\n",
    "df_pub = df_pub[~((df_pub.doi==\"\") & (df_pub.pmid==\"\") & (df_pub.pmcid==\"\") & (df_pub.dimensions_id==\"\"))]"
   ]
  },
  {
   "cell_type": "code",
   "execution_count": 43,
   "metadata": {},
   "outputs": [
    {
     "data": {
      "text/html": [
       "<div>\n",
       "<style scoped>\n",
       "    .dataframe tbody tr th:only-of-type {\n",
       "        vertical-align: middle;\n",
       "    }\n",
       "\n",
       "    .dataframe tbody tr th {\n",
       "        vertical-align: top;\n",
       "    }\n",
       "\n",
       "    .dataframe thead th {\n",
       "        text-align: right;\n",
       "    }\n",
       "</style>\n",
       "<table border=\"1\" class=\"dataframe\">\n",
       "  <thead>\n",
       "    <tr style=\"text-align: right;\">\n",
       "      <th></th>\n",
       "      <th>title</th>\n",
       "      <th>abstract</th>\n",
       "      <th>publication_year</th>\n",
       "      <th>publication_month</th>\n",
       "      <th>journal</th>\n",
       "      <th>volume</th>\n",
       "      <th>issue</th>\n",
       "      <th>pages</th>\n",
       "      <th>doi</th>\n",
       "      <th>pmid</th>\n",
       "      <th>pmcid</th>\n",
       "      <th>dimensions_id</th>\n",
       "    </tr>\n",
       "  </thead>\n",
       "  <tbody>\n",
       "    <tr>\n",
       "      <th>24898</th>\n",
       "      <td>‘A ticking time bomb’: Scientists worry about ...</td>\n",
       "      <td>CAPE TOWN, SOUTH AFRICA—Late on Sunday evening...</td>\n",
       "      <td>2020</td>\n",
       "      <td></td>\n",
       "      <td>Science</td>\n",
       "      <td></td>\n",
       "      <td></td>\n",
       "      <td></td>\n",
       "      <td>0.1126/science.abb7331</td>\n",
       "      <td></td>\n",
       "      <td></td>\n",
       "      <td></td>\n",
       "    </tr>\n",
       "    <tr>\n",
       "      <th>64922</th>\n",
       "      <td>‘A ticking time bomb’: Scientists worry about ...</td>\n",
       "      <td>CAPE TOWN, SOUTH AFRICA—Late on Sunday evening...</td>\n",
       "      <td>2020</td>\n",
       "      <td></td>\n",
       "      <td>Science</td>\n",
       "      <td></td>\n",
       "      <td></td>\n",
       "      <td></td>\n",
       "      <td>0.1126/science.abb7331</td>\n",
       "      <td></td>\n",
       "      <td></td>\n",
       "      <td></td>\n",
       "    </tr>\n",
       "  </tbody>\n",
       "</table>\n",
       "</div>"
      ],
      "text/plain": [
       "                                                   title  \\\n",
       "24898  ‘A ticking time bomb’: Scientists worry about ...   \n",
       "64922  ‘A ticking time bomb’: Scientists worry about ...   \n",
       "\n",
       "                                                abstract publication_year  \\\n",
       "24898  CAPE TOWN, SOUTH AFRICA—Late on Sunday evening...             2020   \n",
       "64922  CAPE TOWN, SOUTH AFRICA—Late on Sunday evening...             2020   \n",
       "\n",
       "      publication_month  journal volume issue pages                     doi  \\\n",
       "24898                    Science                     0.1126/science.abb7331   \n",
       "64922                    Science                     0.1126/science.abb7331   \n",
       "\n",
       "      pmid pmcid dimensions_id  \n",
       "24898                           \n",
       "64922                           "
      ]
     },
     "execution_count": 43,
     "metadata": {},
     "output_type": "execute_result"
    }
   ],
   "source": [
    "df_pub[df_pub.doi==\"0.1126/science.abb7331\"]"
   ]
  },
  {
   "cell_type": "code",
   "execution_count": 44,
   "metadata": {},
   "outputs": [],
   "source": [
    "# drop duplicates, first on dois then pmids then pmcids. We need this to keep empty values!\n",
    "df_tmp = df_pub[df_pub.doi==\"\"]\n",
    "df_pub1 = df_pub[df_pub.doi!=\"\"].groupby('doi').first()\n",
    "df_pub1.reset_index(inplace=True)\n",
    "df_tmp2 = df_tmp[df_tmp.pmid==\"\"]\n",
    "df_pub2 = df_tmp[df_tmp.pmid!=\"\"].groupby('pmid').first()\n",
    "df_pub2.reset_index(inplace=True)\n",
    "df_tmp3 = df_tmp2[df_tmp2.pmcid==\"\"]\n",
    "df_pub3 = df_tmp2[df_tmp2.pmcid!=\"\"].groupby('pmcid').first()\n",
    "df_pub3.reset_index(inplace=True)\n",
    "df_pub4 = df_tmp3[df_tmp3.dimensions_id!=\"\"].groupby('dimensions_id').first()\n",
    "df_pub4.reset_index(inplace=True)"
   ]
  },
  {
   "cell_type": "code",
   "execution_count": 45,
   "metadata": {},
   "outputs": [
    {
     "data": {
      "text/html": [
       "<div>\n",
       "<style scoped>\n",
       "    .dataframe tbody tr th:only-of-type {\n",
       "        vertical-align: middle;\n",
       "    }\n",
       "\n",
       "    .dataframe tbody tr th {\n",
       "        vertical-align: top;\n",
       "    }\n",
       "\n",
       "    .dataframe thead th {\n",
       "        text-align: right;\n",
       "    }\n",
       "</style>\n",
       "<table border=\"1\" class=\"dataframe\">\n",
       "  <thead>\n",
       "    <tr style=\"text-align: right;\">\n",
       "      <th></th>\n",
       "      <th>doi</th>\n",
       "      <th>title</th>\n",
       "      <th>abstract</th>\n",
       "      <th>publication_year</th>\n",
       "      <th>publication_month</th>\n",
       "      <th>journal</th>\n",
       "      <th>volume</th>\n",
       "      <th>issue</th>\n",
       "      <th>pages</th>\n",
       "      <th>pmid</th>\n",
       "      <th>pmcid</th>\n",
       "      <th>dimensions_id</th>\n",
       "    </tr>\n",
       "  </thead>\n",
       "  <tbody>\n",
       "    <tr>\n",
       "      <th>0</th>\n",
       "      <td>0.1126/science.abb7331</td>\n",
       "      <td>‘A ticking time bomb’: Scientists worry about ...</td>\n",
       "      <td>CAPE TOWN, SOUTH AFRICA—Late on Sunday evening...</td>\n",
       "      <td>2020</td>\n",
       "      <td></td>\n",
       "      <td>Science</td>\n",
       "      <td></td>\n",
       "      <td></td>\n",
       "      <td></td>\n",
       "      <td></td>\n",
       "      <td></td>\n",
       "      <td></td>\n",
       "    </tr>\n",
       "  </tbody>\n",
       "</table>\n",
       "</div>"
      ],
      "text/plain": [
       "                      doi                                              title  \\\n",
       "0  0.1126/science.abb7331  ‘A ticking time bomb’: Scientists worry about ...   \n",
       "\n",
       "                                            abstract publication_year  \\\n",
       "0  CAPE TOWN, SOUTH AFRICA—Late on Sunday evening...             2020   \n",
       "\n",
       "  publication_month  journal volume issue pages pmid pmcid dimensions_id  \n",
       "0                    Science                                              "
      ]
     },
     "execution_count": 45,
     "metadata": {},
     "output_type": "execute_result"
    }
   ],
   "source": [
    "df_pub1[df_pub1.doi==\"0.1126/science.abb7331\"]"
   ]
  },
  {
   "cell_type": "code",
   "execution_count": 46,
   "metadata": {},
   "outputs": [],
   "source": [
    "df_pub = pd.concat([df_pub1,df_pub2,df_pub3,df_pub4])"
   ]
  },
  {
   "cell_type": "code",
   "execution_count": 47,
   "metadata": {},
   "outputs": [],
   "source": [
    "# add PK and reset index\n",
    "df_pub.reset_index(drop=True,inplace=True)\n",
    "df_pub[\"pub_id\"] = df_pub.index.values"
   ]
  },
  {
   "cell_type": "code",
   "execution_count": 48,
   "metadata": {},
   "outputs": [
    {
     "data": {
      "text/plain": [
       "(69969, 13)"
      ]
     },
     "execution_count": 48,
     "metadata": {},
     "output_type": "execute_result"
    }
   ],
   "source": [
    "df_pub.shape"
   ]
  },
  {
   "cell_type": "code",
   "execution_count": 49,
   "metadata": {},
   "outputs": [],
   "source": [
    "# create other tables via joins\n",
    "\n",
    "df_datasource = pd.DataFrame.from_dict({\"source\":[\"CORD19\",\"Dimensions\",\"WHO\"],\"url\":[\"https://pages.semanticscholar.org/coronavirus-research\",\"https://docs.google.com/spreadsheets/d/1-kTZJZ1GAhJ2m4GAIhw1ZdlgO46JpvX0ZQa232VWRmw/edit#gid=2034285255\",\n",
    "\"https://www.who.int/emergencies/diseases/novel-coronavirus-2019/global-research-on-novel-coronavirus-2019-ncov\"]})\n",
    "df_cord_metadata = df_cord[['source','license','full_text_file','ms_academic_id','who_covidence','doi','pmid','pmcid','sha']]\n",
    "df_who_metadata = df_who[['accession_number', 'doi', 'ref',\n",
    "       'covidence', 'study', 'notes', 'tags', 'pmid', 'pmcid']]\n",
    "df_dimensions_metadata = df_dimensions[['dimensions_id', 'doi', 'pmid', 'pmcid', 'source_uid', 'mesh_terms',\n",
    "       'open_access', 'publication_type', 'dimensions_url']]"
   ]
  },
  {
   "cell_type": "code",
   "execution_count": 50,
   "metadata": {},
   "outputs": [],
   "source": [
    "df_cord_metadata[\"doi\"] = df_cord_metadata[\"doi\"].apply(str.lower)\n",
    "df_cord_metadata[\"pmid\"] = df_cord_metadata[\"pmid\"].apply(str.lower)\n",
    "df_cord_metadata[\"pmcid\"] = df_cord_metadata[\"pmcid\"].apply(str.lower)\n",
    "df_who_metadata[\"doi\"] = df_who_metadata[\"doi\"].apply(str.lower)\n",
    "df_who_metadata[\"pmid\"] = df_who_metadata[\"pmid\"].apply(str.lower)\n",
    "df_who_metadata[\"pmcid\"] = df_who_metadata[\"pmcid\"].apply(str.lower)\n",
    "df_dimensions_metadata[\"doi\"] = df_dimensions_metadata[\"doi\"].apply(str.lower)\n",
    "df_dimensions_metadata[\"pmid\"] = df_dimensions_metadata[\"pmid\"].apply(str.lower)\n",
    "df_dimensions_metadata[\"pmcid\"] = df_dimensions_metadata[\"pmcid\"].apply(str.lower)"
   ]
  },
  {
   "cell_type": "code",
   "execution_count": 51,
   "metadata": {},
   "outputs": [
    {
     "data": {
      "text/html": [
       "<div>\n",
       "<style scoped>\n",
       "    .dataframe tbody tr th:only-of-type {\n",
       "        vertical-align: middle;\n",
       "    }\n",
       "\n",
       "    .dataframe tbody tr th {\n",
       "        vertical-align: top;\n",
       "    }\n",
       "\n",
       "    .dataframe thead th {\n",
       "        text-align: right;\n",
       "    }\n",
       "</style>\n",
       "<table border=\"1\" class=\"dataframe\">\n",
       "  <thead>\n",
       "    <tr style=\"text-align: right;\">\n",
       "      <th></th>\n",
       "      <th>source</th>\n",
       "      <th>url</th>\n",
       "    </tr>\n",
       "  </thead>\n",
       "  <tbody>\n",
       "    <tr>\n",
       "      <th>0</th>\n",
       "      <td>CORD19</td>\n",
       "      <td>https://pages.semanticscholar.org/coronavirus-...</td>\n",
       "    </tr>\n",
       "    <tr>\n",
       "      <th>1</th>\n",
       "      <td>Dimensions</td>\n",
       "      <td>https://docs.google.com/spreadsheets/d/1-kTZJZ...</td>\n",
       "    </tr>\n",
       "    <tr>\n",
       "      <th>2</th>\n",
       "      <td>WHO</td>\n",
       "      <td>https://www.who.int/emergencies/diseases/novel...</td>\n",
       "    </tr>\n",
       "  </tbody>\n",
       "</table>\n",
       "</div>"
      ],
      "text/plain": [
       "       source                                                url\n",
       "0      CORD19  https://pages.semanticscholar.org/coronavirus-...\n",
       "1  Dimensions  https://docs.google.com/spreadsheets/d/1-kTZJZ...\n",
       "2         WHO  https://www.who.int/emergencies/diseases/novel..."
      ]
     },
     "execution_count": 51,
     "metadata": {},
     "output_type": "execute_result"
    }
   ],
   "source": [
    "df_datasource.head()"
   ]
  },
  {
   "cell_type": "code",
   "execution_count": 52,
   "metadata": {},
   "outputs": [],
   "source": [
    "# CORD19 metadata"
   ]
  },
  {
   "cell_type": "code",
   "execution_count": 53,
   "metadata": {},
   "outputs": [
    {
     "data": {
      "text/plain": [
       "(57366, 9)"
      ]
     },
     "execution_count": 53,
     "metadata": {},
     "output_type": "execute_result"
    }
   ],
   "source": [
    "df_cord_metadata.shape"
   ]
  },
  {
   "cell_type": "code",
   "execution_count": 54,
   "metadata": {},
   "outputs": [
    {
     "data": {
      "text/html": [
       "<div>\n",
       "<style scoped>\n",
       "    .dataframe tbody tr th:only-of-type {\n",
       "        vertical-align: middle;\n",
       "    }\n",
       "\n",
       "    .dataframe tbody tr th {\n",
       "        vertical-align: top;\n",
       "    }\n",
       "\n",
       "    .dataframe thead th {\n",
       "        text-align: right;\n",
       "    }\n",
       "</style>\n",
       "<table border=\"1\" class=\"dataframe\">\n",
       "  <thead>\n",
       "    <tr style=\"text-align: right;\">\n",
       "      <th></th>\n",
       "      <th>doi</th>\n",
       "      <th>title</th>\n",
       "      <th>abstract</th>\n",
       "      <th>publication_year</th>\n",
       "      <th>publication_month</th>\n",
       "      <th>journal</th>\n",
       "      <th>volume</th>\n",
       "      <th>issue</th>\n",
       "      <th>pages</th>\n",
       "      <th>pmid</th>\n",
       "      <th>pmcid</th>\n",
       "      <th>dimensions_id</th>\n",
       "      <th>pub_id</th>\n",
       "    </tr>\n",
       "  </thead>\n",
       "  <tbody>\n",
       "    <tr>\n",
       "      <th>0</th>\n",
       "      <td>0.1126/science.abb7331</td>\n",
       "      <td>‘A ticking time bomb’: Scientists worry about ...</td>\n",
       "      <td>CAPE TOWN, SOUTH AFRICA—Late on Sunday evening...</td>\n",
       "      <td>2020</td>\n",
       "      <td></td>\n",
       "      <td>Science</td>\n",
       "      <td></td>\n",
       "      <td></td>\n",
       "      <td></td>\n",
       "      <td></td>\n",
       "      <td></td>\n",
       "      <td></td>\n",
       "      <td>0</td>\n",
       "    </tr>\n",
       "  </tbody>\n",
       "</table>\n",
       "</div>"
      ],
      "text/plain": [
       "                      doi                                              title  \\\n",
       "0  0.1126/science.abb7331  ‘A ticking time bomb’: Scientists worry about ...   \n",
       "\n",
       "                                            abstract publication_year  \\\n",
       "0  CAPE TOWN, SOUTH AFRICA—Late on Sunday evening...             2020   \n",
       "\n",
       "  publication_month  journal volume issue pages pmid pmcid dimensions_id  \\\n",
       "0                    Science                                               \n",
       "\n",
       "   pub_id  \n",
       "0       0  "
      ]
     },
     "execution_count": 54,
     "metadata": {},
     "output_type": "execute_result"
    }
   ],
   "source": [
    "df_pub[df_pub.doi==\"0.1126/science.abb7331\"]"
   ]
  },
  {
   "cell_type": "code",
   "execution_count": 55,
   "metadata": {},
   "outputs": [],
   "source": [
    "#We need this to keep empty values!\n",
    "\n",
    "df_tmp = df_cord_metadata[df_cord_metadata.doi==\"\"]\n",
    "df_cord_metadata1 = pd.merge(df_cord_metadata[df_cord_metadata.doi!=\"\"], df_pub[['pub_id','doi']],  how='inner', left_on=['doi'], right_on=['doi'])\n",
    "df_tmp2 = df_tmp[df_tmp.pmid==\"\"]\n",
    "df_cord_metadata2 = pd.merge(df_tmp[df_tmp.pmid!=\"\"], df_pub[['pub_id','pmid']],  how='inner', left_on=['pmid'], right_on=['pmid'])\n",
    "df_cord_metadata3 = pd.merge(df_tmp2[df_tmp2.pmcid!=\"\"], df_pub[['pub_id','pmcid']],  how='inner', left_on=['pmcid'], right_on=['pmcid'])"
   ]
  },
  {
   "cell_type": "code",
   "execution_count": 56,
   "metadata": {},
   "outputs": [],
   "source": [
    "df_cord_metadata1 = df_cord_metadata1.groupby(\"doi\").first()\n",
    "df_cord_metadata1.reset_index(inplace=True)\n",
    "df_cord_metadata2 = df_cord_metadata2.groupby(\"pmid\").first()\n",
    "df_cord_metadata2.reset_index(inplace=True)\n",
    "df_cord_metadata3 = df_cord_metadata3.groupby(\"pmcid\").first()\n",
    "df_cord_metadata3.reset_index(inplace=True)"
   ]
  },
  {
   "cell_type": "code",
   "execution_count": 57,
   "metadata": {},
   "outputs": [],
   "source": [
    "df_cord_metadata = pd.concat([df_cord_metadata1,df_cord_metadata2,df_cord_metadata3])"
   ]
  },
  {
   "cell_type": "code",
   "execution_count": 58,
   "metadata": {},
   "outputs": [
    {
     "data": {
      "text/plain": [
       "(57041, 10)"
      ]
     },
     "execution_count": 58,
     "metadata": {},
     "output_type": "execute_result"
    }
   ],
   "source": [
    "df_cord_metadata.shape"
   ]
  },
  {
   "cell_type": "code",
   "execution_count": 59,
   "metadata": {},
   "outputs": [
    {
     "data": {
      "application/vnd.jupyter.widget-view+json": {
       "model_id": "7072be18633a40bc91f86a9a4edb8cf1",
       "version_major": 2,
       "version_minor": 0
      },
      "text/plain": [
       "HBox(children=(FloatProgress(value=0.0, max=2278.0), HTML(value='')))"
      ]
     },
     "metadata": {},
     "output_type": "display_data"
    },
    {
     "name": "stdout",
     "output_type": "stream",
     "text": [
      "\n"
     ]
    },
    {
     "data": {
      "application/vnd.jupyter.widget-view+json": {
       "model_id": "666af6762eab486b92efc2eb45d71090",
       "version_major": 2,
       "version_minor": 0
      },
      "text/plain": [
       "HBox(children=(FloatProgress(value=0.0, max=9769.0), HTML(value='')))"
      ]
     },
     "metadata": {},
     "output_type": "display_data"
    },
    {
     "name": "stdout",
     "output_type": "stream",
     "text": [
      "\n"
     ]
    },
    {
     "data": {
      "application/vnd.jupyter.widget-view+json": {
       "model_id": "f05eb7eb7b824a4db0e9ffb4652d3009",
       "version_major": 2,
       "version_minor": 0
      },
      "text/plain": [
       "HBox(children=(FloatProgress(value=0.0, max=31376.0), HTML(value='')))"
      ]
     },
     "metadata": {},
     "output_type": "display_data"
    },
    {
     "name": "stdout",
     "output_type": "stream",
     "text": [
      "\n"
     ]
    },
    {
     "data": {
      "application/vnd.jupyter.widget-view+json": {
       "model_id": "019a2bf18206433dbe4fc0d86151c8d7",
       "version_major": 2,
       "version_minor": 0
      },
      "text/plain": [
       "HBox(children=(FloatProgress(value=0.0, max=2518.0), HTML(value='')))"
      ]
     },
     "metadata": {},
     "output_type": "display_data"
    },
    {
     "name": "stdout",
     "output_type": "stream",
     "text": [
      "\n"
     ]
    }
   ],
   "source": [
    "# read full texts in\n",
    "folders = ['biorxiv_medrxiv/pdf_json','comm_use_subset/pdf_json','custom_license/pdf_json','noncomm_use_subset/pdf_json']\n",
    "shas = list()\n",
    "full_texts = list()\n",
    "\n",
    "for folder in folders:\n",
    "    for root, dirs, files in os.walk(os.path.join(cord19_folder,folder)):\n",
    "        for file in tqdm(files):\n",
    "            if \".json\" in file: # read\n",
    "                data = json.loads(codecs.open(os.path.join(root,file)).read())\n",
    "                sha = data[\"paper_id\"]\n",
    "                full_text = \" \".join(sanitize_string(section[\"text\"]) for section in data[\"body_text\"])\n",
    "                shas.append(sha)\n",
    "                full_texts.append(full_text)"
   ]
  },
  {
   "cell_type": "code",
   "execution_count": 60,
   "metadata": {},
   "outputs": [],
   "source": [
    "df_cord_fulltext = pd.DataFrame.from_dict({\"sha\":shas,\"full_text\":full_texts})"
   ]
  },
  {
   "cell_type": "code",
   "execution_count": 61,
   "metadata": {},
   "outputs": [
    {
     "data": {
      "text/plain": [
       "(45941, 2)"
      ]
     },
     "execution_count": 61,
     "metadata": {},
     "output_type": "execute_result"
    }
   ],
   "source": [
    "df_cord_fulltext.shape"
   ]
  },
  {
   "cell_type": "code",
   "execution_count": 62,
   "metadata": {},
   "outputs": [],
   "source": [
    "df_cord_metadata = pd.merge(df_cord_metadata, df_cord_fulltext,  how='left', left_on=['sha'], right_on=['sha'])\n",
    "df_cord_metadata = df_cord_metadata.fillna('')\n",
    "df_cord_metadata.rename(columns={\"id\":\"pub_id\"},inplace=True)"
   ]
  },
  {
   "cell_type": "code",
   "execution_count": 63,
   "metadata": {},
   "outputs": [
    {
     "data": {
      "text/html": [
       "<div>\n",
       "<style scoped>\n",
       "    .dataframe tbody tr th:only-of-type {\n",
       "        vertical-align: middle;\n",
       "    }\n",
       "\n",
       "    .dataframe tbody tr th {\n",
       "        vertical-align: top;\n",
       "    }\n",
       "\n",
       "    .dataframe thead th {\n",
       "        text-align: right;\n",
       "    }\n",
       "</style>\n",
       "<table border=\"1\" class=\"dataframe\">\n",
       "  <thead>\n",
       "    <tr style=\"text-align: right;\">\n",
       "      <th></th>\n",
       "      <th>doi</th>\n",
       "      <th>source</th>\n",
       "      <th>license</th>\n",
       "      <th>full_text_file</th>\n",
       "      <th>ms_academic_id</th>\n",
       "      <th>who_covidence</th>\n",
       "      <th>pmid</th>\n",
       "      <th>pmcid</th>\n",
       "      <th>sha</th>\n",
       "      <th>pub_id</th>\n",
       "      <th>full_text</th>\n",
       "    </tr>\n",
       "  </thead>\n",
       "  <tbody>\n",
       "    <tr>\n",
       "      <th>0</th>\n",
       "      <td>0.1126/science.abb7331</td>\n",
       "      <td>WHO</td>\n",
       "      <td>unk</td>\n",
       "      <td></td>\n",
       "      <td></td>\n",
       "      <td>#8463</td>\n",
       "      <td></td>\n",
       "      <td></td>\n",
       "      <td></td>\n",
       "      <td>0</td>\n",
       "      <td></td>\n",
       "    </tr>\n",
       "    <tr>\n",
       "      <th>1</th>\n",
       "      <td>10.0376/cma.j.issn.0376-2491.2020.0002</td>\n",
       "      <td>WHO</td>\n",
       "      <td>unk</td>\n",
       "      <td></td>\n",
       "      <td>3003451419</td>\n",
       "      <td>#615</td>\n",
       "      <td>32036640</td>\n",
       "      <td></td>\n",
       "      <td></td>\n",
       "      <td>1</td>\n",
       "      <td></td>\n",
       "    </tr>\n",
       "    <tr>\n",
       "      <th>2</th>\n",
       "      <td>10.1001/archinte.168.22.2489</td>\n",
       "      <td>PMC</td>\n",
       "      <td>unk</td>\n",
       "      <td></td>\n",
       "      <td></td>\n",
       "      <td></td>\n",
       "      <td>19064834</td>\n",
       "      <td>pmc2783624</td>\n",
       "      <td></td>\n",
       "      <td>2</td>\n",
       "      <td></td>\n",
       "    </tr>\n",
       "    <tr>\n",
       "      <th>3</th>\n",
       "      <td>10.1001/jama.2010.675</td>\n",
       "      <td>PMC</td>\n",
       "      <td>unk</td>\n",
       "      <td></td>\n",
       "      <td></td>\n",
       "      <td></td>\n",
       "      <td>20501927</td>\n",
       "      <td>pmc2968755</td>\n",
       "      <td></td>\n",
       "      <td>3</td>\n",
       "      <td></td>\n",
       "    </tr>\n",
       "    <tr>\n",
       "      <th>4</th>\n",
       "      <td>10.1001/jama.2014.2116</td>\n",
       "      <td>PMC</td>\n",
       "      <td>unk</td>\n",
       "      <td></td>\n",
       "      <td></td>\n",
       "      <td></td>\n",
       "      <td>24566924</td>\n",
       "      <td>pmc6689404</td>\n",
       "      <td></td>\n",
       "      <td>4</td>\n",
       "      <td></td>\n",
       "    </tr>\n",
       "  </tbody>\n",
       "</table>\n",
       "</div>"
      ],
      "text/plain": [
       "                                      doi source license full_text_file  \\\n",
       "0                  0.1126/science.abb7331    WHO     unk                  \n",
       "1  10.0376/cma.j.issn.0376-2491.2020.0002    WHO     unk                  \n",
       "2            10.1001/archinte.168.22.2489    PMC     unk                  \n",
       "3                   10.1001/jama.2010.675    PMC     unk                  \n",
       "4                  10.1001/jama.2014.2116    PMC     unk                  \n",
       "\n",
       "  ms_academic_id who_covidence      pmid       pmcid sha  pub_id full_text  \n",
       "0                        #8463                                 0            \n",
       "1     3003451419          #615  32036640                       1            \n",
       "2                               19064834  pmc2783624           2            \n",
       "3                               20501927  pmc2968755           3            \n",
       "4                               24566924  pmc6689404           4            "
      ]
     },
     "execution_count": 63,
     "metadata": {},
     "output_type": "execute_result"
    }
   ],
   "source": [
    "df_cord_metadata.head()"
   ]
  },
  {
   "cell_type": "code",
   "execution_count": 64,
   "metadata": {},
   "outputs": [],
   "source": [
    "# WHO and Dimensions metadata"
   ]
  },
  {
   "cell_type": "code",
   "execution_count": 65,
   "metadata": {},
   "outputs": [],
   "source": [
    "df_tmp = df_who_metadata[df_who_metadata.doi==\"\"]\n",
    "df_who_metadata1 = pd.merge(df_who_metadata[df_who_metadata.doi!=\"\"], df_pub[['pub_id','doi']],  how='inner', left_on=['doi'], right_on=['doi'])\n",
    "df_tmp2 = df_tmp[df_tmp.pmid==\"\"]\n",
    "df_who_metadata2 = pd.merge(df_tmp[df_tmp.pmid!=\"\"], df_pub[['pub_id','pmid']],  how='inner', left_on=['pmid'], right_on=['pmid'])\n",
    "df_who_metadata3 = pd.merge(df_tmp2[df_tmp2.pmcid!=\"\"], df_pub[['pub_id','pmcid']],  how='inner', left_on=['pmcid'], right_on=['pmcid'])"
   ]
  },
  {
   "cell_type": "code",
   "execution_count": 66,
   "metadata": {},
   "outputs": [],
   "source": [
    "df_who_metadata1 = df_who_metadata1.groupby(\"doi\").first()\n",
    "df_who_metadata1.reset_index(inplace=True)\n",
    "df_who_metadata2 = df_who_metadata2.groupby(\"pmid\").first()\n",
    "df_who_metadata2.reset_index(inplace=True)\n",
    "df_who_metadata3 = df_who_metadata3.groupby(\"pmcid\").first()\n",
    "df_who_metadata3.reset_index(inplace=True)"
   ]
  },
  {
   "cell_type": "code",
   "execution_count": 67,
   "metadata": {},
   "outputs": [],
   "source": [
    "df_who_metadata = pd.concat([df_who_metadata1,df_who_metadata2,df_who_metadata3])"
   ]
  },
  {
   "cell_type": "code",
   "execution_count": 68,
   "metadata": {},
   "outputs": [
    {
     "data": {
      "text/plain": [
       "(8609, 10)"
      ]
     },
     "execution_count": 68,
     "metadata": {},
     "output_type": "execute_result"
    }
   ],
   "source": [
    "df_who_metadata.shape"
   ]
  },
  {
   "cell_type": "code",
   "execution_count": 69,
   "metadata": {},
   "outputs": [],
   "source": [
    "df_who_metadata.rename(columns={\"id\":\"pub_id\"},inplace=True)"
   ]
  },
  {
   "cell_type": "code",
   "execution_count": 70,
   "metadata": {},
   "outputs": [],
   "source": [
    "df_tmp = df_dimensions_metadata[df_dimensions_metadata.dimensions_id==\"\"]\n",
    "df_dimensions_metadata1 = pd.merge(df_dimensions_metadata[df_dimensions_metadata.dimensions_id!=\"\"], df_pub[['pub_id','dimensions_id']],  how='inner', left_on=['dimensions_id'], right_on=['dimensions_id'])"
   ]
  },
  {
   "cell_type": "code",
   "execution_count": 71,
   "metadata": {},
   "outputs": [],
   "source": [
    "df_dimensions_metadata1 = df_dimensions_metadata1.groupby(\"dimensions_id\").first()\n",
    "df_dimensions_metadata1.reset_index(inplace=True)"
   ]
  },
  {
   "cell_type": "code",
   "execution_count": 72,
   "metadata": {},
   "outputs": [],
   "source": [
    "df_dimensions_metadata = pd.concat([df_dimensions_metadata1])"
   ]
  },
  {
   "cell_type": "code",
   "execution_count": 73,
   "metadata": {},
   "outputs": [
    {
     "data": {
      "text/plain": [
       "(17128, 10)"
      ]
     },
     "execution_count": 73,
     "metadata": {},
     "output_type": "execute_result"
    }
   ],
   "source": [
    "df_dimensions_metadata.shape"
   ]
  },
  {
   "cell_type": "code",
   "execution_count": 74,
   "metadata": {},
   "outputs": [],
   "source": [
    "df_dimensions_metadata.rename(columns={\"id\":\"pub_id\"},inplace=True)"
   ]
  },
  {
   "cell_type": "code",
   "execution_count": 75,
   "metadata": {},
   "outputs": [],
   "source": [
    "# Create datasource tables"
   ]
  },
  {
   "cell_type": "code",
   "execution_count": 76,
   "metadata": {},
   "outputs": [],
   "source": [
    "cord_source_id = df_datasource[df_datasource.source==\"CORD19\"].index.values[0]\n",
    "who_source_id = df_datasource[df_datasource.source==\"WHO\"].index.values[0]\n",
    "dimensions_source_id = df_datasource[df_datasource.source==\"Dimensions\"].index.values[0]"
   ]
  },
  {
   "cell_type": "code",
   "execution_count": 77,
   "metadata": {},
   "outputs": [],
   "source": [
    "df_cord_metadata[\"source_id\"] = cord_source_id\n",
    "df_who_metadata[\"source_id\"] = who_source_id\n",
    "df_dimensions_metadata[\"source_id\"] = dimensions_source_id"
   ]
  },
  {
   "cell_type": "code",
   "execution_count": 78,
   "metadata": {},
   "outputs": [],
   "source": [
    "df_pub_to_datasource = df_cord_metadata[[\"pub_id\",\"source_id\"]]\n",
    "df_pub_to_datasource = df_pub_to_datasource.append(df_who_metadata[[\"pub_id\",\"source_id\"]],ignore_index=True)\n",
    "df_pub_to_datasource = df_pub_to_datasource.append(df_dimensions_metadata[[\"pub_id\",\"source_id\"]],ignore_index=True)"
   ]
  },
  {
   "cell_type": "code",
   "execution_count": 79,
   "metadata": {},
   "outputs": [],
   "source": [
    "df_pub_to_datasource.drop_duplicates(inplace=True)\n",
    "df_pub_to_datasource.rename(columns={\"source_id\":\"datasource_id\"},inplace=True)"
   ]
  },
  {
   "cell_type": "code",
   "execution_count": 80,
   "metadata": {},
   "outputs": [
    {
     "data": {
      "text/plain": [
       "(82761, 2)"
      ]
     },
     "execution_count": 80,
     "metadata": {},
     "output_type": "execute_result"
    }
   ],
   "source": [
    "df_pub_to_datasource.shape"
   ]
  },
  {
   "cell_type": "code",
   "execution_count": 81,
   "metadata": {},
   "outputs": [
    {
     "data": {
      "text/html": [
       "<div>\n",
       "<style scoped>\n",
       "    .dataframe tbody tr th:only-of-type {\n",
       "        vertical-align: middle;\n",
       "    }\n",
       "\n",
       "    .dataframe tbody tr th {\n",
       "        vertical-align: top;\n",
       "    }\n",
       "\n",
       "    .dataframe thead th {\n",
       "        text-align: right;\n",
       "    }\n",
       "</style>\n",
       "<table border=\"1\" class=\"dataframe\">\n",
       "  <thead>\n",
       "    <tr style=\"text-align: right;\">\n",
       "      <th></th>\n",
       "      <th>pub_id</th>\n",
       "      <th>datasource_id</th>\n",
       "    </tr>\n",
       "  </thead>\n",
       "  <tbody>\n",
       "    <tr>\n",
       "      <th>68703</th>\n",
       "      <td>22787</td>\n",
       "      <td>1</td>\n",
       "    </tr>\n",
       "  </tbody>\n",
       "</table>\n",
       "</div>"
      ],
      "text/plain": [
       "       pub_id  datasource_id\n",
       "68703   22787              1"
      ]
     },
     "execution_count": 81,
     "metadata": {},
     "output_type": "execute_result"
    }
   ],
   "source": [
    "df_pub_to_datasource[df_pub_to_datasource.pub_id==22787]"
   ]
  },
  {
   "cell_type": "code",
   "execution_count": 82,
   "metadata": {},
   "outputs": [],
   "source": [
    "# remove unnecessary columns\n",
    "df_cord_metadata.drop(columns=['doi','pmid','pmcid','source_id'],inplace=True)\n",
    "df_who_metadata.drop(columns=['doi','pmid','pmcid','source_id'],inplace=True)\n",
    "df_dimensions_metadata.drop(columns=['doi','pmid','pmcid','source_id'],inplace=True)"
   ]
  },
  {
   "cell_type": "code",
   "execution_count": 83,
   "metadata": {},
   "outputs": [],
   "source": [
    "# reset all indexes which will become PKs\n",
    "df_cord_metadata.reset_index(drop=True,inplace=True)\n",
    "df_who_metadata.reset_index(drop=True,inplace=True)\n",
    "df_dimensions_metadata.reset_index(drop=True,inplace=True)\n",
    "df_datasource.reset_index(drop=True,inplace=True)\n",
    "df_cord_metadata[\"cord19_metadata_id\"] = df_cord_metadata.index.values\n",
    "df_who_metadata[\"who_metadata_id\"] = df_who_metadata.index.values\n",
    "df_dimensions_metadata[\"dimensions_metadata_id\"] = df_dimensions_metadata.index.values\n",
    "df_datasource[\"datasource_metadata_id\"] = df_datasource.index.values"
   ]
  },
  {
   "cell_type": "code",
   "execution_count": 84,
   "metadata": {},
   "outputs": [],
   "source": [
    "# make numeric where needed\n",
    "df_pub[\"publication_year\"] = pd.to_numeric(df_pub[\"publication_year\"])\n",
    "df_pub[\"publication_month\"] = pd.to_numeric(df_pub[\"publication_month\"])\n",
    "df_pub[\"pmid\"] = pd.to_numeric(df_pub[\"pmid\"])"
   ]
  },
  {
   "cell_type": "code",
   "execution_count": 85,
   "metadata": {},
   "outputs": [],
   "source": [
    "# add timestamp\n",
    "df_pub[\"timestamp\"] = pd.Timestamp.now()"
   ]
  },
  {
   "cell_type": "code",
   "execution_count": 86,
   "metadata": {},
   "outputs": [],
   "source": [
    "# clean-up text (optional)\n",
    "replaces = [\"\"]\n",
    "\n",
    "def clean_up(txt):\n",
    "    for r in replaces:\n",
    "        txt = txt.replace(r,\"\")\n",
    "    return txt.encode('utf8', 'ignore').decode('utf8')\n",
    "df_pub[\"abstract\"] = [clean_up(a) for a in df_pub[\"abstract\"].values]"
   ]
  },
  {
   "cell_type": "code",
   "execution_count": 87,
   "metadata": {},
   "outputs": [
    {
     "data": {
      "text/html": [
       "<div>\n",
       "<style scoped>\n",
       "    .dataframe tbody tr th:only-of-type {\n",
       "        vertical-align: middle;\n",
       "    }\n",
       "\n",
       "    .dataframe tbody tr th {\n",
       "        vertical-align: top;\n",
       "    }\n",
       "\n",
       "    .dataframe thead th {\n",
       "        text-align: right;\n",
       "    }\n",
       "</style>\n",
       "<table border=\"1\" class=\"dataframe\">\n",
       "  <thead>\n",
       "    <tr style=\"text-align: right;\">\n",
       "      <th></th>\n",
       "      <th>doi</th>\n",
       "      <th>title</th>\n",
       "      <th>abstract</th>\n",
       "      <th>publication_year</th>\n",
       "      <th>publication_month</th>\n",
       "      <th>journal</th>\n",
       "      <th>volume</th>\n",
       "      <th>issue</th>\n",
       "      <th>pages</th>\n",
       "      <th>pmid</th>\n",
       "      <th>pmcid</th>\n",
       "      <th>dimensions_id</th>\n",
       "      <th>pub_id</th>\n",
       "      <th>timestamp</th>\n",
       "    </tr>\n",
       "  </thead>\n",
       "  <tbody>\n",
       "    <tr>\n",
       "      <th>0</th>\n",
       "      <td>0.1126/science.abb7331</td>\n",
       "      <td>‘A ticking time bomb’: Scientists worry about ...</td>\n",
       "      <td>CAPE TOWN, SOUTH AFRICA—Late on Sunday evening...</td>\n",
       "      <td>2020.0</td>\n",
       "      <td>NaN</td>\n",
       "      <td>Science</td>\n",
       "      <td></td>\n",
       "      <td></td>\n",
       "      <td></td>\n",
       "      <td>NaN</td>\n",
       "      <td></td>\n",
       "      <td></td>\n",
       "      <td>0</td>\n",
       "      <td>2020-04-25 09:08:51.611715</td>\n",
       "    </tr>\n",
       "    <tr>\n",
       "      <th>1</th>\n",
       "      <td>10.0376/cma.j.issn.0376-2491.2020.0002</td>\n",
       "      <td>[Ten hot issues of breast cancer under the nov...</td>\n",
       "      <td></td>\n",
       "      <td>2020.0</td>\n",
       "      <td>2.0</td>\n",
       "      <td>Chinese medical journal</td>\n",
       "      <td>100</td>\n",
       "      <td>0</td>\n",
       "      <td>e002</td>\n",
       "      <td>32036640.0</td>\n",
       "      <td></td>\n",
       "      <td>pub.1124777091</td>\n",
       "      <td>1</td>\n",
       "      <td>2020-04-25 09:08:51.611715</td>\n",
       "    </tr>\n",
       "    <tr>\n",
       "      <th>2</th>\n",
       "      <td>10.1001/archinte.168.22.2489</td>\n",
       "      <td>Another Piece of the Puzzle: Human Metapneumov...</td>\n",
       "      <td>BACKGROUND: Each winter respiratory viruses ac...</td>\n",
       "      <td>2008.0</td>\n",
       "      <td>12.0</td>\n",
       "      <td>Archives of Internal Medicine</td>\n",
       "      <td></td>\n",
       "      <td></td>\n",
       "      <td></td>\n",
       "      <td>19064834.0</td>\n",
       "      <td>pmc2783624</td>\n",
       "      <td></td>\n",
       "      <td>2</td>\n",
       "      <td>2020-04-25 09:08:51.611715</td>\n",
       "    </tr>\n",
       "    <tr>\n",
       "      <th>3</th>\n",
       "      <td>10.1001/jama.2010.675</td>\n",
       "      <td>Viral etiology of severe pneumonia among Kenya...</td>\n",
       "      <td>CONTEXT: Pneumonia is the leading cause of chi...</td>\n",
       "      <td>2010.0</td>\n",
       "      <td>5.0</td>\n",
       "      <td>JAMA</td>\n",
       "      <td></td>\n",
       "      <td></td>\n",
       "      <td></td>\n",
       "      <td>20501927.0</td>\n",
       "      <td>pmc2968755</td>\n",
       "      <td></td>\n",
       "      <td>3</td>\n",
       "      <td>2020-04-25 09:08:51.611715</td>\n",
       "    </tr>\n",
       "    <tr>\n",
       "      <th>4</th>\n",
       "      <td>10.1001/jama.2014.2116</td>\n",
       "      <td>Critically Ill Patients With Influenza A(H1N1)...</td>\n",
       "      <td></td>\n",
       "      <td>2014.0</td>\n",
       "      <td>4.0</td>\n",
       "      <td>JAMA</td>\n",
       "      <td></td>\n",
       "      <td></td>\n",
       "      <td></td>\n",
       "      <td>24566924.0</td>\n",
       "      <td>pmc6689404</td>\n",
       "      <td></td>\n",
       "      <td>4</td>\n",
       "      <td>2020-04-25 09:08:51.611715</td>\n",
       "    </tr>\n",
       "  </tbody>\n",
       "</table>\n",
       "</div>"
      ],
      "text/plain": [
       "                                      doi  \\\n",
       "0                  0.1126/science.abb7331   \n",
       "1  10.0376/cma.j.issn.0376-2491.2020.0002   \n",
       "2            10.1001/archinte.168.22.2489   \n",
       "3                   10.1001/jama.2010.675   \n",
       "4                  10.1001/jama.2014.2116   \n",
       "\n",
       "                                               title  \\\n",
       "0  ‘A ticking time bomb’: Scientists worry about ...   \n",
       "1  [Ten hot issues of breast cancer under the nov...   \n",
       "2  Another Piece of the Puzzle: Human Metapneumov...   \n",
       "3  Viral etiology of severe pneumonia among Kenya...   \n",
       "4  Critically Ill Patients With Influenza A(H1N1)...   \n",
       "\n",
       "                                            abstract  publication_year  \\\n",
       "0  CAPE TOWN, SOUTH AFRICA—Late on Sunday evening...            2020.0   \n",
       "1                                                               2020.0   \n",
       "2  BACKGROUND: Each winter respiratory viruses ac...            2008.0   \n",
       "3  CONTEXT: Pneumonia is the leading cause of chi...            2010.0   \n",
       "4                                                               2014.0   \n",
       "\n",
       "   publication_month                        journal volume issue pages  \\\n",
       "0                NaN                        Science                      \n",
       "1                2.0        Chinese medical journal    100     0  e002   \n",
       "2               12.0  Archives of Internal Medicine                      \n",
       "3                5.0                           JAMA                      \n",
       "4                4.0                           JAMA                      \n",
       "\n",
       "         pmid       pmcid   dimensions_id  pub_id                  timestamp  \n",
       "0         NaN                                   0 2020-04-25 09:08:51.611715  \n",
       "1  32036640.0              pub.1124777091       1 2020-04-25 09:08:51.611715  \n",
       "2  19064834.0  pmc2783624                       2 2020-04-25 09:08:51.611715  \n",
       "3  20501927.0  pmc2968755                       3 2020-04-25 09:08:51.611715  \n",
       "4  24566924.0  pmc6689404                       4 2020-04-25 09:08:51.611715  "
      ]
     },
     "execution_count": 87,
     "metadata": {},
     "output_type": "execute_result"
    }
   ],
   "source": [
    "df_pub.head()"
   ]
  },
  {
   "cell_type": "code",
   "execution_count": 88,
   "metadata": {},
   "outputs": [
    {
     "data": {
      "text/plain": [
       "Index(['source', 'url', 'datasource_metadata_id'], dtype='object')"
      ]
     },
     "execution_count": 88,
     "metadata": {},
     "output_type": "execute_result"
    }
   ],
   "source": [
    "# reorder the columns to match the SQL schema\n",
    "\n",
    "df_datasource.columns"
   ]
  },
  {
   "cell_type": "code",
   "execution_count": 89,
   "metadata": {},
   "outputs": [],
   "source": [
    "df_pub = df_pub[['pub_id', 'title', 'abstract', 'publication_year', 'publication_month', 'journal',\n",
    "       'volume', 'issue', 'pages', 'doi', 'pmid', 'pmcid', 'dimensions_id',\n",
    "       'timestamp']]\n",
    "df_who_metadata = df_who_metadata[['who_metadata_id', 'accession_number', 'ref', 'covidence', 'study', 'notes', 'tags',\n",
    "       'pub_id']]\n",
    "df_dimensions_metadata = df_dimensions_metadata[['dimensions_metadata_id', 'dimensions_id', 'source_uid', 'open_access',\n",
    "       'publication_type', 'dimensions_url', 'mesh_terms', 'pub_id']]\n",
    "df_cord_metadata = df_cord_metadata[[ 'cord19_metadata_id', 'source', 'license', 'full_text_file', 'ms_academic_id',\n",
    "       'who_covidence', 'sha', 'full_text', 'pub_id']]\n",
    "df_datasource = df_datasource[['datasource_metadata_id', 'source', 'url']]"
   ]
  },
  {
   "cell_type": "code",
   "execution_count": 90,
   "metadata": {},
   "outputs": [
    {
     "data": {
      "text/plain": [
       "                                      3733\n",
       "10.1016/s1294-5501(07)88761-9            1\n",
       "10.1016/j.dsx.2020.04.028                1\n",
       "10.1016/j.diagmicrobio.2020.114988       1\n",
       "10.1136/vr.m1233                         1\n",
       "                                      ... \n",
       "10.1111/irv.12391                        1\n",
       "10.1007/978-0-85729-883-6_8              1\n",
       "10.1016/b978-1-4160-3949-5.50084-4       1\n",
       "10.1007/978-3-319-21596-9_1              1\n",
       "10.1111/j.1469-0691.2011.03672.x         1\n",
       "Name: doi, Length: 66237, dtype: int64"
      ]
     },
     "execution_count": 90,
     "metadata": {},
     "output_type": "execute_result"
    }
   ],
   "source": [
    "df_pub.doi.value_counts()"
   ]
  },
  {
   "cell_type": "code",
   "execution_count": 91,
   "metadata": {},
   "outputs": [
    {
     "data": {
      "text/plain": [
       "'26972    10.1016/s0140-6736(20)30607-3'"
      ]
     },
     "execution_count": 91,
     "metadata": {},
     "output_type": "execute_result"
    }
   ],
   "source": [
    "df_pub[df_pub.doi == \"10.1016/s0140-6736(20)30607-3\"].doi.to_string()"
   ]
  },
  {
   "cell_type": "markdown",
   "metadata": {},
   "source": [
    "### Dump to CSV"
   ]
  },
  {
   "cell_type": "code",
   "execution_count": 92,
   "metadata": {},
   "outputs": [],
   "source": [
    "### Export the df_pub dataframe for further use\n",
    "\n",
    "df_pub.to_csv(\"datasets_output/df_pub.csv\", compression=\"gzip\", index=False)"
   ]
  },
  {
   "cell_type": "code",
   "execution_count": 93,
   "metadata": {},
   "outputs": [],
   "source": [
    "# export TSV for ingestion\n",
    "\n",
    "df_pub.to_csv(\"datasets_output/sql_tables/pub.csv\",index=False,sep=\"\\t\",header=False)\n",
    "df_cord_metadata.to_csv(\"datasets_output/sql_tables/cord19_metadata.csv\",index=False,sep=\"\\t\",header=False)\n",
    "df_dimensions_metadata.to_csv(\"datasets_output/sql_tables/dimensions_metadata.csv\",index=False,sep=\"\\t\",header=False)\n",
    "df_who_metadata.to_csv(\"datasets_output/sql_tables/who_metadata.csv\",index=False,sep=\"\\t\",header=False)\n",
    "df_datasource.to_csv(\"datasets_output/sql_tables/datasource.csv\",index=False,sep=\"\\t\",header=False)\n",
    "df_pub_to_datasource.to_csv(\"datasets_output/sql_tables/pub_datasource.csv\",index=False,sep=\"\\t\",header=False)"
   ]
  },
  {
   "cell_type": "markdown",
   "metadata": {},
   "source": [
    "### Dump to MySQL\n",
    "\n",
    "Use this if you want to create a MySQL db."
   ]
  },
  {
   "cell_type": "code",
   "execution_count": null,
   "metadata": {},
   "outputs": [],
   "source": [
    "dtype_dict = {'pub_id':Integer, 'title':String, 'abstract':String, 'publication_year':Integer, 'publication_month':Integer, 'journal':String,\n",
    "       'volume':String, 'issue':String, 'pages':String, 'doi':String, 'pmid':Integer, 'pmcid':String, 'timestamp':DateTime}"
   ]
  },
  {
   "cell_type": "code",
   "execution_count": null,
   "metadata": {},
   "outputs": [],
   "source": [
    "# get API key\n",
    "import configparser\n",
    "config = configparser.ConfigParser()\n",
    "config.read(\"credentials/conf.ini\")\n",
    "mysql_username = config[\"MYSQL\"][\"username\"]\n",
    "mysql_password = config[\"MYSQL\"][\"password\"]\n",
    "mysql_database = config[\"MYSQL\"][\"database\"]"
   ]
  },
  {
   "cell_type": "code",
   "execution_count": null,
   "metadata": {},
   "outputs": [],
   "source": [
    "sqlEngine = create_engine('mysql+pymysql://%s:%s@127.0.0.1/%s'%(mysql_username,mysql_password,mysql_database), pool_recycle=3600)\n",
    "dbConnection = sqlEngine.connect()"
   ]
  },
  {
   "cell_type": "code",
   "execution_count": null,
   "metadata": {},
   "outputs": [],
   "source": [
    "# main table\n",
    "table_name = \"pub\"\n",
    "try:\n",
    "    frame = df_pub.to_sql(table_name, dbConnection, if_exists='append', index=False, index_label=\"pub_id\", dtype=dtype_dict);\n",
    "except ValueError as vx:\n",
    "    print(vx)\n",
    "except Exception as ex:   \n",
    "    print(ex)\n",
    "else:\n",
    "    print(\"Table %s created successfully.\"%table_name);   \n",
    "finally:\n",
    "    dbConnection.close()"
   ]
  },
  {
   "cell_type": "code",
   "execution_count": null,
   "metadata": {},
   "outputs": [],
   "source": [
    "sqlEngine = create_engine('mysql+pymysql://%s:%s@127.0.0.1/%s'%(mysql_username,mysql_password,mysql_database), pool_recycle=3600)\n",
    "dbConnection = sqlEngine.connect()"
   ]
  },
  {
   "cell_type": "code",
   "execution_count": null,
   "metadata": {},
   "outputs": [],
   "source": [
    "# other tables\n",
    "try:\n",
    "    frame = df_cord_metadata.to_sql(\"cord19_metadata\", dbConnection, if_exists='append', index=True, index_label=\"cord19_metadata_id\")\n",
    "    frame = df_who_metadata.to_sql(\"who_metadata\", dbConnection, if_exists='append', index=True, index_label=\"who_metadata_id\")\n",
    "    frame = df_dimensions_metadata.to_sql(\"dimensions_metadata\", dbConnection, if_exists='append', index=True, index_label=\"dimensions_metadata_id\")\n",
    "    frame = df_datasource.to_sql(\"datasource\", dbConnection, if_exists='append', index=True, index_label=\"datasource_id\")\n",
    "except ValueError as vx:\n",
    "    print(vx)\n",
    "except Exception as ex:   \n",
    "    print(ex)\n",
    "else:\n",
    "    print(\"Tables created successfully.\");   \n",
    "finally:\n",
    "    dbConnection.close()"
   ]
  },
  {
   "cell_type": "code",
   "execution_count": null,
   "metadata": {},
   "outputs": [],
   "source": [
    "sqlEngine = create_engine('mysql+pymysql://%s:%s@127.0.0.1/%s'%(mysql_username,mysql_password,mysql_database), pool_recycle=3600)\n",
    "dbConnection = sqlEngine.connect()"
   ]
  },
  {
   "cell_type": "code",
   "execution_count": null,
   "metadata": {},
   "outputs": [],
   "source": [
    "# last table\n",
    "try:\n",
    "    frame = df_pub_to_datasource.to_sql(\"pub_datasource\", dbConnection, if_exists='append', index=False, index_label=[\"pub_id\",\"datasource_id\"])\n",
    "except ValueError as vx:\n",
    "    print(vx)\n",
    "except Exception as ex:   \n",
    "    print(ex)\n",
    "else:\n",
    "    print(\"Table created successfully.\");   \n",
    "finally:\n",
    "    dbConnection.close()"
   ]
  },
  {
   "cell_type": "code",
   "execution_count": null,
   "metadata": {},
   "outputs": [],
   "source": []
  }
 ],
 "metadata": {
  "kernelspec": {
   "display_name": "covid",
   "language": "python",
   "name": "covid"
  },
  "language_info": {
   "codemirror_mode": {
    "name": "ipython",
    "version": 3
   },
   "file_extension": ".py",
   "mimetype": "text/x-python",
   "name": "python",
   "nbconvert_exporter": "python",
   "pygments_lexer": "ipython3",
   "version": "3.7.6"
  }
 },
 "nbformat": 4,
 "nbformat_minor": 4
}
