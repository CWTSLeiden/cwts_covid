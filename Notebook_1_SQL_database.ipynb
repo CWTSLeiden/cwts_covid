{
 "cells": [
  {
   "cell_type": "markdown",
   "metadata": {},
   "source": [
    "# COVID19-related literature SQL database\n",
    "\n",
    "In this notebook, we create a relational database dump of a set of COVID19-related publication datasets. These include:\n",
    "\n",
    "* CORD19: https://pages.semanticscholar.org/coronavirus-research\n",
    "* Dimensions: https://docs.google.com/spreadsheets/d/1-kTZJZ1GAhJ2m4GAIhw1ZdlgO46JpvX0ZQa232VWRmw/edit#gid=2034285255\n",
    "* WHO: https://www.who.int/emergencies/diseases/novel-coronavirus-2019/global-research-on-novel-coronavirus-2019-ncov"
   ]
  },
  {
   "cell_type": "code",
   "execution_count": 126,
   "metadata": {},
   "outputs": [
    {
     "name": "stdout",
     "output_type": "stream",
     "text": [
      "The autoreload extension is already loaded. To reload it, use:\n",
      "  %reload_ext autoreload\n"
     ]
    }
   ],
   "source": [
    "# magics, warnings and imports\n",
    "\n",
    "%load_ext autoreload\n",
    "%autoreload 2\n",
    "import warnings; warnings.simplefilter('ignore')\n",
    "\n",
    "import os, random, codecs, json, math, re\n",
    "import pandas as pd\n",
    "import numpy as np\n",
    "from tqdm.notebook import tqdm\n",
    "import pymysql\n",
    "from sqlalchemy import create_engine\n",
    "from sqlalchemy import Integer,String,Boolean,DateTime\n",
    "\n",
    "seed = 99\n",
    "random.seed(seed)\n",
    "np.random.seed(seed)\n",
    "\n",
    "import nltk, sklearn\n",
    "import matplotlib.pyplot as plt\n",
    "import seaborn as sns\n",
    "sns.set(style=\"white\")\n",
    "sns.set_context(\"notebook\", font_scale=1.2, rc={\"lines.linewidth\": 2.5})"
   ]
  },
  {
   "cell_type": "markdown",
   "metadata": {},
   "source": [
    "#### Load datasets"
   ]
  },
  {
   "cell_type": "code",
   "execution_count": 127,
   "metadata": {},
   "outputs": [],
   "source": [
    "# point here to the versions of the datasets you want to use\n",
    "dimensions_filename = \"datasets_input/Dimensions_03_06_2020.csv\"\n",
    "who_filename = \"datasets_input/WHO_03_06_2020.csv\"\n",
    "cord19_folder = \"datasets_input/CORD19_03_06_2020\"\n",
    "\n",
    "df_dimensions = pd.read_csv(dimensions_filename, dtype=str)\n",
    "df_who = pd.read_csv(who_filename, dtype=str)\n",
    "df_cord = pd.read_csv(os.path.join(cord19_folder,\"metadata.csv\"), dtype=str)"
   ]
  },
  {
   "cell_type": "code",
   "execution_count": 128,
   "metadata": {},
   "outputs": [
    {
     "data": {
      "text/plain": [
       "(135149, 19)"
      ]
     },
     "execution_count": 128,
     "metadata": {},
     "output_type": "execute_result"
    }
   ],
   "source": [
    "df_cord.shape"
   ]
  },
  {
   "cell_type": "markdown",
   "metadata": {},
   "source": [
    "### Prepare dataframes for ingestion"
   ]
  },
  {
   "cell_type": "markdown",
   "metadata": {},
   "source": [
    "#### Clean-up data frames"
   ]
  },
  {
   "cell_type": "markdown",
   "metadata": {},
   "source": [
    "##### Dimensions"
   ]
  },
  {
   "cell_type": "code",
   "execution_count": 129,
   "metadata": {},
   "outputs": [
    {
     "data": {
      "text/html": [
       "<div>\n",
       "<style scoped>\n",
       "    .dataframe tbody tr th:only-of-type {\n",
       "        vertical-align: middle;\n",
       "    }\n",
       "\n",
       "    .dataframe tbody tr th {\n",
       "        vertical-align: top;\n",
       "    }\n",
       "\n",
       "    .dataframe thead th {\n",
       "        text-align: right;\n",
       "    }\n",
       "</style>\n",
       "<table border=\"1\" class=\"dataframe\">\n",
       "  <thead>\n",
       "    <tr style=\"text-align: right;\">\n",
       "      <th></th>\n",
       "      <th>Date added</th>\n",
       "      <th>Publication ID</th>\n",
       "      <th>DOI</th>\n",
       "      <th>PMID</th>\n",
       "      <th>PMCID</th>\n",
       "      <th>Title</th>\n",
       "      <th>Abstract</th>\n",
       "      <th>Source title</th>\n",
       "      <th>Source UID</th>\n",
       "      <th>Publisher</th>\n",
       "      <th>...</th>\n",
       "      <th>Research Organizations - standardized</th>\n",
       "      <th>GRID IDs</th>\n",
       "      <th>City of Research organization</th>\n",
       "      <th>Country of Research organization</th>\n",
       "      <th>Funder</th>\n",
       "      <th>UIDs of supporting grants</th>\n",
       "      <th>Times cited</th>\n",
       "      <th>Altmetric</th>\n",
       "      <th>Source Linkout</th>\n",
       "      <th>Dimensions URL</th>\n",
       "    </tr>\n",
       "  </thead>\n",
       "  <tbody>\n",
       "    <tr>\n",
       "      <th>0</th>\n",
       "      <td>2020-05-20</td>\n",
       "      <td>pub.1127722683</td>\n",
       "      <td>10.4060/ca8799fr</td>\n",
       "      <td>NaN</td>\n",
       "      <td>NaN</td>\n",
       "      <td>Atténuer les effets de covid-19 sur le secteur...</td>\n",
       "      <td>NaN</td>\n",
       "      <td>NaN</td>\n",
       "      <td>NaN</td>\n",
       "      <td>Food and Agriculture Organization of the Unite...</td>\n",
       "      <td>...</td>\n",
       "      <td>NaN</td>\n",
       "      <td>NaN</td>\n",
       "      <td>NaN</td>\n",
       "      <td>NaN</td>\n",
       "      <td>NaN</td>\n",
       "      <td>NaN</td>\n",
       "      <td>0</td>\n",
       "      <td>NaN</td>\n",
       "      <td>NaN</td>\n",
       "      <td>https://app.dimensions.ai/details/publication/...</td>\n",
       "    </tr>\n",
       "    <tr>\n",
       "      <th>1</th>\n",
       "      <td>2020-05-20</td>\n",
       "      <td>pub.1127724804</td>\n",
       "      <td>10.7238/c.n99.2036</td>\n",
       "      <td>NaN</td>\n",
       "      <td>NaN</td>\n",
       "      <td>'Fake news' y coronavirus (y II): las redes so...</td>\n",
       "      <td>NaN</td>\n",
       "      <td>COMeIN</td>\n",
       "      <td>jour.1366192</td>\n",
       "      <td>Fundacio per la Universitat Oberta de Catalunya</td>\n",
       "      <td>...</td>\n",
       "      <td>Open University of Catalonia</td>\n",
       "      <td>grid.36083.3e</td>\n",
       "      <td>Barcelona</td>\n",
       "      <td>Spain</td>\n",
       "      <td>NaN</td>\n",
       "      <td>NaN</td>\n",
       "      <td>0</td>\n",
       "      <td>NaN</td>\n",
       "      <td>https://doi.org/10.7238/c.n99.2036</td>\n",
       "      <td>https://app.dimensions.ai/details/publication/...</td>\n",
       "    </tr>\n",
       "    <tr>\n",
       "      <th>2</th>\n",
       "      <td>2020-05-20</td>\n",
       "      <td>pub.1127722401</td>\n",
       "      <td>10.3934/mbe.2020205</td>\n",
       "      <td>NaN</td>\n",
       "      <td>NaN</td>\n",
       "      <td>Phase-adjusted estimation of the COVID-19 outb...</td>\n",
       "      <td>NaN</td>\n",
       "      <td>Mathematical Biosciences and Engineering</td>\n",
       "      <td>jour.1033105</td>\n",
       "      <td>American Institute of Mathematical Sciences (A...</td>\n",
       "      <td>...</td>\n",
       "      <td>NaN</td>\n",
       "      <td>NaN</td>\n",
       "      <td>NaN</td>\n",
       "      <td>NaN</td>\n",
       "      <td>NaN</td>\n",
       "      <td>NaN</td>\n",
       "      <td>0</td>\n",
       "      <td>NaN</td>\n",
       "      <td>https://doi.org/10.3934/mbe.2020205</td>\n",
       "      <td>https://app.dimensions.ai/details/publication/...</td>\n",
       "    </tr>\n",
       "    <tr>\n",
       "      <th>3</th>\n",
       "      <td>2020-05-20</td>\n",
       "      <td>pub.1127715363</td>\n",
       "      <td>10.1136/leader-2020-000273</td>\n",
       "      <td>NaN</td>\n",
       "      <td>NaN</td>\n",
       "      <td>What healthcare leaders need to do to protect ...</td>\n",
       "      <td>NaN</td>\n",
       "      <td>BMJ Leader</td>\n",
       "      <td>jour.1293146</td>\n",
       "      <td>BMJ</td>\n",
       "      <td>...</td>\n",
       "      <td>NaN</td>\n",
       "      <td>NaN</td>\n",
       "      <td>NaN</td>\n",
       "      <td>NaN</td>\n",
       "      <td>National Institute for Health Research</td>\n",
       "      <td>NaN</td>\n",
       "      <td>0</td>\n",
       "      <td>67</td>\n",
       "      <td>https://bmjleader.bmj.com/content/leader/early...</td>\n",
       "      <td>https://app.dimensions.ai/details/publication/...</td>\n",
       "    </tr>\n",
       "    <tr>\n",
       "      <th>4</th>\n",
       "      <td>2020-05-20</td>\n",
       "      <td>pub.1127717858</td>\n",
       "      <td>10.14336/ad.2020.0402</td>\n",
       "      <td>NaN</td>\n",
       "      <td>NaN</td>\n",
       "      <td>COVID-19 in India: Are Biological and Environm...</td>\n",
       "      <td>NaN</td>\n",
       "      <td>Aging and Disease</td>\n",
       "      <td>jour.1044156</td>\n",
       "      <td>Aging and Disease</td>\n",
       "      <td>...</td>\n",
       "      <td>NaN</td>\n",
       "      <td>NaN</td>\n",
       "      <td>NaN</td>\n",
       "      <td>NaN</td>\n",
       "      <td>NaN</td>\n",
       "      <td>NaN</td>\n",
       "      <td>0</td>\n",
       "      <td>NaN</td>\n",
       "      <td>http://www.aginganddisease.org/EN/article/down...</td>\n",
       "      <td>https://app.dimensions.ai/details/publication/...</td>\n",
       "    </tr>\n",
       "  </tbody>\n",
       "</table>\n",
       "<p>5 rows × 31 columns</p>\n",
       "</div>"
      ],
      "text/plain": [
       "   Date added  Publication ID                         DOI PMID PMCID  \\\n",
       "0  2020-05-20  pub.1127722683            10.4060/ca8799fr  NaN   NaN   \n",
       "1  2020-05-20  pub.1127724804          10.7238/c.n99.2036  NaN   NaN   \n",
       "2  2020-05-20  pub.1127722401         10.3934/mbe.2020205  NaN   NaN   \n",
       "3  2020-05-20  pub.1127715363  10.1136/leader-2020-000273  NaN   NaN   \n",
       "4  2020-05-20  pub.1127717858       10.14336/ad.2020.0402  NaN   NaN   \n",
       "\n",
       "                                               Title Abstract  \\\n",
       "0  Atténuer les effets de covid-19 sur le secteur...      NaN   \n",
       "1  'Fake news' y coronavirus (y II): las redes so...      NaN   \n",
       "2  Phase-adjusted estimation of the COVID-19 outb...      NaN   \n",
       "3  What healthcare leaders need to do to protect ...      NaN   \n",
       "4  COVID-19 in India: Are Biological and Environm...      NaN   \n",
       "\n",
       "                               Source title    Source UID  \\\n",
       "0                                       NaN           NaN   \n",
       "1                                    COMeIN  jour.1366192   \n",
       "2  Mathematical Biosciences and Engineering  jour.1033105   \n",
       "3                                BMJ Leader  jour.1293146   \n",
       "4                         Aging and Disease  jour.1044156   \n",
       "\n",
       "                                           Publisher  ...  \\\n",
       "0  Food and Agriculture Organization of the Unite...  ...   \n",
       "1    Fundacio per la Universitat Oberta de Catalunya  ...   \n",
       "2  American Institute of Mathematical Sciences (A...  ...   \n",
       "3                                                BMJ  ...   \n",
       "4                                  Aging and Disease  ...   \n",
       "\n",
       "  Research Organizations - standardized       GRID IDs  \\\n",
       "0                                   NaN            NaN   \n",
       "1          Open University of Catalonia  grid.36083.3e   \n",
       "2                                   NaN            NaN   \n",
       "3                                   NaN            NaN   \n",
       "4                                   NaN            NaN   \n",
       "\n",
       "  City of Research organization Country of Research organization  \\\n",
       "0                           NaN                              NaN   \n",
       "1                     Barcelona                            Spain   \n",
       "2                           NaN                              NaN   \n",
       "3                           NaN                              NaN   \n",
       "4                           NaN                              NaN   \n",
       "\n",
       "                                   Funder UIDs of supporting grants  \\\n",
       "0                                     NaN                       NaN   \n",
       "1                                     NaN                       NaN   \n",
       "2                                     NaN                       NaN   \n",
       "3  National Institute for Health Research                       NaN   \n",
       "4                                     NaN                       NaN   \n",
       "\n",
       "  Times cited Altmetric                                     Source Linkout  \\\n",
       "0           0       NaN                                                NaN   \n",
       "1           0       NaN                 https://doi.org/10.7238/c.n99.2036   \n",
       "2           0       NaN                https://doi.org/10.3934/mbe.2020205   \n",
       "3           0        67  https://bmjleader.bmj.com/content/leader/early...   \n",
       "4           0       NaN  http://www.aginganddisease.org/EN/article/down...   \n",
       "\n",
       "                                      Dimensions URL  \n",
       "0  https://app.dimensions.ai/details/publication/...  \n",
       "1  https://app.dimensions.ai/details/publication/...  \n",
       "2  https://app.dimensions.ai/details/publication/...  \n",
       "3  https://app.dimensions.ai/details/publication/...  \n",
       "4  https://app.dimensions.ai/details/publication/...  \n",
       "\n",
       "[5 rows x 31 columns]"
      ]
     },
     "execution_count": 129,
     "metadata": {},
     "output_type": "execute_result"
    }
   ],
   "source": [
    "df_dimensions.head()"
   ]
  },
  {
   "cell_type": "code",
   "execution_count": 130,
   "metadata": {},
   "outputs": [
    {
     "data": {
      "text/plain": [
       "Index(['Date added', 'Publication ID', 'DOI', 'PMID', 'PMCID', 'Title',\n",
       "       'Abstract', 'Source title', 'Source UID', 'Publisher', 'MeSH terms',\n",
       "       'Publication Date', 'PubYear', 'Volume', 'Issue', 'Pagination',\n",
       "       'Open Access', 'Publication Type', 'Authors', 'Corresponding Authors',\n",
       "       'Authors Affiliations', 'Research Organizations - standardized',\n",
       "       'GRID IDs', 'City of Research organization',\n",
       "       'Country of Research organization', 'Funder',\n",
       "       'UIDs of supporting grants', 'Times cited', 'Altmetric',\n",
       "       'Source Linkout', 'Dimensions URL'],\n",
       "      dtype='object')"
      ]
     },
     "execution_count": 130,
     "metadata": {},
     "output_type": "execute_result"
    }
   ],
   "source": [
    "df_dimensions.columns"
   ]
  },
  {
   "cell_type": "code",
   "execution_count": 131,
   "metadata": {},
   "outputs": [],
   "source": [
    "df_dimensions.drop(columns=['Date added', 'Publisher', 'Authors', 'Corresponding Authors',\n",
    "       'Authors Affiliations', 'Research Organizations - standardized',\n",
    "       'GRID IDs', 'City of Research organization',\n",
    "       'Country of Research organization', 'Funder',\n",
    "       'UIDs of supporting grants', 'Times cited', 'Altmetric',\n",
    "       'Source Linkout'], inplace=True)"
   ]
  },
  {
   "cell_type": "code",
   "execution_count": 132,
   "metadata": {},
   "outputs": [
    {
     "data": {
      "text/plain": [
       "Index(['Publication ID', 'DOI', 'PMID', 'PMCID', 'Title', 'Abstract',\n",
       "       'Source title', 'Source UID', 'MeSH terms', 'Publication Date',\n",
       "       'PubYear', 'Volume', 'Issue', 'Pagination', 'Open Access',\n",
       "       'Publication Type', 'Dimensions URL'],\n",
       "      dtype='object')"
      ]
     },
     "execution_count": 132,
     "metadata": {},
     "output_type": "execute_result"
    }
   ],
   "source": [
    "df_dimensions.columns"
   ]
  },
  {
   "cell_type": "code",
   "execution_count": 133,
   "metadata": {},
   "outputs": [],
   "source": [
    "df_dimensions.rename(columns={'Publication ID':'dimensions_id', 'DOI':'doi', 'PMID':'pmid', 'PMCID':'pmcid', 'Title':'title', 'Abstract':'abstract',\n",
    "       'Source title':'journal', 'Source UID':'source_uid', 'MeSH terms':'mesh_terms', 'Publication Date':'publication_date',\n",
    "       'PubYear':'publication_year', 'Volume':'volume', 'Issue':'issue', 'Pagination':'pages', 'Open Access':'open_access',\n",
    "       'Publication Type':'publication_type', 'Dimensions URL':'dimensions_url'}, inplace=True)"
   ]
  },
  {
   "cell_type": "code",
   "execution_count": 134,
   "metadata": {},
   "outputs": [],
   "source": [
    "def get_year(date):\n",
    "    if isinstance(date,str) and len(date)>3 and date[:4].isdigit():\n",
    "        return date[:4]\n",
    "    return \"\"\n",
    "\n",
    "month_to_number = {\"Jan\":\"1\",\"Feb\":\"2\",\"Mar\":\"3\",\"Apr\":\"4\",\"May\":\"5\",\"Jun\":\"6\",\"Jul\":\"7\",\"Aug\":\"8\",\"Sep\":\"9\",\"Oct\":\"10\",\"Nov\":\"11\",\"Dec\":\"12\"}\n",
    "\n",
    "def get_month(date):\n",
    "    if isinstance(date,str) and len(date)>6:\n",
    "        if \"-\" in date and date.split(\"-\")[1].isdigit():\n",
    "            return str(int(date.split(\"-\")[1]))\n",
    "        else:\n",
    "            try:\n",
    "                return month_to_number[date.split()[1]]\n",
    "            except:\n",
    "                return \"\"\n",
    "    return \"\"\n",
    "\n",
    "def sanitize_string(s):\n",
    "    return \" \".join(s.split())"
   ]
  },
  {
   "cell_type": "code",
   "execution_count": 135,
   "metadata": {},
   "outputs": [],
   "source": [
    "df_dimensions[\"publication_year\"] = df_dimensions[\"publication_year\"].apply(get_year)\n",
    "df_dimensions[\"publication_month\"] = df_dimensions[\"publication_date\"].apply(get_month)\n",
    "df_dimensions[\"arxiv_id\"] = \"\""
   ]
  },
  {
   "cell_type": "code",
   "execution_count": 136,
   "metadata": {},
   "outputs": [],
   "source": [
    "df_dimensions.drop(columns=\"publication_date\", inplace=True)\n",
    "df_dimensions = df_dimensions.fillna('')"
   ]
  },
  {
   "cell_type": "code",
   "execution_count": 137,
   "metadata": {},
   "outputs": [
    {
     "data": {
      "text/plain": [
       "'\\nimport requests, re\\n\\nfor index, row in df_dimensions[df_dimensions.journal==\"arXiv\"].iterrows():\\n    r = requests.get(row[\"dimensions_url\"])\\n    if r.status_code == 200:\\n        arxiv_url = re.search(\"https://arxiv.org/pdf/arXiv:[0-9]+.[0-9]+\",r.text).group()\\n        arxiv_id = arxiv_url.split(\":\")[-1]\\n        row[\"arxiv_id\"] = arxiv_id\\n'"
      ]
     },
     "execution_count": 137,
     "metadata": {},
     "output_type": "execute_result"
    }
   ],
   "source": [
    "# retrieve arXiv ID for Dimensions papers\n",
    "# Sync option, quite slow\n",
    "\n",
    "\"\"\"\n",
    "import requests, re\n",
    "\n",
    "for index, row in df_dimensions[df_dimensions.journal==\"arXiv\"].iterrows():\n",
    "    r = requests.get(row[\"dimensions_url\"])\n",
    "    if r.status_code == 200:\n",
    "        arxiv_url = re.search(\"https://arxiv.org/pdf/arXiv:[0-9]+.[0-9]+\",r.text).group()\n",
    "        arxiv_id = arxiv_url.split(\":\")[-1]\n",
    "        row[\"arxiv_id\"] = arxiv_id\n",
    "\"\"\""
   ]
  },
  {
   "cell_type": "code",
   "execution_count": 14,
   "metadata": {
    "scrolled": false
   },
   "outputs": [],
   "source": [
    "# from https://towardsdatascience.com/fast-and-async-in-python-accelerate-your-requests-using-asyncio-62dafca83c33\n",
    "# aSync option, fast\n",
    "\n",
    "import aiohttp\n",
    "import requests\n",
    "import asyncio\n",
    "\n",
    "from aiohttp import ClientSession\n",
    "\n",
    "def extract_fields_from_response(response):\n",
    "    \"\"\"Extract arxiv id from API's response\"\"\"\n",
    "    search_res = re.search(\"arXiv:[0-9]+.[0-9]+\",response)\n",
    "    if search_res:\n",
    "        arxiv_url = search_res.group()\n",
    "        arxiv_id = arxiv_url.split(\":\")[-1]\n",
    "        return arxiv_id\n",
    "    return \"\"\n",
    "\n",
    "async def get_details_async(session, payload):   \n",
    "    response = await session.request(method='GET', url=payload[1][\"dimensions_url\"])\n",
    "    if response.status != 200:\n",
    "        print(payload[0], response.status)\n",
    "        pass\n",
    "    return await response.text()\n",
    "\n",
    "async def run_program(session, payload):\n",
    "    \"\"\"Wrapper for running program in an asynchronous manner\"\"\"\n",
    "    response = await get_details_async(session, payload)\n",
    "    arxiv_id = extract_fields_from_response(response)\n",
    "    return (arxiv_id,payload[1][\"dimensions_url\"])\n",
    "\n",
    "payloads = df_dimensions[df_dimensions.journal==\"arXiv\"]\n",
    "connector = aiohttp.TCPConnector(limit=5)\n",
    "async with aiohttp.ClientSession(connector=connector) as session:\n",
    "    results = await asyncio.gather(*[run_program(session, payload) for payload in payloads.iterrows()])"
   ]
  },
  {
   "cell_type": "code",
   "execution_count": 15,
   "metadata": {},
   "outputs": [],
   "source": [
    "df_tmp = pd.DataFrame.from_dict({\"arxiv_id\":[x[0] for x in results],\"dimensions_url\":[x[1] for x in results]})"
   ]
  },
  {
   "cell_type": "code",
   "execution_count": 138,
   "metadata": {},
   "outputs": [
    {
     "data": {
      "text/plain": [
       "(963, 2)"
      ]
     },
     "execution_count": 138,
     "metadata": {},
     "output_type": "execute_result"
    }
   ],
   "source": [
    "df_tmp.shape"
   ]
  },
  {
   "cell_type": "code",
   "execution_count": 139,
   "metadata": {},
   "outputs": [],
   "source": [
    "df_dimensions = df_dimensions.merge(df_tmp, how=\"left\", left_on=\"dimensions_url\", right_on=\"dimensions_url\")\n",
    "df_dimensions.drop(columns=\"arxiv_id_x\", inplace=True)\n",
    "df_dimensions.rename(columns={\"arxiv_id_y\":\"arxiv_id\"}, inplace=True)\n",
    "df_dimensions = df_dimensions.fillna('')"
   ]
  },
  {
   "cell_type": "code",
   "execution_count": 140,
   "metadata": {},
   "outputs": [
    {
     "data": {
      "text/plain": [
       "(36835, 18)"
      ]
     },
     "execution_count": 140,
     "metadata": {},
     "output_type": "execute_result"
    }
   ],
   "source": [
    "df_dimensions.shape"
   ]
  },
  {
   "cell_type": "code",
   "execution_count": 141,
   "metadata": {},
   "outputs": [
    {
     "data": {
      "text/plain": [
       "(965, 18)"
      ]
     },
     "execution_count": 141,
     "metadata": {},
     "output_type": "execute_result"
    }
   ],
   "source": [
    "df_dimensions[df_dimensions.journal==\"arXiv\"].shape"
   ]
  },
  {
   "cell_type": "code",
   "execution_count": 142,
   "metadata": {},
   "outputs": [
    {
     "data": {
      "text/html": [
       "<div>\n",
       "<style scoped>\n",
       "    .dataframe tbody tr th:only-of-type {\n",
       "        vertical-align: middle;\n",
       "    }\n",
       "\n",
       "    .dataframe tbody tr th {\n",
       "        vertical-align: top;\n",
       "    }\n",
       "\n",
       "    .dataframe thead th {\n",
       "        text-align: right;\n",
       "    }\n",
       "</style>\n",
       "<table border=\"1\" class=\"dataframe\">\n",
       "  <thead>\n",
       "    <tr style=\"text-align: right;\">\n",
       "      <th></th>\n",
       "      <th>dimensions_id</th>\n",
       "      <th>doi</th>\n",
       "      <th>pmid</th>\n",
       "      <th>pmcid</th>\n",
       "      <th>title</th>\n",
       "      <th>abstract</th>\n",
       "      <th>journal</th>\n",
       "      <th>source_uid</th>\n",
       "      <th>mesh_terms</th>\n",
       "      <th>publication_year</th>\n",
       "      <th>volume</th>\n",
       "      <th>issue</th>\n",
       "      <th>pages</th>\n",
       "      <th>open_access</th>\n",
       "      <th>publication_type</th>\n",
       "      <th>dimensions_url</th>\n",
       "      <th>publication_month</th>\n",
       "      <th>arxiv_id</th>\n",
       "    </tr>\n",
       "  </thead>\n",
       "  <tbody>\n",
       "    <tr>\n",
       "      <th>0</th>\n",
       "      <td>pub.1127722683</td>\n",
       "      <td>10.4060/ca8799fr</td>\n",
       "      <td></td>\n",
       "      <td></td>\n",
       "      <td>Atténuer les effets de covid-19 sur le secteur...</td>\n",
       "      <td></td>\n",
       "      <td></td>\n",
       "      <td></td>\n",
       "      <td></td>\n",
       "      <td>2020</td>\n",
       "      <td></td>\n",
       "      <td></td>\n",
       "      <td></td>\n",
       "      <td>Closed</td>\n",
       "      <td>book</td>\n",
       "      <td>https://app.dimensions.ai/details/publication/...</td>\n",
       "      <td>1</td>\n",
       "      <td></td>\n",
       "    </tr>\n",
       "    <tr>\n",
       "      <th>1</th>\n",
       "      <td>pub.1127724804</td>\n",
       "      <td>10.7238/c.n99.2036</td>\n",
       "      <td></td>\n",
       "      <td></td>\n",
       "      <td>'Fake news' y coronavirus (y II): las redes so...</td>\n",
       "      <td></td>\n",
       "      <td>COMeIN</td>\n",
       "      <td>jour.1366192</td>\n",
       "      <td></td>\n",
       "      <td>2020</td>\n",
       "      <td></td>\n",
       "      <td>99</td>\n",
       "      <td></td>\n",
       "      <td>All OA; Hybrid</td>\n",
       "      <td>article</td>\n",
       "      <td>https://app.dimensions.ai/details/publication/...</td>\n",
       "      <td>5</td>\n",
       "      <td></td>\n",
       "    </tr>\n",
       "    <tr>\n",
       "      <th>2</th>\n",
       "      <td>pub.1127722401</td>\n",
       "      <td>10.3934/mbe.2020205</td>\n",
       "      <td></td>\n",
       "      <td></td>\n",
       "      <td>Phase-adjusted estimation of the COVID-19 outb...</td>\n",
       "      <td></td>\n",
       "      <td>Mathematical Biosciences and Engineering</td>\n",
       "      <td>jour.1033105</td>\n",
       "      <td></td>\n",
       "      <td>2020</td>\n",
       "      <td>17</td>\n",
       "      <td>4</td>\n",
       "      <td>3637-3648</td>\n",
       "      <td>All OA; Pure Gold</td>\n",
       "      <td>article</td>\n",
       "      <td>https://app.dimensions.ai/details/publication/...</td>\n",
       "      <td>1</td>\n",
       "      <td></td>\n",
       "    </tr>\n",
       "    <tr>\n",
       "      <th>3</th>\n",
       "      <td>pub.1127715363</td>\n",
       "      <td>10.1136/leader-2020-000273</td>\n",
       "      <td></td>\n",
       "      <td></td>\n",
       "      <td>What healthcare leaders need to do to protect ...</td>\n",
       "      <td></td>\n",
       "      <td>BMJ Leader</td>\n",
       "      <td>jour.1293146</td>\n",
       "      <td></td>\n",
       "      <td>2020</td>\n",
       "      <td></td>\n",
       "      <td></td>\n",
       "      <td>leader-2020-000273</td>\n",
       "      <td>All OA; Bronze</td>\n",
       "      <td>article</td>\n",
       "      <td>https://app.dimensions.ai/details/publication/...</td>\n",
       "      <td>5</td>\n",
       "      <td></td>\n",
       "    </tr>\n",
       "    <tr>\n",
       "      <th>4</th>\n",
       "      <td>pub.1127717858</td>\n",
       "      <td>10.14336/ad.2020.0402</td>\n",
       "      <td></td>\n",
       "      <td></td>\n",
       "      <td>COVID-19 in India: Are Biological and Environm...</td>\n",
       "      <td></td>\n",
       "      <td>Aging and Disease</td>\n",
       "      <td>jour.1044156</td>\n",
       "      <td></td>\n",
       "      <td>2020</td>\n",
       "      <td>11</td>\n",
       "      <td>3</td>\n",
       "      <td>480</td>\n",
       "      <td>All OA; Bronze</td>\n",
       "      <td>article</td>\n",
       "      <td>https://app.dimensions.ai/details/publication/...</td>\n",
       "      <td>1</td>\n",
       "      <td></td>\n",
       "    </tr>\n",
       "  </tbody>\n",
       "</table>\n",
       "</div>"
      ],
      "text/plain": [
       "    dimensions_id                         doi pmid pmcid  \\\n",
       "0  pub.1127722683            10.4060/ca8799fr              \n",
       "1  pub.1127724804          10.7238/c.n99.2036              \n",
       "2  pub.1127722401         10.3934/mbe.2020205              \n",
       "3  pub.1127715363  10.1136/leader-2020-000273              \n",
       "4  pub.1127717858       10.14336/ad.2020.0402              \n",
       "\n",
       "                                               title abstract  \\\n",
       "0  Atténuer les effets de covid-19 sur le secteur...            \n",
       "1  'Fake news' y coronavirus (y II): las redes so...            \n",
       "2  Phase-adjusted estimation of the COVID-19 outb...            \n",
       "3  What healthcare leaders need to do to protect ...            \n",
       "4  COVID-19 in India: Are Biological and Environm...            \n",
       "\n",
       "                                    journal    source_uid mesh_terms  \\\n",
       "0                                                                      \n",
       "1                                    COMeIN  jour.1366192              \n",
       "2  Mathematical Biosciences and Engineering  jour.1033105              \n",
       "3                                BMJ Leader  jour.1293146              \n",
       "4                         Aging and Disease  jour.1044156              \n",
       "\n",
       "  publication_year volume issue               pages        open_access  \\\n",
       "0             2020                                              Closed   \n",
       "1             2020           99                         All OA; Hybrid   \n",
       "2             2020     17     4           3637-3648  All OA; Pure Gold   \n",
       "3             2020               leader-2020-000273     All OA; Bronze   \n",
       "4             2020     11     3                 480     All OA; Bronze   \n",
       "\n",
       "  publication_type                                     dimensions_url  \\\n",
       "0             book  https://app.dimensions.ai/details/publication/...   \n",
       "1          article  https://app.dimensions.ai/details/publication/...   \n",
       "2          article  https://app.dimensions.ai/details/publication/...   \n",
       "3          article  https://app.dimensions.ai/details/publication/...   \n",
       "4          article  https://app.dimensions.ai/details/publication/...   \n",
       "\n",
       "  publication_month arxiv_id  \n",
       "0                 1           \n",
       "1                 5           \n",
       "2                 1           \n",
       "3                 5           \n",
       "4                 1           "
      ]
     },
     "execution_count": 142,
     "metadata": {},
     "output_type": "execute_result"
    }
   ],
   "source": [
    "df_dimensions.head()"
   ]
  },
  {
   "cell_type": "code",
   "execution_count": 143,
   "metadata": {},
   "outputs": [
    {
     "data": {
      "text/plain": [
       "(1334, 18)"
      ]
     },
     "execution_count": 143,
     "metadata": {},
     "output_type": "execute_result"
    }
   ],
   "source": [
    "df_dimensions[df_dimensions.doi==\"\"].shape"
   ]
  },
  {
   "cell_type": "markdown",
   "metadata": {},
   "source": [
    "##### WHO"
   ]
  },
  {
   "cell_type": "code",
   "execution_count": 144,
   "metadata": {},
   "outputs": [
    {
     "data": {
      "text/plain": [
       "(26573, 17)"
      ]
     },
     "execution_count": 144,
     "metadata": {},
     "output_type": "execute_result"
    }
   ],
   "source": [
    "df_who.shape"
   ]
  },
  {
   "cell_type": "code",
   "execution_count": 145,
   "metadata": {},
   "outputs": [
    {
     "data": {
      "text/html": [
       "<div>\n",
       "<style scoped>\n",
       "    .dataframe tbody tr th:only-of-type {\n",
       "        vertical-align: middle;\n",
       "    }\n",
       "\n",
       "    .dataframe tbody tr th {\n",
       "        vertical-align: top;\n",
       "    }\n",
       "\n",
       "    .dataframe thead th {\n",
       "        text-align: right;\n",
       "    }\n",
       "</style>\n",
       "<table border=\"1\" class=\"dataframe\">\n",
       "  <thead>\n",
       "    <tr style=\"text-align: right;\">\n",
       "      <th></th>\n",
       "      <th>ID</th>\n",
       "      <th>Title</th>\n",
       "      <th>Authors</th>\n",
       "      <th>Source</th>\n",
       "      <th>Journal</th>\n",
       "      <th>Database</th>\n",
       "      <th>Type</th>\n",
       "      <th>Language</th>\n",
       "      <th>Publication year</th>\n",
       "      <th>Descriptor(s)</th>\n",
       "      <th>Publication Country</th>\n",
       "      <th>Fulltext URL</th>\n",
       "      <th>Abstract</th>\n",
       "      <th>Entry Date</th>\n",
       "      <th>Volume number</th>\n",
       "      <th>Issue number</th>\n",
       "      <th>DOI</th>\n",
       "    </tr>\n",
       "  </thead>\n",
       "  <tbody>\n",
       "    <tr>\n",
       "      <th>0</th>\n",
       "      <td>437999</td>\n",
       "      <td>The dissemination of COVID-19: an expectant an...</td>\n",
       "      <td>Pimentel, Renata Macedo Martins; Daboin, Blanc...</td>\n",
       "      <td>Rev. bras. crescimento desenvolv. hum;30(1)2020.</td>\n",
       "      <td>Rev. bras. crescimento desenvolv. hum</td>\n",
       "      <td>LILACS</td>\n",
       "      <td>article</td>\n",
       "      <td>en</td>\n",
       "      <td>2020</td>\n",
       "      <td>Humans; Health Knowledge, Attitudes, Practice;...</td>\n",
       "      <td>BR</td>\n",
       "      <td>http://revistas.marilia.unesp.br/index.php/jhg...</td>\n",
       "      <td>Backgroung: Coronaviruses (CoV) make up a larg...</td>\n",
       "      <td>202060</td>\n",
       "      <td>30</td>\n",
       "      <td>1</td>\n",
       "      <td></td>\n",
       "    </tr>\n",
       "    <tr>\n",
       "      <th>1</th>\n",
       "      <td>437630</td>\n",
       "      <td>Hidroxicloroquina y azitromicina: riesgo cardi...</td>\n",
       "      <td>Barja, Luis D; Maurice, Mario Fitz; González, ...</td>\n",
       "      <td>CorSalud;12(1)ene.-mar. 2020.</td>\n",
       "      <td>CorSalud</td>\n",
       "      <td>LILACS</td>\n",
       "      <td>article</td>\n",
       "      <td>es</td>\n",
       "      <td>2020</td>\n",
       "      <td>Humans; Long QT Syndrome/etiology; Coronavirus...</td>\n",
       "      <td>CU</td>\n",
       "      <td>http://www.revcorsalud.sld.cu/index.php/cors/a...</td>\n",
       "      <td>NaN</td>\n",
       "      <td>202060</td>\n",
       "      <td>12</td>\n",
       "      <td>1</td>\n",
       "      <td></td>\n",
       "    </tr>\n",
       "    <tr>\n",
       "      <th>2</th>\n",
       "      <td>326028</td>\n",
       "      <td>Grupo de Trabajo en material de salud en los c...</td>\n",
       "      <td>Perú. Ministerio de Salud</td>\n",
       "      <td>Lima; Perú. Ministerio de Salud; 20200500. 4 p.</td>\n",
       "      <td>NaN</td>\n",
       "      <td>LILACS</td>\n",
       "      <td>monography</td>\n",
       "      <td>es</td>\n",
       "      <td>2020</td>\n",
       "      <td>Professional Staff Committees; Occupational He...</td>\n",
       "      <td>PE</td>\n",
       "      <td>http://fi-admin.bvsalud.org/document/view/cj7ej</td>\n",
       "      <td>El documento contiene la conformación del Grup...</td>\n",
       "      <td>202052</td>\n",
       "      <td>NaN</td>\n",
       "      <td>NaN</td>\n",
       "      <td></td>\n",
       "    </tr>\n",
       "    <tr>\n",
       "      <th>3</th>\n",
       "      <td>326027</td>\n",
       "      <td>Lineamientos para el fortalecimiento de accion...</td>\n",
       "      <td>Perú. Ministerio de Salud; Dirección General d...</td>\n",
       "      <td>Lima; Perú. Ministerio de Salud; 20200500. 14 p.</td>\n",
       "      <td>NaN</td>\n",
       "      <td>LILACS</td>\n",
       "      <td>monography</td>\n",
       "      <td>es</td>\n",
       "      <td>2020</td>\n",
       "      <td>National Strategies; Coronavirus Infections; M...</td>\n",
       "      <td>PE</td>\n",
       "      <td>http://fi-admin.bvsalud.org/document/view/mf38b</td>\n",
       "      <td>El documento contiene las directrices para ori...</td>\n",
       "      <td>202052</td>\n",
       "      <td>NaN</td>\n",
       "      <td>NaN</td>\n",
       "      <td></td>\n",
       "    </tr>\n",
       "    <tr>\n",
       "      <th>4</th>\n",
       "      <td>326024</td>\n",
       "      <td>Directiva sanitaria que establece las disposic...</td>\n",
       "      <td>Perú. Ministerio de Salud; Dirección General d...</td>\n",
       "      <td>Lima; Perú. Ministerio de Salud; 20200500. 25 p.</td>\n",
       "      <td>NaN</td>\n",
       "      <td>LILACS</td>\n",
       "      <td>monography</td>\n",
       "      <td>es</td>\n",
       "      <td>2020</td>\n",
       "      <td>Guidelines as Topic; Coronavirus Infections; C...</td>\n",
       "      <td>PE</td>\n",
       "      <td>http://fi-admin.bvsalud.org/document/view/rymmc</td>\n",
       "      <td>El documento contiene las disposiciones y medi...</td>\n",
       "      <td>202052</td>\n",
       "      <td>NaN</td>\n",
       "      <td>NaN</td>\n",
       "      <td></td>\n",
       "    </tr>\n",
       "  </tbody>\n",
       "</table>\n",
       "</div>"
      ],
      "text/plain": [
       "       ID                                              Title  \\\n",
       "0  437999  The dissemination of COVID-19: an expectant an...   \n",
       "1  437630  Hidroxicloroquina y azitromicina: riesgo cardi...   \n",
       "2  326028  Grupo de Trabajo en material de salud en los c...   \n",
       "3  326027  Lineamientos para el fortalecimiento de accion...   \n",
       "4  326024  Directiva sanitaria que establece las disposic...   \n",
       "\n",
       "                                             Authors  \\\n",
       "0  Pimentel, Renata Macedo Martins; Daboin, Blanc...   \n",
       "1  Barja, Luis D; Maurice, Mario Fitz; González, ...   \n",
       "2                          Perú. Ministerio de Salud   \n",
       "3  Perú. Ministerio de Salud; Dirección General d...   \n",
       "4  Perú. Ministerio de Salud; Dirección General d...   \n",
       "\n",
       "                                              Source  \\\n",
       "0   Rev. bras. crescimento desenvolv. hum;30(1)2020.   \n",
       "1                      CorSalud;12(1)ene.-mar. 2020.   \n",
       "2   Lima; Perú. Ministerio de Salud; 20200500. 4 p.    \n",
       "3  Lima; Perú. Ministerio de Salud; 20200500. 14 p.    \n",
       "4  Lima; Perú. Ministerio de Salud; 20200500. 25 p.    \n",
       "\n",
       "                                 Journal Database        Type Language  \\\n",
       "0  Rev. bras. crescimento desenvolv. hum   LILACS     article       en   \n",
       "1                               CorSalud   LILACS     article       es   \n",
       "2                                    NaN   LILACS  monography       es   \n",
       "3                                    NaN   LILACS  monography       es   \n",
       "4                                    NaN   LILACS  monography       es   \n",
       "\n",
       "  Publication year                                      Descriptor(s)  \\\n",
       "0             2020  Humans; Health Knowledge, Attitudes, Practice;...   \n",
       "1             2020  Humans; Long QT Syndrome/etiology; Coronavirus...   \n",
       "2             2020  Professional Staff Committees; Occupational He...   \n",
       "3             2020  National Strategies; Coronavirus Infections; M...   \n",
       "4             2020  Guidelines as Topic; Coronavirus Infections; C...   \n",
       "\n",
       "  Publication Country                                       Fulltext URL  \\\n",
       "0                  BR  http://revistas.marilia.unesp.br/index.php/jhg...   \n",
       "1                  CU  http://www.revcorsalud.sld.cu/index.php/cors/a...   \n",
       "2                  PE    http://fi-admin.bvsalud.org/document/view/cj7ej   \n",
       "3                  PE    http://fi-admin.bvsalud.org/document/view/mf38b   \n",
       "4                  PE    http://fi-admin.bvsalud.org/document/view/rymmc   \n",
       "\n",
       "                                            Abstract Entry Date Volume number  \\\n",
       "0  Backgroung: Coronaviruses (CoV) make up a larg...     202060            30   \n",
       "1                                                NaN     202060            12   \n",
       "2  El documento contiene la conformación del Grup...     202052           NaN   \n",
       "3  El documento contiene las directrices para ori...     202052           NaN   \n",
       "4  El documento contiene las disposiciones y medi...     202052           NaN   \n",
       "\n",
       "  Issue number DOI  \n",
       "0            1      \n",
       "1            1      \n",
       "2          NaN      \n",
       "3          NaN      \n",
       "4          NaN      "
      ]
     },
     "execution_count": 145,
     "metadata": {},
     "output_type": "execute_result"
    }
   ],
   "source": [
    "df_who.head()"
   ]
  },
  {
   "cell_type": "code",
   "execution_count": 146,
   "metadata": {},
   "outputs": [
    {
     "data": {
      "text/plain": [
       "Index(['ID', 'Title', 'Authors', 'Source', 'Journal', 'Database', 'Type',\n",
       "       'Language', 'Publication year', 'Descriptor(s)', 'Publication Country',\n",
       "       'Fulltext URL', ' Abstract', 'Entry Date', 'Volume number',\n",
       "       'Issue number', 'DOI'],\n",
       "      dtype='object')"
      ]
     },
     "execution_count": 146,
     "metadata": {},
     "output_type": "execute_result"
    }
   ],
   "source": [
    "df_who.columns"
   ]
  },
  {
   "cell_type": "code",
   "execution_count": 147,
   "metadata": {},
   "outputs": [],
   "source": [
    "df_who.drop(columns=[\"ID\",\"Authors\",\"Publication Country\",\"Fulltext URL\"], inplace=True)"
   ]
  },
  {
   "cell_type": "code",
   "execution_count": 156,
   "metadata": {},
   "outputs": [],
   "source": [
    "df_who.rename(columns={'Title':'title', 'DOI':'doi', ' Abstract': 'abstract', 'Source': 'WHO_source', 'Database': 'WHO_database', 'Type': 'WHO_type',\n",
    "        'Publication year':'publication_year', 'Language': 'WHO_language', 'Descriptor(s)': 'WHO_descriptors',\n",
    "       'Journal':'journal', 'Volume number':'volume', 'Issue number':'issue', 'Entry Date':'WHO_entry_date'}, inplace=True)"
   ]
  },
  {
   "cell_type": "code",
   "execution_count": 157,
   "metadata": {},
   "outputs": [],
   "source": [
    "# NEW\n",
    "# WHO_source\n",
    "# WHO_database\n",
    "# WHO_type\n",
    "# WHO_language\n",
    "# WHO_descriptors\n",
    "# WHO_entry_date"
   ]
  },
  {
   "cell_type": "code",
   "execution_count": 158,
   "metadata": {},
   "outputs": [],
   "source": [
    "df_who[\"pmid\"] = \"\"\n",
    "df_who[\"pmcid\"] = \"\"\n",
    "df_who[\"dimensions_id\"] = \"\"\n",
    "df_who[\"arxiv_id\"] = \"\"\n",
    "df_who[\"publication_month\"] = \"\"\n",
    "df_who[\"pages\"] = \"\"\n",
    "df_who = df_who.fillna('')"
   ]
  },
  {
   "cell_type": "code",
   "execution_count": 159,
   "metadata": {},
   "outputs": [
    {
     "data": {
      "text/html": [
       "<div>\n",
       "<style scoped>\n",
       "    .dataframe tbody tr th:only-of-type {\n",
       "        vertical-align: middle;\n",
       "    }\n",
       "\n",
       "    .dataframe tbody tr th {\n",
       "        vertical-align: top;\n",
       "    }\n",
       "\n",
       "    .dataframe thead th {\n",
       "        text-align: right;\n",
       "    }\n",
       "</style>\n",
       "<table border=\"1\" class=\"dataframe\">\n",
       "  <thead>\n",
       "    <tr style=\"text-align: right;\">\n",
       "      <th></th>\n",
       "      <th>title</th>\n",
       "      <th>WHO_source</th>\n",
       "      <th>journal</th>\n",
       "      <th>WHO_database</th>\n",
       "      <th>WHO_type</th>\n",
       "      <th>WHO_language</th>\n",
       "      <th>publication_year</th>\n",
       "      <th>WHO_descriptors</th>\n",
       "      <th>abstract</th>\n",
       "      <th>WHO_entry_date</th>\n",
       "      <th>volume</th>\n",
       "      <th>issue</th>\n",
       "      <th>doi</th>\n",
       "      <th>pmid</th>\n",
       "      <th>pmcid</th>\n",
       "      <th>dimensions_id</th>\n",
       "      <th>arxiv_id</th>\n",
       "      <th>publication_month</th>\n",
       "      <th>pages</th>\n",
       "    </tr>\n",
       "  </thead>\n",
       "  <tbody>\n",
       "    <tr>\n",
       "      <th>0</th>\n",
       "      <td>The dissemination of COVID-19: an expectant an...</td>\n",
       "      <td>Rev. bras. crescimento desenvolv. hum;30(1)2020.</td>\n",
       "      <td>Rev. bras. crescimento desenvolv. hum</td>\n",
       "      <td>LILACS</td>\n",
       "      <td>article</td>\n",
       "      <td>en</td>\n",
       "      <td>2020</td>\n",
       "      <td>Humans; Health Knowledge, Attitudes, Practice;...</td>\n",
       "      <td>Backgroung: Coronaviruses (CoV) make up a larg...</td>\n",
       "      <td>202060</td>\n",
       "      <td>30</td>\n",
       "      <td>1</td>\n",
       "      <td></td>\n",
       "      <td></td>\n",
       "      <td></td>\n",
       "      <td></td>\n",
       "      <td></td>\n",
       "      <td></td>\n",
       "      <td></td>\n",
       "    </tr>\n",
       "    <tr>\n",
       "      <th>1</th>\n",
       "      <td>Hidroxicloroquina y azitromicina: riesgo cardi...</td>\n",
       "      <td>CorSalud;12(1)ene.-mar. 2020.</td>\n",
       "      <td>CorSalud</td>\n",
       "      <td>LILACS</td>\n",
       "      <td>article</td>\n",
       "      <td>es</td>\n",
       "      <td>2020</td>\n",
       "      <td>Humans; Long QT Syndrome/etiology; Coronavirus...</td>\n",
       "      <td></td>\n",
       "      <td>202060</td>\n",
       "      <td>12</td>\n",
       "      <td>1</td>\n",
       "      <td></td>\n",
       "      <td></td>\n",
       "      <td></td>\n",
       "      <td></td>\n",
       "      <td></td>\n",
       "      <td></td>\n",
       "      <td></td>\n",
       "    </tr>\n",
       "    <tr>\n",
       "      <th>2</th>\n",
       "      <td>Grupo de Trabajo en material de salud en los c...</td>\n",
       "      <td>Lima; Perú. Ministerio de Salud; 20200500. 4 p.</td>\n",
       "      <td></td>\n",
       "      <td>LILACS</td>\n",
       "      <td>monography</td>\n",
       "      <td>es</td>\n",
       "      <td>2020</td>\n",
       "      <td>Professional Staff Committees; Occupational He...</td>\n",
       "      <td>El documento contiene la conformación del Grup...</td>\n",
       "      <td>202052</td>\n",
       "      <td></td>\n",
       "      <td></td>\n",
       "      <td></td>\n",
       "      <td></td>\n",
       "      <td></td>\n",
       "      <td></td>\n",
       "      <td></td>\n",
       "      <td></td>\n",
       "      <td></td>\n",
       "    </tr>\n",
       "    <tr>\n",
       "      <th>3</th>\n",
       "      <td>Lineamientos para el fortalecimiento de accion...</td>\n",
       "      <td>Lima; Perú. Ministerio de Salud; 20200500. 14 p.</td>\n",
       "      <td></td>\n",
       "      <td>LILACS</td>\n",
       "      <td>monography</td>\n",
       "      <td>es</td>\n",
       "      <td>2020</td>\n",
       "      <td>National Strategies; Coronavirus Infections; M...</td>\n",
       "      <td>El documento contiene las directrices para ori...</td>\n",
       "      <td>202052</td>\n",
       "      <td></td>\n",
       "      <td></td>\n",
       "      <td></td>\n",
       "      <td></td>\n",
       "      <td></td>\n",
       "      <td></td>\n",
       "      <td></td>\n",
       "      <td></td>\n",
       "      <td></td>\n",
       "    </tr>\n",
       "    <tr>\n",
       "      <th>4</th>\n",
       "      <td>Directiva sanitaria que establece las disposic...</td>\n",
       "      <td>Lima; Perú. Ministerio de Salud; 20200500. 25 p.</td>\n",
       "      <td></td>\n",
       "      <td>LILACS</td>\n",
       "      <td>monography</td>\n",
       "      <td>es</td>\n",
       "      <td>2020</td>\n",
       "      <td>Guidelines as Topic; Coronavirus Infections; C...</td>\n",
       "      <td>El documento contiene las disposiciones y medi...</td>\n",
       "      <td>202052</td>\n",
       "      <td></td>\n",
       "      <td></td>\n",
       "      <td></td>\n",
       "      <td></td>\n",
       "      <td></td>\n",
       "      <td></td>\n",
       "      <td></td>\n",
       "      <td></td>\n",
       "      <td></td>\n",
       "    </tr>\n",
       "  </tbody>\n",
       "</table>\n",
       "</div>"
      ],
      "text/plain": [
       "                                               title  \\\n",
       "0  The dissemination of COVID-19: an expectant an...   \n",
       "1  Hidroxicloroquina y azitromicina: riesgo cardi...   \n",
       "2  Grupo de Trabajo en material de salud en los c...   \n",
       "3  Lineamientos para el fortalecimiento de accion...   \n",
       "4  Directiva sanitaria que establece las disposic...   \n",
       "\n",
       "                                          WHO_source  \\\n",
       "0   Rev. bras. crescimento desenvolv. hum;30(1)2020.   \n",
       "1                      CorSalud;12(1)ene.-mar. 2020.   \n",
       "2   Lima; Perú. Ministerio de Salud; 20200500. 4 p.    \n",
       "3  Lima; Perú. Ministerio de Salud; 20200500. 14 p.    \n",
       "4  Lima; Perú. Ministerio de Salud; 20200500. 25 p.    \n",
       "\n",
       "                                 journal WHO_database    WHO_type  \\\n",
       "0  Rev. bras. crescimento desenvolv. hum       LILACS     article   \n",
       "1                               CorSalud       LILACS     article   \n",
       "2                                              LILACS  monography   \n",
       "3                                              LILACS  monography   \n",
       "4                                              LILACS  monography   \n",
       "\n",
       "  WHO_language publication_year  \\\n",
       "0           en             2020   \n",
       "1           es             2020   \n",
       "2           es             2020   \n",
       "3           es             2020   \n",
       "4           es             2020   \n",
       "\n",
       "                                     WHO_descriptors  \\\n",
       "0  Humans; Health Knowledge, Attitudes, Practice;...   \n",
       "1  Humans; Long QT Syndrome/etiology; Coronavirus...   \n",
       "2  Professional Staff Committees; Occupational He...   \n",
       "3  National Strategies; Coronavirus Infections; M...   \n",
       "4  Guidelines as Topic; Coronavirus Infections; C...   \n",
       "\n",
       "                                            abstract WHO_entry_date volume  \\\n",
       "0  Backgroung: Coronaviruses (CoV) make up a larg...         202060     30   \n",
       "1                                                            202060     12   \n",
       "2  El documento contiene la conformación del Grup...         202052          \n",
       "3  El documento contiene las directrices para ori...         202052          \n",
       "4  El documento contiene las disposiciones y medi...         202052          \n",
       "\n",
       "  issue doi pmid pmcid dimensions_id arxiv_id publication_month pages  \n",
       "0     1                                                                \n",
       "1     1                                                                \n",
       "2                                                                      \n",
       "3                                                                      \n",
       "4                                                                      "
      ]
     },
     "execution_count": 159,
     "metadata": {},
     "output_type": "execute_result"
    }
   ],
   "source": [
    "df_who.head()"
   ]
  },
  {
   "cell_type": "code",
   "execution_count": 160,
   "metadata": {},
   "outputs": [
    {
     "data": {
      "text/plain": [
       "                                       21352\n",
       "10.1097/01.Cot.0000660220.29383.61         4\n",
       "10.1016/j.anrea.2020.04.006                3\n",
       "10.4264/numa.79.1_47                       3\n",
       "10.1016/j.midw.2020.102668                 3\n",
       "                                       ...  \n",
       "10.1016/j.msard.2020.102249                1\n",
       "10.1016/j.jor.2020.06.001                  1\n",
       "10.1097/txd.0000000000001002               1\n",
       "10.4103/ijoem.IJOEM_49_20                  1\n",
       "10.1080/15563650.2020.1741981              1\n",
       "Name: doi, Length: 5116, dtype: int64"
      ]
     },
     "execution_count": 160,
     "metadata": {},
     "output_type": "execute_result"
    }
   ],
   "source": [
    "df_who.doi.value_counts()"
   ]
  },
  {
   "cell_type": "markdown",
   "metadata": {},
   "source": [
    "##### CORD19"
   ]
  },
  {
   "cell_type": "code",
   "execution_count": 161,
   "metadata": {},
   "outputs": [
    {
     "data": {
      "text/html": [
       "<div>\n",
       "<style scoped>\n",
       "    .dataframe tbody tr th:only-of-type {\n",
       "        vertical-align: middle;\n",
       "    }\n",
       "\n",
       "    .dataframe tbody tr th {\n",
       "        vertical-align: top;\n",
       "    }\n",
       "\n",
       "    .dataframe thead th {\n",
       "        text-align: right;\n",
       "    }\n",
       "</style>\n",
       "<table border=\"1\" class=\"dataframe\">\n",
       "  <thead>\n",
       "    <tr style=\"text-align: right;\">\n",
       "      <th></th>\n",
       "      <th>cord_uid</th>\n",
       "      <th>sha</th>\n",
       "      <th>source_x</th>\n",
       "      <th>title</th>\n",
       "      <th>doi</th>\n",
       "      <th>pmcid</th>\n",
       "      <th>pubmed_id</th>\n",
       "      <th>license</th>\n",
       "      <th>abstract</th>\n",
       "      <th>publish_time</th>\n",
       "      <th>authors</th>\n",
       "      <th>journal</th>\n",
       "      <th>mag_id</th>\n",
       "      <th>who_covidence_id</th>\n",
       "      <th>arxiv_id</th>\n",
       "      <th>pdf_json_files</th>\n",
       "      <th>pmc_json_files</th>\n",
       "      <th>url</th>\n",
       "      <th>s2_id</th>\n",
       "    </tr>\n",
       "  </thead>\n",
       "  <tbody>\n",
       "    <tr>\n",
       "      <th>0</th>\n",
       "      <td>ug7v899j</td>\n",
       "      <td>d1aafb70c066a2068b02786f8929fd9c900897fb</td>\n",
       "      <td>PMC</td>\n",
       "      <td>Clinical features of culture-proven Mycoplasma...</td>\n",
       "      <td>10.1186/1471-2334-1-6</td>\n",
       "      <td>PMC35282</td>\n",
       "      <td>11472636</td>\n",
       "      <td>no-cc</td>\n",
       "      <td>OBJECTIVE: This retrospective chart review des...</td>\n",
       "      <td>2001-07-04</td>\n",
       "      <td>Madani, Tariq A; Al-Ghamdi, Aisha A</td>\n",
       "      <td>BMC Infect Dis</td>\n",
       "      <td>NaN</td>\n",
       "      <td>NaN</td>\n",
       "      <td>NaN</td>\n",
       "      <td>document_parses/pdf_json/d1aafb70c066a2068b027...</td>\n",
       "      <td>document_parses/pmc_json/PMC35282.xml.json</td>\n",
       "      <td>https://www.ncbi.nlm.nih.gov/pmc/articles/PMC3...</td>\n",
       "      <td>NaN</td>\n",
       "    </tr>\n",
       "    <tr>\n",
       "      <th>1</th>\n",
       "      <td>02tnwd4m</td>\n",
       "      <td>6b0567729c2143a66d737eb0a2f63f2dce2e5a7d</td>\n",
       "      <td>PMC</td>\n",
       "      <td>Nitric oxide: a pro-inflammatory mediator in l...</td>\n",
       "      <td>10.1186/rr14</td>\n",
       "      <td>PMC59543</td>\n",
       "      <td>11667967</td>\n",
       "      <td>no-cc</td>\n",
       "      <td>Inflammatory diseases of the respiratory tract...</td>\n",
       "      <td>2000-08-15</td>\n",
       "      <td>Vliet, Albert van der; Eiserich, Jason P; Cros...</td>\n",
       "      <td>Respir Res</td>\n",
       "      <td>NaN</td>\n",
       "      <td>NaN</td>\n",
       "      <td>NaN</td>\n",
       "      <td>document_parses/pdf_json/6b0567729c2143a66d737...</td>\n",
       "      <td>document_parses/pmc_json/PMC59543.xml.json</td>\n",
       "      <td>https://www.ncbi.nlm.nih.gov/pmc/articles/PMC5...</td>\n",
       "      <td>NaN</td>\n",
       "    </tr>\n",
       "    <tr>\n",
       "      <th>2</th>\n",
       "      <td>ejv2xln0</td>\n",
       "      <td>06ced00a5fc04215949aa72528f2eeaae1d58927</td>\n",
       "      <td>PMC</td>\n",
       "      <td>Surfactant protein-D and pulmonary host defense</td>\n",
       "      <td>10.1186/rr19</td>\n",
       "      <td>PMC59549</td>\n",
       "      <td>11667972</td>\n",
       "      <td>no-cc</td>\n",
       "      <td>Surfactant protein-D (SP-D) participates in th...</td>\n",
       "      <td>2000-08-25</td>\n",
       "      <td>Crouch, Erika C</td>\n",
       "      <td>Respir Res</td>\n",
       "      <td>NaN</td>\n",
       "      <td>NaN</td>\n",
       "      <td>NaN</td>\n",
       "      <td>document_parses/pdf_json/06ced00a5fc04215949aa...</td>\n",
       "      <td>document_parses/pmc_json/PMC59549.xml.json</td>\n",
       "      <td>https://www.ncbi.nlm.nih.gov/pmc/articles/PMC5...</td>\n",
       "      <td>NaN</td>\n",
       "    </tr>\n",
       "    <tr>\n",
       "      <th>3</th>\n",
       "      <td>2b73a28n</td>\n",
       "      <td>348055649b6b8cf2b9a376498df9bf41f7123605</td>\n",
       "      <td>PMC</td>\n",
       "      <td>Role of endothelin-1 in lung disease</td>\n",
       "      <td>10.1186/rr44</td>\n",
       "      <td>PMC59574</td>\n",
       "      <td>11686871</td>\n",
       "      <td>no-cc</td>\n",
       "      <td>Endothelin-1 (ET-1) is a 21 amino acid peptide...</td>\n",
       "      <td>2001-02-22</td>\n",
       "      <td>Fagan, Karen A; McMurtry, Ivan F; Rodman, David M</td>\n",
       "      <td>Respir Res</td>\n",
       "      <td>NaN</td>\n",
       "      <td>NaN</td>\n",
       "      <td>NaN</td>\n",
       "      <td>document_parses/pdf_json/348055649b6b8cf2b9a37...</td>\n",
       "      <td>document_parses/pmc_json/PMC59574.xml.json</td>\n",
       "      <td>https://www.ncbi.nlm.nih.gov/pmc/articles/PMC5...</td>\n",
       "      <td>NaN</td>\n",
       "    </tr>\n",
       "    <tr>\n",
       "      <th>4</th>\n",
       "      <td>9785vg6d</td>\n",
       "      <td>5f48792a5fa08bed9f56016f4981ae2ca6031b32</td>\n",
       "      <td>PMC</td>\n",
       "      <td>Gene expression in epithelial cells in respons...</td>\n",
       "      <td>10.1186/rr61</td>\n",
       "      <td>PMC59580</td>\n",
       "      <td>11686888</td>\n",
       "      <td>no-cc</td>\n",
       "      <td>Respiratory syncytial virus (RSV) and pneumoni...</td>\n",
       "      <td>2001-05-11</td>\n",
       "      <td>Domachowske, Joseph B; Bonville, Cynthia A; Ro...</td>\n",
       "      <td>Respir Res</td>\n",
       "      <td>NaN</td>\n",
       "      <td>NaN</td>\n",
       "      <td>NaN</td>\n",
       "      <td>document_parses/pdf_json/5f48792a5fa08bed9f560...</td>\n",
       "      <td>document_parses/pmc_json/PMC59580.xml.json</td>\n",
       "      <td>https://www.ncbi.nlm.nih.gov/pmc/articles/PMC5...</td>\n",
       "      <td>NaN</td>\n",
       "    </tr>\n",
       "  </tbody>\n",
       "</table>\n",
       "</div>"
      ],
      "text/plain": [
       "   cord_uid                                       sha source_x  \\\n",
       "0  ug7v899j  d1aafb70c066a2068b02786f8929fd9c900897fb      PMC   \n",
       "1  02tnwd4m  6b0567729c2143a66d737eb0a2f63f2dce2e5a7d      PMC   \n",
       "2  ejv2xln0  06ced00a5fc04215949aa72528f2eeaae1d58927      PMC   \n",
       "3  2b73a28n  348055649b6b8cf2b9a376498df9bf41f7123605      PMC   \n",
       "4  9785vg6d  5f48792a5fa08bed9f56016f4981ae2ca6031b32      PMC   \n",
       "\n",
       "                                               title                    doi  \\\n",
       "0  Clinical features of culture-proven Mycoplasma...  10.1186/1471-2334-1-6   \n",
       "1  Nitric oxide: a pro-inflammatory mediator in l...           10.1186/rr14   \n",
       "2    Surfactant protein-D and pulmonary host defense           10.1186/rr19   \n",
       "3               Role of endothelin-1 in lung disease           10.1186/rr44   \n",
       "4  Gene expression in epithelial cells in respons...           10.1186/rr61   \n",
       "\n",
       "      pmcid pubmed_id license  \\\n",
       "0  PMC35282  11472636   no-cc   \n",
       "1  PMC59543  11667967   no-cc   \n",
       "2  PMC59549  11667972   no-cc   \n",
       "3  PMC59574  11686871   no-cc   \n",
       "4  PMC59580  11686888   no-cc   \n",
       "\n",
       "                                            abstract publish_time  \\\n",
       "0  OBJECTIVE: This retrospective chart review des...   2001-07-04   \n",
       "1  Inflammatory diseases of the respiratory tract...   2000-08-15   \n",
       "2  Surfactant protein-D (SP-D) participates in th...   2000-08-25   \n",
       "3  Endothelin-1 (ET-1) is a 21 amino acid peptide...   2001-02-22   \n",
       "4  Respiratory syncytial virus (RSV) and pneumoni...   2001-05-11   \n",
       "\n",
       "                                             authors         journal mag_id  \\\n",
       "0                Madani, Tariq A; Al-Ghamdi, Aisha A  BMC Infect Dis    NaN   \n",
       "1  Vliet, Albert van der; Eiserich, Jason P; Cros...      Respir Res    NaN   \n",
       "2                                    Crouch, Erika C      Respir Res    NaN   \n",
       "3  Fagan, Karen A; McMurtry, Ivan F; Rodman, David M      Respir Res    NaN   \n",
       "4  Domachowske, Joseph B; Bonville, Cynthia A; Ro...      Respir Res    NaN   \n",
       "\n",
       "  who_covidence_id arxiv_id  \\\n",
       "0              NaN      NaN   \n",
       "1              NaN      NaN   \n",
       "2              NaN      NaN   \n",
       "3              NaN      NaN   \n",
       "4              NaN      NaN   \n",
       "\n",
       "                                      pdf_json_files  \\\n",
       "0  document_parses/pdf_json/d1aafb70c066a2068b027...   \n",
       "1  document_parses/pdf_json/6b0567729c2143a66d737...   \n",
       "2  document_parses/pdf_json/06ced00a5fc04215949aa...   \n",
       "3  document_parses/pdf_json/348055649b6b8cf2b9a37...   \n",
       "4  document_parses/pdf_json/5f48792a5fa08bed9f560...   \n",
       "\n",
       "                               pmc_json_files  \\\n",
       "0  document_parses/pmc_json/PMC35282.xml.json   \n",
       "1  document_parses/pmc_json/PMC59543.xml.json   \n",
       "2  document_parses/pmc_json/PMC59549.xml.json   \n",
       "3  document_parses/pmc_json/PMC59574.xml.json   \n",
       "4  document_parses/pmc_json/PMC59580.xml.json   \n",
       "\n",
       "                                                 url s2_id  \n",
       "0  https://www.ncbi.nlm.nih.gov/pmc/articles/PMC3...   NaN  \n",
       "1  https://www.ncbi.nlm.nih.gov/pmc/articles/PMC5...   NaN  \n",
       "2  https://www.ncbi.nlm.nih.gov/pmc/articles/PMC5...   NaN  \n",
       "3  https://www.ncbi.nlm.nih.gov/pmc/articles/PMC5...   NaN  \n",
       "4  https://www.ncbi.nlm.nih.gov/pmc/articles/PMC5...   NaN  "
      ]
     },
     "execution_count": 161,
     "metadata": {},
     "output_type": "execute_result"
    }
   ],
   "source": [
    "df_cord.head()"
   ]
  },
  {
   "cell_type": "code",
   "execution_count": 162,
   "metadata": {},
   "outputs": [
    {
     "data": {
      "text/plain": [
       "unk            60414\n",
       "no-cc          37231\n",
       "cc-by          12920\n",
       "els-covid      12895\n",
       "medrxiv         3903\n",
       "cc-by-nc        1676\n",
       "arxiv           1565\n",
       "biorxiv         1063\n",
       "cc-by-nc-nd     1026\n",
       "green-oa         859\n",
       "cc-by-nc-sa      588\n",
       "bronze-oa        566\n",
       "cc0              281\n",
       "hybrid-oa        115\n",
       "gold-oa           38\n",
       "cc-by-nd           7\n",
       "cc-by-sa           2\n",
       "Name: license, dtype: int64"
      ]
     },
     "execution_count": 162,
     "metadata": {},
     "output_type": "execute_result"
    }
   ],
   "source": [
    "df_cord[\"license\"].value_counts()"
   ]
  },
  {
   "cell_type": "code",
   "execution_count": 163,
   "metadata": {},
   "outputs": [
    {
     "data": {
      "text/plain": [
       "Medline                               43392\n",
       "PMC                                   23898\n",
       "Medline; PMC                          19691\n",
       "Elsevier; Medline; PMC                13640\n",
       "WHO                                   13188\n",
       "Elsevier; Medline; PMC; WHO            3733\n",
       "Medline; WHO                           3707\n",
       "MedRxiv                                3665\n",
       "Elsevier; PMC                          2586\n",
       "Medline; PMC; WHO                      2569\n",
       "ArXiv                                  1541\n",
       "Elsevier; PMC; WHO                     1237\n",
       "BioRxiv                                 961\n",
       "PMC; WHO                                507\n",
       "BioRxiv; MedRxiv                        338\n",
       "Elsevier                                143\n",
       "Elsevier; Medline                       103\n",
       "Elsevier; WHO                            87\n",
       "Elsevier; Medline; WHO                   86\n",
       "ArXiv; Medline; PMC                      24\n",
       "ArXiv; Medline                           16\n",
       "ArXiv; Elsevier; Medline; PMC            13\n",
       "ArXiv; Elsevier; Medline; PMC; WHO        7\n",
       "ArXiv; Medline; PMC; WHO                  3\n",
       "ArXiv; Elsevier; PMC                      2\n",
       "ArXiv; PMC; WHO                           2\n",
       "ArXiv; PMC                                2\n",
       "MedRxiv; WHO                              2\n",
       "ArXiv; Elsevier; PMC; WHO                 2\n",
       "ArXiv; Elsevier                           1\n",
       "ArXiv; Medline; WHO                       1\n",
       "ArXiv; MedRxiv                            1\n",
       "ArXiv; WHO                                1\n",
       "Name: source_x, dtype: int64"
      ]
     },
     "execution_count": 163,
     "metadata": {},
     "output_type": "execute_result"
    }
   ],
   "source": [
    "df_cord[\"source_x\"].value_counts()"
   ]
  },
  {
   "cell_type": "code",
   "execution_count": 164,
   "metadata": {},
   "outputs": [
    {
     "data": {
      "text/plain": [
       "(65075, 19)"
      ]
     },
     "execution_count": 164,
     "metadata": {},
     "output_type": "execute_result"
    }
   ],
   "source": [
    "# how many full text files\n",
    "df_cord[(pd.notnull(df_cord.pdf_json_files))|(pd.notnull(df_cord.pmc_json_files))].shape"
   ]
  },
  {
   "cell_type": "code",
   "execution_count": 165,
   "metadata": {},
   "outputs": [
    {
     "data": {
      "text/plain": [
       "0.4815055975256939"
      ]
     },
     "execution_count": 165,
     "metadata": {},
     "output_type": "execute_result"
    }
   ],
   "source": [
    "df_cord[(pd.notnull(df_cord.pdf_json_files))|(pd.notnull(df_cord.pmc_json_files))].shape[0]/df_cord.shape[0]"
   ]
  },
  {
   "cell_type": "code",
   "execution_count": 166,
   "metadata": {},
   "outputs": [
    {
     "data": {
      "text/plain": [
       "0.0"
      ]
     },
     "execution_count": 166,
     "metadata": {},
     "output_type": "execute_result"
    }
   ],
   "source": [
    "# check Medline\n",
    "df_cord[(df_cord.source_x==\"Medline\")&((pd.notnull(df_cord.pdf_json_files))|(pd.notnull(df_cord.pmc_json_files)))].shape[0]/df_cord[(df_cord.source_x==\"Medline\")].shape[0]"
   ]
  },
  {
   "cell_type": "code",
   "execution_count": 167,
   "metadata": {},
   "outputs": [
    {
     "data": {
      "text/plain": [
       "43392"
      ]
     },
     "execution_count": 167,
     "metadata": {},
     "output_type": "execute_result"
    }
   ],
   "source": [
    "df_cord[(df_cord.source_x==\"Medline\")].shape[0]"
   ]
  },
  {
   "cell_type": "code",
   "execution_count": 168,
   "metadata": {},
   "outputs": [
    {
     "data": {
      "text/plain": [
       "0.70921019649727"
      ]
     },
     "execution_count": 168,
     "metadata": {},
     "output_type": "execute_result"
    }
   ],
   "source": [
    "# check NOT Medline\n",
    "df_cord[(df_cord.source_x!=\"Medline\")&((pd.notnull(df_cord.pdf_json_files))|(pd.notnull(df_cord.pmc_json_files)))].shape[0]/df_cord[(df_cord.source_x!=\"Medline\")].shape[0]"
   ]
  },
  {
   "cell_type": "code",
   "execution_count": 169,
   "metadata": {},
   "outputs": [
    {
     "data": {
      "text/plain": [
       "91757"
      ]
     },
     "execution_count": 169,
     "metadata": {},
     "output_type": "execute_result"
    }
   ],
   "source": [
    "df_cord[(df_cord.source_x!=\"Medline\")].shape[0]"
   ]
  },
  {
   "cell_type": "code",
   "execution_count": 170,
   "metadata": {},
   "outputs": [],
   "source": [
    "# NEW columns (for now, we drop)\n",
    "df_cord.drop(columns=[\"cord_uid\",\"url\",\"pdf_json_files\",\"pmc_json_files\",\"s2_id\"],inplace=True)"
   ]
  },
  {
   "cell_type": "code",
   "execution_count": 171,
   "metadata": {},
   "outputs": [
    {
     "data": {
      "text/plain": [
       "Index(['sha', 'source_x', 'title', 'doi', 'pmcid', 'pubmed_id', 'license',\n",
       "       'abstract', 'publish_time', 'authors', 'journal', 'mag_id',\n",
       "       'who_covidence_id', 'arxiv_id'],\n",
       "      dtype='object')"
      ]
     },
     "execution_count": 171,
     "metadata": {},
     "output_type": "execute_result"
    }
   ],
   "source": [
    "df_cord.columns"
   ]
  },
  {
   "cell_type": "code",
   "execution_count": 172,
   "metadata": {},
   "outputs": [],
   "source": [
    "df_cord.drop(columns='authors', inplace=True)\n",
    "df_cord = df_cord.fillna('')"
   ]
  },
  {
   "cell_type": "code",
   "execution_count": 173,
   "metadata": {},
   "outputs": [],
   "source": [
    "df_cord.rename(columns={'source_x':'source', 'pubmed_id': 'pmid',\n",
    "       'mag_id': 'ms_academic_id', 'who_covidence_id': 'who_covidence'}, inplace=True)"
   ]
  },
  {
   "cell_type": "code",
   "execution_count": 174,
   "metadata": {},
   "outputs": [],
   "source": [
    "df_cord[\"publication_year\"] = df_cord[\"publish_time\"].apply(get_year)\n",
    "df_cord[\"publication_month\"] = df_cord[\"publish_time\"].apply(get_month)"
   ]
  },
  {
   "cell_type": "code",
   "execution_count": 175,
   "metadata": {},
   "outputs": [],
   "source": [
    "df_cord.drop(columns='publish_time', inplace=True)"
   ]
  },
  {
   "cell_type": "code",
   "execution_count": 176,
   "metadata": {},
   "outputs": [],
   "source": [
    "df_cord['pages'] = \"\"\n",
    "df_cord['volume'] = \"\"\n",
    "df_cord['issue'] = \"\"\n",
    "df_cord[\"dimensions_id\"] = \"\""
   ]
  },
  {
   "cell_type": "code",
   "execution_count": 177,
   "metadata": {},
   "outputs": [
    {
     "data": {
      "text/html": [
       "<div>\n",
       "<style scoped>\n",
       "    .dataframe tbody tr th:only-of-type {\n",
       "        vertical-align: middle;\n",
       "    }\n",
       "\n",
       "    .dataframe tbody tr th {\n",
       "        vertical-align: top;\n",
       "    }\n",
       "\n",
       "    .dataframe thead th {\n",
       "        text-align: right;\n",
       "    }\n",
       "</style>\n",
       "<table border=\"1\" class=\"dataframe\">\n",
       "  <thead>\n",
       "    <tr style=\"text-align: right;\">\n",
       "      <th></th>\n",
       "      <th>sha</th>\n",
       "      <th>source</th>\n",
       "      <th>title</th>\n",
       "      <th>doi</th>\n",
       "      <th>pmcid</th>\n",
       "      <th>pmid</th>\n",
       "      <th>license</th>\n",
       "      <th>abstract</th>\n",
       "      <th>journal</th>\n",
       "      <th>ms_academic_id</th>\n",
       "      <th>who_covidence</th>\n",
       "      <th>arxiv_id</th>\n",
       "      <th>publication_year</th>\n",
       "      <th>publication_month</th>\n",
       "      <th>pages</th>\n",
       "      <th>volume</th>\n",
       "      <th>issue</th>\n",
       "      <th>dimensions_id</th>\n",
       "    </tr>\n",
       "  </thead>\n",
       "  <tbody>\n",
       "    <tr>\n",
       "      <th>0</th>\n",
       "      <td>d1aafb70c066a2068b02786f8929fd9c900897fb</td>\n",
       "      <td>PMC</td>\n",
       "      <td>Clinical features of culture-proven Mycoplasma...</td>\n",
       "      <td>10.1186/1471-2334-1-6</td>\n",
       "      <td>PMC35282</td>\n",
       "      <td>11472636</td>\n",
       "      <td>no-cc</td>\n",
       "      <td>OBJECTIVE: This retrospective chart review des...</td>\n",
       "      <td>BMC Infect Dis</td>\n",
       "      <td></td>\n",
       "      <td></td>\n",
       "      <td></td>\n",
       "      <td>2001</td>\n",
       "      <td>7</td>\n",
       "      <td></td>\n",
       "      <td></td>\n",
       "      <td></td>\n",
       "      <td></td>\n",
       "    </tr>\n",
       "    <tr>\n",
       "      <th>1</th>\n",
       "      <td>6b0567729c2143a66d737eb0a2f63f2dce2e5a7d</td>\n",
       "      <td>PMC</td>\n",
       "      <td>Nitric oxide: a pro-inflammatory mediator in l...</td>\n",
       "      <td>10.1186/rr14</td>\n",
       "      <td>PMC59543</td>\n",
       "      <td>11667967</td>\n",
       "      <td>no-cc</td>\n",
       "      <td>Inflammatory diseases of the respiratory tract...</td>\n",
       "      <td>Respir Res</td>\n",
       "      <td></td>\n",
       "      <td></td>\n",
       "      <td></td>\n",
       "      <td>2000</td>\n",
       "      <td>8</td>\n",
       "      <td></td>\n",
       "      <td></td>\n",
       "      <td></td>\n",
       "      <td></td>\n",
       "    </tr>\n",
       "    <tr>\n",
       "      <th>2</th>\n",
       "      <td>06ced00a5fc04215949aa72528f2eeaae1d58927</td>\n",
       "      <td>PMC</td>\n",
       "      <td>Surfactant protein-D and pulmonary host defense</td>\n",
       "      <td>10.1186/rr19</td>\n",
       "      <td>PMC59549</td>\n",
       "      <td>11667972</td>\n",
       "      <td>no-cc</td>\n",
       "      <td>Surfactant protein-D (SP-D) participates in th...</td>\n",
       "      <td>Respir Res</td>\n",
       "      <td></td>\n",
       "      <td></td>\n",
       "      <td></td>\n",
       "      <td>2000</td>\n",
       "      <td>8</td>\n",
       "      <td></td>\n",
       "      <td></td>\n",
       "      <td></td>\n",
       "      <td></td>\n",
       "    </tr>\n",
       "    <tr>\n",
       "      <th>3</th>\n",
       "      <td>348055649b6b8cf2b9a376498df9bf41f7123605</td>\n",
       "      <td>PMC</td>\n",
       "      <td>Role of endothelin-1 in lung disease</td>\n",
       "      <td>10.1186/rr44</td>\n",
       "      <td>PMC59574</td>\n",
       "      <td>11686871</td>\n",
       "      <td>no-cc</td>\n",
       "      <td>Endothelin-1 (ET-1) is a 21 amino acid peptide...</td>\n",
       "      <td>Respir Res</td>\n",
       "      <td></td>\n",
       "      <td></td>\n",
       "      <td></td>\n",
       "      <td>2001</td>\n",
       "      <td>2</td>\n",
       "      <td></td>\n",
       "      <td></td>\n",
       "      <td></td>\n",
       "      <td></td>\n",
       "    </tr>\n",
       "    <tr>\n",
       "      <th>4</th>\n",
       "      <td>5f48792a5fa08bed9f56016f4981ae2ca6031b32</td>\n",
       "      <td>PMC</td>\n",
       "      <td>Gene expression in epithelial cells in respons...</td>\n",
       "      <td>10.1186/rr61</td>\n",
       "      <td>PMC59580</td>\n",
       "      <td>11686888</td>\n",
       "      <td>no-cc</td>\n",
       "      <td>Respiratory syncytial virus (RSV) and pneumoni...</td>\n",
       "      <td>Respir Res</td>\n",
       "      <td></td>\n",
       "      <td></td>\n",
       "      <td></td>\n",
       "      <td>2001</td>\n",
       "      <td>5</td>\n",
       "      <td></td>\n",
       "      <td></td>\n",
       "      <td></td>\n",
       "      <td></td>\n",
       "    </tr>\n",
       "  </tbody>\n",
       "</table>\n",
       "</div>"
      ],
      "text/plain": [
       "                                        sha source  \\\n",
       "0  d1aafb70c066a2068b02786f8929fd9c900897fb    PMC   \n",
       "1  6b0567729c2143a66d737eb0a2f63f2dce2e5a7d    PMC   \n",
       "2  06ced00a5fc04215949aa72528f2eeaae1d58927    PMC   \n",
       "3  348055649b6b8cf2b9a376498df9bf41f7123605    PMC   \n",
       "4  5f48792a5fa08bed9f56016f4981ae2ca6031b32    PMC   \n",
       "\n",
       "                                               title                    doi  \\\n",
       "0  Clinical features of culture-proven Mycoplasma...  10.1186/1471-2334-1-6   \n",
       "1  Nitric oxide: a pro-inflammatory mediator in l...           10.1186/rr14   \n",
       "2    Surfactant protein-D and pulmonary host defense           10.1186/rr19   \n",
       "3               Role of endothelin-1 in lung disease           10.1186/rr44   \n",
       "4  Gene expression in epithelial cells in respons...           10.1186/rr61   \n",
       "\n",
       "      pmcid      pmid license  \\\n",
       "0  PMC35282  11472636   no-cc   \n",
       "1  PMC59543  11667967   no-cc   \n",
       "2  PMC59549  11667972   no-cc   \n",
       "3  PMC59574  11686871   no-cc   \n",
       "4  PMC59580  11686888   no-cc   \n",
       "\n",
       "                                            abstract         journal  \\\n",
       "0  OBJECTIVE: This retrospective chart review des...  BMC Infect Dis   \n",
       "1  Inflammatory diseases of the respiratory tract...      Respir Res   \n",
       "2  Surfactant protein-D (SP-D) participates in th...      Respir Res   \n",
       "3  Endothelin-1 (ET-1) is a 21 amino acid peptide...      Respir Res   \n",
       "4  Respiratory syncytial virus (RSV) and pneumoni...      Respir Res   \n",
       "\n",
       "  ms_academic_id who_covidence arxiv_id publication_year publication_month  \\\n",
       "0                                                   2001                 7   \n",
       "1                                                   2000                 8   \n",
       "2                                                   2000                 8   \n",
       "3                                                   2001                 2   \n",
       "4                                                   2001                 5   \n",
       "\n",
       "  pages volume issue dimensions_id  \n",
       "0                                   \n",
       "1                                   \n",
       "2                                   \n",
       "3                                   \n",
       "4                                   "
      ]
     },
     "execution_count": 177,
     "metadata": {},
     "output_type": "execute_result"
    }
   ],
   "source": [
    "df_cord.head()"
   ]
  },
  {
   "cell_type": "code",
   "execution_count": 178,
   "metadata": {},
   "outputs": [
    {
     "data": {
      "text/plain": [
       "(24046, 18)"
      ]
     },
     "execution_count": 178,
     "metadata": {},
     "output_type": "execute_result"
    }
   ],
   "source": [
    "df_cord[(df_cord.doi==\"\") & ((df_cord.sha!=\"\") | (df_cord.pmid!=\"\") | (df_cord.pmcid!=\"\") | df_cord.arxiv_id!=\"\")].shape"
   ]
  },
  {
   "cell_type": "code",
   "execution_count": 179,
   "metadata": {},
   "outputs": [
    {
     "data": {
      "text/plain": [
       "(13331, 18)"
      ]
     },
     "execution_count": 179,
     "metadata": {},
     "output_type": "execute_result"
    }
   ],
   "source": [
    "df_cord[(df_cord.doi==\"\") & (df_cord.pmid==\"\") & (df_cord.pmcid==\"\")].shape"
   ]
  },
  {
   "cell_type": "code",
   "execution_count": 180,
   "metadata": {},
   "outputs": [
    {
     "data": {
      "text/plain": [
       "(1471, 18)"
      ]
     },
     "execution_count": 180,
     "metadata": {},
     "output_type": "execute_result"
    }
   ],
   "source": [
    "df_cord[((df_cord.doi==\"\") & (df_cord.pmid==\"\") & (df_cord.pmcid==\"\"))&(df_cord.arxiv_id!=\"\")].shape"
   ]
  },
  {
   "cell_type": "code",
   "execution_count": 181,
   "metadata": {},
   "outputs": [
    {
     "data": {
      "text/plain": [
       "(36835, 18)"
      ]
     },
     "execution_count": 181,
     "metadata": {},
     "output_type": "execute_result"
    }
   ],
   "source": [
    "df_dimensions.shape"
   ]
  },
  {
   "cell_type": "code",
   "execution_count": 182,
   "metadata": {},
   "outputs": [
    {
     "data": {
      "text/plain": [
       "(26573, 19)"
      ]
     },
     "execution_count": 182,
     "metadata": {},
     "output_type": "execute_result"
    }
   ],
   "source": [
    "df_who.shape"
   ]
  },
  {
   "cell_type": "code",
   "execution_count": 183,
   "metadata": {},
   "outputs": [
    {
     "data": {
      "text/plain": [
       "(135149, 18)"
      ]
     },
     "execution_count": 183,
     "metadata": {},
     "output_type": "execute_result"
    }
   ],
   "source": [
    "df_cord.shape"
   ]
  },
  {
   "cell_type": "code",
   "execution_count": 184,
   "metadata": {},
   "outputs": [
    {
     "data": {
      "text/plain": [
       "(965, 18)"
      ]
     },
     "execution_count": 184,
     "metadata": {},
     "output_type": "execute_result"
    }
   ],
   "source": [
    "df_dimensions[((df_dimensions.doi==\"\") & (df_dimensions.pmid==\"\") & (df_dimensions.pmcid==\"\"))&(df_dimensions.journal==\"arXiv\")].shape"
   ]
  },
  {
   "cell_type": "code",
   "execution_count": 185,
   "metadata": {},
   "outputs": [
    {
     "data": {
      "text/plain": [
       "(965, 18)"
      ]
     },
     "execution_count": 185,
     "metadata": {},
     "output_type": "execute_result"
    }
   ],
   "source": [
    "df_dimensions[df_dimensions.journal==\"arXiv\"].shape"
   ]
  },
  {
   "cell_type": "code",
   "execution_count": 186,
   "metadata": {},
   "outputs": [
    {
     "data": {
      "text/plain": [
       "(1616, 18)"
      ]
     },
     "execution_count": 186,
     "metadata": {},
     "output_type": "execute_result"
    }
   ],
   "source": [
    "df_cord[df_cord.arxiv_id!=\"\"].shape"
   ]
  },
  {
   "cell_type": "code",
   "execution_count": 187,
   "metadata": {},
   "outputs": [
    {
     "data": {
      "text/html": [
       "<div>\n",
       "<style scoped>\n",
       "    .dataframe tbody tr th:only-of-type {\n",
       "        vertical-align: middle;\n",
       "    }\n",
       "\n",
       "    .dataframe tbody tr th {\n",
       "        vertical-align: top;\n",
       "    }\n",
       "\n",
       "    .dataframe thead th {\n",
       "        text-align: right;\n",
       "    }\n",
       "</style>\n",
       "<table border=\"1\" class=\"dataframe\">\n",
       "  <thead>\n",
       "    <tr style=\"text-align: right;\">\n",
       "      <th></th>\n",
       "      <th>sha</th>\n",
       "      <th>source</th>\n",
       "      <th>title</th>\n",
       "      <th>doi</th>\n",
       "      <th>pmcid</th>\n",
       "      <th>pmid</th>\n",
       "      <th>license</th>\n",
       "      <th>abstract</th>\n",
       "      <th>journal</th>\n",
       "      <th>ms_academic_id</th>\n",
       "      <th>who_covidence</th>\n",
       "      <th>arxiv_id</th>\n",
       "      <th>publication_year</th>\n",
       "      <th>publication_month</th>\n",
       "      <th>pages</th>\n",
       "      <th>volume</th>\n",
       "      <th>issue</th>\n",
       "      <th>dimensions_id</th>\n",
       "    </tr>\n",
       "  </thead>\n",
       "  <tbody>\n",
       "    <tr>\n",
       "      <th>77323</th>\n",
       "      <td>bc411487f305e451d7485e53202ec241fcc97d3b</td>\n",
       "      <td>ArXiv</td>\n",
       "      <td>CORD-19: The Covid-19 Open Research Dataset</td>\n",
       "      <td></td>\n",
       "      <td></td>\n",
       "      <td></td>\n",
       "      <td>arxiv</td>\n",
       "      <td>The Covid-19 Open Research Dataset (CORD-19) i...</td>\n",
       "      <td></td>\n",
       "      <td></td>\n",
       "      <td></td>\n",
       "      <td>2004.10706</td>\n",
       "      <td>2020</td>\n",
       "      <td>4</td>\n",
       "      <td></td>\n",
       "      <td></td>\n",
       "      <td></td>\n",
       "      <td></td>\n",
       "    </tr>\n",
       "  </tbody>\n",
       "</table>\n",
       "</div>"
      ],
      "text/plain": [
       "                                            sha source  \\\n",
       "77323  bc411487f305e451d7485e53202ec241fcc97d3b  ArXiv   \n",
       "\n",
       "                                             title doi pmcid pmid license  \\\n",
       "77323  CORD-19: The Covid-19 Open Research Dataset                  arxiv   \n",
       "\n",
       "                                                abstract journal  \\\n",
       "77323  The Covid-19 Open Research Dataset (CORD-19) i...           \n",
       "\n",
       "      ms_academic_id who_covidence    arxiv_id publication_year  \\\n",
       "77323                               2004.10706             2020   \n",
       "\n",
       "      publication_month pages volume issue dimensions_id  \n",
       "77323                 4                                   "
      ]
     },
     "execution_count": 187,
     "metadata": {},
     "output_type": "execute_result"
    }
   ],
   "source": [
    "df_cord[df_cord.title==\"CORD-19: The Covid-19 Open Research Dataset\"]"
   ]
  },
  {
   "cell_type": "code",
   "execution_count": 188,
   "metadata": {},
   "outputs": [
    {
     "data": {
      "text/html": [
       "<div>\n",
       "<style scoped>\n",
       "    .dataframe tbody tr th:only-of-type {\n",
       "        vertical-align: middle;\n",
       "    }\n",
       "\n",
       "    .dataframe tbody tr th {\n",
       "        vertical-align: top;\n",
       "    }\n",
       "\n",
       "    .dataframe thead th {\n",
       "        text-align: right;\n",
       "    }\n",
       "</style>\n",
       "<table border=\"1\" class=\"dataframe\">\n",
       "  <thead>\n",
       "    <tr style=\"text-align: right;\">\n",
       "      <th></th>\n",
       "      <th>dimensions_id</th>\n",
       "      <th>doi</th>\n",
       "      <th>pmid</th>\n",
       "      <th>pmcid</th>\n",
       "      <th>title</th>\n",
       "      <th>abstract</th>\n",
       "      <th>journal</th>\n",
       "      <th>source_uid</th>\n",
       "      <th>mesh_terms</th>\n",
       "      <th>publication_year</th>\n",
       "      <th>volume</th>\n",
       "      <th>issue</th>\n",
       "      <th>pages</th>\n",
       "      <th>open_access</th>\n",
       "      <th>publication_type</th>\n",
       "      <th>dimensions_url</th>\n",
       "      <th>publication_month</th>\n",
       "      <th>arxiv_id</th>\n",
       "    </tr>\n",
       "  </thead>\n",
       "  <tbody>\n",
       "    <tr>\n",
       "      <th>17408</th>\n",
       "      <td>pub.1126924428</td>\n",
       "      <td></td>\n",
       "      <td></td>\n",
       "      <td></td>\n",
       "      <td>CORD-19: The Covid-19 Open Research Dataset</td>\n",
       "      <td></td>\n",
       "      <td>arXiv</td>\n",
       "      <td>jour.1371339</td>\n",
       "      <td></td>\n",
       "      <td>2020</td>\n",
       "      <td></td>\n",
       "      <td></td>\n",
       "      <td></td>\n",
       "      <td>All OA; Green, Submitted</td>\n",
       "      <td>preprint</td>\n",
       "      <td>https://app.dimensions.ai/details/publication/...</td>\n",
       "      <td>4</td>\n",
       "      <td>2004.10706</td>\n",
       "    </tr>\n",
       "  </tbody>\n",
       "</table>\n",
       "</div>"
      ],
      "text/plain": [
       "        dimensions_id doi pmid pmcid  \\\n",
       "17408  pub.1126924428                  \n",
       "\n",
       "                                             title abstract journal  \\\n",
       "17408  CORD-19: The Covid-19 Open Research Dataset            arXiv   \n",
       "\n",
       "         source_uid mesh_terms publication_year volume issue pages  \\\n",
       "17408  jour.1371339                        2020                      \n",
       "\n",
       "                    open_access publication_type  \\\n",
       "17408  All OA; Green, Submitted         preprint   \n",
       "\n",
       "                                          dimensions_url publication_month  \\\n",
       "17408  https://app.dimensions.ai/details/publication/...                 4   \n",
       "\n",
       "         arxiv_id  \n",
       "17408  2004.10706  "
      ]
     },
     "execution_count": 188,
     "metadata": {},
     "output_type": "execute_result"
    }
   ],
   "source": [
    "df_dimensions[df_dimensions.title==\"CORD-19: The Covid-19 Open Research Dataset\"]"
   ]
  },
  {
   "cell_type": "code",
   "execution_count": 189,
   "metadata": {},
   "outputs": [
    {
     "data": {
      "image/png": "[encoded data removed]",
      "text/plain": [
       "<Figure size 432x288 with 1 Axes>"
      ]
     },
     "metadata": {},
     "output_type": "display_data"
    }
   ],
   "source": [
    "# license\n",
    "df_sub = df_cord[df_cord.license.isin(df_cord.license.value_counts()[:30].index.tolist())]\n",
    "b = sns.countplot(y=\"license\", data=df_sub, order=df_sub['license'].value_counts().index)\n",
    "#b.axes.set_title(\"Title\",fontsize=50)\n",
    "b.set_xlabel(\"Count\",fontsize=15)\n",
    "b.set_ylabel(\"License\",fontsize=15)\n",
    "b.tick_params(labelsize=15)"
   ]
  },
  {
   "cell_type": "markdown",
   "metadata": {},
   "source": [
    "### Prepare tables"
   ]
  },
  {
   "cell_type": "code",
   "execution_count": 190,
   "metadata": {},
   "outputs": [],
   "source": [
    "# the main table: pub"
   ]
  },
  {
   "cell_type": "code",
   "execution_count": 191,
   "metadata": {},
   "outputs": [],
   "source": [
    "pub_table_columns = ['title','abstract','publication_year','publication_month','journal','volume','issue','pages','doi','pmid','pmcid','dimensions_id','arxiv_id']\n",
    "\n",
    "df_pub = df_dimensions[pub_table_columns].append(df_who[pub_table_columns], ignore_index = True)"
   ]
  },
  {
   "cell_type": "code",
   "execution_count": 192,
   "metadata": {},
   "outputs": [],
   "source": [
    "df_pub = df_pub[pub_table_columns].append(df_cord[pub_table_columns], ignore_index=True)"
   ]
  },
  {
   "cell_type": "code",
   "execution_count": 193,
   "metadata": {},
   "outputs": [],
   "source": [
    "df_pub[\"title\"] = df_pub[\"title\"].apply(sanitize_string)\n",
    "df_pub[\"abstract\"] = df_pub[\"abstract\"].apply(sanitize_string)\n",
    "df_pub[\"doi\"] = df_pub[\"doi\"].apply(str.lower)\n",
    "df_pub[\"pmid\"] = df_pub[\"pmid\"].apply(str.lower)\n",
    "df_pub[\"pmcid\"] = df_pub[\"pmcid\"].apply(str.lower)\n",
    "df_pub[\"dimensions_id\"] = df_pub[\"dimensions_id\"].apply(str.lower)\n",
    "df_pub[\"arxiv_id\"] = df_pub[\"arxiv_id\"].apply(str.lower)"
   ]
  },
  {
   "cell_type": "code",
   "execution_count": 194,
   "metadata": {},
   "outputs": [
    {
     "data": {
      "text/plain": [
       "(198557, 13)"
      ]
     },
     "execution_count": 194,
     "metadata": {},
     "output_type": "execute_result"
    }
   ],
   "source": [
    "df_pub.shape"
   ]
  },
  {
   "cell_type": "code",
   "execution_count": 195,
   "metadata": {},
   "outputs": [
    {
     "data": {
      "text/plain": [
       "(11860, 13)"
      ]
     },
     "execution_count": 195,
     "metadata": {},
     "output_type": "execute_result"
    }
   ],
   "source": [
    "df_pub[(df_pub.doi==\"\") & (df_pub.pmid==\"\") & (df_pub.pmcid==\"\") & (df_pub.dimensions_id==\"\") & (df_pub.arxiv_id==\"\")].shape"
   ]
  },
  {
   "cell_type": "code",
   "execution_count": 196,
   "metadata": {},
   "outputs": [],
   "source": [
    "# check to have at least one valid identifier per publication\n",
    "# we drop publications which do not: hopefully, they will be equipped with an identifier in future releases\n",
    "\n",
    "df_pub = df_pub[~((df_pub.doi==\"\") & (df_pub.pmid==\"\") & (df_pub.pmcid==\"\") & (df_pub.dimensions_id==\"\") & (df_pub.arxiv_id==\"\"))]"
   ]
  },
  {
   "cell_type": "code",
   "execution_count": 197,
   "metadata": {},
   "outputs": [
    {
     "data": {
      "text/html": [
       "<div>\n",
       "<style scoped>\n",
       "    .dataframe tbody tr th:only-of-type {\n",
       "        vertical-align: middle;\n",
       "    }\n",
       "\n",
       "    .dataframe tbody tr th {\n",
       "        vertical-align: top;\n",
       "    }\n",
       "\n",
       "    .dataframe thead th {\n",
       "        text-align: right;\n",
       "    }\n",
       "</style>\n",
       "<table border=\"1\" class=\"dataframe\">\n",
       "  <thead>\n",
       "    <tr style=\"text-align: right;\">\n",
       "      <th></th>\n",
       "      <th>title</th>\n",
       "      <th>abstract</th>\n",
       "      <th>publication_year</th>\n",
       "      <th>publication_month</th>\n",
       "      <th>journal</th>\n",
       "      <th>volume</th>\n",
       "      <th>issue</th>\n",
       "      <th>pages</th>\n",
       "      <th>doi</th>\n",
       "      <th>pmid</th>\n",
       "      <th>pmcid</th>\n",
       "      <th>dimensions_id</th>\n",
       "      <th>arxiv_id</th>\n",
       "    </tr>\n",
       "  </thead>\n",
       "  <tbody>\n",
       "  </tbody>\n",
       "</table>\n",
       "</div>"
      ],
      "text/plain": [
       "Empty DataFrame\n",
       "Columns: [title, abstract, publication_year, publication_month, journal, volume, issue, pages, doi, pmid, pmcid, dimensions_id, arxiv_id]\n",
       "Index: []"
      ]
     },
     "execution_count": 197,
     "metadata": {},
     "output_type": "execute_result"
    }
   ],
   "source": [
    "df_pub[df_pub.doi==\"0.1126/science.abb7331\"]"
   ]
  },
  {
   "cell_type": "code",
   "execution_count": 198,
   "metadata": {},
   "outputs": [],
   "source": [
    "# drop duplicates, first on dois then pmids then pmcids. We need this to keep empty values!\n",
    "df_tmp = df_pub[df_pub.doi==\"\"]\n",
    "df_pub1 = df_pub[df_pub.doi!=\"\"].groupby('doi').first()\n",
    "df_pub1.reset_index(inplace=True)\n",
    "df_tmp2 = df_tmp[df_tmp.pmid==\"\"]\n",
    "df_pub2 = df_tmp[df_tmp.pmid!=\"\"].groupby('pmid').first()\n",
    "df_pub2.reset_index(inplace=True)\n",
    "df_tmp3 = df_tmp2[df_tmp2.pmcid==\"\"]\n",
    "df_pub3 = df_tmp2[df_tmp2.pmcid!=\"\"].groupby('pmcid').first()\n",
    "df_pub3.reset_index(inplace=True)\n",
    "df_tmp4 = df_tmp3[df_tmp3.arxiv_id==\"\"]\n",
    "df_pub4 = df_tmp3[df_tmp3.arxiv_id!=\"\"].groupby('arxiv_id').first()\n",
    "df_pub4.reset_index(inplace=True)\n",
    "df_pub5 = df_tmp4[df_tmp4.dimensions_id!=\"\"].groupby('dimensions_id').first()\n",
    "df_pub5.reset_index(inplace=True)"
   ]
  },
  {
   "cell_type": "code",
   "execution_count": 199,
   "metadata": {},
   "outputs": [
    {
     "data": {
      "text/html": [
       "<div>\n",
       "<style scoped>\n",
       "    .dataframe tbody tr th:only-of-type {\n",
       "        vertical-align: middle;\n",
       "    }\n",
       "\n",
       "    .dataframe tbody tr th {\n",
       "        vertical-align: top;\n",
       "    }\n",
       "\n",
       "    .dataframe thead th {\n",
       "        text-align: right;\n",
       "    }\n",
       "</style>\n",
       "<table border=\"1\" class=\"dataframe\">\n",
       "  <thead>\n",
       "    <tr style=\"text-align: right;\">\n",
       "      <th></th>\n",
       "      <th>doi</th>\n",
       "      <th>title</th>\n",
       "      <th>abstract</th>\n",
       "      <th>publication_year</th>\n",
       "      <th>publication_month</th>\n",
       "      <th>journal</th>\n",
       "      <th>volume</th>\n",
       "      <th>issue</th>\n",
       "      <th>pages</th>\n",
       "      <th>pmid</th>\n",
       "      <th>pmcid</th>\n",
       "      <th>dimensions_id</th>\n",
       "      <th>arxiv_id</th>\n",
       "    </tr>\n",
       "  </thead>\n",
       "  <tbody>\n",
       "  </tbody>\n",
       "</table>\n",
       "</div>"
      ],
      "text/plain": [
       "Empty DataFrame\n",
       "Columns: [doi, title, abstract, publication_year, publication_month, journal, volume, issue, pages, pmid, pmcid, dimensions_id, arxiv_id]\n",
       "Index: []"
      ]
     },
     "execution_count": 199,
     "metadata": {},
     "output_type": "execute_result"
    }
   ],
   "source": [
    "df_pub1[df_pub1.doi==\"0.1126/science.abb7331\"]"
   ]
  },
  {
   "cell_type": "code",
   "execution_count": 200,
   "metadata": {},
   "outputs": [],
   "source": [
    "df_pub = pd.concat([df_pub1,df_pub2,df_pub3,df_pub4,df_pub5])"
   ]
  },
  {
   "cell_type": "code",
   "execution_count": 201,
   "metadata": {},
   "outputs": [],
   "source": [
    "# add PK and reset index\n",
    "df_pub.reset_index(drop=True,inplace=True)\n",
    "df_pub[\"pub_id\"] = df_pub.index.values"
   ]
  },
  {
   "cell_type": "code",
   "execution_count": 202,
   "metadata": {},
   "outputs": [
    {
     "data": {
      "text/plain": [
       "(139725, 14)"
      ]
     },
     "execution_count": 202,
     "metadata": {},
     "output_type": "execute_result"
    }
   ],
   "source": [
    "df_pub.shape"
   ]
  },
  {
   "cell_type": "code",
   "execution_count": 203,
   "metadata": {},
   "outputs": [
    {
     "data": {
      "text/html": [
       "<div>\n",
       "<style scoped>\n",
       "    .dataframe tbody tr th:only-of-type {\n",
       "        vertical-align: middle;\n",
       "    }\n",
       "\n",
       "    .dataframe tbody tr th {\n",
       "        vertical-align: top;\n",
       "    }\n",
       "\n",
       "    .dataframe thead th {\n",
       "        text-align: right;\n",
       "    }\n",
       "</style>\n",
       "<table border=\"1\" class=\"dataframe\">\n",
       "  <thead>\n",
       "    <tr style=\"text-align: right;\">\n",
       "      <th></th>\n",
       "      <th>doi</th>\n",
       "      <th>title</th>\n",
       "      <th>abstract</th>\n",
       "      <th>publication_year</th>\n",
       "      <th>publication_month</th>\n",
       "      <th>journal</th>\n",
       "      <th>volume</th>\n",
       "      <th>issue</th>\n",
       "      <th>pages</th>\n",
       "      <th>pmid</th>\n",
       "      <th>pmcid</th>\n",
       "      <th>dimensions_id</th>\n",
       "      <th>arxiv_id</th>\n",
       "      <th>pub_id</th>\n",
       "    </tr>\n",
       "  </thead>\n",
       "  <tbody>\n",
       "    <tr>\n",
       "      <th>138447</th>\n",
       "      <td></td>\n",
       "      <td>Social distancing versus early detection and c...</td>\n",
       "      <td></td>\n",
       "      <td>2020</td>\n",
       "      <td>3</td>\n",
       "      <td>arXiv</td>\n",
       "      <td></td>\n",
       "      <td></td>\n",
       "      <td></td>\n",
       "      <td></td>\n",
       "      <td></td>\n",
       "      <td>pub.1126058658</td>\n",
       "      <td>2003.08720</td>\n",
       "      <td>138447</td>\n",
       "    </tr>\n",
       "  </tbody>\n",
       "</table>\n",
       "</div>"
      ],
      "text/plain": [
       "       doi                                              title abstract  \\\n",
       "138447      Social distancing versus early detection and c...            \n",
       "\n",
       "       publication_year publication_month journal volume issue pages pmid  \\\n",
       "138447             2020                 3   arXiv                           \n",
       "\n",
       "       pmcid   dimensions_id    arxiv_id  pub_id  \n",
       "138447        pub.1126058658  2003.08720  138447  "
      ]
     },
     "execution_count": 203,
     "metadata": {},
     "output_type": "execute_result"
    }
   ],
   "source": [
    "df_pub[df_pub.arxiv_id==\"2003.08720\"]"
   ]
  },
  {
   "cell_type": "code",
   "execution_count": 204,
   "metadata": {},
   "outputs": [
    {
     "data": {
      "text/plain": [
       "Index(['title', 'WHO_source', 'journal', 'WHO_database', 'WHO_type',\n",
       "       'WHO_language', 'publication_year', 'WHO_descriptors', 'abstract',\n",
       "       'WHO_entry_date', 'volume', 'issue', 'doi', 'pmid', 'pmcid',\n",
       "       'dimensions_id', 'arxiv_id', 'publication_month', 'pages'],\n",
       "      dtype='object')"
      ]
     },
     "execution_count": 204,
     "metadata": {},
     "output_type": "execute_result"
    }
   ],
   "source": [
    "df_who.columns"
   ]
  },
  {
   "cell_type": "code",
   "execution_count": 205,
   "metadata": {},
   "outputs": [],
   "source": [
    "# create other tables via joins\n",
    "\n",
    "df_datasource = pd.DataFrame.from_dict({\"source\":[\"CORD19\",\"Dimensions\",\"WHO\"],\"url\":[\"https://pages.semanticscholar.org/coronavirus-research\",\"https://docs.google.com/spreadsheets/d/1-kTZJZ1GAhJ2m4GAIhw1ZdlgO46JpvX0ZQa232VWRmw/edit#gid=2034285255\",\n",
    "\"https://www.who.int/emergencies/diseases/novel-coronavirus-2019/global-research-on-novel-coronavirus-2019-ncov\"]})\n",
    "df_cord_metadata = df_cord[['source','license','ms_academic_id','who_covidence','doi','pmid','pmcid','sha','arxiv_id']]\n",
    "df_who_metadata = df_who[['WHO_source', 'WHO_database', 'WHO_type',\n",
    "       'WHO_language', 'WHO_descriptors',\n",
    "       'WHO_entry_date', 'doi', 'pmid', 'pmcid']]\n",
    "df_dimensions_metadata = df_dimensions[['dimensions_id', 'doi', 'pmid', 'pmcid','arxiv_id', 'source_uid', 'mesh_terms',\n",
    "       'open_access', 'publication_type', 'dimensions_url']]"
   ]
  },
  {
   "cell_type": "code",
   "execution_count": 206,
   "metadata": {},
   "outputs": [],
   "source": [
    "df_cord_metadata[\"doi\"] = df_cord_metadata[\"doi\"].apply(str.lower)\n",
    "df_cord_metadata[\"pmid\"] = df_cord_metadata[\"pmid\"].apply(str.lower)\n",
    "df_cord_metadata[\"pmcid\"] = df_cord_metadata[\"pmcid\"].apply(str.lower)\n",
    "df_who_metadata[\"doi\"] = df_who_metadata[\"doi\"].apply(str.lower)\n",
    "df_who_metadata[\"pmid\"] = df_who_metadata[\"pmid\"].apply(str.lower)\n",
    "df_who_metadata[\"pmcid\"] = df_who_metadata[\"pmcid\"].apply(str.lower)\n",
    "df_dimensions_metadata[\"doi\"] = df_dimensions_metadata[\"doi\"].apply(str.lower)\n",
    "df_dimensions_metadata[\"pmid\"] = df_dimensions_metadata[\"pmid\"].apply(str.lower)\n",
    "df_dimensions_metadata[\"pmcid\"] = df_dimensions_metadata[\"pmcid\"].apply(str.lower)"
   ]
  },
  {
   "cell_type": "code",
   "execution_count": 207,
   "metadata": {},
   "outputs": [
    {
     "data": {
      "text/html": [
       "<div>\n",
       "<style scoped>\n",
       "    .dataframe tbody tr th:only-of-type {\n",
       "        vertical-align: middle;\n",
       "    }\n",
       "\n",
       "    .dataframe tbody tr th {\n",
       "        vertical-align: top;\n",
       "    }\n",
       "\n",
       "    .dataframe thead th {\n",
       "        text-align: right;\n",
       "    }\n",
       "</style>\n",
       "<table border=\"1\" class=\"dataframe\">\n",
       "  <thead>\n",
       "    <tr style=\"text-align: right;\">\n",
       "      <th></th>\n",
       "      <th>source</th>\n",
       "      <th>url</th>\n",
       "    </tr>\n",
       "  </thead>\n",
       "  <tbody>\n",
       "    <tr>\n",
       "      <th>0</th>\n",
       "      <td>CORD19</td>\n",
       "      <td>https://pages.semanticscholar.org/coronavirus-...</td>\n",
       "    </tr>\n",
       "    <tr>\n",
       "      <th>1</th>\n",
       "      <td>Dimensions</td>\n",
       "      <td>https://docs.google.com/spreadsheets/d/1-kTZJZ...</td>\n",
       "    </tr>\n",
       "    <tr>\n",
       "      <th>2</th>\n",
       "      <td>WHO</td>\n",
       "      <td>https://www.who.int/emergencies/diseases/novel...</td>\n",
       "    </tr>\n",
       "  </tbody>\n",
       "</table>\n",
       "</div>"
      ],
      "text/plain": [
       "       source                                                url\n",
       "0      CORD19  https://pages.semanticscholar.org/coronavirus-...\n",
       "1  Dimensions  https://docs.google.com/spreadsheets/d/1-kTZJZ...\n",
       "2         WHO  https://www.who.int/emergencies/diseases/novel..."
      ]
     },
     "execution_count": 207,
     "metadata": {},
     "output_type": "execute_result"
    }
   ],
   "source": [
    "df_datasource.head()"
   ]
  },
  {
   "cell_type": "code",
   "execution_count": 208,
   "metadata": {},
   "outputs": [],
   "source": [
    "# CORD19 metadata"
   ]
  },
  {
   "cell_type": "code",
   "execution_count": 209,
   "metadata": {},
   "outputs": [
    {
     "data": {
      "text/plain": [
       "(135149, 9)"
      ]
     },
     "execution_count": 209,
     "metadata": {},
     "output_type": "execute_result"
    }
   ],
   "source": [
    "df_cord_metadata.shape"
   ]
  },
  {
   "cell_type": "code",
   "execution_count": 210,
   "metadata": {},
   "outputs": [
    {
     "data": {
      "text/html": [
       "<div>\n",
       "<style scoped>\n",
       "    .dataframe tbody tr th:only-of-type {\n",
       "        vertical-align: middle;\n",
       "    }\n",
       "\n",
       "    .dataframe tbody tr th {\n",
       "        vertical-align: top;\n",
       "    }\n",
       "\n",
       "    .dataframe thead th {\n",
       "        text-align: right;\n",
       "    }\n",
       "</style>\n",
       "<table border=\"1\" class=\"dataframe\">\n",
       "  <thead>\n",
       "    <tr style=\"text-align: right;\">\n",
       "      <th></th>\n",
       "      <th>doi</th>\n",
       "      <th>title</th>\n",
       "      <th>abstract</th>\n",
       "      <th>publication_year</th>\n",
       "      <th>publication_month</th>\n",
       "      <th>journal</th>\n",
       "      <th>volume</th>\n",
       "      <th>issue</th>\n",
       "      <th>pages</th>\n",
       "      <th>pmid</th>\n",
       "      <th>pmcid</th>\n",
       "      <th>dimensions_id</th>\n",
       "      <th>arxiv_id</th>\n",
       "      <th>pub_id</th>\n",
       "    </tr>\n",
       "  </thead>\n",
       "  <tbody>\n",
       "  </tbody>\n",
       "</table>\n",
       "</div>"
      ],
      "text/plain": [
       "Empty DataFrame\n",
       "Columns: [doi, title, abstract, publication_year, publication_month, journal, volume, issue, pages, pmid, pmcid, dimensions_id, arxiv_id, pub_id]\n",
       "Index: []"
      ]
     },
     "execution_count": 210,
     "metadata": {},
     "output_type": "execute_result"
    }
   ],
   "source": [
    "df_pub[df_pub.doi==\"0.1126/science.abb7331\"]"
   ]
  },
  {
   "cell_type": "code",
   "execution_count": 211,
   "metadata": {},
   "outputs": [],
   "source": [
    "#We need this to keep empty values!\n",
    "\n",
    "df_tmp = df_cord_metadata[df_cord_metadata.doi==\"\"]\n",
    "df_cord_metadata1 = pd.merge(df_cord_metadata[df_cord_metadata.doi!=\"\"], df_pub[['pub_id','doi']],  how='inner', left_on=['doi'], right_on=['doi'])\n",
    "df_tmp2 = df_tmp[df_tmp.pmid==\"\"]\n",
    "df_cord_metadata2 = pd.merge(df_tmp[df_tmp.pmid!=\"\"], df_pub[['pub_id','pmid']],  how='inner', left_on=['pmid'], right_on=['pmid'])\n",
    "df_tmp3 = df_tmp2[df_tmp2.pmcid==\"\"]\n",
    "df_cord_metadata3 = pd.merge(df_tmp2[df_tmp2.pmcid!=\"\"], df_pub[['pub_id','pmcid']],  how='inner', left_on=['pmcid'], right_on=['pmcid'])\n",
    "df_cord_metadata4 = pd.merge(df_tmp3[df_tmp3.arxiv_id!=\"\"], df_pub[['pub_id','arxiv_id']],  how='inner', left_on=['arxiv_id'], right_on=['arxiv_id'])"
   ]
  },
  {
   "cell_type": "code",
   "execution_count": 212,
   "metadata": {},
   "outputs": [],
   "source": [
    "df_cord_metadata1 = df_cord_metadata1.groupby(\"doi\").first()\n",
    "df_cord_metadata1.reset_index(inplace=True)\n",
    "df_cord_metadata2 = df_cord_metadata2.groupby(\"pmid\").first()\n",
    "df_cord_metadata2.reset_index(inplace=True)\n",
    "df_cord_metadata3 = df_cord_metadata3.groupby(\"pmcid\").first()\n",
    "df_cord_metadata3.reset_index(inplace=True)\n",
    "df_cord_metadata4 = df_cord_metadata4.groupby(\"arxiv_id\").first()\n",
    "df_cord_metadata4.reset_index(inplace=True)"
   ]
  },
  {
   "cell_type": "code",
   "execution_count": 213,
   "metadata": {},
   "outputs": [],
   "source": [
    "df_cord_metadata = pd.concat([df_cord_metadata1,df_cord_metadata2,df_cord_metadata3,df_cord_metadata4])"
   ]
  },
  {
   "cell_type": "code",
   "execution_count": 214,
   "metadata": {},
   "outputs": [
    {
     "data": {
      "text/plain": [
       "(122707, 10)"
      ]
     },
     "execution_count": 214,
     "metadata": {},
     "output_type": "execute_result"
    }
   ],
   "source": [
    "df_cord_metadata.shape"
   ]
  },
  {
   "cell_type": "code",
   "execution_count": 215,
   "metadata": {},
   "outputs": [
    {
     "data": {
      "application/vnd.jupyter.widget-view+json": {
       "model_id": "1dbf47b6770a4c069968b485ff096ea4",
       "version_major": 2,
       "version_minor": 0
      },
      "text/plain": [
       "HBox(children=(FloatProgress(value=0.0, max=65582.0), HTML(value='')))"
      ]
     },
     "metadata": {},
     "output_type": "display_data"
    },
    {
     "name": "stdout",
     "output_type": "stream",
     "text": [
      "\n"
     ]
    }
   ],
   "source": [
    "# read full texts in\n",
    "folders = ['document_parses/pdf_json']\n",
    "shas = list()\n",
    "full_texts = list()\n",
    "\n",
    "for folder in folders:\n",
    "    for root, dirs, files in os.walk(os.path.join(cord19_folder,folder)):\n",
    "        for file in tqdm(files):\n",
    "            if \".json\" in file: # read\n",
    "                data = json.loads(codecs.open(os.path.join(root,file)).read())\n",
    "                sha = data[\"paper_id\"]\n",
    "                full_text = \" \".join(sanitize_string(section[\"text\"]) for section in data[\"body_text\"])\n",
    "                shas.append(sha)\n",
    "                full_texts.append(full_text)"
   ]
  },
  {
   "cell_type": "code",
   "execution_count": 216,
   "metadata": {},
   "outputs": [],
   "source": [
    "df_cord_fulltext = pd.DataFrame.from_dict({\"sha\":shas,\"full_text\":full_texts})"
   ]
  },
  {
   "cell_type": "code",
   "execution_count": 217,
   "metadata": {},
   "outputs": [
    {
     "data": {
      "text/plain": [
       "(65582, 2)"
      ]
     },
     "execution_count": 217,
     "metadata": {},
     "output_type": "execute_result"
    }
   ],
   "source": [
    "df_cord_fulltext.shape"
   ]
  },
  {
   "cell_type": "code",
   "execution_count": 218,
   "metadata": {},
   "outputs": [],
   "source": [
    "df_cord_metadata = pd.merge(df_cord_metadata, df_cord_fulltext,  how='left', left_on=['sha'], right_on=['sha'])\n",
    "df_cord_metadata = df_cord_metadata.fillna('')\n",
    "df_cord_metadata.rename(columns={\"id\":\"pub_id\"},inplace=True)"
   ]
  },
  {
   "cell_type": "code",
   "execution_count": 219,
   "metadata": {},
   "outputs": [
    {
     "data": {
      "text/html": [
       "<div>\n",
       "<style scoped>\n",
       "    .dataframe tbody tr th:only-of-type {\n",
       "        vertical-align: middle;\n",
       "    }\n",
       "\n",
       "    .dataframe tbody tr th {\n",
       "        vertical-align: top;\n",
       "    }\n",
       "\n",
       "    .dataframe thead th {\n",
       "        text-align: right;\n",
       "    }\n",
       "</style>\n",
       "<table border=\"1\" class=\"dataframe\">\n",
       "  <thead>\n",
       "    <tr style=\"text-align: right;\">\n",
       "      <th></th>\n",
       "      <th>doi</th>\n",
       "      <th>source</th>\n",
       "      <th>license</th>\n",
       "      <th>ms_academic_id</th>\n",
       "      <th>who_covidence</th>\n",
       "      <th>pmid</th>\n",
       "      <th>pmcid</th>\n",
       "      <th>sha</th>\n",
       "      <th>arxiv_id</th>\n",
       "      <th>pub_id</th>\n",
       "      <th>full_text</th>\n",
       "    </tr>\n",
       "  </thead>\n",
       "  <tbody>\n",
       "    <tr>\n",
       "      <th>0</th>\n",
       "      <td>10.0376/cma.j.issn.0376-2491.2020.0002</td>\n",
       "      <td>Medline; WHO</td>\n",
       "      <td>unk</td>\n",
       "      <td></td>\n",
       "      <td>#615</td>\n",
       "      <td>32036640</td>\n",
       "      <td></td>\n",
       "      <td></td>\n",
       "      <td></td>\n",
       "      <td>2</td>\n",
       "      <td></td>\n",
       "    </tr>\n",
       "    <tr>\n",
       "      <th>1</th>\n",
       "      <td>10.1001/amajethics.2020.344</td>\n",
       "      <td>Medline</td>\n",
       "      <td>unk</td>\n",
       "      <td></td>\n",
       "      <td></td>\n",
       "      <td>32345430</td>\n",
       "      <td></td>\n",
       "      <td></td>\n",
       "      <td></td>\n",
       "      <td>3</td>\n",
       "      <td></td>\n",
       "    </tr>\n",
       "    <tr>\n",
       "      <th>2</th>\n",
       "      <td>10.1001/amajethics.2020.441</td>\n",
       "      <td>Medline</td>\n",
       "      <td>unk</td>\n",
       "      <td></td>\n",
       "      <td></td>\n",
       "      <td>32449663</td>\n",
       "      <td></td>\n",
       "      <td></td>\n",
       "      <td></td>\n",
       "      <td>4</td>\n",
       "      <td></td>\n",
       "    </tr>\n",
       "    <tr>\n",
       "      <th>3</th>\n",
       "      <td>10.1001/amajethics.2020.55</td>\n",
       "      <td>Medline</td>\n",
       "      <td>unk</td>\n",
       "      <td></td>\n",
       "      <td></td>\n",
       "      <td>31958392</td>\n",
       "      <td></td>\n",
       "      <td></td>\n",
       "      <td></td>\n",
       "      <td>5</td>\n",
       "      <td></td>\n",
       "    </tr>\n",
       "    <tr>\n",
       "      <th>4</th>\n",
       "      <td>10.1001/archdermatol.2010.96</td>\n",
       "      <td>Medline</td>\n",
       "      <td>unk</td>\n",
       "      <td></td>\n",
       "      <td></td>\n",
       "      <td>20566928</td>\n",
       "      <td></td>\n",
       "      <td></td>\n",
       "      <td></td>\n",
       "      <td>6</td>\n",
       "      <td></td>\n",
       "    </tr>\n",
       "  </tbody>\n",
       "</table>\n",
       "</div>"
      ],
      "text/plain": [
       "                                      doi        source license  \\\n",
       "0  10.0376/cma.j.issn.0376-2491.2020.0002  Medline; WHO     unk   \n",
       "1             10.1001/amajethics.2020.344       Medline     unk   \n",
       "2             10.1001/amajethics.2020.441       Medline     unk   \n",
       "3              10.1001/amajethics.2020.55       Medline     unk   \n",
       "4            10.1001/archdermatol.2010.96       Medline     unk   \n",
       "\n",
       "  ms_academic_id who_covidence      pmid pmcid sha arxiv_id  pub_id full_text  \n",
       "0                         #615  32036640                          2            \n",
       "1                               32345430                          3            \n",
       "2                               32449663                          4            \n",
       "3                               31958392                          5            \n",
       "4                               20566928                          6            "
      ]
     },
     "execution_count": 219,
     "metadata": {},
     "output_type": "execute_result"
    }
   ],
   "source": [
    "df_cord_metadata.head()"
   ]
  },
  {
   "cell_type": "code",
   "execution_count": 220,
   "metadata": {},
   "outputs": [
    {
     "data": {
      "text/html": [
       "<div>\n",
       "<style scoped>\n",
       "    .dataframe tbody tr th:only-of-type {\n",
       "        vertical-align: middle;\n",
       "    }\n",
       "\n",
       "    .dataframe tbody tr th {\n",
       "        vertical-align: top;\n",
       "    }\n",
       "\n",
       "    .dataframe thead th {\n",
       "        text-align: right;\n",
       "    }\n",
       "</style>\n",
       "<table border=\"1\" class=\"dataframe\">\n",
       "  <thead>\n",
       "    <tr style=\"text-align: right;\">\n",
       "      <th></th>\n",
       "      <th>doi</th>\n",
       "      <th>source</th>\n",
       "      <th>license</th>\n",
       "      <th>ms_academic_id</th>\n",
       "      <th>who_covidence</th>\n",
       "      <th>pmid</th>\n",
       "      <th>pmcid</th>\n",
       "      <th>sha</th>\n",
       "      <th>arxiv_id</th>\n",
       "      <th>pub_id</th>\n",
       "      <th>full_text</th>\n",
       "    </tr>\n",
       "  </thead>\n",
       "  <tbody>\n",
       "    <tr>\n",
       "      <th>16325</th>\n",
       "      <td>10.1007/s10494-011-9345-0</td>\n",
       "      <td>ArXiv</td>\n",
       "      <td>arxiv</td>\n",
       "      <td></td>\n",
       "      <td></td>\n",
       "      <td></td>\n",
       "      <td></td>\n",
       "      <td></td>\n",
       "      <td>1305.2885</td>\n",
       "      <td>17539</td>\n",
       "      <td></td>\n",
       "    </tr>\n",
       "    <tr>\n",
       "      <th>17020</th>\n",
       "      <td>10.1007/s10955-013-0690-3</td>\n",
       "      <td>ArXiv</td>\n",
       "      <td>arxiv</td>\n",
       "      <td></td>\n",
       "      <td></td>\n",
       "      <td></td>\n",
       "      <td></td>\n",
       "      <td>67326b132f0b8258c4cd41a517b2d65404d58901</td>\n",
       "      <td>1211.2163</td>\n",
       "      <td>18259</td>\n",
       "      <td>that the population within a single subpopulat...</td>\n",
       "    </tr>\n",
       "    <tr>\n",
       "      <th>17021</th>\n",
       "      <td>10.1007/s10955-014-1024-9</td>\n",
       "      <td>ArXiv; Medline; PMC</td>\n",
       "      <td>no-cc</td>\n",
       "      <td></td>\n",
       "      <td></td>\n",
       "      <td>26074625</td>\n",
       "      <td>pmc4457089</td>\n",
       "      <td>2305deb2b01f516b57b37719a3c62804637a9139; 5354...</td>\n",
       "      <td>1402.7011</td>\n",
       "      <td>18260</td>\n",
       "      <td></td>\n",
       "    </tr>\n",
       "    <tr>\n",
       "      <th>17317</th>\n",
       "      <td>10.1007/s11192-020-03525-2</td>\n",
       "      <td>ArXiv; PMC; WHO</td>\n",
       "      <td>no-cc</td>\n",
       "      <td></td>\n",
       "      <td>#361454</td>\n",
       "      <td></td>\n",
       "      <td>pmc7246301</td>\n",
       "      <td>b317f9b34f8329d96cc912d400243dc987908e5a; f760...</td>\n",
       "      <td>2005.09433</td>\n",
       "      <td>18566</td>\n",
       "      <td></td>\n",
       "    </tr>\n",
       "    <tr>\n",
       "      <th>17341</th>\n",
       "      <td>10.1007/s11232-014-0210-x</td>\n",
       "      <td>ArXiv; PMC</td>\n",
       "      <td>arxiv</td>\n",
       "      <td></td>\n",
       "      <td></td>\n",
       "      <td></td>\n",
       "      <td>pmc7149039</td>\n",
       "      <td>8abce2326a7c9a4f589e3bfe3480b766f7fd5d5e; 2239...</td>\n",
       "      <td>1406.7468</td>\n",
       "      <td>18594</td>\n",
       "      <td></td>\n",
       "    </tr>\n",
       "  </tbody>\n",
       "</table>\n",
       "</div>"
      ],
      "text/plain": [
       "                              doi               source license ms_academic_id  \\\n",
       "16325   10.1007/s10494-011-9345-0                ArXiv   arxiv                  \n",
       "17020   10.1007/s10955-013-0690-3                ArXiv   arxiv                  \n",
       "17021   10.1007/s10955-014-1024-9  ArXiv; Medline; PMC   no-cc                  \n",
       "17317  10.1007/s11192-020-03525-2      ArXiv; PMC; WHO   no-cc                  \n",
       "17341   10.1007/s11232-014-0210-x           ArXiv; PMC   arxiv                  \n",
       "\n",
       "      who_covidence      pmid       pmcid  \\\n",
       "16325                                       \n",
       "17020                                       \n",
       "17021                26074625  pmc4457089   \n",
       "17317       #361454            pmc7246301   \n",
       "17341                          pmc7149039   \n",
       "\n",
       "                                                     sha    arxiv_id  pub_id  \\\n",
       "16325                                                      1305.2885   17539   \n",
       "17020           67326b132f0b8258c4cd41a517b2d65404d58901   1211.2163   18259   \n",
       "17021  2305deb2b01f516b57b37719a3c62804637a9139; 5354...   1402.7011   18260   \n",
       "17317  b317f9b34f8329d96cc912d400243dc987908e5a; f760...  2005.09433   18566   \n",
       "17341  8abce2326a7c9a4f589e3bfe3480b766f7fd5d5e; 2239...   1406.7468   18594   \n",
       "\n",
       "                                               full_text  \n",
       "16325                                                     \n",
       "17020  that the population within a single subpopulat...  \n",
       "17021                                                     \n",
       "17317                                                     \n",
       "17341                                                     "
      ]
     },
     "execution_count": 220,
     "metadata": {},
     "output_type": "execute_result"
    }
   ],
   "source": [
    "df_cord_metadata[df_cord_metadata.arxiv_id!=\"\"].head()"
   ]
  },
  {
   "cell_type": "code",
   "execution_count": 221,
   "metadata": {},
   "outputs": [],
   "source": [
    "# WHO and Dimensions metadata"
   ]
  },
  {
   "cell_type": "code",
   "execution_count": 222,
   "metadata": {},
   "outputs": [],
   "source": [
    "df_tmp = df_who_metadata[df_who_metadata.doi==\"\"]\n",
    "df_who_metadata1 = pd.merge(df_who_metadata[df_who_metadata.doi!=\"\"], df_pub[['pub_id','doi']],  how='inner', left_on=['doi'], right_on=['doi'])\n",
    "df_tmp2 = df_tmp[df_tmp.pmid==\"\"]\n",
    "df_who_metadata2 = pd.merge(df_tmp[df_tmp.pmid!=\"\"], df_pub[['pub_id','pmid']],  how='inner', left_on=['pmid'], right_on=['pmid'])\n",
    "df_who_metadata3 = pd.merge(df_tmp2[df_tmp2.pmcid!=\"\"], df_pub[['pub_id','pmcid']],  how='inner', left_on=['pmcid'], right_on=['pmcid'])"
   ]
  },
  {
   "cell_type": "code",
   "execution_count": 223,
   "metadata": {},
   "outputs": [],
   "source": [
    "df_who_metadata1 = df_who_metadata1.groupby(\"doi\").first()\n",
    "df_who_metadata1.reset_index(inplace=True)\n",
    "df_who_metadata2 = df_who_metadata2.groupby(\"pmid\").first()\n",
    "df_who_metadata2.reset_index(inplace=True)\n",
    "df_who_metadata3 = df_who_metadata3.groupby(\"pmcid\").first()\n",
    "df_who_metadata3.reset_index(inplace=True)"
   ]
  },
  {
   "cell_type": "code",
   "execution_count": 224,
   "metadata": {},
   "outputs": [],
   "source": [
    "df_who_metadata = pd.concat([df_who_metadata1,df_who_metadata2,df_who_metadata3])"
   ]
  },
  {
   "cell_type": "code",
   "execution_count": 225,
   "metadata": {},
   "outputs": [
    {
     "data": {
      "text/plain": [
       "(5114, 10)"
      ]
     },
     "execution_count": 225,
     "metadata": {},
     "output_type": "execute_result"
    }
   ],
   "source": [
    "df_who_metadata.shape"
   ]
  },
  {
   "cell_type": "code",
   "execution_count": 226,
   "metadata": {},
   "outputs": [],
   "source": [
    "df_who_metadata.rename(columns={\"id\":\"pub_id\"},inplace=True)"
   ]
  },
  {
   "cell_type": "code",
   "execution_count": 227,
   "metadata": {},
   "outputs": [],
   "source": [
    "df_tmp = df_dimensions_metadata[df_dimensions_metadata.dimensions_id==\"\"]\n",
    "df_dimensions_metadata1 = pd.merge(df_dimensions_metadata[df_dimensions_metadata.dimensions_id!=\"\"], df_pub[['pub_id','dimensions_id']],  how='inner', left_on=['dimensions_id'], right_on=['dimensions_id'])"
   ]
  },
  {
   "cell_type": "code",
   "execution_count": 228,
   "metadata": {},
   "outputs": [],
   "source": [
    "df_dimensions_metadata1 = df_dimensions_metadata1.groupby(\"dimensions_id\").first()\n",
    "df_dimensions_metadata1.reset_index(inplace=True)"
   ]
  },
  {
   "cell_type": "code",
   "execution_count": 229,
   "metadata": {},
   "outputs": [],
   "source": [
    "df_dimensions_metadata = pd.concat([df_dimensions_metadata1])"
   ]
  },
  {
   "cell_type": "code",
   "execution_count": 230,
   "metadata": {},
   "outputs": [
    {
     "data": {
      "text/plain": [
       "(36621, 11)"
      ]
     },
     "execution_count": 230,
     "metadata": {},
     "output_type": "execute_result"
    }
   ],
   "source": [
    "df_dimensions_metadata.shape"
   ]
  },
  {
   "cell_type": "code",
   "execution_count": 231,
   "metadata": {},
   "outputs": [],
   "source": [
    "df_dimensions_metadata.rename(columns={\"id\":\"pub_id\"},inplace=True)"
   ]
  },
  {
   "cell_type": "code",
   "execution_count": 232,
   "metadata": {},
   "outputs": [],
   "source": [
    "# Create datasource tables"
   ]
  },
  {
   "cell_type": "code",
   "execution_count": 233,
   "metadata": {},
   "outputs": [],
   "source": [
    "cord_source_id = df_datasource[df_datasource.source==\"CORD19\"].index.values[0]\n",
    "who_source_id = df_datasource[df_datasource.source==\"WHO\"].index.values[0]\n",
    "dimensions_source_id = df_datasource[df_datasource.source==\"Dimensions\"].index.values[0]"
   ]
  },
  {
   "cell_type": "code",
   "execution_count": 234,
   "metadata": {},
   "outputs": [],
   "source": [
    "df_cord_metadata[\"source_id\"] = cord_source_id\n",
    "df_who_metadata[\"source_id\"] = who_source_id\n",
    "df_dimensions_metadata[\"source_id\"] = dimensions_source_id"
   ]
  },
  {
   "cell_type": "code",
   "execution_count": 235,
   "metadata": {},
   "outputs": [],
   "source": [
    "df_pub_to_datasource = df_cord_metadata[[\"pub_id\",\"source_id\"]]\n",
    "df_pub_to_datasource = df_pub_to_datasource.append(df_who_metadata[[\"pub_id\",\"source_id\"]],ignore_index=True)\n",
    "df_pub_to_datasource = df_pub_to_datasource.append(df_dimensions_metadata[[\"pub_id\",\"source_id\"]],ignore_index=True)"
   ]
  },
  {
   "cell_type": "code",
   "execution_count": 236,
   "metadata": {},
   "outputs": [],
   "source": [
    "df_pub_to_datasource.drop_duplicates(inplace=True)\n",
    "df_pub_to_datasource.rename(columns={\"source_id\":\"datasource_id\"},inplace=True)"
   ]
  },
  {
   "cell_type": "code",
   "execution_count": 237,
   "metadata": {},
   "outputs": [
    {
     "data": {
      "text/plain": [
       "(164410, 2)"
      ]
     },
     "execution_count": 237,
     "metadata": {},
     "output_type": "execute_result"
    }
   ],
   "source": [
    "df_pub_to_datasource.shape"
   ]
  },
  {
   "cell_type": "code",
   "execution_count": 238,
   "metadata": {},
   "outputs": [
    {
     "data": {
      "text/html": [
       "<div>\n",
       "<style scoped>\n",
       "    .dataframe tbody tr th:only-of-type {\n",
       "        vertical-align: middle;\n",
       "    }\n",
       "\n",
       "    .dataframe tbody tr th {\n",
       "        vertical-align: top;\n",
       "    }\n",
       "\n",
       "    .dataframe thead th {\n",
       "        text-align: right;\n",
       "    }\n",
       "</style>\n",
       "<table border=\"1\" class=\"dataframe\">\n",
       "  <thead>\n",
       "    <tr style=\"text-align: right;\">\n",
       "      <th></th>\n",
       "      <th>pub_id</th>\n",
       "      <th>datasource_id</th>\n",
       "    </tr>\n",
       "  </thead>\n",
       "  <tbody>\n",
       "    <tr>\n",
       "      <th>21328</th>\n",
       "      <td>22787</td>\n",
       "      <td>0</td>\n",
       "    </tr>\n",
       "  </tbody>\n",
       "</table>\n",
       "</div>"
      ],
      "text/plain": [
       "       pub_id  datasource_id\n",
       "21328   22787              0"
      ]
     },
     "execution_count": 238,
     "metadata": {},
     "output_type": "execute_result"
    }
   ],
   "source": [
    "df_pub_to_datasource[df_pub_to_datasource.pub_id==22787]"
   ]
  },
  {
   "cell_type": "code",
   "execution_count": 239,
   "metadata": {},
   "outputs": [],
   "source": [
    "# remove unnecessary columns\n",
    "df_cord_metadata.drop(columns=['doi','pmid','pmcid','arxiv_id','source_id'],inplace=True)\n",
    "df_who_metadata.drop(columns=['doi','pmid','pmcid','source_id'],inplace=True)\n",
    "df_dimensions_metadata.drop(columns=['doi','pmid','pmcid','arxiv_id','source_id'],inplace=True)"
   ]
  },
  {
   "cell_type": "code",
   "execution_count": 240,
   "metadata": {},
   "outputs": [],
   "source": [
    "# reset all indexes which will become PKs\n",
    "df_cord_metadata.reset_index(drop=True,inplace=True)\n",
    "df_who_metadata.reset_index(drop=True,inplace=True)\n",
    "df_dimensions_metadata.reset_index(drop=True,inplace=True)\n",
    "df_datasource.reset_index(drop=True,inplace=True)\n",
    "df_cord_metadata[\"cord19_metadata_id\"] = df_cord_metadata.index.values\n",
    "df_who_metadata[\"who_metadata_id\"] = df_who_metadata.index.values\n",
    "df_dimensions_metadata[\"dimensions_metadata_id\"] = df_dimensions_metadata.index.values\n",
    "df_datasource[\"datasource_metadata_id\"] = df_datasource.index.values"
   ]
  },
  {
   "cell_type": "code",
   "execution_count": 241,
   "metadata": {},
   "outputs": [],
   "source": [
    "# make numeric where needed\n",
    "df_pub[\"publication_year\"] = pd.to_numeric(df_pub[\"publication_year\"])\n",
    "df_pub[\"publication_month\"] = pd.to_numeric(df_pub[\"publication_month\"])\n",
    "df_pub[\"pmid\"] = pd.to_numeric(df_pub[\"pmid\"])"
   ]
  },
  {
   "cell_type": "code",
   "execution_count": 242,
   "metadata": {},
   "outputs": [],
   "source": [
    "# add timestamp\n",
    "df_pub[\"timestamp\"] = pd.Timestamp.now()"
   ]
  },
  {
   "cell_type": "code",
   "execution_count": 243,
   "metadata": {},
   "outputs": [],
   "source": [
    "# clean-up text (optional)\n",
    "replaces = [\"\"]\n",
    "\n",
    "def clean_up(txt):\n",
    "    for r in replaces:\n",
    "        txt = txt.replace(r,\"\")\n",
    "    return txt.encode('utf8', 'ignore').decode('utf8')\n",
    "df_pub[\"abstract\"] = [clean_up(a) for a in df_pub[\"abstract\"].values]"
   ]
  },
  {
   "cell_type": "code",
   "execution_count": 244,
   "metadata": {},
   "outputs": [
    {
     "data": {
      "text/html": [
       "<div>\n",
       "<style scoped>\n",
       "    .dataframe tbody tr th:only-of-type {\n",
       "        vertical-align: middle;\n",
       "    }\n",
       "\n",
       "    .dataframe tbody tr th {\n",
       "        vertical-align: top;\n",
       "    }\n",
       "\n",
       "    .dataframe thead th {\n",
       "        text-align: right;\n",
       "    }\n",
       "</style>\n",
       "<table border=\"1\" class=\"dataframe\">\n",
       "  <thead>\n",
       "    <tr style=\"text-align: right;\">\n",
       "      <th></th>\n",
       "      <th>doi</th>\n",
       "      <th>title</th>\n",
       "      <th>abstract</th>\n",
       "      <th>publication_year</th>\n",
       "      <th>publication_month</th>\n",
       "      <th>journal</th>\n",
       "      <th>volume</th>\n",
       "      <th>issue</th>\n",
       "      <th>pages</th>\n",
       "      <th>pmid</th>\n",
       "      <th>pmcid</th>\n",
       "      <th>dimensions_id</th>\n",
       "      <th>arxiv_id</th>\n",
       "      <th>pub_id</th>\n",
       "      <th>timestamp</th>\n",
       "    </tr>\n",
       "  </thead>\n",
       "  <tbody>\n",
       "    <tr>\n",
       "      <th>0</th>\n",
       "      <td></td>\n",
       "      <td>The dissemination of COVID-19: an expectant an...</td>\n",
       "      <td>Backgroung: Coronaviruses (CoV) make up a larg...</td>\n",
       "      <td>2020.0</td>\n",
       "      <td>NaN</td>\n",
       "      <td>Rev. bras. crescimento desenvolv. hum</td>\n",
       "      <td>30</td>\n",
       "      <td>1</td>\n",
       "      <td></td>\n",
       "      <td>NaN</td>\n",
       "      <td></td>\n",
       "      <td></td>\n",
       "      <td></td>\n",
       "      <td>0</td>\n",
       "      <td>2020-06-04 08:55:40.831388</td>\n",
       "    </tr>\n",
       "    <tr>\n",
       "      <th>1</th>\n",
       "      <td>0.1126/science.abb7331</td>\n",
       "      <td>‘A ticking time bomb’: Scientists worry about ...</td>\n",
       "      <td>CAPE TOWN, SOUTH AFRICA—Late on Sunday evening...</td>\n",
       "      <td>2020.0</td>\n",
       "      <td>NaN</td>\n",
       "      <td>Science</td>\n",
       "      <td></td>\n",
       "      <td></td>\n",
       "      <td></td>\n",
       "      <td>NaN</td>\n",
       "      <td></td>\n",
       "      <td></td>\n",
       "      <td></td>\n",
       "      <td>1</td>\n",
       "      <td>2020-06-04 08:55:40.831388</td>\n",
       "    </tr>\n",
       "    <tr>\n",
       "      <th>2</th>\n",
       "      <td>10.0376/cma.j.issn.0376-2491.2020.0002</td>\n",
       "      <td>[Ten hot issues of breast cancer under the nov...</td>\n",
       "      <td></td>\n",
       "      <td>2020.0</td>\n",
       "      <td>2.0</td>\n",
       "      <td>Chinese medical journal</td>\n",
       "      <td>100</td>\n",
       "      <td>0</td>\n",
       "      <td>e002</td>\n",
       "      <td>32036640.0</td>\n",
       "      <td></td>\n",
       "      <td>pub.1124777091</td>\n",
       "      <td></td>\n",
       "      <td>2</td>\n",
       "      <td>2020-06-04 08:55:40.831388</td>\n",
       "    </tr>\n",
       "    <tr>\n",
       "      <th>3</th>\n",
       "      <td>10.1001/amajethics.2020.344</td>\n",
       "      <td>Cohesion in Distancing.</td>\n",
       "      <td></td>\n",
       "      <td>2020.0</td>\n",
       "      <td>4.0</td>\n",
       "      <td>The AMA Journal of Ethic</td>\n",
       "      <td>22</td>\n",
       "      <td>4</td>\n",
       "      <td>e344-345</td>\n",
       "      <td>32345430.0</td>\n",
       "      <td></td>\n",
       "      <td>pub.1127182341</td>\n",
       "      <td></td>\n",
       "      <td>3</td>\n",
       "      <td>2020-06-04 08:55:40.831388</td>\n",
       "    </tr>\n",
       "    <tr>\n",
       "      <th>4</th>\n",
       "      <td>10.1001/amajethics.2020.441</td>\n",
       "      <td>Salvation in a Time of Plague.</td>\n",
       "      <td>Health workers offer their skills and care to ...</td>\n",
       "      <td>2020.0</td>\n",
       "      <td>5.0</td>\n",
       "      <td>AMA journal of ethics</td>\n",
       "      <td></td>\n",
       "      <td></td>\n",
       "      <td></td>\n",
       "      <td>32449663.0</td>\n",
       "      <td></td>\n",
       "      <td></td>\n",
       "      <td></td>\n",
       "      <td>4</td>\n",
       "      <td>2020-06-04 08:55:40.831388</td>\n",
       "    </tr>\n",
       "  </tbody>\n",
       "</table>\n",
       "</div>"
      ],
      "text/plain": [
       "                                      doi  \\\n",
       "0                                           \n",
       "1                 0.1126/science.abb7331    \n",
       "2  10.0376/cma.j.issn.0376-2491.2020.0002   \n",
       "3             10.1001/amajethics.2020.344   \n",
       "4             10.1001/amajethics.2020.441   \n",
       "\n",
       "                                               title  \\\n",
       "0  The dissemination of COVID-19: an expectant an...   \n",
       "1  ‘A ticking time bomb’: Scientists worry about ...   \n",
       "2  [Ten hot issues of breast cancer under the nov...   \n",
       "3                            Cohesion in Distancing.   \n",
       "4                     Salvation in a Time of Plague.   \n",
       "\n",
       "                                            abstract  publication_year  \\\n",
       "0  Backgroung: Coronaviruses (CoV) make up a larg...            2020.0   \n",
       "1  CAPE TOWN, SOUTH AFRICA—Late on Sunday evening...            2020.0   \n",
       "2                                                               2020.0   \n",
       "3                                                               2020.0   \n",
       "4  Health workers offer their skills and care to ...            2020.0   \n",
       "\n",
       "   publication_month                                journal volume issue  \\\n",
       "0                NaN  Rev. bras. crescimento desenvolv. hum     30     1   \n",
       "1                NaN                                Science                \n",
       "2                2.0                Chinese medical journal    100     0   \n",
       "3                4.0               The AMA Journal of Ethic     22     4   \n",
       "4                5.0                  AMA journal of ethics                \n",
       "\n",
       "      pages        pmid pmcid   dimensions_id arxiv_id  pub_id  \\\n",
       "0                   NaN                                      0   \n",
       "1                   NaN                                      1   \n",
       "2      e002  32036640.0        pub.1124777091                2   \n",
       "3  e344-345  32345430.0        pub.1127182341                3   \n",
       "4            32449663.0                                      4   \n",
       "\n",
       "                   timestamp  \n",
       "0 2020-06-04 08:55:40.831388  \n",
       "1 2020-06-04 08:55:40.831388  \n",
       "2 2020-06-04 08:55:40.831388  \n",
       "3 2020-06-04 08:55:40.831388  \n",
       "4 2020-06-04 08:55:40.831388  "
      ]
     },
     "execution_count": 244,
     "metadata": {},
     "output_type": "execute_result"
    }
   ],
   "source": [
    "df_pub.head()"
   ]
  },
  {
   "cell_type": "code",
   "execution_count": 245,
   "metadata": {},
   "outputs": [
    {
     "data": {
      "text/plain": [
       "Index(['source', 'url', 'datasource_metadata_id'], dtype='object')"
      ]
     },
     "execution_count": 245,
     "metadata": {},
     "output_type": "execute_result"
    }
   ],
   "source": [
    "# reorder the columns to match the SQL schema\n",
    "\n",
    "df_datasource.columns"
   ]
  },
  {
   "cell_type": "code",
   "execution_count": 247,
   "metadata": {},
   "outputs": [],
   "source": [
    "df_who_metadata.columns = map(str.lower, df_who_metadata.columns)"
   ]
  },
  {
   "cell_type": "code",
   "execution_count": 248,
   "metadata": {},
   "outputs": [
    {
     "data": {
      "text/plain": [
       "Index(['who_source', 'who_database', 'who_type', 'who_language',\n",
       "       'who_descriptors', 'who_entry_date', 'pub_id', 'who_metadata_id'],\n",
       "      dtype='object')"
      ]
     },
     "execution_count": 248,
     "metadata": {},
     "output_type": "execute_result"
    }
   ],
   "source": [
    "df_who_metadata.columns"
   ]
  },
  {
   "cell_type": "code",
   "execution_count": 249,
   "metadata": {},
   "outputs": [],
   "source": [
    "df_pub = df_pub[['pub_id', 'title', 'abstract', 'publication_year', 'publication_month', 'journal',\n",
    "       'volume', 'issue', 'pages', 'doi', 'pmid', 'pmcid', 'dimensions_id', 'arxiv_id',\n",
    "       'timestamp']]\n",
    "df_dimensions_metadata = df_dimensions_metadata[['dimensions_metadata_id', 'dimensions_id', 'source_uid', 'open_access',\n",
    "       'publication_type', 'dimensions_url', 'mesh_terms', 'pub_id']]\n",
    "df_cord_metadata = df_cord_metadata[[ 'cord19_metadata_id', 'source', 'license', 'ms_academic_id',\n",
    "       'who_covidence', 'sha', 'full_text', 'pub_id']]\n",
    "df_datasource = df_datasource[['datasource_metadata_id', 'source', 'url']]"
   ]
  },
  {
   "cell_type": "code",
   "execution_count": 250,
   "metadata": {},
   "outputs": [
    {
     "data": {
      "text/plain": [
       "                                          12273\n",
       "10.1101/2020.04.13.20064022                   1\n",
       "10.3855/jidc.10893                            1\n",
       "10.1038/s41390-020-0881-y                     1\n",
       "10.5090/kjtcs.2014.47.3.310                   1\n",
       "                                          ...  \n",
       "10.1016/j.cgh.2020.05.018                     1\n",
       "10.1002/rmv.1714                              1\n",
       "10.1146/annurev-pharmtox-010716-104533        1\n",
       "10.1007/s10880-020-09726-4                    1\n",
       "10.1016/s0300-2896(15)30868-1                 1\n",
       "Name: doi, Length: 127453, dtype: int64"
      ]
     },
     "execution_count": 250,
     "metadata": {},
     "output_type": "execute_result"
    }
   ],
   "source": [
    "df_pub.doi.value_counts()"
   ]
  },
  {
   "cell_type": "code",
   "execution_count": 251,
   "metadata": {},
   "outputs": [
    {
     "data": {
      "text/plain": [
       "              138095\n",
       "2001.11021         2\n",
       "2004.00908         2\n",
       "2004.08052         2\n",
       "2005.04007         2\n",
       "               ...  \n",
       "2004.10743         1\n",
       "2004.11278         1\n",
       "2004.05466         1\n",
       "2005.02261         1\n",
       "2004.10641         1\n",
       "Name: arxiv_id, Length: 1620, dtype: int64"
      ]
     },
     "execution_count": 251,
     "metadata": {},
     "output_type": "execute_result"
    }
   ],
   "source": [
    "df_pub.arxiv_id.value_counts()"
   ]
  },
  {
   "cell_type": "code",
   "execution_count": 252,
   "metadata": {},
   "outputs": [
    {
     "data": {
      "text/plain": [
       "'52086    10.1016/s0140-6736(20)30607-3'"
      ]
     },
     "execution_count": 252,
     "metadata": {},
     "output_type": "execute_result"
    }
   ],
   "source": [
    "df_pub[df_pub.doi == \"10.1016/s0140-6736(20)30607-3\"].doi.to_string()"
   ]
  },
  {
   "cell_type": "code",
   "execution_count": 253,
   "metadata": {},
   "outputs": [
    {
     "data": {
      "text/plain": [
       "Index(['cord19_metadata_id', 'source', 'license', 'ms_academic_id',\n",
       "       'who_covidence', 'sha', 'full_text', 'pub_id'],\n",
       "      dtype='object')"
      ]
     },
     "execution_count": 253,
     "metadata": {},
     "output_type": "execute_result"
    }
   ],
   "source": [
    "df_cord_metadata.columns"
   ]
  },
  {
   "cell_type": "markdown",
   "metadata": {},
   "source": [
    "### Dump to CSV"
   ]
  },
  {
   "cell_type": "code",
   "execution_count": 254,
   "metadata": {},
   "outputs": [],
   "source": [
    "### Export the df_pub dataframe for further use\n",
    "\n",
    "df_pub.to_csv(\"datasets_output/df_pub.csv\", compression=\"gzip\", index=False)"
   ]
  },
  {
   "cell_type": "code",
   "execution_count": 255,
   "metadata": {},
   "outputs": [],
   "source": [
    "# export TSV for ingestion\n",
    "\n",
    "df_pub.to_csv(\"datasets_output/sql_tables/pub.csv\",index=False,sep=\"\\t\",header=False)\n",
    "df_cord_metadata.to_csv(\"datasets_output/sql_tables/cord19_metadata.csv\",index=False,sep=\"\\t\",header=False)\n",
    "df_dimensions_metadata.to_csv(\"datasets_output/sql_tables/dimensions_metadata.csv\",index=False,sep=\"\\t\",header=False)\n",
    "df_who_metadata.to_csv(\"datasets_output/sql_tables/who_metadata.csv\",index=False,sep=\"\\t\",header=False)\n",
    "df_datasource.to_csv(\"datasets_output/sql_tables/datasource.csv\",index=False,sep=\"\\t\",header=False)\n",
    "df_pub_to_datasource.to_csv(\"datasets_output/sql_tables/pub_datasource.csv\",index=False,sep=\"\\t\",header=False)"
   ]
  },
  {
   "cell_type": "markdown",
   "metadata": {},
   "source": [
    "### Dump to MySQL\n",
    "\n",
    "Use this if you want to create a MySQL db."
   ]
  },
  {
   "cell_type": "code",
   "execution_count": null,
   "metadata": {},
   "outputs": [],
   "source": [
    "dtype_dict = {'pub_id':Integer, 'title':String, 'abstract':String, 'publication_year':Integer, 'publication_month':Integer, 'journal':String,\n",
    "       'volume':String, 'issue':String, 'pages':String, 'doi':String, 'pmid':Integer, 'pmcid':String, 'timestamp':DateTime}"
   ]
  },
  {
   "cell_type": "code",
   "execution_count": null,
   "metadata": {},
   "outputs": [],
   "source": [
    "# get API key\n",
    "import configparser\n",
    "config = configparser.ConfigParser()\n",
    "config.read(\"credentials/conf.ini\")\n",
    "mysql_username = config[\"MYSQL\"][\"username\"]\n",
    "mysql_password = config[\"MYSQL\"][\"password\"]\n",
    "mysql_database = config[\"MYSQL\"][\"database\"]"
   ]
  },
  {
   "cell_type": "code",
   "execution_count": null,
   "metadata": {},
   "outputs": [],
   "source": [
    "sqlEngine = create_engine('mysql+pymysql://%s:%s@127.0.0.1/%s'%(mysql_username,mysql_password,mysql_database), pool_recycle=3600)\n",
    "dbConnection = sqlEngine.connect()"
   ]
  },
  {
   "cell_type": "code",
   "execution_count": null,
   "metadata": {},
   "outputs": [],
   "source": [
    "# main table\n",
    "table_name = \"pub\"\n",
    "try:\n",
    "    frame = df_pub.to_sql(table_name, dbConnection, if_exists='append', index=False, index_label=\"pub_id\", dtype=dtype_dict);\n",
    "except ValueError as vx:\n",
    "    print(vx)\n",
    "except Exception as ex:   \n",
    "    print(ex)\n",
    "else:\n",
    "    print(\"Table %s created successfully.\"%table_name);   \n",
    "finally:\n",
    "    dbConnection.close()"
   ]
  },
  {
   "cell_type": "code",
   "execution_count": null,
   "metadata": {},
   "outputs": [],
   "source": [
    "sqlEngine = create_engine('mysql+pymysql://%s:%s@127.0.0.1/%s'%(mysql_username,mysql_password,mysql_database), pool_recycle=3600)\n",
    "dbConnection = sqlEngine.connect()"
   ]
  },
  {
   "cell_type": "code",
   "execution_count": null,
   "metadata": {},
   "outputs": [],
   "source": [
    "# other tables\n",
    "try:\n",
    "    frame = df_cord_metadata.to_sql(\"cord19_metadata\", dbConnection, if_exists='append', index=True, index_label=\"cord19_metadata_id\")\n",
    "    frame = df_who_metadata.to_sql(\"who_metadata\", dbConnection, if_exists='append', index=True, index_label=\"who_metadata_id\")\n",
    "    frame = df_dimensions_metadata.to_sql(\"dimensions_metadata\", dbConnection, if_exists='append', index=True, index_label=\"dimensions_metadata_id\")\n",
    "    frame = df_datasource.to_sql(\"datasource\", dbConnection, if_exists='append', index=True, index_label=\"datasource_id\")\n",
    "except ValueError as vx:\n",
    "    print(vx)\n",
    "except Exception as ex:   \n",
    "    print(ex)\n",
    "else:\n",
    "    print(\"Tables created successfully.\");   \n",
    "finally:\n",
    "    dbConnection.close()"
   ]
  },
  {
   "cell_type": "code",
   "execution_count": null,
   "metadata": {},
   "outputs": [],
   "source": [
    "sqlEngine = create_engine('mysql+pymysql://%s:%s@127.0.0.1/%s'%(mysql_username,mysql_password,mysql_database), pool_recycle=3600)\n",
    "dbConnection = sqlEngine.connect()"
   ]
  },
  {
   "cell_type": "code",
   "execution_count": null,
   "metadata": {},
   "outputs": [],
   "source": [
    "# last table\n",
    "try:\n",
    "    frame = df_pub_to_datasource.to_sql(\"pub_datasource\", dbConnection, if_exists='append', index=False, index_label=[\"pub_id\",\"datasource_id\"])\n",
    "except ValueError as vx:\n",
    "    print(vx)\n",
    "except Exception as ex:   \n",
    "    print(ex)\n",
    "else:\n",
    "    print(\"Table created successfully.\");   \n",
    "finally:\n",
    "    dbConnection.close()"
   ]
  },
  {
   "cell_type": "code",
   "execution_count": null,
   "metadata": {},
   "outputs": [],
   "source": []
  }
 ],
 "metadata": {
  "kernelspec": {
   "display_name": "covid",
   "language": "python",
   "name": "covid"
  },
  "language_info": {
   "codemirror_mode": {
    "name": "ipython",
    "version": 3
   },
   "file_extension": ".py",
   "mimetype": "text/x-python",
   "name": "python",
   "nbconvert_exporter": "python",
   "pygments_lexer": "ipython3",
   "version": "3.7.6"
  }
 },
 "nbformat": 4,
 "nbformat_minor": 4
}
