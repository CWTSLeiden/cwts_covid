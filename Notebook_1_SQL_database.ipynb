{
 "cells": [
  {
   "cell_type": "markdown",
   "metadata": {},
   "source": [
    "# COVID19-related literature SQL database\n",
    "\n",
    "In this notebook, we create a relational database dump of a set of COVID19-related publication datasets. These include:\n",
    "\n",
    "* CORD19: https://pages.semanticscholar.org/coronavirus-research\n",
    "* Dimensions: https://docs.google.com/spreadsheets/d/1-kTZJZ1GAhJ2m4GAIhw1ZdlgO46JpvX0ZQa232VWRmw/edit#gid=2034285255\n",
    "* WHO: https://www.who.int/emergencies/diseases/novel-coronavirus-2019/global-research-on-novel-coronavirus-2019-ncov"
   ]
  },
  {
   "cell_type": "code",
   "execution_count": 145,
   "metadata": {},
   "outputs": [
    {
     "name": "stdout",
     "output_type": "stream",
     "text": [
      "The autoreload extension is already loaded. To reload it, use:\n",
      "  %reload_ext autoreload\n"
     ]
    }
   ],
   "source": [
    "# magics, warnings and imports\n",
    "\n",
    "%load_ext autoreload\n",
    "%autoreload 2\n",
    "import warnings; warnings.simplefilter('ignore')\n",
    "\n",
    "import os, random, codecs, json, math, re\n",
    "import pandas as pd\n",
    "import numpy as np\n",
    "from tqdm.notebook import tqdm\n",
    "import pymysql\n",
    "from sqlalchemy import create_engine\n",
    "from sqlalchemy import Integer,String,Boolean,DateTime\n",
    "\n",
    "seed = 99\n",
    "random.seed(seed)\n",
    "np.random.seed(seed)\n",
    "\n",
    "import nltk, sklearn\n",
    "import matplotlib.pyplot as plt\n",
    "import seaborn as sns\n",
    "sns.set(style=\"white\")\n",
    "sns.set_context(\"notebook\", font_scale=1.2, rc={\"lines.linewidth\": 2.5})"
   ]
  },
  {
   "cell_type": "markdown",
   "metadata": {},
   "source": [
    "#### Load datasets"
   ]
  },
  {
   "cell_type": "code",
   "execution_count": 146,
   "metadata": {},
   "outputs": [],
   "source": [
    "# point here to the versions of the datasets you want to use\n",
    "dimensions_filename = \"datasets_input/Dimensions_20_05_2020.csv\"\n",
    "who_filename = \"datasets_input/WHO_20_05_2020.csv\"\n",
    "cord19_folder = \"datasets_input/CORD19_2020_05_20\"\n",
    "\n",
    "df_dimensions = pd.read_csv(dimensions_filename, dtype=str)\n",
    "df_who = pd.read_csv(who_filename, dtype=str)\n",
    "df_cord = pd.read_csv(os.path.join(cord19_folder,\"metadata.csv\"), dtype=str)"
   ]
  },
  {
   "cell_type": "code",
   "execution_count": 147,
   "metadata": {},
   "outputs": [
    {
     "data": {
      "text/plain": [
       "(128492, 19)"
      ]
     },
     "execution_count": 147,
     "metadata": {},
     "output_type": "execute_result"
    }
   ],
   "source": [
    "df_cord.shape"
   ]
  },
  {
   "cell_type": "markdown",
   "metadata": {},
   "source": [
    "### Prepare dataframes for ingestion"
   ]
  },
  {
   "cell_type": "markdown",
   "metadata": {},
   "source": [
    "#### Clean-up data frames"
   ]
  },
  {
   "cell_type": "markdown",
   "metadata": {},
   "source": [
    "##### Dimensions"
   ]
  },
  {
   "cell_type": "code",
   "execution_count": 148,
   "metadata": {},
   "outputs": [
    {
     "data": {
      "text/html": [
       "<div>\n",
       "<style scoped>\n",
       "    .dataframe tbody tr th:only-of-type {\n",
       "        vertical-align: middle;\n",
       "    }\n",
       "\n",
       "    .dataframe tbody tr th {\n",
       "        vertical-align: top;\n",
       "    }\n",
       "\n",
       "    .dataframe thead th {\n",
       "        text-align: right;\n",
       "    }\n",
       "</style>\n",
       "<table border=\"1\" class=\"dataframe\">\n",
       "  <thead>\n",
       "    <tr style=\"text-align: right;\">\n",
       "      <th></th>\n",
       "      <th>Date added</th>\n",
       "      <th>Publication ID</th>\n",
       "      <th>DOI</th>\n",
       "      <th>PMID</th>\n",
       "      <th>PMCID</th>\n",
       "      <th>Title</th>\n",
       "      <th>Abstract</th>\n",
       "      <th>Source title</th>\n",
       "      <th>Source UID</th>\n",
       "      <th>Publisher</th>\n",
       "      <th>...</th>\n",
       "      <th>Research Organizations - standardized</th>\n",
       "      <th>GRID IDs</th>\n",
       "      <th>City of Research organization</th>\n",
       "      <th>Country of Research organization</th>\n",
       "      <th>Funder</th>\n",
       "      <th>UIDs of supporting grants</th>\n",
       "      <th>Times cited</th>\n",
       "      <th>Altmetric</th>\n",
       "      <th>Source Linkout</th>\n",
       "      <th>Dimensions URL</th>\n",
       "    </tr>\n",
       "  </thead>\n",
       "  <tbody>\n",
       "    <tr>\n",
       "      <th>0</th>\n",
       "      <td>2020-05-15</td>\n",
       "      <td>pub.1127568354</td>\n",
       "      <td>10.3238/arztebl.2020.0364</td>\n",
       "      <td>NaN</td>\n",
       "      <td>NaN</td>\n",
       "      <td>SARS-CoV-2 pandemic—a complicated case of appe...</td>\n",
       "      <td>NaN</td>\n",
       "      <td>Deutsches Aerzteblatt Online</td>\n",
       "      <td>jour.1040139</td>\n",
       "      <td>Deutscher Arzte-Verlag GmbH</td>\n",
       "      <td>...</td>\n",
       "      <td>NaN</td>\n",
       "      <td>NaN</td>\n",
       "      <td>NaN</td>\n",
       "      <td>NaN</td>\n",
       "      <td>NaN</td>\n",
       "      <td>NaN</td>\n",
       "      <td>0</td>\n",
       "      <td>NaN</td>\n",
       "      <td>NaN</td>\n",
       "      <td>https://app.dimensions.ai/details/publication/...</td>\n",
       "    </tr>\n",
       "    <tr>\n",
       "      <th>1</th>\n",
       "      <td>2020-05-15</td>\n",
       "      <td>pub.1127580866</td>\n",
       "      <td>10.12957/tamoios.2020.50511</td>\n",
       "      <td>NaN</td>\n",
       "      <td>NaN</td>\n",
       "      <td>COLAPSO E DETERMINISMO ESCALAR EM TEMPOS PANDÊ...</td>\n",
       "      <td>O texto consiste em um exercício metodológico ...</td>\n",
       "      <td>Revista Tamoios</td>\n",
       "      <td>jour.1146824</td>\n",
       "      <td>Universidade de Estado do Rio de Janeiro</td>\n",
       "      <td>...</td>\n",
       "      <td>NaN</td>\n",
       "      <td>NaN</td>\n",
       "      <td>NaN</td>\n",
       "      <td>NaN</td>\n",
       "      <td>NaN</td>\n",
       "      <td>NaN</td>\n",
       "      <td>0</td>\n",
       "      <td>NaN</td>\n",
       "      <td>https://www.e-publicacoes.uerj.br/index.php/ta...</td>\n",
       "      <td>https://app.dimensions.ai/details/publication/...</td>\n",
       "    </tr>\n",
       "    <tr>\n",
       "      <th>2</th>\n",
       "      <td>2020-05-15</td>\n",
       "      <td>pub.1127584866</td>\n",
       "      <td>10.26434/chemrxiv.12280532</td>\n",
       "      <td>NaN</td>\n",
       "      <td>NaN</td>\n",
       "      <td>Computational Guided Identification of Novel P...</td>\n",
       "      <td>&lt;p&gt;The Coronavirus Disease 2019 (COVID-19), ca...</td>\n",
       "      <td>ChemRxiv</td>\n",
       "      <td>jour.1315496</td>\n",
       "      <td>American Chemical Society (ACS)</td>\n",
       "      <td>...</td>\n",
       "      <td>NaN</td>\n",
       "      <td>NaN</td>\n",
       "      <td>NaN</td>\n",
       "      <td>NaN</td>\n",
       "      <td>NaN</td>\n",
       "      <td>NaN</td>\n",
       "      <td>0</td>\n",
       "      <td>1</td>\n",
       "      <td>https://chemrxiv.org/articles/Computational_Gu...</td>\n",
       "      <td>https://app.dimensions.ai/details/publication/...</td>\n",
       "    </tr>\n",
       "    <tr>\n",
       "      <th>3</th>\n",
       "      <td>2020-05-15</td>\n",
       "      <td>pub.1127563585</td>\n",
       "      <td>10.2106/jbjs.20.00610</td>\n",
       "      <td>NaN</td>\n",
       "      <td>NaN</td>\n",
       "      <td>The “Infodemic” of Journal Publication Associa...</td>\n",
       "      <td>NaN</td>\n",
       "      <td>The Journal of Bone and Joint Surgery (American)</td>\n",
       "      <td>jour.1002308</td>\n",
       "      <td>Wolters Kluwer</td>\n",
       "      <td>...</td>\n",
       "      <td>NaN</td>\n",
       "      <td>NaN</td>\n",
       "      <td>NaN</td>\n",
       "      <td>NaN</td>\n",
       "      <td>NaN</td>\n",
       "      <td>NaN</td>\n",
       "      <td>0</td>\n",
       "      <td>1</td>\n",
       "      <td>NaN</td>\n",
       "      <td>https://app.dimensions.ai/details/publication/...</td>\n",
       "    </tr>\n",
       "    <tr>\n",
       "      <th>4</th>\n",
       "      <td>2020-05-15</td>\n",
       "      <td>pub.1127571457</td>\n",
       "      <td>10.5089/9781513541464.002</td>\n",
       "      <td>NaN</td>\n",
       "      <td>NaN</td>\n",
       "      <td>Haiti</td>\n",
       "      <td>Staff Report prepared by a staff team of the I...</td>\n",
       "      <td>IMF Staff Country Reports</td>\n",
       "      <td>jour.1137046</td>\n",
       "      <td>International Monetary Fund (IMF)</td>\n",
       "      <td>...</td>\n",
       "      <td>NaN</td>\n",
       "      <td>NaN</td>\n",
       "      <td>NaN</td>\n",
       "      <td>NaN</td>\n",
       "      <td>NaN</td>\n",
       "      <td>NaN</td>\n",
       "      <td>0</td>\n",
       "      <td>NaN</td>\n",
       "      <td>https://www.elibrary.imf.org/doc/IMF002/28987-...</td>\n",
       "      <td>https://app.dimensions.ai/details/publication/...</td>\n",
       "    </tr>\n",
       "  </tbody>\n",
       "</table>\n",
       "<p>5 rows × 31 columns</p>\n",
       "</div>"
      ],
      "text/plain": [
       "   Date added  Publication ID                          DOI PMID PMCID  \\\n",
       "0  2020-05-15  pub.1127568354    10.3238/arztebl.2020.0364  NaN   NaN   \n",
       "1  2020-05-15  pub.1127580866  10.12957/tamoios.2020.50511  NaN   NaN   \n",
       "2  2020-05-15  pub.1127584866   10.26434/chemrxiv.12280532  NaN   NaN   \n",
       "3  2020-05-15  pub.1127563585        10.2106/jbjs.20.00610  NaN   NaN   \n",
       "4  2020-05-15  pub.1127571457    10.5089/9781513541464.002  NaN   NaN   \n",
       "\n",
       "                                               Title  \\\n",
       "0  SARS-CoV-2 pandemic—a complicated case of appe...   \n",
       "1  COLAPSO E DETERMINISMO ESCALAR EM TEMPOS PANDÊ...   \n",
       "2  Computational Guided Identification of Novel P...   \n",
       "3  The “Infodemic” of Journal Publication Associa...   \n",
       "4                                              Haiti   \n",
       "\n",
       "                                            Abstract  \\\n",
       "0                                                NaN   \n",
       "1  O texto consiste em um exercício metodológico ...   \n",
       "2  <p>The Coronavirus Disease 2019 (COVID-19), ca...   \n",
       "3                                                NaN   \n",
       "4  Staff Report prepared by a staff team of the I...   \n",
       "\n",
       "                                       Source title    Source UID  \\\n",
       "0                      Deutsches Aerzteblatt Online  jour.1040139   \n",
       "1                                   Revista Tamoios  jour.1146824   \n",
       "2                                          ChemRxiv  jour.1315496   \n",
       "3  The Journal of Bone and Joint Surgery (American)  jour.1002308   \n",
       "4                         IMF Staff Country Reports  jour.1137046   \n",
       "\n",
       "                                  Publisher  ...  \\\n",
       "0               Deutscher Arzte-Verlag GmbH  ...   \n",
       "1  Universidade de Estado do Rio de Janeiro  ...   \n",
       "2           American Chemical Society (ACS)  ...   \n",
       "3                            Wolters Kluwer  ...   \n",
       "4         International Monetary Fund (IMF)  ...   \n",
       "\n",
       "  Research Organizations - standardized GRID IDs  \\\n",
       "0                                   NaN      NaN   \n",
       "1                                   NaN      NaN   \n",
       "2                                   NaN      NaN   \n",
       "3                                   NaN      NaN   \n",
       "4                                   NaN      NaN   \n",
       "\n",
       "  City of Research organization Country of Research organization Funder  \\\n",
       "0                           NaN                              NaN    NaN   \n",
       "1                           NaN                              NaN    NaN   \n",
       "2                           NaN                              NaN    NaN   \n",
       "3                           NaN                              NaN    NaN   \n",
       "4                           NaN                              NaN    NaN   \n",
       "\n",
       "  UIDs of supporting grants Times cited Altmetric  \\\n",
       "0                       NaN           0       NaN   \n",
       "1                       NaN           0       NaN   \n",
       "2                       NaN           0         1   \n",
       "3                       NaN           0         1   \n",
       "4                       NaN           0       NaN   \n",
       "\n",
       "                                      Source Linkout  \\\n",
       "0                                                NaN   \n",
       "1  https://www.e-publicacoes.uerj.br/index.php/ta...   \n",
       "2  https://chemrxiv.org/articles/Computational_Gu...   \n",
       "3                                                NaN   \n",
       "4  https://www.elibrary.imf.org/doc/IMF002/28987-...   \n",
       "\n",
       "                                      Dimensions URL  \n",
       "0  https://app.dimensions.ai/details/publication/...  \n",
       "1  https://app.dimensions.ai/details/publication/...  \n",
       "2  https://app.dimensions.ai/details/publication/...  \n",
       "3  https://app.dimensions.ai/details/publication/...  \n",
       "4  https://app.dimensions.ai/details/publication/...  \n",
       "\n",
       "[5 rows x 31 columns]"
      ]
     },
     "execution_count": 148,
     "metadata": {},
     "output_type": "execute_result"
    }
   ],
   "source": [
    "df_dimensions.head()"
   ]
  },
  {
   "cell_type": "code",
   "execution_count": 149,
   "metadata": {},
   "outputs": [
    {
     "data": {
      "text/plain": [
       "Index(['Date added', 'Publication ID', 'DOI', 'PMID', 'PMCID', 'Title',\n",
       "       'Abstract', 'Source title', 'Source UID', 'Publisher', 'MeSH terms',\n",
       "       'Publication Date', 'PubYear', 'Volume', 'Issue', 'Pagination',\n",
       "       'Open Access', 'Publication Type', 'Authors', 'Corresponding Authors',\n",
       "       'Authors Affiliations', 'Research Organizations - standardized',\n",
       "       'GRID IDs', 'City of Research organization',\n",
       "       'Country of Research organization', 'Funder',\n",
       "       'UIDs of supporting grants', 'Times cited', 'Altmetric',\n",
       "       'Source Linkout', 'Dimensions URL'],\n",
       "      dtype='object')"
      ]
     },
     "execution_count": 149,
     "metadata": {},
     "output_type": "execute_result"
    }
   ],
   "source": [
    "df_dimensions.columns"
   ]
  },
  {
   "cell_type": "code",
   "execution_count": 150,
   "metadata": {},
   "outputs": [],
   "source": [
    "df_dimensions.drop(columns=['Date added', 'Publisher', 'Authors', 'Corresponding Authors',\n",
    "       'Authors Affiliations', 'Research Organizations - standardized',\n",
    "       'GRID IDs', 'City of Research organization',\n",
    "       'Country of Research organization', 'Funder',\n",
    "       'UIDs of supporting grants', 'Times cited', 'Altmetric',\n",
    "       'Source Linkout'], inplace=True)"
   ]
  },
  {
   "cell_type": "code",
   "execution_count": 151,
   "metadata": {},
   "outputs": [
    {
     "data": {
      "text/plain": [
       "Index(['Publication ID', 'DOI', 'PMID', 'PMCID', 'Title', 'Abstract',\n",
       "       'Source title', 'Source UID', 'MeSH terms', 'Publication Date',\n",
       "       'PubYear', 'Volume', 'Issue', 'Pagination', 'Open Access',\n",
       "       'Publication Type', 'Dimensions URL'],\n",
       "      dtype='object')"
      ]
     },
     "execution_count": 151,
     "metadata": {},
     "output_type": "execute_result"
    }
   ],
   "source": [
    "df_dimensions.columns"
   ]
  },
  {
   "cell_type": "code",
   "execution_count": 152,
   "metadata": {},
   "outputs": [],
   "source": [
    "df_dimensions.rename(columns={'Publication ID':'dimensions_id', 'DOI':'doi', 'PMID':'pmid', 'PMCID':'pmcid', 'Title':'title', 'Abstract':'abstract',\n",
    "       'Source title':'journal', 'Source UID':'source_uid', 'MeSH terms':'mesh_terms', 'Publication Date':'publication_date',\n",
    "       'PubYear':'publication_year', 'Volume':'volume', 'Issue':'issue', 'Pagination':'pages', 'Open Access':'open_access',\n",
    "       'Publication Type':'publication_type', 'Dimensions URL':'dimensions_url'}, inplace=True)"
   ]
  },
  {
   "cell_type": "code",
   "execution_count": 153,
   "metadata": {},
   "outputs": [],
   "source": [
    "def get_year(date):\n",
    "    if isinstance(date,str) and len(date)>3 and date[:4].isdigit():\n",
    "        return date[:4]\n",
    "    return \"\"\n",
    "\n",
    "month_to_number = {\"Jan\":\"1\",\"Feb\":\"2\",\"Mar\":\"3\",\"Apr\":\"4\",\"May\":\"5\",\"Jun\":\"6\",\"Jul\":\"7\",\"Aug\":\"8\",\"Sep\":\"9\",\"Oct\":\"10\",\"Nov\":\"11\",\"Dec\":\"12\"}\n",
    "\n",
    "def get_month(date):\n",
    "    if isinstance(date,str) and len(date)>6:\n",
    "        if \"-\" in date and date.split(\"-\")[1].isdigit():\n",
    "            return str(int(date.split(\"-\")[1]))\n",
    "        else:\n",
    "            try:\n",
    "                return month_to_number[date.split()[1]]\n",
    "            except:\n",
    "                return \"\"\n",
    "    return \"\"\n",
    "\n",
    "def sanitize_string(s):\n",
    "    return \" \".join(s.split())"
   ]
  },
  {
   "cell_type": "code",
   "execution_count": 154,
   "metadata": {},
   "outputs": [],
   "source": [
    "df_dimensions[\"publication_year\"] = df_dimensions[\"publication_year\"].apply(get_year)\n",
    "df_dimensions[\"publication_month\"] = df_dimensions[\"publication_date\"].apply(get_month)\n",
    "df_dimensions[\"arxiv_id\"] = \"\""
   ]
  },
  {
   "cell_type": "code",
   "execution_count": 155,
   "metadata": {},
   "outputs": [],
   "source": [
    "df_dimensions.drop(columns=\"publication_date\", inplace=True)\n",
    "df_dimensions = df_dimensions.fillna('')"
   ]
  },
  {
   "cell_type": "code",
   "execution_count": 156,
   "metadata": {},
   "outputs": [
    {
     "data": {
      "text/plain": [
       "'\\nimport requests, re\\n\\nfor index, row in df_dimensions[df_dimensions.journal==\"arXiv\"].iterrows():\\n    r = requests.get(row[\"dimensions_url\"])\\n    if r.status_code == 200:\\n        arxiv_url = re.search(\"https://arxiv.org/pdf/arXiv:[0-9]+.[0-9]+\",r.text).group()\\n        arxiv_id = arxiv_url.split(\":\")[-1]\\n        row[\"arxiv_id\"] = arxiv_id\\n'"
      ]
     },
     "execution_count": 156,
     "metadata": {},
     "output_type": "execute_result"
    }
   ],
   "source": [
    "# retrieve arXiv ID for Dimensions papers\n",
    "# Sync option, quite slow\n",
    "\n",
    "\"\"\"\n",
    "import requests, re\n",
    "\n",
    "for index, row in df_dimensions[df_dimensions.journal==\"arXiv\"].iterrows():\n",
    "    r = requests.get(row[\"dimensions_url\"])\n",
    "    if r.status_code == 200:\n",
    "        arxiv_url = re.search(\"https://arxiv.org/pdf/arXiv:[0-9]+.[0-9]+\",r.text).group()\n",
    "        arxiv_id = arxiv_url.split(\":\")[-1]\n",
    "        row[\"arxiv_id\"] = arxiv_id\n",
    "\"\"\""
   ]
  },
  {
   "cell_type": "code",
   "execution_count": 157,
   "metadata": {
    "scrolled": false
   },
   "outputs": [],
   "source": [
    "# from https://towardsdatascience.com/fast-and-async-in-python-accelerate-your-requests-using-asyncio-62dafca83c33\n",
    "# aSync option, fast\n",
    "\n",
    "import aiohttp\n",
    "import requests\n",
    "import asyncio\n",
    "\n",
    "from aiohttp import ClientSession\n",
    "\n",
    "def extract_fields_from_response(response):\n",
    "    \"\"\"Extract arxiv id from API's response\"\"\"\n",
    "    search_res = re.search(\"arXiv:[0-9]+.[0-9]+\",response)\n",
    "    if search_res:\n",
    "        arxiv_url = search_res.group()\n",
    "        arxiv_id = arxiv_url.split(\":\")[-1]\n",
    "        return arxiv_id\n",
    "    return \"\"\n",
    "\n",
    "async def get_details_async(session, payload):   \n",
    "    response = await session.request(method='GET', url=payload[1][\"dimensions_url\"])\n",
    "    if response.status != 200:\n",
    "        print(payload[0], response.status)\n",
    "        pass\n",
    "    return await response.text()\n",
    "\n",
    "async def run_program(session, payload):\n",
    "    \"\"\"Wrapper for running program in an asynchronous manner\"\"\"\n",
    "    response = await get_details_async(session, payload)\n",
    "    arxiv_id = extract_fields_from_response(response)\n",
    "    return (arxiv_id,payload[1][\"dimensions_url\"])\n",
    "\n",
    "payloads = df_dimensions[df_dimensions.journal==\"arXiv\"]\n",
    "connector = aiohttp.TCPConnector(limit=5)\n",
    "async with aiohttp.ClientSession(connector=connector) as session:\n",
    "    results = await asyncio.gather(*[run_program(session, payload) for payload in payloads.iterrows()])"
   ]
  },
  {
   "cell_type": "code",
   "execution_count": 158,
   "metadata": {},
   "outputs": [],
   "source": [
    "df_tmp = pd.DataFrame.from_dict({\"arxiv_id\":[x[0] for x in results],\"dimensions_url\":[x[1] for x in results]})"
   ]
  },
  {
   "cell_type": "code",
   "execution_count": 159,
   "metadata": {},
   "outputs": [
    {
     "data": {
      "text/plain": [
       "(861, 2)"
      ]
     },
     "execution_count": 159,
     "metadata": {},
     "output_type": "execute_result"
    }
   ],
   "source": [
    "df_tmp.shape"
   ]
  },
  {
   "cell_type": "code",
   "execution_count": 160,
   "metadata": {},
   "outputs": [],
   "source": [
    "df_dimensions = df_dimensions.merge(df_tmp, how=\"left\", left_on=\"dimensions_url\", right_on=\"dimensions_url\")\n",
    "df_dimensions.drop(columns=\"arxiv_id_x\", inplace=True)\n",
    "df_dimensions.rename(columns={\"arxiv_id_y\":\"arxiv_id\"}, inplace=True)\n",
    "df_dimensions = df_dimensions.fillna('')"
   ]
  },
  {
   "cell_type": "code",
   "execution_count": 161,
   "metadata": {},
   "outputs": [
    {
     "data": {
      "text/plain": [
       "(32442, 18)"
      ]
     },
     "execution_count": 161,
     "metadata": {},
     "output_type": "execute_result"
    }
   ],
   "source": [
    "df_dimensions.shape"
   ]
  },
  {
   "cell_type": "code",
   "execution_count": 162,
   "metadata": {},
   "outputs": [
    {
     "data": {
      "text/plain": [
       "(861, 18)"
      ]
     },
     "execution_count": 162,
     "metadata": {},
     "output_type": "execute_result"
    }
   ],
   "source": [
    "df_dimensions[df_dimensions.journal==\"arXiv\"].shape"
   ]
  },
  {
   "cell_type": "code",
   "execution_count": 163,
   "metadata": {},
   "outputs": [
    {
     "data": {
      "text/html": [
       "<div>\n",
       "<style scoped>\n",
       "    .dataframe tbody tr th:only-of-type {\n",
       "        vertical-align: middle;\n",
       "    }\n",
       "\n",
       "    .dataframe tbody tr th {\n",
       "        vertical-align: top;\n",
       "    }\n",
       "\n",
       "    .dataframe thead th {\n",
       "        text-align: right;\n",
       "    }\n",
       "</style>\n",
       "<table border=\"1\" class=\"dataframe\">\n",
       "  <thead>\n",
       "    <tr style=\"text-align: right;\">\n",
       "      <th></th>\n",
       "      <th>dimensions_id</th>\n",
       "      <th>doi</th>\n",
       "      <th>pmid</th>\n",
       "      <th>pmcid</th>\n",
       "      <th>title</th>\n",
       "      <th>abstract</th>\n",
       "      <th>journal</th>\n",
       "      <th>source_uid</th>\n",
       "      <th>mesh_terms</th>\n",
       "      <th>publication_year</th>\n",
       "      <th>volume</th>\n",
       "      <th>issue</th>\n",
       "      <th>pages</th>\n",
       "      <th>open_access</th>\n",
       "      <th>publication_type</th>\n",
       "      <th>dimensions_url</th>\n",
       "      <th>publication_month</th>\n",
       "      <th>arxiv_id</th>\n",
       "    </tr>\n",
       "  </thead>\n",
       "  <tbody>\n",
       "    <tr>\n",
       "      <th>0</th>\n",
       "      <td>pub.1127568354</td>\n",
       "      <td>10.3238/arztebl.2020.0364</td>\n",
       "      <td></td>\n",
       "      <td></td>\n",
       "      <td>SARS-CoV-2 pandemic—a complicated case of appe...</td>\n",
       "      <td></td>\n",
       "      <td>Deutsches Aerzteblatt Online</td>\n",
       "      <td>jour.1040139</td>\n",
       "      <td></td>\n",
       "      <td>2020</td>\n",
       "      <td></td>\n",
       "      <td></td>\n",
       "      <td></td>\n",
       "      <td>Closed</td>\n",
       "      <td>article</td>\n",
       "      <td>https://app.dimensions.ai/details/publication/...</td>\n",
       "      <td>5</td>\n",
       "      <td></td>\n",
       "    </tr>\n",
       "    <tr>\n",
       "      <th>1</th>\n",
       "      <td>pub.1127580866</td>\n",
       "      <td>10.12957/tamoios.2020.50511</td>\n",
       "      <td></td>\n",
       "      <td></td>\n",
       "      <td>COLAPSO E DETERMINISMO ESCALAR EM TEMPOS PANDÊ...</td>\n",
       "      <td>O texto consiste em um exercício metodológico ...</td>\n",
       "      <td>Revista Tamoios</td>\n",
       "      <td>jour.1146824</td>\n",
       "      <td></td>\n",
       "      <td>2020</td>\n",
       "      <td>16</td>\n",
       "      <td>1</td>\n",
       "      <td></td>\n",
       "      <td>All OA; Bronze</td>\n",
       "      <td>article</td>\n",
       "      <td>https://app.dimensions.ai/details/publication/...</td>\n",
       "      <td>5</td>\n",
       "      <td></td>\n",
       "    </tr>\n",
       "    <tr>\n",
       "      <th>2</th>\n",
       "      <td>pub.1127584866</td>\n",
       "      <td>10.26434/chemrxiv.12280532</td>\n",
       "      <td></td>\n",
       "      <td></td>\n",
       "      <td>Computational Guided Identification of Novel P...</td>\n",
       "      <td>&lt;p&gt;The Coronavirus Disease 2019 (COVID-19), ca...</td>\n",
       "      <td>ChemRxiv</td>\n",
       "      <td>jour.1315496</td>\n",
       "      <td></td>\n",
       "      <td>2020</td>\n",
       "      <td></td>\n",
       "      <td></td>\n",
       "      <td></td>\n",
       "      <td>All OA; Green, Published</td>\n",
       "      <td>preprint</td>\n",
       "      <td>https://app.dimensions.ai/details/publication/...</td>\n",
       "      <td>5</td>\n",
       "      <td></td>\n",
       "    </tr>\n",
       "    <tr>\n",
       "      <th>3</th>\n",
       "      <td>pub.1127563585</td>\n",
       "      <td>10.2106/jbjs.20.00610</td>\n",
       "      <td></td>\n",
       "      <td></td>\n",
       "      <td>The “Infodemic” of Journal Publication Associa...</td>\n",
       "      <td></td>\n",
       "      <td>The Journal of Bone and Joint Surgery (American)</td>\n",
       "      <td>jour.1002308</td>\n",
       "      <td></td>\n",
       "      <td>2020</td>\n",
       "      <td></td>\n",
       "      <td></td>\n",
       "      <td>1</td>\n",
       "      <td>Closed</td>\n",
       "      <td>article</td>\n",
       "      <td>https://app.dimensions.ai/details/publication/...</td>\n",
       "      <td>5</td>\n",
       "      <td></td>\n",
       "    </tr>\n",
       "    <tr>\n",
       "      <th>4</th>\n",
       "      <td>pub.1127571457</td>\n",
       "      <td>10.5089/9781513541464.002</td>\n",
       "      <td></td>\n",
       "      <td></td>\n",
       "      <td>Haiti</td>\n",
       "      <td>Staff Report prepared by a staff team of the I...</td>\n",
       "      <td>IMF Staff Country Reports</td>\n",
       "      <td>jour.1137046</td>\n",
       "      <td></td>\n",
       "      <td>2020</td>\n",
       "      <td>20</td>\n",
       "      <td>121</td>\n",
       "      <td></td>\n",
       "      <td>All OA; Bronze</td>\n",
       "      <td>article</td>\n",
       "      <td>https://app.dimensions.ai/details/publication/...</td>\n",
       "      <td>4</td>\n",
       "      <td></td>\n",
       "    </tr>\n",
       "  </tbody>\n",
       "</table>\n",
       "</div>"
      ],
      "text/plain": [
       "    dimensions_id                          doi pmid pmcid  \\\n",
       "0  pub.1127568354    10.3238/arztebl.2020.0364              \n",
       "1  pub.1127580866  10.12957/tamoios.2020.50511              \n",
       "2  pub.1127584866   10.26434/chemrxiv.12280532              \n",
       "3  pub.1127563585        10.2106/jbjs.20.00610              \n",
       "4  pub.1127571457    10.5089/9781513541464.002              \n",
       "\n",
       "                                               title  \\\n",
       "0  SARS-CoV-2 pandemic—a complicated case of appe...   \n",
       "1  COLAPSO E DETERMINISMO ESCALAR EM TEMPOS PANDÊ...   \n",
       "2  Computational Guided Identification of Novel P...   \n",
       "3  The “Infodemic” of Journal Publication Associa...   \n",
       "4                                              Haiti   \n",
       "\n",
       "                                            abstract  \\\n",
       "0                                                      \n",
       "1  O texto consiste em um exercício metodológico ...   \n",
       "2  <p>The Coronavirus Disease 2019 (COVID-19), ca...   \n",
       "3                                                      \n",
       "4  Staff Report prepared by a staff team of the I...   \n",
       "\n",
       "                                            journal    source_uid mesh_terms  \\\n",
       "0                      Deutsches Aerzteblatt Online  jour.1040139              \n",
       "1                                   Revista Tamoios  jour.1146824              \n",
       "2                                          ChemRxiv  jour.1315496              \n",
       "3  The Journal of Bone and Joint Surgery (American)  jour.1002308              \n",
       "4                         IMF Staff Country Reports  jour.1137046              \n",
       "\n",
       "  publication_year volume issue pages               open_access  \\\n",
       "0             2020                                       Closed   \n",
       "1             2020     16     1                  All OA; Bronze   \n",
       "2             2020                     All OA; Green, Published   \n",
       "3             2020                  1                    Closed   \n",
       "4             2020     20   121                  All OA; Bronze   \n",
       "\n",
       "  publication_type                                     dimensions_url  \\\n",
       "0          article  https://app.dimensions.ai/details/publication/...   \n",
       "1          article  https://app.dimensions.ai/details/publication/...   \n",
       "2         preprint  https://app.dimensions.ai/details/publication/...   \n",
       "3          article  https://app.dimensions.ai/details/publication/...   \n",
       "4          article  https://app.dimensions.ai/details/publication/...   \n",
       "\n",
       "  publication_month arxiv_id  \n",
       "0                 5           \n",
       "1                 5           \n",
       "2                 5           \n",
       "3                 5           \n",
       "4                 4           "
      ]
     },
     "execution_count": 163,
     "metadata": {},
     "output_type": "execute_result"
    }
   ],
   "source": [
    "df_dimensions.head()"
   ]
  },
  {
   "cell_type": "code",
   "execution_count": 164,
   "metadata": {},
   "outputs": [
    {
     "data": {
      "text/plain": [
       "(1201, 18)"
      ]
     },
     "execution_count": 164,
     "metadata": {},
     "output_type": "execute_result"
    }
   ],
   "source": [
    "df_dimensions[df_dimensions.doi==\"\"].shape"
   ]
  },
  {
   "cell_type": "markdown",
   "metadata": {},
   "source": [
    "##### WHO"
   ]
  },
  {
   "cell_type": "code",
   "execution_count": 165,
   "metadata": {},
   "outputs": [
    {
     "data": {
      "text/html": [
       "<div>\n",
       "<style scoped>\n",
       "    .dataframe tbody tr th:only-of-type {\n",
       "        vertical-align: middle;\n",
       "    }\n",
       "\n",
       "    .dataframe tbody tr th {\n",
       "        vertical-align: top;\n",
       "    }\n",
       "\n",
       "    .dataframe thead th {\n",
       "        text-align: right;\n",
       "    }\n",
       "</style>\n",
       "<table border=\"1\" class=\"dataframe\">\n",
       "  <thead>\n",
       "    <tr style=\"text-align: right;\">\n",
       "      <th></th>\n",
       "      <th>Title</th>\n",
       "      <th>Authors</th>\n",
       "      <th>Abstract</th>\n",
       "      <th>Published Year</th>\n",
       "      <th>Published Month</th>\n",
       "      <th>Journal</th>\n",
       "      <th>Volume</th>\n",
       "      <th>Issue</th>\n",
       "      <th>Pages</th>\n",
       "      <th>Accession Number</th>\n",
       "      <th>DOI</th>\n",
       "      <th>Ref</th>\n",
       "      <th>Covidence #</th>\n",
       "      <th>Study</th>\n",
       "      <th>Notes</th>\n",
       "      <th>Tags</th>\n",
       "      <th>Cov Num</th>\n",
       "    </tr>\n",
       "  </thead>\n",
       "  <tbody>\n",
       "    <tr>\n",
       "      <th>0</th>\n",
       "      <td>Recent advances in the detection of respirator...</td>\n",
       "      <td>Zhang, N.; Wang, L.; Deng, X.; Liang, R.; Su, ...</td>\n",
       "      <td>Respiratory tract viral infection caused by vi...</td>\n",
       "      <td>2020</td>\n",
       "      <td>NaN</td>\n",
       "      <td>Journal of medical virology</td>\n",
       "      <td>NaN</td>\n",
       "      <td>NaN</td>\n",
       "      <td>NaN</td>\n",
       "      <td>31944312</td>\n",
       "      <td>10.1002/jmv.25674</td>\n",
       "      <td>6</td>\n",
       "      <td>#2</td>\n",
       "      <td>Zhang 2020</td>\n",
       "      <td>NaN</td>\n",
       "      <td>* Narrative review; Clinical aspects, diagnosi...</td>\n",
       "      <td>2</td>\n",
       "    </tr>\n",
       "    <tr>\n",
       "      <th>1</th>\n",
       "      <td>Pneumonia of Unknown Etiology in Wuhan, China:...</td>\n",
       "      <td>Bogoch, I. I.; Watts, A.; Thomas-Bachli, A.; H...</td>\n",
       "      <td>There is currently an outbreak of a pneumonia ...</td>\n",
       "      <td>2020</td>\n",
       "      <td>NaN</td>\n",
       "      <td>Journal of travel medicine</td>\n",
       "      <td>NaN</td>\n",
       "      <td>NaN</td>\n",
       "      <td>NaN</td>\n",
       "      <td>NaN</td>\n",
       "      <td>10.1093/jtm/taaa008</td>\n",
       "      <td>13</td>\n",
       "      <td>#4</td>\n",
       "      <td>Bogoch 2020</td>\n",
       "      <td>Jose  Garnica (2020-01-29 23:40:16)(Included):...</td>\n",
       "      <td>* Case study/series; * Epidemiological study; ...</td>\n",
       "      <td>4</td>\n",
       "    </tr>\n",
       "    <tr>\n",
       "      <th>2</th>\n",
       "      <td>A Novel Coronavirus from Patients with Pneumon...</td>\n",
       "      <td>Zhu, N.; Zhang, D.; Wang, W.; Li, X.; Yang, B....</td>\n",
       "      <td>In December 2019, a cluster of patients with p...</td>\n",
       "      <td>2020</td>\n",
       "      <td>NaN</td>\n",
       "      <td>The New England journal of medicine</td>\n",
       "      <td>NaN</td>\n",
       "      <td>NaN</td>\n",
       "      <td>NaN</td>\n",
       "      <td>31978945</td>\n",
       "      <td>10.1056/NEJMoa2001017</td>\n",
       "      <td>24</td>\n",
       "      <td>#8</td>\n",
       "      <td>Zhu 2020</td>\n",
       "      <td>NaN</td>\n",
       "      <td>NaN</td>\n",
       "      <td>8</td>\n",
       "    </tr>\n",
       "    <tr>\n",
       "      <th>3</th>\n",
       "      <td>A Novel Coronavirus Emerging in China - Key Qu...</td>\n",
       "      <td>Munster, V. J.; Koopmans, M.; van Doremalen, N...</td>\n",
       "      <td>NaN</td>\n",
       "      <td>2020</td>\n",
       "      <td>NaN</td>\n",
       "      <td>The New England journal of medicine</td>\n",
       "      <td>NaN</td>\n",
       "      <td>NaN</td>\n",
       "      <td>NaN</td>\n",
       "      <td>31978293</td>\n",
       "      <td>10.1056/NEJMp2000929</td>\n",
       "      <td>25</td>\n",
       "      <td>#9</td>\n",
       "      <td>Munster 2020</td>\n",
       "      <td>NaN</td>\n",
       "      <td>NaN</td>\n",
       "      <td>9</td>\n",
       "    </tr>\n",
       "    <tr>\n",
       "      <th>4</th>\n",
       "      <td>Molecular mechanism for antibody-dependent enh...</td>\n",
       "      <td>Wan, Y.; Shang, J.; Sun, S.; Tai, W.; Chen, J....</td>\n",
       "      <td>Antibody-dependent enhancement (ADE) of viral ...</td>\n",
       "      <td>2019</td>\n",
       "      <td>NaN</td>\n",
       "      <td>Journal of virology</td>\n",
       "      <td>NaN</td>\n",
       "      <td>NaN</td>\n",
       "      <td>NaN</td>\n",
       "      <td>NaN</td>\n",
       "      <td>10.1128/JVI.02015-19</td>\n",
       "      <td>15</td>\n",
       "      <td>#10</td>\n",
       "      <td>Wan 2019</td>\n",
       "      <td>NaN</td>\n",
       "      <td>Other related diseases and viruses; Virology, ...</td>\n",
       "      <td>10</td>\n",
       "    </tr>\n",
       "  </tbody>\n",
       "</table>\n",
       "</div>"
      ],
      "text/plain": [
       "                                               Title  \\\n",
       "0  Recent advances in the detection of respirator...   \n",
       "1  Pneumonia of Unknown Etiology in Wuhan, China:...   \n",
       "2  A Novel Coronavirus from Patients with Pneumon...   \n",
       "3  A Novel Coronavirus Emerging in China - Key Qu...   \n",
       "4  Molecular mechanism for antibody-dependent enh...   \n",
       "\n",
       "                                             Authors  \\\n",
       "0  Zhang, N.; Wang, L.; Deng, X.; Liang, R.; Su, ...   \n",
       "1  Bogoch, I. I.; Watts, A.; Thomas-Bachli, A.; H...   \n",
       "2  Zhu, N.; Zhang, D.; Wang, W.; Li, X.; Yang, B....   \n",
       "3  Munster, V. J.; Koopmans, M.; van Doremalen, N...   \n",
       "4  Wan, Y.; Shang, J.; Sun, S.; Tai, W.; Chen, J....   \n",
       "\n",
       "                                            Abstract Published Year  \\\n",
       "0  Respiratory tract viral infection caused by vi...           2020   \n",
       "1  There is currently an outbreak of a pneumonia ...           2020   \n",
       "2  In December 2019, a cluster of patients with p...           2020   \n",
       "3                                                NaN           2020   \n",
       "4  Antibody-dependent enhancement (ADE) of viral ...           2019   \n",
       "\n",
       "  Published Month                              Journal Volume Issue Pages  \\\n",
       "0             NaN          Journal of medical virology    NaN   NaN   NaN   \n",
       "1             NaN           Journal of travel medicine    NaN   NaN   NaN   \n",
       "2             NaN  The New England journal of medicine    NaN   NaN   NaN   \n",
       "3             NaN  The New England journal of medicine    NaN   NaN   NaN   \n",
       "4             NaN                  Journal of virology    NaN   NaN   NaN   \n",
       "\n",
       "  Accession Number                    DOI Ref Covidence #         Study  \\\n",
       "0         31944312      10.1002/jmv.25674   6          #2    Zhang 2020   \n",
       "1              NaN    10.1093/jtm/taaa008  13          #4   Bogoch 2020   \n",
       "2         31978945  10.1056/NEJMoa2001017  24          #8      Zhu 2020   \n",
       "3         31978293   10.1056/NEJMp2000929  25          #9  Munster 2020   \n",
       "4              NaN   10.1128/JVI.02015-19  15         #10      Wan 2019   \n",
       "\n",
       "                                               Notes  \\\n",
       "0                                                NaN   \n",
       "1  Jose  Garnica (2020-01-29 23:40:16)(Included):...   \n",
       "2                                                NaN   \n",
       "3                                                NaN   \n",
       "4                                                NaN   \n",
       "\n",
       "                                                Tags Cov Num  \n",
       "0  * Narrative review; Clinical aspects, diagnosi...       2  \n",
       "1  * Case study/series; * Epidemiological study; ...       4  \n",
       "2                                                NaN       8  \n",
       "3                                                NaN       9  \n",
       "4  Other related diseases and viruses; Virology, ...      10  "
      ]
     },
     "execution_count": 165,
     "metadata": {},
     "output_type": "execute_result"
    }
   ],
   "source": [
    "df_who.head()"
   ]
  },
  {
   "cell_type": "code",
   "execution_count": 166,
   "metadata": {},
   "outputs": [
    {
     "data": {
      "text/plain": [
       "Index(['Title', 'Authors', 'Abstract', 'Published Year', 'Published Month',\n",
       "       'Journal', 'Volume', 'Issue', 'Pages', 'Accession Number', 'DOI', 'Ref',\n",
       "       'Covidence #', 'Study', 'Notes', 'Tags', 'Cov Num'],\n",
       "      dtype='object')"
      ]
     },
     "execution_count": 166,
     "metadata": {},
     "output_type": "execute_result"
    }
   ],
   "source": [
    "df_who.columns"
   ]
  },
  {
   "cell_type": "code",
   "execution_count": 167,
   "metadata": {},
   "outputs": [],
   "source": [
    "df_who.drop(columns=\"Authors\", inplace=True)"
   ]
  },
  {
   "cell_type": "code",
   "execution_count": 168,
   "metadata": {},
   "outputs": [],
   "source": [
    "df_who.rename(columns={'Title':'title', 'Abstract':'abstract', 'Published Year':'publication_year', 'Published Month':'publication_month',\n",
    "       'Journal':'journal', 'Volume':'volume', 'Issue':'issue', 'Pages':'pages', 'Accession Number':'accession_number', 'DOI':'doi', 'Ref':'ref',\n",
    "       'Covidence #':'covidence', 'Study':'study', 'Notes':'notes', 'Tags':'tags'}, inplace=True)"
   ]
  },
  {
   "cell_type": "code",
   "execution_count": 169,
   "metadata": {},
   "outputs": [],
   "source": [
    "df_who[\"pmid\"] = \"\"\n",
    "df_who[\"pmcid\"] = \"\"\n",
    "df_who[\"dimensions_id\"] = \"\"\n",
    "df_who[\"arxiv_id\"] = \"\"\n",
    "df_who = df_who.fillna('')"
   ]
  },
  {
   "cell_type": "code",
   "execution_count": 170,
   "metadata": {},
   "outputs": [
    {
     "data": {
      "text/html": [
       "<div>\n",
       "<style scoped>\n",
       "    .dataframe tbody tr th:only-of-type {\n",
       "        vertical-align: middle;\n",
       "    }\n",
       "\n",
       "    .dataframe tbody tr th {\n",
       "        vertical-align: top;\n",
       "    }\n",
       "\n",
       "    .dataframe thead th {\n",
       "        text-align: right;\n",
       "    }\n",
       "</style>\n",
       "<table border=\"1\" class=\"dataframe\">\n",
       "  <thead>\n",
       "    <tr style=\"text-align: right;\">\n",
       "      <th></th>\n",
       "      <th>title</th>\n",
       "      <th>abstract</th>\n",
       "      <th>publication_year</th>\n",
       "      <th>publication_month</th>\n",
       "      <th>journal</th>\n",
       "      <th>volume</th>\n",
       "      <th>issue</th>\n",
       "      <th>pages</th>\n",
       "      <th>accession_number</th>\n",
       "      <th>doi</th>\n",
       "      <th>ref</th>\n",
       "      <th>covidence</th>\n",
       "      <th>study</th>\n",
       "      <th>notes</th>\n",
       "      <th>tags</th>\n",
       "      <th>Cov Num</th>\n",
       "      <th>pmid</th>\n",
       "      <th>pmcid</th>\n",
       "      <th>dimensions_id</th>\n",
       "      <th>arxiv_id</th>\n",
       "    </tr>\n",
       "  </thead>\n",
       "  <tbody>\n",
       "    <tr>\n",
       "      <th>0</th>\n",
       "      <td>Recent advances in the detection of respirator...</td>\n",
       "      <td>Respiratory tract viral infection caused by vi...</td>\n",
       "      <td>2020</td>\n",
       "      <td></td>\n",
       "      <td>Journal of medical virology</td>\n",
       "      <td></td>\n",
       "      <td></td>\n",
       "      <td></td>\n",
       "      <td>31944312</td>\n",
       "      <td>10.1002/jmv.25674</td>\n",
       "      <td>6</td>\n",
       "      <td>#2</td>\n",
       "      <td>Zhang 2020</td>\n",
       "      <td></td>\n",
       "      <td>* Narrative review; Clinical aspects, diagnosi...</td>\n",
       "      <td>2</td>\n",
       "      <td></td>\n",
       "      <td></td>\n",
       "      <td></td>\n",
       "      <td></td>\n",
       "    </tr>\n",
       "    <tr>\n",
       "      <th>1</th>\n",
       "      <td>Pneumonia of Unknown Etiology in Wuhan, China:...</td>\n",
       "      <td>There is currently an outbreak of a pneumonia ...</td>\n",
       "      <td>2020</td>\n",
       "      <td></td>\n",
       "      <td>Journal of travel medicine</td>\n",
       "      <td></td>\n",
       "      <td></td>\n",
       "      <td></td>\n",
       "      <td></td>\n",
       "      <td>10.1093/jtm/taaa008</td>\n",
       "      <td>13</td>\n",
       "      <td>#4</td>\n",
       "      <td>Bogoch 2020</td>\n",
       "      <td>Jose  Garnica (2020-01-29 23:40:16)(Included):...</td>\n",
       "      <td>* Case study/series; * Epidemiological study; ...</td>\n",
       "      <td>4</td>\n",
       "      <td></td>\n",
       "      <td></td>\n",
       "      <td></td>\n",
       "      <td></td>\n",
       "    </tr>\n",
       "    <tr>\n",
       "      <th>2</th>\n",
       "      <td>A Novel Coronavirus from Patients with Pneumon...</td>\n",
       "      <td>In December 2019, a cluster of patients with p...</td>\n",
       "      <td>2020</td>\n",
       "      <td></td>\n",
       "      <td>The New England journal of medicine</td>\n",
       "      <td></td>\n",
       "      <td></td>\n",
       "      <td></td>\n",
       "      <td>31978945</td>\n",
       "      <td>10.1056/NEJMoa2001017</td>\n",
       "      <td>24</td>\n",
       "      <td>#8</td>\n",
       "      <td>Zhu 2020</td>\n",
       "      <td></td>\n",
       "      <td></td>\n",
       "      <td>8</td>\n",
       "      <td></td>\n",
       "      <td></td>\n",
       "      <td></td>\n",
       "      <td></td>\n",
       "    </tr>\n",
       "    <tr>\n",
       "      <th>3</th>\n",
       "      <td>A Novel Coronavirus Emerging in China - Key Qu...</td>\n",
       "      <td></td>\n",
       "      <td>2020</td>\n",
       "      <td></td>\n",
       "      <td>The New England journal of medicine</td>\n",
       "      <td></td>\n",
       "      <td></td>\n",
       "      <td></td>\n",
       "      <td>31978293</td>\n",
       "      <td>10.1056/NEJMp2000929</td>\n",
       "      <td>25</td>\n",
       "      <td>#9</td>\n",
       "      <td>Munster 2020</td>\n",
       "      <td></td>\n",
       "      <td></td>\n",
       "      <td>9</td>\n",
       "      <td></td>\n",
       "      <td></td>\n",
       "      <td></td>\n",
       "      <td></td>\n",
       "    </tr>\n",
       "    <tr>\n",
       "      <th>4</th>\n",
       "      <td>Molecular mechanism for antibody-dependent enh...</td>\n",
       "      <td>Antibody-dependent enhancement (ADE) of viral ...</td>\n",
       "      <td>2019</td>\n",
       "      <td></td>\n",
       "      <td>Journal of virology</td>\n",
       "      <td></td>\n",
       "      <td></td>\n",
       "      <td></td>\n",
       "      <td></td>\n",
       "      <td>10.1128/JVI.02015-19</td>\n",
       "      <td>15</td>\n",
       "      <td>#10</td>\n",
       "      <td>Wan 2019</td>\n",
       "      <td></td>\n",
       "      <td>Other related diseases and viruses; Virology, ...</td>\n",
       "      <td>10</td>\n",
       "      <td></td>\n",
       "      <td></td>\n",
       "      <td></td>\n",
       "      <td></td>\n",
       "    </tr>\n",
       "  </tbody>\n",
       "</table>\n",
       "</div>"
      ],
      "text/plain": [
       "                                               title  \\\n",
       "0  Recent advances in the detection of respirator...   \n",
       "1  Pneumonia of Unknown Etiology in Wuhan, China:...   \n",
       "2  A Novel Coronavirus from Patients with Pneumon...   \n",
       "3  A Novel Coronavirus Emerging in China - Key Qu...   \n",
       "4  Molecular mechanism for antibody-dependent enh...   \n",
       "\n",
       "                                            abstract publication_year  \\\n",
       "0  Respiratory tract viral infection caused by vi...             2020   \n",
       "1  There is currently an outbreak of a pneumonia ...             2020   \n",
       "2  In December 2019, a cluster of patients with p...             2020   \n",
       "3                                                                2020   \n",
       "4  Antibody-dependent enhancement (ADE) of viral ...             2019   \n",
       "\n",
       "  publication_month                              journal volume issue pages  \\\n",
       "0                            Journal of medical virology                      \n",
       "1                             Journal of travel medicine                      \n",
       "2                    The New England journal of medicine                      \n",
       "3                    The New England journal of medicine                      \n",
       "4                                    Journal of virology                      \n",
       "\n",
       "  accession_number                    doi ref covidence         study  \\\n",
       "0         31944312      10.1002/jmv.25674   6        #2    Zhang 2020   \n",
       "1                     10.1093/jtm/taaa008  13        #4   Bogoch 2020   \n",
       "2         31978945  10.1056/NEJMoa2001017  24        #8      Zhu 2020   \n",
       "3         31978293   10.1056/NEJMp2000929  25        #9  Munster 2020   \n",
       "4                    10.1128/JVI.02015-19  15       #10      Wan 2019   \n",
       "\n",
       "                                               notes  \\\n",
       "0                                                      \n",
       "1  Jose  Garnica (2020-01-29 23:40:16)(Included):...   \n",
       "2                                                      \n",
       "3                                                      \n",
       "4                                                      \n",
       "\n",
       "                                                tags Cov Num pmid pmcid  \\\n",
       "0  * Narrative review; Clinical aspects, diagnosi...       2              \n",
       "1  * Case study/series; * Epidemiological study; ...       4              \n",
       "2                                                          8              \n",
       "3                                                          9              \n",
       "4  Other related diseases and viruses; Virology, ...      10              \n",
       "\n",
       "  dimensions_id arxiv_id  \n",
       "0                         \n",
       "1                         \n",
       "2                         \n",
       "3                         \n",
       "4                         "
      ]
     },
     "execution_count": 170,
     "metadata": {},
     "output_type": "execute_result"
    }
   ],
   "source": [
    "df_who.head()"
   ]
  },
  {
   "cell_type": "code",
   "execution_count": 171,
   "metadata": {},
   "outputs": [
    {
     "data": {
      "text/plain": [
       "(1784, 20)"
      ]
     },
     "execution_count": 171,
     "metadata": {},
     "output_type": "execute_result"
    }
   ],
   "source": [
    "df_who[df_who.doi==\"\"].shape"
   ]
  },
  {
   "cell_type": "markdown",
   "metadata": {},
   "source": [
    "##### CORD19"
   ]
  },
  {
   "cell_type": "code",
   "execution_count": 172,
   "metadata": {},
   "outputs": [
    {
     "data": {
      "text/html": [
       "<div>\n",
       "<style scoped>\n",
       "    .dataframe tbody tr th:only-of-type {\n",
       "        vertical-align: middle;\n",
       "    }\n",
       "\n",
       "    .dataframe tbody tr th {\n",
       "        vertical-align: top;\n",
       "    }\n",
       "\n",
       "    .dataframe thead th {\n",
       "        text-align: right;\n",
       "    }\n",
       "</style>\n",
       "<table border=\"1\" class=\"dataframe\">\n",
       "  <thead>\n",
       "    <tr style=\"text-align: right;\">\n",
       "      <th></th>\n",
       "      <th>cord_uid</th>\n",
       "      <th>sha</th>\n",
       "      <th>source_x</th>\n",
       "      <th>title</th>\n",
       "      <th>doi</th>\n",
       "      <th>pmcid</th>\n",
       "      <th>pubmed_id</th>\n",
       "      <th>license</th>\n",
       "      <th>abstract</th>\n",
       "      <th>publish_time</th>\n",
       "      <th>authors</th>\n",
       "      <th>journal</th>\n",
       "      <th>mag_id</th>\n",
       "      <th>who_covidence_id</th>\n",
       "      <th>arxiv_id</th>\n",
       "      <th>pdf_json_files</th>\n",
       "      <th>pmc_json_files</th>\n",
       "      <th>url</th>\n",
       "      <th>s2_id</th>\n",
       "    </tr>\n",
       "  </thead>\n",
       "  <tbody>\n",
       "    <tr>\n",
       "      <th>0</th>\n",
       "      <td>ug7v899j</td>\n",
       "      <td>d1aafb70c066a2068b02786f8929fd9c900897fb</td>\n",
       "      <td>PMC</td>\n",
       "      <td>Clinical features of culture-proven Mycoplasma...</td>\n",
       "      <td>10.1186/1471-2334-1-6</td>\n",
       "      <td>PMC35282</td>\n",
       "      <td>11472636</td>\n",
       "      <td>no-cc</td>\n",
       "      <td>OBJECTIVE: This retrospective chart review des...</td>\n",
       "      <td>2001-07-04</td>\n",
       "      <td>Madani, Tariq A; Al-Ghamdi, Aisha A</td>\n",
       "      <td>BMC Infect Dis</td>\n",
       "      <td>NaN</td>\n",
       "      <td>NaN</td>\n",
       "      <td>NaN</td>\n",
       "      <td>document_parses/pdf_json/d1aafb70c066a2068b027...</td>\n",
       "      <td>document_parses/pmc_json/PMC35282.xml.json</td>\n",
       "      <td>https://www.ncbi.nlm.nih.gov/pmc/articles/PMC3...</td>\n",
       "      <td>NaN</td>\n",
       "    </tr>\n",
       "    <tr>\n",
       "      <th>1</th>\n",
       "      <td>02tnwd4m</td>\n",
       "      <td>6b0567729c2143a66d737eb0a2f63f2dce2e5a7d</td>\n",
       "      <td>PMC</td>\n",
       "      <td>Nitric oxide: a pro-inflammatory mediator in l...</td>\n",
       "      <td>10.1186/rr14</td>\n",
       "      <td>PMC59543</td>\n",
       "      <td>11667967</td>\n",
       "      <td>no-cc</td>\n",
       "      <td>Inflammatory diseases of the respiratory tract...</td>\n",
       "      <td>2000-08-15</td>\n",
       "      <td>Vliet, Albert van der; Eiserich, Jason P; Cros...</td>\n",
       "      <td>Respir Res</td>\n",
       "      <td>NaN</td>\n",
       "      <td>NaN</td>\n",
       "      <td>NaN</td>\n",
       "      <td>document_parses/pdf_json/6b0567729c2143a66d737...</td>\n",
       "      <td>document_parses/pmc_json/PMC59543.xml.json</td>\n",
       "      <td>https://www.ncbi.nlm.nih.gov/pmc/articles/PMC5...</td>\n",
       "      <td>NaN</td>\n",
       "    </tr>\n",
       "    <tr>\n",
       "      <th>2</th>\n",
       "      <td>ejv2xln0</td>\n",
       "      <td>06ced00a5fc04215949aa72528f2eeaae1d58927</td>\n",
       "      <td>PMC</td>\n",
       "      <td>Surfactant protein-D and pulmonary host defense</td>\n",
       "      <td>10.1186/rr19</td>\n",
       "      <td>PMC59549</td>\n",
       "      <td>11667972</td>\n",
       "      <td>no-cc</td>\n",
       "      <td>Surfactant protein-D (SP-D) participates in th...</td>\n",
       "      <td>2000-08-25</td>\n",
       "      <td>Crouch, Erika C</td>\n",
       "      <td>Respir Res</td>\n",
       "      <td>NaN</td>\n",
       "      <td>NaN</td>\n",
       "      <td>NaN</td>\n",
       "      <td>document_parses/pdf_json/06ced00a5fc04215949aa...</td>\n",
       "      <td>document_parses/pmc_json/PMC59549.xml.json</td>\n",
       "      <td>https://www.ncbi.nlm.nih.gov/pmc/articles/PMC5...</td>\n",
       "      <td>NaN</td>\n",
       "    </tr>\n",
       "    <tr>\n",
       "      <th>3</th>\n",
       "      <td>2b73a28n</td>\n",
       "      <td>348055649b6b8cf2b9a376498df9bf41f7123605</td>\n",
       "      <td>PMC</td>\n",
       "      <td>Role of endothelin-1 in lung disease</td>\n",
       "      <td>10.1186/rr44</td>\n",
       "      <td>PMC59574</td>\n",
       "      <td>11686871</td>\n",
       "      <td>no-cc</td>\n",
       "      <td>Endothelin-1 (ET-1) is a 21 amino acid peptide...</td>\n",
       "      <td>2001-02-22</td>\n",
       "      <td>Fagan, Karen A; McMurtry, Ivan F; Rodman, David M</td>\n",
       "      <td>Respir Res</td>\n",
       "      <td>NaN</td>\n",
       "      <td>NaN</td>\n",
       "      <td>NaN</td>\n",
       "      <td>document_parses/pdf_json/348055649b6b8cf2b9a37...</td>\n",
       "      <td>document_parses/pmc_json/PMC59574.xml.json</td>\n",
       "      <td>https://www.ncbi.nlm.nih.gov/pmc/articles/PMC5...</td>\n",
       "      <td>NaN</td>\n",
       "    </tr>\n",
       "    <tr>\n",
       "      <th>4</th>\n",
       "      <td>9785vg6d</td>\n",
       "      <td>5f48792a5fa08bed9f56016f4981ae2ca6031b32</td>\n",
       "      <td>PMC</td>\n",
       "      <td>Gene expression in epithelial cells in respons...</td>\n",
       "      <td>10.1186/rr61</td>\n",
       "      <td>PMC59580</td>\n",
       "      <td>11686888</td>\n",
       "      <td>no-cc</td>\n",
       "      <td>Respiratory syncytial virus (RSV) and pneumoni...</td>\n",
       "      <td>2001-05-11</td>\n",
       "      <td>Domachowske, Joseph B; Bonville, Cynthia A; Ro...</td>\n",
       "      <td>Respir Res</td>\n",
       "      <td>NaN</td>\n",
       "      <td>NaN</td>\n",
       "      <td>NaN</td>\n",
       "      <td>document_parses/pdf_json/5f48792a5fa08bed9f560...</td>\n",
       "      <td>document_parses/pmc_json/PMC59580.xml.json</td>\n",
       "      <td>https://www.ncbi.nlm.nih.gov/pmc/articles/PMC5...</td>\n",
       "      <td>NaN</td>\n",
       "    </tr>\n",
       "  </tbody>\n",
       "</table>\n",
       "</div>"
      ],
      "text/plain": [
       "   cord_uid                                       sha source_x  \\\n",
       "0  ug7v899j  d1aafb70c066a2068b02786f8929fd9c900897fb      PMC   \n",
       "1  02tnwd4m  6b0567729c2143a66d737eb0a2f63f2dce2e5a7d      PMC   \n",
       "2  ejv2xln0  06ced00a5fc04215949aa72528f2eeaae1d58927      PMC   \n",
       "3  2b73a28n  348055649b6b8cf2b9a376498df9bf41f7123605      PMC   \n",
       "4  9785vg6d  5f48792a5fa08bed9f56016f4981ae2ca6031b32      PMC   \n",
       "\n",
       "                                               title                    doi  \\\n",
       "0  Clinical features of culture-proven Mycoplasma...  10.1186/1471-2334-1-6   \n",
       "1  Nitric oxide: a pro-inflammatory mediator in l...           10.1186/rr14   \n",
       "2    Surfactant protein-D and pulmonary host defense           10.1186/rr19   \n",
       "3               Role of endothelin-1 in lung disease           10.1186/rr44   \n",
       "4  Gene expression in epithelial cells in respons...           10.1186/rr61   \n",
       "\n",
       "      pmcid pubmed_id license  \\\n",
       "0  PMC35282  11472636   no-cc   \n",
       "1  PMC59543  11667967   no-cc   \n",
       "2  PMC59549  11667972   no-cc   \n",
       "3  PMC59574  11686871   no-cc   \n",
       "4  PMC59580  11686888   no-cc   \n",
       "\n",
       "                                            abstract publish_time  \\\n",
       "0  OBJECTIVE: This retrospective chart review des...   2001-07-04   \n",
       "1  Inflammatory diseases of the respiratory tract...   2000-08-15   \n",
       "2  Surfactant protein-D (SP-D) participates in th...   2000-08-25   \n",
       "3  Endothelin-1 (ET-1) is a 21 amino acid peptide...   2001-02-22   \n",
       "4  Respiratory syncytial virus (RSV) and pneumoni...   2001-05-11   \n",
       "\n",
       "                                             authors         journal mag_id  \\\n",
       "0                Madani, Tariq A; Al-Ghamdi, Aisha A  BMC Infect Dis    NaN   \n",
       "1  Vliet, Albert van der; Eiserich, Jason P; Cros...      Respir Res    NaN   \n",
       "2                                    Crouch, Erika C      Respir Res    NaN   \n",
       "3  Fagan, Karen A; McMurtry, Ivan F; Rodman, David M      Respir Res    NaN   \n",
       "4  Domachowske, Joseph B; Bonville, Cynthia A; Ro...      Respir Res    NaN   \n",
       "\n",
       "  who_covidence_id arxiv_id  \\\n",
       "0              NaN      NaN   \n",
       "1              NaN      NaN   \n",
       "2              NaN      NaN   \n",
       "3              NaN      NaN   \n",
       "4              NaN      NaN   \n",
       "\n",
       "                                      pdf_json_files  \\\n",
       "0  document_parses/pdf_json/d1aafb70c066a2068b027...   \n",
       "1  document_parses/pdf_json/6b0567729c2143a66d737...   \n",
       "2  document_parses/pdf_json/06ced00a5fc04215949aa...   \n",
       "3  document_parses/pdf_json/348055649b6b8cf2b9a37...   \n",
       "4  document_parses/pdf_json/5f48792a5fa08bed9f560...   \n",
       "\n",
       "                               pmc_json_files  \\\n",
       "0  document_parses/pmc_json/PMC35282.xml.json   \n",
       "1  document_parses/pmc_json/PMC59543.xml.json   \n",
       "2  document_parses/pmc_json/PMC59549.xml.json   \n",
       "3  document_parses/pmc_json/PMC59574.xml.json   \n",
       "4  document_parses/pmc_json/PMC59580.xml.json   \n",
       "\n",
       "                                                 url s2_id  \n",
       "0  https://www.ncbi.nlm.nih.gov/pmc/articles/PMC3...   NaN  \n",
       "1  https://www.ncbi.nlm.nih.gov/pmc/articles/PMC5...   NaN  \n",
       "2  https://www.ncbi.nlm.nih.gov/pmc/articles/PMC5...   NaN  \n",
       "3  https://www.ncbi.nlm.nih.gov/pmc/articles/PMC5...   NaN  \n",
       "4  https://www.ncbi.nlm.nih.gov/pmc/articles/PMC5...   NaN  "
      ]
     },
     "execution_count": 172,
     "metadata": {},
     "output_type": "execute_result"
    }
   ],
   "source": [
    "df_cord.head()"
   ]
  },
  {
   "cell_type": "code",
   "execution_count": 173,
   "metadata": {},
   "outputs": [
    {
     "data": {
      "text/plain": [
       "unk            61802\n",
       "no-cc          32803\n",
       "cc-by          11891\n",
       "els-covid      11702\n",
       "medrxiv         3186\n",
       "cc-by-nc        1531\n",
       "arxiv           1348\n",
       "cc-by-nc-nd      899\n",
       "green-oa         872\n",
       "biorxiv          864\n",
       "bronze-oa        586\n",
       "cc-by-nc-sa      551\n",
       "cc0              280\n",
       "hybrid-oa        128\n",
       "gold-oa           41\n",
       "cc-by-nd           6\n",
       "cc-by-sa           2\n",
       "Name: license, dtype: int64"
      ]
     },
     "execution_count": 173,
     "metadata": {},
     "output_type": "execute_result"
    }
   ],
   "source": [
    "df_cord[\"license\"].value_counts()"
   ]
  },
  {
   "cell_type": "code",
   "execution_count": 174,
   "metadata": {},
   "outputs": [
    {
     "data": {
      "text/plain": [
       "Medline                               49338\n",
       "PMC                                   25512\n",
       "Medline; PMC                          14955\n",
       "WHO                                    9931\n",
       "Elsevier; Medline; PMC                 9809\n",
       "Elsevier; PMC                          5899\n",
       "MedRxiv                                2958\n",
       "Medline; WHO                           2407\n",
       "Elsevier; Medline; PMC; WHO            2376\n",
       "Medline; PMC; WHO                      1444\n",
       "ArXiv                                  1329\n",
       "BioRxiv                                 752\n",
       "Elsevier; PMC; WHO                      555\n",
       "Elsevier                                351\n",
       "BioRxiv; MedRxiv                        338\n",
       "PMC; WHO                                171\n",
       "Elsevier; Medline                       126\n",
       "Elsevier; Medline; WHO                  125\n",
       "Elsevier; WHO                            48\n",
       "ArXiv; Medline; PMC                      21\n",
       "ArXiv; Elsevier; Medline; PMC            13\n",
       "ArXiv; Medline                           12\n",
       "ArXiv; Elsevier; Medline; PMC; WHO        5\n",
       "ArXiv; PMC                                4\n",
       "ArXiv; Medline; PMC; WHO                  3\n",
       "ArXiv; Elsevier; PMC                      2\n",
       "MedRxiv; WHO                              2\n",
       "ArXiv; Elsevier; PMC; WHO                 1\n",
       "ArXiv; Medline; WHO                       1\n",
       "ArXiv; Elsevier                           1\n",
       "ArXiv; MedRxiv                            1\n",
       "ArXiv; WHO                                1\n",
       "ArXiv; PMC; WHO                           1\n",
       "Name: source_x, dtype: int64"
      ]
     },
     "execution_count": 174,
     "metadata": {},
     "output_type": "execute_result"
    }
   ],
   "source": [
    "df_cord[\"source_x\"].value_counts()"
   ]
  },
  {
   "cell_type": "code",
   "execution_count": 175,
   "metadata": {},
   "outputs": [
    {
     "data": {
      "text/plain": [
       "(58457, 19)"
      ]
     },
     "execution_count": 175,
     "metadata": {},
     "output_type": "execute_result"
    }
   ],
   "source": [
    "# how many full text files\n",
    "df_cord[(pd.notnull(df_cord.pdf_json_files))|(pd.notnull(df_cord.pmc_json_files))].shape"
   ]
  },
  {
   "cell_type": "code",
   "execution_count": 176,
   "metadata": {},
   "outputs": [
    {
     "data": {
      "text/plain": [
       "0.4549466114621922"
      ]
     },
     "execution_count": 176,
     "metadata": {},
     "output_type": "execute_result"
    }
   ],
   "source": [
    "df_cord[(pd.notnull(df_cord.pdf_json_files))|(pd.notnull(df_cord.pmc_json_files))].shape[0]/df_cord.shape[0]"
   ]
  },
  {
   "cell_type": "code",
   "execution_count": 177,
   "metadata": {},
   "outputs": [
    {
     "data": {
      "text/plain": [
       "0.0"
      ]
     },
     "execution_count": 177,
     "metadata": {},
     "output_type": "execute_result"
    }
   ],
   "source": [
    "# check Medline\n",
    "df_cord[(df_cord.source_x==\"Medline\")&((pd.notnull(df_cord.pdf_json_files))|(pd.notnull(df_cord.pmc_json_files)))].shape[0]/df_cord[(df_cord.source_x==\"Medline\")].shape[0]"
   ]
  },
  {
   "cell_type": "code",
   "execution_count": 178,
   "metadata": {},
   "outputs": [
    {
     "data": {
      "text/plain": [
       "49338"
      ]
     },
     "execution_count": 178,
     "metadata": {},
     "output_type": "execute_result"
    }
   ],
   "source": [
    "df_cord[(df_cord.source_x==\"Medline\")].shape[0]"
   ]
  },
  {
   "cell_type": "code",
   "execution_count": 179,
   "metadata": {},
   "outputs": [
    {
     "data": {
      "text/plain": [
       "0.7385223741061728"
      ]
     },
     "execution_count": 179,
     "metadata": {},
     "output_type": "execute_result"
    }
   ],
   "source": [
    "# check NOT Medline\n",
    "df_cord[(df_cord.source_x!=\"Medline\")&((pd.notnull(df_cord.pdf_json_files))|(pd.notnull(df_cord.pmc_json_files)))].shape[0]/df_cord[(df_cord.source_x!=\"Medline\")].shape[0]"
   ]
  },
  {
   "cell_type": "code",
   "execution_count": 180,
   "metadata": {},
   "outputs": [
    {
     "data": {
      "text/plain": [
       "79154"
      ]
     },
     "execution_count": 180,
     "metadata": {},
     "output_type": "execute_result"
    }
   ],
   "source": [
    "df_cord[(df_cord.source_x!=\"Medline\")].shape[0]"
   ]
  },
  {
   "cell_type": "code",
   "execution_count": 181,
   "metadata": {},
   "outputs": [],
   "source": [
    "# NEW columns (for now, we drop)\n",
    "df_cord.drop(columns=[\"cord_uid\",\"url\",\"pdf_json_files\",\"pmc_json_files\",\"s2_id\"],inplace=True)"
   ]
  },
  {
   "cell_type": "code",
   "execution_count": 182,
   "metadata": {},
   "outputs": [
    {
     "data": {
      "text/plain": [
       "Index(['sha', 'source_x', 'title', 'doi', 'pmcid', 'pubmed_id', 'license',\n",
       "       'abstract', 'publish_time', 'authors', 'journal', 'mag_id',\n",
       "       'who_covidence_id', 'arxiv_id'],\n",
       "      dtype='object')"
      ]
     },
     "execution_count": 182,
     "metadata": {},
     "output_type": "execute_result"
    }
   ],
   "source": [
    "df_cord.columns"
   ]
  },
  {
   "cell_type": "code",
   "execution_count": 183,
   "metadata": {},
   "outputs": [],
   "source": [
    "df_cord.drop(columns='authors', inplace=True)\n",
    "df_cord = df_cord.fillna('')"
   ]
  },
  {
   "cell_type": "code",
   "execution_count": 184,
   "metadata": {},
   "outputs": [],
   "source": [
    "df_cord.rename(columns={'source_x':'source', 'pubmed_id': 'pmid',\n",
    "       'mag_id': 'ms_academic_id', 'who_covidence_id': 'who_covidence'}, inplace=True)"
   ]
  },
  {
   "cell_type": "code",
   "execution_count": 185,
   "metadata": {},
   "outputs": [],
   "source": [
    "df_cord[\"publication_year\"] = df_cord[\"publish_time\"].apply(get_year)\n",
    "df_cord[\"publication_month\"] = df_cord[\"publish_time\"].apply(get_month)"
   ]
  },
  {
   "cell_type": "code",
   "execution_count": 186,
   "metadata": {},
   "outputs": [],
   "source": [
    "df_cord.drop(columns='publish_time', inplace=True)"
   ]
  },
  {
   "cell_type": "code",
   "execution_count": 187,
   "metadata": {},
   "outputs": [],
   "source": [
    "df_cord['pages'] = \"\"\n",
    "df_cord['volume'] = \"\"\n",
    "df_cord['issue'] = \"\"\n",
    "df_cord[\"dimensions_id\"] = \"\""
   ]
  },
  {
   "cell_type": "code",
   "execution_count": 188,
   "metadata": {},
   "outputs": [
    {
     "data": {
      "text/html": [
       "<div>\n",
       "<style scoped>\n",
       "    .dataframe tbody tr th:only-of-type {\n",
       "        vertical-align: middle;\n",
       "    }\n",
       "\n",
       "    .dataframe tbody tr th {\n",
       "        vertical-align: top;\n",
       "    }\n",
       "\n",
       "    .dataframe thead th {\n",
       "        text-align: right;\n",
       "    }\n",
       "</style>\n",
       "<table border=\"1\" class=\"dataframe\">\n",
       "  <thead>\n",
       "    <tr style=\"text-align: right;\">\n",
       "      <th></th>\n",
       "      <th>sha</th>\n",
       "      <th>source</th>\n",
       "      <th>title</th>\n",
       "      <th>doi</th>\n",
       "      <th>pmcid</th>\n",
       "      <th>pmid</th>\n",
       "      <th>license</th>\n",
       "      <th>abstract</th>\n",
       "      <th>journal</th>\n",
       "      <th>ms_academic_id</th>\n",
       "      <th>who_covidence</th>\n",
       "      <th>arxiv_id</th>\n",
       "      <th>publication_year</th>\n",
       "      <th>publication_month</th>\n",
       "      <th>pages</th>\n",
       "      <th>volume</th>\n",
       "      <th>issue</th>\n",
       "      <th>dimensions_id</th>\n",
       "    </tr>\n",
       "  </thead>\n",
       "  <tbody>\n",
       "    <tr>\n",
       "      <th>0</th>\n",
       "      <td>d1aafb70c066a2068b02786f8929fd9c900897fb</td>\n",
       "      <td>PMC</td>\n",
       "      <td>Clinical features of culture-proven Mycoplasma...</td>\n",
       "      <td>10.1186/1471-2334-1-6</td>\n",
       "      <td>PMC35282</td>\n",
       "      <td>11472636</td>\n",
       "      <td>no-cc</td>\n",
       "      <td>OBJECTIVE: This retrospective chart review des...</td>\n",
       "      <td>BMC Infect Dis</td>\n",
       "      <td></td>\n",
       "      <td></td>\n",
       "      <td></td>\n",
       "      <td>2001</td>\n",
       "      <td>7</td>\n",
       "      <td></td>\n",
       "      <td></td>\n",
       "      <td></td>\n",
       "      <td></td>\n",
       "    </tr>\n",
       "    <tr>\n",
       "      <th>1</th>\n",
       "      <td>6b0567729c2143a66d737eb0a2f63f2dce2e5a7d</td>\n",
       "      <td>PMC</td>\n",
       "      <td>Nitric oxide: a pro-inflammatory mediator in l...</td>\n",
       "      <td>10.1186/rr14</td>\n",
       "      <td>PMC59543</td>\n",
       "      <td>11667967</td>\n",
       "      <td>no-cc</td>\n",
       "      <td>Inflammatory diseases of the respiratory tract...</td>\n",
       "      <td>Respir Res</td>\n",
       "      <td></td>\n",
       "      <td></td>\n",
       "      <td></td>\n",
       "      <td>2000</td>\n",
       "      <td>8</td>\n",
       "      <td></td>\n",
       "      <td></td>\n",
       "      <td></td>\n",
       "      <td></td>\n",
       "    </tr>\n",
       "    <tr>\n",
       "      <th>2</th>\n",
       "      <td>06ced00a5fc04215949aa72528f2eeaae1d58927</td>\n",
       "      <td>PMC</td>\n",
       "      <td>Surfactant protein-D and pulmonary host defense</td>\n",
       "      <td>10.1186/rr19</td>\n",
       "      <td>PMC59549</td>\n",
       "      <td>11667972</td>\n",
       "      <td>no-cc</td>\n",
       "      <td>Surfactant protein-D (SP-D) participates in th...</td>\n",
       "      <td>Respir Res</td>\n",
       "      <td></td>\n",
       "      <td></td>\n",
       "      <td></td>\n",
       "      <td>2000</td>\n",
       "      <td>8</td>\n",
       "      <td></td>\n",
       "      <td></td>\n",
       "      <td></td>\n",
       "      <td></td>\n",
       "    </tr>\n",
       "    <tr>\n",
       "      <th>3</th>\n",
       "      <td>348055649b6b8cf2b9a376498df9bf41f7123605</td>\n",
       "      <td>PMC</td>\n",
       "      <td>Role of endothelin-1 in lung disease</td>\n",
       "      <td>10.1186/rr44</td>\n",
       "      <td>PMC59574</td>\n",
       "      <td>11686871</td>\n",
       "      <td>no-cc</td>\n",
       "      <td>Endothelin-1 (ET-1) is a 21 amino acid peptide...</td>\n",
       "      <td>Respir Res</td>\n",
       "      <td></td>\n",
       "      <td></td>\n",
       "      <td></td>\n",
       "      <td>2001</td>\n",
       "      <td>2</td>\n",
       "      <td></td>\n",
       "      <td></td>\n",
       "      <td></td>\n",
       "      <td></td>\n",
       "    </tr>\n",
       "    <tr>\n",
       "      <th>4</th>\n",
       "      <td>5f48792a5fa08bed9f56016f4981ae2ca6031b32</td>\n",
       "      <td>PMC</td>\n",
       "      <td>Gene expression in epithelial cells in respons...</td>\n",
       "      <td>10.1186/rr61</td>\n",
       "      <td>PMC59580</td>\n",
       "      <td>11686888</td>\n",
       "      <td>no-cc</td>\n",
       "      <td>Respiratory syncytial virus (RSV) and pneumoni...</td>\n",
       "      <td>Respir Res</td>\n",
       "      <td></td>\n",
       "      <td></td>\n",
       "      <td></td>\n",
       "      <td>2001</td>\n",
       "      <td>5</td>\n",
       "      <td></td>\n",
       "      <td></td>\n",
       "      <td></td>\n",
       "      <td></td>\n",
       "    </tr>\n",
       "  </tbody>\n",
       "</table>\n",
       "</div>"
      ],
      "text/plain": [
       "                                        sha source  \\\n",
       "0  d1aafb70c066a2068b02786f8929fd9c900897fb    PMC   \n",
       "1  6b0567729c2143a66d737eb0a2f63f2dce2e5a7d    PMC   \n",
       "2  06ced00a5fc04215949aa72528f2eeaae1d58927    PMC   \n",
       "3  348055649b6b8cf2b9a376498df9bf41f7123605    PMC   \n",
       "4  5f48792a5fa08bed9f56016f4981ae2ca6031b32    PMC   \n",
       "\n",
       "                                               title                    doi  \\\n",
       "0  Clinical features of culture-proven Mycoplasma...  10.1186/1471-2334-1-6   \n",
       "1  Nitric oxide: a pro-inflammatory mediator in l...           10.1186/rr14   \n",
       "2    Surfactant protein-D and pulmonary host defense           10.1186/rr19   \n",
       "3               Role of endothelin-1 in lung disease           10.1186/rr44   \n",
       "4  Gene expression in epithelial cells in respons...           10.1186/rr61   \n",
       "\n",
       "      pmcid      pmid license  \\\n",
       "0  PMC35282  11472636   no-cc   \n",
       "1  PMC59543  11667967   no-cc   \n",
       "2  PMC59549  11667972   no-cc   \n",
       "3  PMC59574  11686871   no-cc   \n",
       "4  PMC59580  11686888   no-cc   \n",
       "\n",
       "                                            abstract         journal  \\\n",
       "0  OBJECTIVE: This retrospective chart review des...  BMC Infect Dis   \n",
       "1  Inflammatory diseases of the respiratory tract...      Respir Res   \n",
       "2  Surfactant protein-D (SP-D) participates in th...      Respir Res   \n",
       "3  Endothelin-1 (ET-1) is a 21 amino acid peptide...      Respir Res   \n",
       "4  Respiratory syncytial virus (RSV) and pneumoni...      Respir Res   \n",
       "\n",
       "  ms_academic_id who_covidence arxiv_id publication_year publication_month  \\\n",
       "0                                                   2001                 7   \n",
       "1                                                   2000                 8   \n",
       "2                                                   2000                 8   \n",
       "3                                                   2001                 2   \n",
       "4                                                   2001                 5   \n",
       "\n",
       "  pages volume issue dimensions_id  \n",
       "0                                   \n",
       "1                                   \n",
       "2                                   \n",
       "3                                   \n",
       "4                                   "
      ]
     },
     "execution_count": 188,
     "metadata": {},
     "output_type": "execute_result"
    }
   ],
   "source": [
    "df_cord.head()"
   ]
  },
  {
   "cell_type": "code",
   "execution_count": 189,
   "metadata": {},
   "outputs": [
    {
     "data": {
      "text/plain": [
       "(27906, 18)"
      ]
     },
     "execution_count": 189,
     "metadata": {},
     "output_type": "execute_result"
    }
   ],
   "source": [
    "df_cord[(df_cord.doi==\"\") & ((df_cord.sha!=\"\") | (df_cord.pmid!=\"\") | (df_cord.pmcid!=\"\") | df_cord.arxiv_id!=\"\")].shape"
   ]
  },
  {
   "cell_type": "code",
   "execution_count": 190,
   "metadata": {},
   "outputs": [
    {
     "data": {
      "text/plain": [
       "(10474, 18)"
      ]
     },
     "execution_count": 190,
     "metadata": {},
     "output_type": "execute_result"
    }
   ],
   "source": [
    "df_cord[(df_cord.doi==\"\") & (df_cord.pmid==\"\") & (df_cord.pmcid==\"\")].shape"
   ]
  },
  {
   "cell_type": "code",
   "execution_count": 191,
   "metadata": {},
   "outputs": [
    {
     "data": {
      "text/plain": [
       "(1273, 18)"
      ]
     },
     "execution_count": 191,
     "metadata": {},
     "output_type": "execute_result"
    }
   ],
   "source": [
    "df_cord[((df_cord.doi==\"\") & (df_cord.pmid==\"\") & (df_cord.pmcid==\"\"))&(df_cord.arxiv_id!=\"\")].shape"
   ]
  },
  {
   "cell_type": "code",
   "execution_count": 192,
   "metadata": {},
   "outputs": [
    {
     "data": {
      "text/plain": [
       "(32442, 18)"
      ]
     },
     "execution_count": 192,
     "metadata": {},
     "output_type": "execute_result"
    }
   ],
   "source": [
    "df_dimensions.shape"
   ]
  },
  {
   "cell_type": "code",
   "execution_count": 193,
   "metadata": {},
   "outputs": [
    {
     "data": {
      "text/plain": [
       "(20641, 20)"
      ]
     },
     "execution_count": 193,
     "metadata": {},
     "output_type": "execute_result"
    }
   ],
   "source": [
    "df_who.shape"
   ]
  },
  {
   "cell_type": "code",
   "execution_count": 194,
   "metadata": {},
   "outputs": [
    {
     "data": {
      "text/plain": [
       "(128492, 18)"
      ]
     },
     "execution_count": 194,
     "metadata": {},
     "output_type": "execute_result"
    }
   ],
   "source": [
    "df_cord.shape"
   ]
  },
  {
   "cell_type": "code",
   "execution_count": 195,
   "metadata": {},
   "outputs": [
    {
     "data": {
      "text/plain": [
       "(861, 18)"
      ]
     },
     "execution_count": 195,
     "metadata": {},
     "output_type": "execute_result"
    }
   ],
   "source": [
    "df_dimensions[((df_dimensions.doi==\"\") & (df_dimensions.pmid==\"\") & (df_dimensions.pmcid==\"\"))&(df_dimensions.journal==\"arXiv\")].shape"
   ]
  },
  {
   "cell_type": "code",
   "execution_count": 196,
   "metadata": {},
   "outputs": [
    {
     "data": {
      "text/plain": [
       "(861, 18)"
      ]
     },
     "execution_count": 196,
     "metadata": {},
     "output_type": "execute_result"
    }
   ],
   "source": [
    "df_dimensions[df_dimensions.journal==\"arXiv\"].shape"
   ]
  },
  {
   "cell_type": "code",
   "execution_count": 197,
   "metadata": {},
   "outputs": [
    {
     "data": {
      "text/plain": [
       "(1395, 18)"
      ]
     },
     "execution_count": 197,
     "metadata": {},
     "output_type": "execute_result"
    }
   ],
   "source": [
    "df_cord[df_cord.arxiv_id!=\"\"].shape"
   ]
  },
  {
   "cell_type": "code",
   "execution_count": 198,
   "metadata": {},
   "outputs": [
    {
     "data": {
      "text/html": [
       "<div>\n",
       "<style scoped>\n",
       "    .dataframe tbody tr th:only-of-type {\n",
       "        vertical-align: middle;\n",
       "    }\n",
       "\n",
       "    .dataframe tbody tr th {\n",
       "        vertical-align: top;\n",
       "    }\n",
       "\n",
       "    .dataframe thead th {\n",
       "        text-align: right;\n",
       "    }\n",
       "</style>\n",
       "<table border=\"1\" class=\"dataframe\">\n",
       "  <thead>\n",
       "    <tr style=\"text-align: right;\">\n",
       "      <th></th>\n",
       "      <th>sha</th>\n",
       "      <th>source</th>\n",
       "      <th>title</th>\n",
       "      <th>doi</th>\n",
       "      <th>pmcid</th>\n",
       "      <th>pmid</th>\n",
       "      <th>license</th>\n",
       "      <th>abstract</th>\n",
       "      <th>journal</th>\n",
       "      <th>ms_academic_id</th>\n",
       "      <th>who_covidence</th>\n",
       "      <th>arxiv_id</th>\n",
       "      <th>publication_year</th>\n",
       "      <th>publication_month</th>\n",
       "      <th>pages</th>\n",
       "      <th>volume</th>\n",
       "      <th>issue</th>\n",
       "      <th>dimensions_id</th>\n",
       "    </tr>\n",
       "  </thead>\n",
       "  <tbody>\n",
       "    <tr>\n",
       "      <th>82751</th>\n",
       "      <td>bc411487f305e451d7485e53202ec241fcc97d3b</td>\n",
       "      <td>ArXiv</td>\n",
       "      <td>CORD-19: The Covid-19 Open Research Dataset</td>\n",
       "      <td></td>\n",
       "      <td></td>\n",
       "      <td></td>\n",
       "      <td>arxiv</td>\n",
       "      <td>The Covid-19 Open Research Dataset (CORD-19) i...</td>\n",
       "      <td></td>\n",
       "      <td></td>\n",
       "      <td></td>\n",
       "      <td>2004.10706</td>\n",
       "      <td>2020</td>\n",
       "      <td>4</td>\n",
       "      <td></td>\n",
       "      <td></td>\n",
       "      <td></td>\n",
       "      <td></td>\n",
       "    </tr>\n",
       "  </tbody>\n",
       "</table>\n",
       "</div>"
      ],
      "text/plain": [
       "                                            sha source  \\\n",
       "82751  bc411487f305e451d7485e53202ec241fcc97d3b  ArXiv   \n",
       "\n",
       "                                             title doi pmcid pmid license  \\\n",
       "82751  CORD-19: The Covid-19 Open Research Dataset                  arxiv   \n",
       "\n",
       "                                                abstract journal  \\\n",
       "82751  The Covid-19 Open Research Dataset (CORD-19) i...           \n",
       "\n",
       "      ms_academic_id who_covidence    arxiv_id publication_year  \\\n",
       "82751                               2004.10706             2020   \n",
       "\n",
       "      publication_month pages volume issue dimensions_id  \n",
       "82751                 4                                   "
      ]
     },
     "execution_count": 198,
     "metadata": {},
     "output_type": "execute_result"
    }
   ],
   "source": [
    "df_cord[df_cord.title==\"CORD-19: The Covid-19 Open Research Dataset\"]"
   ]
  },
  {
   "cell_type": "code",
   "execution_count": 199,
   "metadata": {},
   "outputs": [
    {
     "data": {
      "text/html": [
       "<div>\n",
       "<style scoped>\n",
       "    .dataframe tbody tr th:only-of-type {\n",
       "        vertical-align: middle;\n",
       "    }\n",
       "\n",
       "    .dataframe tbody tr th {\n",
       "        vertical-align: top;\n",
       "    }\n",
       "\n",
       "    .dataframe thead th {\n",
       "        text-align: right;\n",
       "    }\n",
       "</style>\n",
       "<table border=\"1\" class=\"dataframe\">\n",
       "  <thead>\n",
       "    <tr style=\"text-align: right;\">\n",
       "      <th></th>\n",
       "      <th>dimensions_id</th>\n",
       "      <th>doi</th>\n",
       "      <th>pmid</th>\n",
       "      <th>pmcid</th>\n",
       "      <th>title</th>\n",
       "      <th>abstract</th>\n",
       "      <th>journal</th>\n",
       "      <th>source_uid</th>\n",
       "      <th>mesh_terms</th>\n",
       "      <th>publication_year</th>\n",
       "      <th>volume</th>\n",
       "      <th>issue</th>\n",
       "      <th>pages</th>\n",
       "      <th>open_access</th>\n",
       "      <th>publication_type</th>\n",
       "      <th>dimensions_url</th>\n",
       "      <th>publication_month</th>\n",
       "      <th>arxiv_id</th>\n",
       "    </tr>\n",
       "  </thead>\n",
       "  <tbody>\n",
       "    <tr>\n",
       "      <th>13048</th>\n",
       "      <td>pub.1126924428</td>\n",
       "      <td></td>\n",
       "      <td></td>\n",
       "      <td></td>\n",
       "      <td>CORD-19: The Covid-19 Open Research Dataset</td>\n",
       "      <td>The Covid-19 Open Research Dataset (CORD-19) i...</td>\n",
       "      <td>arXiv</td>\n",
       "      <td>jour.1371339</td>\n",
       "      <td></td>\n",
       "      <td>2020</td>\n",
       "      <td></td>\n",
       "      <td></td>\n",
       "      <td></td>\n",
       "      <td>All OA; Green, Submitted</td>\n",
       "      <td>preprint</td>\n",
       "      <td>https://app.dimensions.ai/details/publication/...</td>\n",
       "      <td>4</td>\n",
       "      <td>2004.10706</td>\n",
       "    </tr>\n",
       "  </tbody>\n",
       "</table>\n",
       "</div>"
      ],
      "text/plain": [
       "        dimensions_id doi pmid pmcid  \\\n",
       "13048  pub.1126924428                  \n",
       "\n",
       "                                             title  \\\n",
       "13048  CORD-19: The Covid-19 Open Research Dataset   \n",
       "\n",
       "                                                abstract journal  \\\n",
       "13048  The Covid-19 Open Research Dataset (CORD-19) i...   arXiv   \n",
       "\n",
       "         source_uid mesh_terms publication_year volume issue pages  \\\n",
       "13048  jour.1371339                        2020                      \n",
       "\n",
       "                    open_access publication_type  \\\n",
       "13048  All OA; Green, Submitted         preprint   \n",
       "\n",
       "                                          dimensions_url publication_month  \\\n",
       "13048  https://app.dimensions.ai/details/publication/...                 4   \n",
       "\n",
       "         arxiv_id  \n",
       "13048  2004.10706  "
      ]
     },
     "execution_count": 199,
     "metadata": {},
     "output_type": "execute_result"
    }
   ],
   "source": [
    "df_dimensions[df_dimensions.title==\"CORD-19: The Covid-19 Open Research Dataset\"]"
   ]
  },
  {
   "cell_type": "code",
   "execution_count": 200,
   "metadata": {},
   "outputs": [
    {
     "data": {
      "image/png": "[encoded data removed]",
      "text/plain": [
       "<Figure size 432x288 with 1 Axes>"
      ]
     },
     "metadata": {},
     "output_type": "display_data"
    }
   ],
   "source": [
    "# license\n",
    "df_sub = df_cord[df_cord.license.isin(df_cord.license.value_counts()[:30].index.tolist())]\n",
    "b = sns.countplot(y=\"license\", data=df_sub, order=df_sub['license'].value_counts().index)\n",
    "#b.axes.set_title(\"Title\",fontsize=50)\n",
    "b.set_xlabel(\"Count\",fontsize=15)\n",
    "b.set_ylabel(\"License\",fontsize=15)\n",
    "b.tick_params(labelsize=15)"
   ]
  },
  {
   "cell_type": "markdown",
   "metadata": {},
   "source": [
    "### Prepare tables"
   ]
  },
  {
   "cell_type": "code",
   "execution_count": 201,
   "metadata": {},
   "outputs": [],
   "source": [
    "# the main table: pub"
   ]
  },
  {
   "cell_type": "code",
   "execution_count": 202,
   "metadata": {},
   "outputs": [],
   "source": [
    "pub_table_columns = ['title','abstract','publication_year','publication_month','journal','volume','issue','pages','doi','pmid','pmcid','dimensions_id','arxiv_id']\n",
    "\n",
    "df_pub = df_dimensions[pub_table_columns].append(df_who[pub_table_columns], ignore_index = True)"
   ]
  },
  {
   "cell_type": "code",
   "execution_count": 203,
   "metadata": {},
   "outputs": [],
   "source": [
    "df_pub = df_pub[pub_table_columns].append(df_cord[pub_table_columns], ignore_index=True)"
   ]
  },
  {
   "cell_type": "code",
   "execution_count": 204,
   "metadata": {},
   "outputs": [],
   "source": [
    "df_pub[\"title\"] = df_pub[\"title\"].apply(sanitize_string)\n",
    "df_pub[\"abstract\"] = df_pub[\"abstract\"].apply(sanitize_string)\n",
    "df_pub[\"doi\"] = df_pub[\"doi\"].apply(str.lower)\n",
    "df_pub[\"pmid\"] = df_pub[\"pmid\"].apply(str.lower)\n",
    "df_pub[\"pmcid\"] = df_pub[\"pmcid\"].apply(str.lower)\n",
    "df_pub[\"dimensions_id\"] = df_pub[\"dimensions_id\"].apply(str.lower)\n",
    "df_pub[\"arxiv_id\"] = df_pub[\"arxiv_id\"].apply(str.lower)"
   ]
  },
  {
   "cell_type": "code",
   "execution_count": 205,
   "metadata": {},
   "outputs": [
    {
     "data": {
      "text/plain": [
       "(181575, 13)"
      ]
     },
     "execution_count": 205,
     "metadata": {},
     "output_type": "execute_result"
    }
   ],
   "source": [
    "df_pub.shape"
   ]
  },
  {
   "cell_type": "code",
   "execution_count": 206,
   "metadata": {},
   "outputs": [
    {
     "data": {
      "text/plain": [
       "(10985, 13)"
      ]
     },
     "execution_count": 206,
     "metadata": {},
     "output_type": "execute_result"
    }
   ],
   "source": [
    "df_pub[(df_pub.doi==\"\") & (df_pub.pmid==\"\") & (df_pub.pmcid==\"\") & (df_pub.dimensions_id==\"\") & (df_pub.arxiv_id==\"\")].shape"
   ]
  },
  {
   "cell_type": "code",
   "execution_count": 207,
   "metadata": {},
   "outputs": [],
   "source": [
    "# check to have at least one valid identifier per publication\n",
    "# we drop publications which do not: hopefully, they will be equipped with an identifier in future releases\n",
    "\n",
    "df_pub = df_pub[~((df_pub.doi==\"\") & (df_pub.pmid==\"\") & (df_pub.pmcid==\"\") & (df_pub.dimensions_id==\"\") & (df_pub.arxiv_id==\"\"))]"
   ]
  },
  {
   "cell_type": "code",
   "execution_count": 208,
   "metadata": {},
   "outputs": [
    {
     "data": {
      "text/html": [
       "<div>\n",
       "<style scoped>\n",
       "    .dataframe tbody tr th:only-of-type {\n",
       "        vertical-align: middle;\n",
       "    }\n",
       "\n",
       "    .dataframe tbody tr th {\n",
       "        vertical-align: top;\n",
       "    }\n",
       "\n",
       "    .dataframe thead th {\n",
       "        text-align: right;\n",
       "    }\n",
       "</style>\n",
       "<table border=\"1\" class=\"dataframe\">\n",
       "  <thead>\n",
       "    <tr style=\"text-align: right;\">\n",
       "      <th></th>\n",
       "      <th>title</th>\n",
       "      <th>abstract</th>\n",
       "      <th>publication_year</th>\n",
       "      <th>publication_month</th>\n",
       "      <th>journal</th>\n",
       "      <th>volume</th>\n",
       "      <th>issue</th>\n",
       "      <th>pages</th>\n",
       "      <th>doi</th>\n",
       "      <th>pmid</th>\n",
       "      <th>pmcid</th>\n",
       "      <th>dimensions_id</th>\n",
       "      <th>arxiv_id</th>\n",
       "    </tr>\n",
       "  </thead>\n",
       "  <tbody>\n",
       "    <tr>\n",
       "      <th>34290</th>\n",
       "      <td>‘A ticking time bomb’: Scientists worry about ...</td>\n",
       "      <td>CAPE TOWN, SOUTH AFRICA—Late on Sunday evening...</td>\n",
       "      <td>2020</td>\n",
       "      <td></td>\n",
       "      <td>Science</td>\n",
       "      <td></td>\n",
       "      <td></td>\n",
       "      <td></td>\n",
       "      <td>0.1126/science.abb7331</td>\n",
       "      <td></td>\n",
       "      <td></td>\n",
       "      <td></td>\n",
       "      <td></td>\n",
       "    </tr>\n",
       "  </tbody>\n",
       "</table>\n",
       "</div>"
      ],
      "text/plain": [
       "                                                   title  \\\n",
       "34290  ‘A ticking time bomb’: Scientists worry about ...   \n",
       "\n",
       "                                                abstract publication_year  \\\n",
       "34290  CAPE TOWN, SOUTH AFRICA—Late on Sunday evening...             2020   \n",
       "\n",
       "      publication_month  journal volume issue pages                     doi  \\\n",
       "34290                    Science                     0.1126/science.abb7331   \n",
       "\n",
       "      pmid pmcid dimensions_id arxiv_id  \n",
       "34290                                    "
      ]
     },
     "execution_count": 208,
     "metadata": {},
     "output_type": "execute_result"
    }
   ],
   "source": [
    "df_pub[df_pub.doi==\"0.1126/science.abb7331\"]"
   ]
  },
  {
   "cell_type": "code",
   "execution_count": 209,
   "metadata": {},
   "outputs": [],
   "source": [
    "# drop duplicates, first on dois then pmids then pmcids. We need this to keep empty values!\n",
    "df_tmp = df_pub[df_pub.doi==\"\"]\n",
    "df_pub1 = df_pub[df_pub.doi!=\"\"].groupby('doi').first()\n",
    "df_pub1.reset_index(inplace=True)\n",
    "df_tmp2 = df_tmp[df_tmp.pmid==\"\"]\n",
    "df_pub2 = df_tmp[df_tmp.pmid!=\"\"].groupby('pmid').first()\n",
    "df_pub2.reset_index(inplace=True)\n",
    "df_tmp3 = df_tmp2[df_tmp2.pmcid==\"\"]\n",
    "df_pub3 = df_tmp2[df_tmp2.pmcid!=\"\"].groupby('pmcid').first()\n",
    "df_pub3.reset_index(inplace=True)\n",
    "df_tmp4 = df_tmp3[df_tmp3.arxiv_id==\"\"]\n",
    "df_pub4 = df_tmp3[df_tmp3.arxiv_id!=\"\"].groupby('arxiv_id').first()\n",
    "df_pub4.reset_index(inplace=True)\n",
    "df_pub5 = df_tmp4[df_tmp4.dimensions_id!=\"\"].groupby('dimensions_id').first()\n",
    "df_pub5.reset_index(inplace=True)"
   ]
  },
  {
   "cell_type": "code",
   "execution_count": 210,
   "metadata": {},
   "outputs": [
    {
     "data": {
      "text/html": [
       "<div>\n",
       "<style scoped>\n",
       "    .dataframe tbody tr th:only-of-type {\n",
       "        vertical-align: middle;\n",
       "    }\n",
       "\n",
       "    .dataframe tbody tr th {\n",
       "        vertical-align: top;\n",
       "    }\n",
       "\n",
       "    .dataframe thead th {\n",
       "        text-align: right;\n",
       "    }\n",
       "</style>\n",
       "<table border=\"1\" class=\"dataframe\">\n",
       "  <thead>\n",
       "    <tr style=\"text-align: right;\">\n",
       "      <th></th>\n",
       "      <th>doi</th>\n",
       "      <th>title</th>\n",
       "      <th>abstract</th>\n",
       "      <th>publication_year</th>\n",
       "      <th>publication_month</th>\n",
       "      <th>journal</th>\n",
       "      <th>volume</th>\n",
       "      <th>issue</th>\n",
       "      <th>pages</th>\n",
       "      <th>pmid</th>\n",
       "      <th>pmcid</th>\n",
       "      <th>dimensions_id</th>\n",
       "      <th>arxiv_id</th>\n",
       "    </tr>\n",
       "  </thead>\n",
       "  <tbody>\n",
       "    <tr>\n",
       "      <th>0</th>\n",
       "      <td>0.1126/science.abb7331</td>\n",
       "      <td>‘A ticking time bomb’: Scientists worry about ...</td>\n",
       "      <td>CAPE TOWN, SOUTH AFRICA—Late on Sunday evening...</td>\n",
       "      <td>2020</td>\n",
       "      <td></td>\n",
       "      <td>Science</td>\n",
       "      <td></td>\n",
       "      <td></td>\n",
       "      <td></td>\n",
       "      <td></td>\n",
       "      <td></td>\n",
       "      <td></td>\n",
       "      <td></td>\n",
       "    </tr>\n",
       "  </tbody>\n",
       "</table>\n",
       "</div>"
      ],
      "text/plain": [
       "                      doi                                              title  \\\n",
       "0  0.1126/science.abb7331  ‘A ticking time bomb’: Scientists worry about ...   \n",
       "\n",
       "                                            abstract publication_year  \\\n",
       "0  CAPE TOWN, SOUTH AFRICA—Late on Sunday evening...             2020   \n",
       "\n",
       "  publication_month  journal volume issue pages pmid pmcid dimensions_id  \\\n",
       "0                    Science                                               \n",
       "\n",
       "  arxiv_id  \n",
       "0           "
      ]
     },
     "execution_count": 210,
     "metadata": {},
     "output_type": "execute_result"
    }
   ],
   "source": [
    "df_pub1[df_pub1.doi==\"0.1126/science.abb7331\"]"
   ]
  },
  {
   "cell_type": "code",
   "execution_count": 211,
   "metadata": {},
   "outputs": [],
   "source": [
    "df_pub = pd.concat([df_pub1,df_pub2,df_pub3,df_pub4,df_pub5])"
   ]
  },
  {
   "cell_type": "code",
   "execution_count": 212,
   "metadata": {},
   "outputs": [],
   "source": [
    "# add PK and reset index\n",
    "df_pub.reset_index(drop=True,inplace=True)\n",
    "df_pub[\"pub_id\"] = df_pub.index.values"
   ]
  },
  {
   "cell_type": "code",
   "execution_count": 213,
   "metadata": {},
   "outputs": [
    {
     "data": {
      "text/plain": [
       "(135052, 14)"
      ]
     },
     "execution_count": 213,
     "metadata": {},
     "output_type": "execute_result"
    }
   ],
   "source": [
    "df_pub.shape"
   ]
  },
  {
   "cell_type": "code",
   "execution_count": 214,
   "metadata": {},
   "outputs": [
    {
     "data": {
      "text/html": [
       "<div>\n",
       "<style scoped>\n",
       "    .dataframe tbody tr th:only-of-type {\n",
       "        vertical-align: middle;\n",
       "    }\n",
       "\n",
       "    .dataframe tbody tr th {\n",
       "        vertical-align: top;\n",
       "    }\n",
       "\n",
       "    .dataframe thead th {\n",
       "        text-align: right;\n",
       "    }\n",
       "</style>\n",
       "<table border=\"1\" class=\"dataframe\">\n",
       "  <thead>\n",
       "    <tr style=\"text-align: right;\">\n",
       "      <th></th>\n",
       "      <th>doi</th>\n",
       "      <th>title</th>\n",
       "      <th>abstract</th>\n",
       "      <th>publication_year</th>\n",
       "      <th>publication_month</th>\n",
       "      <th>journal</th>\n",
       "      <th>volume</th>\n",
       "      <th>issue</th>\n",
       "      <th>pages</th>\n",
       "      <th>pmid</th>\n",
       "      <th>pmcid</th>\n",
       "      <th>dimensions_id</th>\n",
       "      <th>arxiv_id</th>\n",
       "      <th>pub_id</th>\n",
       "    </tr>\n",
       "  </thead>\n",
       "  <tbody>\n",
       "    <tr>\n",
       "      <th>133965</th>\n",
       "      <td></td>\n",
       "      <td>Social distancing versus early detection and c...</td>\n",
       "      <td>Different countries -- and sometimes different...</td>\n",
       "      <td>2020</td>\n",
       "      <td>3</td>\n",
       "      <td>arXiv</td>\n",
       "      <td></td>\n",
       "      <td></td>\n",
       "      <td></td>\n",
       "      <td></td>\n",
       "      <td></td>\n",
       "      <td>pub.1126058658</td>\n",
       "      <td>2003.08720</td>\n",
       "      <td>133965</td>\n",
       "    </tr>\n",
       "  </tbody>\n",
       "</table>\n",
       "</div>"
      ],
      "text/plain": [
       "       doi                                              title  \\\n",
       "133965      Social distancing versus early detection and c...   \n",
       "\n",
       "                                                 abstract publication_year  \\\n",
       "133965  Different countries -- and sometimes different...             2020   \n",
       "\n",
       "       publication_month journal volume issue pages pmid pmcid  \\\n",
       "133965                 3   arXiv                                 \n",
       "\n",
       "         dimensions_id    arxiv_id  pub_id  \n",
       "133965  pub.1126058658  2003.08720  133965  "
      ]
     },
     "execution_count": 214,
     "metadata": {},
     "output_type": "execute_result"
    }
   ],
   "source": [
    "df_pub[df_pub.arxiv_id==\"2003.08720\"]"
   ]
  },
  {
   "cell_type": "code",
   "execution_count": 215,
   "metadata": {},
   "outputs": [],
   "source": [
    "# create other tables via joins\n",
    "\n",
    "df_datasource = pd.DataFrame.from_dict({\"source\":[\"CORD19\",\"Dimensions\",\"WHO\"],\"url\":[\"https://pages.semanticscholar.org/coronavirus-research\",\"https://docs.google.com/spreadsheets/d/1-kTZJZ1GAhJ2m4GAIhw1ZdlgO46JpvX0ZQa232VWRmw/edit#gid=2034285255\",\n",
    "\"https://www.who.int/emergencies/diseases/novel-coronavirus-2019/global-research-on-novel-coronavirus-2019-ncov\"]})\n",
    "df_cord_metadata = df_cord[['source','license','ms_academic_id','who_covidence','doi','pmid','pmcid','sha','arxiv_id']]\n",
    "df_who_metadata = df_who[['accession_number', 'doi', 'ref',\n",
    "       'covidence', 'study', 'notes', 'tags', 'pmid', 'pmcid']]\n",
    "df_dimensions_metadata = df_dimensions[['dimensions_id', 'doi', 'pmid', 'pmcid','arxiv_id', 'source_uid', 'mesh_terms',\n",
    "       'open_access', 'publication_type', 'dimensions_url']]"
   ]
  },
  {
   "cell_type": "code",
   "execution_count": 216,
   "metadata": {},
   "outputs": [],
   "source": [
    "df_cord_metadata[\"doi\"] = df_cord_metadata[\"doi\"].apply(str.lower)\n",
    "df_cord_metadata[\"pmid\"] = df_cord_metadata[\"pmid\"].apply(str.lower)\n",
    "df_cord_metadata[\"pmcid\"] = df_cord_metadata[\"pmcid\"].apply(str.lower)\n",
    "df_who_metadata[\"doi\"] = df_who_metadata[\"doi\"].apply(str.lower)\n",
    "df_who_metadata[\"pmid\"] = df_who_metadata[\"pmid\"].apply(str.lower)\n",
    "df_who_metadata[\"pmcid\"] = df_who_metadata[\"pmcid\"].apply(str.lower)\n",
    "df_dimensions_metadata[\"doi\"] = df_dimensions_metadata[\"doi\"].apply(str.lower)\n",
    "df_dimensions_metadata[\"pmid\"] = df_dimensions_metadata[\"pmid\"].apply(str.lower)\n",
    "df_dimensions_metadata[\"pmcid\"] = df_dimensions_metadata[\"pmcid\"].apply(str.lower)"
   ]
  },
  {
   "cell_type": "code",
   "execution_count": 217,
   "metadata": {},
   "outputs": [
    {
     "data": {
      "text/html": [
       "<div>\n",
       "<style scoped>\n",
       "    .dataframe tbody tr th:only-of-type {\n",
       "        vertical-align: middle;\n",
       "    }\n",
       "\n",
       "    .dataframe tbody tr th {\n",
       "        vertical-align: top;\n",
       "    }\n",
       "\n",
       "    .dataframe thead th {\n",
       "        text-align: right;\n",
       "    }\n",
       "</style>\n",
       "<table border=\"1\" class=\"dataframe\">\n",
       "  <thead>\n",
       "    <tr style=\"text-align: right;\">\n",
       "      <th></th>\n",
       "      <th>source</th>\n",
       "      <th>url</th>\n",
       "    </tr>\n",
       "  </thead>\n",
       "  <tbody>\n",
       "    <tr>\n",
       "      <th>0</th>\n",
       "      <td>CORD19</td>\n",
       "      <td>https://pages.semanticscholar.org/coronavirus-...</td>\n",
       "    </tr>\n",
       "    <tr>\n",
       "      <th>1</th>\n",
       "      <td>Dimensions</td>\n",
       "      <td>https://docs.google.com/spreadsheets/d/1-kTZJZ...</td>\n",
       "    </tr>\n",
       "    <tr>\n",
       "      <th>2</th>\n",
       "      <td>WHO</td>\n",
       "      <td>https://www.who.int/emergencies/diseases/novel...</td>\n",
       "    </tr>\n",
       "  </tbody>\n",
       "</table>\n",
       "</div>"
      ],
      "text/plain": [
       "       source                                                url\n",
       "0      CORD19  https://pages.semanticscholar.org/coronavirus-...\n",
       "1  Dimensions  https://docs.google.com/spreadsheets/d/1-kTZJZ...\n",
       "2         WHO  https://www.who.int/emergencies/diseases/novel..."
      ]
     },
     "execution_count": 217,
     "metadata": {},
     "output_type": "execute_result"
    }
   ],
   "source": [
    "df_datasource.head()"
   ]
  },
  {
   "cell_type": "code",
   "execution_count": 218,
   "metadata": {},
   "outputs": [],
   "source": [
    "# CORD19 metadata"
   ]
  },
  {
   "cell_type": "code",
   "execution_count": 219,
   "metadata": {},
   "outputs": [
    {
     "data": {
      "text/plain": [
       "(128492, 9)"
      ]
     },
     "execution_count": 219,
     "metadata": {},
     "output_type": "execute_result"
    }
   ],
   "source": [
    "df_cord_metadata.shape"
   ]
  },
  {
   "cell_type": "code",
   "execution_count": 220,
   "metadata": {},
   "outputs": [
    {
     "data": {
      "text/html": [
       "<div>\n",
       "<style scoped>\n",
       "    .dataframe tbody tr th:only-of-type {\n",
       "        vertical-align: middle;\n",
       "    }\n",
       "\n",
       "    .dataframe tbody tr th {\n",
       "        vertical-align: top;\n",
       "    }\n",
       "\n",
       "    .dataframe thead th {\n",
       "        text-align: right;\n",
       "    }\n",
       "</style>\n",
       "<table border=\"1\" class=\"dataframe\">\n",
       "  <thead>\n",
       "    <tr style=\"text-align: right;\">\n",
       "      <th></th>\n",
       "      <th>doi</th>\n",
       "      <th>title</th>\n",
       "      <th>abstract</th>\n",
       "      <th>publication_year</th>\n",
       "      <th>publication_month</th>\n",
       "      <th>journal</th>\n",
       "      <th>volume</th>\n",
       "      <th>issue</th>\n",
       "      <th>pages</th>\n",
       "      <th>pmid</th>\n",
       "      <th>pmcid</th>\n",
       "      <th>dimensions_id</th>\n",
       "      <th>arxiv_id</th>\n",
       "      <th>pub_id</th>\n",
       "    </tr>\n",
       "  </thead>\n",
       "  <tbody>\n",
       "    <tr>\n",
       "      <th>0</th>\n",
       "      <td>0.1126/science.abb7331</td>\n",
       "      <td>‘A ticking time bomb’: Scientists worry about ...</td>\n",
       "      <td>CAPE TOWN, SOUTH AFRICA—Late on Sunday evening...</td>\n",
       "      <td>2020</td>\n",
       "      <td></td>\n",
       "      <td>Science</td>\n",
       "      <td></td>\n",
       "      <td></td>\n",
       "      <td></td>\n",
       "      <td></td>\n",
       "      <td></td>\n",
       "      <td></td>\n",
       "      <td></td>\n",
       "      <td>0</td>\n",
       "    </tr>\n",
       "  </tbody>\n",
       "</table>\n",
       "</div>"
      ],
      "text/plain": [
       "                      doi                                              title  \\\n",
       "0  0.1126/science.abb7331  ‘A ticking time bomb’: Scientists worry about ...   \n",
       "\n",
       "                                            abstract publication_year  \\\n",
       "0  CAPE TOWN, SOUTH AFRICA—Late on Sunday evening...             2020   \n",
       "\n",
       "  publication_month  journal volume issue pages pmid pmcid dimensions_id  \\\n",
       "0                    Science                                               \n",
       "\n",
       "  arxiv_id  pub_id  \n",
       "0                0  "
      ]
     },
     "execution_count": 220,
     "metadata": {},
     "output_type": "execute_result"
    }
   ],
   "source": [
    "df_pub[df_pub.doi==\"0.1126/science.abb7331\"]"
   ]
  },
  {
   "cell_type": "code",
   "execution_count": 221,
   "metadata": {},
   "outputs": [],
   "source": [
    "#We need this to keep empty values!\n",
    "\n",
    "df_tmp = df_cord_metadata[df_cord_metadata.doi==\"\"]\n",
    "df_cord_metadata1 = pd.merge(df_cord_metadata[df_cord_metadata.doi!=\"\"], df_pub[['pub_id','doi']],  how='inner', left_on=['doi'], right_on=['doi'])\n",
    "df_tmp2 = df_tmp[df_tmp.pmid==\"\"]\n",
    "df_cord_metadata2 = pd.merge(df_tmp[df_tmp.pmid!=\"\"], df_pub[['pub_id','pmid']],  how='inner', left_on=['pmid'], right_on=['pmid'])\n",
    "df_tmp3 = df_tmp2[df_tmp2.pmcid==\"\"]\n",
    "df_cord_metadata3 = pd.merge(df_tmp2[df_tmp2.pmcid!=\"\"], df_pub[['pub_id','pmcid']],  how='inner', left_on=['pmcid'], right_on=['pmcid'])\n",
    "df_cord_metadata4 = pd.merge(df_tmp3[df_tmp3.arxiv_id!=\"\"], df_pub[['pub_id','arxiv_id']],  how='inner', left_on=['arxiv_id'], right_on=['arxiv_id'])"
   ]
  },
  {
   "cell_type": "code",
   "execution_count": 222,
   "metadata": {},
   "outputs": [],
   "source": [
    "df_cord_metadata1 = df_cord_metadata1.groupby(\"doi\").first()\n",
    "df_cord_metadata1.reset_index(inplace=True)\n",
    "df_cord_metadata2 = df_cord_metadata2.groupby(\"pmid\").first()\n",
    "df_cord_metadata2.reset_index(inplace=True)\n",
    "df_cord_metadata3 = df_cord_metadata3.groupby(\"pmcid\").first()\n",
    "df_cord_metadata3.reset_index(inplace=True)\n",
    "df_cord_metadata4 = df_cord_metadata4.groupby(\"arxiv_id\").first()\n",
    "df_cord_metadata4.reset_index(inplace=True)"
   ]
  },
  {
   "cell_type": "code",
   "execution_count": 223,
   "metadata": {},
   "outputs": [],
   "source": [
    "df_cord_metadata = pd.concat([df_cord_metadata1,df_cord_metadata2,df_cord_metadata3,df_cord_metadata4])"
   ]
  },
  {
   "cell_type": "code",
   "execution_count": 224,
   "metadata": {},
   "outputs": [
    {
     "data": {
      "text/plain": [
       "(118597, 10)"
      ]
     },
     "execution_count": 224,
     "metadata": {},
     "output_type": "execute_result"
    }
   ],
   "source": [
    "df_cord_metadata.shape"
   ]
  },
  {
   "cell_type": "code",
   "execution_count": 78,
   "metadata": {},
   "outputs": [
    {
     "data": {
      "application/vnd.jupyter.widget-view+json": {
       "model_id": "a3fd5aa6226340d6812a47e64463ef99",
       "version_major": 2,
       "version_minor": 0
      },
      "text/plain": [
       "HBox(children=(FloatProgress(value=0.0, max=59561.0), HTML(value='')))"
      ]
     },
     "metadata": {},
     "output_type": "display_data"
    },
    {
     "name": "stdout",
     "output_type": "stream",
     "text": [
      "\n"
     ]
    }
   ],
   "source": [
    "# read full texts in\n",
    "folders = ['document_parses/pdf_json']\n",
    "shas = list()\n",
    "full_texts = list()\n",
    "\n",
    "for folder in folders:\n",
    "    for root, dirs, files in os.walk(os.path.join(cord19_folder,folder)):\n",
    "        for file in tqdm(files):\n",
    "            if \".json\" in file: # read\n",
    "                data = json.loads(codecs.open(os.path.join(root,file)).read())\n",
    "                sha = data[\"paper_id\"]\n",
    "                full_text = \" \".join(sanitize_string(section[\"text\"]) for section in data[\"body_text\"])\n",
    "                shas.append(sha)\n",
    "                full_texts.append(full_text)"
   ]
  },
  {
   "cell_type": "code",
   "execution_count": 225,
   "metadata": {},
   "outputs": [],
   "source": [
    "df_cord_fulltext = pd.DataFrame.from_dict({\"sha\":shas,\"full_text\":full_texts})"
   ]
  },
  {
   "cell_type": "code",
   "execution_count": 226,
   "metadata": {},
   "outputs": [
    {
     "data": {
      "text/plain": [
       "(59561, 2)"
      ]
     },
     "execution_count": 226,
     "metadata": {},
     "output_type": "execute_result"
    }
   ],
   "source": [
    "df_cord_fulltext.shape"
   ]
  },
  {
   "cell_type": "code",
   "execution_count": 227,
   "metadata": {},
   "outputs": [],
   "source": [
    "df_cord_metadata = pd.merge(df_cord_metadata, df_cord_fulltext,  how='left', left_on=['sha'], right_on=['sha'])\n",
    "df_cord_metadata = df_cord_metadata.fillna('')\n",
    "df_cord_metadata.rename(columns={\"id\":\"pub_id\"},inplace=True)"
   ]
  },
  {
   "cell_type": "code",
   "execution_count": 228,
   "metadata": {},
   "outputs": [
    {
     "data": {
      "text/html": [
       "<div>\n",
       "<style scoped>\n",
       "    .dataframe tbody tr th:only-of-type {\n",
       "        vertical-align: middle;\n",
       "    }\n",
       "\n",
       "    .dataframe tbody tr th {\n",
       "        vertical-align: top;\n",
       "    }\n",
       "\n",
       "    .dataframe thead th {\n",
       "        text-align: right;\n",
       "    }\n",
       "</style>\n",
       "<table border=\"1\" class=\"dataframe\">\n",
       "  <thead>\n",
       "    <tr style=\"text-align: right;\">\n",
       "      <th></th>\n",
       "      <th>doi</th>\n",
       "      <th>source</th>\n",
       "      <th>license</th>\n",
       "      <th>ms_academic_id</th>\n",
       "      <th>who_covidence</th>\n",
       "      <th>pmid</th>\n",
       "      <th>pmcid</th>\n",
       "      <th>sha</th>\n",
       "      <th>arxiv_id</th>\n",
       "      <th>pub_id</th>\n",
       "      <th>full_text</th>\n",
       "    </tr>\n",
       "  </thead>\n",
       "  <tbody>\n",
       "    <tr>\n",
       "      <th>0</th>\n",
       "      <td>10.0376/cma.j.issn.0376-2491.2020.0002</td>\n",
       "      <td>Medline; WHO</td>\n",
       "      <td>unk</td>\n",
       "      <td></td>\n",
       "      <td>#615</td>\n",
       "      <td>32036640</td>\n",
       "      <td></td>\n",
       "      <td></td>\n",
       "      <td></td>\n",
       "      <td>1</td>\n",
       "      <td></td>\n",
       "    </tr>\n",
       "    <tr>\n",
       "      <th>1</th>\n",
       "      <td>10.1001/amajethics.2020.344</td>\n",
       "      <td>Medline</td>\n",
       "      <td>unk</td>\n",
       "      <td></td>\n",
       "      <td></td>\n",
       "      <td>32345430</td>\n",
       "      <td></td>\n",
       "      <td></td>\n",
       "      <td></td>\n",
       "      <td>2</td>\n",
       "      <td></td>\n",
       "    </tr>\n",
       "    <tr>\n",
       "      <th>2</th>\n",
       "      <td>10.1001/archdermatol.2010.96</td>\n",
       "      <td>Medline</td>\n",
       "      <td>unk</td>\n",
       "      <td></td>\n",
       "      <td></td>\n",
       "      <td>20566928</td>\n",
       "      <td></td>\n",
       "      <td></td>\n",
       "      <td></td>\n",
       "      <td>3</td>\n",
       "      <td></td>\n",
       "    </tr>\n",
       "    <tr>\n",
       "      <th>3</th>\n",
       "      <td>10.1001/archdermatol.2011.52</td>\n",
       "      <td>Medline</td>\n",
       "      <td>unk</td>\n",
       "      <td></td>\n",
       "      <td></td>\n",
       "      <td>21482889</td>\n",
       "      <td></td>\n",
       "      <td></td>\n",
       "      <td></td>\n",
       "      <td>4</td>\n",
       "      <td></td>\n",
       "    </tr>\n",
       "    <tr>\n",
       "      <th>4</th>\n",
       "      <td>10.1001/archfacial.2010.34</td>\n",
       "      <td>Medline</td>\n",
       "      <td>unk</td>\n",
       "      <td></td>\n",
       "      <td></td>\n",
       "      <td>20479429</td>\n",
       "      <td></td>\n",
       "      <td></td>\n",
       "      <td></td>\n",
       "      <td>5</td>\n",
       "      <td></td>\n",
       "    </tr>\n",
       "  </tbody>\n",
       "</table>\n",
       "</div>"
      ],
      "text/plain": [
       "                                      doi        source license  \\\n",
       "0  10.0376/cma.j.issn.0376-2491.2020.0002  Medline; WHO     unk   \n",
       "1             10.1001/amajethics.2020.344       Medline     unk   \n",
       "2            10.1001/archdermatol.2010.96       Medline     unk   \n",
       "3            10.1001/archdermatol.2011.52       Medline     unk   \n",
       "4              10.1001/archfacial.2010.34       Medline     unk   \n",
       "\n",
       "  ms_academic_id who_covidence      pmid pmcid sha arxiv_id  pub_id full_text  \n",
       "0                         #615  32036640                          1            \n",
       "1                               32345430                          2            \n",
       "2                               20566928                          3            \n",
       "3                               21482889                          4            \n",
       "4                               20479429                          5            "
      ]
     },
     "execution_count": 228,
     "metadata": {},
     "output_type": "execute_result"
    }
   ],
   "source": [
    "df_cord_metadata.head()"
   ]
  },
  {
   "cell_type": "code",
   "execution_count": 229,
   "metadata": {},
   "outputs": [
    {
     "data": {
      "text/html": [
       "<div>\n",
       "<style scoped>\n",
       "    .dataframe tbody tr th:only-of-type {\n",
       "        vertical-align: middle;\n",
       "    }\n",
       "\n",
       "    .dataframe tbody tr th {\n",
       "        vertical-align: top;\n",
       "    }\n",
       "\n",
       "    .dataframe thead th {\n",
       "        text-align: right;\n",
       "    }\n",
       "</style>\n",
       "<table border=\"1\" class=\"dataframe\">\n",
       "  <thead>\n",
       "    <tr style=\"text-align: right;\">\n",
       "      <th></th>\n",
       "      <th>doi</th>\n",
       "      <th>source</th>\n",
       "      <th>license</th>\n",
       "      <th>ms_academic_id</th>\n",
       "      <th>who_covidence</th>\n",
       "      <th>pmid</th>\n",
       "      <th>pmcid</th>\n",
       "      <th>sha</th>\n",
       "      <th>arxiv_id</th>\n",
       "      <th>pub_id</th>\n",
       "      <th>full_text</th>\n",
       "    </tr>\n",
       "  </thead>\n",
       "  <tbody>\n",
       "    <tr>\n",
       "      <th>14941</th>\n",
       "      <td>10.1007/s10494-011-9345-0</td>\n",
       "      <td>ArXiv</td>\n",
       "      <td>arxiv</td>\n",
       "      <td></td>\n",
       "      <td></td>\n",
       "      <td></td>\n",
       "      <td></td>\n",
       "      <td></td>\n",
       "      <td>1305.2885</td>\n",
       "      <td>15808</td>\n",
       "      <td></td>\n",
       "    </tr>\n",
       "    <tr>\n",
       "      <th>15490</th>\n",
       "      <td>10.1007/s10955-013-0690-3</td>\n",
       "      <td>ArXiv</td>\n",
       "      <td>arxiv</td>\n",
       "      <td></td>\n",
       "      <td></td>\n",
       "      <td></td>\n",
       "      <td></td>\n",
       "      <td>67326b132f0b8258c4cd41a517b2d65404d58901</td>\n",
       "      <td>1211.2163</td>\n",
       "      <td>16372</td>\n",
       "      <td>that the population within a single subpopulat...</td>\n",
       "    </tr>\n",
       "    <tr>\n",
       "      <th>15491</th>\n",
       "      <td>10.1007/s10955-014-1024-9</td>\n",
       "      <td>ArXiv; PMC</td>\n",
       "      <td>no-cc</td>\n",
       "      <td></td>\n",
       "      <td></td>\n",
       "      <td>26074625</td>\n",
       "      <td>pmc4457089</td>\n",
       "      <td>535448073c1721a7928c2814283c5cda6e151902; 2305...</td>\n",
       "      <td>1402.7011</td>\n",
       "      <td>16373</td>\n",
       "      <td></td>\n",
       "    </tr>\n",
       "    <tr>\n",
       "      <th>15750</th>\n",
       "      <td>10.1007/s11232-014-0210-x</td>\n",
       "      <td>ArXiv; PMC</td>\n",
       "      <td>arxiv</td>\n",
       "      <td></td>\n",
       "      <td></td>\n",
       "      <td></td>\n",
       "      <td>pmc7149039</td>\n",
       "      <td>8abce2326a7c9a4f589e3bfe3480b766f7fd5d5e; 2239...</td>\n",
       "      <td>1406.7468</td>\n",
       "      <td>16639</td>\n",
       "      <td></td>\n",
       "    </tr>\n",
       "    <tr>\n",
       "      <th>16248</th>\n",
       "      <td>10.1007/s11433-013-5321-0</td>\n",
       "      <td>ArXiv; Medline; PMC</td>\n",
       "      <td>arxiv</td>\n",
       "      <td></td>\n",
       "      <td></td>\n",
       "      <td>32288765</td>\n",
       "      <td>pmc7111546</td>\n",
       "      <td>7efbb19025f7bb3da296980c50e4e0edc4a340b3; c742...</td>\n",
       "      <td>1304.5603</td>\n",
       "      <td>17150</td>\n",
       "      <td></td>\n",
       "    </tr>\n",
       "  </tbody>\n",
       "</table>\n",
       "</div>"
      ],
      "text/plain": [
       "                             doi               source license ms_academic_id  \\\n",
       "14941  10.1007/s10494-011-9345-0                ArXiv   arxiv                  \n",
       "15490  10.1007/s10955-013-0690-3                ArXiv   arxiv                  \n",
       "15491  10.1007/s10955-014-1024-9           ArXiv; PMC   no-cc                  \n",
       "15750  10.1007/s11232-014-0210-x           ArXiv; PMC   arxiv                  \n",
       "16248  10.1007/s11433-013-5321-0  ArXiv; Medline; PMC   arxiv                  \n",
       "\n",
       "      who_covidence      pmid       pmcid  \\\n",
       "14941                                       \n",
       "15490                                       \n",
       "15491                26074625  pmc4457089   \n",
       "15750                          pmc7149039   \n",
       "16248                32288765  pmc7111546   \n",
       "\n",
       "                                                     sha   arxiv_id  pub_id  \\\n",
       "14941                                                     1305.2885   15808   \n",
       "15490           67326b132f0b8258c4cd41a517b2d65404d58901  1211.2163   16372   \n",
       "15491  535448073c1721a7928c2814283c5cda6e151902; 2305...  1402.7011   16373   \n",
       "15750  8abce2326a7c9a4f589e3bfe3480b766f7fd5d5e; 2239...  1406.7468   16639   \n",
       "16248  7efbb19025f7bb3da296980c50e4e0edc4a340b3; c742...  1304.5603   17150   \n",
       "\n",
       "                                               full_text  \n",
       "14941                                                     \n",
       "15490  that the population within a single subpopulat...  \n",
       "15491                                                     \n",
       "15750                                                     \n",
       "16248                                                     "
      ]
     },
     "execution_count": 229,
     "metadata": {},
     "output_type": "execute_result"
    }
   ],
   "source": [
    "df_cord_metadata[df_cord_metadata.arxiv_id!=\"\"].head()"
   ]
  },
  {
   "cell_type": "code",
   "execution_count": 230,
   "metadata": {},
   "outputs": [],
   "source": [
    "# WHO and Dimensions metadata"
   ]
  },
  {
   "cell_type": "code",
   "execution_count": 231,
   "metadata": {},
   "outputs": [],
   "source": [
    "df_tmp = df_who_metadata[df_who_metadata.doi==\"\"]\n",
    "df_who_metadata1 = pd.merge(df_who_metadata[df_who_metadata.doi!=\"\"], df_pub[['pub_id','doi']],  how='inner', left_on=['doi'], right_on=['doi'])\n",
    "df_tmp2 = df_tmp[df_tmp.pmid==\"\"]\n",
    "df_who_metadata2 = pd.merge(df_tmp[df_tmp.pmid!=\"\"], df_pub[['pub_id','pmid']],  how='inner', left_on=['pmid'], right_on=['pmid'])\n",
    "df_who_metadata3 = pd.merge(df_tmp2[df_tmp2.pmcid!=\"\"], df_pub[['pub_id','pmcid']],  how='inner', left_on=['pmcid'], right_on=['pmcid'])"
   ]
  },
  {
   "cell_type": "code",
   "execution_count": 232,
   "metadata": {},
   "outputs": [],
   "source": [
    "df_who_metadata1 = df_who_metadata1.groupby(\"doi\").first()\n",
    "df_who_metadata1.reset_index(inplace=True)\n",
    "df_who_metadata2 = df_who_metadata2.groupby(\"pmid\").first()\n",
    "df_who_metadata2.reset_index(inplace=True)\n",
    "df_who_metadata3 = df_who_metadata3.groupby(\"pmcid\").first()\n",
    "df_who_metadata3.reset_index(inplace=True)"
   ]
  },
  {
   "cell_type": "code",
   "execution_count": 233,
   "metadata": {},
   "outputs": [],
   "source": [
    "df_who_metadata = pd.concat([df_who_metadata1,df_who_metadata2,df_who_metadata3])"
   ]
  },
  {
   "cell_type": "code",
   "execution_count": 234,
   "metadata": {},
   "outputs": [
    {
     "data": {
      "text/plain": [
       "(17893, 10)"
      ]
     },
     "execution_count": 234,
     "metadata": {},
     "output_type": "execute_result"
    }
   ],
   "source": [
    "df_who_metadata.shape"
   ]
  },
  {
   "cell_type": "code",
   "execution_count": 235,
   "metadata": {},
   "outputs": [],
   "source": [
    "df_who_metadata.rename(columns={\"id\":\"pub_id\"},inplace=True)"
   ]
  },
  {
   "cell_type": "code",
   "execution_count": 236,
   "metadata": {},
   "outputs": [],
   "source": [
    "df_tmp = df_dimensions_metadata[df_dimensions_metadata.dimensions_id==\"\"]\n",
    "df_dimensions_metadata1 = pd.merge(df_dimensions_metadata[df_dimensions_metadata.dimensions_id!=\"\"], df_pub[['pub_id','dimensions_id']],  how='inner', left_on=['dimensions_id'], right_on=['dimensions_id'])"
   ]
  },
  {
   "cell_type": "code",
   "execution_count": 237,
   "metadata": {},
   "outputs": [],
   "source": [
    "df_dimensions_metadata1 = df_dimensions_metadata1.groupby(\"dimensions_id\").first()\n",
    "df_dimensions_metadata1.reset_index(inplace=True)"
   ]
  },
  {
   "cell_type": "code",
   "execution_count": 238,
   "metadata": {},
   "outputs": [],
   "source": [
    "df_dimensions_metadata = pd.concat([df_dimensions_metadata1])"
   ]
  },
  {
   "cell_type": "code",
   "execution_count": 239,
   "metadata": {},
   "outputs": [
    {
     "data": {
      "text/plain": [
       "(32226, 11)"
      ]
     },
     "execution_count": 239,
     "metadata": {},
     "output_type": "execute_result"
    }
   ],
   "source": [
    "df_dimensions_metadata.shape"
   ]
  },
  {
   "cell_type": "code",
   "execution_count": 240,
   "metadata": {},
   "outputs": [],
   "source": [
    "df_dimensions_metadata.rename(columns={\"id\":\"pub_id\"},inplace=True)"
   ]
  },
  {
   "cell_type": "code",
   "execution_count": 241,
   "metadata": {},
   "outputs": [],
   "source": [
    "# Create datasource tables"
   ]
  },
  {
   "cell_type": "code",
   "execution_count": 242,
   "metadata": {},
   "outputs": [],
   "source": [
    "cord_source_id = df_datasource[df_datasource.source==\"CORD19\"].index.values[0]\n",
    "who_source_id = df_datasource[df_datasource.source==\"WHO\"].index.values[0]\n",
    "dimensions_source_id = df_datasource[df_datasource.source==\"Dimensions\"].index.values[0]"
   ]
  },
  {
   "cell_type": "code",
   "execution_count": 243,
   "metadata": {},
   "outputs": [],
   "source": [
    "df_cord_metadata[\"source_id\"] = cord_source_id\n",
    "df_who_metadata[\"source_id\"] = who_source_id\n",
    "df_dimensions_metadata[\"source_id\"] = dimensions_source_id"
   ]
  },
  {
   "cell_type": "code",
   "execution_count": 244,
   "metadata": {},
   "outputs": [],
   "source": [
    "df_pub_to_datasource = df_cord_metadata[[\"pub_id\",\"source_id\"]]\n",
    "df_pub_to_datasource = df_pub_to_datasource.append(df_who_metadata[[\"pub_id\",\"source_id\"]],ignore_index=True)\n",
    "df_pub_to_datasource = df_pub_to_datasource.append(df_dimensions_metadata[[\"pub_id\",\"source_id\"]],ignore_index=True)"
   ]
  },
  {
   "cell_type": "code",
   "execution_count": 245,
   "metadata": {},
   "outputs": [],
   "source": [
    "df_pub_to_datasource.drop_duplicates(inplace=True)\n",
    "df_pub_to_datasource.rename(columns={\"source_id\":\"datasource_id\"},inplace=True)"
   ]
  },
  {
   "cell_type": "code",
   "execution_count": 246,
   "metadata": {},
   "outputs": [
    {
     "data": {
      "text/plain": [
       "(162080, 2)"
      ]
     },
     "execution_count": 246,
     "metadata": {},
     "output_type": "execute_result"
    }
   ],
   "source": [
    "df_pub_to_datasource.shape"
   ]
  },
  {
   "cell_type": "code",
   "execution_count": 247,
   "metadata": {},
   "outputs": [
    {
     "data": {
      "text/html": [
       "<div>\n",
       "<style scoped>\n",
       "    .dataframe tbody tr th:only-of-type {\n",
       "        vertical-align: middle;\n",
       "    }\n",
       "\n",
       "    .dataframe tbody tr th {\n",
       "        vertical-align: top;\n",
       "    }\n",
       "\n",
       "    .dataframe thead th {\n",
       "        text-align: right;\n",
       "    }\n",
       "</style>\n",
       "<table border=\"1\" class=\"dataframe\">\n",
       "  <thead>\n",
       "    <tr style=\"text-align: right;\">\n",
       "      <th></th>\n",
       "      <th>pub_id</th>\n",
       "      <th>datasource_id</th>\n",
       "    </tr>\n",
       "  </thead>\n",
       "  <tbody>\n",
       "    <tr>\n",
       "      <th>21776</th>\n",
       "      <td>22787</td>\n",
       "      <td>0</td>\n",
       "    </tr>\n",
       "  </tbody>\n",
       "</table>\n",
       "</div>"
      ],
      "text/plain": [
       "       pub_id  datasource_id\n",
       "21776   22787              0"
      ]
     },
     "execution_count": 247,
     "metadata": {},
     "output_type": "execute_result"
    }
   ],
   "source": [
    "df_pub_to_datasource[df_pub_to_datasource.pub_id==22787]"
   ]
  },
  {
   "cell_type": "code",
   "execution_count": 248,
   "metadata": {},
   "outputs": [],
   "source": [
    "# remove unnecessary columns\n",
    "df_cord_metadata.drop(columns=['doi','pmid','pmcid','arxiv_id','source_id'],inplace=True)\n",
    "df_who_metadata.drop(columns=['doi','pmid','pmcid','source_id'],inplace=True)\n",
    "df_dimensions_metadata.drop(columns=['doi','pmid','pmcid','arxiv_id','source_id'],inplace=True)"
   ]
  },
  {
   "cell_type": "code",
   "execution_count": 249,
   "metadata": {},
   "outputs": [],
   "source": [
    "# reset all indexes which will become PKs\n",
    "df_cord_metadata.reset_index(drop=True,inplace=True)\n",
    "df_who_metadata.reset_index(drop=True,inplace=True)\n",
    "df_dimensions_metadata.reset_index(drop=True,inplace=True)\n",
    "df_datasource.reset_index(drop=True,inplace=True)\n",
    "df_cord_metadata[\"cord19_metadata_id\"] = df_cord_metadata.index.values\n",
    "df_who_metadata[\"who_metadata_id\"] = df_who_metadata.index.values\n",
    "df_dimensions_metadata[\"dimensions_metadata_id\"] = df_dimensions_metadata.index.values\n",
    "df_datasource[\"datasource_metadata_id\"] = df_datasource.index.values"
   ]
  },
  {
   "cell_type": "code",
   "execution_count": 250,
   "metadata": {},
   "outputs": [],
   "source": [
    "# make numeric where needed\n",
    "df_pub[\"publication_year\"] = pd.to_numeric(df_pub[\"publication_year\"])\n",
    "df_pub[\"publication_month\"] = pd.to_numeric(df_pub[\"publication_month\"])\n",
    "df_pub[\"pmid\"] = pd.to_numeric(df_pub[\"pmid\"])"
   ]
  },
  {
   "cell_type": "code",
   "execution_count": 251,
   "metadata": {},
   "outputs": [],
   "source": [
    "# add timestamp\n",
    "df_pub[\"timestamp\"] = pd.Timestamp.now()"
   ]
  },
  {
   "cell_type": "code",
   "execution_count": 252,
   "metadata": {},
   "outputs": [],
   "source": [
    "# clean-up text (optional)\n",
    "replaces = [\"\"]\n",
    "\n",
    "def clean_up(txt):\n",
    "    for r in replaces:\n",
    "        txt = txt.replace(r,\"\")\n",
    "    return txt.encode('utf8', 'ignore').decode('utf8')\n",
    "df_pub[\"abstract\"] = [clean_up(a) for a in df_pub[\"abstract\"].values]"
   ]
  },
  {
   "cell_type": "code",
   "execution_count": 253,
   "metadata": {},
   "outputs": [
    {
     "data": {
      "text/html": [
       "<div>\n",
       "<style scoped>\n",
       "    .dataframe tbody tr th:only-of-type {\n",
       "        vertical-align: middle;\n",
       "    }\n",
       "\n",
       "    .dataframe tbody tr th {\n",
       "        vertical-align: top;\n",
       "    }\n",
       "\n",
       "    .dataframe thead th {\n",
       "        text-align: right;\n",
       "    }\n",
       "</style>\n",
       "<table border=\"1\" class=\"dataframe\">\n",
       "  <thead>\n",
       "    <tr style=\"text-align: right;\">\n",
       "      <th></th>\n",
       "      <th>doi</th>\n",
       "      <th>title</th>\n",
       "      <th>abstract</th>\n",
       "      <th>publication_year</th>\n",
       "      <th>publication_month</th>\n",
       "      <th>journal</th>\n",
       "      <th>volume</th>\n",
       "      <th>issue</th>\n",
       "      <th>pages</th>\n",
       "      <th>pmid</th>\n",
       "      <th>pmcid</th>\n",
       "      <th>dimensions_id</th>\n",
       "      <th>arxiv_id</th>\n",
       "      <th>pub_id</th>\n",
       "      <th>timestamp</th>\n",
       "    </tr>\n",
       "  </thead>\n",
       "  <tbody>\n",
       "    <tr>\n",
       "      <th>0</th>\n",
       "      <td>0.1126/science.abb7331</td>\n",
       "      <td>‘A ticking time bomb’: Scientists worry about ...</td>\n",
       "      <td>CAPE TOWN, SOUTH AFRICA—Late on Sunday evening...</td>\n",
       "      <td>2020.0</td>\n",
       "      <td>NaN</td>\n",
       "      <td>Science</td>\n",
       "      <td></td>\n",
       "      <td></td>\n",
       "      <td></td>\n",
       "      <td>NaN</td>\n",
       "      <td></td>\n",
       "      <td></td>\n",
       "      <td></td>\n",
       "      <td>0</td>\n",
       "      <td>2020-05-21 12:35:44.190709</td>\n",
       "    </tr>\n",
       "    <tr>\n",
       "      <th>1</th>\n",
       "      <td>10.0376/cma.j.issn.0376-2491.2020.0002</td>\n",
       "      <td>[Ten hot issues of breast cancer under the nov...</td>\n",
       "      <td></td>\n",
       "      <td>2020.0</td>\n",
       "      <td>2.0</td>\n",
       "      <td>Chinese medical journal</td>\n",
       "      <td>100</td>\n",
       "      <td>0</td>\n",
       "      <td>e002</td>\n",
       "      <td>32036640.0</td>\n",
       "      <td></td>\n",
       "      <td>pub.1124777091</td>\n",
       "      <td></td>\n",
       "      <td>1</td>\n",
       "      <td>2020-05-21 12:35:44.190709</td>\n",
       "    </tr>\n",
       "    <tr>\n",
       "      <th>2</th>\n",
       "      <td>10.1001/amajethics.2020.344</td>\n",
       "      <td>Cohesion in Distancing.</td>\n",
       "      <td>In isolation, we are physically apart; in soli...</td>\n",
       "      <td>2020.0</td>\n",
       "      <td>4.0</td>\n",
       "      <td>The AMA Journal of Ethic</td>\n",
       "      <td>22</td>\n",
       "      <td>4</td>\n",
       "      <td>e344-345</td>\n",
       "      <td>32345430.0</td>\n",
       "      <td></td>\n",
       "      <td>pub.1127182341</td>\n",
       "      <td></td>\n",
       "      <td>2</td>\n",
       "      <td>2020-05-21 12:35:44.190709</td>\n",
       "    </tr>\n",
       "    <tr>\n",
       "      <th>3</th>\n",
       "      <td>10.1001/archdermatol.2010.96</td>\n",
       "      <td>Fatal influenza A(H1N1) respiratory tract infe...</td>\n",
       "      <td>BACKGROUND The use of biologic agents represen...</td>\n",
       "      <td>2010.0</td>\n",
       "      <td>NaN</td>\n",
       "      <td>Archives of dermatology</td>\n",
       "      <td></td>\n",
       "      <td></td>\n",
       "      <td></td>\n",
       "      <td>20566928.0</td>\n",
       "      <td></td>\n",
       "      <td></td>\n",
       "      <td></td>\n",
       "      <td>3</td>\n",
       "      <td>2020-05-21 12:35:44.190709</td>\n",
       "    </tr>\n",
       "    <tr>\n",
       "      <th>4</th>\n",
       "      <td>10.1001/archdermatol.2011.52</td>\n",
       "      <td>Clinical correlations with dermatomyositis-spe...</td>\n",
       "      <td>OBJECTIVE To clarify the association of clinic...</td>\n",
       "      <td>2011.0</td>\n",
       "      <td>NaN</td>\n",
       "      <td>Archives of dermatology</td>\n",
       "      <td></td>\n",
       "      <td></td>\n",
       "      <td></td>\n",
       "      <td>21482889.0</td>\n",
       "      <td></td>\n",
       "      <td></td>\n",
       "      <td></td>\n",
       "      <td>4</td>\n",
       "      <td>2020-05-21 12:35:44.190709</td>\n",
       "    </tr>\n",
       "  </tbody>\n",
       "</table>\n",
       "</div>"
      ],
      "text/plain": [
       "                                      doi  \\\n",
       "0                  0.1126/science.abb7331   \n",
       "1  10.0376/cma.j.issn.0376-2491.2020.0002   \n",
       "2             10.1001/amajethics.2020.344   \n",
       "3            10.1001/archdermatol.2010.96   \n",
       "4            10.1001/archdermatol.2011.52   \n",
       "\n",
       "                                               title  \\\n",
       "0  ‘A ticking time bomb’: Scientists worry about ...   \n",
       "1  [Ten hot issues of breast cancer under the nov...   \n",
       "2                            Cohesion in Distancing.   \n",
       "3  Fatal influenza A(H1N1) respiratory tract infe...   \n",
       "4  Clinical correlations with dermatomyositis-spe...   \n",
       "\n",
       "                                            abstract  publication_year  \\\n",
       "0  CAPE TOWN, SOUTH AFRICA—Late on Sunday evening...            2020.0   \n",
       "1                                                               2020.0   \n",
       "2  In isolation, we are physically apart; in soli...            2020.0   \n",
       "3  BACKGROUND The use of biologic agents represen...            2010.0   \n",
       "4  OBJECTIVE To clarify the association of clinic...            2011.0   \n",
       "\n",
       "   publication_month                   journal volume issue     pages  \\\n",
       "0                NaN                   Science                          \n",
       "1                2.0   Chinese medical journal    100     0      e002   \n",
       "2                4.0  The AMA Journal of Ethic     22     4  e344-345   \n",
       "3                NaN   Archives of dermatology                          \n",
       "4                NaN   Archives of dermatology                          \n",
       "\n",
       "         pmid pmcid   dimensions_id arxiv_id  pub_id  \\\n",
       "0         NaN                                      0   \n",
       "1  32036640.0        pub.1124777091                1   \n",
       "2  32345430.0        pub.1127182341                2   \n",
       "3  20566928.0                                      3   \n",
       "4  21482889.0                                      4   \n",
       "\n",
       "                   timestamp  \n",
       "0 2020-05-21 12:35:44.190709  \n",
       "1 2020-05-21 12:35:44.190709  \n",
       "2 2020-05-21 12:35:44.190709  \n",
       "3 2020-05-21 12:35:44.190709  \n",
       "4 2020-05-21 12:35:44.190709  "
      ]
     },
     "execution_count": 253,
     "metadata": {},
     "output_type": "execute_result"
    }
   ],
   "source": [
    "df_pub.head()"
   ]
  },
  {
   "cell_type": "code",
   "execution_count": 254,
   "metadata": {},
   "outputs": [
    {
     "data": {
      "text/plain": [
       "Index(['source', 'url', 'datasource_metadata_id'], dtype='object')"
      ]
     },
     "execution_count": 254,
     "metadata": {},
     "output_type": "execute_result"
    }
   ],
   "source": [
    "# reorder the columns to match the SQL schema\n",
    "\n",
    "df_datasource.columns"
   ]
  },
  {
   "cell_type": "code",
   "execution_count": 255,
   "metadata": {},
   "outputs": [],
   "source": [
    "df_pub = df_pub[['pub_id', 'title', 'abstract', 'publication_year', 'publication_month', 'journal',\n",
    "       'volume', 'issue', 'pages', 'doi', 'pmid', 'pmcid', 'dimensions_id', 'arxiv_id',\n",
    "       'timestamp']]\n",
    "df_who_metadata = df_who_metadata[['who_metadata_id', 'accession_number', 'ref', 'covidence', 'study', 'notes', 'tags',\n",
    "       'pub_id']]\n",
    "df_dimensions_metadata = df_dimensions_metadata[['dimensions_metadata_id', 'dimensions_id', 'source_uid', 'open_access',\n",
    "       'publication_type', 'dimensions_url', 'mesh_terms', 'pub_id']]\n",
    "df_cord_metadata = df_cord_metadata[[ 'cord19_metadata_id', 'source', 'license', 'ms_academic_id',\n",
    "       'who_covidence', 'sha', 'full_text', 'pub_id']]\n",
    "df_datasource = df_datasource[['datasource_metadata_id', 'source', 'url']]"
   ]
  },
  {
   "cell_type": "code",
   "execution_count": 256,
   "metadata": {},
   "outputs": [
    {
     "data": {
      "text/plain": [
       "                                     18518\n",
       "10.1053/j.jvca.2016.01.021               1\n",
       "10.1098/rstb.2011.0100                   1\n",
       "10.1016/j.envint.2020.105689             1\n",
       "10.1007/978-0-387-33012-9_18             1\n",
       "                                     ...  \n",
       "10.1007/s10986-014-9251-y                1\n",
       "10.1016/j.jamcollsurg.2020.04.003        1\n",
       "10.1186/s13054-014-0572-3                1\n",
       "10.1097/ico.0000000000002397             1\n",
       "10.1007/s15010-020-01408-5               1\n",
       "Name: doi, Length: 116535, dtype: int64"
      ]
     },
     "execution_count": 256,
     "metadata": {},
     "output_type": "execute_result"
    }
   ],
   "source": [
    "df_pub.doi.value_counts()"
   ]
  },
  {
   "cell_type": "code",
   "execution_count": 257,
   "metadata": {},
   "outputs": [
    {
     "data": {
      "text/plain": [
       "              133638\n",
       "2004.12799         2\n",
       "2003.13071         2\n",
       "2004.03715         2\n",
       "2001.11021         2\n",
       "               ...  \n",
       "2004.08504         1\n",
       "2005.03599         1\n",
       "2004.07765         1\n",
       "2005.00392         1\n",
       "2005.08400         1\n",
       "Name: arxiv_id, Length: 1408, dtype: int64"
      ]
     },
     "execution_count": 257,
     "metadata": {},
     "output_type": "execute_result"
    }
   ],
   "source": [
    "df_pub.arxiv_id.value_counts()"
   ]
  },
  {
   "cell_type": "code",
   "execution_count": 258,
   "metadata": {},
   "outputs": [
    {
     "data": {
      "text/plain": [
       "'45621    10.1016/s0140-6736(20)30607-3'"
      ]
     },
     "execution_count": 258,
     "metadata": {},
     "output_type": "execute_result"
    }
   ],
   "source": [
    "df_pub[df_pub.doi == \"10.1016/s0140-6736(20)30607-3\"].doi.to_string()"
   ]
  },
  {
   "cell_type": "code",
   "execution_count": 260,
   "metadata": {},
   "outputs": [
    {
     "data": {
      "text/plain": [
       "Index(['cord19_metadata_id', 'source', 'license', 'ms_academic_id',\n",
       "       'who_covidence', 'sha', 'full_text', 'pub_id'],\n",
       "      dtype='object')"
      ]
     },
     "execution_count": 260,
     "metadata": {},
     "output_type": "execute_result"
    }
   ],
   "source": [
    "df_cord_metadata.columns"
   ]
  },
  {
   "cell_type": "markdown",
   "metadata": {},
   "source": [
    "### Dump to CSV"
   ]
  },
  {
   "cell_type": "code",
   "execution_count": 114,
   "metadata": {},
   "outputs": [],
   "source": [
    "### Export the df_pub dataframe for further use\n",
    "\n",
    "df_pub.to_csv(\"datasets_output/df_pub.csv\", compression=\"gzip\", index=False)"
   ]
  },
  {
   "cell_type": "code",
   "execution_count": 115,
   "metadata": {},
   "outputs": [],
   "source": [
    "# export TSV for ingestion\n",
    "\n",
    "df_pub.to_csv(\"datasets_output/sql_tables/pub.csv\",index=False,sep=\"\\t\",header=False)\n",
    "df_cord_metadata.to_csv(\"datasets_output/sql_tables/cord19_metadata.csv\",index=False,sep=\"\\t\",header=False)\n",
    "df_dimensions_metadata.to_csv(\"datasets_output/sql_tables/dimensions_metadata.csv\",index=False,sep=\"\\t\",header=False)\n",
    "df_who_metadata.to_csv(\"datasets_output/sql_tables/who_metadata.csv\",index=False,sep=\"\\t\",header=False)\n",
    "df_datasource.to_csv(\"datasets_output/sql_tables/datasource.csv\",index=False,sep=\"\\t\",header=False)\n",
    "df_pub_to_datasource.to_csv(\"datasets_output/sql_tables/pub_datasource.csv\",index=False,sep=\"\\t\",header=False)"
   ]
  },
  {
   "cell_type": "markdown",
   "metadata": {},
   "source": [
    "### Dump to MySQL\n",
    "\n",
    "Use this if you want to create a MySQL db."
   ]
  },
  {
   "cell_type": "code",
   "execution_count": null,
   "metadata": {},
   "outputs": [],
   "source": [
    "dtype_dict = {'pub_id':Integer, 'title':String, 'abstract':String, 'publication_year':Integer, 'publication_month':Integer, 'journal':String,\n",
    "       'volume':String, 'issue':String, 'pages':String, 'doi':String, 'pmid':Integer, 'pmcid':String, 'timestamp':DateTime}"
   ]
  },
  {
   "cell_type": "code",
   "execution_count": null,
   "metadata": {},
   "outputs": [],
   "source": [
    "# get API key\n",
    "import configparser\n",
    "config = configparser.ConfigParser()\n",
    "config.read(\"credentials/conf.ini\")\n",
    "mysql_username = config[\"MYSQL\"][\"username\"]\n",
    "mysql_password = config[\"MYSQL\"][\"password\"]\n",
    "mysql_database = config[\"MYSQL\"][\"database\"]"
   ]
  },
  {
   "cell_type": "code",
   "execution_count": null,
   "metadata": {},
   "outputs": [],
   "source": [
    "sqlEngine = create_engine('mysql+pymysql://%s:%s@127.0.0.1/%s'%(mysql_username,mysql_password,mysql_database), pool_recycle=3600)\n",
    "dbConnection = sqlEngine.connect()"
   ]
  },
  {
   "cell_type": "code",
   "execution_count": null,
   "metadata": {},
   "outputs": [],
   "source": [
    "# main table\n",
    "table_name = \"pub\"\n",
    "try:\n",
    "    frame = df_pub.to_sql(table_name, dbConnection, if_exists='append', index=False, index_label=\"pub_id\", dtype=dtype_dict);\n",
    "except ValueError as vx:\n",
    "    print(vx)\n",
    "except Exception as ex:   \n",
    "    print(ex)\n",
    "else:\n",
    "    print(\"Table %s created successfully.\"%table_name);   \n",
    "finally:\n",
    "    dbConnection.close()"
   ]
  },
  {
   "cell_type": "code",
   "execution_count": null,
   "metadata": {},
   "outputs": [],
   "source": [
    "sqlEngine = create_engine('mysql+pymysql://%s:%s@127.0.0.1/%s'%(mysql_username,mysql_password,mysql_database), pool_recycle=3600)\n",
    "dbConnection = sqlEngine.connect()"
   ]
  },
  {
   "cell_type": "code",
   "execution_count": null,
   "metadata": {},
   "outputs": [],
   "source": [
    "# other tables\n",
    "try:\n",
    "    frame = df_cord_metadata.to_sql(\"cord19_metadata\", dbConnection, if_exists='append', index=True, index_label=\"cord19_metadata_id\")\n",
    "    frame = df_who_metadata.to_sql(\"who_metadata\", dbConnection, if_exists='append', index=True, index_label=\"who_metadata_id\")\n",
    "    frame = df_dimensions_metadata.to_sql(\"dimensions_metadata\", dbConnection, if_exists='append', index=True, index_label=\"dimensions_metadata_id\")\n",
    "    frame = df_datasource.to_sql(\"datasource\", dbConnection, if_exists='append', index=True, index_label=\"datasource_id\")\n",
    "except ValueError as vx:\n",
    "    print(vx)\n",
    "except Exception as ex:   \n",
    "    print(ex)\n",
    "else:\n",
    "    print(\"Tables created successfully.\");   \n",
    "finally:\n",
    "    dbConnection.close()"
   ]
  },
  {
   "cell_type": "code",
   "execution_count": null,
   "metadata": {},
   "outputs": [],
   "source": [
    "sqlEngine = create_engine('mysql+pymysql://%s:%s@127.0.0.1/%s'%(mysql_username,mysql_password,mysql_database), pool_recycle=3600)\n",
    "dbConnection = sqlEngine.connect()"
   ]
  },
  {
   "cell_type": "code",
   "execution_count": null,
   "metadata": {},
   "outputs": [],
   "source": [
    "# last table\n",
    "try:\n",
    "    frame = df_pub_to_datasource.to_sql(\"pub_datasource\", dbConnection, if_exists='append', index=False, index_label=[\"pub_id\",\"datasource_id\"])\n",
    "except ValueError as vx:\n",
    "    print(vx)\n",
    "except Exception as ex:   \n",
    "    print(ex)\n",
    "else:\n",
    "    print(\"Table created successfully.\");   \n",
    "finally:\n",
    "    dbConnection.close()"
   ]
  },
  {
   "cell_type": "code",
   "execution_count": null,
   "metadata": {},
   "outputs": [],
   "source": []
  }
 ],
 "metadata": {
  "kernelspec": {
   "display_name": "covid",
   "language": "python",
   "name": "covid"
  },
  "language_info": {
   "codemirror_mode": {
    "name": "ipython",
    "version": 3
   },
   "file_extension": ".py",
   "mimetype": "text/x-python",
   "name": "python",
   "nbconvert_exporter": "python",
   "pygments_lexer": "ipython3",
   "version": "3.7.6"
  }
 },
 "nbformat": 4,
 "nbformat_minor": 4
}
