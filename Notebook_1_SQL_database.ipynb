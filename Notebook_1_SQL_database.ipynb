{
 "cells": [
  {
   "cell_type": "markdown",
   "metadata": {},
   "source": [
    "# COVID19-related literature SQL database\n",
    "\n",
    "In this notebook, we create a relational database dump of a set of COVID19-related publication datasets. These include:\n",
    "\n",
    "* CORD19: https://pages.semanticscholar.org/coronavirus-research\n",
    "* Dimensions: https://docs.google.com/spreadsheets/d/1-kTZJZ1GAhJ2m4GAIhw1ZdlgO46JpvX0ZQa232VWRmw/edit#gid=2034285255\n",
    "* WHO: https://www.who.int/emergencies/diseases/novel-coronavirus-2019/global-research-on-novel-coronavirus-2019-ncov"
   ]
  },
  {
   "cell_type": "code",
   "execution_count": 1,
   "metadata": {},
   "outputs": [],
   "source": [
    "# magics, warnings and inports\n",
    "\n",
    "%load_ext autoreload\n",
    "%autoreload 2\n",
    "import warnings; warnings.simplefilter('ignore')\n",
    "\n",
    "import os, random, codecs, json\n",
    "import pandas as pd\n",
    "import numpy as np\n",
    "from tqdm.notebook import tqdm\n",
    "import pymysql\n",
    "from sqlalchemy import create_engine\n",
    "from sqlalchemy import Integer,String,Boolean,DateTime"
   ]
  },
  {
   "cell_type": "markdown",
   "metadata": {},
   "source": [
    "#### Load datasets"
   ]
  },
  {
   "cell_type": "code",
   "execution_count": 2,
   "metadata": {},
   "outputs": [],
   "source": [
    "# point here to the versions of the datasets you want to use\n",
    "dimensions_filename = \"datasets_input/Dimensions_28_03_2020.csv\"\n",
    "who_filename = \"datasets_input/WHO_28_03_2020.csv\"\n",
    "cord19_folder = \"datasets_input/CORD19_2020_03_28\"\n",
    "\n",
    "df_dimensions = pd.read_csv(dimensions_filename, dtype=str)\n",
    "df_who = pd.read_csv(who_filename, dtype=str)\n",
    "df_cord = pd.read_csv(os.path.join(cord19_folder,\"metadata.csv\"), dtype=str)"
   ]
  },
  {
   "cell_type": "markdown",
   "metadata": {},
   "source": [
    "### Prepare dataframes for ingestion"
   ]
  },
  {
   "cell_type": "markdown",
   "metadata": {},
   "source": [
    "#### Clean-up data frames"
   ]
  },
  {
   "cell_type": "markdown",
   "metadata": {},
   "source": [
    "##### Dimensions"
   ]
  },
  {
   "cell_type": "code",
   "execution_count": 3,
   "metadata": {},
   "outputs": [
    {
     "data": {
      "text/html": [
       "<div>\n",
       "<style scoped>\n",
       "    .dataframe tbody tr th:only-of-type {\n",
       "        vertical-align: middle;\n",
       "    }\n",
       "\n",
       "    .dataframe tbody tr th {\n",
       "        vertical-align: top;\n",
       "    }\n",
       "\n",
       "    .dataframe thead th {\n",
       "        text-align: right;\n",
       "    }\n",
       "</style>\n",
       "<table border=\"1\" class=\"dataframe\">\n",
       "  <thead>\n",
       "    <tr style=\"text-align: right;\">\n",
       "      <th></th>\n",
       "      <th>Date added</th>\n",
       "      <th>Publication ID</th>\n",
       "      <th>DOI</th>\n",
       "      <th>PMID</th>\n",
       "      <th>PMCID</th>\n",
       "      <th>Title</th>\n",
       "      <th>Abstract</th>\n",
       "      <th>Source title</th>\n",
       "      <th>Source UID</th>\n",
       "      <th>Publisher</th>\n",
       "      <th>...</th>\n",
       "      <th>Research Organizations - standardized</th>\n",
       "      <th>GRID IDs</th>\n",
       "      <th>City of Research organization</th>\n",
       "      <th>Country of Research organization</th>\n",
       "      <th>Funder</th>\n",
       "      <th>UIDs of supporting grants</th>\n",
       "      <th>Times cited</th>\n",
       "      <th>Altmetric</th>\n",
       "      <th>Source Linkout</th>\n",
       "      <th>Dimensions URL</th>\n",
       "    </tr>\n",
       "  </thead>\n",
       "  <tbody>\n",
       "    <tr>\n",
       "      <th>0</th>\n",
       "      <td>2020-03-23</td>\n",
       "      <td>pub.1125820003</td>\n",
       "      <td>10.29333/ejgm/7850</td>\n",
       "      <td>NaN</td>\n",
       "      <td>NaN</td>\n",
       "      <td>The Possible Immunological Pathways for the Va...</td>\n",
       "      <td>NaN</td>\n",
       "      <td>Electronic Journal of General Medicine</td>\n",
       "      <td>jour.1371209</td>\n",
       "      <td>Modestum</td>\n",
       "      <td>...</td>\n",
       "      <td>NaN</td>\n",
       "      <td>NaN</td>\n",
       "      <td>NaN</td>\n",
       "      <td>NaN</td>\n",
       "      <td>NaN</td>\n",
       "      <td>NaN</td>\n",
       "      <td>0</td>\n",
       "      <td>NaN</td>\n",
       "      <td>NaN</td>\n",
       "      <td>https://app.dimensions.ai/details/publication/...</td>\n",
       "    </tr>\n",
       "    <tr>\n",
       "      <th>1</th>\n",
       "      <td>2020-03-23</td>\n",
       "      <td>pub.1125819565</td>\n",
       "      <td>10.21203/rs.3.rs-18190/v1</td>\n",
       "      <td>NaN</td>\n",
       "      <td>NaN</td>\n",
       "      <td>A Method of Estimating Time-to-Recovery for a ...</td>\n",
       "      <td>NaN</td>\n",
       "      <td>Research Square</td>\n",
       "      <td>jour.1380788</td>\n",
       "      <td>Research Square</td>\n",
       "      <td>...</td>\n",
       "      <td>NaN</td>\n",
       "      <td>NaN</td>\n",
       "      <td>NaN</td>\n",
       "      <td>NaN</td>\n",
       "      <td>NaN</td>\n",
       "      <td>NaN</td>\n",
       "      <td>0</td>\n",
       "      <td>NaN</td>\n",
       "      <td>NaN</td>\n",
       "      <td>https://app.dimensions.ai/details/publication/...</td>\n",
       "    </tr>\n",
       "    <tr>\n",
       "      <th>2</th>\n",
       "      <td>2020-03-23</td>\n",
       "      <td>pub.1125819661</td>\n",
       "      <td>10.2196/preprints.18821</td>\n",
       "      <td>NaN</td>\n",
       "      <td>NaN</td>\n",
       "      <td>Preparation for the quarantine of the cruise s...</td>\n",
       "      <td>NaN</td>\n",
       "      <td>JMIR Preprints</td>\n",
       "      <td>jour.1345647</td>\n",
       "      <td>JMIR Publications</td>\n",
       "      <td>...</td>\n",
       "      <td>NaN</td>\n",
       "      <td>NaN</td>\n",
       "      <td>NaN</td>\n",
       "      <td>NaN</td>\n",
       "      <td>NaN</td>\n",
       "      <td>NaN</td>\n",
       "      <td>0</td>\n",
       "      <td>NaN</td>\n",
       "      <td>http://dx.doi.org/10.2196/preprints.18821</td>\n",
       "      <td>https://app.dimensions.ai/details/publication/...</td>\n",
       "    </tr>\n",
       "    <tr>\n",
       "      <th>3</th>\n",
       "      <td>2020-03-23</td>\n",
       "      <td>pub.1125818201</td>\n",
       "      <td>10.26355/eurrev_202003_20551</td>\n",
       "      <td>32196628</td>\n",
       "      <td>NaN</td>\n",
       "      <td>Differences and similarities between Severe Ac...</td>\n",
       "      <td>NaN</td>\n",
       "      <td>European review for medical and pharmacologica...</td>\n",
       "      <td>jour.1092032</td>\n",
       "      <td>NaN</td>\n",
       "      <td>...</td>\n",
       "      <td>University of Catania</td>\n",
       "      <td>grid.8158.4</td>\n",
       "      <td>Catania</td>\n",
       "      <td>Italy</td>\n",
       "      <td>NaN</td>\n",
       "      <td>NaN</td>\n",
       "      <td>0</td>\n",
       "      <td>1</td>\n",
       "      <td>NaN</td>\n",
       "      <td>https://app.dimensions.ai/details/publication/...</td>\n",
       "    </tr>\n",
       "    <tr>\n",
       "      <th>4</th>\n",
       "      <td>2020-03-23</td>\n",
       "      <td>pub.1125818269</td>\n",
       "      <td>10.12116/j.issn.1004-5619.2020.01.001</td>\n",
       "      <td>32198983</td>\n",
       "      <td>NaN</td>\n",
       "      <td>From SARS-CoV to SARS-CoV-2: The response and ...</td>\n",
       "      <td>Abstract:</td>\n",
       "      <td>Fa yi xue za zhi</td>\n",
       "      <td>jour.1108124</td>\n",
       "      <td>NaN</td>\n",
       "      <td>...</td>\n",
       "      <td>Southern Medical University</td>\n",
       "      <td>grid.284723.8</td>\n",
       "      <td>Guangzhou</td>\n",
       "      <td>China</td>\n",
       "      <td>NaN</td>\n",
       "      <td>NaN</td>\n",
       "      <td>0</td>\n",
       "      <td>NaN</td>\n",
       "      <td>NaN</td>\n",
       "      <td>https://app.dimensions.ai/details/publication/...</td>\n",
       "    </tr>\n",
       "  </tbody>\n",
       "</table>\n",
       "<p>5 rows × 31 columns</p>\n",
       "</div>"
      ],
      "text/plain": [
       "   Date added  Publication ID                                    DOI  \\\n",
       "0  2020-03-23  pub.1125820003                     10.29333/ejgm/7850   \n",
       "1  2020-03-23  pub.1125819565              10.21203/rs.3.rs-18190/v1   \n",
       "2  2020-03-23  pub.1125819661                10.2196/preprints.18821   \n",
       "3  2020-03-23  pub.1125818201           10.26355/eurrev_202003_20551   \n",
       "4  2020-03-23  pub.1125818269  10.12116/j.issn.1004-5619.2020.01.001   \n",
       "\n",
       "       PMID PMCID                                              Title  \\\n",
       "0       NaN   NaN  The Possible Immunological Pathways for the Va...   \n",
       "1       NaN   NaN  A Method of Estimating Time-to-Recovery for a ...   \n",
       "2       NaN   NaN  Preparation for the quarantine of the cruise s...   \n",
       "3  32196628   NaN  Differences and similarities between Severe Ac...   \n",
       "4  32198983   NaN  From SARS-CoV to SARS-CoV-2: The response and ...   \n",
       "\n",
       "     Abstract                                       Source title  \\\n",
       "0         NaN             Electronic Journal of General Medicine   \n",
       "1         NaN                                    Research Square   \n",
       "2         NaN                                     JMIR Preprints   \n",
       "3         NaN  European review for medical and pharmacologica...   \n",
       "4  Abstract:                                    Fa yi xue za zhi   \n",
       "\n",
       "     Source UID          Publisher  ... Research Organizations - standardized  \\\n",
       "0  jour.1371209           Modestum  ...                                   NaN   \n",
       "1  jour.1380788    Research Square  ...                                   NaN   \n",
       "2  jour.1345647  JMIR Publications  ...                                   NaN   \n",
       "3  jour.1092032                NaN  ...                 University of Catania   \n",
       "4  jour.1108124                NaN  ...           Southern Medical University   \n",
       "\n",
       "        GRID IDs City of Research organization  \\\n",
       "0            NaN                           NaN   \n",
       "1            NaN                           NaN   \n",
       "2            NaN                           NaN   \n",
       "3    grid.8158.4                       Catania   \n",
       "4  grid.284723.8                     Guangzhou   \n",
       "\n",
       "  Country of Research organization Funder UIDs of supporting grants  \\\n",
       "0                              NaN    NaN                       NaN   \n",
       "1                              NaN    NaN                       NaN   \n",
       "2                              NaN    NaN                       NaN   \n",
       "3                            Italy    NaN                       NaN   \n",
       "4                            China    NaN                       NaN   \n",
       "\n",
       "  Times cited Altmetric                             Source Linkout  \\\n",
       "0           0       NaN                                        NaN   \n",
       "1           0       NaN                                        NaN   \n",
       "2           0       NaN  http://dx.doi.org/10.2196/preprints.18821   \n",
       "3           0         1                                        NaN   \n",
       "4           0       NaN                                        NaN   \n",
       "\n",
       "                                      Dimensions URL  \n",
       "0  https://app.dimensions.ai/details/publication/...  \n",
       "1  https://app.dimensions.ai/details/publication/...  \n",
       "2  https://app.dimensions.ai/details/publication/...  \n",
       "3  https://app.dimensions.ai/details/publication/...  \n",
       "4  https://app.dimensions.ai/details/publication/...  \n",
       "\n",
       "[5 rows x 31 columns]"
      ]
     },
     "execution_count": 3,
     "metadata": {},
     "output_type": "execute_result"
    }
   ],
   "source": [
    "df_dimensions.head()"
   ]
  },
  {
   "cell_type": "code",
   "execution_count": 4,
   "metadata": {},
   "outputs": [
    {
     "data": {
      "text/plain": [
       "Index(['Date added', 'Publication ID', 'DOI', 'PMID', 'PMCID', 'Title',\n",
       "       'Abstract', 'Source title', 'Source UID', 'Publisher', 'MeSH terms',\n",
       "       'Publication Date', 'PubYear', 'Volume', 'Issue', 'Pagination',\n",
       "       'Open Access', 'Publication Type', 'Authors', 'Corresponding Authors',\n",
       "       'Authors Affiliations', 'Research Organizations - standardized',\n",
       "       'GRID IDs', 'City of Research organization',\n",
       "       'Country of Research organization', 'Funder',\n",
       "       'UIDs of supporting grants', 'Times cited', 'Altmetric',\n",
       "       'Source Linkout', 'Dimensions URL'],\n",
       "      dtype='object')"
      ]
     },
     "execution_count": 4,
     "metadata": {},
     "output_type": "execute_result"
    }
   ],
   "source": [
    "df_dimensions.columns"
   ]
  },
  {
   "cell_type": "code",
   "execution_count": 5,
   "metadata": {},
   "outputs": [],
   "source": [
    "df_dimensions.drop(columns=['Date added', 'Publisher', 'Authors', 'Corresponding Authors',\n",
    "       'Authors Affiliations', 'Research Organizations - standardized',\n",
    "       'GRID IDs', 'City of Research organization',\n",
    "       'Country of Research organization', 'Funder',\n",
    "       'UIDs of supporting grants', 'Times cited', 'Altmetric',\n",
    "       'Source Linkout'], inplace=True)"
   ]
  },
  {
   "cell_type": "code",
   "execution_count": 6,
   "metadata": {},
   "outputs": [
    {
     "data": {
      "text/plain": [
       "Index(['Publication ID', 'DOI', 'PMID', 'PMCID', 'Title', 'Abstract',\n",
       "       'Source title', 'Source UID', 'MeSH terms', 'Publication Date',\n",
       "       'PubYear', 'Volume', 'Issue', 'Pagination', 'Open Access',\n",
       "       'Publication Type', 'Dimensions URL'],\n",
       "      dtype='object')"
      ]
     },
     "execution_count": 6,
     "metadata": {},
     "output_type": "execute_result"
    }
   ],
   "source": [
    "df_dimensions.columns"
   ]
  },
  {
   "cell_type": "code",
   "execution_count": 7,
   "metadata": {},
   "outputs": [],
   "source": [
    "df_dimensions.rename(columns={'Publication ID':'publication_id', 'DOI':'doi', 'PMID':'pmid', 'PMCID':'pmcid', 'Title':'title', 'Abstract':'abstract',\n",
    "       'Source title':'journal', 'Source UID':'source_uid', 'MeSH terms':'mesh_terms', 'Publication Date':'publication_date',\n",
    "       'PubYear':'publication_year', 'Volume':'volume', 'Issue':'issue', 'Pagination':'pages', 'Open Access':'open_access',\n",
    "       'Publication Type':'publication_type', 'Dimensions URL':'dimensions_url'}, inplace=True)"
   ]
  },
  {
   "cell_type": "code",
   "execution_count": 8,
   "metadata": {},
   "outputs": [],
   "source": [
    "def get_year(date):\n",
    "    if len(date)>3 and date[:4].isdigit():\n",
    "        return date[:4]\n",
    "    return \"\"\n",
    "\n",
    "month_to_number = {\"Jan\":\"1\",\"Feb\":\"2\",\"Mar\":\"3\",\"Apr\":\"4\",\"May\":\"5\",\"Jun\":\"6\",\"Jul\":\"7\",\"Aug\":\"8\",\"Sep\":\"9\",\"Oct\":\"10\",\"Nov\":\"11\",\"Dec\":\"12\"}\n",
    "\n",
    "def get_month(date):\n",
    "    if len(date)>6:\n",
    "        if \"-\" in date and date.split(\"-\")[1].isdigit():\n",
    "            return str(int(date.split(\"-\")[1]))\n",
    "        else:\n",
    "            try:\n",
    "                return month_to_number[date.split()[1]]\n",
    "            except:\n",
    "                return \"\"\n",
    "    return \"\""
   ]
  },
  {
   "cell_type": "code",
   "execution_count": 9,
   "metadata": {},
   "outputs": [],
   "source": [
    "df_dimensions[\"publication_year\"] = df_dimensions[\"publication_year\"].apply(get_year)\n",
    "df_dimensions[\"publication_month\"] = df_dimensions[\"publication_date\"].apply(get_month)"
   ]
  },
  {
   "cell_type": "code",
   "execution_count": 10,
   "metadata": {},
   "outputs": [],
   "source": [
    "df_dimensions.drop(columns=\"publication_date\", inplace=True)\n",
    "df_dimensions = df_dimensions.fillna('')"
   ]
  },
  {
   "cell_type": "code",
   "execution_count": 11,
   "metadata": {},
   "outputs": [
    {
     "data": {
      "text/html": [
       "<div>\n",
       "<style scoped>\n",
       "    .dataframe tbody tr th:only-of-type {\n",
       "        vertical-align: middle;\n",
       "    }\n",
       "\n",
       "    .dataframe tbody tr th {\n",
       "        vertical-align: top;\n",
       "    }\n",
       "\n",
       "    .dataframe thead th {\n",
       "        text-align: right;\n",
       "    }\n",
       "</style>\n",
       "<table border=\"1\" class=\"dataframe\">\n",
       "  <thead>\n",
       "    <tr style=\"text-align: right;\">\n",
       "      <th></th>\n",
       "      <th>publication_id</th>\n",
       "      <th>doi</th>\n",
       "      <th>pmid</th>\n",
       "      <th>pmcid</th>\n",
       "      <th>title</th>\n",
       "      <th>abstract</th>\n",
       "      <th>journal</th>\n",
       "      <th>source_uid</th>\n",
       "      <th>mesh_terms</th>\n",
       "      <th>publication_year</th>\n",
       "      <th>volume</th>\n",
       "      <th>issue</th>\n",
       "      <th>pages</th>\n",
       "      <th>open_access</th>\n",
       "      <th>publication_type</th>\n",
       "      <th>dimensions_url</th>\n",
       "      <th>publication_month</th>\n",
       "    </tr>\n",
       "  </thead>\n",
       "  <tbody>\n",
       "    <tr>\n",
       "      <th>0</th>\n",
       "      <td>pub.1125820003</td>\n",
       "      <td>10.29333/ejgm/7850</td>\n",
       "      <td></td>\n",
       "      <td></td>\n",
       "      <td>The Possible Immunological Pathways for the Va...</td>\n",
       "      <td></td>\n",
       "      <td>Electronic Journal of General Medicine</td>\n",
       "      <td>jour.1371209</td>\n",
       "      <td></td>\n",
       "      <td>2020</td>\n",
       "      <td>17</td>\n",
       "      <td>4</td>\n",
       "      <td></td>\n",
       "      <td>Closed</td>\n",
       "      <td>article</td>\n",
       "      <td>https://app.dimensions.ai/details/publication/...</td>\n",
       "      <td>3</td>\n",
       "    </tr>\n",
       "    <tr>\n",
       "      <th>1</th>\n",
       "      <td>pub.1125819565</td>\n",
       "      <td>10.21203/rs.3.rs-18190/v1</td>\n",
       "      <td></td>\n",
       "      <td></td>\n",
       "      <td>A Method of Estimating Time-to-Recovery for a ...</td>\n",
       "      <td></td>\n",
       "      <td>Research Square</td>\n",
       "      <td>jour.1380788</td>\n",
       "      <td></td>\n",
       "      <td>2020</td>\n",
       "      <td></td>\n",
       "      <td></td>\n",
       "      <td></td>\n",
       "      <td>All OA; Green, Submitted</td>\n",
       "      <td>preprint</td>\n",
       "      <td>https://app.dimensions.ai/details/publication/...</td>\n",
       "      <td>3</td>\n",
       "    </tr>\n",
       "    <tr>\n",
       "      <th>2</th>\n",
       "      <td>pub.1125819661</td>\n",
       "      <td>10.2196/preprints.18821</td>\n",
       "      <td></td>\n",
       "      <td></td>\n",
       "      <td>Preparation for the quarantine of the cruise s...</td>\n",
       "      <td></td>\n",
       "      <td>JMIR Preprints</td>\n",
       "      <td>jour.1345647</td>\n",
       "      <td></td>\n",
       "      <td>2020</td>\n",
       "      <td></td>\n",
       "      <td></td>\n",
       "      <td></td>\n",
       "      <td>All OA; Green, Submitted</td>\n",
       "      <td>preprint</td>\n",
       "      <td>https://app.dimensions.ai/details/publication/...</td>\n",
       "      <td>3</td>\n",
       "    </tr>\n",
       "    <tr>\n",
       "      <th>3</th>\n",
       "      <td>pub.1125818201</td>\n",
       "      <td>10.26355/eurrev_202003_20551</td>\n",
       "      <td>32196628</td>\n",
       "      <td></td>\n",
       "      <td>Differences and similarities between Severe Ac...</td>\n",
       "      <td></td>\n",
       "      <td>European review for medical and pharmacologica...</td>\n",
       "      <td>jour.1092032</td>\n",
       "      <td></td>\n",
       "      <td>2020</td>\n",
       "      <td>24</td>\n",
       "      <td>5</td>\n",
       "      <td>2781-2783</td>\n",
       "      <td>Closed</td>\n",
       "      <td>article</td>\n",
       "      <td>https://app.dimensions.ai/details/publication/...</td>\n",
       "      <td>3</td>\n",
       "    </tr>\n",
       "    <tr>\n",
       "      <th>4</th>\n",
       "      <td>pub.1125818269</td>\n",
       "      <td>10.12116/j.issn.1004-5619.2020.01.001</td>\n",
       "      <td>32198983</td>\n",
       "      <td></td>\n",
       "      <td>From SARS-CoV to SARS-CoV-2: The response and ...</td>\n",
       "      <td>Abstract:</td>\n",
       "      <td>Fa yi xue za zhi</td>\n",
       "      <td>jour.1108124</td>\n",
       "      <td></td>\n",
       "      <td>2020</td>\n",
       "      <td>36</td>\n",
       "      <td>1</td>\n",
       "      <td>1-3</td>\n",
       "      <td>Closed</td>\n",
       "      <td>article</td>\n",
       "      <td>https://app.dimensions.ai/details/publication/...</td>\n",
       "      <td>2</td>\n",
       "    </tr>\n",
       "  </tbody>\n",
       "</table>\n",
       "</div>"
      ],
      "text/plain": [
       "   publication_id                                    doi      pmid pmcid  \\\n",
       "0  pub.1125820003                     10.29333/ejgm/7850                   \n",
       "1  pub.1125819565              10.21203/rs.3.rs-18190/v1                   \n",
       "2  pub.1125819661                10.2196/preprints.18821                   \n",
       "3  pub.1125818201           10.26355/eurrev_202003_20551  32196628         \n",
       "4  pub.1125818269  10.12116/j.issn.1004-5619.2020.01.001  32198983         \n",
       "\n",
       "                                               title    abstract  \\\n",
       "0  The Possible Immunological Pathways for the Va...               \n",
       "1  A Method of Estimating Time-to-Recovery for a ...               \n",
       "2  Preparation for the quarantine of the cruise s...               \n",
       "3  Differences and similarities between Severe Ac...               \n",
       "4  From SARS-CoV to SARS-CoV-2: The response and ...  Abstract:    \n",
       "\n",
       "                                             journal    source_uid mesh_terms  \\\n",
       "0             Electronic Journal of General Medicine  jour.1371209              \n",
       "1                                    Research Square  jour.1380788              \n",
       "2                                     JMIR Preprints  jour.1345647              \n",
       "3  European review for medical and pharmacologica...  jour.1092032              \n",
       "4                                   Fa yi xue za zhi  jour.1108124              \n",
       "\n",
       "  publication_year volume issue      pages               open_access  \\\n",
       "0             2020     17     4                               Closed   \n",
       "1             2020                          All OA; Green, Submitted   \n",
       "2             2020                          All OA; Green, Submitted   \n",
       "3             2020     24     5  2781-2783                    Closed   \n",
       "4             2020     36     1        1-3                    Closed   \n",
       "\n",
       "  publication_type                                     dimensions_url  \\\n",
       "0          article  https://app.dimensions.ai/details/publication/...   \n",
       "1         preprint  https://app.dimensions.ai/details/publication/...   \n",
       "2         preprint  https://app.dimensions.ai/details/publication/...   \n",
       "3          article  https://app.dimensions.ai/details/publication/...   \n",
       "4          article  https://app.dimensions.ai/details/publication/...   \n",
       "\n",
       "  publication_month  \n",
       "0                 3  \n",
       "1                 3  \n",
       "2                 3  \n",
       "3                 3  \n",
       "4                 2  "
      ]
     },
     "execution_count": 11,
     "metadata": {},
     "output_type": "execute_result"
    }
   ],
   "source": [
    "df_dimensions.head()"
   ]
  },
  {
   "cell_type": "code",
   "execution_count": 12,
   "metadata": {},
   "outputs": [
    {
     "data": {
      "text/plain": [
       "(120, 17)"
      ]
     },
     "execution_count": 12,
     "metadata": {},
     "output_type": "execute_result"
    }
   ],
   "source": [
    "df_dimensions[df_dimensions.doi==\"\"].shape"
   ]
  },
  {
   "cell_type": "markdown",
   "metadata": {},
   "source": [
    "##### WHO"
   ]
  },
  {
   "cell_type": "code",
   "execution_count": 13,
   "metadata": {},
   "outputs": [
    {
     "data": {
      "text/html": [
       "<div>\n",
       "<style scoped>\n",
       "    .dataframe tbody tr th:only-of-type {\n",
       "        vertical-align: middle;\n",
       "    }\n",
       "\n",
       "    .dataframe tbody tr th {\n",
       "        vertical-align: top;\n",
       "    }\n",
       "\n",
       "    .dataframe thead th {\n",
       "        text-align: right;\n",
       "    }\n",
       "</style>\n",
       "<table border=\"1\" class=\"dataframe\">\n",
       "  <thead>\n",
       "    <tr style=\"text-align: right;\">\n",
       "      <th></th>\n",
       "      <th>Title</th>\n",
       "      <th>Authors</th>\n",
       "      <th>Abstract</th>\n",
       "      <th>Published Year</th>\n",
       "      <th>Published Month</th>\n",
       "      <th>Journal</th>\n",
       "      <th>Volume</th>\n",
       "      <th>Issue</th>\n",
       "      <th>Pages</th>\n",
       "      <th>Accession Number</th>\n",
       "      <th>DOI</th>\n",
       "      <th>Ref</th>\n",
       "      <th>Covidence #</th>\n",
       "      <th>Study</th>\n",
       "      <th>Notes</th>\n",
       "      <th>Tags</th>\n",
       "    </tr>\n",
       "  </thead>\n",
       "  <tbody>\n",
       "    <tr>\n",
       "      <th>0</th>\n",
       "      <td>Disseminated intravascular coagulation in pati...</td>\n",
       "      <td>Lillicrap, David</td>\n",
       "      <td>NaN</td>\n",
       "      <td>2020</td>\n",
       "      <td>NaN</td>\n",
       "      <td>Journal of thrombosis and haemostasis : JTH</td>\n",
       "      <td>NaN</td>\n",
       "      <td>NaN</td>\n",
       "      <td>NaN</td>\n",
       "      <td>NaN</td>\n",
       "      <td>10.1111/jth.14781</td>\n",
       "      <td>16680</td>\n",
       "      <td>#15962</td>\n",
       "      <td>Lillicrap 2020</td>\n",
       "      <td>NaN</td>\n",
       "      <td>* Case study/series; Clinical aspects, diagnos...</td>\n",
       "    </tr>\n",
       "    <tr>\n",
       "      <th>1</th>\n",
       "      <td>Chest CT Findings in a Pregnant Patient with 2...</td>\n",
       "      <td>Liao, Xinggui; Yang, Huan; Kong, Junfeng; Yang...</td>\n",
       "      <td>NaN</td>\n",
       "      <td>2020</td>\n",
       "      <td>NaN</td>\n",
       "      <td>Balkan medical journal</td>\n",
       "      <td>NaN</td>\n",
       "      <td>NaN</td>\n",
       "      <td>NaN</td>\n",
       "      <td>NaN</td>\n",
       "      <td>10.4274/balkanmedj.galenos.2020.2020.3.89</td>\n",
       "      <td>16639</td>\n",
       "      <td>#15947</td>\n",
       "      <td>Liao 2020</td>\n",
       "      <td>NaN</td>\n",
       "      <td>* Case study/series; Clinical aspects, diagnos...</td>\n",
       "    </tr>\n",
       "    <tr>\n",
       "      <th>2</th>\n",
       "      <td>A novel bacterium-like particle vaccine displa...</td>\n",
       "      <td>Li, E.; Chi, H.; Huang, P.; Yan, F.; Zhang, Y....</td>\n",
       "      <td>Middle East respiratory syndrome coronavirus (...</td>\n",
       "      <td>2019</td>\n",
       "      <td>NaN</td>\n",
       "      <td>Viruses</td>\n",
       "      <td>11</td>\n",
       "      <td>9</td>\n",
       "      <td>799</td>\n",
       "      <td>NaN</td>\n",
       "      <td>http://dx.doi.org/10.3390/v11090799</td>\n",
       "      <td>17043</td>\n",
       "      <td>#15503</td>\n",
       "      <td>Li 2019</td>\n",
       "      <td>NaN</td>\n",
       "      <td>* Epidemiological study; Other related disease...</td>\n",
       "    </tr>\n",
       "    <tr>\n",
       "      <th>3</th>\n",
       "      <td>Covid-19: Don’t forget the impact on US family...</td>\n",
       "      <td>Kamerow, Douglas</td>\n",
       "      <td>As covid-19 continues its exponential growth i...</td>\n",
       "      <td>2020</td>\n",
       "      <td>NaN</td>\n",
       "      <td>BMJ</td>\n",
       "      <td>368</td>\n",
       "      <td>NaN</td>\n",
       "      <td>m1260-m1260</td>\n",
       "      <td>NaN</td>\n",
       "      <td>10.1136/bmj.m1260</td>\n",
       "      <td>16622</td>\n",
       "      <td>#15923</td>\n",
       "      <td>Kamerow 2020</td>\n",
       "      <td>NaN</td>\n",
       "      <td>* Opinion piece; Epidemiology; Ethics, social ...</td>\n",
       "    </tr>\n",
       "    <tr>\n",
       "      <th>4</th>\n",
       "      <td>Covid-19: risk factors for severe disease and ...</td>\n",
       "      <td>Jordan, Rachel E.; Adab, Peymane; Cheng, K. K.</td>\n",
       "      <td>A long list is emerging from largely unadjuste...</td>\n",
       "      <td>2020</td>\n",
       "      <td>NaN</td>\n",
       "      <td>BMJ</td>\n",
       "      <td>368</td>\n",
       "      <td>NaN</td>\n",
       "      <td>m1198-m1198</td>\n",
       "      <td>NaN</td>\n",
       "      <td>10.1136/bmj.m1198</td>\n",
       "      <td>16621</td>\n",
       "      <td>#15924</td>\n",
       "      <td>Jordan 2020</td>\n",
       "      <td>NaN</td>\n",
       "      <td>* Epidemiological study; Epidemiology</td>\n",
       "    </tr>\n",
       "  </tbody>\n",
       "</table>\n",
       "</div>"
      ],
      "text/plain": [
       "                                               Title  \\\n",
       "0  Disseminated intravascular coagulation in pati...   \n",
       "1  Chest CT Findings in a Pregnant Patient with 2...   \n",
       "2  A novel bacterium-like particle vaccine displa...   \n",
       "3  Covid-19: Don’t forget the impact on US family...   \n",
       "4  Covid-19: risk factors for severe disease and ...   \n",
       "\n",
       "                                             Authors  \\\n",
       "0                                   Lillicrap, David   \n",
       "1  Liao, Xinggui; Yang, Huan; Kong, Junfeng; Yang...   \n",
       "2  Li, E.; Chi, H.; Huang, P.; Yan, F.; Zhang, Y....   \n",
       "3                                   Kamerow, Douglas   \n",
       "4     Jordan, Rachel E.; Adab, Peymane; Cheng, K. K.   \n",
       "\n",
       "                                            Abstract Published Year  \\\n",
       "0                                                NaN           2020   \n",
       "1                                                NaN           2020   \n",
       "2  Middle East respiratory syndrome coronavirus (...           2019   \n",
       "3  As covid-19 continues its exponential growth i...           2020   \n",
       "4  A long list is emerging from largely unadjuste...           2020   \n",
       "\n",
       "  Published Month                                      Journal Volume Issue  \\\n",
       "0             NaN  Journal of thrombosis and haemostasis : JTH    NaN   NaN   \n",
       "1             NaN                       Balkan medical journal    NaN   NaN   \n",
       "2             NaN                                      Viruses     11     9   \n",
       "3             NaN                                          BMJ    368   NaN   \n",
       "4             NaN                                          BMJ    368   NaN   \n",
       "\n",
       "         Pages Accession Number                                        DOI  \\\n",
       "0          NaN              NaN                          10.1111/jth.14781   \n",
       "1          NaN              NaN  10.4274/balkanmedj.galenos.2020.2020.3.89   \n",
       "2          799              NaN        http://dx.doi.org/10.3390/v11090799   \n",
       "3  m1260-m1260              NaN                          10.1136/bmj.m1260   \n",
       "4  m1198-m1198              NaN                          10.1136/bmj.m1198   \n",
       "\n",
       "     Ref Covidence #           Study Notes  \\\n",
       "0  16680      #15962  Lillicrap 2020   NaN   \n",
       "1  16639      #15947       Liao 2020   NaN   \n",
       "2  17043      #15503         Li 2019   NaN   \n",
       "3  16622      #15923    Kamerow 2020   NaN   \n",
       "4  16621      #15924     Jordan 2020   NaN   \n",
       "\n",
       "                                                Tags  \n",
       "0  * Case study/series; Clinical aspects, diagnos...  \n",
       "1  * Case study/series; Clinical aspects, diagnos...  \n",
       "2  * Epidemiological study; Other related disease...  \n",
       "3  * Opinion piece; Epidemiology; Ethics, social ...  \n",
       "4              * Epidemiological study; Epidemiology  "
      ]
     },
     "execution_count": 13,
     "metadata": {},
     "output_type": "execute_result"
    }
   ],
   "source": [
    "df_who.head()"
   ]
  },
  {
   "cell_type": "code",
   "execution_count": 14,
   "metadata": {},
   "outputs": [
    {
     "data": {
      "text/plain": [
       "Index(['Title', 'Authors', 'Abstract', 'Published Year', 'Published Month',\n",
       "       'Journal', 'Volume', 'Issue', 'Pages', 'Accession Number', 'DOI', 'Ref',\n",
       "       'Covidence #', 'Study', 'Notes', 'Tags'],\n",
       "      dtype='object')"
      ]
     },
     "execution_count": 14,
     "metadata": {},
     "output_type": "execute_result"
    }
   ],
   "source": [
    "df_who.columns"
   ]
  },
  {
   "cell_type": "code",
   "execution_count": 15,
   "metadata": {},
   "outputs": [],
   "source": [
    "df_who.drop(columns=\"Authors\", inplace=True)"
   ]
  },
  {
   "cell_type": "code",
   "execution_count": 16,
   "metadata": {},
   "outputs": [],
   "source": [
    "df_who.rename(columns={'Title':'title', 'Abstract':'abstract', 'Published Year':'publication_year', 'Published Month':'publication_month',\n",
    "       'Journal':'journal', 'Volume':'volume', 'Issue':'issue', 'Pages':'pages', 'Accession Number':'accession_number', 'DOI':'doi', 'Ref':'ref',\n",
    "       'Covidence #':'covidence', 'Study':'study', 'Notes':'notes', 'Tags':'tags'}, inplace=True)"
   ]
  },
  {
   "cell_type": "code",
   "execution_count": 17,
   "metadata": {},
   "outputs": [],
   "source": [
    "df_who[\"pmid\"] = \"\"\n",
    "df_who[\"pmcid\"] = \"\"\n",
    "df_who = df_who.fillna('')"
   ]
  },
  {
   "cell_type": "code",
   "execution_count": 18,
   "metadata": {},
   "outputs": [
    {
     "data": {
      "text/html": [
       "<div>\n",
       "<style scoped>\n",
       "    .dataframe tbody tr th:only-of-type {\n",
       "        vertical-align: middle;\n",
       "    }\n",
       "\n",
       "    .dataframe tbody tr th {\n",
       "        vertical-align: top;\n",
       "    }\n",
       "\n",
       "    .dataframe thead th {\n",
       "        text-align: right;\n",
       "    }\n",
       "</style>\n",
       "<table border=\"1\" class=\"dataframe\">\n",
       "  <thead>\n",
       "    <tr style=\"text-align: right;\">\n",
       "      <th></th>\n",
       "      <th>title</th>\n",
       "      <th>abstract</th>\n",
       "      <th>publication_year</th>\n",
       "      <th>publication_month</th>\n",
       "      <th>journal</th>\n",
       "      <th>volume</th>\n",
       "      <th>issue</th>\n",
       "      <th>pages</th>\n",
       "      <th>accession_number</th>\n",
       "      <th>doi</th>\n",
       "      <th>ref</th>\n",
       "      <th>covidence</th>\n",
       "      <th>study</th>\n",
       "      <th>notes</th>\n",
       "      <th>tags</th>\n",
       "      <th>pmid</th>\n",
       "      <th>pmcid</th>\n",
       "    </tr>\n",
       "  </thead>\n",
       "  <tbody>\n",
       "    <tr>\n",
       "      <th>0</th>\n",
       "      <td>Disseminated intravascular coagulation in pati...</td>\n",
       "      <td></td>\n",
       "      <td>2020</td>\n",
       "      <td></td>\n",
       "      <td>Journal of thrombosis and haemostasis : JTH</td>\n",
       "      <td></td>\n",
       "      <td></td>\n",
       "      <td></td>\n",
       "      <td></td>\n",
       "      <td>10.1111/jth.14781</td>\n",
       "      <td>16680</td>\n",
       "      <td>#15962</td>\n",
       "      <td>Lillicrap 2020</td>\n",
       "      <td></td>\n",
       "      <td>* Case study/series; Clinical aspects, diagnos...</td>\n",
       "      <td></td>\n",
       "      <td></td>\n",
       "    </tr>\n",
       "    <tr>\n",
       "      <th>1</th>\n",
       "      <td>Chest CT Findings in a Pregnant Patient with 2...</td>\n",
       "      <td></td>\n",
       "      <td>2020</td>\n",
       "      <td></td>\n",
       "      <td>Balkan medical journal</td>\n",
       "      <td></td>\n",
       "      <td></td>\n",
       "      <td></td>\n",
       "      <td></td>\n",
       "      <td>10.4274/balkanmedj.galenos.2020.2020.3.89</td>\n",
       "      <td>16639</td>\n",
       "      <td>#15947</td>\n",
       "      <td>Liao 2020</td>\n",
       "      <td></td>\n",
       "      <td>* Case study/series; Clinical aspects, diagnos...</td>\n",
       "      <td></td>\n",
       "      <td></td>\n",
       "    </tr>\n",
       "    <tr>\n",
       "      <th>2</th>\n",
       "      <td>A novel bacterium-like particle vaccine displa...</td>\n",
       "      <td>Middle East respiratory syndrome coronavirus (...</td>\n",
       "      <td>2019</td>\n",
       "      <td></td>\n",
       "      <td>Viruses</td>\n",
       "      <td>11</td>\n",
       "      <td>9</td>\n",
       "      <td>799</td>\n",
       "      <td></td>\n",
       "      <td>http://dx.doi.org/10.3390/v11090799</td>\n",
       "      <td>17043</td>\n",
       "      <td>#15503</td>\n",
       "      <td>Li 2019</td>\n",
       "      <td></td>\n",
       "      <td>* Epidemiological study; Other related disease...</td>\n",
       "      <td></td>\n",
       "      <td></td>\n",
       "    </tr>\n",
       "    <tr>\n",
       "      <th>3</th>\n",
       "      <td>Covid-19: Don’t forget the impact on US family...</td>\n",
       "      <td>As covid-19 continues its exponential growth i...</td>\n",
       "      <td>2020</td>\n",
       "      <td></td>\n",
       "      <td>BMJ</td>\n",
       "      <td>368</td>\n",
       "      <td></td>\n",
       "      <td>m1260-m1260</td>\n",
       "      <td></td>\n",
       "      <td>10.1136/bmj.m1260</td>\n",
       "      <td>16622</td>\n",
       "      <td>#15923</td>\n",
       "      <td>Kamerow 2020</td>\n",
       "      <td></td>\n",
       "      <td>* Opinion piece; Epidemiology; Ethics, social ...</td>\n",
       "      <td></td>\n",
       "      <td></td>\n",
       "    </tr>\n",
       "    <tr>\n",
       "      <th>4</th>\n",
       "      <td>Covid-19: risk factors for severe disease and ...</td>\n",
       "      <td>A long list is emerging from largely unadjuste...</td>\n",
       "      <td>2020</td>\n",
       "      <td></td>\n",
       "      <td>BMJ</td>\n",
       "      <td>368</td>\n",
       "      <td></td>\n",
       "      <td>m1198-m1198</td>\n",
       "      <td></td>\n",
       "      <td>10.1136/bmj.m1198</td>\n",
       "      <td>16621</td>\n",
       "      <td>#15924</td>\n",
       "      <td>Jordan 2020</td>\n",
       "      <td></td>\n",
       "      <td>* Epidemiological study; Epidemiology</td>\n",
       "      <td></td>\n",
       "      <td></td>\n",
       "    </tr>\n",
       "  </tbody>\n",
       "</table>\n",
       "</div>"
      ],
      "text/plain": [
       "                                               title  \\\n",
       "0  Disseminated intravascular coagulation in pati...   \n",
       "1  Chest CT Findings in a Pregnant Patient with 2...   \n",
       "2  A novel bacterium-like particle vaccine displa...   \n",
       "3  Covid-19: Don’t forget the impact on US family...   \n",
       "4  Covid-19: risk factors for severe disease and ...   \n",
       "\n",
       "                                            abstract publication_year  \\\n",
       "0                                                                2020   \n",
       "1                                                                2020   \n",
       "2  Middle East respiratory syndrome coronavirus (...             2019   \n",
       "3  As covid-19 continues its exponential growth i...             2020   \n",
       "4  A long list is emerging from largely unadjuste...             2020   \n",
       "\n",
       "  publication_month                                      journal volume issue  \\\n",
       "0                    Journal of thrombosis and haemostasis : JTH                \n",
       "1                                         Balkan medical journal                \n",
       "2                                                        Viruses     11     9   \n",
       "3                                                            BMJ    368         \n",
       "4                                                            BMJ    368         \n",
       "\n",
       "         pages accession_number                                        doi  \\\n",
       "0                                                        10.1111/jth.14781   \n",
       "1                                10.4274/balkanmedj.galenos.2020.2020.3.89   \n",
       "2          799                         http://dx.doi.org/10.3390/v11090799   \n",
       "3  m1260-m1260                                           10.1136/bmj.m1260   \n",
       "4  m1198-m1198                                           10.1136/bmj.m1198   \n",
       "\n",
       "     ref covidence           study notes  \\\n",
       "0  16680    #15962  Lillicrap 2020         \n",
       "1  16639    #15947       Liao 2020         \n",
       "2  17043    #15503         Li 2019         \n",
       "3  16622    #15923    Kamerow 2020         \n",
       "4  16621    #15924     Jordan 2020         \n",
       "\n",
       "                                                tags pmid pmcid  \n",
       "0  * Case study/series; Clinical aspects, diagnos...             \n",
       "1  * Case study/series; Clinical aspects, diagnos...             \n",
       "2  * Epidemiological study; Other related disease...             \n",
       "3  * Opinion piece; Epidemiology; Ethics, social ...             \n",
       "4              * Epidemiological study; Epidemiology             "
      ]
     },
     "execution_count": 18,
     "metadata": {},
     "output_type": "execute_result"
    }
   ],
   "source": [
    "df_who.head()"
   ]
  },
  {
   "cell_type": "code",
   "execution_count": 19,
   "metadata": {},
   "outputs": [
    {
     "data": {
      "text/plain": [
       "(440, 17)"
      ]
     },
     "execution_count": 19,
     "metadata": {},
     "output_type": "execute_result"
    }
   ],
   "source": [
    "df_who[df_who.doi==\"\"].shape"
   ]
  },
  {
   "cell_type": "markdown",
   "metadata": {},
   "source": [
    "##### CORD19"
   ]
  },
  {
   "cell_type": "code",
   "execution_count": 20,
   "metadata": {},
   "outputs": [
    {
     "data": {
      "text/html": [
       "<div>\n",
       "<style scoped>\n",
       "    .dataframe tbody tr th:only-of-type {\n",
       "        vertical-align: middle;\n",
       "    }\n",
       "\n",
       "    .dataframe tbody tr th {\n",
       "        vertical-align: top;\n",
       "    }\n",
       "\n",
       "    .dataframe thead th {\n",
       "        text-align: right;\n",
       "    }\n",
       "</style>\n",
       "<table border=\"1\" class=\"dataframe\">\n",
       "  <thead>\n",
       "    <tr style=\"text-align: right;\">\n",
       "      <th></th>\n",
       "      <th>cord_uid</th>\n",
       "      <th>sha</th>\n",
       "      <th>source_x</th>\n",
       "      <th>title</th>\n",
       "      <th>doi</th>\n",
       "      <th>pmcid</th>\n",
       "      <th>pubmed_id</th>\n",
       "      <th>license</th>\n",
       "      <th>abstract</th>\n",
       "      <th>publish_time</th>\n",
       "      <th>authors</th>\n",
       "      <th>journal</th>\n",
       "      <th>Microsoft Academic Paper ID</th>\n",
       "      <th>WHO #Covidence</th>\n",
       "      <th>has_full_text</th>\n",
       "      <th>full_text_file</th>\n",
       "      <th>url</th>\n",
       "    </tr>\n",
       "  </thead>\n",
       "  <tbody>\n",
       "    <tr>\n",
       "      <th>0</th>\n",
       "      <td>vho70jcx</td>\n",
       "      <td>f056da9c64fbf00a4645ae326e8a4339d015d155</td>\n",
       "      <td>biorxiv</td>\n",
       "      <td>SIANN: Strain Identification by Alignment to N...</td>\n",
       "      <td>10.1101/001727</td>\n",
       "      <td>NaN</td>\n",
       "      <td>NaN</td>\n",
       "      <td>biorxiv</td>\n",
       "      <td>Next-generation sequencing is increasingly bei...</td>\n",
       "      <td>2014-01-10</td>\n",
       "      <td>Samuel Minot; Stephen D Turner; Krista L Ternu...</td>\n",
       "      <td>NaN</td>\n",
       "      <td>NaN</td>\n",
       "      <td>NaN</td>\n",
       "      <td>True</td>\n",
       "      <td>biorxiv_medrxiv</td>\n",
       "      <td>https://doi.org/10.1101/001727</td>\n",
       "    </tr>\n",
       "    <tr>\n",
       "      <th>1</th>\n",
       "      <td>i9tbix2v</td>\n",
       "      <td>daf32e013d325a6feb80e83d15aabc64a48fae33</td>\n",
       "      <td>biorxiv</td>\n",
       "      <td>Spatial epidemiology of networked metapopulati...</td>\n",
       "      <td>10.1101/003889</td>\n",
       "      <td>NaN</td>\n",
       "      <td>NaN</td>\n",
       "      <td>biorxiv</td>\n",
       "      <td>An emerging disease is one infectious epidemic...</td>\n",
       "      <td>2014-06-04</td>\n",
       "      <td>Lin WANG; Xiang Li</td>\n",
       "      <td>NaN</td>\n",
       "      <td>NaN</td>\n",
       "      <td>NaN</td>\n",
       "      <td>True</td>\n",
       "      <td>biorxiv_medrxiv</td>\n",
       "      <td>https://doi.org/10.1101/003889</td>\n",
       "    </tr>\n",
       "    <tr>\n",
       "      <th>2</th>\n",
       "      <td>62gfisc6</td>\n",
       "      <td>f33c6d94b0efaa198f8f3f20e644625fa3fe10d2</td>\n",
       "      <td>biorxiv</td>\n",
       "      <td>Sequencing of the human IG light chain loci fr...</td>\n",
       "      <td>10.1101/006866</td>\n",
       "      <td>NaN</td>\n",
       "      <td>NaN</td>\n",
       "      <td>biorxiv</td>\n",
       "      <td>Germline variation at immunoglobulin gene (IG)...</td>\n",
       "      <td>2014-07-03</td>\n",
       "      <td>Corey T Watson; Karyn Meltz Steinberg; Tina A ...</td>\n",
       "      <td>NaN</td>\n",
       "      <td>NaN</td>\n",
       "      <td>NaN</td>\n",
       "      <td>True</td>\n",
       "      <td>biorxiv_medrxiv</td>\n",
       "      <td>https://doi.org/10.1101/006866</td>\n",
       "    </tr>\n",
       "    <tr>\n",
       "      <th>3</th>\n",
       "      <td>058r9486</td>\n",
       "      <td>4da8a87e614373d56070ed272487451266dce919</td>\n",
       "      <td>biorxiv</td>\n",
       "      <td>Bayesian mixture analysis for metagenomic comm...</td>\n",
       "      <td>10.1101/007476</td>\n",
       "      <td>NaN</td>\n",
       "      <td>NaN</td>\n",
       "      <td>biorxiv</td>\n",
       "      <td>Deep sequencing of clinical samples is now an ...</td>\n",
       "      <td>2014-07-25</td>\n",
       "      <td>Sofia Morfopoulou; Vincent Plagnol</td>\n",
       "      <td>NaN</td>\n",
       "      <td>NaN</td>\n",
       "      <td>NaN</td>\n",
       "      <td>True</td>\n",
       "      <td>biorxiv_medrxiv</td>\n",
       "      <td>https://doi.org/10.1101/007476</td>\n",
       "    </tr>\n",
       "    <tr>\n",
       "      <th>4</th>\n",
       "      <td>wich35l7</td>\n",
       "      <td>eccef80cfbe078235df22398f195d5db462d8000</td>\n",
       "      <td>biorxiv</td>\n",
       "      <td>Mapping a viral phylogeny onto outbreak trees ...</td>\n",
       "      <td>10.1101/010389</td>\n",
       "      <td>NaN</td>\n",
       "      <td>NaN</td>\n",
       "      <td>biorxiv</td>\n",
       "      <td>Developing methods to reconstruct transmission...</td>\n",
       "      <td>2014-11-11</td>\n",
       "      <td>Stephen P Velsko; Jonathan E Allen</td>\n",
       "      <td>NaN</td>\n",
       "      <td>NaN</td>\n",
       "      <td>NaN</td>\n",
       "      <td>True</td>\n",
       "      <td>biorxiv_medrxiv</td>\n",
       "      <td>https://doi.org/10.1101/010389</td>\n",
       "    </tr>\n",
       "  </tbody>\n",
       "</table>\n",
       "</div>"
      ],
      "text/plain": [
       "   cord_uid                                       sha source_x  \\\n",
       "0  vho70jcx  f056da9c64fbf00a4645ae326e8a4339d015d155  biorxiv   \n",
       "1  i9tbix2v  daf32e013d325a6feb80e83d15aabc64a48fae33  biorxiv   \n",
       "2  62gfisc6  f33c6d94b0efaa198f8f3f20e644625fa3fe10d2  biorxiv   \n",
       "3  058r9486  4da8a87e614373d56070ed272487451266dce919  biorxiv   \n",
       "4  wich35l7  eccef80cfbe078235df22398f195d5db462d8000  biorxiv   \n",
       "\n",
       "                                               title             doi pmcid  \\\n",
       "0  SIANN: Strain Identification by Alignment to N...  10.1101/001727   NaN   \n",
       "1  Spatial epidemiology of networked metapopulati...  10.1101/003889   NaN   \n",
       "2  Sequencing of the human IG light chain loci fr...  10.1101/006866   NaN   \n",
       "3  Bayesian mixture analysis for metagenomic comm...  10.1101/007476   NaN   \n",
       "4  Mapping a viral phylogeny onto outbreak trees ...  10.1101/010389   NaN   \n",
       "\n",
       "  pubmed_id  license                                           abstract  \\\n",
       "0       NaN  biorxiv  Next-generation sequencing is increasingly bei...   \n",
       "1       NaN  biorxiv  An emerging disease is one infectious epidemic...   \n",
       "2       NaN  biorxiv  Germline variation at immunoglobulin gene (IG)...   \n",
       "3       NaN  biorxiv  Deep sequencing of clinical samples is now an ...   \n",
       "4       NaN  biorxiv  Developing methods to reconstruct transmission...   \n",
       "\n",
       "  publish_time                                            authors journal  \\\n",
       "0   2014-01-10  Samuel Minot; Stephen D Turner; Krista L Ternu...     NaN   \n",
       "1   2014-06-04                                 Lin WANG; Xiang Li     NaN   \n",
       "2   2014-07-03  Corey T Watson; Karyn Meltz Steinberg; Tina A ...     NaN   \n",
       "3   2014-07-25                 Sofia Morfopoulou; Vincent Plagnol     NaN   \n",
       "4   2014-11-11                 Stephen P Velsko; Jonathan E Allen     NaN   \n",
       "\n",
       "  Microsoft Academic Paper ID WHO #Covidence has_full_text   full_text_file  \\\n",
       "0                         NaN            NaN          True  biorxiv_medrxiv   \n",
       "1                         NaN            NaN          True  biorxiv_medrxiv   \n",
       "2                         NaN            NaN          True  biorxiv_medrxiv   \n",
       "3                         NaN            NaN          True  biorxiv_medrxiv   \n",
       "4                         NaN            NaN          True  biorxiv_medrxiv   \n",
       "\n",
       "                              url  \n",
       "0  https://doi.org/10.1101/001727  \n",
       "1  https://doi.org/10.1101/003889  \n",
       "2  https://doi.org/10.1101/006866  \n",
       "3  https://doi.org/10.1101/007476  \n",
       "4  https://doi.org/10.1101/010389  "
      ]
     },
     "execution_count": 20,
     "metadata": {},
     "output_type": "execute_result"
    }
   ],
   "source": [
    "df_cord.head()"
   ]
  },
  {
   "cell_type": "code",
   "execution_count": 21,
   "metadata": {},
   "outputs": [],
   "source": [
    "# NEW columns (for now, we drop)\n",
    "df_cord.drop(columns=[\"cord_uid\",\"url\"],inplace=True)"
   ]
  },
  {
   "cell_type": "code",
   "execution_count": 22,
   "metadata": {},
   "outputs": [
    {
     "data": {
      "text/plain": [
       "Index(['sha', 'source_x', 'title', 'doi', 'pmcid', 'pubmed_id', 'license',\n",
       "       'abstract', 'publish_time', 'authors', 'journal',\n",
       "       'Microsoft Academic Paper ID', 'WHO #Covidence', 'has_full_text',\n",
       "       'full_text_file'],\n",
       "      dtype='object')"
      ]
     },
     "execution_count": 22,
     "metadata": {},
     "output_type": "execute_result"
    }
   ],
   "source": [
    "df_cord.columns"
   ]
  },
  {
   "cell_type": "code",
   "execution_count": 23,
   "metadata": {},
   "outputs": [],
   "source": [
    "df_cord.drop(columns='authors', inplace=True)\n",
    "df_cord = df_cord.fillna('')"
   ]
  },
  {
   "cell_type": "code",
   "execution_count": 24,
   "metadata": {},
   "outputs": [],
   "source": [
    "df_cord.rename(columns={'source_x':'source', 'pubmed_id': 'pmid',\n",
    "       'Microsoft Academic Paper ID': 'ms_academic_id', 'WHO #Covidence': 'who_covidence'}, inplace=True)"
   ]
  },
  {
   "cell_type": "code",
   "execution_count": 25,
   "metadata": {},
   "outputs": [],
   "source": [
    "df_cord[\"publication_year\"] = df_cord[\"publish_time\"].apply(get_year)\n",
    "df_cord[\"publication_month\"] = df_cord[\"publish_time\"].apply(get_month)"
   ]
  },
  {
   "cell_type": "code",
   "execution_count": 26,
   "metadata": {},
   "outputs": [],
   "source": [
    "df_cord.drop(columns='publish_time', inplace=True)"
   ]
  },
  {
   "cell_type": "code",
   "execution_count": 27,
   "metadata": {},
   "outputs": [],
   "source": [
    "df_cord['pages'] = \"\"\n",
    "df_cord['volume'] = \"\"\n",
    "df_cord['issue'] = \"\""
   ]
  },
  {
   "cell_type": "code",
   "execution_count": 28,
   "metadata": {},
   "outputs": [
    {
     "data": {
      "text/html": [
       "<div>\n",
       "<style scoped>\n",
       "    .dataframe tbody tr th:only-of-type {\n",
       "        vertical-align: middle;\n",
       "    }\n",
       "\n",
       "    .dataframe tbody tr th {\n",
       "        vertical-align: top;\n",
       "    }\n",
       "\n",
       "    .dataframe thead th {\n",
       "        text-align: right;\n",
       "    }\n",
       "</style>\n",
       "<table border=\"1\" class=\"dataframe\">\n",
       "  <thead>\n",
       "    <tr style=\"text-align: right;\">\n",
       "      <th></th>\n",
       "      <th>sha</th>\n",
       "      <th>source</th>\n",
       "      <th>title</th>\n",
       "      <th>doi</th>\n",
       "      <th>pmcid</th>\n",
       "      <th>pmid</th>\n",
       "      <th>license</th>\n",
       "      <th>abstract</th>\n",
       "      <th>journal</th>\n",
       "      <th>ms_academic_id</th>\n",
       "      <th>who_covidence</th>\n",
       "      <th>has_full_text</th>\n",
       "      <th>full_text_file</th>\n",
       "      <th>publication_year</th>\n",
       "      <th>publication_month</th>\n",
       "      <th>pages</th>\n",
       "      <th>volume</th>\n",
       "      <th>issue</th>\n",
       "    </tr>\n",
       "  </thead>\n",
       "  <tbody>\n",
       "    <tr>\n",
       "      <th>0</th>\n",
       "      <td>f056da9c64fbf00a4645ae326e8a4339d015d155</td>\n",
       "      <td>biorxiv</td>\n",
       "      <td>SIANN: Strain Identification by Alignment to N...</td>\n",
       "      <td>10.1101/001727</td>\n",
       "      <td></td>\n",
       "      <td></td>\n",
       "      <td>biorxiv</td>\n",
       "      <td>Next-generation sequencing is increasingly bei...</td>\n",
       "      <td></td>\n",
       "      <td></td>\n",
       "      <td></td>\n",
       "      <td>True</td>\n",
       "      <td>biorxiv_medrxiv</td>\n",
       "      <td>2014</td>\n",
       "      <td>1</td>\n",
       "      <td></td>\n",
       "      <td></td>\n",
       "      <td></td>\n",
       "    </tr>\n",
       "    <tr>\n",
       "      <th>1</th>\n",
       "      <td>daf32e013d325a6feb80e83d15aabc64a48fae33</td>\n",
       "      <td>biorxiv</td>\n",
       "      <td>Spatial epidemiology of networked metapopulati...</td>\n",
       "      <td>10.1101/003889</td>\n",
       "      <td></td>\n",
       "      <td></td>\n",
       "      <td>biorxiv</td>\n",
       "      <td>An emerging disease is one infectious epidemic...</td>\n",
       "      <td></td>\n",
       "      <td></td>\n",
       "      <td></td>\n",
       "      <td>True</td>\n",
       "      <td>biorxiv_medrxiv</td>\n",
       "      <td>2014</td>\n",
       "      <td>6</td>\n",
       "      <td></td>\n",
       "      <td></td>\n",
       "      <td></td>\n",
       "    </tr>\n",
       "    <tr>\n",
       "      <th>2</th>\n",
       "      <td>f33c6d94b0efaa198f8f3f20e644625fa3fe10d2</td>\n",
       "      <td>biorxiv</td>\n",
       "      <td>Sequencing of the human IG light chain loci fr...</td>\n",
       "      <td>10.1101/006866</td>\n",
       "      <td></td>\n",
       "      <td></td>\n",
       "      <td>biorxiv</td>\n",
       "      <td>Germline variation at immunoglobulin gene (IG)...</td>\n",
       "      <td></td>\n",
       "      <td></td>\n",
       "      <td></td>\n",
       "      <td>True</td>\n",
       "      <td>biorxiv_medrxiv</td>\n",
       "      <td>2014</td>\n",
       "      <td>7</td>\n",
       "      <td></td>\n",
       "      <td></td>\n",
       "      <td></td>\n",
       "    </tr>\n",
       "    <tr>\n",
       "      <th>3</th>\n",
       "      <td>4da8a87e614373d56070ed272487451266dce919</td>\n",
       "      <td>biorxiv</td>\n",
       "      <td>Bayesian mixture analysis for metagenomic comm...</td>\n",
       "      <td>10.1101/007476</td>\n",
       "      <td></td>\n",
       "      <td></td>\n",
       "      <td>biorxiv</td>\n",
       "      <td>Deep sequencing of clinical samples is now an ...</td>\n",
       "      <td></td>\n",
       "      <td></td>\n",
       "      <td></td>\n",
       "      <td>True</td>\n",
       "      <td>biorxiv_medrxiv</td>\n",
       "      <td>2014</td>\n",
       "      <td>7</td>\n",
       "      <td></td>\n",
       "      <td></td>\n",
       "      <td></td>\n",
       "    </tr>\n",
       "    <tr>\n",
       "      <th>4</th>\n",
       "      <td>eccef80cfbe078235df22398f195d5db462d8000</td>\n",
       "      <td>biorxiv</td>\n",
       "      <td>Mapping a viral phylogeny onto outbreak trees ...</td>\n",
       "      <td>10.1101/010389</td>\n",
       "      <td></td>\n",
       "      <td></td>\n",
       "      <td>biorxiv</td>\n",
       "      <td>Developing methods to reconstruct transmission...</td>\n",
       "      <td></td>\n",
       "      <td></td>\n",
       "      <td></td>\n",
       "      <td>True</td>\n",
       "      <td>biorxiv_medrxiv</td>\n",
       "      <td>2014</td>\n",
       "      <td>11</td>\n",
       "      <td></td>\n",
       "      <td></td>\n",
       "      <td></td>\n",
       "    </tr>\n",
       "  </tbody>\n",
       "</table>\n",
       "</div>"
      ],
      "text/plain": [
       "                                        sha   source  \\\n",
       "0  f056da9c64fbf00a4645ae326e8a4339d015d155  biorxiv   \n",
       "1  daf32e013d325a6feb80e83d15aabc64a48fae33  biorxiv   \n",
       "2  f33c6d94b0efaa198f8f3f20e644625fa3fe10d2  biorxiv   \n",
       "3  4da8a87e614373d56070ed272487451266dce919  biorxiv   \n",
       "4  eccef80cfbe078235df22398f195d5db462d8000  biorxiv   \n",
       "\n",
       "                                               title             doi pmcid  \\\n",
       "0  SIANN: Strain Identification by Alignment to N...  10.1101/001727         \n",
       "1  Spatial epidemiology of networked metapopulati...  10.1101/003889         \n",
       "2  Sequencing of the human IG light chain loci fr...  10.1101/006866         \n",
       "3  Bayesian mixture analysis for metagenomic comm...  10.1101/007476         \n",
       "4  Mapping a viral phylogeny onto outbreak trees ...  10.1101/010389         \n",
       "\n",
       "  pmid  license                                           abstract journal  \\\n",
       "0       biorxiv  Next-generation sequencing is increasingly bei...           \n",
       "1       biorxiv  An emerging disease is one infectious epidemic...           \n",
       "2       biorxiv  Germline variation at immunoglobulin gene (IG)...           \n",
       "3       biorxiv  Deep sequencing of clinical samples is now an ...           \n",
       "4       biorxiv  Developing methods to reconstruct transmission...           \n",
       "\n",
       "  ms_academic_id who_covidence has_full_text   full_text_file  \\\n",
       "0                                       True  biorxiv_medrxiv   \n",
       "1                                       True  biorxiv_medrxiv   \n",
       "2                                       True  biorxiv_medrxiv   \n",
       "3                                       True  biorxiv_medrxiv   \n",
       "4                                       True  biorxiv_medrxiv   \n",
       "\n",
       "  publication_year publication_month pages volume issue  \n",
       "0             2014                 1                     \n",
       "1             2014                 6                     \n",
       "2             2014                 7                     \n",
       "3             2014                 7                     \n",
       "4             2014                11                     "
      ]
     },
     "execution_count": 28,
     "metadata": {},
     "output_type": "execute_result"
    }
   ],
   "source": [
    "df_cord.head()"
   ]
  },
  {
   "cell_type": "code",
   "execution_count": 29,
   "metadata": {},
   "outputs": [
    {
     "data": {
      "text/plain": [
       "(3035, 18)"
      ]
     },
     "execution_count": 29,
     "metadata": {},
     "output_type": "execute_result"
    }
   ],
   "source": [
    "df_cord[(df_cord.doi==\"\") & ((df_cord.sha!=\"\") | (df_cord.pmid!=\"\") | (df_cord.pmcid!=\"\"))].shape"
   ]
  },
  {
   "cell_type": "code",
   "execution_count": 30,
   "metadata": {},
   "outputs": [
    {
     "data": {
      "text/plain": [
       "(4797, 17)"
      ]
     },
     "execution_count": 30,
     "metadata": {},
     "output_type": "execute_result"
    }
   ],
   "source": [
    "df_dimensions.shape"
   ]
  },
  {
   "cell_type": "code",
   "execution_count": 31,
   "metadata": {},
   "outputs": [
    {
     "data": {
      "text/plain": [
       "(2912, 17)"
      ]
     },
     "execution_count": 31,
     "metadata": {},
     "output_type": "execute_result"
    }
   ],
   "source": [
    "df_who.shape"
   ]
  },
  {
   "cell_type": "code",
   "execution_count": 32,
   "metadata": {},
   "outputs": [
    {
     "data": {
      "text/plain": [
       "(45774, 18)"
      ]
     },
     "execution_count": 32,
     "metadata": {},
     "output_type": "execute_result"
    }
   ],
   "source": [
    "df_cord.shape"
   ]
  },
  {
   "cell_type": "markdown",
   "metadata": {},
   "source": [
    "### Prepare tables"
   ]
  },
  {
   "cell_type": "code",
   "execution_count": 33,
   "metadata": {},
   "outputs": [],
   "source": [
    "# the main table: pub"
   ]
  },
  {
   "cell_type": "code",
   "execution_count": 34,
   "metadata": {},
   "outputs": [],
   "source": [
    "pub_table_columns = ['title','abstract','publication_year','publication_month','journal','volume','issue','pages','doi','pmid','pmcid']\n",
    "\n",
    "df_pub = df_dimensions[pub_table_columns].append(df_who[pub_table_columns], ignore_index = True)"
   ]
  },
  {
   "cell_type": "code",
   "execution_count": 35,
   "metadata": {},
   "outputs": [],
   "source": [
    "df_pub = df_pub[pub_table_columns].append(df_cord[pub_table_columns], ignore_index=True)"
   ]
  },
  {
   "cell_type": "code",
   "execution_count": 36,
   "metadata": {},
   "outputs": [
    {
     "data": {
      "text/plain": [
       "(53483, 11)"
      ]
     },
     "execution_count": 36,
     "metadata": {},
     "output_type": "execute_result"
    }
   ],
   "source": [
    "df_pub.shape"
   ]
  },
  {
   "cell_type": "code",
   "execution_count": 37,
   "metadata": {},
   "outputs": [
    {
     "data": {
      "text/plain": [
       "(841, 11)"
      ]
     },
     "execution_count": 37,
     "metadata": {},
     "output_type": "execute_result"
    }
   ],
   "source": [
    "df_pub[(df_pub.doi==\"\") & (df_pub.pmid==\"\") & (df_pub.pmcid==\"\")].shape"
   ]
  },
  {
   "cell_type": "code",
   "execution_count": 38,
   "metadata": {},
   "outputs": [],
   "source": [
    "# check to have at least one valid identifier per publication\n",
    "# we drop publications which do not: hopefully, they will be equipped with an identifier in future releases\n",
    "\n",
    "df_pub = df_pub[~((df_pub.doi==\"\") & (df_pub.pmid==\"\") & (df_pub.pmcid==\"\"))]"
   ]
  },
  {
   "cell_type": "code",
   "execution_count": 39,
   "metadata": {},
   "outputs": [],
   "source": [
    "# drop duplicates, first on dois then pmids then pmcids. We need this to keep empty values!\n",
    "df_tmp = df_pub[df_pub.doi==\"\"]\n",
    "df_pub = df_pub[df_pub.doi!=\"\"].drop_duplicates(['doi'])\n",
    "df_tmp2 = df_tmp[df_tmp.pmid==\"\"]\n",
    "df_pub2 = df_tmp[df_tmp.pmid!=\"\"].drop_duplicates(['pmid'])\n",
    "df_pub3 = df_tmp2[df_tmp2.pmcid!=\"\"].drop_duplicates(['pmcid'])"
   ]
  },
  {
   "cell_type": "code",
   "execution_count": 40,
   "metadata": {},
   "outputs": [],
   "source": [
    "df_pub = pd.concat([df_pub,df_pub2,df_pub3])"
   ]
  },
  {
   "cell_type": "code",
   "execution_count": 41,
   "metadata": {},
   "outputs": [],
   "source": [
    "# add PK and reset index\n",
    "df_pub.reset_index(drop=True,inplace=True)\n",
    "df_pub[\"pub_id\"] = df_pub.index.values"
   ]
  },
  {
   "cell_type": "code",
   "execution_count": 42,
   "metadata": {},
   "outputs": [
    {
     "data": {
      "text/plain": [
       "(48428, 12)"
      ]
     },
     "execution_count": 42,
     "metadata": {},
     "output_type": "execute_result"
    }
   ],
   "source": [
    "df_pub.shape"
   ]
  },
  {
   "cell_type": "code",
   "execution_count": 43,
   "metadata": {},
   "outputs": [
    {
     "data": {
      "text/html": [
       "<div>\n",
       "<style scoped>\n",
       "    .dataframe tbody tr th:only-of-type {\n",
       "        vertical-align: middle;\n",
       "    }\n",
       "\n",
       "    .dataframe tbody tr th {\n",
       "        vertical-align: top;\n",
       "    }\n",
       "\n",
       "    .dataframe thead th {\n",
       "        text-align: right;\n",
       "    }\n",
       "</style>\n",
       "<table border=\"1\" class=\"dataframe\">\n",
       "  <thead>\n",
       "    <tr style=\"text-align: right;\">\n",
       "      <th></th>\n",
       "      <th>title</th>\n",
       "      <th>abstract</th>\n",
       "      <th>publication_year</th>\n",
       "      <th>publication_month</th>\n",
       "      <th>journal</th>\n",
       "      <th>volume</th>\n",
       "      <th>issue</th>\n",
       "      <th>pages</th>\n",
       "      <th>doi</th>\n",
       "      <th>pmid</th>\n",
       "      <th>pmcid</th>\n",
       "      <th>pub_id</th>\n",
       "    </tr>\n",
       "  </thead>\n",
       "  <tbody>\n",
       "    <tr>\n",
       "      <th>48423</th>\n",
       "      <td>eCMAJ's top 10 — May</td>\n",
       "      <td></td>\n",
       "      <td>2003</td>\n",
       "      <td>7</td>\n",
       "      <td></td>\n",
       "      <td></td>\n",
       "      <td></td>\n",
       "      <td></td>\n",
       "      <td></td>\n",
       "      <td></td>\n",
       "      <td>PMC164992</td>\n",
       "      <td>48423</td>\n",
       "    </tr>\n",
       "    <tr>\n",
       "      <th>48424</th>\n",
       "      <td>WHO Scientific activities</td>\n",
       "      <td></td>\n",
       "      <td>1982</td>\n",
       "      <td></td>\n",
       "      <td></td>\n",
       "      <td></td>\n",
       "      <td></td>\n",
       "      <td></td>\n",
       "      <td></td>\n",
       "      <td></td>\n",
       "      <td>PMC2535994</td>\n",
       "      <td>48424</td>\n",
       "    </tr>\n",
       "    <tr>\n",
       "      <th>48425</th>\n",
       "      <td>Chinese government detains doctor who criticis...</td>\n",
       "      <td></td>\n",
       "      <td>2004</td>\n",
       "      <td>7</td>\n",
       "      <td></td>\n",
       "      <td></td>\n",
       "      <td></td>\n",
       "      <td></td>\n",
       "      <td></td>\n",
       "      <td></td>\n",
       "      <td>PMC478255</td>\n",
       "      <td>48425</td>\n",
       "    </tr>\n",
       "    <tr>\n",
       "      <th>48426</th>\n",
       "      <td>Viruses and Demyelinating Diseases</td>\n",
       "      <td></td>\n",
       "      <td>1986</td>\n",
       "      <td>3</td>\n",
       "      <td></td>\n",
       "      <td></td>\n",
       "      <td></td>\n",
       "      <td></td>\n",
       "      <td></td>\n",
       "      <td></td>\n",
       "      <td>PMC1680146</td>\n",
       "      <td>48426</td>\n",
       "    </tr>\n",
       "    <tr>\n",
       "      <th>48427</th>\n",
       "      <td>The Back Pages</td>\n",
       "      <td></td>\n",
       "      <td>2003</td>\n",
       "      <td>6</td>\n",
       "      <td></td>\n",
       "      <td></td>\n",
       "      <td></td>\n",
       "      <td></td>\n",
       "      <td></td>\n",
       "      <td></td>\n",
       "      <td>PMC1314638</td>\n",
       "      <td>48427</td>\n",
       "    </tr>\n",
       "  </tbody>\n",
       "</table>\n",
       "</div>"
      ],
      "text/plain": [
       "                                                   title abstract  \\\n",
       "48423                               eCMAJ's top 10 — May            \n",
       "48424                          WHO Scientific activities            \n",
       "48425  Chinese government detains doctor who criticis...            \n",
       "48426                 Viruses and Demyelinating Diseases            \n",
       "48427                                     The Back Pages            \n",
       "\n",
       "      publication_year publication_month journal volume issue pages doi pmid  \\\n",
       "48423             2003                 7                                       \n",
       "48424             1982                                                         \n",
       "48425             2004                 7                                       \n",
       "48426             1986                 3                                       \n",
       "48427             2003                 6                                       \n",
       "\n",
       "            pmcid  pub_id  \n",
       "48423   PMC164992   48423  \n",
       "48424  PMC2535994   48424  \n",
       "48425   PMC478255   48425  \n",
       "48426  PMC1680146   48426  \n",
       "48427  PMC1314638   48427  "
      ]
     },
     "execution_count": 43,
     "metadata": {},
     "output_type": "execute_result"
    }
   ],
   "source": [
    "df_pub.tail()"
   ]
  },
  {
   "cell_type": "code",
   "execution_count": 44,
   "metadata": {},
   "outputs": [],
   "source": [
    "# create other tables via joins\n",
    "\n",
    "df_datasource = pd.DataFrame.from_dict({\"source\":[\"CORD19\",\"Dimensions\",\"WHO\"],\"url\":[\"https://pages.semanticscholar.org/coronavirus-research\",\"https://docs.google.com/spreadsheets/d/1-kTZJZ1GAhJ2m4GAIhw1ZdlgO46JpvX0ZQa232VWRmw/edit#gid=2034285255\",\n",
    "\"https://www.who.int/emergencies/diseases/novel-coronavirus-2019/global-research-on-novel-coronavirus-2019-ncov\"]})\n",
    "df_cord_metadata = df_cord[['source','license','full_text_file','ms_academic_id','who_covidence','doi','pmid','pmcid','sha']]\n",
    "df_who_metadata = df_who[['accession_number', 'doi', 'ref',\n",
    "       'covidence', 'study', 'notes', 'tags', 'pmid', 'pmcid']]\n",
    "df_dimensions_metadata = df_dimensions[['publication_id', 'doi', 'pmid', 'pmcid', 'source_uid', 'mesh_terms',\n",
    "       'open_access', 'publication_type', 'dimensions_url']]"
   ]
  },
  {
   "cell_type": "code",
   "execution_count": 45,
   "metadata": {},
   "outputs": [
    {
     "data": {
      "text/html": [
       "<div>\n",
       "<style scoped>\n",
       "    .dataframe tbody tr th:only-of-type {\n",
       "        vertical-align: middle;\n",
       "    }\n",
       "\n",
       "    .dataframe tbody tr th {\n",
       "        vertical-align: top;\n",
       "    }\n",
       "\n",
       "    .dataframe thead th {\n",
       "        text-align: right;\n",
       "    }\n",
       "</style>\n",
       "<table border=\"1\" class=\"dataframe\">\n",
       "  <thead>\n",
       "    <tr style=\"text-align: right;\">\n",
       "      <th></th>\n",
       "      <th>source</th>\n",
       "      <th>url</th>\n",
       "    </tr>\n",
       "  </thead>\n",
       "  <tbody>\n",
       "    <tr>\n",
       "      <th>0</th>\n",
       "      <td>CORD19</td>\n",
       "      <td>https://pages.semanticscholar.org/coronavirus-...</td>\n",
       "    </tr>\n",
       "    <tr>\n",
       "      <th>1</th>\n",
       "      <td>Dimensions</td>\n",
       "      <td>https://docs.google.com/spreadsheets/d/1-kTZJZ...</td>\n",
       "    </tr>\n",
       "    <tr>\n",
       "      <th>2</th>\n",
       "      <td>WHO</td>\n",
       "      <td>https://www.who.int/emergencies/diseases/novel...</td>\n",
       "    </tr>\n",
       "  </tbody>\n",
       "</table>\n",
       "</div>"
      ],
      "text/plain": [
       "       source                                                url\n",
       "0      CORD19  https://pages.semanticscholar.org/coronavirus-...\n",
       "1  Dimensions  https://docs.google.com/spreadsheets/d/1-kTZJZ...\n",
       "2         WHO  https://www.who.int/emergencies/diseases/novel..."
      ]
     },
     "execution_count": 45,
     "metadata": {},
     "output_type": "execute_result"
    }
   ],
   "source": [
    "df_datasource.head()"
   ]
  },
  {
   "cell_type": "code",
   "execution_count": 46,
   "metadata": {},
   "outputs": [],
   "source": [
    "# CORD19 metadata"
   ]
  },
  {
   "cell_type": "code",
   "execution_count": 47,
   "metadata": {},
   "outputs": [],
   "source": [
    "#We need this to keep empty values!\n",
    "\n",
    "df_tmp = df_cord_metadata[df_cord_metadata.doi==\"\"]\n",
    "df_cord_metadata1 = pd.merge(df_cord_metadata[df_cord_metadata.doi!=\"\"], df_pub[['pub_id','doi']],  how='inner', left_on=['doi'], right_on=['doi'])\n",
    "df_tmp2 = df_tmp[df_tmp.pmid==\"\"]\n",
    "df_cord_metadata2 = pd.merge(df_tmp[df_tmp.pmid!=\"\"], df_pub[['pub_id','pmid']],  how='inner', left_on=['pmid'], right_on=['pmid'])\n",
    "df_cord_metadata3 = pd.merge(df_tmp2[df_tmp2.pmcid!=\"\"], df_pub[['pub_id','pmcid']],  how='inner', left_on=['pmcid'], right_on=['pmcid'])"
   ]
  },
  {
   "cell_type": "code",
   "execution_count": 48,
   "metadata": {},
   "outputs": [],
   "source": [
    "df_cord_metadata1.drop_duplicates(\"doi\",inplace=True)\n",
    "df_cord_metadata2.drop_duplicates(\"pmid\",inplace=True)\n",
    "df_cord_metadata3.drop_duplicates(\"pmcid\",inplace=True)"
   ]
  },
  {
   "cell_type": "code",
   "execution_count": 49,
   "metadata": {},
   "outputs": [
    {
     "data": {
      "text/html": [
       "<div>\n",
       "<style scoped>\n",
       "    .dataframe tbody tr th:only-of-type {\n",
       "        vertical-align: middle;\n",
       "    }\n",
       "\n",
       "    .dataframe tbody tr th {\n",
       "        vertical-align: top;\n",
       "    }\n",
       "\n",
       "    .dataframe thead th {\n",
       "        text-align: right;\n",
       "    }\n",
       "</style>\n",
       "<table border=\"1\" class=\"dataframe\">\n",
       "  <thead>\n",
       "    <tr style=\"text-align: right;\">\n",
       "      <th></th>\n",
       "      <th>source</th>\n",
       "      <th>license</th>\n",
       "      <th>full_text_file</th>\n",
       "      <th>ms_academic_id</th>\n",
       "      <th>who_covidence</th>\n",
       "      <th>doi</th>\n",
       "      <th>pmid</th>\n",
       "      <th>pmcid</th>\n",
       "      <th>sha</th>\n",
       "      <th>pub_id</th>\n",
       "    </tr>\n",
       "  </thead>\n",
       "  <tbody>\n",
       "    <tr>\n",
       "      <th>0</th>\n",
       "      <td>biorxiv</td>\n",
       "      <td>biorxiv</td>\n",
       "      <td>biorxiv_medrxiv</td>\n",
       "      <td></td>\n",
       "      <td></td>\n",
       "      <td>10.1101/001727</td>\n",
       "      <td></td>\n",
       "      <td></td>\n",
       "      <td>f056da9c64fbf00a4645ae326e8a4339d015d155</td>\n",
       "      <td>5814</td>\n",
       "    </tr>\n",
       "    <tr>\n",
       "      <th>1</th>\n",
       "      <td>biorxiv</td>\n",
       "      <td>biorxiv</td>\n",
       "      <td>biorxiv_medrxiv</td>\n",
       "      <td></td>\n",
       "      <td></td>\n",
       "      <td>10.1101/003889</td>\n",
       "      <td></td>\n",
       "      <td></td>\n",
       "      <td>daf32e013d325a6feb80e83d15aabc64a48fae33</td>\n",
       "      <td>5815</td>\n",
       "    </tr>\n",
       "    <tr>\n",
       "      <th>2</th>\n",
       "      <td>biorxiv</td>\n",
       "      <td>biorxiv</td>\n",
       "      <td>biorxiv_medrxiv</td>\n",
       "      <td></td>\n",
       "      <td></td>\n",
       "      <td>10.1101/006866</td>\n",
       "      <td></td>\n",
       "      <td></td>\n",
       "      <td>f33c6d94b0efaa198f8f3f20e644625fa3fe10d2</td>\n",
       "      <td>5816</td>\n",
       "    </tr>\n",
       "    <tr>\n",
       "      <th>3</th>\n",
       "      <td>biorxiv</td>\n",
       "      <td>biorxiv</td>\n",
       "      <td>biorxiv_medrxiv</td>\n",
       "      <td></td>\n",
       "      <td></td>\n",
       "      <td>10.1101/007476</td>\n",
       "      <td></td>\n",
       "      <td></td>\n",
       "      <td>4da8a87e614373d56070ed272487451266dce919</td>\n",
       "      <td>5817</td>\n",
       "    </tr>\n",
       "    <tr>\n",
       "      <th>4</th>\n",
       "      <td>biorxiv</td>\n",
       "      <td>biorxiv</td>\n",
       "      <td>biorxiv_medrxiv</td>\n",
       "      <td></td>\n",
       "      <td></td>\n",
       "      <td>10.1101/010389</td>\n",
       "      <td></td>\n",
       "      <td></td>\n",
       "      <td>eccef80cfbe078235df22398f195d5db462d8000</td>\n",
       "      <td>5818</td>\n",
       "    </tr>\n",
       "  </tbody>\n",
       "</table>\n",
       "</div>"
      ],
      "text/plain": [
       "    source  license   full_text_file ms_academic_id who_covidence  \\\n",
       "0  biorxiv  biorxiv  biorxiv_medrxiv                                \n",
       "1  biorxiv  biorxiv  biorxiv_medrxiv                                \n",
       "2  biorxiv  biorxiv  biorxiv_medrxiv                                \n",
       "3  biorxiv  biorxiv  biorxiv_medrxiv                                \n",
       "4  biorxiv  biorxiv  biorxiv_medrxiv                                \n",
       "\n",
       "              doi pmid pmcid                                       sha  pub_id  \n",
       "0  10.1101/001727             f056da9c64fbf00a4645ae326e8a4339d015d155    5814  \n",
       "1  10.1101/003889             daf32e013d325a6feb80e83d15aabc64a48fae33    5815  \n",
       "2  10.1101/006866             f33c6d94b0efaa198f8f3f20e644625fa3fe10d2    5816  \n",
       "3  10.1101/007476             4da8a87e614373d56070ed272487451266dce919    5817  \n",
       "4  10.1101/010389             eccef80cfbe078235df22398f195d5db462d8000    5818  "
      ]
     },
     "execution_count": 49,
     "metadata": {},
     "output_type": "execute_result"
    }
   ],
   "source": [
    "df_cord_metadata1.head()"
   ]
  },
  {
   "cell_type": "code",
   "execution_count": 50,
   "metadata": {},
   "outputs": [],
   "source": [
    "df_cord_metadata = pd.concat([df_cord_metadata1,df_cord_metadata2,df_cord_metadata3])"
   ]
  },
  {
   "cell_type": "code",
   "execution_count": 51,
   "metadata": {},
   "outputs": [
    {
     "data": {
      "text/plain": [
       "(45471, 10)"
      ]
     },
     "execution_count": 51,
     "metadata": {},
     "output_type": "execute_result"
    }
   ],
   "source": [
    "df_cord_metadata.shape"
   ]
  },
  {
   "cell_type": "code",
   "execution_count": 52,
   "metadata": {},
   "outputs": [
    {
     "data": {
      "application/vnd.jupyter.widget-view+json": {
       "model_id": "3cd8eb29ebe14781b2d56e38ea0c7e64",
       "version_major": 2,
       "version_minor": 0
      },
      "text/plain": [
       "HBox(children=(FloatProgress(value=0.0, max=1053.0), HTML(value='')))"
      ]
     },
     "metadata": {},
     "output_type": "display_data"
    },
    {
     "name": "stdout",
     "output_type": "stream",
     "text": [
      "\n"
     ]
    },
    {
     "data": {
      "application/vnd.jupyter.widget-view+json": {
       "model_id": "8c117f2260ce4482b5db354447b61d74",
       "version_major": 2,
       "version_minor": 0
      },
      "text/plain": [
       "HBox(children=(FloatProgress(value=0.0, max=9315.0), HTML(value='')))"
      ]
     },
     "metadata": {},
     "output_type": "display_data"
    },
    {
     "name": "stdout",
     "output_type": "stream",
     "text": [
      "\n"
     ]
    },
    {
     "data": {
      "application/vnd.jupyter.widget-view+json": {
       "model_id": "b1d61321f19c40bdb092312aeb327872",
       "version_major": 2,
       "version_minor": 0
      },
      "text/plain": [
       "HBox(children=(FloatProgress(value=0.0, max=20657.0), HTML(value='')))"
      ]
     },
     "metadata": {},
     "output_type": "display_data"
    },
    {
     "name": "stdout",
     "output_type": "stream",
     "text": [
      "\n"
     ]
    },
    {
     "data": {
      "application/vnd.jupyter.widget-view+json": {
       "model_id": "42ba429c890b4ec7a4f54732c7491cf5",
       "version_major": 2,
       "version_minor": 0
      },
      "text/plain": [
       "HBox(children=(FloatProgress(value=0.0, max=2350.0), HTML(value='')))"
      ]
     },
     "metadata": {},
     "output_type": "display_data"
    },
    {
     "name": "stdout",
     "output_type": "stream",
     "text": [
      "\n"
     ]
    }
   ],
   "source": [
    "# read full texts in\n",
    "folders = ['biorxiv_medrxiv/biorxiv_medrxiv','comm_use_subset/comm_use_subset','custom_license/custom_license','noncomm_use_subset/noncomm_use_subset']\n",
    "shas = list()\n",
    "full_texts = list()\n",
    "\n",
    "for folder in folders:\n",
    "    for root, dirs, files in os.walk(os.path.join(cord19_folder,folder)):\n",
    "        for file in tqdm(files):\n",
    "            if \".json\" in file: # read\n",
    "                data = json.loads(codecs.open(os.path.join(root,file)).read())\n",
    "                sha = data[\"paper_id\"]\n",
    "                full_text = \"\\n\".join(section[\"text\"] for section in data[\"body_text\"])\n",
    "                shas.append(sha)\n",
    "                full_texts.append(full_text)"
   ]
  },
  {
   "cell_type": "code",
   "execution_count": 53,
   "metadata": {},
   "outputs": [],
   "source": [
    "df_cord_fulltext = pd.DataFrame.from_dict({\"sha\":shas,\"full_text\":full_texts})"
   ]
  },
  {
   "cell_type": "code",
   "execution_count": 54,
   "metadata": {},
   "outputs": [],
   "source": [
    "df_cord_metadata = pd.merge(df_cord_metadata, df_cord_fulltext,  how='left', left_on=['sha'], right_on=['sha'])\n",
    "df_cord_metadata = df_cord_metadata.fillna('')\n",
    "df_cord_metadata.rename(columns={\"id\":\"pub_id\"},inplace=True)"
   ]
  },
  {
   "cell_type": "code",
   "execution_count": 55,
   "metadata": {},
   "outputs": [
    {
     "data": {
      "text/html": [
       "<div>\n",
       "<style scoped>\n",
       "    .dataframe tbody tr th:only-of-type {\n",
       "        vertical-align: middle;\n",
       "    }\n",
       "\n",
       "    .dataframe tbody tr th {\n",
       "        vertical-align: top;\n",
       "    }\n",
       "\n",
       "    .dataframe thead th {\n",
       "        text-align: right;\n",
       "    }\n",
       "</style>\n",
       "<table border=\"1\" class=\"dataframe\">\n",
       "  <thead>\n",
       "    <tr style=\"text-align: right;\">\n",
       "      <th></th>\n",
       "      <th>source</th>\n",
       "      <th>license</th>\n",
       "      <th>full_text_file</th>\n",
       "      <th>ms_academic_id</th>\n",
       "      <th>who_covidence</th>\n",
       "      <th>doi</th>\n",
       "      <th>pmid</th>\n",
       "      <th>pmcid</th>\n",
       "      <th>sha</th>\n",
       "      <th>pub_id</th>\n",
       "      <th>full_text</th>\n",
       "    </tr>\n",
       "  </thead>\n",
       "  <tbody>\n",
       "    <tr>\n",
       "      <th>0</th>\n",
       "      <td>biorxiv</td>\n",
       "      <td>biorxiv</td>\n",
       "      <td>biorxiv_medrxiv</td>\n",
       "      <td></td>\n",
       "      <td></td>\n",
       "      <td>10.1101/001727</td>\n",
       "      <td></td>\n",
       "      <td></td>\n",
       "      <td>f056da9c64fbf00a4645ae326e8a4339d015d155</td>\n",
       "      <td>5814</td>\n",
       "      <td>There are many different methods that characte...</td>\n",
       "    </tr>\n",
       "    <tr>\n",
       "      <th>1</th>\n",
       "      <td>biorxiv</td>\n",
       "      <td>biorxiv</td>\n",
       "      <td>biorxiv_medrxiv</td>\n",
       "      <td></td>\n",
       "      <td></td>\n",
       "      <td>10.1101/003889</td>\n",
       "      <td></td>\n",
       "      <td></td>\n",
       "      <td>daf32e013d325a6feb80e83d15aabc64a48fae33</td>\n",
       "      <td>5815</td>\n",
       "      <td>The term metapopulation was coined by Levins [...</td>\n",
       "    </tr>\n",
       "    <tr>\n",
       "      <th>2</th>\n",
       "      <td>biorxiv</td>\n",
       "      <td>biorxiv</td>\n",
       "      <td>biorxiv_medrxiv</td>\n",
       "      <td></td>\n",
       "      <td></td>\n",
       "      <td>10.1101/006866</td>\n",
       "      <td></td>\n",
       "      <td></td>\n",
       "      <td>f33c6d94b0efaa198f8f3f20e644625fa3fe10d2</td>\n",
       "      <td>5816</td>\n",
       "      <td>Antibodies are essential components of the imm...</td>\n",
       "    </tr>\n",
       "    <tr>\n",
       "      <th>3</th>\n",
       "      <td>biorxiv</td>\n",
       "      <td>biorxiv</td>\n",
       "      <td>biorxiv_medrxiv</td>\n",
       "      <td></td>\n",
       "      <td></td>\n",
       "      <td>10.1101/007476</td>\n",
       "      <td></td>\n",
       "      <td></td>\n",
       "      <td>4da8a87e614373d56070ed272487451266dce919</td>\n",
       "      <td>5817</td>\n",
       "      <td>Metagenomics can be defined as the analysis of...</td>\n",
       "    </tr>\n",
       "    <tr>\n",
       "      <th>4</th>\n",
       "      <td>biorxiv</td>\n",
       "      <td>biorxiv</td>\n",
       "      <td>biorxiv_medrxiv</td>\n",
       "      <td></td>\n",
       "      <td></td>\n",
       "      <td>10.1101/010389</td>\n",
       "      <td></td>\n",
       "      <td></td>\n",
       "      <td>eccef80cfbe078235df22398f195d5db462d8000</td>\n",
       "      <td>5818</td>\n",
       "      <td>: Schematic of transmission links overlaid on ...</td>\n",
       "    </tr>\n",
       "  </tbody>\n",
       "</table>\n",
       "</div>"
      ],
      "text/plain": [
       "    source  license   full_text_file ms_academic_id who_covidence  \\\n",
       "0  biorxiv  biorxiv  biorxiv_medrxiv                                \n",
       "1  biorxiv  biorxiv  biorxiv_medrxiv                                \n",
       "2  biorxiv  biorxiv  biorxiv_medrxiv                                \n",
       "3  biorxiv  biorxiv  biorxiv_medrxiv                                \n",
       "4  biorxiv  biorxiv  biorxiv_medrxiv                                \n",
       "\n",
       "              doi pmid pmcid                                       sha  \\\n",
       "0  10.1101/001727             f056da9c64fbf00a4645ae326e8a4339d015d155   \n",
       "1  10.1101/003889             daf32e013d325a6feb80e83d15aabc64a48fae33   \n",
       "2  10.1101/006866             f33c6d94b0efaa198f8f3f20e644625fa3fe10d2   \n",
       "3  10.1101/007476             4da8a87e614373d56070ed272487451266dce919   \n",
       "4  10.1101/010389             eccef80cfbe078235df22398f195d5db462d8000   \n",
       "\n",
       "   pub_id                                          full_text  \n",
       "0    5814  There are many different methods that characte...  \n",
       "1    5815  The term metapopulation was coined by Levins [...  \n",
       "2    5816  Antibodies are essential components of the imm...  \n",
       "3    5817  Metagenomics can be defined as the analysis of...  \n",
       "4    5818  : Schematic of transmission links overlaid on ...  "
      ]
     },
     "execution_count": 55,
     "metadata": {},
     "output_type": "execute_result"
    }
   ],
   "source": [
    "df_cord_metadata.head()"
   ]
  },
  {
   "cell_type": "code",
   "execution_count": 56,
   "metadata": {},
   "outputs": [],
   "source": [
    "# WHO and Dimensions metadata"
   ]
  },
  {
   "cell_type": "code",
   "execution_count": 57,
   "metadata": {},
   "outputs": [],
   "source": [
    "df_tmp = df_who_metadata[df_who_metadata.doi==\"\"]\n",
    "df_who_metadata1 = pd.merge(df_who_metadata[df_who_metadata.doi!=\"\"], df_pub[['pub_id','doi']],  how='inner', left_on=['doi'], right_on=['doi'])\n",
    "df_tmp2 = df_tmp[df_tmp.pmid==\"\"]\n",
    "df_who_metadata2 = pd.merge(df_tmp[df_tmp.pmid!=\"\"], df_pub[['pub_id','pmid']],  how='inner', left_on=['pmid'], right_on=['pmid'])\n",
    "df_who_metadata3 = pd.merge(df_tmp2[df_tmp2.pmcid!=\"\"], df_pub[['pub_id','pmcid']],  how='inner', left_on=['pmcid'], right_on=['pmcid'])"
   ]
  },
  {
   "cell_type": "code",
   "execution_count": 58,
   "metadata": {},
   "outputs": [
    {
     "data": {
      "text/html": [
       "<div>\n",
       "<style scoped>\n",
       "    .dataframe tbody tr th:only-of-type {\n",
       "        vertical-align: middle;\n",
       "    }\n",
       "\n",
       "    .dataframe tbody tr th {\n",
       "        vertical-align: top;\n",
       "    }\n",
       "\n",
       "    .dataframe thead th {\n",
       "        text-align: right;\n",
       "    }\n",
       "</style>\n",
       "<table border=\"1\" class=\"dataframe\">\n",
       "  <thead>\n",
       "    <tr style=\"text-align: right;\">\n",
       "      <th></th>\n",
       "      <th>accession_number</th>\n",
       "      <th>doi</th>\n",
       "      <th>ref</th>\n",
       "      <th>covidence</th>\n",
       "      <th>study</th>\n",
       "      <th>notes</th>\n",
       "      <th>tags</th>\n",
       "      <th>pmid</th>\n",
       "      <th>pub_id</th>\n",
       "      <th>pmcid</th>\n",
       "    </tr>\n",
       "  </thead>\n",
       "  <tbody>\n",
       "  </tbody>\n",
       "</table>\n",
       "</div>"
      ],
      "text/plain": [
       "Empty DataFrame\n",
       "Columns: [accession_number, doi, ref, covidence, study, notes, tags, pmid, pub_id, pmcid]\n",
       "Index: []"
      ]
     },
     "execution_count": 58,
     "metadata": {},
     "output_type": "execute_result"
    }
   ],
   "source": [
    "df_who_metadata1.drop_duplicates(\"doi\",inplace=True)\n",
    "df_who_metadata2.drop_duplicates(\"pmid\",inplace=True)\n",
    "df_who_metadata3.drop_duplicates(\"pmcid\",inplace=True)"
   ]
  },
  {
   "cell_type": "code",
   "execution_count": 59,
   "metadata": {},
   "outputs": [],
   "source": [
    "df_who_metadata = pd.concat([df_who_metadata1,df_who_metadata2,df_who_metadata3])"
   ]
  },
  {
   "cell_type": "code",
   "execution_count": 60,
   "metadata": {},
   "outputs": [
    {
     "data": {
      "text/plain": [
       "(2359, 10)"
      ]
     },
     "execution_count": 60,
     "metadata": {},
     "output_type": "execute_result"
    }
   ],
   "source": [
    "df_who_metadata.shape"
   ]
  },
  {
   "cell_type": "code",
   "execution_count": 61,
   "metadata": {},
   "outputs": [],
   "source": [
    "df_who_metadata.rename(columns={\"id\":\"pub_id\"},inplace=True)"
   ]
  },
  {
   "cell_type": "code",
   "execution_count": 62,
   "metadata": {},
   "outputs": [],
   "source": [
    "df_tmp = df_dimensions_metadata[df_dimensions_metadata.doi==\"\"]\n",
    "df_dimensions_metadata1 = pd.merge(df_dimensions_metadata[df_dimensions_metadata.doi!=\"\"], df_pub[['pub_id','doi']],  how='inner', left_on=['doi'], right_on=['doi'])\n",
    "df_tmp2 = df_tmp[df_tmp.pmid==\"\"]\n",
    "df_dimensions_metadata2 = pd.merge(df_tmp[df_tmp.pmid!=\"\"], df_pub[['pub_id','pmid']],  how='inner', left_on=['pmid'], right_on=['pmid'])\n",
    "df_dimensions_metadata3 = pd.merge(df_tmp2[df_tmp2.pmcid!=\"\"], df_pub[['pub_id','pmcid']],  how='inner', left_on=['pmcid'], right_on=['pmcid'])"
   ]
  },
  {
   "cell_type": "code",
   "execution_count": 63,
   "metadata": {},
   "outputs": [
    {
     "data": {
      "text/html": [
       "<div>\n",
       "<style scoped>\n",
       "    .dataframe tbody tr th:only-of-type {\n",
       "        vertical-align: middle;\n",
       "    }\n",
       "\n",
       "    .dataframe tbody tr th {\n",
       "        vertical-align: top;\n",
       "    }\n",
       "\n",
       "    .dataframe thead th {\n",
       "        text-align: right;\n",
       "    }\n",
       "</style>\n",
       "<table border=\"1\" class=\"dataframe\">\n",
       "  <thead>\n",
       "    <tr style=\"text-align: right;\">\n",
       "      <th></th>\n",
       "      <th>publication_id</th>\n",
       "      <th>doi</th>\n",
       "      <th>pmid</th>\n",
       "      <th>source_uid</th>\n",
       "      <th>mesh_terms</th>\n",
       "      <th>open_access</th>\n",
       "      <th>publication_type</th>\n",
       "      <th>dimensions_url</th>\n",
       "      <th>pub_id</th>\n",
       "      <th>pmcid</th>\n",
       "    </tr>\n",
       "  </thead>\n",
       "  <tbody>\n",
       "  </tbody>\n",
       "</table>\n",
       "</div>"
      ],
      "text/plain": [
       "Empty DataFrame\n",
       "Columns: [publication_id, doi, pmid, source_uid, mesh_terms, open_access, publication_type, dimensions_url, pub_id, pmcid]\n",
       "Index: []"
      ]
     },
     "execution_count": 63,
     "metadata": {},
     "output_type": "execute_result"
    }
   ],
   "source": [
    "df_dimensions_metadata1.drop_duplicates(\"doi\",inplace=True)\n",
    "df_dimensions_metadata2.drop_duplicates(\"pmid\",inplace=True)\n",
    "df_dimensions_metadata3.drop_duplicates(\"pmcid\",inplace=True)"
   ]
  },
  {
   "cell_type": "code",
   "execution_count": 64,
   "metadata": {},
   "outputs": [],
   "source": [
    "df_dimensions_metadata = pd.concat([df_dimensions_metadata1,df_dimensions_metadata2,df_dimensions_metadata3])"
   ]
  },
  {
   "cell_type": "code",
   "execution_count": 65,
   "metadata": {},
   "outputs": [
    {
     "data": {
      "text/plain": [
       "(4693, 10)"
      ]
     },
     "execution_count": 65,
     "metadata": {},
     "output_type": "execute_result"
    }
   ],
   "source": [
    "df_dimensions_metadata.shape"
   ]
  },
  {
   "cell_type": "code",
   "execution_count": 66,
   "metadata": {},
   "outputs": [],
   "source": [
    "df_dimensions_metadata.rename(columns={\"id\":\"pub_id\"},inplace=True)"
   ]
  },
  {
   "cell_type": "code",
   "execution_count": 67,
   "metadata": {},
   "outputs": [],
   "source": [
    "# Create datasource tables"
   ]
  },
  {
   "cell_type": "code",
   "execution_count": 68,
   "metadata": {},
   "outputs": [],
   "source": [
    "cord_source_id = df_datasource[df_datasource.source==\"CORD19\"].index.values[0]\n",
    "who_source_id = df_datasource[df_datasource.source==\"WHO\"].index.values[0]\n",
    "dimensions_source_id = df_datasource[df_datasource.source==\"Dimensions\"].index.values[0]"
   ]
  },
  {
   "cell_type": "code",
   "execution_count": 69,
   "metadata": {},
   "outputs": [],
   "source": [
    "df_cord_metadata[\"source_id\"] = cord_source_id\n",
    "df_who_metadata[\"source_id\"] = who_source_id\n",
    "df_dimensions_metadata[\"source_id\"] = dimensions_source_id"
   ]
  },
  {
   "cell_type": "code",
   "execution_count": 70,
   "metadata": {},
   "outputs": [],
   "source": [
    "df_pub_to_datasource = df_cord_metadata[[\"pub_id\",\"source_id\"]]\n",
    "df_pub_to_datasource = df_pub_to_datasource.append(df_who_metadata[[\"pub_id\",\"source_id\"]],ignore_index=True)\n",
    "df_pub_to_datasource = df_pub_to_datasource.append(df_dimensions_metadata[[\"pub_id\",\"source_id\"]],ignore_index=True)"
   ]
  },
  {
   "cell_type": "code",
   "execution_count": 71,
   "metadata": {},
   "outputs": [],
   "source": [
    "df_pub_to_datasource.drop_duplicates(inplace=True)\n",
    "df_pub_to_datasource.rename(columns={\"source_id\":\"datasource_id\"},inplace=True)"
   ]
  },
  {
   "cell_type": "code",
   "execution_count": 72,
   "metadata": {},
   "outputs": [
    {
     "data": {
      "text/plain": [
       "(52522, 2)"
      ]
     },
     "execution_count": 72,
     "metadata": {},
     "output_type": "execute_result"
    }
   ],
   "source": [
    "df_pub_to_datasource.shape"
   ]
  },
  {
   "cell_type": "code",
   "execution_count": 73,
   "metadata": {},
   "outputs": [
    {
     "data": {
      "text/html": [
       "<div>\n",
       "<style scoped>\n",
       "    .dataframe tbody tr th:only-of-type {\n",
       "        vertical-align: middle;\n",
       "    }\n",
       "\n",
       "    .dataframe tbody tr th {\n",
       "        vertical-align: top;\n",
       "    }\n",
       "\n",
       "    .dataframe thead th {\n",
       "        text-align: right;\n",
       "    }\n",
       "</style>\n",
       "<table border=\"1\" class=\"dataframe\">\n",
       "  <thead>\n",
       "    <tr style=\"text-align: right;\">\n",
       "      <th></th>\n",
       "      <th>pub_id</th>\n",
       "      <th>datasource_id</th>\n",
       "    </tr>\n",
       "  </thead>\n",
       "  <tbody>\n",
       "    <tr>\n",
       "      <th>18728</th>\n",
       "      <td>22787</td>\n",
       "      <td>0</td>\n",
       "    </tr>\n",
       "  </tbody>\n",
       "</table>\n",
       "</div>"
      ],
      "text/plain": [
       "       pub_id  datasource_id\n",
       "18728   22787              0"
      ]
     },
     "execution_count": 73,
     "metadata": {},
     "output_type": "execute_result"
    }
   ],
   "source": [
    "df_pub_to_datasource[df_pub_to_datasource.pub_id==22787]"
   ]
  },
  {
   "cell_type": "code",
   "execution_count": 74,
   "metadata": {},
   "outputs": [],
   "source": [
    "# remove unnecessary columns\n",
    "df_cord_metadata.drop(columns=['doi','pmid','pmcid','source_id'],inplace=True)\n",
    "df_who_metadata.drop(columns=['doi','pmid','pmcid','source_id'],inplace=True)\n",
    "df_dimensions_metadata.drop(columns=['doi','pmid','pmcid','source_id'],inplace=True)"
   ]
  },
  {
   "cell_type": "code",
   "execution_count": 75,
   "metadata": {},
   "outputs": [],
   "source": [
    "# reset all indexes which will become PKs\n",
    "df_cord_metadata.reset_index(drop=True,inplace=True)\n",
    "df_who_metadata.reset_index(drop=True,inplace=True)\n",
    "df_dimensions_metadata.reset_index(drop=True,inplace=True)\n",
    "df_datasource.reset_index(drop=True,inplace=True)\n",
    "df_cord_metadata[\"cord19_metadata_id\"] = df_cord_metadata.index.values\n",
    "df_who_metadata[\"who_metadata_id\"] = df_who_metadata.index.values\n",
    "df_dimensions_metadata[\"dimensions_metadata_id\"] = df_dimensions_metadata.index.values\n",
    "df_datasource[\"datasource_metadata_id\"] = df_datasource.index.values"
   ]
  },
  {
   "cell_type": "code",
   "execution_count": 76,
   "metadata": {},
   "outputs": [],
   "source": [
    "# make numeric where needed\n",
    "df_pub[\"publication_year\"] = pd.to_numeric(df_pub[\"publication_year\"])\n",
    "df_pub[\"publication_month\"] = pd.to_numeric(df_pub[\"publication_month\"])\n",
    "df_pub[\"pmid\"] = pd.to_numeric(df_pub[\"pmid\"])"
   ]
  },
  {
   "cell_type": "code",
   "execution_count": 77,
   "metadata": {},
   "outputs": [],
   "source": [
    "# add timestamp\n",
    "df_pub[\"timestamp\"] = pd.Timestamp.now()"
   ]
  },
  {
   "cell_type": "code",
   "execution_count": 78,
   "metadata": {},
   "outputs": [],
   "source": [
    "# clean-up text (optional)\n",
    "replaces = [\"\"]\n",
    "\n",
    "def clean_up(txt):\n",
    "    for r in replaces:\n",
    "        txt = txt.replace(r,\"\")\n",
    "    return txt.encode('utf8', 'ignore').decode('utf8')\n",
    "df_pub[\"abstract\"] = [clean_up(a) for a in df_pub[\"abstract\"].values]"
   ]
  },
  {
   "cell_type": "code",
   "execution_count": 79,
   "metadata": {},
   "outputs": [
    {
     "data": {
      "text/html": [
       "<div>\n",
       "<style scoped>\n",
       "    .dataframe tbody tr th:only-of-type {\n",
       "        vertical-align: middle;\n",
       "    }\n",
       "\n",
       "    .dataframe tbody tr th {\n",
       "        vertical-align: top;\n",
       "    }\n",
       "\n",
       "    .dataframe thead th {\n",
       "        text-align: right;\n",
       "    }\n",
       "</style>\n",
       "<table border=\"1\" class=\"dataframe\">\n",
       "  <thead>\n",
       "    <tr style=\"text-align: right;\">\n",
       "      <th></th>\n",
       "      <th>title</th>\n",
       "      <th>abstract</th>\n",
       "      <th>publication_year</th>\n",
       "      <th>publication_month</th>\n",
       "      <th>journal</th>\n",
       "      <th>volume</th>\n",
       "      <th>issue</th>\n",
       "      <th>pages</th>\n",
       "      <th>doi</th>\n",
       "      <th>pmid</th>\n",
       "      <th>pmcid</th>\n",
       "      <th>pub_id</th>\n",
       "      <th>timestamp</th>\n",
       "    </tr>\n",
       "  </thead>\n",
       "  <tbody>\n",
       "    <tr>\n",
       "      <th>0</th>\n",
       "      <td>The Possible Immunological Pathways for the Va...</td>\n",
       "      <td></td>\n",
       "      <td>2020.0</td>\n",
       "      <td>3.0</td>\n",
       "      <td>Electronic Journal of General Medicine</td>\n",
       "      <td>17</td>\n",
       "      <td>4</td>\n",
       "      <td></td>\n",
       "      <td>10.29333/ejgm/7850</td>\n",
       "      <td>NaN</td>\n",
       "      <td></td>\n",
       "      <td>0</td>\n",
       "      <td>2020-03-28 08:55:45.059511</td>\n",
       "    </tr>\n",
       "    <tr>\n",
       "      <th>1</th>\n",
       "      <td>A Method of Estimating Time-to-Recovery for a ...</td>\n",
       "      <td></td>\n",
       "      <td>2020.0</td>\n",
       "      <td>3.0</td>\n",
       "      <td>Research Square</td>\n",
       "      <td></td>\n",
       "      <td></td>\n",
       "      <td></td>\n",
       "      <td>10.21203/rs.3.rs-18190/v1</td>\n",
       "      <td>NaN</td>\n",
       "      <td></td>\n",
       "      <td>1</td>\n",
       "      <td>2020-03-28 08:55:45.059511</td>\n",
       "    </tr>\n",
       "    <tr>\n",
       "      <th>2</th>\n",
       "      <td>Preparation for the quarantine of the cruise s...</td>\n",
       "      <td></td>\n",
       "      <td>2020.0</td>\n",
       "      <td>3.0</td>\n",
       "      <td>JMIR Preprints</td>\n",
       "      <td></td>\n",
       "      <td></td>\n",
       "      <td></td>\n",
       "      <td>10.2196/preprints.18821</td>\n",
       "      <td>NaN</td>\n",
       "      <td></td>\n",
       "      <td>2</td>\n",
       "      <td>2020-03-28 08:55:45.059511</td>\n",
       "    </tr>\n",
       "    <tr>\n",
       "      <th>3</th>\n",
       "      <td>Differences and similarities between Severe Ac...</td>\n",
       "      <td></td>\n",
       "      <td>2020.0</td>\n",
       "      <td>3.0</td>\n",
       "      <td>European review for medical and pharmacologica...</td>\n",
       "      <td>24</td>\n",
       "      <td>5</td>\n",
       "      <td>2781-2783</td>\n",
       "      <td>10.26355/eurrev_202003_20551</td>\n",
       "      <td>32196628.0</td>\n",
       "      <td></td>\n",
       "      <td>3</td>\n",
       "      <td>2020-03-28 08:55:45.059511</td>\n",
       "    </tr>\n",
       "    <tr>\n",
       "      <th>4</th>\n",
       "      <td>From SARS-CoV to SARS-CoV-2: The response and ...</td>\n",
       "      <td>Abstract:</td>\n",
       "      <td>2020.0</td>\n",
       "      <td>2.0</td>\n",
       "      <td>Fa yi xue za zhi</td>\n",
       "      <td>36</td>\n",
       "      <td>1</td>\n",
       "      <td>1-3</td>\n",
       "      <td>10.12116/j.issn.1004-5619.2020.01.001</td>\n",
       "      <td>32198983.0</td>\n",
       "      <td></td>\n",
       "      <td>4</td>\n",
       "      <td>2020-03-28 08:55:45.059511</td>\n",
       "    </tr>\n",
       "  </tbody>\n",
       "</table>\n",
       "</div>"
      ],
      "text/plain": [
       "                                               title    abstract  \\\n",
       "0  The Possible Immunological Pathways for the Va...               \n",
       "1  A Method of Estimating Time-to-Recovery for a ...               \n",
       "2  Preparation for the quarantine of the cruise s...               \n",
       "3  Differences and similarities between Severe Ac...               \n",
       "4  From SARS-CoV to SARS-CoV-2: The response and ...  Abstract:    \n",
       "\n",
       "   publication_year  publication_month  \\\n",
       "0            2020.0                3.0   \n",
       "1            2020.0                3.0   \n",
       "2            2020.0                3.0   \n",
       "3            2020.0                3.0   \n",
       "4            2020.0                2.0   \n",
       "\n",
       "                                             journal volume issue      pages  \\\n",
       "0             Electronic Journal of General Medicine     17     4              \n",
       "1                                    Research Square                           \n",
       "2                                     JMIR Preprints                           \n",
       "3  European review for medical and pharmacologica...     24     5  2781-2783   \n",
       "4                                   Fa yi xue za zhi     36     1        1-3   \n",
       "\n",
       "                                     doi        pmid pmcid  pub_id  \\\n",
       "0                     10.29333/ejgm/7850         NaN             0   \n",
       "1              10.21203/rs.3.rs-18190/v1         NaN             1   \n",
       "2                10.2196/preprints.18821         NaN             2   \n",
       "3           10.26355/eurrev_202003_20551  32196628.0             3   \n",
       "4  10.12116/j.issn.1004-5619.2020.01.001  32198983.0             4   \n",
       "\n",
       "                   timestamp  \n",
       "0 2020-03-28 08:55:45.059511  \n",
       "1 2020-03-28 08:55:45.059511  \n",
       "2 2020-03-28 08:55:45.059511  \n",
       "3 2020-03-28 08:55:45.059511  \n",
       "4 2020-03-28 08:55:45.059511  "
      ]
     },
     "execution_count": 79,
     "metadata": {},
     "output_type": "execute_result"
    }
   ],
   "source": [
    "df_pub.head()"
   ]
  },
  {
   "cell_type": "code",
   "execution_count": 80,
   "metadata": {},
   "outputs": [
    {
     "data": {
      "text/plain": [
       "Index(['source', 'url', 'datasource_metadata_id'], dtype='object')"
      ]
     },
     "execution_count": 80,
     "metadata": {},
     "output_type": "execute_result"
    }
   ],
   "source": [
    "# reorder the columns to match the SQL schema\n",
    "\n",
    "df_datasource.columns"
   ]
  },
  {
   "cell_type": "code",
   "execution_count": 81,
   "metadata": {},
   "outputs": [],
   "source": [
    "df_pub = df_pub[['pub_id', 'title', 'abstract', 'publication_year', 'publication_month', 'journal',\n",
    "       'volume', 'issue', 'pages', 'doi', 'pmid', 'pmcid',\n",
    "       'timestamp']]\n",
    "df_who_metadata = df_who_metadata[['who_metadata_id', 'accession_number', 'ref', 'covidence', 'study', 'notes', 'tags',\n",
    "       'pub_id']]\n",
    "df_dimensions_metadata = df_dimensions_metadata[['dimensions_metadata_id', 'publication_id', 'source_uid', 'open_access',\n",
    "       'publication_type', 'dimensions_url', 'mesh_terms', 'pub_id']]\n",
    "df_cord_metadata = df_cord_metadata[[ 'cord19_metadata_id', 'source', 'license', 'full_text_file', 'ms_academic_id',\n",
    "       'who_covidence', 'sha', 'full_text', 'pub_id']]\n",
    "df_datasource = df_datasource[['datasource_metadata_id', 'source', 'url']]"
   ]
  },
  {
   "cell_type": "markdown",
   "metadata": {},
   "source": [
    "### Dump to MySQL\n",
    "\n",
    "Use this if you want to create a MySQL db."
   ]
  },
  {
   "cell_type": "code",
   "execution_count": null,
   "metadata": {},
   "outputs": [],
   "source": [
    "dtype_dict = {'pub_id':Integer, 'title':String, 'abstract':String, 'publication_year':Integer, 'publication_month':Integer, 'journal':String,\n",
    "       'volume':String, 'issue':String, 'pages':String, 'doi':String, 'pmid':Integer, 'pmcid':String, 'timestamp':DateTime}"
   ]
  },
  {
   "cell_type": "code",
   "execution_count": null,
   "metadata": {},
   "outputs": [],
   "source": [
    "# get API key\n",
    "import configparser\n",
    "config = configparser.ConfigParser()\n",
    "config.read(\"credentials/conf.ini\")\n",
    "mysql_username = config[\"MYSQL\"][\"username\"]\n",
    "mysql_password = config[\"MYSQL\"][\"password\"]\n",
    "mysql_database = config[\"MYSQL\"][\"database\"]"
   ]
  },
  {
   "cell_type": "code",
   "execution_count": null,
   "metadata": {},
   "outputs": [],
   "source": [
    "sqlEngine = create_engine('mysql+pymysql://%s:%s@127.0.0.1/%s'%(mysql_username,mysql_password,mysql_database), pool_recycle=3600)\n",
    "dbConnection = sqlEngine.connect()"
   ]
  },
  {
   "cell_type": "code",
   "execution_count": null,
   "metadata": {},
   "outputs": [],
   "source": [
    "# main table\n",
    "table_name = \"pub\"\n",
    "try:\n",
    "    frame = df_pub.to_sql(table_name, dbConnection, if_exists='append', index=False, index_label=\"pub_id\", dtype=dtype_dict);\n",
    "except ValueError as vx:\n",
    "    print(vx)\n",
    "except Exception as ex:   \n",
    "    print(ex)\n",
    "else:\n",
    "    print(\"Table %s created successfully.\"%table_name);   \n",
    "finally:\n",
    "    dbConnection.close()"
   ]
  },
  {
   "cell_type": "code",
   "execution_count": null,
   "metadata": {},
   "outputs": [],
   "source": [
    "sqlEngine = create_engine('mysql+pymysql://%s:%s@127.0.0.1/%s'%(mysql_username,mysql_password,mysql_database), pool_recycle=3600)\n",
    "dbConnection = sqlEngine.connect()"
   ]
  },
  {
   "cell_type": "code",
   "execution_count": null,
   "metadata": {},
   "outputs": [],
   "source": [
    "# other tables\n",
    "try:\n",
    "    frame = df_cord_metadata.to_sql(\"cord19_metadata\", dbConnection, if_exists='append', index=True, index_label=\"cord19_metadata_id\")\n",
    "    frame = df_who_metadata.to_sql(\"who_metadata\", dbConnection, if_exists='append', index=True, index_label=\"who_metadata_id\")\n",
    "    frame = df_dimensions_metadata.to_sql(\"dimensions_metadata\", dbConnection, if_exists='append', index=True, index_label=\"dimensions_metadata_id\")\n",
    "    frame = df_datasource.to_sql(\"datasource\", dbConnection, if_exists='append', index=True, index_label=\"datasource_id\")\n",
    "except ValueError as vx:\n",
    "    print(vx)\n",
    "except Exception as ex:   \n",
    "    print(ex)\n",
    "else:\n",
    "    print(\"Tables created successfully.\");   \n",
    "finally:\n",
    "    dbConnection.close()"
   ]
  },
  {
   "cell_type": "code",
   "execution_count": null,
   "metadata": {},
   "outputs": [],
   "source": [
    "sqlEngine = create_engine('mysql+pymysql://%s:%s@127.0.0.1/%s'%(mysql_username,mysql_password,mysql_database), pool_recycle=3600)\n",
    "dbConnection = sqlEngine.connect()"
   ]
  },
  {
   "cell_type": "code",
   "execution_count": null,
   "metadata": {},
   "outputs": [],
   "source": [
    "# last table\n",
    "try:\n",
    "    frame = df_pub_to_datasource.to_sql(\"pub_datasource\", dbConnection, if_exists='append', index=False, index_label=[\"pub_id\",\"datasource_id\"])\n",
    "except ValueError as vx:\n",
    "    print(vx)\n",
    "except Exception as ex:   \n",
    "    print(ex)\n",
    "else:\n",
    "    print(\"Table created successfully.\");   \n",
    "finally:\n",
    "    dbConnection.close()"
   ]
  },
  {
   "cell_type": "code",
   "execution_count": null,
   "metadata": {},
   "outputs": [],
   "source": [
    "### Export the df_pub dataframe for further use\n",
    "\n",
    "df_pub.to_csv(\"datasets_output/df_pub.csv\", compression=\"gzip\")"
   ]
  },
  {
   "cell_type": "code",
   "execution_count": null,
   "metadata": {},
   "outputs": [],
   "source": [
    "# export TSV for ingestion\n",
    "\n",
    "df_pub.to_csv(\"datasets_output/sql_tables/pub.csv\",index=False,sep=\"\\t\",header=False)\n",
    "df_cord_metadata.to_csv(\"datasets_output/sql_tables/cord19_metadata.csv\",index=False,sep=\"\\t\",header=False)\n",
    "df_dimensions_metadata.to_csv(\"datasets_output/sql_tables/dimensions_metadata.csv\",index=False,sep=\"\\t\",header=False)\n",
    "df_who_metadata.to_csv(\"datasets_output/sql_tables/who_metadata.csv\",index=False,sep=\"\\t\",header=False)\n",
    "df_datasource.to_csv(\"datasets_output/sql_tables/datasource.csv\",index=False,sep=\"\\t\",header=False)\n",
    "df_pub_to_datasource.to_csv(\"datasets_output/sql_tables/pub_datasource.csv\",index=False,sep=\"\\t\",header=False)"
   ]
  },
  {
   "cell_type": "code",
   "execution_count": null,
   "metadata": {},
   "outputs": [],
   "source": []
  }
 ],
 "metadata": {
  "kernelspec": {
   "display_name": "covid",
   "language": "python",
   "name": "covid"
  },
  "language_info": {
   "codemirror_mode": {
    "name": "ipython",
    "version": 3
   },
   "file_extension": ".py",
   "mimetype": "text/x-python",
   "name": "python",
   "nbconvert_exporter": "python",
   "pygments_lexer": "ipython3",
   "version": "3.7.6"
  }
 },
 "nbformat": 4,
 "nbformat_minor": 4
}
