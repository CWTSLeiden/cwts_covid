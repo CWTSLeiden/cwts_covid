{
 "cells": [
  {
   "cell_type": "markdown",
   "metadata": {},
   "source": [
    "# CORD-19 overview\n",
    "\n",
    "In this notebook, we provide an overview of publication medatata for CORD-19."
   ]
  },
  {
   "cell_type": "code",
   "execution_count": 1,
   "metadata": {},
   "outputs": [],
   "source": [
    "%matplotlib inline\n",
    "import matplotlib.pyplot as plt\n",
    "\n",
    "# magics and warnings\n",
    "%load_ext autoreload\n",
    "%autoreload 2\n",
    "import warnings; warnings.simplefilter('ignore')\n",
    "\n",
    "import os, random, codecs, json\n",
    "import pandas as pd\n",
    "import numpy as np\n",
    "\n",
    "seed = 99\n",
    "random.seed(seed)\n",
    "np.random.seed(seed)\n",
    "\n",
    "import nltk, sklearn\n",
    "import matplotlib.pyplot as plt\n",
    "import seaborn as sns\n",
    "sns.set(style=\"white\")\n",
    "sns.set_context(\"notebook\", font_scale=1.2, rc={\"lines.linewidth\": 2.5})"
   ]
  },
  {
   "cell_type": "code",
   "execution_count": 2,
   "metadata": {},
   "outputs": [],
   "source": [
    "# load metadata\n",
    "\n",
    "df_meta = pd.read_csv(\"datasets_output/df_pub.csv\",compression=\"gzip\")\n",
    "df_datasource = pd.read_csv(\"datasets_output/sql_tables/datasource.csv\",sep=\"\\t\",header=None,names=['datasource_metadata_id', 'datasource', 'url'])\n",
    "df_pub_datasource = pd.read_csv(\"datasets_output/sql_tables/pub_datasource.csv\",sep=\"\\t\",header=None,names=['pub_id','datasource_metadata_id'])\n",
    "df_cord_meta = pd.read_csv(\"datasets_output/sql_tables/cord19_metadata.csv\",sep=\"\\t\",header=None,names=[ 'cord19_metadata_id', 'source', 'license', 'ms_academic_id',\n",
    "       'who_covidence', 'sha', 'full_text', 'pub_id'])"
   ]
  },
  {
   "cell_type": "code",
   "execution_count": 3,
   "metadata": {},
   "outputs": [
    {
     "data": {
      "text/html": [
       "<div>\n",
       "<style scoped>\n",
       "    .dataframe tbody tr th:only-of-type {\n",
       "        vertical-align: middle;\n",
       "    }\n",
       "\n",
       "    .dataframe tbody tr th {\n",
       "        vertical-align: top;\n",
       "    }\n",
       "\n",
       "    .dataframe thead th {\n",
       "        text-align: right;\n",
       "    }\n",
       "</style>\n",
       "<table border=\"1\" class=\"dataframe\">\n",
       "  <thead>\n",
       "    <tr style=\"text-align: right;\">\n",
       "      <th></th>\n",
       "      <th>pub_id</th>\n",
       "      <th>title</th>\n",
       "      <th>abstract</th>\n",
       "      <th>publication_year</th>\n",
       "      <th>publication_month</th>\n",
       "      <th>journal</th>\n",
       "      <th>volume</th>\n",
       "      <th>issue</th>\n",
       "      <th>pages</th>\n",
       "      <th>doi</th>\n",
       "      <th>pmid</th>\n",
       "      <th>pmcid</th>\n",
       "      <th>dimensions_id</th>\n",
       "      <th>arxiv_id</th>\n",
       "      <th>timestamp</th>\n",
       "    </tr>\n",
       "  </thead>\n",
       "  <tbody>\n",
       "    <tr>\n",
       "      <th>0</th>\n",
       "      <td>0</td>\n",
       "      <td>Coronavirus disease 2019 (COVID-19) and simult...</td>\n",
       "      <td>Coronavirus disease 2019 (COVID-19) is a recen...</td>\n",
       "      <td>2020.0</td>\n",
       "      <td>5.0</td>\n",
       "      <td>CardioVascular Journal of Africa</td>\n",
       "      <td>31</td>\n",
       "      <td>NaN</td>\n",
       "      <td>1-4</td>\n",
       "      <td>10-5830-cvja-2020-016</td>\n",
       "      <td>32490506.0</td>\n",
       "      <td>NaN</td>\n",
       "      <td>pub.1128171889</td>\n",
       "      <td>NaN</td>\n",
       "      <td>2020-07-02 10:54:27.347501</td>\n",
       "    </tr>\n",
       "    <tr>\n",
       "      <th>1</th>\n",
       "      <td>1</td>\n",
       "      <td>[Ten hot issues of breast cancer under the nov...</td>\n",
       "      <td>NaN</td>\n",
       "      <td>2020.0</td>\n",
       "      <td>2.0</td>\n",
       "      <td>Chinese medical journal</td>\n",
       "      <td>100</td>\n",
       "      <td>0</td>\n",
       "      <td>e002</td>\n",
       "      <td>10.0376/cma.j.issn.0376-2491.2020.0002</td>\n",
       "      <td>32036640.0</td>\n",
       "      <td>NaN</td>\n",
       "      <td>pub.1124777091</td>\n",
       "      <td>NaN</td>\n",
       "      <td>2020-07-02 10:54:27.347501</td>\n",
       "    </tr>\n",
       "    <tr>\n",
       "      <th>2</th>\n",
       "      <td>2</td>\n",
       "      <td>Cohesion in Distancing.</td>\n",
       "      <td>In isolation, we are physically apart; in soli...</td>\n",
       "      <td>2020.0</td>\n",
       "      <td>4.0</td>\n",
       "      <td>The AMA Journal of Ethic</td>\n",
       "      <td>22</td>\n",
       "      <td>4</td>\n",
       "      <td>e344-345</td>\n",
       "      <td>10.1001/amajethics.2020.344</td>\n",
       "      <td>32345430.0</td>\n",
       "      <td>NaN</td>\n",
       "      <td>pub.1127182341</td>\n",
       "      <td>NaN</td>\n",
       "      <td>2020-07-02 10:54:27.347501</td>\n",
       "    </tr>\n",
       "    <tr>\n",
       "      <th>3</th>\n",
       "      <td>3</td>\n",
       "      <td>Salvation in a Time of Plague.</td>\n",
       "      <td>Health workers offer their skills and care to ...</td>\n",
       "      <td>2020.0</td>\n",
       "      <td>5.0</td>\n",
       "      <td>The AMA Journal of Ethic</td>\n",
       "      <td>22</td>\n",
       "      <td>5</td>\n",
       "      <td>e441-445</td>\n",
       "      <td>10.1001/amajethics.2020.441</td>\n",
       "      <td>32449663.0</td>\n",
       "      <td>NaN</td>\n",
       "      <td>pub.1127905371</td>\n",
       "      <td>NaN</td>\n",
       "      <td>2020-07-02 10:54:27.347501</td>\n",
       "    </tr>\n",
       "    <tr>\n",
       "      <th>4</th>\n",
       "      <td>4</td>\n",
       "      <td>What Should Health Science Journalists Do in E...</td>\n",
       "      <td>Journalists have long covered outbreaks of inf...</td>\n",
       "      <td>2020.0</td>\n",
       "      <td>1.0</td>\n",
       "      <td>AMA journal of ethics</td>\n",
       "      <td>NaN</td>\n",
       "      <td>NaN</td>\n",
       "      <td>NaN</td>\n",
       "      <td>10.1001/amajethics.2020.55</td>\n",
       "      <td>31958392.0</td>\n",
       "      <td>NaN</td>\n",
       "      <td>NaN</td>\n",
       "      <td>NaN</td>\n",
       "      <td>2020-07-02 10:54:27.347501</td>\n",
       "    </tr>\n",
       "  </tbody>\n",
       "</table>\n",
       "</div>"
      ],
      "text/plain": [
       "   pub_id                                              title  \\\n",
       "0       0  Coronavirus disease 2019 (COVID-19) and simult...   \n",
       "1       1  [Ten hot issues of breast cancer under the nov...   \n",
       "2       2                            Cohesion in Distancing.   \n",
       "3       3                     Salvation in a Time of Plague.   \n",
       "4       4  What Should Health Science Journalists Do in E...   \n",
       "\n",
       "                                            abstract  publication_year  \\\n",
       "0  Coronavirus disease 2019 (COVID-19) is a recen...            2020.0   \n",
       "1                                                NaN            2020.0   \n",
       "2  In isolation, we are physically apart; in soli...            2020.0   \n",
       "3  Health workers offer their skills and care to ...            2020.0   \n",
       "4  Journalists have long covered outbreaks of inf...            2020.0   \n",
       "\n",
       "   publication_month                           journal volume issue     pages  \\\n",
       "0                5.0  CardioVascular Journal of Africa     31   NaN       1-4   \n",
       "1                2.0           Chinese medical journal    100     0      e002   \n",
       "2                4.0          The AMA Journal of Ethic     22     4  e344-345   \n",
       "3                5.0          The AMA Journal of Ethic     22     5  e441-445   \n",
       "4                1.0             AMA journal of ethics    NaN   NaN       NaN   \n",
       "\n",
       "                                      doi        pmid pmcid   dimensions_id  \\\n",
       "0                   10-5830-cvja-2020-016  32490506.0   NaN  pub.1128171889   \n",
       "1  10.0376/cma.j.issn.0376-2491.2020.0002  32036640.0   NaN  pub.1124777091   \n",
       "2             10.1001/amajethics.2020.344  32345430.0   NaN  pub.1127182341   \n",
       "3             10.1001/amajethics.2020.441  32449663.0   NaN  pub.1127905371   \n",
       "4              10.1001/amajethics.2020.55  31958392.0   NaN             NaN   \n",
       "\n",
       "  arxiv_id                   timestamp  \n",
       "0      NaN  2020-07-02 10:54:27.347501  \n",
       "1      NaN  2020-07-02 10:54:27.347501  \n",
       "2      NaN  2020-07-02 10:54:27.347501  \n",
       "3      NaN  2020-07-02 10:54:27.347501  \n",
       "4      NaN  2020-07-02 10:54:27.347501  "
      ]
     },
     "execution_count": 3,
     "metadata": {},
     "output_type": "execute_result"
    }
   ],
   "source": [
    "df_meta.head()"
   ]
  },
  {
   "cell_type": "code",
   "execution_count": 4,
   "metadata": {},
   "outputs": [
    {
     "data": {
      "text/plain": [
       "Index(['pub_id', 'title', 'abstract', 'publication_year', 'publication_month',\n",
       "       'journal', 'volume', 'issue', 'pages', 'doi', 'pmid', 'pmcid',\n",
       "       'dimensions_id', 'arxiv_id', 'timestamp'],\n",
       "      dtype='object')"
      ]
     },
     "execution_count": 4,
     "metadata": {},
     "output_type": "execute_result"
    }
   ],
   "source": [
    "df_meta.columns"
   ]
  },
  {
   "cell_type": "code",
   "execution_count": 5,
   "metadata": {},
   "outputs": [
    {
     "data": {
      "text/html": [
       "<div>\n",
       "<style scoped>\n",
       "    .dataframe tbody tr th:only-of-type {\n",
       "        vertical-align: middle;\n",
       "    }\n",
       "\n",
       "    .dataframe tbody tr th {\n",
       "        vertical-align: top;\n",
       "    }\n",
       "\n",
       "    .dataframe thead th {\n",
       "        text-align: right;\n",
       "    }\n",
       "</style>\n",
       "<table border=\"1\" class=\"dataframe\">\n",
       "  <thead>\n",
       "    <tr style=\"text-align: right;\">\n",
       "      <th></th>\n",
       "      <th>datasource_metadata_id</th>\n",
       "      <th>datasource</th>\n",
       "      <th>url</th>\n",
       "    </tr>\n",
       "  </thead>\n",
       "  <tbody>\n",
       "    <tr>\n",
       "      <th>0</th>\n",
       "      <td>0</td>\n",
       "      <td>CORD19</td>\n",
       "      <td>https://pages.semanticscholar.org/coronavirus-...</td>\n",
       "    </tr>\n",
       "    <tr>\n",
       "      <th>1</th>\n",
       "      <td>1</td>\n",
       "      <td>Dimensions</td>\n",
       "      <td>https://docs.google.com/spreadsheets/d/1-kTZJZ...</td>\n",
       "    </tr>\n",
       "  </tbody>\n",
       "</table>\n",
       "</div>"
      ],
      "text/plain": [
       "   datasource_metadata_id  datasource  \\\n",
       "0                       0      CORD19   \n",
       "1                       1  Dimensions   \n",
       "\n",
       "                                                 url  \n",
       "0  https://pages.semanticscholar.org/coronavirus-...  \n",
       "1  https://docs.google.com/spreadsheets/d/1-kTZJZ...  "
      ]
     },
     "execution_count": 5,
     "metadata": {},
     "output_type": "execute_result"
    }
   ],
   "source": [
    "df_datasource"
   ]
  },
  {
   "cell_type": "code",
   "execution_count": 6,
   "metadata": {},
   "outputs": [
    {
     "data": {
      "text/html": [
       "<div>\n",
       "<style scoped>\n",
       "    .dataframe tbody tr th:only-of-type {\n",
       "        vertical-align: middle;\n",
       "    }\n",
       "\n",
       "    .dataframe tbody tr th {\n",
       "        vertical-align: top;\n",
       "    }\n",
       "\n",
       "    .dataframe thead th {\n",
       "        text-align: right;\n",
       "    }\n",
       "</style>\n",
       "<table border=\"1\" class=\"dataframe\">\n",
       "  <thead>\n",
       "    <tr style=\"text-align: right;\">\n",
       "      <th></th>\n",
       "      <th>pub_id</th>\n",
       "      <th>datasource_metadata_id</th>\n",
       "    </tr>\n",
       "  </thead>\n",
       "  <tbody>\n",
       "    <tr>\n",
       "      <th>0</th>\n",
       "      <td>1</td>\n",
       "      <td>0</td>\n",
       "    </tr>\n",
       "    <tr>\n",
       "      <th>1</th>\n",
       "      <td>2</td>\n",
       "      <td>0</td>\n",
       "    </tr>\n",
       "    <tr>\n",
       "      <th>2</th>\n",
       "      <td>3</td>\n",
       "      <td>0</td>\n",
       "    </tr>\n",
       "    <tr>\n",
       "      <th>3</th>\n",
       "      <td>4</td>\n",
       "      <td>0</td>\n",
       "    </tr>\n",
       "    <tr>\n",
       "      <th>4</th>\n",
       "      <td>5</td>\n",
       "      <td>0</td>\n",
       "    </tr>\n",
       "  </tbody>\n",
       "</table>\n",
       "</div>"
      ],
      "text/plain": [
       "   pub_id  datasource_metadata_id\n",
       "0       1                       0\n",
       "1       2                       0\n",
       "2       3                       0\n",
       "3       4                       0\n",
       "4       5                       0"
      ]
     },
     "execution_count": 6,
     "metadata": {},
     "output_type": "execute_result"
    }
   ],
   "source": [
    "df_pub_datasource.head()"
   ]
  },
  {
   "cell_type": "code",
   "execution_count": 7,
   "metadata": {},
   "outputs": [
    {
     "data": {
      "text/html": [
       "<div>\n",
       "<style scoped>\n",
       "    .dataframe tbody tr th:only-of-type {\n",
       "        vertical-align: middle;\n",
       "    }\n",
       "\n",
       "    .dataframe tbody tr th {\n",
       "        vertical-align: top;\n",
       "    }\n",
       "\n",
       "    .dataframe thead th {\n",
       "        text-align: right;\n",
       "    }\n",
       "</style>\n",
       "<table border=\"1\" class=\"dataframe\">\n",
       "  <thead>\n",
       "    <tr style=\"text-align: right;\">\n",
       "      <th></th>\n",
       "      <th>cord19_metadata_id</th>\n",
       "      <th>source</th>\n",
       "      <th>license</th>\n",
       "      <th>ms_academic_id</th>\n",
       "      <th>who_covidence</th>\n",
       "      <th>sha</th>\n",
       "      <th>full_text</th>\n",
       "      <th>pub_id</th>\n",
       "    </tr>\n",
       "  </thead>\n",
       "  <tbody>\n",
       "    <tr>\n",
       "      <th>0</th>\n",
       "      <td>0</td>\n",
       "      <td>Medline; WHO</td>\n",
       "      <td>unk</td>\n",
       "      <td>NaN</td>\n",
       "      <td>#615</td>\n",
       "      <td>NaN</td>\n",
       "      <td>NaN</td>\n",
       "      <td>1</td>\n",
       "    </tr>\n",
       "    <tr>\n",
       "      <th>1</th>\n",
       "      <td>1</td>\n",
       "      <td>Medline</td>\n",
       "      <td>unk</td>\n",
       "      <td>NaN</td>\n",
       "      <td>NaN</td>\n",
       "      <td>NaN</td>\n",
       "      <td>NaN</td>\n",
       "      <td>2</td>\n",
       "    </tr>\n",
       "    <tr>\n",
       "      <th>2</th>\n",
       "      <td>2</td>\n",
       "      <td>Medline</td>\n",
       "      <td>unk</td>\n",
       "      <td>NaN</td>\n",
       "      <td>NaN</td>\n",
       "      <td>NaN</td>\n",
       "      <td>NaN</td>\n",
       "      <td>3</td>\n",
       "    </tr>\n",
       "    <tr>\n",
       "      <th>3</th>\n",
       "      <td>3</td>\n",
       "      <td>Medline</td>\n",
       "      <td>unk</td>\n",
       "      <td>NaN</td>\n",
       "      <td>NaN</td>\n",
       "      <td>NaN</td>\n",
       "      <td>NaN</td>\n",
       "      <td>4</td>\n",
       "    </tr>\n",
       "    <tr>\n",
       "      <th>4</th>\n",
       "      <td>4</td>\n",
       "      <td>Medline</td>\n",
       "      <td>unk</td>\n",
       "      <td>NaN</td>\n",
       "      <td>NaN</td>\n",
       "      <td>NaN</td>\n",
       "      <td>NaN</td>\n",
       "      <td>5</td>\n",
       "    </tr>\n",
       "  </tbody>\n",
       "</table>\n",
       "</div>"
      ],
      "text/plain": [
       "   cord19_metadata_id        source license  ms_academic_id who_covidence  \\\n",
       "0                   0  Medline; WHO     unk             NaN          #615   \n",
       "1                   1       Medline     unk             NaN           NaN   \n",
       "2                   2       Medline     unk             NaN           NaN   \n",
       "3                   3       Medline     unk             NaN           NaN   \n",
       "4                   4       Medline     unk             NaN           NaN   \n",
       "\n",
       "   sha full_text  pub_id  \n",
       "0  NaN       NaN       1  \n",
       "1  NaN       NaN       2  \n",
       "2  NaN       NaN       3  \n",
       "3  NaN       NaN       4  \n",
       "4  NaN       NaN       5  "
      ]
     },
     "execution_count": 7,
     "metadata": {},
     "output_type": "execute_result"
    }
   ],
   "source": [
    "df_cord_meta.head()"
   ]
  },
  {
   "cell_type": "markdown",
   "metadata": {},
   "source": [
    "#### Select just CORD-19"
   ]
  },
  {
   "cell_type": "code",
   "execution_count": 8,
   "metadata": {},
   "outputs": [],
   "source": [
    "df_meta = df_meta.merge(df_pub_datasource, how=\"inner\", left_on=\"pub_id\", right_on=\"pub_id\")\n",
    "df_meta = df_meta.merge(df_datasource, how=\"inner\", left_on=\"datasource_metadata_id\", right_on=\"datasource_metadata_id\")\n",
    "df_cord19 = df_meta[df_meta.datasource_metadata_id==0]\n",
    "df_cord19 = df_cord19.merge(df_cord_meta, how=\"inner\", left_on=\"pub_id\", right_on=\"pub_id\")"
   ]
  },
  {
   "cell_type": "code",
   "execution_count": 9,
   "metadata": {},
   "outputs": [
    {
     "data": {
      "text/plain": [
       "(201599, 18)"
      ]
     },
     "execution_count": 9,
     "metadata": {},
     "output_type": "execute_result"
    }
   ],
   "source": [
    "df_meta.shape"
   ]
  },
  {
   "cell_type": "code",
   "execution_count": 10,
   "metadata": {},
   "outputs": [
    {
     "data": {
      "text/plain": [
       "(140351, 25)"
      ]
     },
     "execution_count": 10,
     "metadata": {},
     "output_type": "execute_result"
    }
   ],
   "source": [
    "df_cord19.shape"
   ]
  },
  {
   "cell_type": "code",
   "execution_count": 11,
   "metadata": {},
   "outputs": [
    {
     "data": {
      "text/html": [
       "<div>\n",
       "<style scoped>\n",
       "    .dataframe tbody tr th:only-of-type {\n",
       "        vertical-align: middle;\n",
       "    }\n",
       "\n",
       "    .dataframe tbody tr th {\n",
       "        vertical-align: top;\n",
       "    }\n",
       "\n",
       "    .dataframe thead th {\n",
       "        text-align: right;\n",
       "    }\n",
       "</style>\n",
       "<table border=\"1\" class=\"dataframe\">\n",
       "  <thead>\n",
       "    <tr style=\"text-align: right;\">\n",
       "      <th></th>\n",
       "      <th>pub_id</th>\n",
       "      <th>title</th>\n",
       "      <th>abstract</th>\n",
       "      <th>publication_year</th>\n",
       "      <th>publication_month</th>\n",
       "      <th>journal</th>\n",
       "      <th>volume</th>\n",
       "      <th>issue</th>\n",
       "      <th>pages</th>\n",
       "      <th>doi</th>\n",
       "      <th>...</th>\n",
       "      <th>datasource_metadata_id</th>\n",
       "      <th>datasource</th>\n",
       "      <th>url</th>\n",
       "      <th>cord19_metadata_id</th>\n",
       "      <th>source</th>\n",
       "      <th>license</th>\n",
       "      <th>ms_academic_id</th>\n",
       "      <th>who_covidence</th>\n",
       "      <th>sha</th>\n",
       "      <th>full_text</th>\n",
       "    </tr>\n",
       "  </thead>\n",
       "  <tbody>\n",
       "    <tr>\n",
       "      <th>0</th>\n",
       "      <td>0</td>\n",
       "      <td>Coronavirus disease 2019 (COVID-19) and simult...</td>\n",
       "      <td>Coronavirus disease 2019 (COVID-19) is a recen...</td>\n",
       "      <td>2020.0</td>\n",
       "      <td>5.0</td>\n",
       "      <td>CardioVascular Journal of Africa</td>\n",
       "      <td>31</td>\n",
       "      <td>NaN</td>\n",
       "      <td>1-4</td>\n",
       "      <td>10-5830-cvja-2020-016</td>\n",
       "      <td>...</td>\n",
       "      <td>0</td>\n",
       "      <td>CORD19</td>\n",
       "      <td>https://pages.semanticscholar.org/coronavirus-...</td>\n",
       "      <td>136796</td>\n",
       "      <td>Medline</td>\n",
       "      <td>unk</td>\n",
       "      <td>NaN</td>\n",
       "      <td>NaN</td>\n",
       "      <td>NaN</td>\n",
       "      <td>NaN</td>\n",
       "    </tr>\n",
       "    <tr>\n",
       "      <th>1</th>\n",
       "      <td>1</td>\n",
       "      <td>[Ten hot issues of breast cancer under the nov...</td>\n",
       "      <td>NaN</td>\n",
       "      <td>2020.0</td>\n",
       "      <td>2.0</td>\n",
       "      <td>Chinese medical journal</td>\n",
       "      <td>100</td>\n",
       "      <td>0</td>\n",
       "      <td>e002</td>\n",
       "      <td>10.0376/cma.j.issn.0376-2491.2020.0002</td>\n",
       "      <td>...</td>\n",
       "      <td>0</td>\n",
       "      <td>CORD19</td>\n",
       "      <td>https://pages.semanticscholar.org/coronavirus-...</td>\n",
       "      <td>0</td>\n",
       "      <td>Medline; WHO</td>\n",
       "      <td>unk</td>\n",
       "      <td>NaN</td>\n",
       "      <td>#615</td>\n",
       "      <td>NaN</td>\n",
       "      <td>NaN</td>\n",
       "    </tr>\n",
       "    <tr>\n",
       "      <th>2</th>\n",
       "      <td>2</td>\n",
       "      <td>Cohesion in Distancing.</td>\n",
       "      <td>In isolation, we are physically apart; in soli...</td>\n",
       "      <td>2020.0</td>\n",
       "      <td>4.0</td>\n",
       "      <td>The AMA Journal of Ethic</td>\n",
       "      <td>22</td>\n",
       "      <td>4</td>\n",
       "      <td>e344-345</td>\n",
       "      <td>10.1001/amajethics.2020.344</td>\n",
       "      <td>...</td>\n",
       "      <td>0</td>\n",
       "      <td>CORD19</td>\n",
       "      <td>https://pages.semanticscholar.org/coronavirus-...</td>\n",
       "      <td>1</td>\n",
       "      <td>Medline</td>\n",
       "      <td>unk</td>\n",
       "      <td>NaN</td>\n",
       "      <td>NaN</td>\n",
       "      <td>NaN</td>\n",
       "      <td>NaN</td>\n",
       "    </tr>\n",
       "    <tr>\n",
       "      <th>3</th>\n",
       "      <td>3</td>\n",
       "      <td>Salvation in a Time of Plague.</td>\n",
       "      <td>Health workers offer their skills and care to ...</td>\n",
       "      <td>2020.0</td>\n",
       "      <td>5.0</td>\n",
       "      <td>The AMA Journal of Ethic</td>\n",
       "      <td>22</td>\n",
       "      <td>5</td>\n",
       "      <td>e441-445</td>\n",
       "      <td>10.1001/amajethics.2020.441</td>\n",
       "      <td>...</td>\n",
       "      <td>0</td>\n",
       "      <td>CORD19</td>\n",
       "      <td>https://pages.semanticscholar.org/coronavirus-...</td>\n",
       "      <td>2</td>\n",
       "      <td>Medline</td>\n",
       "      <td>unk</td>\n",
       "      <td>NaN</td>\n",
       "      <td>NaN</td>\n",
       "      <td>NaN</td>\n",
       "      <td>NaN</td>\n",
       "    </tr>\n",
       "    <tr>\n",
       "      <th>4</th>\n",
       "      <td>4</td>\n",
       "      <td>What Should Health Science Journalists Do in E...</td>\n",
       "      <td>Journalists have long covered outbreaks of inf...</td>\n",
       "      <td>2020.0</td>\n",
       "      <td>1.0</td>\n",
       "      <td>AMA journal of ethics</td>\n",
       "      <td>NaN</td>\n",
       "      <td>NaN</td>\n",
       "      <td>NaN</td>\n",
       "      <td>10.1001/amajethics.2020.55</td>\n",
       "      <td>...</td>\n",
       "      <td>0</td>\n",
       "      <td>CORD19</td>\n",
       "      <td>https://pages.semanticscholar.org/coronavirus-...</td>\n",
       "      <td>3</td>\n",
       "      <td>Medline</td>\n",
       "      <td>unk</td>\n",
       "      <td>NaN</td>\n",
       "      <td>NaN</td>\n",
       "      <td>NaN</td>\n",
       "      <td>NaN</td>\n",
       "    </tr>\n",
       "  </tbody>\n",
       "</table>\n",
       "<p>5 rows × 25 columns</p>\n",
       "</div>"
      ],
      "text/plain": [
       "   pub_id                                              title  \\\n",
       "0       0  Coronavirus disease 2019 (COVID-19) and simult...   \n",
       "1       1  [Ten hot issues of breast cancer under the nov...   \n",
       "2       2                            Cohesion in Distancing.   \n",
       "3       3                     Salvation in a Time of Plague.   \n",
       "4       4  What Should Health Science Journalists Do in E...   \n",
       "\n",
       "                                            abstract  publication_year  \\\n",
       "0  Coronavirus disease 2019 (COVID-19) is a recen...            2020.0   \n",
       "1                                                NaN            2020.0   \n",
       "2  In isolation, we are physically apart; in soli...            2020.0   \n",
       "3  Health workers offer their skills and care to ...            2020.0   \n",
       "4  Journalists have long covered outbreaks of inf...            2020.0   \n",
       "\n",
       "   publication_month                           journal volume issue     pages  \\\n",
       "0                5.0  CardioVascular Journal of Africa     31   NaN       1-4   \n",
       "1                2.0           Chinese medical journal    100     0      e002   \n",
       "2                4.0          The AMA Journal of Ethic     22     4  e344-345   \n",
       "3                5.0          The AMA Journal of Ethic     22     5  e441-445   \n",
       "4                1.0             AMA journal of ethics    NaN   NaN       NaN   \n",
       "\n",
       "                                      doi  ...  datasource_metadata_id  \\\n",
       "0                   10-5830-cvja-2020-016  ...                       0   \n",
       "1  10.0376/cma.j.issn.0376-2491.2020.0002  ...                       0   \n",
       "2             10.1001/amajethics.2020.344  ...                       0   \n",
       "3             10.1001/amajethics.2020.441  ...                       0   \n",
       "4              10.1001/amajethics.2020.55  ...                       0   \n",
       "\n",
       "  datasource                                                url  \\\n",
       "0     CORD19  https://pages.semanticscholar.org/coronavirus-...   \n",
       "1     CORD19  https://pages.semanticscholar.org/coronavirus-...   \n",
       "2     CORD19  https://pages.semanticscholar.org/coronavirus-...   \n",
       "3     CORD19  https://pages.semanticscholar.org/coronavirus-...   \n",
       "4     CORD19  https://pages.semanticscholar.org/coronavirus-...   \n",
       "\n",
       "  cord19_metadata_id        source  license ms_academic_id who_covidence  sha  \\\n",
       "0             136796       Medline      unk            NaN           NaN  NaN   \n",
       "1                  0  Medline; WHO      unk            NaN          #615  NaN   \n",
       "2                  1       Medline      unk            NaN           NaN  NaN   \n",
       "3                  2       Medline      unk            NaN           NaN  NaN   \n",
       "4                  3       Medline      unk            NaN           NaN  NaN   \n",
       "\n",
       "  full_text  \n",
       "0       NaN  \n",
       "1       NaN  \n",
       "2       NaN  \n",
       "3       NaN  \n",
       "4       NaN  \n",
       "\n",
       "[5 rows x 25 columns]"
      ]
     },
     "execution_count": 11,
     "metadata": {},
     "output_type": "execute_result"
    }
   ],
   "source": [
    "df_cord19.head()"
   ]
  },
  {
   "cell_type": "markdown",
   "metadata": {},
   "source": [
    "#### Publication years"
   ]
  },
  {
   "cell_type": "code",
   "execution_count": 12,
   "metadata": {},
   "outputs": [],
   "source": [
    "import re\n",
    "\n",
    "def clean_year(s):\n",
    "    if pd.isna(s):\n",
    "        return np.nan\n",
    "    if not (s>1900):\n",
    "        return np.nan\n",
    "    elif s>2020:\n",
    "        return 2020\n",
    "    return s\n",
    "\n",
    "df_cord19[\"publication_year\"] = df_cord19[\"publication_year\"].apply(clean_year)"
   ]
  },
  {
   "cell_type": "code",
   "execution_count": 13,
   "metadata": {},
   "outputs": [
    {
     "data": {
      "text/plain": [
       "count    140339.000000\n",
       "mean       2014.483565\n",
       "std           7.287965\n",
       "min        1901.000000\n",
       "25%        2011.000000\n",
       "50%        2017.000000\n",
       "75%        2020.000000\n",
       "max        2020.000000\n",
       "Name: publication_year, dtype: float64"
      ]
     },
     "execution_count": 13,
     "metadata": {},
     "output_type": "execute_result"
    }
   ],
   "source": [
    "df_cord19.publication_year.describe()"
   ]
  },
  {
   "cell_type": "code",
   "execution_count": 16,
   "metadata": {},
   "outputs": [
    {
     "data": {
      "image/png": "[encoded data removed]",
      "text/plain": [
       "<Figure size 432x288 with 1 Axes>"
      ]
     },
     "metadata": {},
     "output_type": "display_data"
    }
   ],
   "source": [
    "sns.distplot(df_cord19.publication_year.tolist(), bins=60, kde=False)\n",
    "plt.xlabel(\"Publication year\", fontsize=15)\n",
    "plt.ylabel(\"Publication count\", fontsize=15)\n",
    "plt.tight_layout()\n",
    "plt.savefig(\"figures/publication_year_all.pdf\")"
   ]
  },
  {
   "cell_type": "code",
   "execution_count": 18,
   "metadata": {},
   "outputs": [
    {
     "data": {
      "image/png": "[encoded data removed]",
      "text/plain": [
       "<Figure size 432x288 with 1 Axes>"
      ]
     },
     "metadata": {},
     "output_type": "display_data"
    }
   ],
   "source": [
    "sns.distplot(df_cord19[(pd.notnull(df_cord19.publication_year)) & (df_cord19.publication_year > 2000)].publication_year.tolist(), bins=20, hist=True, kde=False)\n",
    "plt.xlabel(\"Publication year\", fontsize=15)\n",
    "plt.ylabel(\"Publication count\", fontsize=15)\n",
    "plt.tight_layout()\n",
    "plt.savefig(\"figures/publication_year_2000.pdf\")"
   ]
  },
  {
   "cell_type": "code",
   "execution_count": 20,
   "metadata": {},
   "outputs": [
    {
     "data": {
      "image/png": "[encoded data removed]",
      "text/plain": [
       "<Figure size 432x288 with 1 Axes>"
      ]
     },
     "metadata": {},
     "output_type": "display_data"
    }
   ],
   "source": [
    "which = \"PMC\"\n",
    "\n",
    "sns.distplot(df_cord19[(pd.notnull(df_cord19.publication_year)) & (df_cord19.publication_year > 2000) & (df_cord19.source == which)].publication_year.tolist(), bins=20, hist=True, kde=False)\n",
    "plt.xlabel(\"Publication year\", fontsize=15)\n",
    "plt.ylabel(\"Publication count\", fontsize=15)\n",
    "plt.tight_layout()"
   ]
  },
  {
   "cell_type": "code",
   "execution_count": 19,
   "metadata": {},
   "outputs": [
    {
     "data": {
      "text/plain": [
       "publication_year  publication_month\n",
       "2019.0            1.0                    306\n",
       "                  2.0                    334\n",
       "                  3.0                    355\n",
       "                  4.0                    358\n",
       "                  5.0                    347\n",
       "                  6.0                    351\n",
       "                  7.0                    359\n",
       "                  8.0                    339\n",
       "                  9.0                    308\n",
       "                  10.0                   369\n",
       "                  11.0                   495\n",
       "                  12.0                   591\n",
       "2020.0            1.0                   2346\n",
       "                  2.0                   1397\n",
       "                  3.0                   3573\n",
       "                  4.0                   8549\n",
       "                  5.0                  15606\n",
       "                  6.0                  15795\n",
       "                  7.0                   2180\n",
       "                  8.0                    579\n",
       "                  9.0                    415\n",
       "                  10.0                   208\n",
       "                  11.0                   140\n",
       "                  12.0                   951\n",
       "Name: pub_id, dtype: int64"
      ]
     },
     "execution_count": 19,
     "metadata": {},
     "output_type": "execute_result"
    }
   ],
   "source": [
    "# recent uptake\n",
    "df_cord19[df_cord19.publication_year>2018].groupby([(df_cord19.publication_year),(df_cord19.publication_month)]).count().pub_id"
   ]
  },
  {
   "cell_type": "markdown",
   "metadata": {},
   "source": [
    "#### Null values"
   ]
  },
  {
   "cell_type": "code",
   "execution_count": 20,
   "metadata": {},
   "outputs": [
    {
     "data": {
      "text/plain": [
       "(140351, 25)"
      ]
     },
     "execution_count": 20,
     "metadata": {},
     "output_type": "execute_result"
    }
   ],
   "source": [
    "df_cord19.shape"
   ]
  },
  {
   "cell_type": "code",
   "execution_count": 21,
   "metadata": {},
   "outputs": [],
   "source": [
    "df_cord19[\"abstract_length\"] = df_cord19.abstract.str.len()"
   ]
  },
  {
   "cell_type": "code",
   "execution_count": 22,
   "metadata": {},
   "outputs": [
    {
     "data": {
      "text/plain": [
       "(109296, 26)"
      ]
     },
     "execution_count": 22,
     "metadata": {},
     "output_type": "execute_result"
    }
   ],
   "source": [
    "df_cord19[df_cord19.abstract_length>0].shape"
   ]
  },
  {
   "cell_type": "code",
   "execution_count": 23,
   "metadata": {},
   "outputs": [
    {
     "data": {
      "text/plain": [
       "109296"
      ]
     },
     "execution_count": 23,
     "metadata": {},
     "output_type": "execute_result"
    }
   ],
   "source": [
    "sum(pd.notnull(df_cord19.abstract))"
   ]
  },
  {
   "cell_type": "code",
   "execution_count": 24,
   "metadata": {},
   "outputs": [
    {
     "data": {
      "text/plain": [
       "127118"
      ]
     },
     "execution_count": 24,
     "metadata": {},
     "output_type": "execute_result"
    }
   ],
   "source": [
    "sum(pd.notnull(df_cord19.doi))"
   ]
  },
  {
   "cell_type": "code",
   "execution_count": 25,
   "metadata": {},
   "outputs": [
    {
     "data": {
      "text/plain": [
       "78941"
      ]
     },
     "execution_count": 25,
     "metadata": {},
     "output_type": "execute_result"
    }
   ],
   "source": [
    "sum(pd.notnull(df_cord19.pmcid))"
   ]
  },
  {
   "cell_type": "code",
   "execution_count": 26,
   "metadata": {},
   "outputs": [
    {
     "data": {
      "text/plain": [
       "110769"
      ]
     },
     "execution_count": 26,
     "metadata": {},
     "output_type": "execute_result"
    }
   ],
   "source": [
    "sum(pd.notnull(df_cord19.pmid))"
   ]
  },
  {
   "cell_type": "code",
   "execution_count": 27,
   "metadata": {},
   "outputs": [
    {
     "data": {
      "text/plain": [
       "137864"
      ]
     },
     "execution_count": 27,
     "metadata": {},
     "output_type": "execute_result"
    }
   ],
   "source": [
    "sum(pd.notnull(df_cord19.journal))"
   ]
  },
  {
   "cell_type": "markdown",
   "metadata": {},
   "source": [
    "#### Journals"
   ]
  },
  {
   "cell_type": "code",
   "execution_count": 28,
   "metadata": {},
   "outputs": [
    {
     "data": {
      "text/plain": [
       "medRxiv                                                                            4319\n",
       "PLoS One                                                                           1669\n",
       "bioRxiv                                                                            1668\n",
       "Journal of virology                                                                1607\n",
       "arXiv                                                                              1272\n",
       "Virology                                                                            934\n",
       "Surgical endoscopy                                                                  918\n",
       "Emerg Infect Dis                                                                    772\n",
       "Viruses                                                                             686\n",
       "Nature                                                                              681\n",
       "The BMJ                                                                             663\n",
       "Sci Rep                                                                             660\n",
       "Arch Virol                                                                          648\n",
       "The Journal of general virology                                                     589\n",
       "Vaccine                                                                             566\n",
       "The Lancet                                                                          516\n",
       "Lancet                                                                              445\n",
       "Science                                                                             434\n",
       "Journal of neurointerventional surgery                                              418\n",
       "Journal of Medical Virology                                                         416\n",
       "JAMA                                                                                410\n",
       "Virol J                                                                             403\n",
       "PLoS Pathog                                                                         392\n",
       "BMC Infect Dis                                                                      391\n",
       "Journal of Virological Methods                                                      384\n",
       "Advances in experimental medicine and biology                                       366\n",
       "Proceedings of the National Academy of Sciences of the United States of America     364\n",
       "Virus Research                                                                      363\n",
       "J Clin Virol                                                                        358\n",
       "Computational Science - ICCS 2020                                                   347\n",
       "Name: journal, dtype: int64"
      ]
     },
     "execution_count": 28,
     "metadata": {},
     "output_type": "execute_result"
    }
   ],
   "source": [
    "df_cord19.journal.value_counts()[:30]"
   ]
  },
  {
   "cell_type": "code",
   "execution_count": 31,
   "metadata": {},
   "outputs": [
    {
     "data": {
      "image/png": "[encoded data removed]",
      "text/plain": [
       "<Figure size 432x288 with 1 Axes>"
      ]
     },
     "metadata": {},
     "output_type": "display_data"
    }
   ],
   "source": [
    "df_sub = df_cord19[df_cord19.journal.isin(df_cord19.journal.value_counts()[:20].index.tolist())]\n",
    "b = sns.countplot(y=\"journal\", data=df_sub, order=df_sub['journal'].value_counts().index)\n",
    "#b.axes.set_title(\"Title\",fontsize=50)\n",
    "b.set_xlabel(\"Publication count\",fontsize=15)\n",
    "b.set_ylabel(\"Journal\",fontsize=15)\n",
    "b.tick_params(labelsize=12)\n",
    "plt.tight_layout()\n",
    "plt.savefig(\"figures/journals.pdf\")"
   ]
  },
  {
   "cell_type": "markdown",
   "metadata": {},
   "source": [
    "#### Sources and licenses"
   ]
  },
  {
   "cell_type": "code",
   "execution_count": 32,
   "metadata": {},
   "outputs": [
    {
     "data": {
      "image/png": "[encoded data removed]",
      "text/plain": [
       "<Figure size 432x288 with 1 Axes>"
      ]
     },
     "metadata": {},
     "output_type": "display_data"
    }
   ],
   "source": [
    "# source\n",
    "df_sub = df_cord19[df_cord19.source.isin(df_cord19.source.value_counts()[:10].index.tolist())]\n",
    "b = sns.countplot(y=\"source\", data=df_sub, order=df_sub['source'].value_counts().index)\n",
    "#b.axes.set_title(\"Title\",fontsize=50)\n",
    "b.set_xlabel(\"Publication count\",fontsize=15)\n",
    "b.set_ylabel(\"Source\",fontsize=15)\n",
    "b.tick_params(labelsize=12)\n",
    "plt.tight_layout()\n",
    "plt.savefig(\"figures/sources.pdf\")"
   ]
  },
  {
   "cell_type": "code",
   "execution_count": 33,
   "metadata": {},
   "outputs": [
    {
     "data": {
      "image/png": "[encoded data removed]",
      "text/plain": [
       "<Figure size 432x288 with 1 Axes>"
      ]
     },
     "metadata": {},
     "output_type": "display_data"
    }
   ],
   "source": [
    "# license\n",
    "df_sub = df_cord19[df_cord19.license.isin(df_cord19.license.value_counts()[:30].index.tolist())]\n",
    "b = sns.countplot(y=\"license\", data=df_sub, order=df_sub['license'].value_counts().index)\n",
    "#b.axes.set_title(\"Title\",fontsize=50)\n",
    "b.set_xlabel(\"Publication count\",fontsize=15)\n",
    "b.set_ylabel(\"License\",fontsize=15)\n",
    "b.tick_params(labelsize=12)\n",
    "plt.tight_layout()\n",
    "plt.savefig(\"figures/licenses.pdf\")"
   ]
  },
  {
   "cell_type": "markdown",
   "metadata": {},
   "source": [
    "#### Full text availability"
   ]
  },
  {
   "cell_type": "code",
   "execution_count": 34,
   "metadata": {},
   "outputs": [],
   "source": [
    "df_cord19[\"has_full_text\"] = pd.notnull(df_cord19.full_text)"
   ]
  },
  {
   "cell_type": "code",
   "execution_count": 60,
   "metadata": {},
   "outputs": [
    {
     "data": {
      "text/plain": [
       "69841"
      ]
     },
     "execution_count": 60,
     "metadata": {},
     "output_type": "execute_result"
    }
   ],
   "source": [
    "df_cord19[\"has_full_text\"].sum()"
   ]
  },
  {
   "cell_type": "code",
   "execution_count": 35,
   "metadata": {},
   "outputs": [
    {
     "data": {
      "image/png": "[encoded data removed]",
      "text/plain": [
       "<Figure size 432x288 with 1 Axes>"
      ]
     },
     "metadata": {},
     "output_type": "display_data"
    }
   ],
   "source": [
    "# full text x source\n",
    "df_plot = df_cord19.groupby(['has_full_text', 'source']).size().reset_index().pivot(columns='has_full_text', index='source', values=0)\n",
    "df_plot.plot(kind='bar', stacked=True)\n",
    "plt.xlabel(\"Source\", fontsize=15)\n",
    "plt.ylabel(\"Publication count\", fontsize=15)\n",
    "#plt.tight_layout()\n",
    "plt.savefig(\"figures/source_ft.pdf\")"
   ]
  },
  {
   "cell_type": "code",
   "execution_count": 36,
   "metadata": {},
   "outputs": [
    {
     "data": {
      "image/png": "[encoded data removed]",
      "text/plain": [
       "<Figure size 432x288 with 1 Axes>"
      ]
     },
     "metadata": {},
     "output_type": "display_data"
    }
   ],
   "source": [
    "# full text x journal\n",
    "df_sub = df_cord19[df_cord19.journal.isin(df_cord19.journal.value_counts()[:20].index.tolist())]\n",
    "df_plot = df_sub.groupby(['has_full_text', 'journal']).size().reset_index().pivot(columns='has_full_text', index='journal', values=0)\n",
    "df_plot.plot(kind='bar', stacked=True)\n",
    "plt.xlabel(\"Source\", fontsize=15)\n",
    "plt.ylabel(\"Publication count\", fontsize=15)\n",
    "#plt.tight_layout()\n",
    "plt.savefig(\"figures/journal_ft.pdf\")"
   ]
  },
  {
   "cell_type": "code",
   "execution_count": 37,
   "metadata": {},
   "outputs": [
    {
     "data": {
      "image/png": "[encoded data removed]",
      "text/plain": [
       "<Figure size 432x288 with 1 Axes>"
      ]
     },
     "metadata": {},
     "output_type": "display_data"
    }
   ],
   "source": [
    "# full text x year\n",
    "df_sub = df_cord19[(pd.notnull(df_cord19.publication_year)) & (df_cord19.publication_year > 2000)]\n",
    "df_plot = df_sub.groupby(['has_full_text', 'publication_year']).size().reset_index().pivot(columns='has_full_text', index='publication_year', values=0)\n",
    "df_plot.plot(kind='bar', stacked=True)\n",
    "plt.xticks(np.arange(20), [int(x) for x in df_plot.index.values], rotation=45)\n",
    "plt.xlabel(\"Publication year\", fontsize=15)\n",
    "plt.ylabel(\"Publication count\", fontsize=15)\n",
    "plt.tight_layout()\n",
    "plt.savefig(\"figures/year_ft.pdf\")"
   ]
  },
  {
   "cell_type": "markdown",
   "metadata": {},
   "source": [
    "## Dimensions"
   ]
  },
  {
   "cell_type": "code",
   "execution_count": 22,
   "metadata": {},
   "outputs": [],
   "source": [
    "# load Dimensions data (you will need to download it on your own!)\n",
    "\n",
    "directory_name = \"datasets_output/json_dimensions_cwts\"\n",
    "\n",
    "all_dimensions = list()\n",
    "for root, dirs, files in os.walk(directory_name):\n",
    "    for file in files:\n",
    "        if \".json\" in file:\n",
    "            all_data = codecs.open(os.path.join(root,file)).read()\n",
    "            for record in all_data.split(\"\\n\"):\n",
    "                if record:\n",
    "                    all_dimensions.append(json.loads(record))"
   ]
  },
  {
   "cell_type": "code",
   "execution_count": 23,
   "metadata": {},
   "outputs": [],
   "source": [
    "df_dimensions = pd.DataFrame.from_dict({\n",
    "    \"id\":[r[\"id\"] for r in all_dimensions],\n",
    "    \"publication_type\":[r[\"publication_type\"] for r in all_dimensions],\n",
    "    \"doi\":[r[\"doi\"] for r in all_dimensions],\n",
    "    \"pmid\":[r[\"pmid\"] for r in all_dimensions],\n",
    "    \"issn\":[r[\"journal\"][\"issn\"] for r in all_dimensions],\n",
    "    \"times_cited\":[r[\"times_cited\"] for r in all_dimensions],\n",
    "    \"relative_citation_ratio\":[r[\"relative_citation_ratio\"] for r in all_dimensions],\n",
    "    \"for_top\":[r[\"for\"][0][\"first_level\"][\"name\"] if len(r[\"for\"])>0 else \"\" for r in all_dimensions],\n",
    "    \"for_bottom\":[r[\"for\"][0][\"second_level\"][\"name\"] if len(r[\"for\"])>0 else \"\" for r in all_dimensions],\n",
    "    \"open_access_versions\":[r[\"open_access_versions\"] for r in all_dimensions]\n",
    "})"
   ]
  },
  {
   "cell_type": "code",
   "execution_count": 24,
   "metadata": {},
   "outputs": [
    {
     "data": {
      "text/html": [
       "<div>\n",
       "<style scoped>\n",
       "    .dataframe tbody tr th:only-of-type {\n",
       "        vertical-align: middle;\n",
       "    }\n",
       "\n",
       "    .dataframe tbody tr th {\n",
       "        vertical-align: top;\n",
       "    }\n",
       "\n",
       "    .dataframe thead th {\n",
       "        text-align: right;\n",
       "    }\n",
       "</style>\n",
       "<table border=\"1\" class=\"dataframe\">\n",
       "  <thead>\n",
       "    <tr style=\"text-align: right;\">\n",
       "      <th></th>\n",
       "      <th>id</th>\n",
       "      <th>publication_type</th>\n",
       "      <th>doi</th>\n",
       "      <th>pmid</th>\n",
       "      <th>issn</th>\n",
       "      <th>times_cited</th>\n",
       "      <th>relative_citation_ratio</th>\n",
       "      <th>for_top</th>\n",
       "      <th>for_bottom</th>\n",
       "      <th>open_access_versions</th>\n",
       "    </tr>\n",
       "  </thead>\n",
       "  <tbody>\n",
       "    <tr>\n",
       "      <th>0</th>\n",
       "      <td>pub.1127982992</td>\n",
       "      <td>article</td>\n",
       "      <td>10.1053/j.gastro.2020.05.066</td>\n",
       "      <td>32479824</td>\n",
       "      <td>0016-5085</td>\n",
       "      <td>0</td>\n",
       "      <td>NaN</td>\n",
       "      <td></td>\n",
       "      <td></td>\n",
       "      <td>[]</td>\n",
       "    </tr>\n",
       "    <tr>\n",
       "      <th>1</th>\n",
       "      <td>pub.1127467922</td>\n",
       "      <td>article</td>\n",
       "      <td>10.1053/j.jvca.2020.04.061</td>\n",
       "      <td>32507459</td>\n",
       "      <td>1053-0770</td>\n",
       "      <td>0</td>\n",
       "      <td>NaN</td>\n",
       "      <td></td>\n",
       "      <td></td>\n",
       "      <td>[]</td>\n",
       "    </tr>\n",
       "    <tr>\n",
       "      <th>2</th>\n",
       "      <td>pub.1127651503</td>\n",
       "      <td>article</td>\n",
       "      <td>10.1053/j.gastro.2020.05.037</td>\n",
       "      <td>32425228</td>\n",
       "      <td>0016-5085</td>\n",
       "      <td>0</td>\n",
       "      <td>NaN</td>\n",
       "      <td></td>\n",
       "      <td></td>\n",
       "      <td>[]</td>\n",
       "    </tr>\n",
       "    <tr>\n",
       "      <th>3</th>\n",
       "      <td>pub.1127316115</td>\n",
       "      <td>article</td>\n",
       "      <td>10.1053/j.gastro.2020.04.061</td>\n",
       "      <td>32371115</td>\n",
       "      <td>0016-5085</td>\n",
       "      <td>0</td>\n",
       "      <td>NaN</td>\n",
       "      <td></td>\n",
       "      <td></td>\n",
       "      <td>[]</td>\n",
       "    </tr>\n",
       "    <tr>\n",
       "      <th>4</th>\n",
       "      <td>pub.1127684826</td>\n",
       "      <td>article</td>\n",
       "      <td>10.1053/j.gastro.2020.05.032</td>\n",
       "      <td>32425234</td>\n",
       "      <td>0016-5085</td>\n",
       "      <td>7</td>\n",
       "      <td>NaN</td>\n",
       "      <td>Medical and Health Sciences</td>\n",
       "      <td>Clinical Sciences</td>\n",
       "      <td>[]</td>\n",
       "    </tr>\n",
       "  </tbody>\n",
       "</table>\n",
       "</div>"
      ],
      "text/plain": [
       "               id publication_type                           doi      pmid  \\\n",
       "0  pub.1127982992          article  10.1053/j.gastro.2020.05.066  32479824   \n",
       "1  pub.1127467922          article    10.1053/j.jvca.2020.04.061  32507459   \n",
       "2  pub.1127651503          article  10.1053/j.gastro.2020.05.037  32425228   \n",
       "3  pub.1127316115          article  10.1053/j.gastro.2020.04.061  32371115   \n",
       "4  pub.1127684826          article  10.1053/j.gastro.2020.05.032  32425234   \n",
       "\n",
       "        issn  times_cited  relative_citation_ratio  \\\n",
       "0  0016-5085            0                      NaN   \n",
       "1  1053-0770            0                      NaN   \n",
       "2  0016-5085            0                      NaN   \n",
       "3  0016-5085            0                      NaN   \n",
       "4  0016-5085            7                      NaN   \n",
       "\n",
       "                       for_top         for_bottom open_access_versions  \n",
       "0                                                                   []  \n",
       "1                                                                   []  \n",
       "2                                                                   []  \n",
       "3                                                                   []  \n",
       "4  Medical and Health Sciences  Clinical Sciences                   []  "
      ]
     },
     "execution_count": 24,
     "metadata": {},
     "output_type": "execute_result"
    }
   ],
   "source": [
    "df_dimensions.head()"
   ]
  },
  {
   "cell_type": "code",
   "execution_count": 25,
   "metadata": {},
   "outputs": [],
   "source": [
    "df_dimensions.pmid = df_dimensions.pmid.astype(float)"
   ]
  },
  {
   "cell_type": "code",
   "execution_count": 26,
   "metadata": {},
   "outputs": [
    {
     "data": {
      "text/plain": [
       "(150749, 10)"
      ]
     },
     "execution_count": 26,
     "metadata": {},
     "output_type": "execute_result"
    }
   ],
   "source": [
    "df_dimensions.shape"
   ]
  },
  {
   "cell_type": "code",
   "execution_count": 27,
   "metadata": {},
   "outputs": [],
   "source": [
    "df_joined_doi = df_cord19[pd.notnull(df_cord19.doi)].merge(df_dimensions[pd.notnull(df_dimensions.doi)], how=\"inner\", left_on=\"doi\", right_on=\"doi\")"
   ]
  },
  {
   "cell_type": "code",
   "execution_count": 28,
   "metadata": {},
   "outputs": [
    {
     "data": {
      "text/plain": [
       "(120683, 34)"
      ]
     },
     "execution_count": 28,
     "metadata": {},
     "output_type": "execute_result"
    }
   ],
   "source": [
    "df_joined_doi.shape"
   ]
  },
  {
   "cell_type": "code",
   "execution_count": 29,
   "metadata": {},
   "outputs": [],
   "source": [
    "df_joined_pmid = df_cord19[pd.isnull(df_cord19.doi) & pd.notnull(df_cord19.pmid)].merge(df_dimensions[pd.isnull(df_dimensions.doi) & pd.notnull(df_dimensions.pmid)], how=\"inner\", left_on=\"pmid\", right_on=\"pmid\")"
   ]
  },
  {
   "cell_type": "code",
   "execution_count": 30,
   "metadata": {},
   "outputs": [
    {
     "data": {
      "text/plain": [
       "(3475, 34)"
      ]
     },
     "execution_count": 30,
     "metadata": {},
     "output_type": "execute_result"
    }
   ],
   "source": [
    "df_joined_pmid.shape"
   ]
  },
  {
   "cell_type": "code",
   "execution_count": 31,
   "metadata": {},
   "outputs": [],
   "source": [
    "df_joined = pd.concat([df_joined_doi,df_joined_pmid])"
   ]
  },
  {
   "cell_type": "code",
   "execution_count": 32,
   "metadata": {},
   "outputs": [],
   "source": [
    "# nearly all publications from CORD-19 are in Dimensions"
   ]
  },
  {
   "cell_type": "code",
   "execution_count": 33,
   "metadata": {},
   "outputs": [
    {
     "data": {
      "text/plain": [
       "(124158, 37)"
      ]
     },
     "execution_count": 33,
     "metadata": {},
     "output_type": "execute_result"
    }
   ],
   "source": [
    "df_joined.shape"
   ]
  },
  {
   "cell_type": "code",
   "execution_count": 34,
   "metadata": {},
   "outputs": [
    {
     "data": {
      "text/plain": [
       "(140351, 25)"
      ]
     },
     "execution_count": 34,
     "metadata": {},
     "output_type": "execute_result"
    }
   ],
   "source": [
    "df_cord19.shape"
   ]
  },
  {
   "cell_type": "code",
   "execution_count": 35,
   "metadata": {},
   "outputs": [
    {
     "data": {
      "image/png": "[encoded data removed]",
      "text/plain": [
       "<Figure size 432x288 with 1 Axes>"
      ]
     },
     "metadata": {},
     "output_type": "display_data"
    }
   ],
   "source": [
    "# publication type\n",
    "\n",
    "df_sub = df_joined[df_joined.publication_type.isin(df_joined.publication_type.value_counts()[:10].index.tolist())]\n",
    "b = sns.countplot(y=\"publication_type\", data=df_sub, order=df_sub['publication_type'].value_counts().index)\n",
    "#b.axes.set_title(\"Title\",fontsize=50)\n",
    "b.set_xlabel(\"Publication count\",fontsize=15)\n",
    "b.set_ylabel(\"Publication type\",fontsize=15)\n",
    "b.tick_params(labelsize=12)\n",
    "plt.tight_layout()\n",
    "plt.savefig(\"figures/dim_pub_type.pdf\")"
   ]
  },
  {
   "cell_type": "markdown",
   "metadata": {},
   "source": [
    "#### Citation counts"
   ]
  },
  {
   "cell_type": "code",
   "execution_count": 36,
   "metadata": {},
   "outputs": [
    {
     "data": {
      "image/png": "[encoded data removed]",
      "text/plain": [
       "<Figure size 432x288 with 1 Axes>"
      ]
     },
     "metadata": {},
     "output_type": "display_data"
    }
   ],
   "source": [
    "# scatter of citations vs time of publication\n",
    "\n",
    "sns.scatterplot(df_joined.publication_year.to_list(),df_joined.times_cited.to_list())\n",
    "plt.xlabel(\"Publication year\", fontsize=15)\n",
    "plt.ylabel(\"Citation count\", fontsize=15)\n",
    "plt.tight_layout()\n",
    "plt.savefig(\"figures/dim_citations_year.png\")"
   ]
  },
  {
   "cell_type": "code",
   "execution_count": 54,
   "metadata": {},
   "outputs": [
    {
     "data": {
      "text/html": [
       "<div>\n",
       "<style scoped>\n",
       "    .dataframe tbody tr th:only-of-type {\n",
       "        vertical-align: middle;\n",
       "    }\n",
       "\n",
       "    .dataframe tbody tr th {\n",
       "        vertical-align: top;\n",
       "    }\n",
       "\n",
       "    .dataframe thead th {\n",
       "        text-align: right;\n",
       "    }\n",
       "</style>\n",
       "<table border=\"1\" class=\"dataframe\">\n",
       "  <thead>\n",
       "    <tr style=\"text-align: right;\">\n",
       "      <th></th>\n",
       "      <th>title</th>\n",
       "      <th>times_cited</th>\n",
       "      <th>relative_citation_ratio</th>\n",
       "      <th>journal</th>\n",
       "      <th>publication_year</th>\n",
       "      <th>doi</th>\n",
       "    </tr>\n",
       "  </thead>\n",
       "  <tbody>\n",
       "    <tr>\n",
       "      <th>54203</th>\n",
       "      <td>Clinical features of patients infected with 20...</td>\n",
       "      <td>5508</td>\n",
       "      <td>NaN</td>\n",
       "      <td>The Lancet</td>\n",
       "      <td>2020.0</td>\n",
       "      <td>10.1016/s0140-6736(20)30183-5</td>\n",
       "    </tr>\n",
       "    <tr>\n",
       "      <th>70764</th>\n",
       "      <td>Biological roles of oligosaccharides: all of t...</td>\n",
       "      <td>4021</td>\n",
       "      <td>92.34</td>\n",
       "      <td>Glycobiology</td>\n",
       "      <td>1993.0</td>\n",
       "      <td>10.1093/glycob/3.2.97</td>\n",
       "    </tr>\n",
       "    <tr>\n",
       "      <th>73489</th>\n",
       "      <td>Surviving sepsis campaign: international guide...</td>\n",
       "      <td>3998</td>\n",
       "      <td>205.11</td>\n",
       "      <td>Critical care medicine</td>\n",
       "      <td>2013.0</td>\n",
       "      <td>10.1097/ccm.0b013e31827e83af</td>\n",
       "    </tr>\n",
       "    <tr>\n",
       "      <th>68464</th>\n",
       "      <td>Infectious Diseases Society of America/America...</td>\n",
       "      <td>3967</td>\n",
       "      <td>111.15</td>\n",
       "      <td>Clin Infect Dis</td>\n",
       "      <td>2007.0</td>\n",
       "      <td>10.1086/511159</td>\n",
       "    </tr>\n",
       "    <tr>\n",
       "      <th>53906</th>\n",
       "      <td>Epidemiology and causes of preterm birth</td>\n",
       "      <td>3680</td>\n",
       "      <td>120.06</td>\n",
       "      <td>The Lancet</td>\n",
       "      <td>2008.0</td>\n",
       "      <td>10.1016/s0140-6736(08)60074-4</td>\n",
       "    </tr>\n",
       "    <tr>\n",
       "      <th>65630</th>\n",
       "      <td>Clinical Characteristics of Coronavirus Diseas...</td>\n",
       "      <td>3278</td>\n",
       "      <td>NaN</td>\n",
       "      <td>New England Journal of Medicine</td>\n",
       "      <td>2020.0</td>\n",
       "      <td>10.1056/nejmoa2002032</td>\n",
       "    </tr>\n",
       "    <tr>\n",
       "      <th>65626</th>\n",
       "      <td>A Novel Coronavirus from Patients with Pneumon...</td>\n",
       "      <td>3250</td>\n",
       "      <td>NaN</td>\n",
       "      <td>New England Journal of Medicine</td>\n",
       "      <td>2020.0</td>\n",
       "      <td>10.1056/nejmoa2001017</td>\n",
       "    </tr>\n",
       "    <tr>\n",
       "      <th>264</th>\n",
       "      <td>Clinical Characteristics of 138 Hospitalized P...</td>\n",
       "      <td>3220</td>\n",
       "      <td>NaN</td>\n",
       "      <td>JAMA</td>\n",
       "      <td>2020.0</td>\n",
       "      <td>10.1001/jama.2020.1585</td>\n",
       "    </tr>\n",
       "    <tr>\n",
       "      <th>65611</th>\n",
       "      <td>Randomized assessment of rapid endovascular tr...</td>\n",
       "      <td>3079</td>\n",
       "      <td>197.01</td>\n",
       "      <td>The New England journal of medicine</td>\n",
       "      <td>2015.0</td>\n",
       "      <td>10.1056/nejmoa1414905</td>\n",
       "    </tr>\n",
       "    <tr>\n",
       "      <th>11939</th>\n",
       "      <td>Surviving Sepsis Campaign: International Guide...</td>\n",
       "      <td>2962</td>\n",
       "      <td>147.71</td>\n",
       "      <td>Intensive Care Med</td>\n",
       "      <td>2013.0</td>\n",
       "      <td>10.1007/s00134-012-2769-8</td>\n",
       "    </tr>\n",
       "    <tr>\n",
       "      <th>60872</th>\n",
       "      <td>Global trends in emerging infectious diseases</td>\n",
       "      <td>2957</td>\n",
       "      <td>73.56</td>\n",
       "      <td>Nature</td>\n",
       "      <td>2008.0</td>\n",
       "      <td>10.1038/nature06536</td>\n",
       "    </tr>\n",
       "    <tr>\n",
       "      <th>65610</th>\n",
       "      <td>Endovascular therapy for ischemic stroke with ...</td>\n",
       "      <td>2897</td>\n",
       "      <td>185.41</td>\n",
       "      <td>The New England journal of medicine</td>\n",
       "      <td>2015.0</td>\n",
       "      <td>10.1056/nejmoa1414792</td>\n",
       "    </tr>\n",
       "    <tr>\n",
       "      <th>54207</th>\n",
       "      <td>Epidemiological and clinical characteristics o...</td>\n",
       "      <td>2762</td>\n",
       "      <td>NaN</td>\n",
       "      <td>The Lancet</td>\n",
       "      <td>2020.0</td>\n",
       "      <td>10.1016/s0140-6736(20)30211-7</td>\n",
       "    </tr>\n",
       "    <tr>\n",
       "      <th>698</th>\n",
       "      <td>Polyvalent Interactions in Biological Systems:...</td>\n",
       "      <td>2566</td>\n",
       "      <td>40.46</td>\n",
       "      <td>Angewandte Chemie</td>\n",
       "      <td>1998.0</td>\n",
       "      <td>10.1002/(sici)1521-3773(19981102)37:20&lt;2754::a...</td>\n",
       "    </tr>\n",
       "    <tr>\n",
       "      <th>65612</th>\n",
       "      <td>Stent-retriever thrombectomy after intravenous...</td>\n",
       "      <td>2537</td>\n",
       "      <td>161.34</td>\n",
       "      <td>The New England journal of medicine</td>\n",
       "      <td>2015.0</td>\n",
       "      <td>10.1056/nejmoa1415061</td>\n",
       "    </tr>\n",
       "    <tr>\n",
       "      <th>54274</th>\n",
       "      <td>Clinical course and risk factors for mortality...</td>\n",
       "      <td>2464</td>\n",
       "      <td>NaN</td>\n",
       "      <td>The Lancet</td>\n",
       "      <td>2020.0</td>\n",
       "      <td>10.1016/s0140-6736(20)30566-3</td>\n",
       "    </tr>\n",
       "    <tr>\n",
       "      <th>65614</th>\n",
       "      <td>Thrombectomy within 8 hours after symptom onse...</td>\n",
       "      <td>2405</td>\n",
       "      <td>149.70</td>\n",
       "      <td>The New England journal of medicine</td>\n",
       "      <td>2015.0</td>\n",
       "      <td>10.1056/nejmoa1503780</td>\n",
       "    </tr>\n",
       "    <tr>\n",
       "      <th>65629</th>\n",
       "      <td>Early Transmission Dynamics in Wuhan, China, o...</td>\n",
       "      <td>2399</td>\n",
       "      <td>NaN</td>\n",
       "      <td>New England Journal of Medicine</td>\n",
       "      <td>2020.0</td>\n",
       "      <td>10.1056/nejmoa2001316</td>\n",
       "    </tr>\n",
       "    <tr>\n",
       "      <th>53471</th>\n",
       "      <td>Biology of Natural Killer Cells</td>\n",
       "      <td>2377</td>\n",
       "      <td>49.60</td>\n",
       "      <td>Adv Immunol</td>\n",
       "      <td>2008.0</td>\n",
       "      <td>10.1016/s0065-2776(08)60664-1</td>\n",
       "    </tr>\n",
       "    <tr>\n",
       "      <th>62837</th>\n",
       "      <td>A pneumonia outbreak associated with a new cor...</td>\n",
       "      <td>2115</td>\n",
       "      <td>NaN</td>\n",
       "      <td>Nature</td>\n",
       "      <td>2020.0</td>\n",
       "      <td>10.1038/s41586-020-2012-7</td>\n",
       "    </tr>\n",
       "  </tbody>\n",
       "</table>\n",
       "</div>"
      ],
      "text/plain": [
       "                                                   title  times_cited  \\\n",
       "54203  Clinical features of patients infected with 20...         5508   \n",
       "70764  Biological roles of oligosaccharides: all of t...         4021   \n",
       "73489  Surviving sepsis campaign: international guide...         3998   \n",
       "68464  Infectious Diseases Society of America/America...         3967   \n",
       "53906           Epidemiology and causes of preterm birth         3680   \n",
       "65630  Clinical Characteristics of Coronavirus Diseas...         3278   \n",
       "65626  A Novel Coronavirus from Patients with Pneumon...         3250   \n",
       "264    Clinical Characteristics of 138 Hospitalized P...         3220   \n",
       "65611  Randomized assessment of rapid endovascular tr...         3079   \n",
       "11939  Surviving Sepsis Campaign: International Guide...         2962   \n",
       "60872      Global trends in emerging infectious diseases         2957   \n",
       "65610  Endovascular therapy for ischemic stroke with ...         2897   \n",
       "54207  Epidemiological and clinical characteristics o...         2762   \n",
       "698    Polyvalent Interactions in Biological Systems:...         2566   \n",
       "65612  Stent-retriever thrombectomy after intravenous...         2537   \n",
       "54274  Clinical course and risk factors for mortality...         2464   \n",
       "65614  Thrombectomy within 8 hours after symptom onse...         2405   \n",
       "65629  Early Transmission Dynamics in Wuhan, China, o...         2399   \n",
       "53471                    Biology of Natural Killer Cells         2377   \n",
       "62837  A pneumonia outbreak associated with a new cor...         2115   \n",
       "\n",
       "       relative_citation_ratio                              journal  \\\n",
       "54203                      NaN                           The Lancet   \n",
       "70764                    92.34                         Glycobiology   \n",
       "73489                   205.11               Critical care medicine   \n",
       "68464                   111.15                      Clin Infect Dis   \n",
       "53906                   120.06                           The Lancet   \n",
       "65630                      NaN      New England Journal of Medicine   \n",
       "65626                      NaN      New England Journal of Medicine   \n",
       "264                        NaN                                 JAMA   \n",
       "65611                   197.01  The New England journal of medicine   \n",
       "11939                   147.71                   Intensive Care Med   \n",
       "60872                    73.56                               Nature   \n",
       "65610                   185.41  The New England journal of medicine   \n",
       "54207                      NaN                           The Lancet   \n",
       "698                      40.46                    Angewandte Chemie   \n",
       "65612                   161.34  The New England journal of medicine   \n",
       "54274                      NaN                           The Lancet   \n",
       "65614                   149.70  The New England journal of medicine   \n",
       "65629                      NaN      New England Journal of Medicine   \n",
       "53471                    49.60                          Adv Immunol   \n",
       "62837                      NaN                               Nature   \n",
       "\n",
       "       publication_year                                                doi  \n",
       "54203            2020.0                      10.1016/s0140-6736(20)30183-5  \n",
       "70764            1993.0                              10.1093/glycob/3.2.97  \n",
       "73489            2013.0                       10.1097/ccm.0b013e31827e83af  \n",
       "68464            2007.0                                     10.1086/511159  \n",
       "53906            2008.0                      10.1016/s0140-6736(08)60074-4  \n",
       "65630            2020.0                              10.1056/nejmoa2002032  \n",
       "65626            2020.0                              10.1056/nejmoa2001017  \n",
       "264              2020.0                             10.1001/jama.2020.1585  \n",
       "65611            2015.0                              10.1056/nejmoa1414905  \n",
       "11939            2013.0                          10.1007/s00134-012-2769-8  \n",
       "60872            2008.0                                10.1038/nature06536  \n",
       "65610            2015.0                              10.1056/nejmoa1414792  \n",
       "54207            2020.0                      10.1016/s0140-6736(20)30211-7  \n",
       "698              1998.0  10.1002/(sici)1521-3773(19981102)37:20<2754::a...  \n",
       "65612            2015.0                              10.1056/nejmoa1415061  \n",
       "54274            2020.0                      10.1016/s0140-6736(20)30566-3  \n",
       "65614            2015.0                              10.1056/nejmoa1503780  \n",
       "65629            2020.0                              10.1056/nejmoa2001316  \n",
       "53471            2008.0                      10.1016/s0065-2776(08)60664-1  \n",
       "62837            2020.0                          10.1038/s41586-020-2012-7  "
      ]
     },
     "execution_count": 54,
     "metadata": {},
     "output_type": "execute_result"
    }
   ],
   "source": [
    "# most cited papers\n",
    "\n",
    "df_joined[[\"title\",\"times_cited\",\"relative_citation_ratio\",\"journal\",\"publication_year\",\"doi\"]].sort_values(\"times_cited\",ascending=False).head(20)"
   ]
  },
  {
   "cell_type": "code",
   "execution_count": 55,
   "metadata": {},
   "outputs": [
    {
     "data": {
      "text/html": [
       "<div>\n",
       "<style scoped>\n",
       "    .dataframe tbody tr th:only-of-type {\n",
       "        vertical-align: middle;\n",
       "    }\n",
       "\n",
       "    .dataframe tbody tr th {\n",
       "        vertical-align: top;\n",
       "    }\n",
       "\n",
       "    .dataframe thead th {\n",
       "        text-align: right;\n",
       "    }\n",
       "</style>\n",
       "<table border=\"1\" class=\"dataframe\">\n",
       "  <thead>\n",
       "    <tr style=\"text-align: right;\">\n",
       "      <th></th>\n",
       "      <th>title</th>\n",
       "      <th>times_cited</th>\n",
       "      <th>relative_citation_ratio</th>\n",
       "      <th>journal</th>\n",
       "      <th>publication_year</th>\n",
       "      <th>doi</th>\n",
       "    </tr>\n",
       "  </thead>\n",
       "  <tbody>\n",
       "    <tr>\n",
       "      <th>54203</th>\n",
       "      <td>Clinical features of patients infected with 20...</td>\n",
       "      <td>5508</td>\n",
       "      <td>NaN</td>\n",
       "      <td>The Lancet</td>\n",
       "      <td>2020.0</td>\n",
       "      <td>10.1016/s0140-6736(20)30183-5</td>\n",
       "    </tr>\n",
       "    <tr>\n",
       "      <th>65630</th>\n",
       "      <td>Clinical Characteristics of Coronavirus Diseas...</td>\n",
       "      <td>3278</td>\n",
       "      <td>NaN</td>\n",
       "      <td>New England Journal of Medicine</td>\n",
       "      <td>2020.0</td>\n",
       "      <td>10.1056/nejmoa2002032</td>\n",
       "    </tr>\n",
       "    <tr>\n",
       "      <th>65626</th>\n",
       "      <td>A Novel Coronavirus from Patients with Pneumon...</td>\n",
       "      <td>3250</td>\n",
       "      <td>NaN</td>\n",
       "      <td>New England Journal of Medicine</td>\n",
       "      <td>2020.0</td>\n",
       "      <td>10.1056/nejmoa2001017</td>\n",
       "    </tr>\n",
       "    <tr>\n",
       "      <th>264</th>\n",
       "      <td>Clinical Characteristics of 138 Hospitalized P...</td>\n",
       "      <td>3220</td>\n",
       "      <td>NaN</td>\n",
       "      <td>JAMA</td>\n",
       "      <td>2020.0</td>\n",
       "      <td>10.1001/jama.2020.1585</td>\n",
       "    </tr>\n",
       "    <tr>\n",
       "      <th>54207</th>\n",
       "      <td>Epidemiological and clinical characteristics o...</td>\n",
       "      <td>2762</td>\n",
       "      <td>NaN</td>\n",
       "      <td>The Lancet</td>\n",
       "      <td>2020.0</td>\n",
       "      <td>10.1016/s0140-6736(20)30211-7</td>\n",
       "    </tr>\n",
       "    <tr>\n",
       "      <th>54274</th>\n",
       "      <td>Clinical course and risk factors for mortality...</td>\n",
       "      <td>2464</td>\n",
       "      <td>NaN</td>\n",
       "      <td>The Lancet</td>\n",
       "      <td>2020.0</td>\n",
       "      <td>10.1016/s0140-6736(20)30566-3</td>\n",
       "    </tr>\n",
       "    <tr>\n",
       "      <th>65629</th>\n",
       "      <td>Early Transmission Dynamics in Wuhan, China, o...</td>\n",
       "      <td>2399</td>\n",
       "      <td>NaN</td>\n",
       "      <td>New England Journal of Medicine</td>\n",
       "      <td>2020.0</td>\n",
       "      <td>10.1056/nejmoa2001316</td>\n",
       "    </tr>\n",
       "    <tr>\n",
       "      <th>62837</th>\n",
       "      <td>A pneumonia outbreak associated with a new cor...</td>\n",
       "      <td>2115</td>\n",
       "      <td>NaN</td>\n",
       "      <td>Nature</td>\n",
       "      <td>2020.0</td>\n",
       "      <td>10.1038/s41586-020-2012-7</td>\n",
       "    </tr>\n",
       "    <tr>\n",
       "      <th>276</th>\n",
       "      <td>Characteristics of and Important Lessons From ...</td>\n",
       "      <td>2042</td>\n",
       "      <td>NaN</td>\n",
       "      <td>JAMA</td>\n",
       "      <td>2020.0</td>\n",
       "      <td>10.1001/jama.2020.2648</td>\n",
       "    </tr>\n",
       "    <tr>\n",
       "      <th>54202</th>\n",
       "      <td>A familial cluster of pneumonia associated wit...</td>\n",
       "      <td>1485</td>\n",
       "      <td>NaN</td>\n",
       "      <td>The Lancet</td>\n",
       "      <td>2020.0</td>\n",
       "      <td>10.1016/s0140-6736(20)30154-9</td>\n",
       "    </tr>\n",
       "  </tbody>\n",
       "</table>\n",
       "</div>"
      ],
      "text/plain": [
       "                                                   title  times_cited  \\\n",
       "54203  Clinical features of patients infected with 20...         5508   \n",
       "65630  Clinical Characteristics of Coronavirus Diseas...         3278   \n",
       "65626  A Novel Coronavirus from Patients with Pneumon...         3250   \n",
       "264    Clinical Characteristics of 138 Hospitalized P...         3220   \n",
       "54207  Epidemiological and clinical characteristics o...         2762   \n",
       "54274  Clinical course and risk factors for mortality...         2464   \n",
       "65629  Early Transmission Dynamics in Wuhan, China, o...         2399   \n",
       "62837  A pneumonia outbreak associated with a new cor...         2115   \n",
       "276    Characteristics of and Important Lessons From ...         2042   \n",
       "54202  A familial cluster of pneumonia associated wit...         1485   \n",
       "\n",
       "       relative_citation_ratio                          journal  \\\n",
       "54203                      NaN                       The Lancet   \n",
       "65630                      NaN  New England Journal of Medicine   \n",
       "65626                      NaN  New England Journal of Medicine   \n",
       "264                        NaN                             JAMA   \n",
       "54207                      NaN                       The Lancet   \n",
       "54274                      NaN                       The Lancet   \n",
       "65629                      NaN  New England Journal of Medicine   \n",
       "62837                      NaN                           Nature   \n",
       "276                        NaN                             JAMA   \n",
       "54202                      NaN                       The Lancet   \n",
       "\n",
       "       publication_year                            doi  \n",
       "54203            2020.0  10.1016/s0140-6736(20)30183-5  \n",
       "65630            2020.0          10.1056/nejmoa2002032  \n",
       "65626            2020.0          10.1056/nejmoa2001017  \n",
       "264              2020.0         10.1001/jama.2020.1585  \n",
       "54207            2020.0  10.1016/s0140-6736(20)30211-7  \n",
       "54274            2020.0  10.1016/s0140-6736(20)30566-3  \n",
       "65629            2020.0          10.1056/nejmoa2001316  \n",
       "62837            2020.0      10.1038/s41586-020-2012-7  \n",
       "276              2020.0         10.1001/jama.2020.2648  \n",
       "54202            2020.0  10.1016/s0140-6736(20)30154-9  "
      ]
     },
     "execution_count": 55,
     "metadata": {},
     "output_type": "execute_result"
    }
   ],
   "source": [
    "# same but in 2020; note that duplicates are due to SI or pre-prints with different PMIDs\n",
    "\n",
    "df_joined[df_joined.publication_year>2019][[\"title\",\"times_cited\",\"relative_citation_ratio\",\"journal\",\"publication_year\",\"doi\"]].sort_values(\"times_cited\",ascending=False).head(10)"
   ]
  },
  {
   "cell_type": "code",
   "execution_count": 56,
   "metadata": {},
   "outputs": [
    {
     "data": {
      "text/html": [
       "<div>\n",
       "<style scoped>\n",
       "    .dataframe tbody tr th:only-of-type {\n",
       "        vertical-align: middle;\n",
       "    }\n",
       "\n",
       "    .dataframe tbody tr th {\n",
       "        vertical-align: top;\n",
       "    }\n",
       "\n",
       "    .dataframe thead th {\n",
       "        text-align: right;\n",
       "    }\n",
       "</style>\n",
       "<table border=\"1\" class=\"dataframe\">\n",
       "  <thead>\n",
       "    <tr style=\"text-align: right;\">\n",
       "      <th></th>\n",
       "      <th>times_cited</th>\n",
       "    </tr>\n",
       "    <tr>\n",
       "      <th>journal</th>\n",
       "      <th></th>\n",
       "    </tr>\n",
       "  </thead>\n",
       "  <tbody>\n",
       "    <tr>\n",
       "      <th>The Lancet</th>\n",
       "      <td>52488</td>\n",
       "    </tr>\n",
       "    <tr>\n",
       "      <th>PLoS One</th>\n",
       "      <td>40269</td>\n",
       "    </tr>\n",
       "    <tr>\n",
       "      <th>Nature</th>\n",
       "      <td>39561</td>\n",
       "    </tr>\n",
       "    <tr>\n",
       "      <th>Virology</th>\n",
       "      <td>36643</td>\n",
       "    </tr>\n",
       "    <tr>\n",
       "      <th>Emerg Infect Dis</th>\n",
       "      <td>35327</td>\n",
       "    </tr>\n",
       "    <tr>\n",
       "      <th>Journal of virology</th>\n",
       "      <td>33933</td>\n",
       "    </tr>\n",
       "    <tr>\n",
       "      <th>JAMA</th>\n",
       "      <td>28422</td>\n",
       "    </tr>\n",
       "    <tr>\n",
       "      <th>Surgical endoscopy</th>\n",
       "      <td>23332</td>\n",
       "    </tr>\n",
       "    <tr>\n",
       "      <th>Lancet</th>\n",
       "      <td>22943</td>\n",
       "    </tr>\n",
       "    <tr>\n",
       "      <th>PLoS Pathog</th>\n",
       "      <td>22751</td>\n",
       "    </tr>\n",
       "    <tr>\n",
       "      <th>New England Journal of Medicine</th>\n",
       "      <td>21076</td>\n",
       "    </tr>\n",
       "    <tr>\n",
       "      <th>The New England journal of medicine</th>\n",
       "      <td>19346</td>\n",
       "    </tr>\n",
       "    <tr>\n",
       "      <th>Clin Infect Dis</th>\n",
       "      <td>18985</td>\n",
       "    </tr>\n",
       "    <tr>\n",
       "      <th>Cell</th>\n",
       "      <td>18575</td>\n",
       "    </tr>\n",
       "    <tr>\n",
       "      <th>Proceedings of the National Academy of Sciences of the United States of America</th>\n",
       "      <td>17632</td>\n",
       "    </tr>\n",
       "    <tr>\n",
       "      <th>J Infect Dis</th>\n",
       "      <td>16829</td>\n",
       "    </tr>\n",
       "    <tr>\n",
       "      <th>Arch Virol</th>\n",
       "      <td>16601</td>\n",
       "    </tr>\n",
       "    <tr>\n",
       "      <th>Nucleic Acids Res</th>\n",
       "      <td>12919</td>\n",
       "    </tr>\n",
       "    <tr>\n",
       "      <th>Vaccine</th>\n",
       "      <td>11306</td>\n",
       "    </tr>\n",
       "    <tr>\n",
       "      <th>Virus Research</th>\n",
       "      <td>11275</td>\n",
       "    </tr>\n",
       "  </tbody>\n",
       "</table>\n",
       "</div>"
      ],
      "text/plain": [
       "                                                    times_cited\n",
       "journal                                                        \n",
       "The Lancet                                                52488\n",
       "PLoS One                                                  40269\n",
       "Nature                                                    39561\n",
       "Virology                                                  36643\n",
       "Emerg Infect Dis                                          35327\n",
       "Journal of virology                                       33933\n",
       "JAMA                                                      28422\n",
       "Surgical endoscopy                                        23332\n",
       "Lancet                                                    22943\n",
       "PLoS Pathog                                               22751\n",
       "New England Journal of Medicine                           21076\n",
       "The New England journal of medicine                       19346\n",
       "Clin Infect Dis                                           18985\n",
       "Cell                                                      18575\n",
       "Proceedings of the National Academy of Sciences...        17632\n",
       "J Infect Dis                                              16829\n",
       "Arch Virol                                                16601\n",
       "Nucleic Acids Res                                         12919\n",
       "Vaccine                                                   11306\n",
       "Virus Research                                            11275"
      ]
     },
     "execution_count": 56,
     "metadata": {},
     "output_type": "execute_result"
    }
   ],
   "source": [
    "# most cited journals\n",
    "\n",
    "df_joined[['journal','times_cited']].groupby('journal').sum().sort_values('times_cited',ascending=False).head(20)"
   ]
  },
  {
   "cell_type": "markdown",
   "metadata": {},
   "source": [
    "#### Categories"
   ]
  },
  {
   "cell_type": "code",
   "execution_count": 58,
   "metadata": {},
   "outputs": [
    {
     "data": {
      "image/png": "[encoded data removed]",
      "text/plain": [
       "<Figure size 432x288 with 1 Axes>"
      ]
     },
     "metadata": {},
     "output_type": "display_data"
    }
   ],
   "source": [
    "# FOR jeywords distribution, TOP\n",
    "\n",
    "df_sub = df_joined[df_joined.for_top.isin(df_joined.for_top.value_counts()[:10].index.tolist())]\n",
    "b = sns.countplot(y=\"for_top\", data=df_sub, order=df_sub['for_top'].value_counts().index)\n",
    "#b.axes.set_title(\"Title\",fontsize=50)\n",
    "b.set_xlabel(\"Publication count\",fontsize=15)\n",
    "b.set_ylabel(\"FOR first level\",fontsize=15)\n",
    "b.tick_params(labelsize=12)\n",
    "plt.tight_layout()\n",
    "plt.savefig(\"figures/dim_for_top.pdf\")"
   ]
  },
  {
   "cell_type": "code",
   "execution_count": 59,
   "metadata": {},
   "outputs": [
    {
     "data": {
      "image/png": "[encoded data removed]",
      "text/plain": [
       "<Figure size 432x288 with 1 Axes>"
      ]
     },
     "metadata": {},
     "output_type": "display_data"
    }
   ],
   "source": [
    "# FOR jeywords distribution, TOP\n",
    "\n",
    "df_sub = df_joined[df_joined.for_bottom.isin(df_joined.for_bottom.value_counts()[:10].index.tolist())]\n",
    "b = sns.countplot(y=\"for_bottom\", data=df_sub, order=df_sub['for_bottom'].value_counts().index)\n",
    "#b.axes.set_title(\"Title\",fontsize=50)\n",
    "b.set_xlabel(\"Publication count\",fontsize=15)\n",
    "b.set_ylabel(\"FOR second level\",fontsize=15)\n",
    "b.tick_params(labelsize=12)\n",
    "plt.tight_layout()\n",
    "plt.savefig(\"figures/dim_for_bottom.pdf\")"
   ]
  },
  {
   "cell_type": "code",
   "execution_count": null,
   "metadata": {},
   "outputs": [],
   "source": []
  }
 ],
 "metadata": {
  "kernelspec": {
   "display_name": "covid",
   "language": "python",
   "name": "covid"
  },
  "language_info": {
   "codemirror_mode": {
    "name": "ipython",
    "version": 3
   },
   "file_extension": ".py",
   "mimetype": "text/x-python",
   "name": "python",
   "nbconvert_exporter": "python",
   "pygments_lexer": "ipython3",
   "version": "3.7.6"
  }
 },
 "nbformat": 4,
 "nbformat_minor": 4
}
