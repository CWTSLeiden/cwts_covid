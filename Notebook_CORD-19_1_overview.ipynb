{
 "cells": [
  {
   "cell_type": "markdown",
   "metadata": {},
   "source": [
    "# CORD-19 overview\n",
    "\n",
    "In this notebook, we provide an overview of publication medatata for CORD-19."
   ]
  },
  {
   "cell_type": "code",
   "execution_count": 1,
   "metadata": {},
   "outputs": [],
   "source": [
    "%matplotlib inline\n",
    "import matplotlib.pyplot as plt\n",
    "\n",
    "# magics and warnings\n",
    "%load_ext autoreload\n",
    "%autoreload 2\n",
    "import warnings; warnings.simplefilter('ignore')\n",
    "\n",
    "import os, random, codecs, json\n",
    "import pandas as pd\n",
    "import numpy as np\n",
    "\n",
    "seed = 99\n",
    "random.seed(seed)\n",
    "np.random.seed(seed)\n",
    "\n",
    "import nltk, sklearn\n",
    "import matplotlib.pyplot as plt\n",
    "import seaborn as sns\n",
    "sns.set(style=\"white\")\n",
    "sns.set_context(\"notebook\", font_scale=1.2, rc={\"lines.linewidth\": 2.5})"
   ]
  },
  {
   "cell_type": "code",
   "execution_count": 2,
   "metadata": {},
   "outputs": [],
   "source": [
    "# load metadata\n",
    "\n",
    "df_meta = pd.read_csv(\"datasets_output/df_pub.csv\",compression=\"gzip\")\n",
    "df_datasource = pd.read_csv(\"datasets_output/sql_tables/datasource.csv\",sep=\"\\t\",header=None,names=['datasource_metadata_id', 'datasource', 'url'])\n",
    "df_pub_datasource = pd.read_csv(\"datasets_output/sql_tables/pub_datasource.csv\",sep=\"\\t\",header=None,names=['pub_id','datasource_metadata_id'])\n",
    "df_cord_meta = pd.read_csv(\"datasets_output/sql_tables/cord19_metadata.csv\",sep=\"\\t\",header=None,names=['cord19_metadata_id', 'source', 'license', 'full_text_file', 'ms_academic_id',\n",
    "       'who_covidence', 'sha', 'full_text', 'pub_id'])"
   ]
  },
  {
   "cell_type": "code",
   "execution_count": 3,
   "metadata": {},
   "outputs": [
    {
     "data": {
      "text/html": [
       "<div>\n",
       "<style scoped>\n",
       "    .dataframe tbody tr th:only-of-type {\n",
       "        vertical-align: middle;\n",
       "    }\n",
       "\n",
       "    .dataframe tbody tr th {\n",
       "        vertical-align: top;\n",
       "    }\n",
       "\n",
       "    .dataframe thead th {\n",
       "        text-align: right;\n",
       "    }\n",
       "</style>\n",
       "<table border=\"1\" class=\"dataframe\">\n",
       "  <thead>\n",
       "    <tr style=\"text-align: right;\">\n",
       "      <th></th>\n",
       "      <th>pub_id</th>\n",
       "      <th>title</th>\n",
       "      <th>abstract</th>\n",
       "      <th>publication_year</th>\n",
       "      <th>publication_month</th>\n",
       "      <th>journal</th>\n",
       "      <th>volume</th>\n",
       "      <th>issue</th>\n",
       "      <th>pages</th>\n",
       "      <th>doi</th>\n",
       "      <th>pmid</th>\n",
       "      <th>pmcid</th>\n",
       "      <th>dimensions_id</th>\n",
       "      <th>timestamp</th>\n",
       "    </tr>\n",
       "  </thead>\n",
       "  <tbody>\n",
       "    <tr>\n",
       "      <th>0</th>\n",
       "      <td>0</td>\n",
       "      <td>‘A ticking time bomb’: Scientists worry about ...</td>\n",
       "      <td>CAPE TOWN, SOUTH AFRICA—Late on Sunday evening...</td>\n",
       "      <td>2020.0</td>\n",
       "      <td>NaN</td>\n",
       "      <td>Science</td>\n",
       "      <td>NaN</td>\n",
       "      <td>NaN</td>\n",
       "      <td>NaN</td>\n",
       "      <td>0.1126/science.abb7331</td>\n",
       "      <td>NaN</td>\n",
       "      <td>NaN</td>\n",
       "      <td>NaN</td>\n",
       "      <td>2020-04-18 09:20:24.986698</td>\n",
       "    </tr>\n",
       "    <tr>\n",
       "      <th>1</th>\n",
       "      <td>1</td>\n",
       "      <td>[Ten hot issues of breast cancer under the nov...</td>\n",
       "      <td>NaN</td>\n",
       "      <td>2020.0</td>\n",
       "      <td>2.0</td>\n",
       "      <td>Chinese medical journal</td>\n",
       "      <td>100</td>\n",
       "      <td>0</td>\n",
       "      <td>e002</td>\n",
       "      <td>10.0376/cma.j.issn.0376-2491.2020.0002</td>\n",
       "      <td>32036640.0</td>\n",
       "      <td>NaN</td>\n",
       "      <td>pub.1124777091</td>\n",
       "      <td>2020-04-18 09:20:24.986698</td>\n",
       "    </tr>\n",
       "    <tr>\n",
       "      <th>2</th>\n",
       "      <td>2</td>\n",
       "      <td>Another Piece of the Puzzle: Human Metapneumov...</td>\n",
       "      <td>BACKGROUND: Each winter respiratory viruses ac...</td>\n",
       "      <td>2008.0</td>\n",
       "      <td>12.0</td>\n",
       "      <td>Archives of Internal Medicine</td>\n",
       "      <td>NaN</td>\n",
       "      <td>NaN</td>\n",
       "      <td>NaN</td>\n",
       "      <td>10.1001/archinte.168.22.2489</td>\n",
       "      <td>19064834.0</td>\n",
       "      <td>pmc2783624</td>\n",
       "      <td>NaN</td>\n",
       "      <td>2020-04-18 09:20:24.986698</td>\n",
       "    </tr>\n",
       "    <tr>\n",
       "      <th>3</th>\n",
       "      <td>3</td>\n",
       "      <td>Viral etiology of severe pneumonia among Kenya...</td>\n",
       "      <td>CONTEXT: Pneumonia is the leading cause of chi...</td>\n",
       "      <td>2010.0</td>\n",
       "      <td>5.0</td>\n",
       "      <td>JAMA</td>\n",
       "      <td>NaN</td>\n",
       "      <td>NaN</td>\n",
       "      <td>NaN</td>\n",
       "      <td>10.1001/jama.2010.675</td>\n",
       "      <td>20501927.0</td>\n",
       "      <td>pmc2968755</td>\n",
       "      <td>NaN</td>\n",
       "      <td>2020-04-18 09:20:24.986698</td>\n",
       "    </tr>\n",
       "    <tr>\n",
       "      <th>4</th>\n",
       "      <td>4</td>\n",
       "      <td>Critically Ill Patients With Influenza A(H1N1)...</td>\n",
       "      <td>NaN</td>\n",
       "      <td>2014.0</td>\n",
       "      <td>4.0</td>\n",
       "      <td>JAMA</td>\n",
       "      <td>NaN</td>\n",
       "      <td>NaN</td>\n",
       "      <td>NaN</td>\n",
       "      <td>10.1001/jama.2014.2116</td>\n",
       "      <td>24566924.0</td>\n",
       "      <td>pmc6689404</td>\n",
       "      <td>NaN</td>\n",
       "      <td>2020-04-18 09:20:24.986698</td>\n",
       "    </tr>\n",
       "  </tbody>\n",
       "</table>\n",
       "</div>"
      ],
      "text/plain": [
       "   pub_id                                              title  \\\n",
       "0       0  ‘A ticking time bomb’: Scientists worry about ...   \n",
       "1       1  [Ten hot issues of breast cancer under the nov...   \n",
       "2       2  Another Piece of the Puzzle: Human Metapneumov...   \n",
       "3       3  Viral etiology of severe pneumonia among Kenya...   \n",
       "4       4  Critically Ill Patients With Influenza A(H1N1)...   \n",
       "\n",
       "                                            abstract  publication_year  \\\n",
       "0  CAPE TOWN, SOUTH AFRICA—Late on Sunday evening...            2020.0   \n",
       "1                                                NaN            2020.0   \n",
       "2  BACKGROUND: Each winter respiratory viruses ac...            2008.0   \n",
       "3  CONTEXT: Pneumonia is the leading cause of chi...            2010.0   \n",
       "4                                                NaN            2014.0   \n",
       "\n",
       "   publication_month                        journal volume issue pages  \\\n",
       "0                NaN                        Science    NaN   NaN   NaN   \n",
       "1                2.0        Chinese medical journal    100     0  e002   \n",
       "2               12.0  Archives of Internal Medicine    NaN   NaN   NaN   \n",
       "3                5.0                           JAMA    NaN   NaN   NaN   \n",
       "4                4.0                           JAMA    NaN   NaN   NaN   \n",
       "\n",
       "                                      doi        pmid       pmcid  \\\n",
       "0                  0.1126/science.abb7331         NaN         NaN   \n",
       "1  10.0376/cma.j.issn.0376-2491.2020.0002  32036640.0         NaN   \n",
       "2            10.1001/archinte.168.22.2489  19064834.0  pmc2783624   \n",
       "3                   10.1001/jama.2010.675  20501927.0  pmc2968755   \n",
       "4                  10.1001/jama.2014.2116  24566924.0  pmc6689404   \n",
       "\n",
       "    dimensions_id                   timestamp  \n",
       "0             NaN  2020-04-18 09:20:24.986698  \n",
       "1  pub.1124777091  2020-04-18 09:20:24.986698  \n",
       "2             NaN  2020-04-18 09:20:24.986698  \n",
       "3             NaN  2020-04-18 09:20:24.986698  \n",
       "4             NaN  2020-04-18 09:20:24.986698  "
      ]
     },
     "execution_count": 3,
     "metadata": {},
     "output_type": "execute_result"
    }
   ],
   "source": [
    "df_meta.head()"
   ]
  },
  {
   "cell_type": "code",
   "execution_count": 4,
   "metadata": {},
   "outputs": [
    {
     "data": {
      "text/plain": [
       "Index(['pub_id', 'title', 'abstract', 'publication_year', 'publication_month',\n",
       "       'journal', 'volume', 'issue', 'pages', 'doi', 'pmid', 'pmcid',\n",
       "       'dimensions_id', 'timestamp'],\n",
       "      dtype='object')"
      ]
     },
     "execution_count": 4,
     "metadata": {},
     "output_type": "execute_result"
    }
   ],
   "source": [
    "df_meta.columns"
   ]
  },
  {
   "cell_type": "code",
   "execution_count": 5,
   "metadata": {},
   "outputs": [
    {
     "data": {
      "text/html": [
       "<div>\n",
       "<style scoped>\n",
       "    .dataframe tbody tr th:only-of-type {\n",
       "        vertical-align: middle;\n",
       "    }\n",
       "\n",
       "    .dataframe tbody tr th {\n",
       "        vertical-align: top;\n",
       "    }\n",
       "\n",
       "    .dataframe thead th {\n",
       "        text-align: right;\n",
       "    }\n",
       "</style>\n",
       "<table border=\"1\" class=\"dataframe\">\n",
       "  <thead>\n",
       "    <tr style=\"text-align: right;\">\n",
       "      <th></th>\n",
       "      <th>datasource_metadata_id</th>\n",
       "      <th>datasource</th>\n",
       "      <th>url</th>\n",
       "    </tr>\n",
       "  </thead>\n",
       "  <tbody>\n",
       "    <tr>\n",
       "      <th>0</th>\n",
       "      <td>0</td>\n",
       "      <td>CORD19</td>\n",
       "      <td>https://pages.semanticscholar.org/coronavirus-...</td>\n",
       "    </tr>\n",
       "    <tr>\n",
       "      <th>1</th>\n",
       "      <td>1</td>\n",
       "      <td>Dimensions</td>\n",
       "      <td>https://docs.google.com/spreadsheets/d/1-kTZJZ...</td>\n",
       "    </tr>\n",
       "    <tr>\n",
       "      <th>2</th>\n",
       "      <td>2</td>\n",
       "      <td>WHO</td>\n",
       "      <td>https://www.who.int/emergencies/diseases/novel...</td>\n",
       "    </tr>\n",
       "  </tbody>\n",
       "</table>\n",
       "</div>"
      ],
      "text/plain": [
       "   datasource_metadata_id  datasource  \\\n",
       "0                       0      CORD19   \n",
       "1                       1  Dimensions   \n",
       "2                       2         WHO   \n",
       "\n",
       "                                                 url  \n",
       "0  https://pages.semanticscholar.org/coronavirus-...  \n",
       "1  https://docs.google.com/spreadsheets/d/1-kTZJZ...  \n",
       "2  https://www.who.int/emergencies/diseases/novel...  "
      ]
     },
     "execution_count": 5,
     "metadata": {},
     "output_type": "execute_result"
    }
   ],
   "source": [
    "df_datasource"
   ]
  },
  {
   "cell_type": "markdown",
   "metadata": {},
   "source": [
    "#### Select just CORD-19"
   ]
  },
  {
   "cell_type": "code",
   "execution_count": 6,
   "metadata": {},
   "outputs": [],
   "source": [
    "df_meta = df_meta.merge(df_pub_datasource, how=\"inner\", left_on=\"pub_id\", right_on=\"pub_id\")\n",
    "df_meta = df_meta.merge(df_datasource, how=\"inner\", left_on=\"datasource_metadata_id\", right_on=\"datasource_metadata_id\")\n",
    "df_cord19 = df_meta[df_meta.datasource_metadata_id==0]\n",
    "df_cord19 = df_cord19.merge(df_cord_meta, how=\"inner\", left_on=\"pub_id\", right_on=\"pub_id\")"
   ]
  },
  {
   "cell_type": "code",
   "execution_count": 7,
   "metadata": {},
   "outputs": [
    {
     "data": {
      "text/plain": [
       "(70823, 17)"
      ]
     },
     "execution_count": 7,
     "metadata": {},
     "output_type": "execute_result"
    }
   ],
   "source": [
    "df_meta.shape"
   ]
  },
  {
   "cell_type": "code",
   "execution_count": 8,
   "metadata": {},
   "outputs": [
    {
     "data": {
      "text/plain": [
       "(52079, 25)"
      ]
     },
     "execution_count": 8,
     "metadata": {},
     "output_type": "execute_result"
    }
   ],
   "source": [
    "df_cord19.shape"
   ]
  },
  {
   "cell_type": "code",
   "execution_count": 9,
   "metadata": {},
   "outputs": [
    {
     "data": {
      "text/html": [
       "<div>\n",
       "<style scoped>\n",
       "    .dataframe tbody tr th:only-of-type {\n",
       "        vertical-align: middle;\n",
       "    }\n",
       "\n",
       "    .dataframe tbody tr th {\n",
       "        vertical-align: top;\n",
       "    }\n",
       "\n",
       "    .dataframe thead th {\n",
       "        text-align: right;\n",
       "    }\n",
       "</style>\n",
       "<table border=\"1\" class=\"dataframe\">\n",
       "  <thead>\n",
       "    <tr style=\"text-align: right;\">\n",
       "      <th></th>\n",
       "      <th>pub_id</th>\n",
       "      <th>title</th>\n",
       "      <th>abstract</th>\n",
       "      <th>publication_year</th>\n",
       "      <th>publication_month</th>\n",
       "      <th>journal</th>\n",
       "      <th>volume</th>\n",
       "      <th>issue</th>\n",
       "      <th>pages</th>\n",
       "      <th>doi</th>\n",
       "      <th>...</th>\n",
       "      <th>datasource</th>\n",
       "      <th>url</th>\n",
       "      <th>cord19_metadata_id</th>\n",
       "      <th>source</th>\n",
       "      <th>license</th>\n",
       "      <th>full_text_file</th>\n",
       "      <th>ms_academic_id</th>\n",
       "      <th>who_covidence</th>\n",
       "      <th>sha</th>\n",
       "      <th>full_text</th>\n",
       "    </tr>\n",
       "  </thead>\n",
       "  <tbody>\n",
       "    <tr>\n",
       "      <th>0</th>\n",
       "      <td>0</td>\n",
       "      <td>‘A ticking time bomb’: Scientists worry about ...</td>\n",
       "      <td>CAPE TOWN, SOUTH AFRICA—Late on Sunday evening...</td>\n",
       "      <td>2020.0</td>\n",
       "      <td>NaN</td>\n",
       "      <td>Science</td>\n",
       "      <td>NaN</td>\n",
       "      <td>NaN</td>\n",
       "      <td>NaN</td>\n",
       "      <td>0.1126/science.abb7331</td>\n",
       "      <td>...</td>\n",
       "      <td>CORD19</td>\n",
       "      <td>https://pages.semanticscholar.org/coronavirus-...</td>\n",
       "      <td>0</td>\n",
       "      <td>WHO</td>\n",
       "      <td>unk</td>\n",
       "      <td>NaN</td>\n",
       "      <td>NaN</td>\n",
       "      <td>#8463</td>\n",
       "      <td>NaN</td>\n",
       "      <td>NaN</td>\n",
       "    </tr>\n",
       "    <tr>\n",
       "      <th>1</th>\n",
       "      <td>1</td>\n",
       "      <td>[Ten hot issues of breast cancer under the nov...</td>\n",
       "      <td>NaN</td>\n",
       "      <td>2020.0</td>\n",
       "      <td>2.0</td>\n",
       "      <td>Chinese medical journal</td>\n",
       "      <td>100</td>\n",
       "      <td>0</td>\n",
       "      <td>e002</td>\n",
       "      <td>10.0376/cma.j.issn.0376-2491.2020.0002</td>\n",
       "      <td>...</td>\n",
       "      <td>CORD19</td>\n",
       "      <td>https://pages.semanticscholar.org/coronavirus-...</td>\n",
       "      <td>1</td>\n",
       "      <td>WHO</td>\n",
       "      <td>unk</td>\n",
       "      <td>NaN</td>\n",
       "      <td>3.003451e+09</td>\n",
       "      <td>#615</td>\n",
       "      <td>NaN</td>\n",
       "      <td>NaN</td>\n",
       "    </tr>\n",
       "    <tr>\n",
       "      <th>2</th>\n",
       "      <td>2</td>\n",
       "      <td>Another Piece of the Puzzle: Human Metapneumov...</td>\n",
       "      <td>BACKGROUND: Each winter respiratory viruses ac...</td>\n",
       "      <td>2008.0</td>\n",
       "      <td>12.0</td>\n",
       "      <td>Archives of Internal Medicine</td>\n",
       "      <td>NaN</td>\n",
       "      <td>NaN</td>\n",
       "      <td>NaN</td>\n",
       "      <td>10.1001/archinte.168.22.2489</td>\n",
       "      <td>...</td>\n",
       "      <td>CORD19</td>\n",
       "      <td>https://pages.semanticscholar.org/coronavirus-...</td>\n",
       "      <td>2</td>\n",
       "      <td>PMC</td>\n",
       "      <td>unk</td>\n",
       "      <td>NaN</td>\n",
       "      <td>NaN</td>\n",
       "      <td>NaN</td>\n",
       "      <td>NaN</td>\n",
       "      <td>NaN</td>\n",
       "    </tr>\n",
       "    <tr>\n",
       "      <th>3</th>\n",
       "      <td>3</td>\n",
       "      <td>Viral etiology of severe pneumonia among Kenya...</td>\n",
       "      <td>CONTEXT: Pneumonia is the leading cause of chi...</td>\n",
       "      <td>2010.0</td>\n",
       "      <td>5.0</td>\n",
       "      <td>JAMA</td>\n",
       "      <td>NaN</td>\n",
       "      <td>NaN</td>\n",
       "      <td>NaN</td>\n",
       "      <td>10.1001/jama.2010.675</td>\n",
       "      <td>...</td>\n",
       "      <td>CORD19</td>\n",
       "      <td>https://pages.semanticscholar.org/coronavirus-...</td>\n",
       "      <td>3</td>\n",
       "      <td>PMC</td>\n",
       "      <td>unk</td>\n",
       "      <td>NaN</td>\n",
       "      <td>NaN</td>\n",
       "      <td>NaN</td>\n",
       "      <td>NaN</td>\n",
       "      <td>NaN</td>\n",
       "    </tr>\n",
       "    <tr>\n",
       "      <th>4</th>\n",
       "      <td>4</td>\n",
       "      <td>Critically Ill Patients With Influenza A(H1N1)...</td>\n",
       "      <td>NaN</td>\n",
       "      <td>2014.0</td>\n",
       "      <td>4.0</td>\n",
       "      <td>JAMA</td>\n",
       "      <td>NaN</td>\n",
       "      <td>NaN</td>\n",
       "      <td>NaN</td>\n",
       "      <td>10.1001/jama.2014.2116</td>\n",
       "      <td>...</td>\n",
       "      <td>CORD19</td>\n",
       "      <td>https://pages.semanticscholar.org/coronavirus-...</td>\n",
       "      <td>4</td>\n",
       "      <td>PMC</td>\n",
       "      <td>unk</td>\n",
       "      <td>NaN</td>\n",
       "      <td>NaN</td>\n",
       "      <td>NaN</td>\n",
       "      <td>NaN</td>\n",
       "      <td>NaN</td>\n",
       "    </tr>\n",
       "  </tbody>\n",
       "</table>\n",
       "<p>5 rows × 25 columns</p>\n",
       "</div>"
      ],
      "text/plain": [
       "   pub_id                                              title  \\\n",
       "0       0  ‘A ticking time bomb’: Scientists worry about ...   \n",
       "1       1  [Ten hot issues of breast cancer under the nov...   \n",
       "2       2  Another Piece of the Puzzle: Human Metapneumov...   \n",
       "3       3  Viral etiology of severe pneumonia among Kenya...   \n",
       "4       4  Critically Ill Patients With Influenza A(H1N1)...   \n",
       "\n",
       "                                            abstract  publication_year  \\\n",
       "0  CAPE TOWN, SOUTH AFRICA—Late on Sunday evening...            2020.0   \n",
       "1                                                NaN            2020.0   \n",
       "2  BACKGROUND: Each winter respiratory viruses ac...            2008.0   \n",
       "3  CONTEXT: Pneumonia is the leading cause of chi...            2010.0   \n",
       "4                                                NaN            2014.0   \n",
       "\n",
       "   publication_month                        journal volume issue pages  \\\n",
       "0                NaN                        Science    NaN   NaN   NaN   \n",
       "1                2.0        Chinese medical journal    100     0  e002   \n",
       "2               12.0  Archives of Internal Medicine    NaN   NaN   NaN   \n",
       "3                5.0                           JAMA    NaN   NaN   NaN   \n",
       "4                4.0                           JAMA    NaN   NaN   NaN   \n",
       "\n",
       "                                      doi  ...  datasource  \\\n",
       "0                  0.1126/science.abb7331  ...      CORD19   \n",
       "1  10.0376/cma.j.issn.0376-2491.2020.0002  ...      CORD19   \n",
       "2            10.1001/archinte.168.22.2489  ...      CORD19   \n",
       "3                   10.1001/jama.2010.675  ...      CORD19   \n",
       "4                  10.1001/jama.2014.2116  ...      CORD19   \n",
       "\n",
       "                                                 url cord19_metadata_id  \\\n",
       "0  https://pages.semanticscholar.org/coronavirus-...                  0   \n",
       "1  https://pages.semanticscholar.org/coronavirus-...                  1   \n",
       "2  https://pages.semanticscholar.org/coronavirus-...                  2   \n",
       "3  https://pages.semanticscholar.org/coronavirus-...                  3   \n",
       "4  https://pages.semanticscholar.org/coronavirus-...                  4   \n",
       "\n",
       "  source  license full_text_file ms_academic_id  who_covidence  sha full_text  \n",
       "0    WHO      unk            NaN            NaN          #8463  NaN       NaN  \n",
       "1    WHO      unk            NaN   3.003451e+09           #615  NaN       NaN  \n",
       "2    PMC      unk            NaN            NaN            NaN  NaN       NaN  \n",
       "3    PMC      unk            NaN            NaN            NaN  NaN       NaN  \n",
       "4    PMC      unk            NaN            NaN            NaN  NaN       NaN  \n",
       "\n",
       "[5 rows x 25 columns]"
      ]
     },
     "execution_count": 9,
     "metadata": {},
     "output_type": "execute_result"
    }
   ],
   "source": [
    "df_cord19.head()"
   ]
  },
  {
   "cell_type": "markdown",
   "metadata": {},
   "source": [
    "#### Publication years"
   ]
  },
  {
   "cell_type": "code",
   "execution_count": 10,
   "metadata": {},
   "outputs": [],
   "source": [
    "import re\n",
    "\n",
    "def clean_year(s):\n",
    "    if pd.isna(s):\n",
    "        return np.nan\n",
    "    if not (s>1900):\n",
    "        return np.nan\n",
    "    elif s>2020:\n",
    "        return 2020\n",
    "    return s\n",
    "\n",
    "df_cord19[\"publication_year\"] = df_cord19[\"publication_year\"].apply(clean_year)"
   ]
  },
  {
   "cell_type": "code",
   "execution_count": 11,
   "metadata": {},
   "outputs": [
    {
     "data": {
      "text/plain": [
       "count    52074.000000\n",
       "mean      2011.070745\n",
       "std          8.750593\n",
       "min       1951.000000\n",
       "25%       2007.000000\n",
       "50%       2013.000000\n",
       "75%       2018.000000\n",
       "max       2020.000000\n",
       "Name: publication_year, dtype: float64"
      ]
     },
     "execution_count": 11,
     "metadata": {},
     "output_type": "execute_result"
    }
   ],
   "source": [
    "df_cord19.publication_year.describe()"
   ]
  },
  {
   "cell_type": "code",
   "execution_count": 12,
   "metadata": {},
   "outputs": [
    {
     "data": {
      "image/png": "[encoded data removed]",
      "text/plain": [
       "<Figure size 432x288 with 1 Axes>"
      ]
     },
     "metadata": {},
     "output_type": "display_data"
    }
   ],
   "source": [
    "sns.distplot(df_cord19.publication_year.tolist(), bins=70, kde=False)\n",
    "plt.xlabel(\"Publication year\", fontsize=15)\n",
    "plt.ylabel(\"Count\", fontsize=15)\n",
    "plt.tight_layout()\n",
    "plt.savefig(\"figures/publication_year_all.pdf\")"
   ]
  },
  {
   "cell_type": "code",
   "execution_count": 13,
   "metadata": {},
   "outputs": [
    {
     "data": {
      "image/png": "[encoded data removed]",
      "text/plain": [
       "<Figure size 432x288 with 1 Axes>"
      ]
     },
     "metadata": {},
     "output_type": "display_data"
    }
   ],
   "source": [
    "sns.distplot(df_cord19[(pd.notnull(df_cord19.publication_year)) & (df_cord19.publication_year > 2000)].publication_year.tolist(), bins=20, hist=True, kde=False)\n",
    "plt.xlabel(\"Publication year\", fontsize=15)\n",
    "plt.ylabel(\"Count\", fontsize=15)\n",
    "plt.tight_layout()\n",
    "plt.savefig(\"figures/publication_year_2000.pdf\")"
   ]
  },
  {
   "cell_type": "code",
   "execution_count": 14,
   "metadata": {},
   "outputs": [
    {
     "data": {
      "text/plain": [
       "publication_year  publication_month\n",
       "2019.0            1.0                   263\n",
       "                  2.0                   293\n",
       "                  3.0                   300\n",
       "                  4.0                   317\n",
       "                  5.0                   271\n",
       "                  6.0                   278\n",
       "                  7.0                   256\n",
       "                  8.0                   249\n",
       "                  9.0                   237\n",
       "                  10.0                  287\n",
       "                  11.0                  267\n",
       "                  12.0                  400\n",
       "2020.0            1.0                   535\n",
       "                  2.0                   956\n",
       "                  3.0                  2212\n",
       "                  4.0                  2063\n",
       "                  5.0                   118\n",
       "                  6.0                    78\n",
       "                  7.0                    26\n",
       "                  8.0                    13\n",
       "                  9.0                     1\n",
       "                  10.0                    1\n",
       "                  11.0                    1\n",
       "                  12.0                  161\n",
       "Name: pub_id, dtype: int64"
      ]
     },
     "execution_count": 14,
     "metadata": {},
     "output_type": "execute_result"
    }
   ],
   "source": [
    "# recent uptake\n",
    "df_cord19[df_cord19.publication_year>2018].groupby([(df_cord19.publication_year),(df_cord19.publication_month)]).count().pub_id"
   ]
  },
  {
   "cell_type": "markdown",
   "metadata": {},
   "source": [
    "#### Null values"
   ]
  },
  {
   "cell_type": "code",
   "execution_count": 15,
   "metadata": {},
   "outputs": [
    {
     "data": {
      "text/plain": [
       "(52079, 25)"
      ]
     },
     "execution_count": 15,
     "metadata": {},
     "output_type": "execute_result"
    }
   ],
   "source": [
    "df_cord19.shape"
   ]
  },
  {
   "cell_type": "code",
   "execution_count": 16,
   "metadata": {},
   "outputs": [],
   "source": [
    "df_cord19[\"abstract_length\"] = df_cord19.abstract.str.len()"
   ]
  },
  {
   "cell_type": "code",
   "execution_count": 17,
   "metadata": {},
   "outputs": [
    {
     "data": {
      "text/plain": [
       "(42766, 26)"
      ]
     },
     "execution_count": 17,
     "metadata": {},
     "output_type": "execute_result"
    }
   ],
   "source": [
    "df_cord19[df_cord19.abstract_length>0].shape"
   ]
  },
  {
   "cell_type": "code",
   "execution_count": 18,
   "metadata": {},
   "outputs": [
    {
     "data": {
      "text/plain": [
       "42766"
      ]
     },
     "execution_count": 18,
     "metadata": {},
     "output_type": "execute_result"
    }
   ],
   "source": [
    "sum(pd.notnull(df_cord19.abstract))"
   ]
  },
  {
   "cell_type": "code",
   "execution_count": 19,
   "metadata": {},
   "outputs": [
    {
     "data": {
      "text/plain": [
       "49060"
      ]
     },
     "execution_count": 19,
     "metadata": {},
     "output_type": "execute_result"
    }
   ],
   "source": [
    "sum(pd.notnull(df_cord19.doi))"
   ]
  },
  {
   "cell_type": "code",
   "execution_count": 20,
   "metadata": {},
   "outputs": [
    {
     "data": {
      "text/plain": [
       "44304"
      ]
     },
     "execution_count": 20,
     "metadata": {},
     "output_type": "execute_result"
    }
   ],
   "source": [
    "sum(pd.notnull(df_cord19.pmcid))"
   ]
  },
  {
   "cell_type": "code",
   "execution_count": 21,
   "metadata": {},
   "outputs": [
    {
     "data": {
      "text/plain": [
       "39038"
      ]
     },
     "execution_count": 21,
     "metadata": {},
     "output_type": "execute_result"
    }
   ],
   "source": [
    "sum(pd.notnull(df_cord19.pmid))"
   ]
  },
  {
   "cell_type": "code",
   "execution_count": 22,
   "metadata": {},
   "outputs": [
    {
     "data": {
      "text/plain": [
       "48405"
      ]
     },
     "execution_count": 22,
     "metadata": {},
     "output_type": "execute_result"
    }
   ],
   "source": [
    "sum(pd.notnull(df_cord19.journal))"
   ]
  },
  {
   "cell_type": "markdown",
   "metadata": {},
   "source": [
    "#### Journals"
   ]
  },
  {
   "cell_type": "code",
   "execution_count": 23,
   "metadata": {},
   "outputs": [
    {
     "data": {
      "text/plain": [
       "Journal of Virology                                1750\n",
       "PLoS One                                           1558\n",
       "medRxiv                                            1221\n",
       "Virology                                            868\n",
       "Emerg Infect Dis                                    741\n",
       "The Lancet                                          632\n",
       "Viruses                                             568\n",
       "Arch Virol                                          501\n",
       "Virus Research                                      500\n",
       "Vaccine                                             484\n",
       "Sci Rep                                             480\n",
       "Veterinary Microbiology                             443\n",
       "Journal of Virological Methods                      393\n",
       "Journal of Clinical Virology                        385\n",
       "The Lancet Infectious Diseases                      373\n",
       "PLoS Pathog                                         357\n",
       "Virol J                                             356\n",
       "Antiviral Research                                  353\n",
       "bioRxiv                                             339\n",
       "Proceedings of the National Academy of Sciences     336\n",
       "Journal of Clinical Microbiology                    335\n",
       "International Journal of Infectious Diseases        267\n",
       "Clin Infect Dis                                     255\n",
       "BMC Infect Dis                                      245\n",
       "American Journal of Infection Control               240\n",
       "J Infect Dis                                        223\n",
       "Front Immunol                                       205\n",
       "Front Microbiol                                     195\n",
       "Veterinary Immunology and Immunopathology           187\n",
       "Nucleic Acids Res                                   182\n",
       "Name: journal, dtype: int64"
      ]
     },
     "execution_count": 23,
     "metadata": {},
     "output_type": "execute_result"
    }
   ],
   "source": [
    "df_cord19.journal.value_counts()[:30]"
   ]
  },
  {
   "cell_type": "code",
   "execution_count": 24,
   "metadata": {},
   "outputs": [
    {
     "data": {
      "image/png": "[encoded data removed]",
      "text/plain": [
       "<Figure size 432x288 with 1 Axes>"
      ]
     },
     "metadata": {},
     "output_type": "display_data"
    }
   ],
   "source": [
    "df_sub = df_cord19[df_cord19.journal.isin(df_cord19.journal.value_counts()[:20].index.tolist())]\n",
    "b = sns.countplot(y=\"journal\", data=df_sub, order=df_sub['journal'].value_counts().index)\n",
    "#b.axes.set_title(\"Title\",fontsize=50)\n",
    "b.set_xlabel(\"Count\",fontsize=15)\n",
    "b.set_ylabel(\"Journal\",fontsize=15)\n",
    "b.tick_params(labelsize=12)\n",
    "plt.tight_layout()\n",
    "plt.savefig(\"figures/journals.pdf\")"
   ]
  },
  {
   "cell_type": "markdown",
   "metadata": {},
   "source": [
    "#### Sources and licenses"
   ]
  },
  {
   "cell_type": "code",
   "execution_count": 25,
   "metadata": {},
   "outputs": [
    {
     "data": {
      "image/png": "[encoded data removed]",
      "text/plain": [
       "<Figure size 432x288 with 1 Axes>"
      ]
     },
     "metadata": {},
     "output_type": "display_data"
    }
   ],
   "source": [
    "# source\n",
    "df_sub = df_cord19[df_cord19.source.isin(df_cord19.source.value_counts()[:30].index.tolist())]\n",
    "b = sns.countplot(y=\"source\", data=df_sub, order=df_sub['source'].value_counts().index)\n",
    "#b.axes.set_title(\"Title\",fontsize=50)\n",
    "b.set_xlabel(\"Count\",fontsize=15)\n",
    "b.set_ylabel(\"Source\",fontsize=15)\n",
    "b.tick_params(labelsize=12)\n",
    "plt.tight_layout()\n",
    "plt.savefig(\"figures/sources.pdf\")"
   ]
  },
  {
   "cell_type": "code",
   "execution_count": 26,
   "metadata": {},
   "outputs": [
    {
     "data": {
      "image/png": "[encoded data removed]",
      "text/plain": [
       "<Figure size 432x288 with 1 Axes>"
      ]
     },
     "metadata": {},
     "output_type": "display_data"
    }
   ],
   "source": [
    "# license\n",
    "df_sub = df_cord19[df_cord19.license.isin(df_cord19.license.value_counts()[:30].index.tolist())]\n",
    "b = sns.countplot(y=\"license\", data=df_sub, order=df_sub['license'].value_counts().index)\n",
    "#b.axes.set_title(\"Title\",fontsize=50)\n",
    "b.set_xlabel(\"Count\",fontsize=15)\n",
    "b.set_ylabel(\"License\",fontsize=15)\n",
    "b.tick_params(labelsize=12)\n",
    "plt.tight_layout()\n",
    "plt.savefig(\"figures/licenses.pdf\")"
   ]
  },
  {
   "cell_type": "markdown",
   "metadata": {},
   "source": [
    "#### Full text availability"
   ]
  },
  {
   "cell_type": "code",
   "execution_count": 27,
   "metadata": {},
   "outputs": [],
   "source": [
    "df_cord19[\"has_full_text\"] = pd.notnull(df_cord19.full_text)"
   ]
  },
  {
   "cell_type": "code",
   "execution_count": 28,
   "metadata": {},
   "outputs": [
    {
     "data": {
      "image/png": "[encoded data removed]",
      "text/plain": [
       "<Figure size 432x288 with 1 Axes>"
      ]
     },
     "metadata": {},
     "output_type": "display_data"
    }
   ],
   "source": [
    "# full text x source\n",
    "df_plot = df_cord19.groupby(['has_full_text', 'source']).size().reset_index().pivot(columns='has_full_text', index='source', values=0)\n",
    "df_plot.plot(kind='bar', stacked=True)\n",
    "plt.xlabel(\"Source\", fontsize=15)\n",
    "plt.ylabel(\"Count\", fontsize=15)\n",
    "plt.tight_layout()\n",
    "plt.savefig(\"figures/source_ft.pdf\")"
   ]
  },
  {
   "cell_type": "code",
   "execution_count": 29,
   "metadata": {},
   "outputs": [
    {
     "data": {
      "image/png": "[encoded data removed]",
      "text/plain": [
       "<Figure size 432x288 with 1 Axes>"
      ]
     },
     "metadata": {},
     "output_type": "display_data"
    }
   ],
   "source": [
    "# full text x journal\n",
    "df_sub = df_cord19[df_cord19.journal.isin(df_cord19.journal.value_counts()[:20].index.tolist())]\n",
    "df_plot = df_sub.groupby(['has_full_text', 'journal']).size().reset_index().pivot(columns='has_full_text', index='journal', values=0)\n",
    "df_plot.plot(kind='bar', stacked=True)\n",
    "plt.xlabel(\"Source\", fontsize=15)\n",
    "plt.ylabel(\"Count\", fontsize=15)\n",
    "plt.tight_layout()\n",
    "plt.savefig(\"figures/journal_ft.pdf\")"
   ]
  },
  {
   "cell_type": "code",
   "execution_count": 30,
   "metadata": {},
   "outputs": [
    {
     "data": {
      "image/png": "[encoded data removed]",
      "text/plain": [
       "<Figure size 432x288 with 1 Axes>"
      ]
     },
     "metadata": {},
     "output_type": "display_data"
    }
   ],
   "source": [
    "# full text x year\n",
    "df_sub = df_cord19[(pd.notnull(df_cord19.publication_year)) & (df_cord19.publication_year > 2000)]\n",
    "df_plot = df_sub.groupby(['has_full_text', 'publication_year']).size().reset_index().pivot(columns='has_full_text', index='publication_year', values=0)\n",
    "df_plot.plot(kind='bar', stacked=True)\n",
    "plt.xticks(np.arange(20), [int(x) for x in df_plot.index.values], rotation=45)\n",
    "plt.xlabel(\"Publication year\", fontsize=15)\n",
    "plt.ylabel(\"Count\", fontsize=15)\n",
    "plt.tight_layout()\n",
    "plt.savefig(\"figures/year_ft.pdf\")"
   ]
  },
  {
   "cell_type": "code",
   "execution_count": 31,
   "metadata": {},
   "outputs": [
    {
     "data": {
      "image/png": "[encoded data removed]",
      "text/plain": [
       "<Figure size 432x288 with 1 Axes>"
      ]
     },
     "metadata": {},
     "output_type": "display_data"
    }
   ],
   "source": [
    "# full text file\n",
    "\n",
    "df_sub = df_cord19[df_cord19.full_text_file.isin(df_cord19.full_text_file.value_counts()[:20].index.tolist())]\n",
    "b = sns.countplot(y=\"full_text_file\", data=df_sub, order=df_sub['full_text_file'].value_counts().index)\n",
    "#b.axes.set_title(\"Title\",fontsize=50)\n",
    "b.set_xlabel(\"Count\",fontsize=15)\n",
    "b.set_ylabel(\"Fulltext file\",fontsize=15)\n",
    "b.tick_params(labelsize=12)\n",
    "plt.tight_layout()\n",
    "plt.savefig(\"figures/license_ft.pdf\")"
   ]
  },
  {
   "cell_type": "markdown",
   "metadata": {},
   "source": [
    "## Dimensions"
   ]
  },
  {
   "cell_type": "code",
   "execution_count": 32,
   "metadata": {},
   "outputs": [],
   "source": [
    "# load Dimensions data (you will need to download it on your own!)\n",
    "\n",
    "directory_name = \"datasets_output/json_dimensions_cwts\"\n",
    "\n",
    "all_dimensions = list()\n",
    "for root, dirs, files in os.walk(directory_name):\n",
    "    for file in files:\n",
    "        if \".json\" in file:\n",
    "            all_data = codecs.open(os.path.join(root,file)).read()\n",
    "            for record in all_data.split(\"\\n\"):\n",
    "                if record:\n",
    "                    all_dimensions.append(json.loads(record))"
   ]
  },
  {
   "cell_type": "code",
   "execution_count": 33,
   "metadata": {},
   "outputs": [],
   "source": [
    "df_dimensions = pd.DataFrame.from_dict({\n",
    "    \"id\":[r[\"id\"] for r in all_dimensions],\n",
    "    \"publication_type\":[r[\"publication_type\"] for r in all_dimensions],\n",
    "    \"doi\":[r[\"doi\"] for r in all_dimensions],\n",
    "    \"pmid\":[r[\"pmid\"] for r in all_dimensions],\n",
    "    \"issn\":[r[\"journal\"][\"issn\"] for r in all_dimensions],\n",
    "    \"times_cited\":[r[\"times_cited\"] for r in all_dimensions],\n",
    "    \"relative_citation_ratio\":[r[\"relative_citation_ratio\"] for r in all_dimensions],\n",
    "    \"for_top\":[r[\"for\"][0][\"first_level\"][\"name\"] if len(r[\"for\"])>0 else \"\" for r in all_dimensions],\n",
    "    \"for_bottom\":[r[\"for\"][0][\"second_level\"][\"name\"] if len(r[\"for\"])>0 else \"\" for r in all_dimensions],\n",
    "    \"open_access_versions\":[r[\"open_access_versions\"] for r in all_dimensions]\n",
    "})"
   ]
  },
  {
   "cell_type": "code",
   "execution_count": 34,
   "metadata": {},
   "outputs": [
    {
     "data": {
      "text/html": [
       "<div>\n",
       "<style scoped>\n",
       "    .dataframe tbody tr th:only-of-type {\n",
       "        vertical-align: middle;\n",
       "    }\n",
       "\n",
       "    .dataframe tbody tr th {\n",
       "        vertical-align: top;\n",
       "    }\n",
       "\n",
       "    .dataframe thead th {\n",
       "        text-align: right;\n",
       "    }\n",
       "</style>\n",
       "<table border=\"1\" class=\"dataframe\">\n",
       "  <thead>\n",
       "    <tr style=\"text-align: right;\">\n",
       "      <th></th>\n",
       "      <th>id</th>\n",
       "      <th>publication_type</th>\n",
       "      <th>doi</th>\n",
       "      <th>pmid</th>\n",
       "      <th>issn</th>\n",
       "      <th>times_cited</th>\n",
       "      <th>relative_citation_ratio</th>\n",
       "      <th>for_top</th>\n",
       "      <th>for_bottom</th>\n",
       "      <th>open_access_versions</th>\n",
       "    </tr>\n",
       "  </thead>\n",
       "  <tbody>\n",
       "    <tr>\n",
       "      <th>0</th>\n",
       "      <td>pub.1117509804</td>\n",
       "      <td>article</td>\n",
       "      <td>10.1128/jvi.00490-19</td>\n",
       "      <td>31243130</td>\n",
       "      <td>0022-538X</td>\n",
       "      <td>0</td>\n",
       "      <td>NaN</td>\n",
       "      <td>Medical and Health Sciences</td>\n",
       "      <td>Medical Microbiology</td>\n",
       "      <td>[]</td>\n",
       "    </tr>\n",
       "    <tr>\n",
       "      <th>1</th>\n",
       "      <td>pub.1117412644</td>\n",
       "      <td>article</td>\n",
       "      <td>10.1128/jvi.00714-19</td>\n",
       "      <td>31243124</td>\n",
       "      <td>0022-538X</td>\n",
       "      <td>0</td>\n",
       "      <td>NaN</td>\n",
       "      <td>Biological Sciences</td>\n",
       "      <td>Genetics</td>\n",
       "      <td>[]</td>\n",
       "    </tr>\n",
       "    <tr>\n",
       "      <th>2</th>\n",
       "      <td>pub.1117412640</td>\n",
       "      <td>article</td>\n",
       "      <td>10.1128/jvi.00240-19</td>\n",
       "      <td>31243125</td>\n",
       "      <td>0022-538X</td>\n",
       "      <td>3</td>\n",
       "      <td>NaN</td>\n",
       "      <td>Medical and Health Sciences</td>\n",
       "      <td>Neurosciences</td>\n",
       "      <td>[]</td>\n",
       "    </tr>\n",
       "    <tr>\n",
       "      <th>3</th>\n",
       "      <td>pub.1117509802</td>\n",
       "      <td>article</td>\n",
       "      <td>10.1128/jvi.00564-19</td>\n",
       "      <td>31243128</td>\n",
       "      <td>0022-538X</td>\n",
       "      <td>5</td>\n",
       "      <td>NaN</td>\n",
       "      <td>Biological Sciences</td>\n",
       "      <td>Genetics</td>\n",
       "      <td>[]</td>\n",
       "    </tr>\n",
       "    <tr>\n",
       "      <th>4</th>\n",
       "      <td>pub.1117293115</td>\n",
       "      <td>article</td>\n",
       "      <td>10.1128/jvi.00505-19</td>\n",
       "      <td>31217243</td>\n",
       "      <td>0022-538X</td>\n",
       "      <td>1</td>\n",
       "      <td>NaN</td>\n",
       "      <td>Medical and Health Sciences</td>\n",
       "      <td>Medical Microbiology</td>\n",
       "      <td>[]</td>\n",
       "    </tr>\n",
       "  </tbody>\n",
       "</table>\n",
       "</div>"
      ],
      "text/plain": [
       "               id publication_type                   doi      pmid       issn  \\\n",
       "0  pub.1117509804          article  10.1128/jvi.00490-19  31243130  0022-538X   \n",
       "1  pub.1117412644          article  10.1128/jvi.00714-19  31243124  0022-538X   \n",
       "2  pub.1117412640          article  10.1128/jvi.00240-19  31243125  0022-538X   \n",
       "3  pub.1117509802          article  10.1128/jvi.00564-19  31243128  0022-538X   \n",
       "4  pub.1117293115          article  10.1128/jvi.00505-19  31217243  0022-538X   \n",
       "\n",
       "   times_cited  relative_citation_ratio                      for_top  \\\n",
       "0            0                      NaN  Medical and Health Sciences   \n",
       "1            0                      NaN          Biological Sciences   \n",
       "2            3                      NaN  Medical and Health Sciences   \n",
       "3            5                      NaN          Biological Sciences   \n",
       "4            1                      NaN  Medical and Health Sciences   \n",
       "\n",
       "             for_bottom open_access_versions  \n",
       "0  Medical Microbiology                   []  \n",
       "1              Genetics                   []  \n",
       "2         Neurosciences                   []  \n",
       "3              Genetics                   []  \n",
       "4  Medical Microbiology                   []  "
      ]
     },
     "execution_count": 34,
     "metadata": {},
     "output_type": "execute_result"
    }
   ],
   "source": [
    "df_dimensions.head()"
   ]
  },
  {
   "cell_type": "code",
   "execution_count": 35,
   "metadata": {},
   "outputs": [],
   "source": [
    "df_dimensions.pmid = df_dimensions.pmid.astype(float)"
   ]
  },
  {
   "cell_type": "code",
   "execution_count": 36,
   "metadata": {},
   "outputs": [
    {
     "data": {
      "text/plain": [
       "(59457, 10)"
      ]
     },
     "execution_count": 36,
     "metadata": {},
     "output_type": "execute_result"
    }
   ],
   "source": [
    "df_dimensions.shape"
   ]
  },
  {
   "cell_type": "code",
   "execution_count": 37,
   "metadata": {},
   "outputs": [],
   "source": [
    "df_joined_doi = df_cord19[pd.notnull(df_cord19.doi)].merge(df_dimensions[pd.notnull(df_dimensions.doi)], how=\"inner\", left_on=\"doi\", right_on=\"doi\")"
   ]
  },
  {
   "cell_type": "code",
   "execution_count": 38,
   "metadata": {},
   "outputs": [
    {
     "data": {
      "text/plain": [
       "(49278, 36)"
      ]
     },
     "execution_count": 38,
     "metadata": {},
     "output_type": "execute_result"
    }
   ],
   "source": [
    "df_joined_doi.shape"
   ]
  },
  {
   "cell_type": "code",
   "execution_count": 39,
   "metadata": {},
   "outputs": [],
   "source": [
    "df_joined_pmid = df_cord19[pd.isnull(df_cord19.doi) & pd.notnull(df_cord19.pmid)].merge(df_dimensions[pd.isnull(df_dimensions.doi) & pd.notnull(df_dimensions.pmid)], how=\"inner\", left_on=\"pmid\", right_on=\"pmid\")"
   ]
  },
  {
   "cell_type": "code",
   "execution_count": 40,
   "metadata": {},
   "outputs": [
    {
     "data": {
      "text/plain": [
       "(975, 36)"
      ]
     },
     "execution_count": 40,
     "metadata": {},
     "output_type": "execute_result"
    }
   ],
   "source": [
    "df_joined_pmid.shape"
   ]
  },
  {
   "cell_type": "code",
   "execution_count": 41,
   "metadata": {},
   "outputs": [],
   "source": [
    "df_joined = pd.concat([df_joined_doi,df_joined_pmid])"
   ]
  },
  {
   "cell_type": "code",
   "execution_count": 42,
   "metadata": {},
   "outputs": [],
   "source": [
    "# nearly all publications from CORD-19 are in Dimensions"
   ]
  },
  {
   "cell_type": "code",
   "execution_count": 43,
   "metadata": {},
   "outputs": [
    {
     "data": {
      "text/plain": [
       "(50253, 39)"
      ]
     },
     "execution_count": 43,
     "metadata": {},
     "output_type": "execute_result"
    }
   ],
   "source": [
    "df_joined.shape"
   ]
  },
  {
   "cell_type": "code",
   "execution_count": 44,
   "metadata": {},
   "outputs": [
    {
     "data": {
      "text/plain": [
       "(52079, 27)"
      ]
     },
     "execution_count": 44,
     "metadata": {},
     "output_type": "execute_result"
    }
   ],
   "source": [
    "df_cord19.shape"
   ]
  },
  {
   "cell_type": "code",
   "execution_count": 45,
   "metadata": {},
   "outputs": [
    {
     "data": {
      "image/png": "[encoded data removed]",
      "text/plain": [
       "<Figure size 432x288 with 1 Axes>"
      ]
     },
     "metadata": {},
     "output_type": "display_data"
    }
   ],
   "source": [
    "# publication type\n",
    "\n",
    "df_sub = df_joined[df_joined.publication_type.isin(df_joined.publication_type.value_counts()[:10].index.tolist())]\n",
    "b = sns.countplot(y=\"publication_type\", data=df_sub, order=df_sub['publication_type'].value_counts().index)\n",
    "#b.axes.set_title(\"Title\",fontsize=50)\n",
    "b.set_xlabel(\"Count\",fontsize=15)\n",
    "b.set_ylabel(\"Publication type\",fontsize=15)\n",
    "b.tick_params(labelsize=12)\n",
    "plt.tight_layout()\n",
    "plt.savefig(\"figures/dim_pub_type.pdf\")"
   ]
  },
  {
   "cell_type": "markdown",
   "metadata": {},
   "source": [
    "#### Citation counts"
   ]
  },
  {
   "cell_type": "code",
   "execution_count": 46,
   "metadata": {},
   "outputs": [
    {
     "data": {
      "image/png": "[encoded data removed]",
      "text/plain": [
       "<Figure size 432x288 with 1 Axes>"
      ]
     },
     "metadata": {},
     "output_type": "display_data"
    }
   ],
   "source": [
    "# scatter of citations vs time of publication\n",
    "\n",
    "sns.scatterplot(df_joined.publication_year.to_list(),df_joined.times_cited.to_list())\n",
    "plt.xlabel(\"Year\", fontsize=15)\n",
    "plt.ylabel(\"Count\", fontsize=15)\n",
    "plt.tight_layout()\n",
    "plt.savefig(\"figures/dim_citations_year.pdf\")"
   ]
  },
  {
   "cell_type": "code",
   "execution_count": 47,
   "metadata": {},
   "outputs": [
    {
     "data": {
      "text/html": [
       "<div>\n",
       "<style scoped>\n",
       "    .dataframe tbody tr th:only-of-type {\n",
       "        vertical-align: middle;\n",
       "    }\n",
       "\n",
       "    .dataframe tbody tr th {\n",
       "        vertical-align: top;\n",
       "    }\n",
       "\n",
       "    .dataframe thead th {\n",
       "        text-align: right;\n",
       "    }\n",
       "</style>\n",
       "<table border=\"1\" class=\"dataframe\">\n",
       "  <thead>\n",
       "    <tr style=\"text-align: right;\">\n",
       "      <th></th>\n",
       "      <th>title</th>\n",
       "      <th>times_cited</th>\n",
       "      <th>relative_citation_ratio</th>\n",
       "      <th>journal</th>\n",
       "      <th>publication_year</th>\n",
       "      <th>doi</th>\n",
       "    </tr>\n",
       "  </thead>\n",
       "  <tbody>\n",
       "    <tr>\n",
       "      <th>28975</th>\n",
       "      <td>Infectious Diseases Society of America/America...</td>\n",
       "      <td>3878</td>\n",
       "      <td>108.91</td>\n",
       "      <td>Clin Infect Dis</td>\n",
       "      <td>2007.0</td>\n",
       "      <td>10.1086/511159</td>\n",
       "    </tr>\n",
       "    <tr>\n",
       "      <th>22332</th>\n",
       "      <td>Epidemiology and causes of preterm birth</td>\n",
       "      <td>3572</td>\n",
       "      <td>118.32</td>\n",
       "      <td>The Lancet</td>\n",
       "      <td>2008.0</td>\n",
       "      <td>10.1016/s0140-6736(08)60074-4</td>\n",
       "    </tr>\n",
       "    <tr>\n",
       "      <th>26274</th>\n",
       "      <td>Global trends in emerging infectious diseases</td>\n",
       "      <td>2832</td>\n",
       "      <td>70.32</td>\n",
       "      <td>Nature</td>\n",
       "      <td>2008.0</td>\n",
       "      <td>10.1038/nature06536</td>\n",
       "    </tr>\n",
       "    <tr>\n",
       "      <th>28608</th>\n",
       "      <td>Guidelines for the use and interpretation of a...</td>\n",
       "      <td>2684</td>\n",
       "      <td>207.35</td>\n",
       "      <td>Autophagy</td>\n",
       "      <td>2016.0</td>\n",
       "      <td>10.1080/15548627.2015.1100356</td>\n",
       "    </tr>\n",
       "    <tr>\n",
       "      <th>21933</th>\n",
       "      <td>Biology of Natural Killer Cells</td>\n",
       "      <td>2361</td>\n",
       "      <td>47.85</td>\n",
       "      <td>Advances in Immunology</td>\n",
       "      <td>1989.0</td>\n",
       "      <td>10.1016/s0065-2776(08)60664-1</td>\n",
       "    </tr>\n",
       "    <tr>\n",
       "      <th>26552</th>\n",
       "      <td>Knocking down barriers: advances in siRNA deli...</td>\n",
       "      <td>1909</td>\n",
       "      <td>47.46</td>\n",
       "      <td>Nat Rev Drug Discov</td>\n",
       "      <td>2009.0</td>\n",
       "      <td>10.1038/nrd2742</td>\n",
       "    </tr>\n",
       "    <tr>\n",
       "      <th>13677</th>\n",
       "      <td>Antimicrobial activity of flavonoids</td>\n",
       "      <td>1708</td>\n",
       "      <td>35.02</td>\n",
       "      <td>International Journal of Antimicrobial Agents</td>\n",
       "      <td>2005.0</td>\n",
       "      <td>10.1016/j.ijantimicag.2005.09.002</td>\n",
       "    </tr>\n",
       "    <tr>\n",
       "      <th>22119</th>\n",
       "      <td>Coronavirus as a possible cause of severe acut...</td>\n",
       "      <td>1571</td>\n",
       "      <td>34.25</td>\n",
       "      <td>The Lancet</td>\n",
       "      <td>2003.0</td>\n",
       "      <td>10.1016/s0140-6736(03)13077-2</td>\n",
       "    </tr>\n",
       "    <tr>\n",
       "      <th>27840</th>\n",
       "      <td>Isolation of a novel coronavirus from a man wi...</td>\n",
       "      <td>1556</td>\n",
       "      <td>56.64</td>\n",
       "      <td>N Engl J Med</td>\n",
       "      <td>2012.0</td>\n",
       "      <td>10.1056/nejmoa1211721</td>\n",
       "    </tr>\n",
       "    <tr>\n",
       "      <th>9200</th>\n",
       "      <td>2007 Guideline for Isolation Precautions: Prev...</td>\n",
       "      <td>1516</td>\n",
       "      <td>36.68</td>\n",
       "      <td>American Journal of Infection Control</td>\n",
       "      <td>2007.0</td>\n",
       "      <td>10.1016/j.ajic.2007.10.007</td>\n",
       "    </tr>\n",
       "    <tr>\n",
       "      <th>25918</th>\n",
       "      <td>A newly discovered human pneumovirus isolated ...</td>\n",
       "      <td>1424</td>\n",
       "      <td>32.79</td>\n",
       "      <td>Nat Med</td>\n",
       "      <td>2001.0</td>\n",
       "      <td>10.1038/89098</td>\n",
       "    </tr>\n",
       "    <tr>\n",
       "      <th>17036</th>\n",
       "      <td>Antioxidant activity and phenolic compounds of...</td>\n",
       "      <td>1389</td>\n",
       "      <td>24.86</td>\n",
       "      <td>Life Sciences</td>\n",
       "      <td>2004.0</td>\n",
       "      <td>10.1016/j.lfs.2003.09.047</td>\n",
       "    </tr>\n",
       "    <tr>\n",
       "      <th>5536</th>\n",
       "      <td>High serum procalcitonin concentrations in pat...</td>\n",
       "      <td>1350</td>\n",
       "      <td>40.80</td>\n",
       "      <td>The Lancet</td>\n",
       "      <td>1993.0</td>\n",
       "      <td>10.1016/0140-6736(93)90277-n</td>\n",
       "    </tr>\n",
       "    <tr>\n",
       "      <th>30292</th>\n",
       "      <td>Reference sequence (RefSeq) database at NCBI: ...</td>\n",
       "      <td>1344</td>\n",
       "      <td>78.84</td>\n",
       "      <td>Nucleic Acids Res</td>\n",
       "      <td>2016.0</td>\n",
       "      <td>10.1093/nar/gkv1189</td>\n",
       "    </tr>\n",
       "    <tr>\n",
       "      <th>18246</th>\n",
       "      <td>The structure and dynamics of multilayer networks</td>\n",
       "      <td>1337</td>\n",
       "      <td>NaN</td>\n",
       "      <td>Physics Reports</td>\n",
       "      <td>2014.0</td>\n",
       "      <td>10.1016/j.physrep.2014.07.001</td>\n",
       "    </tr>\n",
       "    <tr>\n",
       "      <th>22556</th>\n",
       "      <td>Clinical features of patients infected with 20...</td>\n",
       "      <td>1307</td>\n",
       "      <td>NaN</td>\n",
       "      <td>The Lancet</td>\n",
       "      <td>2020.0</td>\n",
       "      <td>10.1016/s0140-6736(20)30183-5</td>\n",
       "    </tr>\n",
       "    <tr>\n",
       "      <th>23820</th>\n",
       "      <td>A knowledge base for predicting protein locali...</td>\n",
       "      <td>1262</td>\n",
       "      <td>29.53</td>\n",
       "      <td>Genomics</td>\n",
       "      <td>1992.0</td>\n",
       "      <td>10.1016/s0888-7543(05)80111-9</td>\n",
       "    </tr>\n",
       "    <tr>\n",
       "      <th>26599</th>\n",
       "      <td>Interferon-inducible antiviral effectors</td>\n",
       "      <td>1253</td>\n",
       "      <td>29.31</td>\n",
       "      <td>Nature Reviews Immunology</td>\n",
       "      <td>2008.0</td>\n",
       "      <td>10.1038/nri2314</td>\n",
       "    </tr>\n",
       "    <tr>\n",
       "      <th>6196</th>\n",
       "      <td>Molecular profile of reactive astrocytes—Impli...</td>\n",
       "      <td>1200</td>\n",
       "      <td>32.76</td>\n",
       "      <td>Neuroscience</td>\n",
       "      <td>1993.0</td>\n",
       "      <td>10.1016/0306-4522(93)90380-x</td>\n",
       "    </tr>\n",
       "    <tr>\n",
       "      <th>28823</th>\n",
       "      <td>Practice Guidelines for the Management of Comm...</td>\n",
       "      <td>1183</td>\n",
       "      <td>34.91</td>\n",
       "      <td>Clin Infect Dis</td>\n",
       "      <td>2000.0</td>\n",
       "      <td>10.1086/313954</td>\n",
       "    </tr>\n",
       "  </tbody>\n",
       "</table>\n",
       "</div>"
      ],
      "text/plain": [
       "                                                   title  times_cited  \\\n",
       "28975  Infectious Diseases Society of America/America...         3878   \n",
       "22332           Epidemiology and causes of preterm birth         3572   \n",
       "26274      Global trends in emerging infectious diseases         2832   \n",
       "28608  Guidelines for the use and interpretation of a...         2684   \n",
       "21933                    Biology of Natural Killer Cells         2361   \n",
       "26552  Knocking down barriers: advances in siRNA deli...         1909   \n",
       "13677               Antimicrobial activity of flavonoids         1708   \n",
       "22119  Coronavirus as a possible cause of severe acut...         1571   \n",
       "27840  Isolation of a novel coronavirus from a man wi...         1556   \n",
       "9200   2007 Guideline for Isolation Precautions: Prev...         1516   \n",
       "25918  A newly discovered human pneumovirus isolated ...         1424   \n",
       "17036  Antioxidant activity and phenolic compounds of...         1389   \n",
       "5536   High serum procalcitonin concentrations in pat...         1350   \n",
       "30292  Reference sequence (RefSeq) database at NCBI: ...         1344   \n",
       "18246  The structure and dynamics of multilayer networks         1337   \n",
       "22556  Clinical features of patients infected with 20...         1307   \n",
       "23820  A knowledge base for predicting protein locali...         1262   \n",
       "26599           Interferon-inducible antiviral effectors         1253   \n",
       "6196   Molecular profile of reactive astrocytes—Impli...         1200   \n",
       "28823  Practice Guidelines for the Management of Comm...         1183   \n",
       "\n",
       "       relative_citation_ratio                                        journal  \\\n",
       "28975                   108.91                                Clin Infect Dis   \n",
       "22332                   118.32                                     The Lancet   \n",
       "26274                    70.32                                         Nature   \n",
       "28608                   207.35                                      Autophagy   \n",
       "21933                    47.85                         Advances in Immunology   \n",
       "26552                    47.46                            Nat Rev Drug Discov   \n",
       "13677                    35.02  International Journal of Antimicrobial Agents   \n",
       "22119                    34.25                                     The Lancet   \n",
       "27840                    56.64                                   N Engl J Med   \n",
       "9200                     36.68          American Journal of Infection Control   \n",
       "25918                    32.79                                        Nat Med   \n",
       "17036                    24.86                                  Life Sciences   \n",
       "5536                     40.80                                     The Lancet   \n",
       "30292                    78.84                              Nucleic Acids Res   \n",
       "18246                      NaN                                Physics Reports   \n",
       "22556                      NaN                                     The Lancet   \n",
       "23820                    29.53                                       Genomics   \n",
       "26599                    29.31                      Nature Reviews Immunology   \n",
       "6196                     32.76                                   Neuroscience   \n",
       "28823                    34.91                                Clin Infect Dis   \n",
       "\n",
       "       publication_year                                doi  \n",
       "28975            2007.0                     10.1086/511159  \n",
       "22332            2008.0      10.1016/s0140-6736(08)60074-4  \n",
       "26274            2008.0                10.1038/nature06536  \n",
       "28608            2016.0      10.1080/15548627.2015.1100356  \n",
       "21933            1989.0      10.1016/s0065-2776(08)60664-1  \n",
       "26552            2009.0                    10.1038/nrd2742  \n",
       "13677            2005.0  10.1016/j.ijantimicag.2005.09.002  \n",
       "22119            2003.0      10.1016/s0140-6736(03)13077-2  \n",
       "27840            2012.0              10.1056/nejmoa1211721  \n",
       "9200             2007.0         10.1016/j.ajic.2007.10.007  \n",
       "25918            2001.0                      10.1038/89098  \n",
       "17036            2004.0          10.1016/j.lfs.2003.09.047  \n",
       "5536             1993.0       10.1016/0140-6736(93)90277-n  \n",
       "30292            2016.0                10.1093/nar/gkv1189  \n",
       "18246            2014.0      10.1016/j.physrep.2014.07.001  \n",
       "22556            2020.0      10.1016/s0140-6736(20)30183-5  \n",
       "23820            1992.0      10.1016/s0888-7543(05)80111-9  \n",
       "26599            2008.0                    10.1038/nri2314  \n",
       "6196             1993.0       10.1016/0306-4522(93)90380-x  \n",
       "28823            2000.0                     10.1086/313954  "
      ]
     },
     "execution_count": 47,
     "metadata": {},
     "output_type": "execute_result"
    }
   ],
   "source": [
    "# most cited papers\n",
    "\n",
    "df_joined[[\"title\",\"times_cited\",\"relative_citation_ratio\",\"journal\",\"publication_year\",\"doi\"]].sort_values(\"times_cited\",ascending=False).head(20)"
   ]
  },
  {
   "cell_type": "code",
   "execution_count": 48,
   "metadata": {},
   "outputs": [
    {
     "data": {
      "text/html": [
       "<div>\n",
       "<style scoped>\n",
       "    .dataframe tbody tr th:only-of-type {\n",
       "        vertical-align: middle;\n",
       "    }\n",
       "\n",
       "    .dataframe tbody tr th {\n",
       "        vertical-align: top;\n",
       "    }\n",
       "\n",
       "    .dataframe thead th {\n",
       "        text-align: right;\n",
       "    }\n",
       "</style>\n",
       "<table border=\"1\" class=\"dataframe\">\n",
       "  <thead>\n",
       "    <tr style=\"text-align: right;\">\n",
       "      <th></th>\n",
       "      <th>title</th>\n",
       "      <th>times_cited</th>\n",
       "      <th>relative_citation_ratio</th>\n",
       "      <th>journal</th>\n",
       "      <th>publication_year</th>\n",
       "      <th>doi</th>\n",
       "    </tr>\n",
       "  </thead>\n",
       "  <tbody>\n",
       "    <tr>\n",
       "      <th>22556</th>\n",
       "      <td>Clinical features of patients infected with 20...</td>\n",
       "      <td>1307</td>\n",
       "      <td>NaN</td>\n",
       "      <td>The Lancet</td>\n",
       "      <td>2020.0</td>\n",
       "      <td>10.1016/s0140-6736(20)30183-5</td>\n",
       "    </tr>\n",
       "    <tr>\n",
       "      <th>27847</th>\n",
       "      <td>A Novel Coronavirus from Patients with Pneumon...</td>\n",
       "      <td>865</td>\n",
       "      <td>NaN</td>\n",
       "      <td>New England Journal of Medicine</td>\n",
       "      <td>2020.0</td>\n",
       "      <td>10.1056/nejmoa2001017</td>\n",
       "    </tr>\n",
       "    <tr>\n",
       "      <th>27850</th>\n",
       "      <td>Early Transmission Dynamics in Wuhan, China, o...</td>\n",
       "      <td>756</td>\n",
       "      <td>NaN</td>\n",
       "      <td>New England Journal of Medicine</td>\n",
       "      <td>2020.0</td>\n",
       "      <td>10.1056/nejmoa2001316</td>\n",
       "    </tr>\n",
       "    <tr>\n",
       "      <th>10</th>\n",
       "      <td>Clinical Characteristics of 138 Hospitalized P...</td>\n",
       "      <td>719</td>\n",
       "      <td>NaN</td>\n",
       "      <td>JAMA</td>\n",
       "      <td>2020.0</td>\n",
       "      <td>10.1001/jama.2020.1585</td>\n",
       "    </tr>\n",
       "    <tr>\n",
       "      <th>22561</th>\n",
       "      <td>Epidemiological and clinical characteristics o...</td>\n",
       "      <td>719</td>\n",
       "      <td>NaN</td>\n",
       "      <td>The Lancet</td>\n",
       "      <td>2020.0</td>\n",
       "      <td>10.1016/s0140-6736(20)30211-7</td>\n",
       "    </tr>\n",
       "    <tr>\n",
       "      <th>27851</th>\n",
       "      <td>Clinical Characteristics of Coronavirus Diseas...</td>\n",
       "      <td>513</td>\n",
       "      <td>NaN</td>\n",
       "      <td>New England Journal of Medicine</td>\n",
       "      <td>2020.0</td>\n",
       "      <td>10.1056/nejmoa2002032</td>\n",
       "    </tr>\n",
       "    <tr>\n",
       "      <th>26940</th>\n",
       "      <td>A pneumonia outbreak associated with a new cor...</td>\n",
       "      <td>501</td>\n",
       "      <td>NaN</td>\n",
       "      <td>Nature</td>\n",
       "      <td>2020.0</td>\n",
       "      <td>10.1038/s41586-020-2012-7</td>\n",
       "    </tr>\n",
       "    <tr>\n",
       "      <th>22555</th>\n",
       "      <td>A familial cluster of pneumonia associated wit...</td>\n",
       "      <td>493</td>\n",
       "      <td>NaN</td>\n",
       "      <td>The Lancet</td>\n",
       "      <td>2020.0</td>\n",
       "      <td>10.1016/s0140-6736(20)30154-9</td>\n",
       "    </tr>\n",
       "    <tr>\n",
       "      <th>22565</th>\n",
       "      <td>Genomic characterisation and epidemiology of 2...</td>\n",
       "      <td>416</td>\n",
       "      <td>NaN</td>\n",
       "      <td>The Lancet</td>\n",
       "      <td>2020.0</td>\n",
       "      <td>10.1016/s0140-6736(20)30251-8</td>\n",
       "    </tr>\n",
       "    <tr>\n",
       "      <th>22</th>\n",
       "      <td>Characteristics of and Important Lessons From ...</td>\n",
       "      <td>352</td>\n",
       "      <td>NaN</td>\n",
       "      <td>JAMA</td>\n",
       "      <td>2020.0</td>\n",
       "      <td>10.1001/jama.2020.2648</td>\n",
       "    </tr>\n",
       "  </tbody>\n",
       "</table>\n",
       "</div>"
      ],
      "text/plain": [
       "                                                   title  times_cited  \\\n",
       "22556  Clinical features of patients infected with 20...         1307   \n",
       "27847  A Novel Coronavirus from Patients with Pneumon...          865   \n",
       "27850  Early Transmission Dynamics in Wuhan, China, o...          756   \n",
       "10     Clinical Characteristics of 138 Hospitalized P...          719   \n",
       "22561  Epidemiological and clinical characteristics o...          719   \n",
       "27851  Clinical Characteristics of Coronavirus Diseas...          513   \n",
       "26940  A pneumonia outbreak associated with a new cor...          501   \n",
       "22555  A familial cluster of pneumonia associated wit...          493   \n",
       "22565  Genomic characterisation and epidemiology of 2...          416   \n",
       "22     Characteristics of and Important Lessons From ...          352   \n",
       "\n",
       "       relative_citation_ratio                          journal  \\\n",
       "22556                      NaN                       The Lancet   \n",
       "27847                      NaN  New England Journal of Medicine   \n",
       "27850                      NaN  New England Journal of Medicine   \n",
       "10                         NaN                             JAMA   \n",
       "22561                      NaN                       The Lancet   \n",
       "27851                      NaN  New England Journal of Medicine   \n",
       "26940                      NaN                           Nature   \n",
       "22555                      NaN                       The Lancet   \n",
       "22565                      NaN                       The Lancet   \n",
       "22                         NaN                             JAMA   \n",
       "\n",
       "       publication_year                            doi  \n",
       "22556            2020.0  10.1016/s0140-6736(20)30183-5  \n",
       "27847            2020.0          10.1056/nejmoa2001017  \n",
       "27850            2020.0          10.1056/nejmoa2001316  \n",
       "10               2020.0         10.1001/jama.2020.1585  \n",
       "22561            2020.0  10.1016/s0140-6736(20)30211-7  \n",
       "27851            2020.0          10.1056/nejmoa2002032  \n",
       "26940            2020.0      10.1038/s41586-020-2012-7  \n",
       "22555            2020.0  10.1016/s0140-6736(20)30154-9  \n",
       "22565            2020.0  10.1016/s0140-6736(20)30251-8  \n",
       "22               2020.0         10.1001/jama.2020.2648  "
      ]
     },
     "execution_count": 48,
     "metadata": {},
     "output_type": "execute_result"
    }
   ],
   "source": [
    "# same but in 2020; note that duplicates are due to SI or pre-prints with different PMIDs\n",
    "\n",
    "df_joined[df_joined.publication_year>2019][[\"title\",\"times_cited\",\"relative_citation_ratio\",\"journal\",\"publication_year\",\"doi\"]].sort_values(\"times_cited\",ascending=False).head(10)"
   ]
  },
  {
   "cell_type": "code",
   "execution_count": 49,
   "metadata": {},
   "outputs": [
    {
     "data": {
      "text/html": [
       "<div>\n",
       "<style scoped>\n",
       "    .dataframe tbody tr th:only-of-type {\n",
       "        vertical-align: middle;\n",
       "    }\n",
       "\n",
       "    .dataframe tbody tr th {\n",
       "        vertical-align: top;\n",
       "    }\n",
       "\n",
       "    .dataframe thead th {\n",
       "        text-align: right;\n",
       "    }\n",
       "</style>\n",
       "<table border=\"1\" class=\"dataframe\">\n",
       "  <thead>\n",
       "    <tr style=\"text-align: right;\">\n",
       "      <th></th>\n",
       "      <th>times_cited</th>\n",
       "    </tr>\n",
       "    <tr>\n",
       "      <th>journal</th>\n",
       "      <th></th>\n",
       "    </tr>\n",
       "  </thead>\n",
       "  <tbody>\n",
       "    <tr>\n",
       "      <th>Journal of Virology</th>\n",
       "      <td>77947</td>\n",
       "    </tr>\n",
       "    <tr>\n",
       "      <th>The Lancet</th>\n",
       "      <td>40329</td>\n",
       "    </tr>\n",
       "    <tr>\n",
       "      <th>PLoS One</th>\n",
       "      <td>35217</td>\n",
       "    </tr>\n",
       "    <tr>\n",
       "      <th>Proceedings of the National Academy of Sciences</th>\n",
       "      <td>35213</td>\n",
       "    </tr>\n",
       "    <tr>\n",
       "      <th>Virology</th>\n",
       "      <td>33802</td>\n",
       "    </tr>\n",
       "    <tr>\n",
       "      <th>Emerg Infect Dis</th>\n",
       "      <td>31672</td>\n",
       "    </tr>\n",
       "    <tr>\n",
       "      <th>Nature</th>\n",
       "      <td>22790</td>\n",
       "    </tr>\n",
       "    <tr>\n",
       "      <th>PLoS Pathog</th>\n",
       "      <td>19362</td>\n",
       "    </tr>\n",
       "    <tr>\n",
       "      <th>Journal of Clinical Microbiology</th>\n",
       "      <td>15917</td>\n",
       "    </tr>\n",
       "    <tr>\n",
       "      <th>Clin Infect Dis</th>\n",
       "      <td>15508</td>\n",
       "    </tr>\n",
       "    <tr>\n",
       "      <th>Cell</th>\n",
       "      <td>14588</td>\n",
       "    </tr>\n",
       "    <tr>\n",
       "      <th>Virus Research</th>\n",
       "      <td>11769</td>\n",
       "    </tr>\n",
       "    <tr>\n",
       "      <th>Arch Virol</th>\n",
       "      <td>11466</td>\n",
       "    </tr>\n",
       "    <tr>\n",
       "      <th>Nucleic Acids Res</th>\n",
       "      <td>11240</td>\n",
       "    </tr>\n",
       "    <tr>\n",
       "      <th>The Lancet Infectious Diseases</th>\n",
       "      <td>10565</td>\n",
       "    </tr>\n",
       "    <tr>\n",
       "      <th>J Infect Dis</th>\n",
       "      <td>10276</td>\n",
       "    </tr>\n",
       "    <tr>\n",
       "      <th>Veterinary Microbiology</th>\n",
       "      <td>9794</td>\n",
       "    </tr>\n",
       "    <tr>\n",
       "      <th>Vaccine</th>\n",
       "      <td>9473</td>\n",
       "    </tr>\n",
       "    <tr>\n",
       "      <th>Clinical Microbiology Reviews</th>\n",
       "      <td>9359</td>\n",
       "    </tr>\n",
       "    <tr>\n",
       "      <th>Antiviral Research</th>\n",
       "      <td>8288</td>\n",
       "    </tr>\n",
       "  </tbody>\n",
       "</table>\n",
       "</div>"
      ],
      "text/plain": [
       "                                                 times_cited\n",
       "journal                                                     \n",
       "Journal of Virology                                    77947\n",
       "The Lancet                                             40329\n",
       "PLoS One                                               35217\n",
       "Proceedings of the National Academy of Sciences        35213\n",
       "Virology                                               33802\n",
       "Emerg Infect Dis                                       31672\n",
       "Nature                                                 22790\n",
       "PLoS Pathog                                            19362\n",
       "Journal of Clinical Microbiology                       15917\n",
       "Clin Infect Dis                                        15508\n",
       "Cell                                                   14588\n",
       "Virus Research                                         11769\n",
       "Arch Virol                                             11466\n",
       "Nucleic Acids Res                                      11240\n",
       "The Lancet Infectious Diseases                         10565\n",
       "J Infect Dis                                           10276\n",
       "Veterinary Microbiology                                 9794\n",
       "Vaccine                                                 9473\n",
       "Clinical Microbiology Reviews                           9359\n",
       "Antiviral Research                                      8288"
      ]
     },
     "execution_count": 49,
     "metadata": {},
     "output_type": "execute_result"
    }
   ],
   "source": [
    "# most cited journals\n",
    "\n",
    "df_joined[['journal','times_cited']].groupby('journal').sum().sort_values('times_cited',ascending=False).head(20)"
   ]
  },
  {
   "cell_type": "markdown",
   "metadata": {},
   "source": [
    "#### Categories"
   ]
  },
  {
   "cell_type": "code",
   "execution_count": 50,
   "metadata": {},
   "outputs": [
    {
     "data": {
      "image/png": "[encoded data removed]",
      "text/plain": [
       "<Figure size 432x288 with 1 Axes>"
      ]
     },
     "metadata": {},
     "output_type": "display_data"
    }
   ],
   "source": [
    "# FOR jeywords distribution, TOP\n",
    "\n",
    "df_sub = df_joined[df_joined.for_top.isin(df_joined.for_top.value_counts()[:20].index.tolist())]\n",
    "b = sns.countplot(y=\"for_top\", data=df_sub, order=df_sub['for_top'].value_counts().index)\n",
    "#b.axes.set_title(\"Title\",fontsize=50)\n",
    "b.set_xlabel(\"Count\",fontsize=15)\n",
    "b.set_ylabel(\"FOR first level\",fontsize=15)\n",
    "b.tick_params(labelsize=12)\n",
    "plt.tight_layout()\n",
    "plt.savefig(\"figures/dim_for_top.pdf\")"
   ]
  },
  {
   "cell_type": "code",
   "execution_count": 51,
   "metadata": {},
   "outputs": [
    {
     "data": {
      "image/png": "[encoded data removed]",
      "text/plain": [
       "<Figure size 432x288 with 1 Axes>"
      ]
     },
     "metadata": {},
     "output_type": "display_data"
    }
   ],
   "source": [
    "# FOR jeywords distribution, TOP\n",
    "\n",
    "df_sub = df_joined[df_joined.for_bottom.isin(df_joined.for_bottom.value_counts()[:20].index.tolist())]\n",
    "b = sns.countplot(y=\"for_bottom\", data=df_sub, order=df_sub['for_bottom'].value_counts().index)\n",
    "#b.axes.set_title(\"Title\",fontsize=50)\n",
    "b.set_xlabel(\"Count\",fontsize=15)\n",
    "b.set_ylabel(\"FOR second level\",fontsize=15)\n",
    "b.tick_params(labelsize=12)\n",
    "plt.tight_layout()\n",
    "plt.savefig(\"figures/dim_for_bottom.pdf\")"
   ]
  },
  {
   "cell_type": "code",
   "execution_count": null,
   "metadata": {},
   "outputs": [],
   "source": []
  }
 ],
 "metadata": {
  "kernelspec": {
   "display_name": "covid",
   "language": "python",
   "name": "covid"
  },
  "language_info": {
   "codemirror_mode": {
    "name": "ipython",
    "version": 3
   },
   "file_extension": ".py",
   "mimetype": "text/x-python",
   "name": "python",
   "nbconvert_exporter": "python",
   "pygments_lexer": "ipython3",
   "version": "3.7.6"
  }
 },
 "nbformat": 4,
 "nbformat_minor": 4
}
