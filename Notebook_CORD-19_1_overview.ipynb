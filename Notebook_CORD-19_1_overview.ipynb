{
 "cells": [
  {
   "cell_type": "markdown",
   "metadata": {},
   "source": [
    "# CORD-19 overview\n",
    "\n",
    "In this notebook, we provide an overview of publication medatata for CORD-19."
   ]
  },
  {
   "cell_type": "code",
   "execution_count": 2,
   "metadata": {},
   "outputs": [],
   "source": [
    "%matplotlib inline\n",
    "import matplotlib.pyplot as plt\n",
    "\n",
    "# magics and warnings\n",
    "%load_ext autoreload\n",
    "%autoreload 2\n",
    "import warnings; warnings.simplefilter('ignore')\n",
    "\n",
    "import os, random, codecs, json\n",
    "import pandas as pd\n",
    "import numpy as np\n",
    "\n",
    "seed = 99\n",
    "random.seed(seed)\n",
    "np.random.seed(seed)\n",
    "\n",
    "import nltk, sklearn\n",
    "import matplotlib.pyplot as plt\n",
    "import seaborn as sns\n",
    "sns.set(style=\"white\")\n",
    "sns.set_context(\"notebook\", font_scale=1.2, rc={\"lines.linewidth\": 2.5})"
   ]
  },
  {
   "cell_type": "code",
   "execution_count": 3,
   "metadata": {},
   "outputs": [],
   "source": [
    "# load metadata\n",
    "\n",
    "df_meta = pd.read_csv(\"datasets_output/df_pub.csv\",compression=\"gzip\")\n",
    "df_datasource = pd.read_csv(\"datasets_output/sql_tables/datasource.csv\",sep=\"\\t\",header=None,names=['datasource_metadata_id', 'datasource', 'url'])\n",
    "df_pub_datasource = pd.read_csv(\"datasets_output/sql_tables/pub_datasource.csv\",sep=\"\\t\",header=None,names=['pub_id','datasource_metadata_id'])\n",
    "df_cord_meta = pd.read_csv(\"datasets_output/sql_tables/cord19_metadata.csv\",sep=\"\\t\",header=None,names=['cord19_metadata_id', 'source', 'license', 'full_text_file', 'ms_academic_id',\n",
    "       'who_covidence', 'sha', 'full_text', 'pub_id'])"
   ]
  },
  {
   "cell_type": "code",
   "execution_count": 4,
   "metadata": {},
   "outputs": [
    {
     "data": {
      "text/html": [
       "<div>\n",
       "<style scoped>\n",
       "    .dataframe tbody tr th:only-of-type {\n",
       "        vertical-align: middle;\n",
       "    }\n",
       "\n",
       "    .dataframe tbody tr th {\n",
       "        vertical-align: top;\n",
       "    }\n",
       "\n",
       "    .dataframe thead th {\n",
       "        text-align: right;\n",
       "    }\n",
       "</style>\n",
       "<table border=\"1\" class=\"dataframe\">\n",
       "  <thead>\n",
       "    <tr style=\"text-align: right;\">\n",
       "      <th></th>\n",
       "      <th>pub_id</th>\n",
       "      <th>title</th>\n",
       "      <th>abstract</th>\n",
       "      <th>publication_year</th>\n",
       "      <th>publication_month</th>\n",
       "      <th>journal</th>\n",
       "      <th>volume</th>\n",
       "      <th>issue</th>\n",
       "      <th>pages</th>\n",
       "      <th>doi</th>\n",
       "      <th>pmid</th>\n",
       "      <th>pmcid</th>\n",
       "      <th>timestamp</th>\n",
       "    </tr>\n",
       "  </thead>\n",
       "  <tbody>\n",
       "    <tr>\n",
       "      <th>0</th>\n",
       "      <td>0</td>\n",
       "      <td>‘A ticking time bomb’: Scientists worry about ...</td>\n",
       "      <td>CAPE TOWN, SOUTH AFRICA—Late on Sunday evening...</td>\n",
       "      <td>2020.0</td>\n",
       "      <td>NaN</td>\n",
       "      <td>Science</td>\n",
       "      <td>NaN</td>\n",
       "      <td>NaN</td>\n",
       "      <td>NaN</td>\n",
       "      <td>0.1126/science.abb7331</td>\n",
       "      <td>NaN</td>\n",
       "      <td>NaN</td>\n",
       "      <td>2020-04-04 07:55:51.892454</td>\n",
       "    </tr>\n",
       "    <tr>\n",
       "      <th>1</th>\n",
       "      <td>1</td>\n",
       "      <td>[Ten hot issues of breast cancer under the nov...</td>\n",
       "      <td>NaN</td>\n",
       "      <td>2020.0</td>\n",
       "      <td>2.0</td>\n",
       "      <td>Chinese medical journal</td>\n",
       "      <td>100</td>\n",
       "      <td>0</td>\n",
       "      <td>e002</td>\n",
       "      <td>10.0376/cma.j.issn.0376-2491.2020.0002</td>\n",
       "      <td>32036640.0</td>\n",
       "      <td>NaN</td>\n",
       "      <td>2020-04-04 07:55:51.892454</td>\n",
       "    </tr>\n",
       "    <tr>\n",
       "      <th>2</th>\n",
       "      <td>2</td>\n",
       "      <td>Another Piece of the Puzzle: Human Metapneumov...</td>\n",
       "      <td>BACKGROUND: Each winter respiratory viruses ac...</td>\n",
       "      <td>2008.0</td>\n",
       "      <td>12.0</td>\n",
       "      <td>Archives of Internal Medicine</td>\n",
       "      <td>NaN</td>\n",
       "      <td>NaN</td>\n",
       "      <td>NaN</td>\n",
       "      <td>10.1001/archinte.168.22.2489</td>\n",
       "      <td>19064834.0</td>\n",
       "      <td>PMC2783624</td>\n",
       "      <td>2020-04-04 07:55:51.892454</td>\n",
       "    </tr>\n",
       "    <tr>\n",
       "      <th>3</th>\n",
       "      <td>3</td>\n",
       "      <td>Viral etiology of severe pneumonia among Kenya...</td>\n",
       "      <td>CONTEXT: Pneumonia is the leading cause of chi...</td>\n",
       "      <td>2010.0</td>\n",
       "      <td>5.0</td>\n",
       "      <td>JAMA</td>\n",
       "      <td>NaN</td>\n",
       "      <td>NaN</td>\n",
       "      <td>NaN</td>\n",
       "      <td>10.1001/jama.2010.675</td>\n",
       "      <td>20501927.0</td>\n",
       "      <td>PMC2968755</td>\n",
       "      <td>2020-04-04 07:55:51.892454</td>\n",
       "    </tr>\n",
       "    <tr>\n",
       "      <th>4</th>\n",
       "      <td>4</td>\n",
       "      <td>Critically Ill Patients With Influenza A(H1N1)...</td>\n",
       "      <td>NaN</td>\n",
       "      <td>2014.0</td>\n",
       "      <td>4.0</td>\n",
       "      <td>JAMA</td>\n",
       "      <td>NaN</td>\n",
       "      <td>NaN</td>\n",
       "      <td>NaN</td>\n",
       "      <td>10.1001/jama.2014.2116</td>\n",
       "      <td>24566924.0</td>\n",
       "      <td>PMC6689404</td>\n",
       "      <td>2020-04-04 07:55:51.892454</td>\n",
       "    </tr>\n",
       "  </tbody>\n",
       "</table>\n",
       "</div>"
      ],
      "text/plain": [
       "   pub_id                                              title  \\\n",
       "0       0  ‘A ticking time bomb’: Scientists worry about ...   \n",
       "1       1  [Ten hot issues of breast cancer under the nov...   \n",
       "2       2  Another Piece of the Puzzle: Human Metapneumov...   \n",
       "3       3  Viral etiology of severe pneumonia among Kenya...   \n",
       "4       4  Critically Ill Patients With Influenza A(H1N1)...   \n",
       "\n",
       "                                            abstract  publication_year  \\\n",
       "0  CAPE TOWN, SOUTH AFRICA—Late on Sunday evening...            2020.0   \n",
       "1                                                NaN            2020.0   \n",
       "2  BACKGROUND: Each winter respiratory viruses ac...            2008.0   \n",
       "3  CONTEXT: Pneumonia is the leading cause of chi...            2010.0   \n",
       "4                                                NaN            2014.0   \n",
       "\n",
       "   publication_month                        journal volume issue pages  \\\n",
       "0                NaN                        Science    NaN   NaN   NaN   \n",
       "1                2.0        Chinese medical journal    100     0  e002   \n",
       "2               12.0  Archives of Internal Medicine    NaN   NaN   NaN   \n",
       "3                5.0                           JAMA    NaN   NaN   NaN   \n",
       "4                4.0                           JAMA    NaN   NaN   NaN   \n",
       "\n",
       "                                      doi        pmid       pmcid  \\\n",
       "0                  0.1126/science.abb7331         NaN         NaN   \n",
       "1  10.0376/cma.j.issn.0376-2491.2020.0002  32036640.0         NaN   \n",
       "2            10.1001/archinte.168.22.2489  19064834.0  PMC2783624   \n",
       "3                   10.1001/jama.2010.675  20501927.0  PMC2968755   \n",
       "4                  10.1001/jama.2014.2116  24566924.0  PMC6689404   \n",
       "\n",
       "                    timestamp  \n",
       "0  2020-04-04 07:55:51.892454  \n",
       "1  2020-04-04 07:55:51.892454  \n",
       "2  2020-04-04 07:55:51.892454  \n",
       "3  2020-04-04 07:55:51.892454  \n",
       "4  2020-04-04 07:55:51.892454  "
      ]
     },
     "execution_count": 4,
     "metadata": {},
     "output_type": "execute_result"
    }
   ],
   "source": [
    "df_meta.head()"
   ]
  },
  {
   "cell_type": "code",
   "execution_count": 5,
   "metadata": {},
   "outputs": [
    {
     "data": {
      "text/plain": [
       "Index(['pub_id', 'title', 'abstract', 'publication_year', 'publication_month',\n",
       "       'journal', 'volume', 'issue', 'pages', 'doi', 'pmid', 'pmcid',\n",
       "       'timestamp'],\n",
       "      dtype='object')"
      ]
     },
     "execution_count": 5,
     "metadata": {},
     "output_type": "execute_result"
    }
   ],
   "source": [
    "df_meta.columns"
   ]
  },
  {
   "cell_type": "code",
   "execution_count": 6,
   "metadata": {},
   "outputs": [
    {
     "data": {
      "text/html": [
       "<div>\n",
       "<style scoped>\n",
       "    .dataframe tbody tr th:only-of-type {\n",
       "        vertical-align: middle;\n",
       "    }\n",
       "\n",
       "    .dataframe tbody tr th {\n",
       "        vertical-align: top;\n",
       "    }\n",
       "\n",
       "    .dataframe thead th {\n",
       "        text-align: right;\n",
       "    }\n",
       "</style>\n",
       "<table border=\"1\" class=\"dataframe\">\n",
       "  <thead>\n",
       "    <tr style=\"text-align: right;\">\n",
       "      <th></th>\n",
       "      <th>datasource_metadata_id</th>\n",
       "      <th>datasource</th>\n",
       "      <th>url</th>\n",
       "    </tr>\n",
       "  </thead>\n",
       "  <tbody>\n",
       "    <tr>\n",
       "      <th>0</th>\n",
       "      <td>0</td>\n",
       "      <td>CORD19</td>\n",
       "      <td>https://pages.semanticscholar.org/coronavirus-...</td>\n",
       "    </tr>\n",
       "    <tr>\n",
       "      <th>1</th>\n",
       "      <td>1</td>\n",
       "      <td>Dimensions</td>\n",
       "      <td>https://docs.google.com/spreadsheets/d/1-kTZJZ...</td>\n",
       "    </tr>\n",
       "    <tr>\n",
       "      <th>2</th>\n",
       "      <td>2</td>\n",
       "      <td>WHO</td>\n",
       "      <td>https://www.who.int/emergencies/diseases/novel...</td>\n",
       "    </tr>\n",
       "  </tbody>\n",
       "</table>\n",
       "</div>"
      ],
      "text/plain": [
       "   datasource_metadata_id  datasource  \\\n",
       "0                       0      CORD19   \n",
       "1                       1  Dimensions   \n",
       "2                       2         WHO   \n",
       "\n",
       "                                                 url  \n",
       "0  https://pages.semanticscholar.org/coronavirus-...  \n",
       "1  https://docs.google.com/spreadsheets/d/1-kTZJZ...  \n",
       "2  https://www.who.int/emergencies/diseases/novel...  "
      ]
     },
     "execution_count": 6,
     "metadata": {},
     "output_type": "execute_result"
    }
   ],
   "source": [
    "df_datasource"
   ]
  },
  {
   "cell_type": "markdown",
   "metadata": {},
   "source": [
    "#### Select just CORD-19"
   ]
  },
  {
   "cell_type": "code",
   "execution_count": 7,
   "metadata": {},
   "outputs": [],
   "source": [
    "df_meta = df_meta.merge(df_pub_datasource, how=\"inner\", left_on=\"pub_id\", right_on=\"pub_id\")\n",
    "df_meta = df_meta.merge(df_datasource, how=\"inner\", left_on=\"datasource_metadata_id\", right_on=\"datasource_metadata_id\")\n",
    "df_cord19 = df_meta[df_meta.datasource_metadata_id==0]\n",
    "df_cord19 = df_cord19.merge(df_cord_meta, how=\"inner\", left_on=\"pub_id\", right_on=\"pub_id\")"
   ]
  },
  {
   "cell_type": "code",
   "execution_count": 8,
   "metadata": {},
   "outputs": [
    {
     "data": {
      "text/plain": [
       "(56809, 16)"
      ]
     },
     "execution_count": 8,
     "metadata": {},
     "output_type": "execute_result"
    }
   ],
   "source": [
    "df_meta.shape"
   ]
  },
  {
   "cell_type": "code",
   "execution_count": 9,
   "metadata": {},
   "outputs": [
    {
     "data": {
      "text/plain": [
       "(46994, 24)"
      ]
     },
     "execution_count": 9,
     "metadata": {},
     "output_type": "execute_result"
    }
   ],
   "source": [
    "df_cord19.shape"
   ]
  },
  {
   "cell_type": "code",
   "execution_count": 10,
   "metadata": {},
   "outputs": [
    {
     "data": {
      "text/html": [
       "<div>\n",
       "<style scoped>\n",
       "    .dataframe tbody tr th:only-of-type {\n",
       "        vertical-align: middle;\n",
       "    }\n",
       "\n",
       "    .dataframe tbody tr th {\n",
       "        vertical-align: top;\n",
       "    }\n",
       "\n",
       "    .dataframe thead th {\n",
       "        text-align: right;\n",
       "    }\n",
       "</style>\n",
       "<table border=\"1\" class=\"dataframe\">\n",
       "  <thead>\n",
       "    <tr style=\"text-align: right;\">\n",
       "      <th></th>\n",
       "      <th>pub_id</th>\n",
       "      <th>title</th>\n",
       "      <th>abstract</th>\n",
       "      <th>publication_year</th>\n",
       "      <th>publication_month</th>\n",
       "      <th>journal</th>\n",
       "      <th>volume</th>\n",
       "      <th>issue</th>\n",
       "      <th>pages</th>\n",
       "      <th>doi</th>\n",
       "      <th>...</th>\n",
       "      <th>datasource</th>\n",
       "      <th>url</th>\n",
       "      <th>cord19_metadata_id</th>\n",
       "      <th>source</th>\n",
       "      <th>license</th>\n",
       "      <th>full_text_file</th>\n",
       "      <th>ms_academic_id</th>\n",
       "      <th>who_covidence</th>\n",
       "      <th>sha</th>\n",
       "      <th>full_text</th>\n",
       "    </tr>\n",
       "  </thead>\n",
       "  <tbody>\n",
       "    <tr>\n",
       "      <th>0</th>\n",
       "      <td>0</td>\n",
       "      <td>‘A ticking time bomb’: Scientists worry about ...</td>\n",
       "      <td>CAPE TOWN, SOUTH AFRICA—Late on Sunday evening...</td>\n",
       "      <td>2020.0</td>\n",
       "      <td>NaN</td>\n",
       "      <td>Science</td>\n",
       "      <td>NaN</td>\n",
       "      <td>NaN</td>\n",
       "      <td>NaN</td>\n",
       "      <td>0.1126/science.abb7331</td>\n",
       "      <td>...</td>\n",
       "      <td>CORD19</td>\n",
       "      <td>https://pages.semanticscholar.org/coronavirus-...</td>\n",
       "      <td>0</td>\n",
       "      <td>WHO</td>\n",
       "      <td>unk</td>\n",
       "      <td>NaN</td>\n",
       "      <td>NaN</td>\n",
       "      <td>#8463</td>\n",
       "      <td>NaN</td>\n",
       "      <td>NaN</td>\n",
       "    </tr>\n",
       "    <tr>\n",
       "      <th>1</th>\n",
       "      <td>1</td>\n",
       "      <td>[Ten hot issues of breast cancer under the nov...</td>\n",
       "      <td>NaN</td>\n",
       "      <td>2020.0</td>\n",
       "      <td>2.0</td>\n",
       "      <td>Chinese medical journal</td>\n",
       "      <td>100</td>\n",
       "      <td>0</td>\n",
       "      <td>e002</td>\n",
       "      <td>10.0376/cma.j.issn.0376-2491.2020.0002</td>\n",
       "      <td>...</td>\n",
       "      <td>CORD19</td>\n",
       "      <td>https://pages.semanticscholar.org/coronavirus-...</td>\n",
       "      <td>1</td>\n",
       "      <td>WHO</td>\n",
       "      <td>unk</td>\n",
       "      <td>NaN</td>\n",
       "      <td>3.003451e+09</td>\n",
       "      <td>#615</td>\n",
       "      <td>NaN</td>\n",
       "      <td>NaN</td>\n",
       "    </tr>\n",
       "    <tr>\n",
       "      <th>2</th>\n",
       "      <td>2</td>\n",
       "      <td>Another Piece of the Puzzle: Human Metapneumov...</td>\n",
       "      <td>BACKGROUND: Each winter respiratory viruses ac...</td>\n",
       "      <td>2008.0</td>\n",
       "      <td>12.0</td>\n",
       "      <td>Archives of Internal Medicine</td>\n",
       "      <td>NaN</td>\n",
       "      <td>NaN</td>\n",
       "      <td>NaN</td>\n",
       "      <td>10.1001/archinte.168.22.2489</td>\n",
       "      <td>...</td>\n",
       "      <td>CORD19</td>\n",
       "      <td>https://pages.semanticscholar.org/coronavirus-...</td>\n",
       "      <td>2</td>\n",
       "      <td>PMC</td>\n",
       "      <td>unk</td>\n",
       "      <td>NaN</td>\n",
       "      <td>NaN</td>\n",
       "      <td>NaN</td>\n",
       "      <td>NaN</td>\n",
       "      <td>NaN</td>\n",
       "    </tr>\n",
       "    <tr>\n",
       "      <th>3</th>\n",
       "      <td>3</td>\n",
       "      <td>Viral etiology of severe pneumonia among Kenya...</td>\n",
       "      <td>CONTEXT: Pneumonia is the leading cause of chi...</td>\n",
       "      <td>2010.0</td>\n",
       "      <td>5.0</td>\n",
       "      <td>JAMA</td>\n",
       "      <td>NaN</td>\n",
       "      <td>NaN</td>\n",
       "      <td>NaN</td>\n",
       "      <td>10.1001/jama.2010.675</td>\n",
       "      <td>...</td>\n",
       "      <td>CORD19</td>\n",
       "      <td>https://pages.semanticscholar.org/coronavirus-...</td>\n",
       "      <td>3</td>\n",
       "      <td>PMC</td>\n",
       "      <td>unk</td>\n",
       "      <td>NaN</td>\n",
       "      <td>NaN</td>\n",
       "      <td>NaN</td>\n",
       "      <td>NaN</td>\n",
       "      <td>NaN</td>\n",
       "    </tr>\n",
       "    <tr>\n",
       "      <th>4</th>\n",
       "      <td>4</td>\n",
       "      <td>Critically Ill Patients With Influenza A(H1N1)...</td>\n",
       "      <td>NaN</td>\n",
       "      <td>2014.0</td>\n",
       "      <td>4.0</td>\n",
       "      <td>JAMA</td>\n",
       "      <td>NaN</td>\n",
       "      <td>NaN</td>\n",
       "      <td>NaN</td>\n",
       "      <td>10.1001/jama.2014.2116</td>\n",
       "      <td>...</td>\n",
       "      <td>CORD19</td>\n",
       "      <td>https://pages.semanticscholar.org/coronavirus-...</td>\n",
       "      <td>4</td>\n",
       "      <td>PMC</td>\n",
       "      <td>unk</td>\n",
       "      <td>NaN</td>\n",
       "      <td>NaN</td>\n",
       "      <td>NaN</td>\n",
       "      <td>NaN</td>\n",
       "      <td>NaN</td>\n",
       "    </tr>\n",
       "  </tbody>\n",
       "</table>\n",
       "<p>5 rows × 24 columns</p>\n",
       "</div>"
      ],
      "text/plain": [
       "   pub_id                                              title  \\\n",
       "0       0  ‘A ticking time bomb’: Scientists worry about ...   \n",
       "1       1  [Ten hot issues of breast cancer under the nov...   \n",
       "2       2  Another Piece of the Puzzle: Human Metapneumov...   \n",
       "3       3  Viral etiology of severe pneumonia among Kenya...   \n",
       "4       4  Critically Ill Patients With Influenza A(H1N1)...   \n",
       "\n",
       "                                            abstract  publication_year  \\\n",
       "0  CAPE TOWN, SOUTH AFRICA—Late on Sunday evening...            2020.0   \n",
       "1                                                NaN            2020.0   \n",
       "2  BACKGROUND: Each winter respiratory viruses ac...            2008.0   \n",
       "3  CONTEXT: Pneumonia is the leading cause of chi...            2010.0   \n",
       "4                                                NaN            2014.0   \n",
       "\n",
       "   publication_month                        journal volume issue pages  \\\n",
       "0                NaN                        Science    NaN   NaN   NaN   \n",
       "1                2.0        Chinese medical journal    100     0  e002   \n",
       "2               12.0  Archives of Internal Medicine    NaN   NaN   NaN   \n",
       "3                5.0                           JAMA    NaN   NaN   NaN   \n",
       "4                4.0                           JAMA    NaN   NaN   NaN   \n",
       "\n",
       "                                      doi  ...  datasource  \\\n",
       "0                  0.1126/science.abb7331  ...      CORD19   \n",
       "1  10.0376/cma.j.issn.0376-2491.2020.0002  ...      CORD19   \n",
       "2            10.1001/archinte.168.22.2489  ...      CORD19   \n",
       "3                   10.1001/jama.2010.675  ...      CORD19   \n",
       "4                  10.1001/jama.2014.2116  ...      CORD19   \n",
       "\n",
       "                                                 url cord19_metadata_id  \\\n",
       "0  https://pages.semanticscholar.org/coronavirus-...                  0   \n",
       "1  https://pages.semanticscholar.org/coronavirus-...                  1   \n",
       "2  https://pages.semanticscholar.org/coronavirus-...                  2   \n",
       "3  https://pages.semanticscholar.org/coronavirus-...                  3   \n",
       "4  https://pages.semanticscholar.org/coronavirus-...                  4   \n",
       "\n",
       "   source license full_text_file  ms_academic_id who_covidence  sha full_text  \n",
       "0     WHO     unk            NaN             NaN         #8463  NaN       NaN  \n",
       "1     WHO     unk            NaN    3.003451e+09          #615  NaN       NaN  \n",
       "2     PMC     unk            NaN             NaN           NaN  NaN       NaN  \n",
       "3     PMC     unk            NaN             NaN           NaN  NaN       NaN  \n",
       "4     PMC     unk            NaN             NaN           NaN  NaN       NaN  \n",
       "\n",
       "[5 rows x 24 columns]"
      ]
     },
     "execution_count": 10,
     "metadata": {},
     "output_type": "execute_result"
    }
   ],
   "source": [
    "df_cord19.head()"
   ]
  },
  {
   "cell_type": "markdown",
   "metadata": {},
   "source": [
    "#### Publication years"
   ]
  },
  {
   "cell_type": "code",
   "execution_count": 11,
   "metadata": {},
   "outputs": [],
   "source": [
    "import re\n",
    "\n",
    "def clean_year(s):\n",
    "    if pd.isna(s):\n",
    "        return np.nan\n",
    "    if not (s>1900):\n",
    "        return np.nan\n",
    "    elif s>2020:\n",
    "        return 2020\n",
    "    return s\n",
    "\n",
    "df_cord19[\"publication_year\"] = df_cord19[\"publication_year\"].apply(clean_year)"
   ]
  },
  {
   "cell_type": "code",
   "execution_count": 12,
   "metadata": {},
   "outputs": [
    {
     "data": {
      "text/plain": [
       "count    46991.000000\n",
       "mean      2010.591581\n",
       "std          8.886860\n",
       "min       1951.000000\n",
       "25%       2007.000000\n",
       "50%       2013.000000\n",
       "75%       2017.000000\n",
       "max       2020.000000\n",
       "Name: publication_year, dtype: float64"
      ]
     },
     "execution_count": 12,
     "metadata": {},
     "output_type": "execute_result"
    }
   ],
   "source": [
    "df_cord19.publication_year.describe()"
   ]
  },
  {
   "cell_type": "code",
   "execution_count": 13,
   "metadata": {},
   "outputs": [
    {
     "data": {
      "image/png": "[encoded data removed]",
      "text/plain": [
       "<Figure size 432x288 with 1 Axes>"
      ]
     },
     "metadata": {},
     "output_type": "display_data"
    }
   ],
   "source": [
    "sns.distplot(df_cord19.publication_year.tolist(), bins=30, kde=False)\n",
    "plt.xlabel(\"Publication year\", fontsize=15)\n",
    "plt.ylabel(\"Count\", fontsize=15)\n",
    "plt.tight_layout()\n",
    "plt.savefig(\"figures/publication_year_all.pdf\")"
   ]
  },
  {
   "cell_type": "code",
   "execution_count": 14,
   "metadata": {},
   "outputs": [
    {
     "data": {
      "image/png": "[encoded data removed]",
      "text/plain": [
       "<Figure size 432x288 with 1 Axes>"
      ]
     },
     "metadata": {},
     "output_type": "display_data"
    }
   ],
   "source": [
    "sns.distplot(df_cord19[(pd.notnull(df_cord19.publication_year)) & (df_cord19.publication_year > 2000)].publication_year.tolist(), bins=20, hist=True, kde=False)\n",
    "plt.xlabel(\"Publication year\", fontsize=15)\n",
    "plt.ylabel(\"Count\", fontsize=15)\n",
    "plt.tight_layout()\n",
    "plt.savefig(\"figures/publication_year_2000.pdf\")"
   ]
  },
  {
   "cell_type": "code",
   "execution_count": 15,
   "metadata": {},
   "outputs": [
    {
     "data": {
      "text/plain": [
       "publication_year  publication_month\n",
       "2019.0            1.0                   253\n",
       "                  2.0                   273\n",
       "                  3.0                   272\n",
       "                  4.0                   284\n",
       "                  5.0                   247\n",
       "                  6.0                   256\n",
       "                  7.0                   232\n",
       "                  8.0                   230\n",
       "                  9.0                   220\n",
       "                  10.0                  259\n",
       "                  11.0                  240\n",
       "                  12.0                  387\n",
       "2020.0            1.0                   458\n",
       "                  2.0                   978\n",
       "                  3.0                  2107\n",
       "                  4.0                   240\n",
       "                  5.0                    49\n",
       "                  6.0                    31\n",
       "                  7.0                    11\n",
       "                  8.0                     5\n",
       "                  11.0                    1\n",
       "                  12.0                  121\n",
       "Name: pub_id, dtype: int64"
      ]
     },
     "execution_count": 15,
     "metadata": {},
     "output_type": "execute_result"
    }
   ],
   "source": [
    "# recent uptake\n",
    "df_cord19[df_cord19.publication_year>2018].groupby([(df_cord19.publication_year),(df_cord19.publication_month)]).count().pub_id"
   ]
  },
  {
   "cell_type": "markdown",
   "metadata": {},
   "source": [
    "#### Null values"
   ]
  },
  {
   "cell_type": "code",
   "execution_count": 16,
   "metadata": {},
   "outputs": [
    {
     "data": {
      "text/plain": [
       "(46994, 24)"
      ]
     },
     "execution_count": 16,
     "metadata": {},
     "output_type": "execute_result"
    }
   ],
   "source": [
    "df_cord19.shape"
   ]
  },
  {
   "cell_type": "code",
   "execution_count": 17,
   "metadata": {},
   "outputs": [],
   "source": [
    "df_cord19[\"abstract_length\"] = df_cord19.abstract.str.len()"
   ]
  },
  {
   "cell_type": "code",
   "execution_count": 18,
   "metadata": {},
   "outputs": [
    {
     "data": {
      "text/plain": [
       "(38645, 25)"
      ]
     },
     "execution_count": 18,
     "metadata": {},
     "output_type": "execute_result"
    }
   ],
   "source": [
    "df_cord19[df_cord19.abstract_length>0].shape"
   ]
  },
  {
   "cell_type": "code",
   "execution_count": 19,
   "metadata": {},
   "outputs": [
    {
     "data": {
      "text/plain": [
       "38645"
      ]
     },
     "execution_count": 19,
     "metadata": {},
     "output_type": "execute_result"
    }
   ],
   "source": [
    "sum(pd.notnull(df_cord19.abstract))"
   ]
  },
  {
   "cell_type": "code",
   "execution_count": 20,
   "metadata": {},
   "outputs": [
    {
     "data": {
      "text/plain": [
       "43956"
      ]
     },
     "execution_count": 20,
     "metadata": {},
     "output_type": "execute_result"
    }
   ],
   "source": [
    "sum(pd.notnull(df_cord19.doi))"
   ]
  },
  {
   "cell_type": "code",
   "execution_count": 21,
   "metadata": {},
   "outputs": [
    {
     "data": {
      "text/plain": [
       "28156"
      ]
     },
     "execution_count": 21,
     "metadata": {},
     "output_type": "execute_result"
    }
   ],
   "source": [
    "sum(pd.notnull(df_cord19.pmcid))"
   ]
  },
  {
   "cell_type": "code",
   "execution_count": 22,
   "metadata": {},
   "outputs": [
    {
     "data": {
      "text/plain": [
       "36090"
      ]
     },
     "execution_count": 22,
     "metadata": {},
     "output_type": "execute_result"
    }
   ],
   "source": [
    "sum(pd.notnull(df_cord19.pmid))"
   ]
  },
  {
   "cell_type": "code",
   "execution_count": 23,
   "metadata": {},
   "outputs": [
    {
     "data": {
      "text/plain": [
       "43454"
      ]
     },
     "execution_count": 23,
     "metadata": {},
     "output_type": "execute_result"
    }
   ],
   "source": [
    "sum(pd.notnull(df_cord19.journal))"
   ]
  },
  {
   "cell_type": "markdown",
   "metadata": {},
   "source": [
    "#### Journals"
   ]
  },
  {
   "cell_type": "code",
   "execution_count": 28,
   "metadata": {},
   "outputs": [
    {
     "data": {
      "text/plain": [
       "Journal of Virology                                1744\n",
       "PLoS One                                           1557\n",
       "Virology                                            866\n",
       "Emerg Infect Dis                                    741\n",
       "medRxiv                                             674\n",
       "The Lancet                                          608\n",
       "Viruses                                             568\n",
       "Arch Virol                                          500\n",
       "Virus Research                                      496\n",
       "Vaccine                                             484\n",
       "Sci Rep                                             480\n",
       "Veterinary Microbiology                             443\n",
       "Journal of Virological Methods                      393\n",
       "Journal of Clinical Virology                        379\n",
       "The Lancet Infectious Diseases                      366\n",
       "PLoS Pathog                                         357\n",
       "Virol J                                             356\n",
       "Antiviral Research                                  349\n",
       "Proceedings of the National Academy of Sciences     336\n",
       "Journal of Clinical Microbiology                    335\n",
       "International Journal of Infectious Diseases        259\n",
       "BMC Infect Dis                                      245\n",
       "American Journal of Infection Control               233\n",
       "Front Immunol                                       205\n",
       "bioRxiv                                             201\n",
       "Front Microbiol                                     195\n",
       "Veterinary Immunology and Immunopathology           187\n",
       "Nucleic Acids Res                                   185\n",
       "Nature                                              182\n",
       "Journal of Hospital Infection                       177\n",
       "Name: journal, dtype: int64"
      ]
     },
     "execution_count": 28,
     "metadata": {},
     "output_type": "execute_result"
    }
   ],
   "source": [
    "df_cord19.journal.value_counts()[:30]"
   ]
  },
  {
   "cell_type": "code",
   "execution_count": 269,
   "metadata": {},
   "outputs": [
    {
     "data": {
      "image/png": "[encoded data removed]",
      "text/plain": [
       "<Figure size 432x288 with 1 Axes>"
      ]
     },
     "metadata": {},
     "output_type": "display_data"
    }
   ],
   "source": [
    "df_sub = df_cord19[df_cord19.journal.isin(df_cord19.journal.value_counts()[:20].index.tolist())]\n",
    "b = sns.countplot(y=\"journal\", data=df_sub, order=df_sub['journal'].value_counts().index)\n",
    "#b.axes.set_title(\"Title\",fontsize=50)\n",
    "b.set_xlabel(\"Count\",fontsize=15)\n",
    "b.set_ylabel(\"Journal\",fontsize=15)\n",
    "b.tick_params(labelsize=12)\n",
    "plt.tight_layout()\n",
    "plt.savefig(\"figures/journals.pdf\")"
   ]
  },
  {
   "cell_type": "markdown",
   "metadata": {},
   "source": [
    "#### Sources and licenses"
   ]
  },
  {
   "cell_type": "code",
   "execution_count": 242,
   "metadata": {},
   "outputs": [
    {
     "data": {
      "image/png": "[encoded data removed]",
      "text/plain": [
       "<Figure size 432x288 with 1 Axes>"
      ]
     },
     "metadata": {},
     "output_type": "display_data"
    }
   ],
   "source": [
    "# source\n",
    "df_sub = df_cord19[df_cord19.source.isin(df_cord19.source.value_counts()[:30].index.tolist())]\n",
    "b = sns.countplot(y=\"source\", data=df_sub, order=df_sub['source'].value_counts().index)\n",
    "#b.axes.set_title(\"Title\",fontsize=50)\n",
    "b.set_xlabel(\"Count\",fontsize=15)\n",
    "b.set_ylabel(\"Source\",fontsize=15)\n",
    "b.tick_params(labelsize=12)\n",
    "plt.tight_layout()\n",
    "plt.savefig(\"figures/sources.pdf\")"
   ]
  },
  {
   "cell_type": "code",
   "execution_count": 243,
   "metadata": {},
   "outputs": [
    {
     "data": {
      "image/png": "[encoded data removed]",
      "text/plain": [
       "<Figure size 432x288 with 1 Axes>"
      ]
     },
     "metadata": {},
     "output_type": "display_data"
    }
   ],
   "source": [
    "# license\n",
    "df_sub = df_cord19[df_cord19.license.isin(df_cord19.license.value_counts()[:30].index.tolist())]\n",
    "b = sns.countplot(y=\"license\", data=df_sub, order=df_sub['license'].value_counts().index)\n",
    "#b.axes.set_title(\"Title\",fontsize=50)\n",
    "b.set_xlabel(\"Count\",fontsize=15)\n",
    "b.set_ylabel(\"License\",fontsize=15)\n",
    "b.tick_params(labelsize=12)\n",
    "plt.tight_layout()\n",
    "plt.savefig(\"figures/licenses.pdf\")"
   ]
  },
  {
   "cell_type": "markdown",
   "metadata": {},
   "source": [
    "#### Full text availability"
   ]
  },
  {
   "cell_type": "code",
   "execution_count": 244,
   "metadata": {},
   "outputs": [],
   "source": [
    "df_cord19[\"has_full_text\"] = pd.notnull(df_cord19.full_text)"
   ]
  },
  {
   "cell_type": "code",
   "execution_count": 245,
   "metadata": {},
   "outputs": [
    {
     "data": {
      "image/png": "[encoded data removed]",
      "text/plain": [
       "<Figure size 432x288 with 1 Axes>"
      ]
     },
     "metadata": {},
     "output_type": "display_data"
    }
   ],
   "source": [
    "# full text x source\n",
    "df_plot = df_cord19.groupby(['has_full_text', 'source']).size().reset_index().pivot(columns='has_full_text', index='source', values=0)\n",
    "df_plot.plot(kind='bar', stacked=True)\n",
    "plt.xlabel(\"Source\", fontsize=15)\n",
    "plt.ylabel(\"Count\", fontsize=15)\n",
    "plt.tight_layout()\n",
    "plt.savefig(\"figures/source_ft.pdf\")"
   ]
  },
  {
   "cell_type": "code",
   "execution_count": 281,
   "metadata": {},
   "outputs": [
    {
     "data": {
      "image/png": "[encoded data removed]",
      "text/plain": [
       "<Figure size 432x288 with 1 Axes>"
      ]
     },
     "metadata": {},
     "output_type": "display_data"
    }
   ],
   "source": [
    "# full text x journal\n",
    "df_sub = df_cord19[df_cord19.journal.isin(df_cord19.journal.value_counts()[:20].index.tolist())]\n",
    "df_plot = df_sub.groupby(['has_full_text', 'journal']).size().reset_index().pivot(columns='has_full_text', index='journal', values=0)\n",
    "df_plot.plot(kind='bar', stacked=True)\n",
    "plt.xlabel(\"Source\", fontsize=15)\n",
    "plt.ylabel(\"Count\", fontsize=15)\n",
    "plt.tight_layout()\n",
    "plt.savefig(\"figures/journal_ft.pdf\")"
   ]
  },
  {
   "cell_type": "code",
   "execution_count": 276,
   "metadata": {},
   "outputs": [
    {
     "data": {
      "image/png": "[encoded data removed]",
      "text/plain": [
       "<Figure size 432x288 with 1 Axes>"
      ]
     },
     "metadata": {},
     "output_type": "display_data"
    }
   ],
   "source": [
    "# full text x year\n",
    "df_sub = df_cord19[(pd.notnull(df_cord19.publication_year)) & (df_cord19.publication_year > 2000)]\n",
    "df_plot = df_sub.groupby(['has_full_text', 'publication_year']).size().reset_index().pivot(columns='has_full_text', index='publication_year', values=0)\n",
    "df_plot.plot(kind='bar', stacked=True)\n",
    "plt.xticks(np.arange(20), [int(x) for x in df_plot.index.values], rotation=45)\n",
    "plt.xlabel(\"Publication year\", fontsize=15)\n",
    "plt.ylabel(\"Count\", fontsize=15)\n",
    "plt.tight_layout()\n",
    "plt.savefig(\"figures/year_ft.pdf\")"
   ]
  },
  {
   "cell_type": "code",
   "execution_count": 248,
   "metadata": {},
   "outputs": [
    {
     "data": {
      "image/png": "[encoded data removed]",
      "text/plain": [
       "<Figure size 432x288 with 1 Axes>"
      ]
     },
     "metadata": {},
     "output_type": "display_data"
    }
   ],
   "source": [
    "# full text file\n",
    "\n",
    "df_sub = df_cord19[df_cord19.full_text_file.isin(df_cord19.full_text_file.value_counts()[:20].index.tolist())]\n",
    "b = sns.countplot(y=\"full_text_file\", data=df_sub, order=df_sub['full_text_file'].value_counts().index)\n",
    "#b.axes.set_title(\"Title\",fontsize=50)\n",
    "b.set_xlabel(\"Count\",fontsize=15)\n",
    "b.set_ylabel(\"Fulltext file\",fontsize=15)\n",
    "b.tick_params(labelsize=12)\n",
    "plt.tight_layout()\n",
    "plt.savefig(\"figures/license_ft.pdf\")"
   ]
  },
  {
   "cell_type": "markdown",
   "metadata": {},
   "source": [
    "## Dimensions"
   ]
  },
  {
   "cell_type": "code",
   "execution_count": 249,
   "metadata": {},
   "outputs": [],
   "source": [
    "# load Dimensions data (you will need to download it on your own!)\n",
    "\n",
    "directory_name = \"datasets_output/json_dimensions_cwts\"\n",
    "\n",
    "all_dimensions = list()\n",
    "for root, dirs, files in os.walk(directory_name):\n",
    "    for file in files:\n",
    "        if \".json\" in file:\n",
    "            all_data = codecs.open(os.path.join(root,file)).read()\n",
    "            for record in all_data.split(\"\\n\"):\n",
    "                if record:\n",
    "                    all_dimensions.append(json.loads(record))"
   ]
  },
  {
   "cell_type": "code",
   "execution_count": 250,
   "metadata": {},
   "outputs": [],
   "source": [
    "df_dimensions = pd.DataFrame.from_dict({\n",
    "    \"id\":[r[\"id\"] for r in all_dimensions],\n",
    "    \"publication_type\":[r[\"publication_type\"] for r in all_dimensions],\n",
    "    \"doi\":[r[\"doi\"] for r in all_dimensions],\n",
    "    \"pmid\":[r[\"pmid\"] for r in all_dimensions],\n",
    "    \"issn\":[r[\"journal\"][\"issn\"] for r in all_dimensions],\n",
    "    \"times_cited\":[r[\"times_cited\"] for r in all_dimensions],\n",
    "    \"relative_citation_ratio\":[r[\"relative_citation_ratio\"] for r in all_dimensions],\n",
    "    \"for_top\":[r[\"for\"][0][\"first_level\"][\"name\"] if len(r[\"for\"])>0 else \"\" for r in all_dimensions],\n",
    "    \"for_bottom\":[r[\"for\"][0][\"second_level\"][\"name\"] if len(r[\"for\"])>0 else \"\" for r in all_dimensions],\n",
    "    \"open_access_versions\":[r[\"open_access_versions\"] for r in all_dimensions]\n",
    "})"
   ]
  },
  {
   "cell_type": "code",
   "execution_count": 251,
   "metadata": {},
   "outputs": [
    {
     "data": {
      "text/html": [
       "<div>\n",
       "<style scoped>\n",
       "    .dataframe tbody tr th:only-of-type {\n",
       "        vertical-align: middle;\n",
       "    }\n",
       "\n",
       "    .dataframe tbody tr th {\n",
       "        vertical-align: top;\n",
       "    }\n",
       "\n",
       "    .dataframe thead th {\n",
       "        text-align: right;\n",
       "    }\n",
       "</style>\n",
       "<table border=\"1\" class=\"dataframe\">\n",
       "  <thead>\n",
       "    <tr style=\"text-align: right;\">\n",
       "      <th></th>\n",
       "      <th>id</th>\n",
       "      <th>publication_type</th>\n",
       "      <th>doi</th>\n",
       "      <th>pmid</th>\n",
       "      <th>issn</th>\n",
       "      <th>times_cited</th>\n",
       "      <th>relative_citation_ratio</th>\n",
       "      <th>for_top</th>\n",
       "      <th>for_bottom</th>\n",
       "      <th>open_access_versions</th>\n",
       "    </tr>\n",
       "  </thead>\n",
       "  <tbody>\n",
       "    <tr>\n",
       "      <th>0</th>\n",
       "      <td>pub.1016570004</td>\n",
       "      <td>article</td>\n",
       "      <td>10.1290/0408056.1</td>\n",
       "      <td>15780007</td>\n",
       "      <td>1071-2690</td>\n",
       "      <td>35</td>\n",
       "      <td>0.83</td>\n",
       "      <td>Biological Sciences</td>\n",
       "      <td>Biochemistry and Cell Biology</td>\n",
       "      <td>[]</td>\n",
       "    </tr>\n",
       "    <tr>\n",
       "      <th>1</th>\n",
       "      <td>pub.1010334513</td>\n",
       "      <td>article</td>\n",
       "      <td>10.1289/ehp.7117</td>\n",
       "      <td>15531441</td>\n",
       "      <td>1542-4359</td>\n",
       "      <td>48</td>\n",
       "      <td>1.12</td>\n",
       "      <td>Medical and Health Sciences</td>\n",
       "      <td>Public Health and Health Services</td>\n",
       "      <td>[]</td>\n",
       "    </tr>\n",
       "    <tr>\n",
       "      <th>2</th>\n",
       "      <td>pub.1065069390</td>\n",
       "      <td>article</td>\n",
       "      <td>10.1360/04we0073</td>\n",
       "      <td>32214715</td>\n",
       "      <td>2095-9273</td>\n",
       "      <td>3</td>\n",
       "      <td>NaN</td>\n",
       "      <td>Medical and Health Sciences</td>\n",
       "      <td>Public Health and Health Services</td>\n",
       "      <td>[]</td>\n",
       "    </tr>\n",
       "    <tr>\n",
       "      <th>3</th>\n",
       "      <td>pub.1065067866</td>\n",
       "      <td>article</td>\n",
       "      <td>10.1360/03wb0198</td>\n",
       "      <td>32214714</td>\n",
       "      <td>2095-9273</td>\n",
       "      <td>3</td>\n",
       "      <td>NaN</td>\n",
       "      <td>Mathematical Sciences</td>\n",
       "      <td>Statistics</td>\n",
       "      <td>[]</td>\n",
       "    </tr>\n",
       "    <tr>\n",
       "      <th>4</th>\n",
       "      <td>pub.1037923003</td>\n",
       "      <td>article</td>\n",
       "      <td>10.1331/1544-3191.44.5.594.hulisz</td>\n",
       "      <td>15496046</td>\n",
       "      <td>1544-3191</td>\n",
       "      <td>48</td>\n",
       "      <td>0.93</td>\n",
       "      <td>Medical and Health Sciences</td>\n",
       "      <td>Clinical Sciences</td>\n",
       "      <td>[]</td>\n",
       "    </tr>\n",
       "  </tbody>\n",
       "</table>\n",
       "</div>"
      ],
      "text/plain": [
       "               id publication_type                                doi  \\\n",
       "0  pub.1016570004          article                  10.1290/0408056.1   \n",
       "1  pub.1010334513          article                   10.1289/ehp.7117   \n",
       "2  pub.1065069390          article                   10.1360/04we0073   \n",
       "3  pub.1065067866          article                   10.1360/03wb0198   \n",
       "4  pub.1037923003          article  10.1331/1544-3191.44.5.594.hulisz   \n",
       "\n",
       "       pmid       issn  times_cited  relative_citation_ratio  \\\n",
       "0  15780007  1071-2690           35                     0.83   \n",
       "1  15531441  1542-4359           48                     1.12   \n",
       "2  32214715  2095-9273            3                      NaN   \n",
       "3  32214714  2095-9273            3                      NaN   \n",
       "4  15496046  1544-3191           48                     0.93   \n",
       "\n",
       "                       for_top                         for_bottom  \\\n",
       "0          Biological Sciences      Biochemistry and Cell Biology   \n",
       "1  Medical and Health Sciences  Public Health and Health Services   \n",
       "2  Medical and Health Sciences  Public Health and Health Services   \n",
       "3        Mathematical Sciences                         Statistics   \n",
       "4  Medical and Health Sciences                  Clinical Sciences   \n",
       "\n",
       "  open_access_versions  \n",
       "0                   []  \n",
       "1                   []  \n",
       "2                   []  \n",
       "3                   []  \n",
       "4                   []  "
      ]
     },
     "execution_count": 251,
     "metadata": {},
     "output_type": "execute_result"
    }
   ],
   "source": [
    "df_dimensions.head()"
   ]
  },
  {
   "cell_type": "code",
   "execution_count": 252,
   "metadata": {},
   "outputs": [],
   "source": [
    "df_dimensions.pmid = df_dimensions.pmid.astype(float)"
   ]
  },
  {
   "cell_type": "code",
   "execution_count": 253,
   "metadata": {},
   "outputs": [
    {
     "data": {
      "text/plain": [
       "(50026, 10)"
      ]
     },
     "execution_count": 253,
     "metadata": {},
     "output_type": "execute_result"
    }
   ],
   "source": [
    "df_dimensions.shape"
   ]
  },
  {
   "cell_type": "code",
   "execution_count": 254,
   "metadata": {},
   "outputs": [],
   "source": [
    "df_joined_doi = df_cord19[pd.notnull(df_cord19.doi)].merge(df_dimensions[pd.notnull(df_dimensions.doi)], how=\"inner\", left_on=\"doi\", right_on=\"doi\")"
   ]
  },
  {
   "cell_type": "code",
   "execution_count": 255,
   "metadata": {},
   "outputs": [
    {
     "data": {
      "text/plain": [
       "(43870, 35)"
      ]
     },
     "execution_count": 255,
     "metadata": {},
     "output_type": "execute_result"
    }
   ],
   "source": [
    "df_joined_doi.shape"
   ]
  },
  {
   "cell_type": "code",
   "execution_count": 256,
   "metadata": {},
   "outputs": [],
   "source": [
    "df_joined_pmid = df_cord19[pd.isnull(df_cord19.doi) & pd.notnull(df_cord19.pmid)].merge(df_dimensions[pd.isnull(df_dimensions.doi) & pd.notnull(df_dimensions.pmid)], how=\"inner\", left_on=\"pmid\", right_on=\"pmid\")"
   ]
  },
  {
   "cell_type": "code",
   "execution_count": 257,
   "metadata": {},
   "outputs": [
    {
     "data": {
      "text/plain": [
       "(960, 35)"
      ]
     },
     "execution_count": 257,
     "metadata": {},
     "output_type": "execute_result"
    }
   ],
   "source": [
    "df_joined_pmid.shape"
   ]
  },
  {
   "cell_type": "code",
   "execution_count": 258,
   "metadata": {},
   "outputs": [],
   "source": [
    "df_joined = pd.concat([df_joined_doi,df_joined_pmid])"
   ]
  },
  {
   "cell_type": "code",
   "execution_count": 259,
   "metadata": {},
   "outputs": [],
   "source": [
    "# nearly all publications from CORD-19 are in Dimensions"
   ]
  },
  {
   "cell_type": "code",
   "execution_count": 260,
   "metadata": {},
   "outputs": [
    {
     "data": {
      "text/plain": [
       "(44830, 38)"
      ]
     },
     "execution_count": 260,
     "metadata": {},
     "output_type": "execute_result"
    }
   ],
   "source": [
    "df_joined.shape"
   ]
  },
  {
   "cell_type": "code",
   "execution_count": 261,
   "metadata": {},
   "outputs": [
    {
     "data": {
      "text/plain": [
       "(46994, 26)"
      ]
     },
     "execution_count": 261,
     "metadata": {},
     "output_type": "execute_result"
    }
   ],
   "source": [
    "df_cord19.shape"
   ]
  },
  {
   "cell_type": "code",
   "execution_count": 262,
   "metadata": {},
   "outputs": [
    {
     "data": {
      "image/png": "[encoded data removed]",
      "text/plain": [
       "<Figure size 432x288 with 1 Axes>"
      ]
     },
     "metadata": {},
     "output_type": "display_data"
    }
   ],
   "source": [
    "# publication type\n",
    "\n",
    "df_sub = df_joined[df_joined.publication_type.isin(df_joined.publication_type.value_counts()[:10].index.tolist())]\n",
    "b = sns.countplot(y=\"publication_type\", data=df_sub, order=df_sub['publication_type'].value_counts().index)\n",
    "#b.axes.set_title(\"Title\",fontsize=50)\n",
    "b.set_xlabel(\"Count\",fontsize=15)\n",
    "b.set_ylabel(\"Publication type\",fontsize=15)\n",
    "b.tick_params(labelsize=12)\n",
    "plt.tight_layout()\n",
    "plt.savefig(\"figures/dim_pub_type.pdf\")"
   ]
  },
  {
   "cell_type": "markdown",
   "metadata": {},
   "source": [
    "#### Citation counts"
   ]
  },
  {
   "cell_type": "code",
   "execution_count": 263,
   "metadata": {},
   "outputs": [
    {
     "data": {
      "image/png": "[encoded data removed]",
      "text/plain": [
       "<Figure size 432x288 with 1 Axes>"
      ]
     },
     "metadata": {},
     "output_type": "display_data"
    }
   ],
   "source": [
    "# scatter of citations vs time of publication\n",
    "\n",
    "sns.scatterplot(df_joined.publication_year.to_list(),df_joined.times_cited.to_list())\n",
    "plt.xlabel(\"Year\", fontsize=15)\n",
    "plt.ylabel(\"Count\", fontsize=15)\n",
    "plt.tight_layout()\n",
    "plt.savefig(\"figures/dim_citations_year.pdf\")"
   ]
  },
  {
   "cell_type": "code",
   "execution_count": 264,
   "metadata": {},
   "outputs": [
    {
     "data": {
      "text/html": [
       "<div>\n",
       "<style scoped>\n",
       "    .dataframe tbody tr th:only-of-type {\n",
       "        vertical-align: middle;\n",
       "    }\n",
       "\n",
       "    .dataframe tbody tr th {\n",
       "        vertical-align: top;\n",
       "    }\n",
       "\n",
       "    .dataframe thead th {\n",
       "        text-align: right;\n",
       "    }\n",
       "</style>\n",
       "<table border=\"1\" class=\"dataframe\">\n",
       "  <thead>\n",
       "    <tr style=\"text-align: right;\">\n",
       "      <th></th>\n",
       "      <th>title</th>\n",
       "      <th>times_cited</th>\n",
       "      <th>relative_citation_ratio</th>\n",
       "      <th>journal</th>\n",
       "      <th>publication_year</th>\n",
       "      <th>doi</th>\n",
       "    </tr>\n",
       "  </thead>\n",
       "  <tbody>\n",
       "    <tr>\n",
       "      <th>19136</th>\n",
       "      <td>Epidemiology and causes of preterm birth</td>\n",
       "      <td>3552</td>\n",
       "      <td>118.21</td>\n",
       "      <td>The Lancet</td>\n",
       "      <td>2008.0</td>\n",
       "      <td>10.1016/s0140-6736(08)60074-4</td>\n",
       "    </tr>\n",
       "    <tr>\n",
       "      <th>22994</th>\n",
       "      <td>Global trends in emerging infectious diseases</td>\n",
       "      <td>2809</td>\n",
       "      <td>69.92</td>\n",
       "      <td>Nature</td>\n",
       "      <td>2008.0</td>\n",
       "      <td>10.1038/nature06536</td>\n",
       "    </tr>\n",
       "    <tr>\n",
       "      <th>25210</th>\n",
       "      <td>Guidelines for the use and interpretation of a...</td>\n",
       "      <td>2656</td>\n",
       "      <td>207.85</td>\n",
       "      <td>Autophagy</td>\n",
       "      <td>2016.0</td>\n",
       "      <td>10.1080/15548627.2015.1100356</td>\n",
       "    </tr>\n",
       "    <tr>\n",
       "      <th>18737</th>\n",
       "      <td>Biology of Natural Killer Cells</td>\n",
       "      <td>2359</td>\n",
       "      <td>47.86</td>\n",
       "      <td>Advances in Immunology</td>\n",
       "      <td>1989.0</td>\n",
       "      <td>10.1016/s0065-2776(08)60664-1</td>\n",
       "    </tr>\n",
       "    <tr>\n",
       "      <th>23273</th>\n",
       "      <td>Knocking down barriers: advances in siRNA deli...</td>\n",
       "      <td>1905</td>\n",
       "      <td>47.47</td>\n",
       "      <td>Nat Rev Drug Discov</td>\n",
       "      <td>2009.0</td>\n",
       "      <td>10.1038/nrd2742</td>\n",
       "    </tr>\n",
       "    <tr>\n",
       "      <th>11316</th>\n",
       "      <td>Antimicrobial activity of flavonoids</td>\n",
       "      <td>1702</td>\n",
       "      <td>34.92</td>\n",
       "      <td>International Journal of Antimicrobial Agents</td>\n",
       "      <td>2005.0</td>\n",
       "      <td>10.1016/j.ijantimicag.2005.09.002</td>\n",
       "    </tr>\n",
       "    <tr>\n",
       "      <th>18923</th>\n",
       "      <td>Coronavirus as a possible cause of severe acut...</td>\n",
       "      <td>1544</td>\n",
       "      <td>34.22</td>\n",
       "      <td>The Lancet</td>\n",
       "      <td>2003.0</td>\n",
       "      <td>10.1016/s0140-6736(03)13077-2</td>\n",
       "    </tr>\n",
       "    <tr>\n",
       "      <th>24490</th>\n",
       "      <td>Isolation of a novel coronavirus from a man wi...</td>\n",
       "      <td>1506</td>\n",
       "      <td>56.44</td>\n",
       "      <td>New England Journal of Medicine</td>\n",
       "      <td>2012.0</td>\n",
       "      <td>10.1056/nejmoa1211721</td>\n",
       "    </tr>\n",
       "    <tr>\n",
       "      <th>7359</th>\n",
       "      <td>2007 Guideline for Isolation Precautions: Prev...</td>\n",
       "      <td>1488</td>\n",
       "      <td>36.50</td>\n",
       "      <td>American Journal of Infection Control</td>\n",
       "      <td>2007.0</td>\n",
       "      <td>10.1016/j.ajic.2007.10.007</td>\n",
       "    </tr>\n",
       "    <tr>\n",
       "      <th>22638</th>\n",
       "      <td>A newly discovered human pneumovirus isolated ...</td>\n",
       "      <td>1419</td>\n",
       "      <td>32.75</td>\n",
       "      <td>Nat Med</td>\n",
       "      <td>2001.0</td>\n",
       "      <td>10.1038/89098</td>\n",
       "    </tr>\n",
       "    <tr>\n",
       "      <th>14214</th>\n",
       "      <td>Antioxidant activity and phenolic compounds of...</td>\n",
       "      <td>1382</td>\n",
       "      <td>24.72</td>\n",
       "      <td>Life Sciences</td>\n",
       "      <td>2004.0</td>\n",
       "      <td>10.1016/j.lfs.2003.09.047</td>\n",
       "    </tr>\n",
       "    <tr>\n",
       "      <th>3769</th>\n",
       "      <td>High serum procalcitonin concentrations in pat...</td>\n",
       "      <td>1349</td>\n",
       "      <td>40.78</td>\n",
       "      <td>The Lancet</td>\n",
       "      <td>1993.0</td>\n",
       "      <td>10.1016/0140-6736(93)90277-n</td>\n",
       "    </tr>\n",
       "    <tr>\n",
       "      <th>15279</th>\n",
       "      <td>The structure and dynamics of multilayer networks</td>\n",
       "      <td>1327</td>\n",
       "      <td>NaN</td>\n",
       "      <td>Physics Reports</td>\n",
       "      <td>2014.0</td>\n",
       "      <td>10.1016/j.physrep.2014.07.001</td>\n",
       "    </tr>\n",
       "    <tr>\n",
       "      <th>26171</th>\n",
       "      <td>Reference sequence (RefSeq) database at NCBI: ...</td>\n",
       "      <td>1315</td>\n",
       "      <td>78.64</td>\n",
       "      <td>Nucleic Acids Res</td>\n",
       "      <td>2016.0</td>\n",
       "      <td>10.1093/nar/gkv1189</td>\n",
       "    </tr>\n",
       "    <tr>\n",
       "      <th>20623</th>\n",
       "      <td>A knowledge base for predicting protein locali...</td>\n",
       "      <td>1261</td>\n",
       "      <td>29.56</td>\n",
       "      <td>Genomics</td>\n",
       "      <td>1992.0</td>\n",
       "      <td>10.1016/s0888-7543(05)80111-9</td>\n",
       "    </tr>\n",
       "    <tr>\n",
       "      <th>23320</th>\n",
       "      <td>Interferon-inducible antiviral effectors</td>\n",
       "      <td>1249</td>\n",
       "      <td>29.22</td>\n",
       "      <td>Nature Reviews Immunology</td>\n",
       "      <td>2008.0</td>\n",
       "      <td>10.1038/nri2314</td>\n",
       "    </tr>\n",
       "    <tr>\n",
       "      <th>4429</th>\n",
       "      <td>Molecular profile of reactive astrocytes—Impli...</td>\n",
       "      <td>1199</td>\n",
       "      <td>32.77</td>\n",
       "      <td>Neuroscience</td>\n",
       "      <td>1993.0</td>\n",
       "      <td>10.1016/0306-4522(93)90380-x</td>\n",
       "    </tr>\n",
       "    <tr>\n",
       "      <th>19885</th>\n",
       "      <td>Statistical methods for detecting molecular ad...</td>\n",
       "      <td>1137</td>\n",
       "      <td>20.37</td>\n",
       "      <td>Trends in Ecology &amp; Evolution</td>\n",
       "      <td>2000.0</td>\n",
       "      <td>10.1016/s0169-5347(00)01994-7</td>\n",
       "    </tr>\n",
       "    <tr>\n",
       "      <th>29051</th>\n",
       "      <td>The Influence of a Sense of Time on Human Deve...</td>\n",
       "      <td>1122</td>\n",
       "      <td>19.77</td>\n",
       "      <td>Science</td>\n",
       "      <td>2006.0</td>\n",
       "      <td>10.1126/science.1127488</td>\n",
       "    </tr>\n",
       "    <tr>\n",
       "      <th>3757</th>\n",
       "      <td>Molecular mimicry in T cell-mediated autoimmun...</td>\n",
       "      <td>1118</td>\n",
       "      <td>22.32</td>\n",
       "      <td>Cell</td>\n",
       "      <td>1995.0</td>\n",
       "      <td>10.1016/0092-8674(95)90348-8</td>\n",
       "    </tr>\n",
       "  </tbody>\n",
       "</table>\n",
       "</div>"
      ],
      "text/plain": [
       "                                                   title  times_cited  \\\n",
       "19136           Epidemiology and causes of preterm birth         3552   \n",
       "22994      Global trends in emerging infectious diseases         2809   \n",
       "25210  Guidelines for the use and interpretation of a...         2656   \n",
       "18737                    Biology of Natural Killer Cells         2359   \n",
       "23273  Knocking down barriers: advances in siRNA deli...         1905   \n",
       "11316               Antimicrobial activity of flavonoids         1702   \n",
       "18923  Coronavirus as a possible cause of severe acut...         1544   \n",
       "24490  Isolation of a novel coronavirus from a man wi...         1506   \n",
       "7359   2007 Guideline for Isolation Precautions: Prev...         1488   \n",
       "22638  A newly discovered human pneumovirus isolated ...         1419   \n",
       "14214  Antioxidant activity and phenolic compounds of...         1382   \n",
       "3769   High serum procalcitonin concentrations in pat...         1349   \n",
       "15279  The structure and dynamics of multilayer networks         1327   \n",
       "26171  Reference sequence (RefSeq) database at NCBI: ...         1315   \n",
       "20623  A knowledge base for predicting protein locali...         1261   \n",
       "23320           Interferon-inducible antiviral effectors         1249   \n",
       "4429   Molecular profile of reactive astrocytes—Impli...         1199   \n",
       "19885  Statistical methods for detecting molecular ad...         1137   \n",
       "29051  The Influence of a Sense of Time on Human Deve...         1122   \n",
       "3757   Molecular mimicry in T cell-mediated autoimmun...         1118   \n",
       "\n",
       "       relative_citation_ratio                                        journal  \\\n",
       "19136                   118.21                                     The Lancet   \n",
       "22994                    69.92                                         Nature   \n",
       "25210                   207.85                                      Autophagy   \n",
       "18737                    47.86                         Advances in Immunology   \n",
       "23273                    47.47                            Nat Rev Drug Discov   \n",
       "11316                    34.92  International Journal of Antimicrobial Agents   \n",
       "18923                    34.22                                     The Lancet   \n",
       "24490                    56.44                New England Journal of Medicine   \n",
       "7359                     36.50          American Journal of Infection Control   \n",
       "22638                    32.75                                        Nat Med   \n",
       "14214                    24.72                                  Life Sciences   \n",
       "3769                     40.78                                     The Lancet   \n",
       "15279                      NaN                                Physics Reports   \n",
       "26171                    78.64                              Nucleic Acids Res   \n",
       "20623                    29.56                                       Genomics   \n",
       "23320                    29.22                      Nature Reviews Immunology   \n",
       "4429                     32.77                                   Neuroscience   \n",
       "19885                    20.37                  Trends in Ecology & Evolution   \n",
       "29051                    19.77                                        Science   \n",
       "3757                     22.32                                           Cell   \n",
       "\n",
       "       publication_year                                doi  \n",
       "19136            2008.0      10.1016/s0140-6736(08)60074-4  \n",
       "22994            2008.0                10.1038/nature06536  \n",
       "25210            2016.0      10.1080/15548627.2015.1100356  \n",
       "18737            1989.0      10.1016/s0065-2776(08)60664-1  \n",
       "23273            2009.0                    10.1038/nrd2742  \n",
       "11316            2005.0  10.1016/j.ijantimicag.2005.09.002  \n",
       "18923            2003.0      10.1016/s0140-6736(03)13077-2  \n",
       "24490            2012.0              10.1056/nejmoa1211721  \n",
       "7359             2007.0         10.1016/j.ajic.2007.10.007  \n",
       "22638            2001.0                      10.1038/89098  \n",
       "14214            2004.0          10.1016/j.lfs.2003.09.047  \n",
       "3769             1993.0       10.1016/0140-6736(93)90277-n  \n",
       "15279            2014.0      10.1016/j.physrep.2014.07.001  \n",
       "26171            2016.0                10.1093/nar/gkv1189  \n",
       "20623            1992.0      10.1016/s0888-7543(05)80111-9  \n",
       "23320            2008.0                    10.1038/nri2314  \n",
       "4429             1993.0       10.1016/0306-4522(93)90380-x  \n",
       "19885            2000.0      10.1016/s0169-5347(00)01994-7  \n",
       "29051            2006.0            10.1126/science.1127488  \n",
       "3757             1995.0       10.1016/0092-8674(95)90348-8  "
      ]
     },
     "execution_count": 264,
     "metadata": {},
     "output_type": "execute_result"
    }
   ],
   "source": [
    "# most cited papers\n",
    "\n",
    "df_joined[[\"title\",\"times_cited\",\"relative_citation_ratio\",\"journal\",\"publication_year\",\"doi\"]].sort_values(\"times_cited\",ascending=False).head(20)"
   ]
  },
  {
   "cell_type": "code",
   "execution_count": 265,
   "metadata": {},
   "outputs": [
    {
     "data": {
      "text/html": [
       "<div>\n",
       "<style scoped>\n",
       "    .dataframe tbody tr th:only-of-type {\n",
       "        vertical-align: middle;\n",
       "    }\n",
       "\n",
       "    .dataframe tbody tr th {\n",
       "        vertical-align: top;\n",
       "    }\n",
       "\n",
       "    .dataframe thead th {\n",
       "        text-align: right;\n",
       "    }\n",
       "</style>\n",
       "<table border=\"1\" class=\"dataframe\">\n",
       "  <thead>\n",
       "    <tr style=\"text-align: right;\">\n",
       "      <th></th>\n",
       "      <th>title</th>\n",
       "      <th>times_cited</th>\n",
       "      <th>relative_citation_ratio</th>\n",
       "      <th>journal</th>\n",
       "      <th>publication_year</th>\n",
       "      <th>doi</th>\n",
       "    </tr>\n",
       "  </thead>\n",
       "  <tbody>\n",
       "    <tr>\n",
       "      <th>19362</th>\n",
       "      <td>Clinical features of patients infected with 20...</td>\n",
       "      <td>838</td>\n",
       "      <td>NaN</td>\n",
       "      <td>The Lancet</td>\n",
       "      <td>2020.0</td>\n",
       "      <td>10.1016/s0140-6736(20)30183-5</td>\n",
       "    </tr>\n",
       "    <tr>\n",
       "      <th>19361</th>\n",
       "      <td>Clinical features of patients infected with 20...</td>\n",
       "      <td>838</td>\n",
       "      <td>NaN</td>\n",
       "      <td>The Lancet</td>\n",
       "      <td>2020.0</td>\n",
       "      <td>10.1016/s0140-6736(20)30183-5</td>\n",
       "    </tr>\n",
       "    <tr>\n",
       "      <th>24497</th>\n",
       "      <td>A Novel Coronavirus from Patients with Pneumon...</td>\n",
       "      <td>571</td>\n",
       "      <td>NaN</td>\n",
       "      <td>New England Journal of Medicine</td>\n",
       "      <td>2020.0</td>\n",
       "      <td>10.1056/nejmoa2001017</td>\n",
       "    </tr>\n",
       "    <tr>\n",
       "      <th>24499</th>\n",
       "      <td>Early Transmission Dynamics in Wuhan, China, o...</td>\n",
       "      <td>500</td>\n",
       "      <td>NaN</td>\n",
       "      <td>New England Journal of Medicine</td>\n",
       "      <td>2020.0</td>\n",
       "      <td>10.1056/nejmoa2001316</td>\n",
       "    </tr>\n",
       "    <tr>\n",
       "      <th>19368</th>\n",
       "      <td>Epidemiological and clinical characteristics o...</td>\n",
       "      <td>455</td>\n",
       "      <td>NaN</td>\n",
       "      <td>The Lancet</td>\n",
       "      <td>2020.0</td>\n",
       "      <td>10.1016/s0140-6736(20)30211-7</td>\n",
       "    </tr>\n",
       "    <tr>\n",
       "      <th>19369</th>\n",
       "      <td>Epidemiological and clinical characteristics o...</td>\n",
       "      <td>455</td>\n",
       "      <td>NaN</td>\n",
       "      <td>The Lancet</td>\n",
       "      <td>2020.0</td>\n",
       "      <td>10.1016/s0140-6736(20)30211-7</td>\n",
       "    </tr>\n",
       "    <tr>\n",
       "      <th>10</th>\n",
       "      <td>Clinical Characteristics of 138 Hospitalized P...</td>\n",
       "      <td>427</td>\n",
       "      <td>NaN</td>\n",
       "      <td>JAMA</td>\n",
       "      <td>2020.0</td>\n",
       "      <td>10.1001/jama.2020.1585</td>\n",
       "    </tr>\n",
       "    <tr>\n",
       "      <th>19360</th>\n",
       "      <td>A familial cluster of pneumonia associated wit...</td>\n",
       "      <td>331</td>\n",
       "      <td>NaN</td>\n",
       "      <td>The Lancet</td>\n",
       "      <td>2020.0</td>\n",
       "      <td>10.1016/s0140-6736(20)30154-9</td>\n",
       "    </tr>\n",
       "    <tr>\n",
       "      <th>19359</th>\n",
       "      <td>A familial cluster of pneumonia associated wit...</td>\n",
       "      <td>331</td>\n",
       "      <td>NaN</td>\n",
       "      <td>The Lancet</td>\n",
       "      <td>2020.0</td>\n",
       "      <td>10.1016/s0140-6736(20)30154-9</td>\n",
       "    </tr>\n",
       "    <tr>\n",
       "      <th>23652</th>\n",
       "      <td>A pneumonia outbreak associated with a new cor...</td>\n",
       "      <td>321</td>\n",
       "      <td>NaN</td>\n",
       "      <td>Nature</td>\n",
       "      <td>2020.0</td>\n",
       "      <td>10.1038/s41586-020-2012-7</td>\n",
       "    </tr>\n",
       "  </tbody>\n",
       "</table>\n",
       "</div>"
      ],
      "text/plain": [
       "                                                   title  times_cited  \\\n",
       "19362  Clinical features of patients infected with 20...          838   \n",
       "19361  Clinical features of patients infected with 20...          838   \n",
       "24497  A Novel Coronavirus from Patients with Pneumon...          571   \n",
       "24499  Early Transmission Dynamics in Wuhan, China, o...          500   \n",
       "19368  Epidemiological and clinical characteristics o...          455   \n",
       "19369  Epidemiological and clinical characteristics o...          455   \n",
       "10     Clinical Characteristics of 138 Hospitalized P...          427   \n",
       "19360  A familial cluster of pneumonia associated wit...          331   \n",
       "19359  A familial cluster of pneumonia associated wit...          331   \n",
       "23652  A pneumonia outbreak associated with a new cor...          321   \n",
       "\n",
       "       relative_citation_ratio                          journal  \\\n",
       "19362                      NaN                       The Lancet   \n",
       "19361                      NaN                       The Lancet   \n",
       "24497                      NaN  New England Journal of Medicine   \n",
       "24499                      NaN  New England Journal of Medicine   \n",
       "19368                      NaN                       The Lancet   \n",
       "19369                      NaN                       The Lancet   \n",
       "10                         NaN                             JAMA   \n",
       "19360                      NaN                       The Lancet   \n",
       "19359                      NaN                       The Lancet   \n",
       "23652                      NaN                           Nature   \n",
       "\n",
       "       publication_year                            doi  \n",
       "19362            2020.0  10.1016/s0140-6736(20)30183-5  \n",
       "19361            2020.0  10.1016/s0140-6736(20)30183-5  \n",
       "24497            2020.0          10.1056/nejmoa2001017  \n",
       "24499            2020.0          10.1056/nejmoa2001316  \n",
       "19368            2020.0  10.1016/s0140-6736(20)30211-7  \n",
       "19369            2020.0  10.1016/s0140-6736(20)30211-7  \n",
       "10               2020.0         10.1001/jama.2020.1585  \n",
       "19360            2020.0  10.1016/s0140-6736(20)30154-9  \n",
       "19359            2020.0  10.1016/s0140-6736(20)30154-9  \n",
       "23652            2020.0      10.1038/s41586-020-2012-7  "
      ]
     },
     "execution_count": 265,
     "metadata": {},
     "output_type": "execute_result"
    }
   ],
   "source": [
    "# same but in 2020; note that duplicates are due to SI or pre-prints with different PMIDs\n",
    "\n",
    "df_joined[df_joined.publication_year>2019][[\"title\",\"times_cited\",\"relative_citation_ratio\",\"journal\",\"publication_year\",\"doi\"]].sort_values(\"times_cited\",ascending=False).head(10)"
   ]
  },
  {
   "cell_type": "code",
   "execution_count": 266,
   "metadata": {},
   "outputs": [
    {
     "data": {
      "text/html": [
       "<div>\n",
       "<style scoped>\n",
       "    .dataframe tbody tr th:only-of-type {\n",
       "        vertical-align: middle;\n",
       "    }\n",
       "\n",
       "    .dataframe tbody tr th {\n",
       "        vertical-align: top;\n",
       "    }\n",
       "\n",
       "    .dataframe thead th {\n",
       "        text-align: right;\n",
       "    }\n",
       "</style>\n",
       "<table border=\"1\" class=\"dataframe\">\n",
       "  <thead>\n",
       "    <tr style=\"text-align: right;\">\n",
       "      <th></th>\n",
       "      <th>times_cited</th>\n",
       "    </tr>\n",
       "    <tr>\n",
       "      <th>journal</th>\n",
       "      <th></th>\n",
       "    </tr>\n",
       "  </thead>\n",
       "  <tbody>\n",
       "    <tr>\n",
       "      <th>Journal of Virology</th>\n",
       "      <td>77287</td>\n",
       "    </tr>\n",
       "    <tr>\n",
       "      <th>The Lancet</th>\n",
       "      <td>39295</td>\n",
       "    </tr>\n",
       "    <tr>\n",
       "      <th>Proceedings of the National Academy of Sciences</th>\n",
       "      <td>34907</td>\n",
       "    </tr>\n",
       "    <tr>\n",
       "      <th>PLoS One</th>\n",
       "      <td>34850</td>\n",
       "    </tr>\n",
       "    <tr>\n",
       "      <th>Virology</th>\n",
       "      <td>33602</td>\n",
       "    </tr>\n",
       "    <tr>\n",
       "      <th>Emerg Infect Dis</th>\n",
       "      <td>31294</td>\n",
       "    </tr>\n",
       "    <tr>\n",
       "      <th>Nature</th>\n",
       "      <td>22220</td>\n",
       "    </tr>\n",
       "    <tr>\n",
       "      <th>PLoS Pathog</th>\n",
       "      <td>19189</td>\n",
       "    </tr>\n",
       "    <tr>\n",
       "      <th>Journal of Clinical Microbiology</th>\n",
       "      <td>15821</td>\n",
       "    </tr>\n",
       "    <tr>\n",
       "      <th>Cell</th>\n",
       "      <td>14397</td>\n",
       "    </tr>\n",
       "    <tr>\n",
       "      <th>Virus Research</th>\n",
       "      <td>11639</td>\n",
       "    </tr>\n",
       "    <tr>\n",
       "      <th>Nucleic Acids Res</th>\n",
       "      <td>11551</td>\n",
       "    </tr>\n",
       "    <tr>\n",
       "      <th>Arch Virol</th>\n",
       "      <td>11359</td>\n",
       "    </tr>\n",
       "    <tr>\n",
       "      <th>The Lancet Infectious Diseases</th>\n",
       "      <td>9952</td>\n",
       "    </tr>\n",
       "    <tr>\n",
       "      <th>Veterinary Microbiology</th>\n",
       "      <td>9734</td>\n",
       "    </tr>\n",
       "    <tr>\n",
       "      <th>Vaccine</th>\n",
       "      <td>9403</td>\n",
       "    </tr>\n",
       "    <tr>\n",
       "      <th>Clinical Microbiology Reviews</th>\n",
       "      <td>9304</td>\n",
       "    </tr>\n",
       "    <tr>\n",
       "      <th>New England Journal of Medicine</th>\n",
       "      <td>8114</td>\n",
       "    </tr>\n",
       "    <tr>\n",
       "      <th>Antiviral Research</th>\n",
       "      <td>7949</td>\n",
       "    </tr>\n",
       "    <tr>\n",
       "      <th>Nat Rev Microbiol</th>\n",
       "      <td>7846</td>\n",
       "    </tr>\n",
       "  </tbody>\n",
       "</table>\n",
       "</div>"
      ],
      "text/plain": [
       "                                                 times_cited\n",
       "journal                                                     \n",
       "Journal of Virology                                    77287\n",
       "The Lancet                                             39295\n",
       "Proceedings of the National Academy of Sciences        34907\n",
       "PLoS One                                               34850\n",
       "Virology                                               33602\n",
       "Emerg Infect Dis                                       31294\n",
       "Nature                                                 22220\n",
       "PLoS Pathog                                            19189\n",
       "Journal of Clinical Microbiology                       15821\n",
       "Cell                                                   14397\n",
       "Virus Research                                         11639\n",
       "Nucleic Acids Res                                      11551\n",
       "Arch Virol                                             11359\n",
       "The Lancet Infectious Diseases                          9952\n",
       "Veterinary Microbiology                                 9734\n",
       "Vaccine                                                 9403\n",
       "Clinical Microbiology Reviews                           9304\n",
       "New England Journal of Medicine                         8114\n",
       "Antiviral Research                                      7949\n",
       "Nat Rev Microbiol                                       7846"
      ]
     },
     "execution_count": 266,
     "metadata": {},
     "output_type": "execute_result"
    }
   ],
   "source": [
    "# most cited journals\n",
    "\n",
    "df_joined[['journal','times_cited']].groupby('journal').sum().sort_values('times_cited',ascending=False).head(20)"
   ]
  },
  {
   "cell_type": "markdown",
   "metadata": {},
   "source": [
    "#### Categories"
   ]
  },
  {
   "cell_type": "code",
   "execution_count": 278,
   "metadata": {},
   "outputs": [
    {
     "data": {
      "image/png": "[encoded data removed]",
      "text/plain": [
       "<Figure size 432x288 with 1 Axes>"
      ]
     },
     "metadata": {},
     "output_type": "display_data"
    }
   ],
   "source": [
    "# FOR jeywords distribution, TOP\n",
    "\n",
    "df_sub = df_joined[df_joined.for_top.isin(df_joined.for_top.value_counts()[:20].index.tolist())]\n",
    "b = sns.countplot(y=\"for_top\", data=df_sub, order=df_sub['for_top'].value_counts().index)\n",
    "#b.axes.set_title(\"Title\",fontsize=50)\n",
    "b.set_xlabel(\"Count\",fontsize=15)\n",
    "b.set_ylabel(\"FOR first level\",fontsize=15)\n",
    "b.tick_params(labelsize=12)\n",
    "plt.tight_layout()\n",
    "plt.savefig(\"figures/dim_for_top.pdf\")"
   ]
  },
  {
   "cell_type": "code",
   "execution_count": 279,
   "metadata": {},
   "outputs": [
    {
     "data": {
      "image/png": "[encoded data removed]",
      "text/plain": [
       "<Figure size 432x288 with 1 Axes>"
      ]
     },
     "metadata": {},
     "output_type": "display_data"
    }
   ],
   "source": [
    "# FOR jeywords distribution, TOP\n",
    "\n",
    "df_sub = df_joined[df_joined.for_bottom.isin(df_joined.for_bottom.value_counts()[:20].index.tolist())]\n",
    "b = sns.countplot(y=\"for_bottom\", data=df_sub, order=df_sub['for_bottom'].value_counts().index)\n",
    "#b.axes.set_title(\"Title\",fontsize=50)\n",
    "b.set_xlabel(\"Count\",fontsize=15)\n",
    "b.set_ylabel(\"FOR second level\",fontsize=15)\n",
    "b.tick_params(labelsize=12)\n",
    "plt.tight_layout()\n",
    "plt.savefig(\"figures/dim_for_bottom.pdf\")"
   ]
  },
  {
   "cell_type": "code",
   "execution_count": null,
   "metadata": {},
   "outputs": [],
   "source": []
  }
 ],
 "metadata": {
  "kernelspec": {
   "display_name": "covid",
   "language": "python",
   "name": "covid"
  },
  "language_info": {
   "codemirror_mode": {
    "name": "ipython",
    "version": 3
   },
   "file_extension": ".py",
   "mimetype": "text/x-python",
   "name": "python",
   "nbconvert_exporter": "python",
   "pygments_lexer": "ipython3",
   "version": "3.7.6"
  }
 },
 "nbformat": 4,
 "nbformat_minor": 4
}
